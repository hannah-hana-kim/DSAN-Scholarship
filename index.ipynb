{
 "cells": [
  {
   "cell_type": "raw",
   "metadata": {
    "vscode": {
     "languageId": "raw"
    }
   },
   "source": [
    "---\n",
    "title: DSAN 2024 Scholarship\n",
    "author: Hannah Kim\n",
    "format:\n",
    "    html:\n",
    "        embed-resources: true\n",
    "---"
   ]
  },
  {
   "cell_type": "markdown",
   "metadata": {},
   "source": [
    "## Introduction\n",
    "\n",
    "### What can we learn from this dataset?\n",
    "\n",
    "This data is contained with climate data including greenery data, and weather data from 1980 to 2024 in Natural Bridges National Monument.\n",
    "I am going to analyze the findings from this dataset and try to answer the following questions:\n",
    "\n",
    "1. What is the trend of temperature in Natural Bridges National Monument?\n",
    "2. What is the trend of precipitation in Natural Bridges National Monument?\n",
    "3. What is the trend of greenery in Natural Bridges National Monument?\n",
    "4. What is the relationship between temperature and precipitation?\n",
    "5. What is the relationship between temperature and greenery?\n",
    "6. What is the relationship between precipitation and greenery?\n",
    "7. What is the relationship between temperature, precipitation, and greenery?"
   ]
  },
  {
   "cell_type": "markdown",
   "metadata": {},
   "source": [
    "### Greenery areas\n",
    "\n",
    "used columns: tree canopy, ann_herb, bare, herb, litter, shrub"
   ]
  },
  {
   "cell_type": "markdown",
   "metadata": {},
   "source": [
    "### VWC: Volumeric Water Content\n",
    "\n",
    "used columns: vwc columns"
   ]
  },
  {
   "cell_type": "markdown",
   "metadata": {},
   "source": [
    "### Summer \n",
    "\n",
    "used columns: dry soil days summer whole, evap_summer, extreme short term dry stress summer whole, non dry swa\n"
   ]
  },
  {
   "cell_type": "markdown",
   "metadata": {},
   "source": [
    "#### Summer vs. Winter\n",
    "\n",
    "used columns: precipitation, temperature"
   ]
  },
  {
   "cell_type": "markdown",
   "metadata": {},
   "source": [
    "## Can we predict the future climate change?"
   ]
  },
  {
   "cell_type": "code",
   "execution_count": null,
   "metadata": {},
   "outputs": [],
   "source": []
  },
  {
   "cell_type": "code",
   "execution_count": null,
   "metadata": {},
   "outputs": [],
   "source": []
  },
  {
   "cell_type": "code",
   "execution_count": null,
   "metadata": {},
   "outputs": [],
   "source": []
  },
  {
   "cell_type": "code",
   "execution_count": null,
   "metadata": {},
   "outputs": [],
   "source": []
  }
 ],
 "metadata": {
  "kernelspec": {
   "display_name": "Python 3",
   "language": "python",
   "name": "python3"
  },
  "language_info": {
   "name": "python",
   "version": "3.11.8"
  }
 },
 "nbformat": 4,
 "nbformat_minor": 2
}
