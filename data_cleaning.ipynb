{
 "cells": [
  {
   "cell_type": "raw",
   "metadata": {
    "vscode": {
     "languageId": "raw"
    }
   },
   "source": [
    "---\n",
    "title: Data Cleaning\n",
    "author: Hannah Kim\n",
    "format: \n",
    "    html:\n",
    "        embed-resources: true\n",
    "---"
   ]
  },
  {
   "cell_type": "markdown",
   "metadata": {},
   "source": [
    "## Data Cleaning"
   ]
  },
  {
   "cell_type": "markdown",
   "metadata": {},
   "source": [
    "### Entire dataset"
   ]
  },
  {
   "cell_type": "code",
   "execution_count": null,
   "metadata": {},
   "outputs": [],
   "source": [
    "# import necessary libraries\n",
    "import numpy as np\n",
    "import pandas as pd\n",
    "import matplotlib.pyplot as plt\n",
    "import seaborn as sns"
   ]
  },
  {
   "cell_type": "code",
   "execution_count": null,
   "metadata": {},
   "outputs": [],
   "source": [
    "# load the entire dataset\n",
    "nabr = pd.read_csv('./data/NABR_historic.csv')\n",
    "nearterm = pd.read_csv('./data/nearterm_data_2020-2024.csv')"
   ]
  },
  {
   "cell_type": "code",
   "execution_count": null,
   "metadata": {},
   "outputs": [],
   "source": [
    "nabr.head()"
   ]
  },
  {
   "cell_type": "code",
   "execution_count": null,
   "metadata": {},
   "outputs": [],
   "source": [
    "nearterm.head()"
   ]
  },
  {
   "cell_type": "code",
   "execution_count": null,
   "metadata": {},
   "outputs": [],
   "source": [
    "# lowercase column names\n",
    "nabr.columns = nabr.columns.str.lower()\n",
    "nearterm.columns = nearterm.columns.str.lower()\n",
    "\n",
    "# merge the two datasets\n",
    "df = pd.concat([nabr, nearterm], axis=0)\n",
    "\n",
    "# save the cleaned data to a csv file\n",
    "df.to_csv('./data/cleaned_data/final_data.csv', index=False)"
   ]
  },
  {
   "cell_type": "code",
   "execution_count": null,
   "metadata": {},
   "outputs": [],
   "source": [
    "df.head()"
   ]
  },
  {
   "cell_type": "markdown",
   "metadata": {},
   "source": [
    "### Greenery Dataset"
   ]
  },
  {
   "cell_type": "code",
   "execution_count": null,
   "metadata": {},
   "outputs": [],
   "source": [
    "# Greenery data\n",
    "# extract the relevant data\n",
    "greenery_columns = ['long', 'lat', 'year', 'rcp', 'treecanopy', 'bare', 'herb', 'ann_herb', 'litter', 'shrub']\n",
    "greenery = df[greenery_columns]\n",
    "\n",
    "# calculate the total greenery\n",
    "greenery['total'] = greenery['treecanopy'] + greenery['herb'] + greenery['ann_herb'] + greenery['shrub'] + greenery['litter'] - greenery['bare'] \n",
    "\n",
    "# save the data to csv file\n",
    "greenery.to_csv('./data/cleaned_data/greenery_data.csv', index=False)"
   ]
  },
  {
   "cell_type": "markdown",
   "metadata": {},
   "source": [
    "### Plant Litter Dataset"
   ]
  },
  {
   "cell_type": "code",
   "execution_count": null,
   "metadata": {},
   "outputs": [],
   "source": [
    "# Plant litter dataset\n",
    "# extract the relevant data\n",
    "litter_columns = ['long', 'lat', 'year', 'rcp', 'litter', 't_winter', 't_summer', 't_annual']\n",
    "litter = df[litter_columns]\n",
    "litter = litter.drop_duplicates(subset=litter_columns)\n",
    "\n",
    "# # fill the null values with the mean\n",
    "# litter.loc[:, 't_winter'] = litter['t_winter'].fillna(litter['t_winter'].mean())\n",
    "# litter.loc[:, 't_summer'] = litter['t_summer'].fillna(litter['t_summer'].mean())\n",
    "# litter.loc[:, 't_annual'] = litter['t_annual'].fillna(litter['t_annual'].mean())\n",
    "\n",
    "# drop the null values\n",
    "litter = litter.dropna()\n",
    "\n",
    "# save the data to csv file\n",
    "litter.to_csv('./data/cleaned_data/litter_data.csv', index=False)\n",
    "\n",
    "litter"
   ]
  },
  {
   "cell_type": "markdown",
   "metadata": {},
   "source": [
    "### VWC Dataset"
   ]
  },
  {
   "cell_type": "code",
   "execution_count": null,
   "metadata": {},
   "outputs": [],
   "source": [
    "# VWC data\n",
    "# extract the relevant data\n",
    "vwc_columns = ['long', 'lat', 'year', 'rcp', 'evap_summer', 'vwc_winter_whole', 'vwc_spring_whole', 'vwc_summer_whole', 'vwc_fall_whole']\n",
    "vwc = df[vwc_columns]\n",
    "\n",
    "# deal with NaN values\n",
    "# fill the null values with the mean of the column\n",
    "null_columns = ['vwc_winter_whole', 'vwc_spring_whole', 'vwc_summer_whole', 'vwc_fall_whole']\n",
    "vwc.loc[:, null_columns] = vwc[null_columns].fillna(vwc[null_columns].mean())\n",
    "\n",
    "# save it to a new csv file\n",
    "vwc.to_csv('./data/cleaned_data/vwc_data.csv', index=False)"
   ]
  },
  {
   "cell_type": "markdown",
   "metadata": {},
   "source": [
    "### Summer Dataset"
   ]
  },
  {
   "cell_type": "code",
   "execution_count": null,
   "metadata": {},
   "outputs": [],
   "source": [
    "# summer related data\n",
    "# extract the relevant data\n",
    "summer_columns = ['long', 'lat', 'year', 'rcp', 'drysoildays_summer_whole', 'evap_summer', 'nondryswa_summer_whole', 'ppt_summer', 'tmax_summer', 'vwc_summer_whole']\n",
    "summer = df[summer_columns]\n",
    "\n",
    "# fill missing values with the mean\n",
    "summer.loc[:, 'drysoildays_summer_whole'] = summer['drysoildays_summer_whole'].fillna(summer['drysoildays_summer_whole'].mean())\n",
    "summer.loc[:, 'evap_summer'] = summer['evap_summer'].fillna(summer['evap_summer'].mean())\n",
    "summer.loc[:, 'nondryswa_summer_whole'] = summer['nondryswa_summer_whole'].fillna(summer['nondryswa_summer_whole'].mean())\n",
    "summer.loc[:, 'ppt_summer'] = summer['ppt_summer'].fillna(summer['ppt_summer'].mean())\n",
    "summer.loc[:, 'tmax_summer'] = summer['tmax_summer'].fillna(summer['tmax_summer'].mean())\n",
    "\n",
    "# round the columns\n",
    "summer = summer.round({'drysoildays_summer_whole': 3, 'evap_summer': 3, 'nondryswa_summer_whole': 3, 'ppt_summer': 3, 'tmax_summer': 3})\n",
    "\n",
    "# save the data to csv file\n",
    "summer.to_csv('./data/cleaned_data/summer_data.csv', index=False)"
   ]
  },
  {
   "cell_type": "markdown",
   "metadata": {},
   "source": [
    "### Summer vs. Winter Dataset"
   ]
  },
  {
   "cell_type": "code",
   "execution_count": null,
   "metadata": {},
   "outputs": [],
   "source": [
    "# summer vs. winter data\n",
    "# extract the relevant data\n",
    "summer_winter_columns = ['long', 'lat', 'year', 'rcp', 'ppt_annual', 'ppt_summer', 'ppt_winter', 't_summer', 't_winter', 'tmax_summer', 'tmin_winter']\n",
    "summer_winter = df[summer_winter_columns]\n",
    "\n",
    "# save the data to csv file\n",
    "summer_winter.to_csv('./data/cleaned_data/summer_winter_data.csv', index=False)"
   ]
  },
  {
   "cell_type": "code",
   "execution_count": null,
   "metadata": {},
   "outputs": [],
   "source": []
  }
 ],
 "metadata": {
  "kernelspec": {
   "display_name": "Python 3",
   "language": "python",
   "name": "python3"
  },
  "language_info": {
   "name": "python",
   "version": "3.11.8"
  }
 },
 "nbformat": 4,
 "nbformat_minor": 2
}
