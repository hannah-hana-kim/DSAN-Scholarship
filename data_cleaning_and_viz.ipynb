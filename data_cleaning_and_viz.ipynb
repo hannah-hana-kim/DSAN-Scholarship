{
 "cells": [
  {
   "cell_type": "raw",
   "metadata": {
    "vscode": {
     "languageId": "raw"
    }
   },
   "source": [
    "---\n",
    "title: Data Cleaning and Visualization\n",
    "author: Hannah Kim\n",
    "format: \n",
    "    html:\n",
    "        embed-resources: true\n",
    "---"
   ]
  },
  {
   "cell_type": "markdown",
   "metadata": {},
   "source": [
    "## Data Cleaning\n",
    "\n",
    "### The entire dataset"
   ]
  },
  {
   "cell_type": "code",
   "execution_count": 161,
   "metadata": {},
   "outputs": [],
   "source": [
    "# import necessary libraries\n",
    "import numpy as np\n",
    "import pandas as pd\n",
    "import matplotlib.pyplot as plt\n",
    "import seaborn as sns\n",
    "import folium\n",
    "from folium.plugins import HeatMap\n",
    "from folium.plugins import HeatMapWithTime, DualMap, TimeSliderChoropleth\n",
    "from IPython.display import HTML, Javascript, IFrame\n",
    "import branca\n",
    "import plotly.express as px\n",
    "import plotly.graph_objects as go\n",
    "from sklearn.preprocessing import MinMaxScaler\n",
    "import warnings \n",
    "warnings.filterwarnings('ignore')"
   ]
  },
  {
   "cell_type": "code",
   "execution_count": 2,
   "metadata": {},
   "outputs": [],
   "source": [
    "# load the entire dataset\n",
    "nabr = pd.read_csv('./data/NABR_historic.csv')\n",
    "nearterm = pd.read_csv('./data/nearterm_data_2020-2024.csv')"
   ]
  },
  {
   "cell_type": "code",
   "execution_count": 5,
   "metadata": {},
   "outputs": [],
   "source": [
    "# lowercase column names\n",
    "nabr.columns = nabr.columns.str.lower()\n",
    "nearterm.columns = nearterm.columns.str.lower()\n",
    "\n",
    "# merge the two datasets\n",
    "df = pd.concat([nabr, nearterm], axis=0)\n",
    "\n",
    "# save the cleaned data to a csv file\n",
    "df.to_csv('./data/cleaned_data/final_data.csv', index=False)"
   ]
  },
  {
   "cell_type": "markdown",
   "metadata": {},
   "source": [
    "### Greenery area dataset"
   ]
  },
  {
   "cell_type": "code",
   "execution_count": 203,
   "metadata": {},
   "outputs": [],
   "source": [
    "# Greenery data\n",
    "# extract the relevant data\n",
    "greenery_columns = ['long', 'lat', 'year', 'rcp', 'treecanopy', 'bare', 'herb', 'ann_herb', 'litter', 'shrub']\n",
    "greenery = df[greenery_columns]\n",
    "\n",
    "# calculate the total greenery\n",
    "greenery['total'] = greenery['treecanopy'] + greenery['herb'] + greenery['ann_herb'] + greenery['shrub'] + greenery['litter'] - greenery['bare'] \n",
    "\n",
    "# save the data to csv file\n",
    "greenery.to_csv('./data/cleaned_data/greenery_data.csv', index=False)"
   ]
  },
  {
   "cell_type": "markdown",
   "metadata": {},
   "source": [
    "### Plant litter dataset"
   ]
  },
  {
   "cell_type": "code",
   "execution_count": 35,
   "metadata": {},
   "outputs": [
    {
     "data": {
      "text/html": [
       "<div>\n",
       "<style scoped>\n",
       "    .dataframe tbody tr th:only-of-type {\n",
       "        vertical-align: middle;\n",
       "    }\n",
       "\n",
       "    .dataframe tbody tr th {\n",
       "        vertical-align: top;\n",
       "    }\n",
       "\n",
       "    .dataframe thead th {\n",
       "        text-align: right;\n",
       "    }\n",
       "</style>\n",
       "<table border=\"1\" class=\"dataframe\">\n",
       "  <thead>\n",
       "    <tr style=\"text-align: right;\">\n",
       "      <th></th>\n",
       "      <th>long</th>\n",
       "      <th>lat</th>\n",
       "      <th>year</th>\n",
       "      <th>rcp</th>\n",
       "      <th>litter</th>\n",
       "      <th>t_winter</th>\n",
       "      <th>t_summer</th>\n",
       "      <th>t_annual</th>\n",
       "    </tr>\n",
       "  </thead>\n",
       "  <tbody>\n",
       "    <tr>\n",
       "      <th>0</th>\n",
       "      <td>-110.0472</td>\n",
       "      <td>37.60413</td>\n",
       "      <td>1980</td>\n",
       "      <td>historical</td>\n",
       "      <td>11</td>\n",
       "      <td>0.964835</td>\n",
       "      <td>23.15924</td>\n",
       "      <td>23.159240</td>\n",
       "    </tr>\n",
       "    <tr>\n",
       "      <th>1</th>\n",
       "      <td>-110.0472</td>\n",
       "      <td>37.60413</td>\n",
       "      <td>1980</td>\n",
       "      <td>historical</td>\n",
       "      <td>11</td>\n",
       "      <td>0.964835</td>\n",
       "      <td>23.15924</td>\n",
       "      <td>0.964835</td>\n",
       "    </tr>\n",
       "    <tr>\n",
       "      <th>5</th>\n",
       "      <td>-110.0472</td>\n",
       "      <td>37.60413</td>\n",
       "      <td>1981</td>\n",
       "      <td>historical</td>\n",
       "      <td>11</td>\n",
       "      <td>3.334444</td>\n",
       "      <td>23.27065</td>\n",
       "      <td>11.581320</td>\n",
       "    </tr>\n",
       "    <tr>\n",
       "      <th>7</th>\n",
       "      <td>-110.0472</td>\n",
       "      <td>37.60413</td>\n",
       "      <td>1982</td>\n",
       "      <td>historical</td>\n",
       "      <td>11</td>\n",
       "      <td>-0.015556</td>\n",
       "      <td>22.05707</td>\n",
       "      <td>9.472283</td>\n",
       "    </tr>\n",
       "    <tr>\n",
       "      <th>11</th>\n",
       "      <td>-110.0472</td>\n",
       "      <td>37.60413</td>\n",
       "      <td>1984</td>\n",
       "      <td>historical</td>\n",
       "      <td>11</td>\n",
       "      <td>-1.047253</td>\n",
       "      <td>21.95978</td>\n",
       "      <td>21.959780</td>\n",
       "    </tr>\n",
       "    <tr>\n",
       "      <th>...</th>\n",
       "      <td>...</td>\n",
       "      <td>...</td>\n",
       "      <td>...</td>\n",
       "      <td>...</td>\n",
       "      <td>...</td>\n",
       "      <td>...</td>\n",
       "      <td>...</td>\n",
       "      <td>...</td>\n",
       "    </tr>\n",
       "    <tr>\n",
       "      <th>55632</th>\n",
       "      <td>-109.9659</td>\n",
       "      <td>37.62525</td>\n",
       "      <td>2024</td>\n",
       "      <td>8.5</td>\n",
       "      <td>19</td>\n",
       "      <td>3.372912</td>\n",
       "      <td>23.75413</td>\n",
       "      <td>3.372912</td>\n",
       "    </tr>\n",
       "    <tr>\n",
       "      <th>55636</th>\n",
       "      <td>-109.9659</td>\n",
       "      <td>37.62525</td>\n",
       "      <td>2024</td>\n",
       "      <td>8.5</td>\n",
       "      <td>19</td>\n",
       "      <td>1.209121</td>\n",
       "      <td>23.48859</td>\n",
       "      <td>1.209121</td>\n",
       "    </tr>\n",
       "    <tr>\n",
       "      <th>55637</th>\n",
       "      <td>-109.9659</td>\n",
       "      <td>37.62525</td>\n",
       "      <td>2024</td>\n",
       "      <td>8.5</td>\n",
       "      <td>19</td>\n",
       "      <td>1.209121</td>\n",
       "      <td>23.48859</td>\n",
       "      <td>10.273350</td>\n",
       "    </tr>\n",
       "    <tr>\n",
       "      <th>55640</th>\n",
       "      <td>-109.9659</td>\n",
       "      <td>37.62525</td>\n",
       "      <td>2024</td>\n",
       "      <td>8.5</td>\n",
       "      <td>19</td>\n",
       "      <td>1.549945</td>\n",
       "      <td>23.86120</td>\n",
       "      <td>1.549945</td>\n",
       "    </tr>\n",
       "    <tr>\n",
       "      <th>55641</th>\n",
       "      <td>-109.9659</td>\n",
       "      <td>37.62525</td>\n",
       "      <td>2024</td>\n",
       "      <td>8.5</td>\n",
       "      <td>19</td>\n",
       "      <td>4.972473</td>\n",
       "      <td>24.35728</td>\n",
       "      <td>24.357280</td>\n",
       "    </tr>\n",
       "  </tbody>\n",
       "</table>\n",
       "<p>22554 rows × 8 columns</p>\n",
       "</div>"
      ],
      "text/plain": [
       "           long       lat  year         rcp  litter  t_winter  t_summer  \\\n",
       "0     -110.0472  37.60413  1980  historical      11  0.964835  23.15924   \n",
       "1     -110.0472  37.60413  1980  historical      11  0.964835  23.15924   \n",
       "5     -110.0472  37.60413  1981  historical      11  3.334444  23.27065   \n",
       "7     -110.0472  37.60413  1982  historical      11 -0.015556  22.05707   \n",
       "11    -110.0472  37.60413  1984  historical      11 -1.047253  21.95978   \n",
       "...         ...       ...   ...         ...     ...       ...       ...   \n",
       "55632 -109.9659  37.62525  2024         8.5      19  3.372912  23.75413   \n",
       "55636 -109.9659  37.62525  2024         8.5      19  1.209121  23.48859   \n",
       "55637 -109.9659  37.62525  2024         8.5      19  1.209121  23.48859   \n",
       "55640 -109.9659  37.62525  2024         8.5      19  1.549945  23.86120   \n",
       "55641 -109.9659  37.62525  2024         8.5      19  4.972473  24.35728   \n",
       "\n",
       "        t_annual  \n",
       "0      23.159240  \n",
       "1       0.964835  \n",
       "5      11.581320  \n",
       "7       9.472283  \n",
       "11     21.959780  \n",
       "...          ...  \n",
       "55632   3.372912  \n",
       "55636   1.209121  \n",
       "55637  10.273350  \n",
       "55640   1.549945  \n",
       "55641  24.357280  \n",
       "\n",
       "[22554 rows x 8 columns]"
      ]
     },
     "execution_count": 35,
     "metadata": {},
     "output_type": "execute_result"
    }
   ],
   "source": [
    "# Plant litter dataset\n",
    "# extract the relevant data\n",
    "litter_columns = ['long', 'lat', 'year', 'rcp', 'litter', 't_winter', 't_summer', 't_annual']\n",
    "litter = df[litter_columns]\n",
    "litter = litter.drop_duplicates(subset=litter_columns)\n",
    "\n",
    "# # fill the null values with the mean\n",
    "# litter.loc[:, 't_winter'] = litter['t_winter'].fillna(litter['t_winter'].mean())\n",
    "# litter.loc[:, 't_summer'] = litter['t_summer'].fillna(litter['t_summer'].mean())\n",
    "# litter.loc[:, 't_annual'] = litter['t_annual'].fillna(litter['t_annual'].mean())\n",
    "\n",
    "# drop the null values\n",
    "litter = litter.dropna()\n",
    "\n",
    "# save the data to csv file\n",
    "litter.to_csv('./data/cleaned_data/litter_data.csv', index=False)\n",
    "\n",
    "litter"
   ]
  },
  {
   "cell_type": "markdown",
   "metadata": {},
   "source": [
    "### VWC dataset"
   ]
  },
  {
   "cell_type": "code",
   "execution_count": 46,
   "metadata": {},
   "outputs": [],
   "source": [
    "# VWC data\n",
    "# extract the relevant data\n",
    "vwc_columns = ['long', 'lat', 'year', 'rcp', 'evap_summer', 'vwc_winter_whole', 'vwc_spring_whole', 'vwc_summer_whole', 'vwc_fall_whole']\n",
    "vwc = df[vwc_columns]\n",
    "\n",
    "# deal with NaN values\n",
    "# fill the null values with the mean of the column\n",
    "null_columns = ['vwc_winter_whole', 'vwc_spring_whole', 'vwc_summer_whole', 'vwc_fall_whole']\n",
    "vwc.loc[:, null_columns] = vwc[null_columns].fillna(vwc[null_columns].mean())\n",
    "\n",
    "# save it to a new csv file\n",
    "vwc.to_csv('./data/cleaned_data/vwc_data.csv', index=False)"
   ]
  },
  {
   "cell_type": "markdown",
   "metadata": {},
   "source": [
    "### Summer dataset"
   ]
  },
  {
   "cell_type": "code",
   "execution_count": 173,
   "metadata": {},
   "outputs": [],
   "source": [
    "# summer related data\n",
    "# extract the relevant data\n",
    "summer_columns = ['long', 'lat', 'year', 'rcp', 'drysoildays_summer_whole', 'evap_summer', 'nondryswa_summer_whole', 'ppt_summer', 'tmax_summer', 'vwc_summer_whole']\n",
    "summer = df[summer_columns]\n",
    "\n",
    "# fill missing values with the mean\n",
    "summer.loc[:, 'drysoildays_summer_whole'] = summer['drysoildays_summer_whole'].fillna(summer['drysoildays_summer_whole'].mean())\n",
    "summer.loc[:, 'evap_summer'] = summer['evap_summer'].fillna(summer['evap_summer'].mean())\n",
    "summer.loc[:, 'nondryswa_summer_whole'] = summer['nondryswa_summer_whole'].fillna(summer['nondryswa_summer_whole'].mean())\n",
    "summer.loc[:, 'ppt_summer'] = summer['ppt_summer'].fillna(summer['ppt_summer'].mean())\n",
    "summer.loc[:, 'tmax_summer'] = summer['tmax_summer'].fillna(summer['tmax_summer'].mean())\n",
    "\n",
    "# round the columns\n",
    "summer = summer.round({'drysoildays_summer_whole': 3, 'evap_summer': 3, 'nondryswa_summer_whole': 3, 'ppt_summer': 3, 'tmax_summer': 3})\n",
    "\n",
    "# save the data to csv file\n",
    "summer.to_csv('./data/cleaned_data/summer_data.csv', index=False)"
   ]
  },
  {
   "cell_type": "markdown",
   "metadata": {},
   "source": [
    "### Summer vs. Winter dataset"
   ]
  },
  {
   "cell_type": "code",
   "execution_count": 9,
   "metadata": {},
   "outputs": [],
   "source": [
    "# summer vs. winter data\n",
    "# extract the relevant data\n",
    "summer_winter_columns = ['long', 'lat', 'year', 'rcp', 'ppt_annual', 'ppt_summer', 'ppt_winter', 't_summer', 't_winter', 'tmax_summer', 'tmin_winter']\n",
    "summer_winter = df[summer_winter_columns]\n",
    "\n",
    "# save the data to csv file\n",
    "summer_winter.to_csv('./data/cleaned_data/summer_winter_data.csv', index=False)"
   ]
  },
  {
   "cell_type": "markdown",
   "metadata": {},
   "source": [
    "## Visualization\n",
    "\n",
    "### Greenery area dataset"
   ]
  },
  {
   "cell_type": "code",
   "execution_count": 88,
   "metadata": {},
   "outputs": [
    {
     "name": "stderr",
     "output_type": "stream",
     "text": [
      "/var/folders/27/cc8xpbnj4vgc0f2m9xmmtc_r0000gn/T/ipykernel_2972/4013972958.py:2: DtypeWarning:\n",
      "\n",
      "Columns (3) have mixed types. Specify dtype option on import or set low_memory=False.\n",
      "\n"
     ]
    },
    {
     "data": {
      "text/html": [
       "<div>\n",
       "<style scoped>\n",
       "    .dataframe tbody tr th:only-of-type {\n",
       "        vertical-align: middle;\n",
       "    }\n",
       "\n",
       "    .dataframe tbody tr th {\n",
       "        vertical-align: top;\n",
       "    }\n",
       "\n",
       "    .dataframe thead th {\n",
       "        text-align: right;\n",
       "    }\n",
       "</style>\n",
       "<table border=\"1\" class=\"dataframe\">\n",
       "  <thead>\n",
       "    <tr style=\"text-align: right;\">\n",
       "      <th></th>\n",
       "      <th>long</th>\n",
       "      <th>lat</th>\n",
       "      <th>year</th>\n",
       "      <th>rcp</th>\n",
       "      <th>treecanopy</th>\n",
       "      <th>bare</th>\n",
       "      <th>herb</th>\n",
       "      <th>ann_herb</th>\n",
       "      <th>litter</th>\n",
       "      <th>shrub</th>\n",
       "      <th>total</th>\n",
       "    </tr>\n",
       "  </thead>\n",
       "  <tbody>\n",
       "    <tr>\n",
       "      <th>0</th>\n",
       "      <td>-110.0472</td>\n",
       "      <td>37.60413</td>\n",
       "      <td>1980</td>\n",
       "      <td>historical</td>\n",
       "      <td>0</td>\n",
       "      <td>84</td>\n",
       "      <td>5</td>\n",
       "      <td>0</td>\n",
       "      <td>11</td>\n",
       "      <td>7</td>\n",
       "      <td>-61</td>\n",
       "    </tr>\n",
       "    <tr>\n",
       "      <th>1</th>\n",
       "      <td>-110.0472</td>\n",
       "      <td>37.60413</td>\n",
       "      <td>1980</td>\n",
       "      <td>historical</td>\n",
       "      <td>0</td>\n",
       "      <td>84</td>\n",
       "      <td>5</td>\n",
       "      <td>0</td>\n",
       "      <td>11</td>\n",
       "      <td>7</td>\n",
       "      <td>-61</td>\n",
       "    </tr>\n",
       "    <tr>\n",
       "      <th>2</th>\n",
       "      <td>-110.0472</td>\n",
       "      <td>37.60413</td>\n",
       "      <td>1980</td>\n",
       "      <td>historical</td>\n",
       "      <td>0</td>\n",
       "      <td>84</td>\n",
       "      <td>5</td>\n",
       "      <td>0</td>\n",
       "      <td>11</td>\n",
       "      <td>7</td>\n",
       "      <td>-61</td>\n",
       "    </tr>\n",
       "    <tr>\n",
       "      <th>3</th>\n",
       "      <td>-110.0472</td>\n",
       "      <td>37.60413</td>\n",
       "      <td>1980</td>\n",
       "      <td>historical</td>\n",
       "      <td>0</td>\n",
       "      <td>84</td>\n",
       "      <td>5</td>\n",
       "      <td>0</td>\n",
       "      <td>11</td>\n",
       "      <td>7</td>\n",
       "      <td>-61</td>\n",
       "    </tr>\n",
       "    <tr>\n",
       "      <th>4</th>\n",
       "      <td>-110.0472</td>\n",
       "      <td>37.60413</td>\n",
       "      <td>1980</td>\n",
       "      <td>historical</td>\n",
       "      <td>0</td>\n",
       "      <td>84</td>\n",
       "      <td>5</td>\n",
       "      <td>0</td>\n",
       "      <td>11</td>\n",
       "      <td>7</td>\n",
       "      <td>-61</td>\n",
       "    </tr>\n",
       "    <tr>\n",
       "      <th>...</th>\n",
       "      <td>...</td>\n",
       "      <td>...</td>\n",
       "      <td>...</td>\n",
       "      <td>...</td>\n",
       "      <td>...</td>\n",
       "      <td>...</td>\n",
       "      <td>...</td>\n",
       "      <td>...</td>\n",
       "      <td>...</td>\n",
       "      <td>...</td>\n",
       "      <td>...</td>\n",
       "    </tr>\n",
       "    <tr>\n",
       "      <th>69618</th>\n",
       "      <td>-109.9659</td>\n",
       "      <td>37.62525</td>\n",
       "      <td>2024</td>\n",
       "      <td>8.5</td>\n",
       "      <td>18</td>\n",
       "      <td>37</td>\n",
       "      <td>18</td>\n",
       "      <td>0</td>\n",
       "      <td>19</td>\n",
       "      <td>22</td>\n",
       "      <td>40</td>\n",
       "    </tr>\n",
       "    <tr>\n",
       "      <th>69619</th>\n",
       "      <td>-109.9659</td>\n",
       "      <td>37.62525</td>\n",
       "      <td>2024</td>\n",
       "      <td>8.5</td>\n",
       "      <td>18</td>\n",
       "      <td>37</td>\n",
       "      <td>18</td>\n",
       "      <td>0</td>\n",
       "      <td>19</td>\n",
       "      <td>22</td>\n",
       "      <td>40</td>\n",
       "    </tr>\n",
       "    <tr>\n",
       "      <th>69620</th>\n",
       "      <td>-109.9659</td>\n",
       "      <td>37.62525</td>\n",
       "      <td>2024</td>\n",
       "      <td>8.5</td>\n",
       "      <td>18</td>\n",
       "      <td>37</td>\n",
       "      <td>18</td>\n",
       "      <td>0</td>\n",
       "      <td>19</td>\n",
       "      <td>22</td>\n",
       "      <td>40</td>\n",
       "    </tr>\n",
       "    <tr>\n",
       "      <th>69621</th>\n",
       "      <td>-109.9659</td>\n",
       "      <td>37.62525</td>\n",
       "      <td>2024</td>\n",
       "      <td>8.5</td>\n",
       "      <td>18</td>\n",
       "      <td>37</td>\n",
       "      <td>18</td>\n",
       "      <td>0</td>\n",
       "      <td>19</td>\n",
       "      <td>22</td>\n",
       "      <td>40</td>\n",
       "    </tr>\n",
       "    <tr>\n",
       "      <th>69622</th>\n",
       "      <td>-109.9659</td>\n",
       "      <td>37.62525</td>\n",
       "      <td>2024</td>\n",
       "      <td>8.5</td>\n",
       "      <td>18</td>\n",
       "      <td>37</td>\n",
       "      <td>18</td>\n",
       "      <td>0</td>\n",
       "      <td>19</td>\n",
       "      <td>22</td>\n",
       "      <td>40</td>\n",
       "    </tr>\n",
       "  </tbody>\n",
       "</table>\n",
       "<p>69623 rows × 11 columns</p>\n",
       "</div>"
      ],
      "text/plain": [
       "           long       lat  year         rcp  treecanopy  bare  herb  ann_herb  \\\n",
       "0     -110.0472  37.60413  1980  historical           0    84     5         0   \n",
       "1     -110.0472  37.60413  1980  historical           0    84     5         0   \n",
       "2     -110.0472  37.60413  1980  historical           0    84     5         0   \n",
       "3     -110.0472  37.60413  1980  historical           0    84     5         0   \n",
       "4     -110.0472  37.60413  1980  historical           0    84     5         0   \n",
       "...         ...       ...   ...         ...         ...   ...   ...       ...   \n",
       "69618 -109.9659  37.62525  2024         8.5          18    37    18         0   \n",
       "69619 -109.9659  37.62525  2024         8.5          18    37    18         0   \n",
       "69620 -109.9659  37.62525  2024         8.5          18    37    18         0   \n",
       "69621 -109.9659  37.62525  2024         8.5          18    37    18         0   \n",
       "69622 -109.9659  37.62525  2024         8.5          18    37    18         0   \n",
       "\n",
       "       litter  shrub  total  \n",
       "0          11      7    -61  \n",
       "1          11      7    -61  \n",
       "2          11      7    -61  \n",
       "3          11      7    -61  \n",
       "4          11      7    -61  \n",
       "...       ...    ...    ...  \n",
       "69618      19     22     40  \n",
       "69619      19     22     40  \n",
       "69620      19     22     40  \n",
       "69621      19     22     40  \n",
       "69622      19     22     40  \n",
       "\n",
       "[69623 rows x 11 columns]"
      ]
     },
     "execution_count": 88,
     "metadata": {},
     "output_type": "execute_result"
    }
   ],
   "source": [
    "# load the data\n",
    "greenery = pd.read_csv('./data/cleaned_data/greenery_data.csv')\n",
    "greenery"
   ]
  },
  {
   "cell_type": "code",
   "execution_count": 107,
   "metadata": {},
   "outputs": [
    {
     "data": {
      "text/html": [
       "<div>\n",
       "<style scoped>\n",
       "    .dataframe tbody tr th:only-of-type {\n",
       "        vertical-align: middle;\n",
       "    }\n",
       "\n",
       "    .dataframe tbody tr th {\n",
       "        vertical-align: top;\n",
       "    }\n",
       "\n",
       "    .dataframe thead th {\n",
       "        text-align: right;\n",
       "    }\n",
       "</style>\n",
       "<table border=\"1\" class=\"dataframe\">\n",
       "  <thead>\n",
       "    <tr style=\"text-align: right;\">\n",
       "      <th></th>\n",
       "      <th>long</th>\n",
       "      <th>lat</th>\n",
       "      <th>total</th>\n",
       "    </tr>\n",
       "  </thead>\n",
       "  <tbody>\n",
       "    <tr>\n",
       "      <th>0</th>\n",
       "      <td>-110.0472</td>\n",
       "      <td>37.60413</td>\n",
       "      <td>-61.0</td>\n",
       "    </tr>\n",
       "    <tr>\n",
       "      <th>1</th>\n",
       "      <td>-110.0461</td>\n",
       "      <td>37.60334</td>\n",
       "      <td>-48.0</td>\n",
       "    </tr>\n",
       "    <tr>\n",
       "      <th>2</th>\n",
       "      <td>-110.0458</td>\n",
       "      <td>37.60308</td>\n",
       "      <td>-29.0</td>\n",
       "    </tr>\n",
       "    <tr>\n",
       "      <th>3</th>\n",
       "      <td>-110.0393</td>\n",
       "      <td>37.60519</td>\n",
       "      <td>-15.0</td>\n",
       "    </tr>\n",
       "    <tr>\n",
       "      <th>4</th>\n",
       "      <td>-110.0389</td>\n",
       "      <td>37.60545</td>\n",
       "      <td>-25.0</td>\n",
       "    </tr>\n",
       "    <tr>\n",
       "      <th>...</th>\n",
       "      <td>...</td>\n",
       "      <td>...</td>\n",
       "      <td>...</td>\n",
       "    </tr>\n",
       "    <tr>\n",
       "      <th>108</th>\n",
       "      <td>-109.9673</td>\n",
       "      <td>37.62868</td>\n",
       "      <td>-30.0</td>\n",
       "    </tr>\n",
       "    <tr>\n",
       "      <th>109</th>\n",
       "      <td>-109.9669</td>\n",
       "      <td>37.62446</td>\n",
       "      <td>-91.0</td>\n",
       "    </tr>\n",
       "    <tr>\n",
       "      <th>110</th>\n",
       "      <td>-109.9662</td>\n",
       "      <td>37.60783</td>\n",
       "      <td>-4.0</td>\n",
       "    </tr>\n",
       "    <tr>\n",
       "      <th>111</th>\n",
       "      <td>-109.9662</td>\n",
       "      <td>37.63159</td>\n",
       "      <td>50.0</td>\n",
       "    </tr>\n",
       "    <tr>\n",
       "      <th>112</th>\n",
       "      <td>-109.9659</td>\n",
       "      <td>37.62525</td>\n",
       "      <td>40.0</td>\n",
       "    </tr>\n",
       "  </tbody>\n",
       "</table>\n",
       "<p>113 rows × 3 columns</p>\n",
       "</div>"
      ],
      "text/plain": [
       "         long       lat  total\n",
       "0   -110.0472  37.60413  -61.0\n",
       "1   -110.0461  37.60334  -48.0\n",
       "2   -110.0458  37.60308  -29.0\n",
       "3   -110.0393  37.60519  -15.0\n",
       "4   -110.0389  37.60545  -25.0\n",
       "..        ...       ...    ...\n",
       "108 -109.9673  37.62868  -30.0\n",
       "109 -109.9669  37.62446  -91.0\n",
       "110 -109.9662  37.60783   -4.0\n",
       "111 -109.9662  37.63159   50.0\n",
       "112 -109.9659  37.62525   40.0\n",
       "\n",
       "[113 rows x 3 columns]"
      ]
     },
     "execution_count": 107,
     "metadata": {},
     "output_type": "execute_result"
    }
   ],
   "source": [
    "greenery1 = greenery.groupby(['long', 'lat'])['total'].mean().reset_index()\n",
    "greenery1"
   ]
  },
  {
   "cell_type": "code",
   "execution_count": 93,
   "metadata": {},
   "outputs": [
    {
     "data": {
      "text/html": [
       "<div>\n",
       "<style scoped>\n",
       "    .dataframe tbody tr th:only-of-type {\n",
       "        vertical-align: middle;\n",
       "    }\n",
       "\n",
       "    .dataframe tbody tr th {\n",
       "        vertical-align: top;\n",
       "    }\n",
       "\n",
       "    .dataframe thead th {\n",
       "        text-align: right;\n",
       "    }\n",
       "</style>\n",
       "<table border=\"1\" class=\"dataframe\">\n",
       "  <thead>\n",
       "    <tr style=\"text-align: right;\">\n",
       "      <th></th>\n",
       "      <th>long</th>\n",
       "      <th>lat</th>\n",
       "      <th>year</th>\n",
       "      <th>total</th>\n",
       "    </tr>\n",
       "  </thead>\n",
       "  <tbody>\n",
       "    <tr>\n",
       "      <th>0</th>\n",
       "      <td>-110.0472</td>\n",
       "      <td>37.60413</td>\n",
       "      <td>1980</td>\n",
       "      <td>-61.0</td>\n",
       "    </tr>\n",
       "    <tr>\n",
       "      <th>1</th>\n",
       "      <td>-110.0472</td>\n",
       "      <td>37.60413</td>\n",
       "      <td>1981</td>\n",
       "      <td>-61.0</td>\n",
       "    </tr>\n",
       "    <tr>\n",
       "      <th>2</th>\n",
       "      <td>-110.0472</td>\n",
       "      <td>37.60413</td>\n",
       "      <td>1982</td>\n",
       "      <td>-61.0</td>\n",
       "    </tr>\n",
       "    <tr>\n",
       "      <th>3</th>\n",
       "      <td>-110.0472</td>\n",
       "      <td>37.60413</td>\n",
       "      <td>1983</td>\n",
       "      <td>-61.0</td>\n",
       "    </tr>\n",
       "    <tr>\n",
       "      <th>4</th>\n",
       "      <td>-110.0472</td>\n",
       "      <td>37.60413</td>\n",
       "      <td>1984</td>\n",
       "      <td>-61.0</td>\n",
       "    </tr>\n",
       "    <tr>\n",
       "      <th>...</th>\n",
       "      <td>...</td>\n",
       "      <td>...</td>\n",
       "      <td>...</td>\n",
       "      <td>...</td>\n",
       "    </tr>\n",
       "    <tr>\n",
       "      <th>4854</th>\n",
       "      <td>-109.9659</td>\n",
       "      <td>37.62525</td>\n",
       "      <td>2018</td>\n",
       "      <td>40.0</td>\n",
       "    </tr>\n",
       "    <tr>\n",
       "      <th>4855</th>\n",
       "      <td>-109.9659</td>\n",
       "      <td>37.62525</td>\n",
       "      <td>2021</td>\n",
       "      <td>40.0</td>\n",
       "    </tr>\n",
       "    <tr>\n",
       "      <th>4856</th>\n",
       "      <td>-109.9659</td>\n",
       "      <td>37.62525</td>\n",
       "      <td>2022</td>\n",
       "      <td>40.0</td>\n",
       "    </tr>\n",
       "    <tr>\n",
       "      <th>4857</th>\n",
       "      <td>-109.9659</td>\n",
       "      <td>37.62525</td>\n",
       "      <td>2023</td>\n",
       "      <td>40.0</td>\n",
       "    </tr>\n",
       "    <tr>\n",
       "      <th>4858</th>\n",
       "      <td>-109.9659</td>\n",
       "      <td>37.62525</td>\n",
       "      <td>2024</td>\n",
       "      <td>40.0</td>\n",
       "    </tr>\n",
       "  </tbody>\n",
       "</table>\n",
       "<p>4859 rows × 4 columns</p>\n",
       "</div>"
      ],
      "text/plain": [
       "          long       lat  year  total\n",
       "0    -110.0472  37.60413  1980  -61.0\n",
       "1    -110.0472  37.60413  1981  -61.0\n",
       "2    -110.0472  37.60413  1982  -61.0\n",
       "3    -110.0472  37.60413  1983  -61.0\n",
       "4    -110.0472  37.60413  1984  -61.0\n",
       "...        ...       ...   ...    ...\n",
       "4854 -109.9659  37.62525  2018   40.0\n",
       "4855 -109.9659  37.62525  2021   40.0\n",
       "4856 -109.9659  37.62525  2022   40.0\n",
       "4857 -109.9659  37.62525  2023   40.0\n",
       "4858 -109.9659  37.62525  2024   40.0\n",
       "\n",
       "[4859 rows x 4 columns]"
      ]
     },
     "execution_count": 93,
     "metadata": {},
     "output_type": "execute_result"
    }
   ],
   "source": [
    "# further data processing\n",
    "greenery_total = greenery.groupby(['long', 'lat', 'year'])['total'].mean().reset_index()\n",
    "greenery_total"
   ]
  },
  {
   "cell_type": "code",
   "execution_count": 109,
   "metadata": {},
   "outputs": [
    {
     "data": {
      "text/html": [
       "<div style=\"width:100%;\"><div style=\"position:relative;width:100%;height:0;padding-bottom:60%;\"><span style=\"color:#565656\">Make this Notebook Trusted to load map: File -> Trust Notebook</span><iframe srcdoc=\"&lt;!DOCTYPE html&gt;\n",
       "&lt;html&gt;\n",
       "&lt;head&gt;\n",
       "    \n",
       "    &lt;meta http-equiv=&quot;content-type&quot; content=&quot;text/html; charset=UTF-8&quot; /&gt;\n",
       "    \n",
       "        &lt;script&gt;\n",
       "            L_NO_TOUCH = false;\n",
       "            L_DISABLE_3D = false;\n",
       "        &lt;/script&gt;\n",
       "    \n",
       "    &lt;style&gt;html, body {width: 100%;height: 100%;margin: 0;padding: 0;}&lt;/style&gt;\n",
       "    &lt;style&gt;#map {position:absolute;top:0;bottom:0;right:0;left:0;}&lt;/style&gt;\n",
       "    &lt;script src=&quot;https://cdn.jsdelivr.net/npm/leaflet@1.9.3/dist/leaflet.js&quot;&gt;&lt;/script&gt;\n",
       "    &lt;script src=&quot;https://code.jquery.com/jquery-3.7.1.min.js&quot;&gt;&lt;/script&gt;\n",
       "    &lt;script src=&quot;https://cdn.jsdelivr.net/npm/bootstrap@5.2.2/dist/js/bootstrap.bundle.min.js&quot;&gt;&lt;/script&gt;\n",
       "    &lt;script src=&quot;https://cdnjs.cloudflare.com/ajax/libs/Leaflet.awesome-markers/2.0.2/leaflet.awesome-markers.js&quot;&gt;&lt;/script&gt;\n",
       "    &lt;link rel=&quot;stylesheet&quot; href=&quot;https://cdn.jsdelivr.net/npm/leaflet@1.9.3/dist/leaflet.css&quot;/&gt;\n",
       "    &lt;link rel=&quot;stylesheet&quot; href=&quot;https://cdn.jsdelivr.net/npm/bootstrap@5.2.2/dist/css/bootstrap.min.css&quot;/&gt;\n",
       "    &lt;link rel=&quot;stylesheet&quot; href=&quot;https://netdna.bootstrapcdn.com/bootstrap/3.0.0/css/bootstrap.min.css&quot;/&gt;\n",
       "    &lt;link rel=&quot;stylesheet&quot; href=&quot;https://cdn.jsdelivr.net/npm/@fortawesome/fontawesome-free@6.2.0/css/all.min.css&quot;/&gt;\n",
       "    &lt;link rel=&quot;stylesheet&quot; href=&quot;https://cdnjs.cloudflare.com/ajax/libs/Leaflet.awesome-markers/2.0.2/leaflet.awesome-markers.css&quot;/&gt;\n",
       "    &lt;link rel=&quot;stylesheet&quot; href=&quot;https://cdn.jsdelivr.net/gh/python-visualization/folium/folium/templates/leaflet.awesome.rotate.min.css&quot;/&gt;\n",
       "    \n",
       "            &lt;meta name=&quot;viewport&quot; content=&quot;width=device-width,\n",
       "                initial-scale=1.0, maximum-scale=1.0, user-scalable=no&quot; /&gt;\n",
       "            &lt;style&gt;\n",
       "                #map_90b85b5b8f2bb62202e9a142189052d3 {\n",
       "                    position: relative;\n",
       "                    width: 800.0px;\n",
       "                    height: 600.0px;\n",
       "                    left: 0.0%;\n",
       "                    top: 0.0%;\n",
       "                }\n",
       "                .leaflet-container { font-size: 1rem; }\n",
       "            &lt;/style&gt;\n",
       "        \n",
       "    &lt;script src=&quot;https://cdn.jsdelivr.net/gh/python-visualization/folium@main/folium/templates/leaflet_heat.min.js&quot;&gt;&lt;/script&gt;\n",
       "&lt;/head&gt;\n",
       "&lt;body&gt;\n",
       "    \n",
       "    \n",
       "            &lt;div class=&quot;folium-map&quot; id=&quot;map_90b85b5b8f2bb62202e9a142189052d3&quot; &gt;&lt;/div&gt;\n",
       "        \n",
       "&lt;/body&gt;\n",
       "&lt;script&gt;\n",
       "    \n",
       "    \n",
       "            var map_90b85b5b8f2bb62202e9a142189052d3 = L.map(\n",
       "                &quot;map_90b85b5b8f2bb62202e9a142189052d3&quot;,\n",
       "                {\n",
       "                    center: [37.608164778761065, -110.00636991150444],\n",
       "                    crs: L.CRS.EPSG3857,\n",
       "                    zoom: 13,\n",
       "                    zoomControl: true,\n",
       "                    preferCanvas: false,\n",
       "                }\n",
       "            );\n",
       "\n",
       "            \n",
       "\n",
       "        \n",
       "    \n",
       "            var tile_layer_2ccb6c02fb21fbde866774c50ba0e7aa = L.tileLayer(\n",
       "                &quot;https://tile.openstreetmap.org/{z}/{x}/{y}.png&quot;,\n",
       "                {&quot;attribution&quot;: &quot;\\u0026copy; \\u003ca href=\\&quot;https://www.openstreetmap.org/copyright\\&quot;\\u003eOpenStreetMap\\u003c/a\\u003e contributors&quot;, &quot;detectRetina&quot;: false, &quot;maxNativeZoom&quot;: 19, &quot;maxZoom&quot;: 19, &quot;minZoom&quot;: 0, &quot;noWrap&quot;: false, &quot;opacity&quot;: 1, &quot;subdomains&quot;: &quot;abc&quot;, &quot;tms&quot;: false}\n",
       "            );\n",
       "        \n",
       "    \n",
       "            tile_layer_2ccb6c02fb21fbde866774c50ba0e7aa.addTo(map_90b85b5b8f2bb62202e9a142189052d3);\n",
       "        \n",
       "    \n",
       "            var heat_map_93a70535ac4af0ad51990a78589a1ced = L.heatLayer(\n",
       "                [[37.60413, -110.0472, -61.0], [37.60334, -110.0461, -48.0], [37.60308, -110.0458, -29.0], [37.60519, -110.0393, -15.0], [37.60545, -110.0389, -25.0], [37.59621, -110.0386, -29.0], [37.60202, -110.0376, -35.0], [37.6044, -110.0376, -18.0], [37.60096, -110.0365, -18.0], [37.60334, -110.0365, -59.0], [37.59489, -110.0355, -72.0], [37.59067, -110.0348, 1.0], [37.60123, -110.0345, -14.0], [37.6044, -110.0341, -9.0], [37.58882, -110.0338, 12.0], [37.59991, -110.0338, -38.0], [37.60492, -110.0334, -42.0], [37.60915, -110.0331, 6.0], [37.60334, -110.0328, -87.0], [37.60862, -110.0321, -36.0], [37.58935, -110.0314, 37.0], [37.59938, -110.03, 62.0], [37.60598, -110.029, -18.0], [37.61179, -110.029, -3.0], [37.60202, -110.0286, -23.0], [37.58671, -110.0283, -8.0], [37.58011, -110.028, -12.0], [37.59753, -110.028, -10.0], [37.60704, -110.0273, -24.0], [37.60308, -110.0262, -15.0], [37.60809, -110.0259, -83.0], [37.57668, -110.0245, 30.0], [37.61496, -110.0245, -36.0], [37.61284, -110.0242, -34.0], [37.57377, -110.0235, 7.0], [37.59595, -110.0218, -74.0], [37.5846, -110.0214, 25.0], [37.57984, -110.0208, -18.0], [37.57192, -110.0201, -1.0], [37.61205, -110.0177, -24.0], [37.6007, -110.0173, 16.0], [37.61416, -110.017, 47.0], [37.61258, -110.0153, 13.0], [37.58143, -110.0149, -71.0], [37.61839, -110.0146, -13.0], [37.62472, -110.0129, -37.0], [37.62736, -110.0129, -77.0], [37.59252, -110.0105, 7.0], [37.6139, -110.0105, 31.0], [37.62208, -110.0105, -26.0], [37.62024, -110.0101, -46.0], [37.59964, -110.0098, 29.0], [37.61839, -110.0094, -24.0], [37.57324, -110.0084, 8.0], [37.61733, -110.007, -8.0], [37.59436, -110.0057, -36.0], [37.61284, -110.0057, 38.0], [37.61892, -110.005, -39.0], [37.62657, -110.005, 13.0], [37.57034, -110.0046, 54.0], [37.59806, -110.0033, 13.0], [37.61707, -110.0033, 61.0], [37.62156, -110.0029, -72.0], [37.57324, -110.0022, 0.0], [37.5846, -110.0022, -89.0], [37.60915, -110.0022, -87.0], [37.57879, -110.0019, -23.0], [37.59146, -110.0016, 16.0], [37.61654, -110.0016, 25.0], [37.61733, -110.0012, 25.0], [37.61892, -110.0005, -12.0], [37.58565, -109.9998, -32.0], [37.62393, -109.9988, -63.0], [37.58988, -109.9978, -62.0], [37.6044, -109.9974, -12.0], [37.61997, -109.9971, 54.0], [37.59727, -109.995, -13.0], [37.62499, -109.994, -87.0], [37.6102, -109.9933, 3.0], [37.5941, -109.993, -52.0], [37.61865, -109.993, 38.0], [37.62684, -109.9926, -54.0], [37.63212, -109.9916, -61.0], [37.62578, -109.9913, 20.0], [37.59278, -109.9909, -7.0], [37.62736, -109.9882, 63.0], [37.62235, -109.9878, 19.0], [37.62156, -109.9858, 9.0], [37.62763, -109.9837, -4.0], [37.62974, -109.983, -51.0], [37.62816, -109.9823, 30.0], [37.6139, -109.9803, 1.0], [37.62868, -109.9799, 23.0], [37.60308, -109.9786, 29.0], [37.63027, -109.9786, 35.0], [37.62921, -109.9782, -23.0], [37.63344, -109.9775, 1.0], [37.62789, -109.9762, 22.0], [37.59912, -109.9758, -52.0], [37.60862, -109.9758, 8.0], [37.62684, -109.9758, 39.0], [37.61522, -109.9734, 18.0], [37.6308, -109.9731, 89.0], [37.63476, -109.9714, -9.0], [37.62631, -109.9693, 23.0], [37.61284, -109.969, 11.0], [37.61654, -109.9679, -13.0], [37.62974, -109.9679, 53.0], [37.62868, -109.9673, -30.0], [37.62446, -109.9669, -91.0], [37.60783, -109.9662, -4.0], [37.63159, -109.9662, 50.0], [37.62525, -109.9659, 40.0]],\n",
       "                {&quot;blur&quot;: 10, &quot;gradient&quot;: {&quot;0.2&quot;: &quot;red&quot;, &quot;0.4&quot;: &quot;brown&quot;, &quot;0.6&quot;: &quot;yellow&quot;, &quot;0.8&quot;: &quot;#32CD32&quot;, &quot;1&quot;: &quot;green&quot;}, &quot;maxZoom&quot;: 18, &quot;minOpacity&quot;: 0.5, &quot;radius&quot;: 20}\n",
       "            );\n",
       "        \n",
       "    \n",
       "            heat_map_93a70535ac4af0ad51990a78589a1ced.addTo(map_90b85b5b8f2bb62202e9a142189052d3);\n",
       "        \n",
       "&lt;/script&gt;\n",
       "&lt;/html&gt;\" style=\"position:absolute;width:100%;height:100%;left:0;top:0;border:none !important;\" allowfullscreen webkitallowfullscreen mozallowfullscreen></iframe></div></div>"
      ],
      "text/plain": [
       "<folium.folium.Map at 0x33b9ecbd0>"
      ]
     },
     "execution_count": 109,
     "metadata": {},
     "output_type": "execute_result"
    }
   ],
   "source": [
    "# create a folium heatmap of the 1980 data\n",
    "map_center = [greenery_total['lat'].mean(), greenery_total['long'].mean()]\n",
    "map_width = 800  \n",
    "map_height = 600 \n",
    "mymap_1980 = folium.Map(location=map_center, zoom_start=13, width=map_width, height=map_height)\n",
    "\n",
    "heat_data_green = data_1980[['lat', 'long', 'total']].reset_index(drop=True).values.tolist()\n",
    "\n",
    "# the higher the gradient, the more greenery there is. \n",
    "HeatMap(heat_data_green, radius=20, blur=10, gradient={0.2: 'red', 0.4: 'brown', 0.6: 'yellow', 0.8: '#32CD32', 1: 'green'}).add_to(mymap_1980)\n",
    "\n",
    "mymap_1980"
   ]
  },
  {
   "cell_type": "code",
   "execution_count": 113,
   "metadata": {},
   "outputs": [
    {
     "data": {
      "text/html": [
       "<div style=\"width:100%;\"><div style=\"position:relative;width:100%;height:0;padding-bottom:60%;\"><span style=\"color:#565656\">Make this Notebook Trusted to load map: File -> Trust Notebook</span><iframe srcdoc=\"&lt;!DOCTYPE html&gt;\n",
       "&lt;html&gt;\n",
       "&lt;head&gt;\n",
       "    \n",
       "    &lt;meta http-equiv=&quot;content-type&quot; content=&quot;text/html; charset=UTF-8&quot; /&gt;\n",
       "    \n",
       "        &lt;script&gt;\n",
       "            L_NO_TOUCH = false;\n",
       "            L_DISABLE_3D = false;\n",
       "        &lt;/script&gt;\n",
       "    \n",
       "    &lt;style&gt;html, body {width: 100%;height: 100%;margin: 0;padding: 0;}&lt;/style&gt;\n",
       "    &lt;style&gt;#map {position:absolute;top:0;bottom:0;right:0;left:0;}&lt;/style&gt;\n",
       "    &lt;script src=&quot;https://cdn.jsdelivr.net/npm/leaflet@1.9.3/dist/leaflet.js&quot;&gt;&lt;/script&gt;\n",
       "    &lt;script src=&quot;https://code.jquery.com/jquery-3.7.1.min.js&quot;&gt;&lt;/script&gt;\n",
       "    &lt;script src=&quot;https://cdn.jsdelivr.net/npm/bootstrap@5.2.2/dist/js/bootstrap.bundle.min.js&quot;&gt;&lt;/script&gt;\n",
       "    &lt;script src=&quot;https://cdnjs.cloudflare.com/ajax/libs/Leaflet.awesome-markers/2.0.2/leaflet.awesome-markers.js&quot;&gt;&lt;/script&gt;\n",
       "    &lt;link rel=&quot;stylesheet&quot; href=&quot;https://cdn.jsdelivr.net/npm/leaflet@1.9.3/dist/leaflet.css&quot;/&gt;\n",
       "    &lt;link rel=&quot;stylesheet&quot; href=&quot;https://cdn.jsdelivr.net/npm/bootstrap@5.2.2/dist/css/bootstrap.min.css&quot;/&gt;\n",
       "    &lt;link rel=&quot;stylesheet&quot; href=&quot;https://netdna.bootstrapcdn.com/bootstrap/3.0.0/css/bootstrap.min.css&quot;/&gt;\n",
       "    &lt;link rel=&quot;stylesheet&quot; href=&quot;https://cdn.jsdelivr.net/npm/@fortawesome/fontawesome-free@6.2.0/css/all.min.css&quot;/&gt;\n",
       "    &lt;link rel=&quot;stylesheet&quot; href=&quot;https://cdnjs.cloudflare.com/ajax/libs/Leaflet.awesome-markers/2.0.2/leaflet.awesome-markers.css&quot;/&gt;\n",
       "    &lt;link rel=&quot;stylesheet&quot; href=&quot;https://cdn.jsdelivr.net/gh/python-visualization/folium/folium/templates/leaflet.awesome.rotate.min.css&quot;/&gt;\n",
       "    \n",
       "            &lt;meta name=&quot;viewport&quot; content=&quot;width=device-width,\n",
       "                initial-scale=1.0, maximum-scale=1.0, user-scalable=no&quot; /&gt;\n",
       "            &lt;style&gt;\n",
       "                #map_40893f40144a656b43ac309c8bdef1a9 {\n",
       "                    position: relative;\n",
       "                    width: 800.0px;\n",
       "                    height: 600.0px;\n",
       "                    left: 0.0%;\n",
       "                    top: 0.0%;\n",
       "                }\n",
       "                .leaflet-container { font-size: 1rem; }\n",
       "            &lt;/style&gt;\n",
       "        \n",
       "    &lt;script src=&quot;https://cdn.jsdelivr.net/gh/python-visualization/folium@main/folium/templates/leaflet_heat.min.js&quot;&gt;&lt;/script&gt;\n",
       "&lt;/head&gt;\n",
       "&lt;body&gt;\n",
       "    \n",
       "    \n",
       "            &lt;div class=&quot;folium-map&quot; id=&quot;map_40893f40144a656b43ac309c8bdef1a9&quot; &gt;&lt;/div&gt;\n",
       "        \n",
       "&lt;/body&gt;\n",
       "&lt;script&gt;\n",
       "    \n",
       "    \n",
       "            var map_40893f40144a656b43ac309c8bdef1a9 = L.map(\n",
       "                &quot;map_40893f40144a656b43ac309c8bdef1a9&quot;,\n",
       "                {\n",
       "                    center: [37.608164778761065, -110.00636991150444],\n",
       "                    crs: L.CRS.EPSG3857,\n",
       "                    zoom: 13,\n",
       "                    zoomControl: true,\n",
       "                    preferCanvas: false,\n",
       "                }\n",
       "            );\n",
       "\n",
       "            \n",
       "\n",
       "        \n",
       "    \n",
       "            var tile_layer_65c603cd7570332ab4fa0d3c69cb9a9e = L.tileLayer(\n",
       "                &quot;https://tile.openstreetmap.org/{z}/{x}/{y}.png&quot;,\n",
       "                {&quot;attribution&quot;: &quot;\\u0026copy; \\u003ca href=\\&quot;https://www.openstreetmap.org/copyright\\&quot;\\u003eOpenStreetMap\\u003c/a\\u003e contributors&quot;, &quot;detectRetina&quot;: false, &quot;maxNativeZoom&quot;: 19, &quot;maxZoom&quot;: 19, &quot;minZoom&quot;: 0, &quot;noWrap&quot;: false, &quot;opacity&quot;: 1, &quot;subdomains&quot;: &quot;abc&quot;, &quot;tms&quot;: false}\n",
       "            );\n",
       "        \n",
       "    \n",
       "            tile_layer_65c603cd7570332ab4fa0d3c69cb9a9e.addTo(map_40893f40144a656b43ac309c8bdef1a9);\n",
       "        \n",
       "    \n",
       "            var heat_map_878be9571c33c2eaf3b1e93beabab2bb = L.heatLayer(\n",
       "                [[37.60413, -110.0472, -61.0], [37.60334, -110.0461, -48.0], [37.60308, -110.0458, -29.0], [37.60519, -110.0393, -15.0], [37.60545, -110.0389, -25.0], [37.59621, -110.0386, -29.0], [37.60202, -110.0376, -35.0], [37.6044, -110.0376, -18.0], [37.60096, -110.0365, -18.0], [37.60334, -110.0365, -59.0], [37.59489, -110.0355, -72.0], [37.59067, -110.0348, 1.0], [37.60123, -110.0345, -14.0], [37.6044, -110.0341, -9.0], [37.58882, -110.0338, 12.0], [37.59991, -110.0338, -38.0], [37.60492, -110.0334, -42.0], [37.60915, -110.0331, 6.0], [37.60334, -110.0328, -87.0], [37.60862, -110.0321, -36.0], [37.58935, -110.0314, 37.0], [37.59938, -110.03, 62.0], [37.60598, -110.029, -18.0], [37.61179, -110.029, -3.0], [37.60202, -110.0286, -23.0], [37.58671, -110.0283, -8.0], [37.58011, -110.028, -12.0], [37.59753, -110.028, -10.0], [37.60704, -110.0273, -24.0], [37.60308, -110.0262, -15.0], [37.60809, -110.0259, -83.0], [37.57668, -110.0245, 30.0], [37.61496, -110.0245, -36.0], [37.61284, -110.0242, -34.0], [37.57377, -110.0235, 7.0], [37.59595, -110.0218, -74.0], [37.5846, -110.0214, 25.0], [37.57984, -110.0208, -18.0], [37.57192, -110.0201, -1.0], [37.61205, -110.0177, -24.0], [37.6007, -110.0173, 16.0], [37.61416, -110.017, 47.0], [37.61258, -110.0153, 13.0], [37.58143, -110.0149, -71.0], [37.61839, -110.0146, -13.0], [37.62472, -110.0129, -37.0], [37.62736, -110.0129, -77.0], [37.59252, -110.0105, 7.0], [37.6139, -110.0105, 31.0], [37.62208, -110.0105, -26.0], [37.62024, -110.0101, -46.0], [37.59964, -110.0098, 29.0], [37.61839, -110.0094, -24.0], [37.57324, -110.0084, 8.0], [37.61733, -110.007, -8.0], [37.59436, -110.0057, -36.0], [37.61284, -110.0057, 38.0], [37.61892, -110.005, -39.0], [37.62657, -110.005, 13.0], [37.57034, -110.0046, 54.0], [37.59806, -110.0033, 13.0], [37.61707, -110.0033, 61.0], [37.62156, -110.0029, -72.0], [37.57324, -110.0022, 0.0], [37.5846, -110.0022, -89.0], [37.60915, -110.0022, -87.0], [37.57879, -110.0019, -23.0], [37.59146, -110.0016, 16.0], [37.61654, -110.0016, 25.0], [37.61733, -110.0012, 25.0], [37.61892, -110.0005, -12.0], [37.58565, -109.9998, -32.0], [37.62393, -109.9988, -63.0], [37.58988, -109.9978, -62.0], [37.6044, -109.9974, -12.0], [37.61997, -109.9971, 54.0], [37.59727, -109.995, -13.0], [37.62499, -109.994, -87.0], [37.6102, -109.9933, 3.0], [37.5941, -109.993, -52.0], [37.61865, -109.993, 38.0], [37.62684, -109.9926, -54.0], [37.63212, -109.9916, -61.0], [37.62578, -109.9913, 20.0], [37.59278, -109.9909, -7.0], [37.62736, -109.9882, 63.0], [37.62235, -109.9878, 19.0], [37.62156, -109.9858, 9.0], [37.62763, -109.9837, -4.0], [37.62974, -109.983, -51.0], [37.62816, -109.9823, 30.0], [37.6139, -109.9803, 1.0], [37.62868, -109.9799, 23.0], [37.60308, -109.9786, 29.0], [37.63027, -109.9786, 35.0], [37.62921, -109.9782, -23.0], [37.63344, -109.9775, 1.0], [37.62789, -109.9762, 22.0], [37.59912, -109.9758, -52.0], [37.60862, -109.9758, 8.0], [37.62684, -109.9758, 39.0], [37.61522, -109.9734, 18.0], [37.6308, -109.9731, 89.0], [37.63476, -109.9714, -9.0], [37.62631, -109.9693, 23.0], [37.61284, -109.969, 11.0], [37.61654, -109.9679, -13.0], [37.62974, -109.9679, 53.0], [37.62868, -109.9673, -30.0], [37.62446, -109.9669, -91.0], [37.60783, -109.9662, -4.0], [37.63159, -109.9662, 50.0], [37.62525, -109.9659, 40.0]],\n",
       "                {&quot;blur&quot;: 10, &quot;gradient&quot;: {&quot;0.2&quot;: &quot;red&quot;, &quot;0.4&quot;: &quot;brown&quot;, &quot;0.6&quot;: &quot;yellow&quot;, &quot;0.8&quot;: &quot;#32CD32&quot;, &quot;1&quot;: &quot;green&quot;}, &quot;maxZoom&quot;: 18, &quot;minOpacity&quot;: 0.5, &quot;radius&quot;: 20}\n",
       "            );\n",
       "        \n",
       "    \n",
       "            heat_map_878be9571c33c2eaf3b1e93beabab2bb.addTo(map_40893f40144a656b43ac309c8bdef1a9);\n",
       "        \n",
       "&lt;/script&gt;\n",
       "&lt;/html&gt;\" style=\"position:absolute;width:100%;height:100%;left:0;top:0;border:none !important;\" allowfullscreen webkitallowfullscreen mozallowfullscreen></iframe></div></div>"
      ],
      "text/plain": [
       "<folium.folium.Map at 0x33b884450>"
      ]
     },
     "execution_count": 113,
     "metadata": {},
     "output_type": "execute_result"
    }
   ],
   "source": [
    "# create a folium heatmap of the 1980 data\n",
    "map_center = [greenery_total['lat'].mean(), greenery_total['long'].mean()]\n",
    "map_width = 800  \n",
    "map_height = 600 \n",
    "mymap_2024 = folium.Map(location=map_center, zoom_start=13, width=map_width, height=map_height)\n",
    "\n",
    "heat_data_green = data_2024[['lat', 'long', 'total']].reset_index(drop=True).values.tolist()\n",
    "\n",
    "# the higher the gradient, the more greenery there is. \n",
    "HeatMap(heat_data_green, radius=20, blur=10, gradient={0.2: 'red', 0.4: 'brown', 0.6: 'yellow', 0.8: '#32CD32', 1: 'green'}).add_to(mymap_2024)\n",
    "\n",
    "mymap_2024"
   ]
  },
  {
   "cell_type": "code",
   "execution_count": 12,
   "metadata": {},
   "outputs": [],
   "source": [
    "# create a folium heatmap\n",
    "map_center = [greenery_total['lat'].mean(), greenery_total['long'].mean()]\n",
    "map_width = 800  \n",
    "map_height = 600 \n",
    "mymap = folium.Map(location=map_center, zoom_start=13, width=map_width, height=map_height)\n",
    "\n",
    "heat_data_green = greenery_total[['lat', 'long', 'total']].reset_index(drop=True).values.tolist()"
   ]
  },
  {
   "cell_type": "code",
   "execution_count": 13,
   "metadata": {},
   "outputs": [
    {
     "data": {
      "text/html": [
       "<div style=\"width:100%;\"><div style=\"position:relative;width:100%;height:0;padding-bottom:60%;\"><span style=\"color:#565656\">Make this Notebook Trusted to load map: File -> Trust Notebook</span><iframe srcdoc=\"&lt;!DOCTYPE html&gt;\n",
       "&lt;html&gt;\n",
       "&lt;head&gt;\n",
       "    \n",
       "    &lt;meta http-equiv=&quot;content-type&quot; content=&quot;text/html; charset=UTF-8&quot; /&gt;\n",
       "    \n",
       "        &lt;script&gt;\n",
       "            L_NO_TOUCH = false;\n",
       "            L_DISABLE_3D = false;\n",
       "        &lt;/script&gt;\n",
       "    \n",
       "    &lt;style&gt;html, body {width: 100%;height: 100%;margin: 0;padding: 0;}&lt;/style&gt;\n",
       "    &lt;style&gt;#map {position:absolute;top:0;bottom:0;right:0;left:0;}&lt;/style&gt;\n",
       "    &lt;script src=&quot;https://cdn.jsdelivr.net/npm/leaflet@1.9.3/dist/leaflet.js&quot;&gt;&lt;/script&gt;\n",
       "    &lt;script src=&quot;https://code.jquery.com/jquery-3.7.1.min.js&quot;&gt;&lt;/script&gt;\n",
       "    &lt;script src=&quot;https://cdn.jsdelivr.net/npm/bootstrap@5.2.2/dist/js/bootstrap.bundle.min.js&quot;&gt;&lt;/script&gt;\n",
       "    &lt;script src=&quot;https://cdnjs.cloudflare.com/ajax/libs/Leaflet.awesome-markers/2.0.2/leaflet.awesome-markers.js&quot;&gt;&lt;/script&gt;\n",
       "    &lt;link rel=&quot;stylesheet&quot; href=&quot;https://cdn.jsdelivr.net/npm/leaflet@1.9.3/dist/leaflet.css&quot;/&gt;\n",
       "    &lt;link rel=&quot;stylesheet&quot; href=&quot;https://cdn.jsdelivr.net/npm/bootstrap@5.2.2/dist/css/bootstrap.min.css&quot;/&gt;\n",
       "    &lt;link rel=&quot;stylesheet&quot; href=&quot;https://netdna.bootstrapcdn.com/bootstrap/3.0.0/css/bootstrap.min.css&quot;/&gt;\n",
       "    &lt;link rel=&quot;stylesheet&quot; href=&quot;https://cdn.jsdelivr.net/npm/@fortawesome/fontawesome-free@6.2.0/css/all.min.css&quot;/&gt;\n",
       "    &lt;link rel=&quot;stylesheet&quot; href=&quot;https://cdnjs.cloudflare.com/ajax/libs/Leaflet.awesome-markers/2.0.2/leaflet.awesome-markers.css&quot;/&gt;\n",
       "    &lt;link rel=&quot;stylesheet&quot; href=&quot;https://cdn.jsdelivr.net/gh/python-visualization/folium/folium/templates/leaflet.awesome.rotate.min.css&quot;/&gt;\n",
       "    \n",
       "            &lt;meta name=&quot;viewport&quot; content=&quot;width=device-width,\n",
       "                initial-scale=1.0, maximum-scale=1.0, user-scalable=no&quot; /&gt;\n",
       "            &lt;style&gt;\n",
       "                #map_3c0171113f5d00723cf5ab39ba68f274 {\n",
       "                    position: relative;\n",
       "                    width: 800.0px;\n",
       "                    height: 600.0px;\n",
       "                    left: 0.0%;\n",
       "                    top: 0.0%;\n",
       "                }\n",
       "                .leaflet-container { font-size: 1rem; }\n",
       "            &lt;/style&gt;\n",
       "        \n",
       "    &lt;script src=&quot;https://cdn.jsdelivr.net/gh/python-visualization/folium@main/folium/templates/leaflet_heat.min.js&quot;&gt;&lt;/script&gt;\n",
       "&lt;/head&gt;\n",
       "&lt;body&gt;\n",
       "    \n",
       "    \n",
       "            &lt;div class=&quot;folium-map&quot; id=&quot;map_3c0171113f5d00723cf5ab39ba68f274&quot; &gt;&lt;/div&gt;\n",
       "        \n",
       "&lt;/body&gt;\n",
       "&lt;script&gt;\n",
       "    \n",
       "    \n",
       "            var map_3c0171113f5d00723cf5ab39ba68f274 = L.map(\n",
       "                &quot;map_3c0171113f5d00723cf5ab39ba68f274&quot;,\n",
       "                {\n",
       "                    center: [37.60816477876106, -110.00636991150442],\n",
       "                    crs: L.CRS.EPSG3857,\n",
       "                    zoom: 13,\n",
       "                    zoomControl: true,\n",
       "                    preferCanvas: false,\n",
       "                }\n",
       "            );\n",
       "\n",
       "            \n",
       "\n",
       "        \n",
       "    \n",
       "            var tile_layer_95fbe8c987c0dc41463eb00d39e2add1 = L.tileLayer(\n",
       "                &quot;https://tile.openstreetmap.org/{z}/{x}/{y}.png&quot;,\n",
       "                {&quot;attribution&quot;: &quot;\\u0026copy; \\u003ca href=\\&quot;https://www.openstreetmap.org/copyright\\&quot;\\u003eOpenStreetMap\\u003c/a\\u003e contributors&quot;, &quot;detectRetina&quot;: false, &quot;maxNativeZoom&quot;: 19, &quot;maxZoom&quot;: 19, &quot;minZoom&quot;: 0, &quot;noWrap&quot;: false, &quot;opacity&quot;: 1, &quot;subdomains&quot;: &quot;abc&quot;, &quot;tms&quot;: false}\n",
       "            );\n",
       "        \n",
       "    \n",
       "            tile_layer_95fbe8c987c0dc41463eb00d39e2add1.addTo(map_3c0171113f5d00723cf5ab39ba68f274);\n",
       "        \n",
       "    \n",
       "            var heat_map_6ca3bfa6b7282e1db47db9a4d04537ed = L.heatLayer(\n",
       "                [[37.60413, -110.0472, -61.0], [37.60334, -110.0461, -48.0], [37.60308, -110.0458, -29.0], [37.60519, -110.0393, -15.0], [37.60545, -110.0389, -25.0], [37.59621, -110.0386, -29.0], [37.60202, -110.0376, -35.0], [37.6044, -110.0376, -18.0], [37.60096, -110.0365, -18.0], [37.60334, -110.0365, -59.0], [37.59489, -110.0355, -72.0], [37.59067, -110.0348, 1.0], [37.60123, -110.0345, -14.0], [37.6044, -110.0341, -9.0], [37.58882, -110.0338, 12.0], [37.59991, -110.0338, -38.0], [37.60492, -110.0334, -42.0], [37.60915, -110.0331, 6.0], [37.60334, -110.0328, -87.0], [37.60862, -110.0321, -36.0], [37.58935, -110.0314, 37.0], [37.59938, -110.03, 62.0], [37.60598, -110.029, -18.0], [37.61179, -110.029, -3.0], [37.60202, -110.0286, -23.0], [37.58671, -110.0283, -8.0], [37.58011, -110.028, -12.0], [37.59753, -110.028, -10.0], [37.60704, -110.0273, -24.0], [37.60308, -110.0262, -15.0], [37.60809, -110.0259, -83.0], [37.57668, -110.0245, 30.0], [37.61496, -110.0245, -36.0], [37.61284, -110.0242, -34.0], [37.57377, -110.0235, 7.0], [37.59595, -110.0218, -74.0], [37.5846, -110.0214, 25.0], [37.57984, -110.0208, -18.0], [37.57192, -110.0201, -1.0], [37.61205, -110.0177, -24.0], [37.6007, -110.0173, 16.0], [37.61416, -110.017, 47.0], [37.61258, -110.0153, 13.0], [37.58143, -110.0149, -71.0], [37.61839, -110.0146, -13.0], [37.62472, -110.0129, -37.0], [37.62736, -110.0129, -77.0], [37.59252, -110.0105, 7.0], [37.6139, -110.0105, 31.0], [37.62208, -110.0105, -26.0], [37.62024, -110.0101, -46.0], [37.59964, -110.0098, 29.0], [37.61839, -110.0094, -24.0], [37.57324, -110.0084, 8.0], [37.61733, -110.007, -8.0], [37.59436, -110.0057, -36.0], [37.61284, -110.0057, 38.0], [37.61892, -110.005, -39.0], [37.62657, -110.005, 13.0], [37.57034, -110.0046, 54.0], [37.59806, -110.0033, 13.0], [37.61707, -110.0033, 61.0], [37.62156, -110.0029, -72.0], [37.57324, -110.0022, 0.0], [37.5846, -110.0022, -89.0], [37.60915, -110.0022, -87.0], [37.57879, -110.0019, -23.0], [37.59146, -110.0016, 16.0], [37.61654, -110.0016, 25.0], [37.61733, -110.0012, 25.0], [37.61892, -110.0005, -12.0], [37.58565, -109.9998, -32.0], [37.62393, -109.9988, -63.0], [37.58988, -109.9978, -62.0], [37.6044, -109.9974, -12.0], [37.61997, -109.9971, 54.0], [37.59727, -109.995, -13.0], [37.62499, -109.994, -87.0], [37.6102, -109.9933, 3.0], [37.5941, -109.993, -52.0], [37.61865, -109.993, 38.0], [37.62684, -109.9926, -54.0], [37.63212, -109.9916, -61.0], [37.62578, -109.9913, 20.0], [37.59278, -109.9909, -7.0], [37.62736, -109.9882, 63.0], [37.62235, -109.9878, 19.0], [37.62156, -109.9858, 9.0], [37.62763, -109.9837, -4.0], [37.62974, -109.983, -51.0], [37.62816, -109.9823, 30.0], [37.6139, -109.9803, 1.0], [37.62868, -109.9799, 23.0], [37.60308, -109.9786, 29.0], [37.63027, -109.9786, 35.0], [37.62921, -109.9782, -23.0], [37.63344, -109.9775, 1.0], [37.62789, -109.9762, 22.0], [37.59912, -109.9758, -52.0], [37.60862, -109.9758, 8.0], [37.62684, -109.9758, 39.0], [37.61522, -109.9734, 18.0], [37.6308, -109.9731, 89.0], [37.63476, -109.9714, -9.0], [37.62631, -109.9693, 23.0], [37.61284, -109.969, 11.0], [37.61654, -109.9679, -13.0], [37.62974, -109.9679, 53.0], [37.62868, -109.9673, -30.0], [37.62446, -109.9669, -91.0], [37.60783, -109.9662, -4.0], [37.63159, -109.9662, 50.0], [37.62525, -109.9659, 40.0]],\n",
       "                {&quot;blur&quot;: 10, &quot;gradient&quot;: {&quot;0.2&quot;: &quot;red&quot;, &quot;0.4&quot;: &quot;brown&quot;, &quot;0.6&quot;: &quot;yellow&quot;, &quot;0.8&quot;: &quot;#32CD32&quot;, &quot;1&quot;: &quot;green&quot;}, &quot;maxZoom&quot;: 18, &quot;minOpacity&quot;: 0.5, &quot;radius&quot;: 20}\n",
       "            );\n",
       "        \n",
       "    \n",
       "            heat_map_6ca3bfa6b7282e1db47db9a4d04537ed.addTo(map_3c0171113f5d00723cf5ab39ba68f274);\n",
       "        \n",
       "&lt;/script&gt;\n",
       "&lt;/html&gt;\" style=\"position:absolute;width:100%;height:100%;left:0;top:0;border:none !important;\" allowfullscreen webkitallowfullscreen mozallowfullscreen></iframe></div></div>"
      ],
      "text/plain": [
       "<folium.folium.Map at 0x324f6ae10>"
      ]
     },
     "execution_count": 13,
     "metadata": {},
     "output_type": "execute_result"
    }
   ],
   "source": [
    "# the higher the gradient, the more greenery there is. \n",
    "HeatMap(heat_data_green, radius=20, blur=10, gradient={0.2: 'red', 0.4: 'brown', 0.6: 'yellow', 0.8: '#32CD32', 1: 'green'}).add_to(mymap)\n",
    "\n",
    "mymap"
   ]
  },
  {
   "cell_type": "code",
   "execution_count": 103,
   "metadata": {},
   "outputs": [],
   "source": [
    "# consider year; slide the slider to see the changes in greenery over the years\n",
    "greenery_year = greenery.groupby(['long', 'lat', 'year'])['total'].mean().reset_index()"
   ]
  },
  {
   "cell_type": "code",
   "execution_count": 106,
   "metadata": {},
   "outputs": [
    {
     "ename": "TypeError",
     "evalue": "TimeSliderChoropleth.__init__() missing 1 required positional argument: 'styledict'",
     "output_type": "error",
     "traceback": [
      "\u001b[0;31m---------------------------------------------------------------------------\u001b[0m",
      "\u001b[0;31mTypeError\u001b[0m                                 Traceback (most recent call last)",
      "Cell \u001b[0;32mIn[106], line 12\u001b[0m\n\u001b[1;32m      1\u001b[0m styledict \u001b[38;5;241m=\u001b[39m {\n\u001b[1;32m      2\u001b[0m     \u001b[38;5;28mstr\u001b[39m(year): {\n\u001b[1;32m      3\u001b[0m         \u001b[38;5;124m'\u001b[39m\u001b[38;5;124mradius\u001b[39m\u001b[38;5;124m'\u001b[39m: \u001b[38;5;241m20\u001b[39m,\n\u001b[0;32m   (...)\u001b[0m\n\u001b[1;32m      7\u001b[0m     } \u001b[38;5;28;01mfor\u001b[39;00m year \u001b[38;5;129;01min\u001b[39;00m greenery_year\u001b[38;5;241m.\u001b[39mkeys()\n\u001b[1;32m      8\u001b[0m }\n\u001b[1;32m     10\u001b[0m mymap2 \u001b[38;5;241m=\u001b[39m folium\u001b[38;5;241m.\u001b[39mMap(location\u001b[38;5;241m=\u001b[39mmap_center, zoom_start\u001b[38;5;241m=\u001b[39m\u001b[38;5;241m13\u001b[39m, width\u001b[38;5;241m=\u001b[39mmap_width, height\u001b[38;5;241m=\u001b[39mmap_height)\n\u001b[0;32m---> 12\u001b[0m \u001b[43mTimeSliderChoropleth\u001b[49m\u001b[43m(\u001b[49m\u001b[43mstyledict\u001b[49m\u001b[43m)\u001b[49m\u001b[38;5;241m.\u001b[39madd_to(mymap2)\n\u001b[1;32m     14\u001b[0m mymap2\n",
      "\u001b[0;31mTypeError\u001b[0m: TimeSliderChoropleth.__init__() missing 1 required positional argument: 'styledict'"
     ]
    }
   ],
   "source": [
    "styledict = {\n",
    "    str(year): {\n",
    "        'radius': 20,\n",
    "        'blur': 10,\n",
    "        'gradient': {0.2: 'red', 0.4: 'brown', 0.6: 'yellow', 0.8: '#32CD32', 1: 'green'},\n",
    "        'data': greenery_year[year]\n",
    "    } for year in greenery_year.keys()\n",
    "}\n",
    "\n",
    "mymap2 = folium.Map(location=map_center, zoom_start=13, width=map_width, height=map_height)\n",
    "\n",
    "TimeSliderChoropleth(styledict).add_to(mymap2)\n",
    "\n",
    "mymap2"
   ]
  },
  {
   "cell_type": "markdown",
   "metadata": {},
   "source": [
    "### Plant litter dataset"
   ]
  },
  {
   "cell_type": "code",
   "execution_count": 70,
   "metadata": {},
   "outputs": [],
   "source": [
    "# load the data\n",
    "litter = pd.read_csv('./data/cleaned_data/litter_data.csv')"
   ]
  },
  {
   "cell_type": "code",
   "execution_count": 71,
   "metadata": {},
   "outputs": [
    {
     "data": {
      "text/html": [
       "<div>\n",
       "<style scoped>\n",
       "    .dataframe tbody tr th:only-of-type {\n",
       "        vertical-align: middle;\n",
       "    }\n",
       "\n",
       "    .dataframe tbody tr th {\n",
       "        vertical-align: top;\n",
       "    }\n",
       "\n",
       "    .dataframe thead th {\n",
       "        text-align: right;\n",
       "    }\n",
       "</style>\n",
       "<table border=\"1\" class=\"dataframe\">\n",
       "  <thead>\n",
       "    <tr style=\"text-align: right;\">\n",
       "      <th></th>\n",
       "      <th>year</th>\n",
       "      <th>litter</th>\n",
       "      <th>t_winter</th>\n",
       "      <th>t_summer</th>\n",
       "      <th>t_annual</th>\n",
       "    </tr>\n",
       "  </thead>\n",
       "  <tbody>\n",
       "    <tr>\n",
       "      <th>0</th>\n",
       "      <td>1980</td>\n",
       "      <td>9</td>\n",
       "      <td>0.773</td>\n",
       "      <td>22.816</td>\n",
       "      <td>10.849</td>\n",
       "    </tr>\n",
       "    <tr>\n",
       "      <th>1</th>\n",
       "      <td>1981</td>\n",
       "      <td>9</td>\n",
       "      <td>3.239</td>\n",
       "      <td>22.874</td>\n",
       "      <td>10.993</td>\n",
       "    </tr>\n",
       "    <tr>\n",
       "      <th>2</th>\n",
       "      <td>1982</td>\n",
       "      <td>6</td>\n",
       "      <td>-0.201</td>\n",
       "      <td>21.620</td>\n",
       "      <td>11.135</td>\n",
       "    </tr>\n",
       "    <tr>\n",
       "      <th>3</th>\n",
       "      <td>1983</td>\n",
       "      <td>10</td>\n",
       "      <td>0.243</td>\n",
       "      <td>20.795</td>\n",
       "      <td>9.601</td>\n",
       "    </tr>\n",
       "    <tr>\n",
       "      <th>4</th>\n",
       "      <td>1984</td>\n",
       "      <td>6</td>\n",
       "      <td>-1.258</td>\n",
       "      <td>21.462</td>\n",
       "      <td>9.281</td>\n",
       "    </tr>\n",
       "  </tbody>\n",
       "</table>\n",
       "</div>"
      ],
      "text/plain": [
       "   year  litter  t_winter  t_summer  t_annual\n",
       "0  1980       9     0.773    22.816    10.849\n",
       "1  1981       9     3.239    22.874    10.993\n",
       "2  1982       6    -0.201    21.620    11.135\n",
       "3  1983      10     0.243    20.795     9.601\n",
       "4  1984       6    -1.258    21.462     9.281"
      ]
     },
     "execution_count": 71,
     "metadata": {},
     "output_type": "execute_result"
    }
   ],
   "source": [
    "# further data processing\n",
    "litter_copy = litter.copy()\n",
    "# drop long and lat and rcp columns\n",
    "litter_copy = litter_copy.drop(columns=['long', 'lat', 'rcp'], axis=1)\n",
    "\n",
    "# group by year and get the mean of the columns\n",
    "litter_copy = litter_copy.groupby('year', as_index=False).agg({'litter': lambda x: x.mode().iloc[0], \n",
    "                                     't_winter': 'mean', \n",
    "                                     't_summer': 'mean', \n",
    "                                     't_annual': 'mean'})\n",
    "\n",
    "# round the columns\n",
    "litter_copy = litter_copy.round({'t_winter': 3, 't_summer': 3, 't_annual': 3})\n",
    "\n",
    "litter_copy.head()"
   ]
  },
  {
   "cell_type": "code",
   "execution_count": 74,
   "metadata": {},
   "outputs": [
    {
     "data": {
      "text/plain": [
       "array([ 9,  6, 10,  8])"
      ]
     },
     "execution_count": 74,
     "metadata": {},
     "output_type": "execute_result"
    }
   ],
   "source": [
    "litter_copy.litter.unique()"
   ]
  },
  {
   "cell_type": "code",
   "execution_count": 72,
   "metadata": {},
   "outputs": [
    {
     "data": {
      "text/html": [
       "<div>\n",
       "<style scoped>\n",
       "    .dataframe tbody tr th:only-of-type {\n",
       "        vertical-align: middle;\n",
       "    }\n",
       "\n",
       "    .dataframe tbody tr th {\n",
       "        vertical-align: top;\n",
       "    }\n",
       "\n",
       "    .dataframe thead th {\n",
       "        text-align: right;\n",
       "    }\n",
       "</style>\n",
       "<table border=\"1\" class=\"dataframe\">\n",
       "  <thead>\n",
       "    <tr style=\"text-align: right;\">\n",
       "      <th></th>\n",
       "      <th>litter</th>\n",
       "      <th>t_winter</th>\n",
       "      <th>t_summer</th>\n",
       "      <th>t_annual</th>\n",
       "    </tr>\n",
       "  </thead>\n",
       "  <tbody>\n",
       "    <tr>\n",
       "      <th>0</th>\n",
       "      <td>1</td>\n",
       "      <td>0.669</td>\n",
       "      <td>23.375</td>\n",
       "      <td>11.700</td>\n",
       "    </tr>\n",
       "    <tr>\n",
       "      <th>1</th>\n",
       "      <td>2</td>\n",
       "      <td>1.068</td>\n",
       "      <td>23.999</td>\n",
       "      <td>12.444</td>\n",
       "    </tr>\n",
       "    <tr>\n",
       "      <th>2</th>\n",
       "      <td>3</td>\n",
       "      <td>1.015</td>\n",
       "      <td>23.804</td>\n",
       "      <td>12.093</td>\n",
       "    </tr>\n",
       "    <tr>\n",
       "      <th>3</th>\n",
       "      <td>5</td>\n",
       "      <td>0.737</td>\n",
       "      <td>23.440</td>\n",
       "      <td>11.589</td>\n",
       "    </tr>\n",
       "    <tr>\n",
       "      <th>4</th>\n",
       "      <td>6</td>\n",
       "      <td>0.900</td>\n",
       "      <td>23.800</td>\n",
       "      <td>12.057</td>\n",
       "    </tr>\n",
       "  </tbody>\n",
       "</table>\n",
       "</div>"
      ],
      "text/plain": [
       "   litter  t_winter  t_summer  t_annual\n",
       "0       1     0.669    23.375    11.700\n",
       "1       2     1.068    23.999    12.444\n",
       "2       3     1.015    23.804    12.093\n",
       "3       5     0.737    23.440    11.589\n",
       "4       6     0.900    23.800    12.057"
      ]
     },
     "execution_count": 72,
     "metadata": {},
     "output_type": "execute_result"
    }
   ],
   "source": [
    "litter_copy_2 = litter.copy()\n",
    "# drop long and lat and rcp columns\n",
    "litter_copy_2 = litter_copy_2.drop(columns=['long', 'lat', 'rcp', 'year'], axis=1)\n",
    "\n",
    "# group by litter column\n",
    "litter_copy_2 = litter_copy_2.groupby('litter', as_index=False).agg({'t_winter': 'mean', \n",
    "                                     't_summer': 'mean', \n",
    "                                     't_annual': 'mean'})\n",
    "\n",
    "# round the columns\n",
    "litter_copy_2 = litter_copy_2.round({'t_winter': 3, 't_summer': 3, 't_annual': 3})\n",
    "\n",
    "litter_copy_2.head()"
   ]
  },
  {
   "cell_type": "code",
   "execution_count": 73,
   "metadata": {},
   "outputs": [
    {
     "data": {
      "text/plain": [
       "array([ 1,  2,  3,  5,  6,  7,  8,  9, 10, 11, 12, 13, 14, 15, 16, 17, 18,\n",
       "       19, 20, 21, 22, 24, 25, 26])"
      ]
     },
     "execution_count": 73,
     "metadata": {},
     "output_type": "execute_result"
    }
   ],
   "source": [
    "litter_copy_2.litter.unique()"
   ]
  },
  {
   "cell_type": "code",
   "execution_count": 190,
   "metadata": {},
   "outputs": [
    {
     "data": {
      "application/vnd.plotly.v1+json": {
       "config": {
        "plotlyServerURL": "https://plot.ly"
       },
       "data": [
        {
         "hovertemplate": "Litter: %{x}<br>Annual Temperature: %{y:.3f}<extra></extra>",
         "legendgroup": "",
         "marker": {
          "color": "#A7C6DA",
          "symbol": "circle"
         },
         "mode": "markers",
         "name": "",
         "orientation": "v",
         "showlegend": false,
         "type": "scatter",
         "x": [
          1,
          2,
          3,
          5,
          6,
          7,
          8,
          9,
          10,
          11,
          12,
          13,
          14,
          15,
          16,
          17,
          18,
          19,
          20,
          21,
          22,
          24,
          25,
          26
         ],
         "xaxis": "x",
         "y": [
          11.7,
          12.444,
          12.093,
          11.589,
          12.057,
          12.034,
          12.067,
          12.051,
          11.846,
          12.057,
          12.064,
          11.778,
          11.568,
          11.769,
          11.195,
          12.293,
          11.603,
          11.904,
          10.954,
          11.525,
          12.104,
          11.292,
          11.738,
          11.319
         ],
         "yaxis": "y"
        },
        {
         "hovertemplate": "Regression Line<br>x: %{x}<br>y: %{y:.3f}<extra></extra>",
         "legendgroup": "",
         "marker": {
          "color": "#A7C6DA",
          "symbol": "circle"
         },
         "mode": "lines",
         "name": "",
         "showlegend": false,
         "type": "scatter",
         "x": [
          1,
          2,
          3,
          5,
          6,
          7,
          8,
          9,
          10,
          11,
          12,
          13,
          14,
          15,
          16,
          17,
          18,
          19,
          20,
          21,
          22,
          24,
          25,
          26
         ],
         "xaxis": "x",
         "y": [
          12.105268720748835,
          12.08032722308893,
          12.055385725429023,
          12.005502730109209,
          11.980561232449302,
          11.955619734789396,
          11.93067823712949,
          11.905736739469583,
          11.880795241809677,
          11.85585374414977,
          11.830912246489863,
          11.805970748829957,
          11.78102925117005,
          11.756087753510144,
          11.731146255850238,
          11.706204758190331,
          11.681263260530423,
          11.656321762870517,
          11.63138026521061,
          11.606438767550705,
          11.581497269890798,
          11.531614274570986,
          11.506672776911078,
          11.481731279251171
         ],
         "yaxis": "y"
        },
        {
         "line": {
          "color": "#CA68C8"
         },
         "mode": "lines",
         "name": "Trendline",
         "type": "scatter",
         "x": [
          1,
          2,
          3,
          5,
          6,
          7,
          8,
          9,
          10,
          11,
          12,
          13,
          14,
          15,
          16,
          17,
          18,
          19,
          20,
          21,
          22,
          24,
          25,
          26
         ],
         "y": [
          12.105268720748835,
          12.08032722308893,
          12.055385725429023,
          12.005502730109209,
          11.980561232449302,
          11.955619734789396,
          11.93067823712949,
          11.905736739469583,
          11.880795241809677,
          11.85585374414977,
          11.830912246489863,
          11.805970748829957,
          11.78102925117005,
          11.756087753510144,
          11.731146255850238,
          11.706204758190331,
          11.681263260530423,
          11.656321762870517,
          11.63138026521061,
          11.606438767550705,
          11.581497269890798,
          11.531614274570986,
          11.506672776911078,
          11.481731279251171
         ]
        }
       ],
       "layout": {
        "height": 600,
        "legend": {
         "tracegroupgap": 0
        },
        "plot_bgcolor": "white",
        "template": {
         "data": {
          "bar": [
           {
            "error_x": {
             "color": "#2a3f5f"
            },
            "error_y": {
             "color": "#2a3f5f"
            },
            "marker": {
             "line": {
              "color": "#E5ECF6",
              "width": 0.5
             },
             "pattern": {
              "fillmode": "overlay",
              "size": 10,
              "solidity": 0.2
             }
            },
            "type": "bar"
           }
          ],
          "barpolar": [
           {
            "marker": {
             "line": {
              "color": "#E5ECF6",
              "width": 0.5
             },
             "pattern": {
              "fillmode": "overlay",
              "size": 10,
              "solidity": 0.2
             }
            },
            "type": "barpolar"
           }
          ],
          "carpet": [
           {
            "aaxis": {
             "endlinecolor": "#2a3f5f",
             "gridcolor": "white",
             "linecolor": "white",
             "minorgridcolor": "white",
             "startlinecolor": "#2a3f5f"
            },
            "baxis": {
             "endlinecolor": "#2a3f5f",
             "gridcolor": "white",
             "linecolor": "white",
             "minorgridcolor": "white",
             "startlinecolor": "#2a3f5f"
            },
            "type": "carpet"
           }
          ],
          "choropleth": [
           {
            "colorbar": {
             "outlinewidth": 0,
             "ticks": ""
            },
            "type": "choropleth"
           }
          ],
          "contour": [
           {
            "colorbar": {
             "outlinewidth": 0,
             "ticks": ""
            },
            "colorscale": [
             [
              0,
              "#0d0887"
             ],
             [
              0.1111111111111111,
              "#46039f"
             ],
             [
              0.2222222222222222,
              "#7201a8"
             ],
             [
              0.3333333333333333,
              "#9c179e"
             ],
             [
              0.4444444444444444,
              "#bd3786"
             ],
             [
              0.5555555555555556,
              "#d8576b"
             ],
             [
              0.6666666666666666,
              "#ed7953"
             ],
             [
              0.7777777777777778,
              "#fb9f3a"
             ],
             [
              0.8888888888888888,
              "#fdca26"
             ],
             [
              1,
              "#f0f921"
             ]
            ],
            "type": "contour"
           }
          ],
          "contourcarpet": [
           {
            "colorbar": {
             "outlinewidth": 0,
             "ticks": ""
            },
            "type": "contourcarpet"
           }
          ],
          "heatmap": [
           {
            "colorbar": {
             "outlinewidth": 0,
             "ticks": ""
            },
            "colorscale": [
             [
              0,
              "#0d0887"
             ],
             [
              0.1111111111111111,
              "#46039f"
             ],
             [
              0.2222222222222222,
              "#7201a8"
             ],
             [
              0.3333333333333333,
              "#9c179e"
             ],
             [
              0.4444444444444444,
              "#bd3786"
             ],
             [
              0.5555555555555556,
              "#d8576b"
             ],
             [
              0.6666666666666666,
              "#ed7953"
             ],
             [
              0.7777777777777778,
              "#fb9f3a"
             ],
             [
              0.8888888888888888,
              "#fdca26"
             ],
             [
              1,
              "#f0f921"
             ]
            ],
            "type": "heatmap"
           }
          ],
          "heatmapgl": [
           {
            "colorbar": {
             "outlinewidth": 0,
             "ticks": ""
            },
            "colorscale": [
             [
              0,
              "#0d0887"
             ],
             [
              0.1111111111111111,
              "#46039f"
             ],
             [
              0.2222222222222222,
              "#7201a8"
             ],
             [
              0.3333333333333333,
              "#9c179e"
             ],
             [
              0.4444444444444444,
              "#bd3786"
             ],
             [
              0.5555555555555556,
              "#d8576b"
             ],
             [
              0.6666666666666666,
              "#ed7953"
             ],
             [
              0.7777777777777778,
              "#fb9f3a"
             ],
             [
              0.8888888888888888,
              "#fdca26"
             ],
             [
              1,
              "#f0f921"
             ]
            ],
            "type": "heatmapgl"
           }
          ],
          "histogram": [
           {
            "marker": {
             "pattern": {
              "fillmode": "overlay",
              "size": 10,
              "solidity": 0.2
             }
            },
            "type": "histogram"
           }
          ],
          "histogram2d": [
           {
            "colorbar": {
             "outlinewidth": 0,
             "ticks": ""
            },
            "colorscale": [
             [
              0,
              "#0d0887"
             ],
             [
              0.1111111111111111,
              "#46039f"
             ],
             [
              0.2222222222222222,
              "#7201a8"
             ],
             [
              0.3333333333333333,
              "#9c179e"
             ],
             [
              0.4444444444444444,
              "#bd3786"
             ],
             [
              0.5555555555555556,
              "#d8576b"
             ],
             [
              0.6666666666666666,
              "#ed7953"
             ],
             [
              0.7777777777777778,
              "#fb9f3a"
             ],
             [
              0.8888888888888888,
              "#fdca26"
             ],
             [
              1,
              "#f0f921"
             ]
            ],
            "type": "histogram2d"
           }
          ],
          "histogram2dcontour": [
           {
            "colorbar": {
             "outlinewidth": 0,
             "ticks": ""
            },
            "colorscale": [
             [
              0,
              "#0d0887"
             ],
             [
              0.1111111111111111,
              "#46039f"
             ],
             [
              0.2222222222222222,
              "#7201a8"
             ],
             [
              0.3333333333333333,
              "#9c179e"
             ],
             [
              0.4444444444444444,
              "#bd3786"
             ],
             [
              0.5555555555555556,
              "#d8576b"
             ],
             [
              0.6666666666666666,
              "#ed7953"
             ],
             [
              0.7777777777777778,
              "#fb9f3a"
             ],
             [
              0.8888888888888888,
              "#fdca26"
             ],
             [
              1,
              "#f0f921"
             ]
            ],
            "type": "histogram2dcontour"
           }
          ],
          "mesh3d": [
           {
            "colorbar": {
             "outlinewidth": 0,
             "ticks": ""
            },
            "type": "mesh3d"
           }
          ],
          "parcoords": [
           {
            "line": {
             "colorbar": {
              "outlinewidth": 0,
              "ticks": ""
             }
            },
            "type": "parcoords"
           }
          ],
          "pie": [
           {
            "automargin": true,
            "type": "pie"
           }
          ],
          "scatter": [
           {
            "fillpattern": {
             "fillmode": "overlay",
             "size": 10,
             "solidity": 0.2
            },
            "type": "scatter"
           }
          ],
          "scatter3d": [
           {
            "line": {
             "colorbar": {
              "outlinewidth": 0,
              "ticks": ""
             }
            },
            "marker": {
             "colorbar": {
              "outlinewidth": 0,
              "ticks": ""
             }
            },
            "type": "scatter3d"
           }
          ],
          "scattercarpet": [
           {
            "marker": {
             "colorbar": {
              "outlinewidth": 0,
              "ticks": ""
             }
            },
            "type": "scattercarpet"
           }
          ],
          "scattergeo": [
           {
            "marker": {
             "colorbar": {
              "outlinewidth": 0,
              "ticks": ""
             }
            },
            "type": "scattergeo"
           }
          ],
          "scattergl": [
           {
            "marker": {
             "colorbar": {
              "outlinewidth": 0,
              "ticks": ""
             }
            },
            "type": "scattergl"
           }
          ],
          "scattermapbox": [
           {
            "marker": {
             "colorbar": {
              "outlinewidth": 0,
              "ticks": ""
             }
            },
            "type": "scattermapbox"
           }
          ],
          "scatterpolar": [
           {
            "marker": {
             "colorbar": {
              "outlinewidth": 0,
              "ticks": ""
             }
            },
            "type": "scatterpolar"
           }
          ],
          "scatterpolargl": [
           {
            "marker": {
             "colorbar": {
              "outlinewidth": 0,
              "ticks": ""
             }
            },
            "type": "scatterpolargl"
           }
          ],
          "scatterternary": [
           {
            "marker": {
             "colorbar": {
              "outlinewidth": 0,
              "ticks": ""
             }
            },
            "type": "scatterternary"
           }
          ],
          "surface": [
           {
            "colorbar": {
             "outlinewidth": 0,
             "ticks": ""
            },
            "colorscale": [
             [
              0,
              "#0d0887"
             ],
             [
              0.1111111111111111,
              "#46039f"
             ],
             [
              0.2222222222222222,
              "#7201a8"
             ],
             [
              0.3333333333333333,
              "#9c179e"
             ],
             [
              0.4444444444444444,
              "#bd3786"
             ],
             [
              0.5555555555555556,
              "#d8576b"
             ],
             [
              0.6666666666666666,
              "#ed7953"
             ],
             [
              0.7777777777777778,
              "#fb9f3a"
             ],
             [
              0.8888888888888888,
              "#fdca26"
             ],
             [
              1,
              "#f0f921"
             ]
            ],
            "type": "surface"
           }
          ],
          "table": [
           {
            "cells": {
             "fill": {
              "color": "#EBF0F8"
             },
             "line": {
              "color": "white"
             }
            },
            "header": {
             "fill": {
              "color": "#C8D4E3"
             },
             "line": {
              "color": "white"
             }
            },
            "type": "table"
           }
          ]
         },
         "layout": {
          "annotationdefaults": {
           "arrowcolor": "#2a3f5f",
           "arrowhead": 0,
           "arrowwidth": 1
          },
          "autotypenumbers": "strict",
          "coloraxis": {
           "colorbar": {
            "outlinewidth": 0,
            "ticks": ""
           }
          },
          "colorscale": {
           "diverging": [
            [
             0,
             "#8e0152"
            ],
            [
             0.1,
             "#c51b7d"
            ],
            [
             0.2,
             "#de77ae"
            ],
            [
             0.3,
             "#f1b6da"
            ],
            [
             0.4,
             "#fde0ef"
            ],
            [
             0.5,
             "#f7f7f7"
            ],
            [
             0.6,
             "#e6f5d0"
            ],
            [
             0.7,
             "#b8e186"
            ],
            [
             0.8,
             "#7fbc41"
            ],
            [
             0.9,
             "#4d9221"
            ],
            [
             1,
             "#276419"
            ]
           ],
           "sequential": [
            [
             0,
             "#0d0887"
            ],
            [
             0.1111111111111111,
             "#46039f"
            ],
            [
             0.2222222222222222,
             "#7201a8"
            ],
            [
             0.3333333333333333,
             "#9c179e"
            ],
            [
             0.4444444444444444,
             "#bd3786"
            ],
            [
             0.5555555555555556,
             "#d8576b"
            ],
            [
             0.6666666666666666,
             "#ed7953"
            ],
            [
             0.7777777777777778,
             "#fb9f3a"
            ],
            [
             0.8888888888888888,
             "#fdca26"
            ],
            [
             1,
             "#f0f921"
            ]
           ],
           "sequentialminus": [
            [
             0,
             "#0d0887"
            ],
            [
             0.1111111111111111,
             "#46039f"
            ],
            [
             0.2222222222222222,
             "#7201a8"
            ],
            [
             0.3333333333333333,
             "#9c179e"
            ],
            [
             0.4444444444444444,
             "#bd3786"
            ],
            [
             0.5555555555555556,
             "#d8576b"
            ],
            [
             0.6666666666666666,
             "#ed7953"
            ],
            [
             0.7777777777777778,
             "#fb9f3a"
            ],
            [
             0.8888888888888888,
             "#fdca26"
            ],
            [
             1,
             "#f0f921"
            ]
           ]
          },
          "colorway": [
           "#636efa",
           "#EF553B",
           "#00cc96",
           "#ab63fa",
           "#FFA15A",
           "#19d3f3",
           "#FF6692",
           "#B6E880",
           "#FF97FF",
           "#FECB52"
          ],
          "font": {
           "color": "#2a3f5f"
          },
          "geo": {
           "bgcolor": "white",
           "lakecolor": "white",
           "landcolor": "#E5ECF6",
           "showlakes": true,
           "showland": true,
           "subunitcolor": "white"
          },
          "hoverlabel": {
           "align": "left"
          },
          "hovermode": "closest",
          "mapbox": {
           "style": "light"
          },
          "paper_bgcolor": "white",
          "plot_bgcolor": "#E5ECF6",
          "polar": {
           "angularaxis": {
            "gridcolor": "white",
            "linecolor": "white",
            "ticks": ""
           },
           "bgcolor": "#E5ECF6",
           "radialaxis": {
            "gridcolor": "white",
            "linecolor": "white",
            "ticks": ""
           }
          },
          "scene": {
           "xaxis": {
            "backgroundcolor": "#E5ECF6",
            "gridcolor": "white",
            "gridwidth": 2,
            "linecolor": "white",
            "showbackground": true,
            "ticks": "",
            "zerolinecolor": "white"
           },
           "yaxis": {
            "backgroundcolor": "#E5ECF6",
            "gridcolor": "white",
            "gridwidth": 2,
            "linecolor": "white",
            "showbackground": true,
            "ticks": "",
            "zerolinecolor": "white"
           },
           "zaxis": {
            "backgroundcolor": "#E5ECF6",
            "gridcolor": "white",
            "gridwidth": 2,
            "linecolor": "white",
            "showbackground": true,
            "ticks": "",
            "zerolinecolor": "white"
           }
          },
          "shapedefaults": {
           "line": {
            "color": "#2a3f5f"
           }
          },
          "ternary": {
           "aaxis": {
            "gridcolor": "white",
            "linecolor": "white",
            "ticks": ""
           },
           "baxis": {
            "gridcolor": "white",
            "linecolor": "white",
            "ticks": ""
           },
           "bgcolor": "#E5ECF6",
           "caxis": {
            "gridcolor": "white",
            "linecolor": "white",
            "ticks": ""
           }
          },
          "title": {
           "x": 0.05
          },
          "xaxis": {
           "automargin": true,
           "gridcolor": "white",
           "linecolor": "white",
           "ticks": "",
           "title": {
            "standoff": 15
           },
           "zerolinecolor": "white",
           "zerolinewidth": 2
          },
          "yaxis": {
           "automargin": true,
           "gridcolor": "white",
           "linecolor": "white",
           "ticks": "",
           "title": {
            "standoff": 15
           },
           "zerolinecolor": "white",
           "zerolinewidth": 2
          }
         }
        },
        "title": {
         "text": "Relationship between Annual Temperature and Litter"
        },
        "width": 1100,
        "xaxis": {
         "anchor": "y",
         "domain": [
          0,
          1
         ],
         "linecolor": "black",
         "showline": true,
         "title": {
          "text": "Litter"
         }
        },
        "yaxis": {
         "anchor": "x",
         "domain": [
          0,
          1
         ],
         "linecolor": "black",
         "showline": true,
         "title": {
          "text": "Annual Temperature"
         }
        }
       }
      }
     },
     "metadata": {},
     "output_type": "display_data"
    }
   ],
   "source": [
    "fig = px.scatter(litter_copy_2, x='litter', y='t_annual', trendline = 'ols', title='Relationship between Annual Temperature and Litter',color_discrete_sequence=['#A7C6DA'])\n",
    "\n",
    "regression_line = fig.data[1]\n",
    "\n",
    "fig.add_trace(go.Scatter(x=regression_line.x, y=regression_line.y, mode='lines', name='Trendline', line = dict(color='#CA68C8')))\n",
    "\n",
    "fig.update_layout(\n",
    "    plot_bgcolor='white',\n",
    "    xaxis_title='Litter',\n",
    "    yaxis_title='Annual Temperature',\n",
    "    width=1100, \n",
    "    height=600,\n",
    "    xaxis=dict(\n",
    "        showline=True,   \n",
    "        linecolor='black'\n",
    "    ),\n",
    "    yaxis=dict(\n",
    "        showline=True, \n",
    "        linecolor='black'\n",
    "    )\n",
    ")\n",
    "\n",
    "fig.data[0].update(\n",
    "    hovertemplate='Litter: %{x}<br>Annual Temperature: %{y:.3f}<extra></extra>'\n",
    ")\n",
    "\n",
    "fig.data[1].update(\n",
    "    hovertemplate='Regression Line<br>x: %{x}<br>y: %{y:.3f}<extra></extra>'\n",
    ")\n",
    "\n",
    "fig.show()"
   ]
  },
  {
   "cell_type": "markdown",
   "metadata": {},
   "source": [
    "### VWC dataset"
   ]
  },
  {
   "cell_type": "code",
   "execution_count": 166,
   "metadata": {},
   "outputs": [
    {
     "data": {
      "text/html": [
       "<div>\n",
       "<style scoped>\n",
       "    .dataframe tbody tr th:only-of-type {\n",
       "        vertical-align: middle;\n",
       "    }\n",
       "\n",
       "    .dataframe tbody tr th {\n",
       "        vertical-align: top;\n",
       "    }\n",
       "\n",
       "    .dataframe thead th {\n",
       "        text-align: right;\n",
       "    }\n",
       "</style>\n",
       "<table border=\"1\" class=\"dataframe\">\n",
       "  <thead>\n",
       "    <tr style=\"text-align: right;\">\n",
       "      <th></th>\n",
       "      <th>long</th>\n",
       "      <th>lat</th>\n",
       "      <th>year</th>\n",
       "      <th>rcp</th>\n",
       "      <th>evap_summer</th>\n",
       "      <th>vwc_winter_whole</th>\n",
       "      <th>vwc_spring_whole</th>\n",
       "      <th>vwc_summer_whole</th>\n",
       "      <th>vwc_fall_whole</th>\n",
       "    </tr>\n",
       "  </thead>\n",
       "  <tbody>\n",
       "    <tr>\n",
       "      <th>0</th>\n",
       "      <td>-110.0472</td>\n",
       "      <td>37.60413</td>\n",
       "      <td>1980</td>\n",
       "      <td>historical</td>\n",
       "      <td>NaN</td>\n",
       "      <td>0.128169</td>\n",
       "      <td>0.112395</td>\n",
       "      <td>0.069182</td>\n",
       "      <td>0.095330</td>\n",
       "    </tr>\n",
       "    <tr>\n",
       "      <th>1</th>\n",
       "      <td>-110.0472</td>\n",
       "      <td>37.60413</td>\n",
       "      <td>1980</td>\n",
       "      <td>historical</td>\n",
       "      <td>NaN</td>\n",
       "      <td>0.128169</td>\n",
       "      <td>0.112395</td>\n",
       "      <td>0.069182</td>\n",
       "      <td>0.095330</td>\n",
       "    </tr>\n",
       "    <tr>\n",
       "      <th>2</th>\n",
       "      <td>-110.0472</td>\n",
       "      <td>37.60413</td>\n",
       "      <td>1980</td>\n",
       "      <td>historical</td>\n",
       "      <td>NaN</td>\n",
       "      <td>0.128169</td>\n",
       "      <td>0.112395</td>\n",
       "      <td>0.069182</td>\n",
       "      <td>0.095330</td>\n",
       "    </tr>\n",
       "    <tr>\n",
       "      <th>3</th>\n",
       "      <td>-110.0472</td>\n",
       "      <td>37.60413</td>\n",
       "      <td>1980</td>\n",
       "      <td>historical</td>\n",
       "      <td>NaN</td>\n",
       "      <td>0.128169</td>\n",
       "      <td>0.112395</td>\n",
       "      <td>0.069182</td>\n",
       "      <td>0.095330</td>\n",
       "    </tr>\n",
       "    <tr>\n",
       "      <th>4</th>\n",
       "      <td>-110.0472</td>\n",
       "      <td>37.60413</td>\n",
       "      <td>1980</td>\n",
       "      <td>historical</td>\n",
       "      <td>1.559807</td>\n",
       "      <td>0.113447</td>\n",
       "      <td>0.096831</td>\n",
       "      <td>0.041876</td>\n",
       "      <td>0.052298</td>\n",
       "    </tr>\n",
       "  </tbody>\n",
       "</table>\n",
       "</div>"
      ],
      "text/plain": [
       "       long       lat  year         rcp  evap_summer  vwc_winter_whole  \\\n",
       "0 -110.0472  37.60413  1980  historical          NaN          0.128169   \n",
       "1 -110.0472  37.60413  1980  historical          NaN          0.128169   \n",
       "2 -110.0472  37.60413  1980  historical          NaN          0.128169   \n",
       "3 -110.0472  37.60413  1980  historical          NaN          0.128169   \n",
       "4 -110.0472  37.60413  1980  historical     1.559807          0.113447   \n",
       "\n",
       "   vwc_spring_whole  vwc_summer_whole  vwc_fall_whole  \n",
       "0          0.112395          0.069182        0.095330  \n",
       "1          0.112395          0.069182        0.095330  \n",
       "2          0.112395          0.069182        0.095330  \n",
       "3          0.112395          0.069182        0.095330  \n",
       "4          0.096831          0.041876        0.052298  "
      ]
     },
     "execution_count": 166,
     "metadata": {},
     "output_type": "execute_result"
    }
   ],
   "source": [
    "# load the data\n",
    "vwc = pd.read_csv('./data/cleaned_data/vwc_data.csv')\n",
    "vwc.head()"
   ]
  },
  {
   "cell_type": "code",
   "execution_count": 167,
   "metadata": {},
   "outputs": [],
   "source": [
    "# further data cleaning\n",
    "vwc_melt = pd.melt(vwc, id_vars=['long', 'lat', 'year', 'rcp'], value_vars=['vwc_winter_whole', 'vwc_spring_whole', 'vwc_summer_whole', 'vwc_fall_whole'], var_name='season', value_name='vwc')\n",
    "vwc_grouped = vwc_melt.groupby(['year', 'rcp', 'season']).agg({'vwc': 'mean'}).reset_index()\n",
    "vwc_grouped = vwc_grouped.round({'vwc': 3})\n",
    "vwc_grouped['rcp'] = vwc_grouped['rcp'].astype('str')\n",
    "vwc_grouped.head()\n",
    "vwc_grouped.to_csv('./data/cleaned_data/vwc_grouped.csv', index=False)"
   ]
  },
  {
   "cell_type": "code",
   "execution_count": 168,
   "metadata": {},
   "outputs": [
    {
     "data": {
      "text/html": [
       "<div>\n",
       "<style scoped>\n",
       "    .dataframe tbody tr th:only-of-type {\n",
       "        vertical-align: middle;\n",
       "    }\n",
       "\n",
       "    .dataframe tbody tr th {\n",
       "        vertical-align: top;\n",
       "    }\n",
       "\n",
       "    .dataframe thead th {\n",
       "        text-align: right;\n",
       "    }\n",
       "</style>\n",
       "<table border=\"1\" class=\"dataframe\">\n",
       "  <thead>\n",
       "    <tr style=\"text-align: right;\">\n",
       "      <th></th>\n",
       "      <th>year</th>\n",
       "      <th>rcp</th>\n",
       "      <th>season</th>\n",
       "      <th>vwc</th>\n",
       "    </tr>\n",
       "  </thead>\n",
       "  <tbody>\n",
       "    <tr>\n",
       "      <th>0</th>\n",
       "      <td>1980</td>\n",
       "      <td>historical</td>\n",
       "      <td>vwc_fall_whole</td>\n",
       "      <td>0.090</td>\n",
       "    </tr>\n",
       "    <tr>\n",
       "      <th>1</th>\n",
       "      <td>1980</td>\n",
       "      <td>historical</td>\n",
       "      <td>vwc_spring_whole</td>\n",
       "      <td>0.120</td>\n",
       "    </tr>\n",
       "    <tr>\n",
       "      <th>2</th>\n",
       "      <td>1980</td>\n",
       "      <td>historical</td>\n",
       "      <td>vwc_summer_whole</td>\n",
       "      <td>0.069</td>\n",
       "    </tr>\n",
       "    <tr>\n",
       "      <th>3</th>\n",
       "      <td>1980</td>\n",
       "      <td>historical</td>\n",
       "      <td>vwc_winter_whole</td>\n",
       "      <td>0.131</td>\n",
       "    </tr>\n",
       "    <tr>\n",
       "      <th>4</th>\n",
       "      <td>1981</td>\n",
       "      <td>historical</td>\n",
       "      <td>vwc_fall_whole</td>\n",
       "      <td>0.102</td>\n",
       "    </tr>\n",
       "    <tr>\n",
       "      <th>...</th>\n",
       "      <td>...</td>\n",
       "      <td>...</td>\n",
       "      <td>...</td>\n",
       "      <td>...</td>\n",
       "    </tr>\n",
       "    <tr>\n",
       "      <th>215</th>\n",
       "      <td>2024</td>\n",
       "      <td>4.5</td>\n",
       "      <td>vwc_winter_whole</td>\n",
       "      <td>0.130</td>\n",
       "    </tr>\n",
       "    <tr>\n",
       "      <th>216</th>\n",
       "      <td>2024</td>\n",
       "      <td>8.5</td>\n",
       "      <td>vwc_fall_whole</td>\n",
       "      <td>0.096</td>\n",
       "    </tr>\n",
       "    <tr>\n",
       "      <th>217</th>\n",
       "      <td>2024</td>\n",
       "      <td>8.5</td>\n",
       "      <td>vwc_spring_whole</td>\n",
       "      <td>0.111</td>\n",
       "    </tr>\n",
       "    <tr>\n",
       "      <th>218</th>\n",
       "      <td>2024</td>\n",
       "      <td>8.5</td>\n",
       "      <td>vwc_summer_whole</td>\n",
       "      <td>0.068</td>\n",
       "    </tr>\n",
       "    <tr>\n",
       "      <th>219</th>\n",
       "      <td>2024</td>\n",
       "      <td>8.5</td>\n",
       "      <td>vwc_winter_whole</td>\n",
       "      <td>0.129</td>\n",
       "    </tr>\n",
       "  </tbody>\n",
       "</table>\n",
       "<p>220 rows × 4 columns</p>\n",
       "</div>"
      ],
      "text/plain": [
       "     year         rcp            season    vwc\n",
       "0    1980  historical    vwc_fall_whole  0.090\n",
       "1    1980  historical  vwc_spring_whole  0.120\n",
       "2    1980  historical  vwc_summer_whole  0.069\n",
       "3    1980  historical  vwc_winter_whole  0.131\n",
       "4    1981  historical    vwc_fall_whole  0.102\n",
       "..    ...         ...               ...    ...\n",
       "215  2024         4.5  vwc_winter_whole  0.130\n",
       "216  2024         8.5    vwc_fall_whole  0.096\n",
       "217  2024         8.5  vwc_spring_whole  0.111\n",
       "218  2024         8.5  vwc_summer_whole  0.068\n",
       "219  2024         8.5  vwc_winter_whole  0.129\n",
       "\n",
       "[220 rows x 4 columns]"
      ]
     },
     "execution_count": 168,
     "metadata": {},
     "output_type": "execute_result"
    }
   ],
   "source": [
    "vwc_grouped"
   ]
  },
  {
   "cell_type": "code",
   "execution_count": 172,
   "metadata": {},
   "outputs": [
    {
     "data": {
      "text/html": [
       "<div>\n",
       "<style scoped>\n",
       "    .dataframe tbody tr th:only-of-type {\n",
       "        vertical-align: middle;\n",
       "    }\n",
       "\n",
       "    .dataframe tbody tr th {\n",
       "        vertical-align: top;\n",
       "    }\n",
       "\n",
       "    .dataframe thead th {\n",
       "        text-align: right;\n",
       "    }\n",
       "</style>\n",
       "<table border=\"1\" class=\"dataframe\">\n",
       "  <thead>\n",
       "    <tr style=\"text-align: right;\">\n",
       "      <th></th>\n",
       "      <th>season</th>\n",
       "      <th>rcp</th>\n",
       "      <th>vwc</th>\n",
       "    </tr>\n",
       "  </thead>\n",
       "  <tbody>\n",
       "    <tr>\n",
       "      <th>0</th>\n",
       "      <td>vwc_fall_whole</td>\n",
       "      <td>4.5</td>\n",
       "      <td>0.099125</td>\n",
       "    </tr>\n",
       "    <tr>\n",
       "      <th>1</th>\n",
       "      <td>vwc_fall_whole</td>\n",
       "      <td>8.5</td>\n",
       "      <td>0.099000</td>\n",
       "    </tr>\n",
       "    <tr>\n",
       "      <th>2</th>\n",
       "      <td>vwc_fall_whole</td>\n",
       "      <td>historical</td>\n",
       "      <td>0.094897</td>\n",
       "    </tr>\n",
       "    <tr>\n",
       "      <th>3</th>\n",
       "      <td>vwc_spring_whole</td>\n",
       "      <td>4.5</td>\n",
       "      <td>0.118875</td>\n",
       "    </tr>\n",
       "    <tr>\n",
       "      <th>4</th>\n",
       "      <td>vwc_spring_whole</td>\n",
       "      <td>8.5</td>\n",
       "      <td>0.119875</td>\n",
       "    </tr>\n",
       "    <tr>\n",
       "      <th>5</th>\n",
       "      <td>vwc_spring_whole</td>\n",
       "      <td>historical</td>\n",
       "      <td>0.111282</td>\n",
       "    </tr>\n",
       "    <tr>\n",
       "      <th>6</th>\n",
       "      <td>vwc_summer_whole</td>\n",
       "      <td>4.5</td>\n",
       "      <td>0.073125</td>\n",
       "    </tr>\n",
       "    <tr>\n",
       "      <th>7</th>\n",
       "      <td>vwc_summer_whole</td>\n",
       "      <td>8.5</td>\n",
       "      <td>0.073250</td>\n",
       "    </tr>\n",
       "    <tr>\n",
       "      <th>8</th>\n",
       "      <td>vwc_summer_whole</td>\n",
       "      <td>historical</td>\n",
       "      <td>0.068872</td>\n",
       "    </tr>\n",
       "    <tr>\n",
       "      <th>9</th>\n",
       "      <td>vwc_winter_whole</td>\n",
       "      <td>4.5</td>\n",
       "      <td>0.132625</td>\n",
       "    </tr>\n",
       "    <tr>\n",
       "      <th>10</th>\n",
       "      <td>vwc_winter_whole</td>\n",
       "      <td>8.5</td>\n",
       "      <td>0.133375</td>\n",
       "    </tr>\n",
       "    <tr>\n",
       "      <th>11</th>\n",
       "      <td>vwc_winter_whole</td>\n",
       "      <td>historical</td>\n",
       "      <td>0.125179</td>\n",
       "    </tr>\n",
       "  </tbody>\n",
       "</table>\n",
       "</div>"
      ],
      "text/plain": [
       "              season         rcp       vwc\n",
       "0     vwc_fall_whole         4.5  0.099125\n",
       "1     vwc_fall_whole         8.5  0.099000\n",
       "2     vwc_fall_whole  historical  0.094897\n",
       "3   vwc_spring_whole         4.5  0.118875\n",
       "4   vwc_spring_whole         8.5  0.119875\n",
       "5   vwc_spring_whole  historical  0.111282\n",
       "6   vwc_summer_whole         4.5  0.073125\n",
       "7   vwc_summer_whole         8.5  0.073250\n",
       "8   vwc_summer_whole  historical  0.068872\n",
       "9   vwc_winter_whole         4.5  0.132625\n",
       "10  vwc_winter_whole         8.5  0.133375\n",
       "11  vwc_winter_whole  historical  0.125179"
      ]
     },
     "execution_count": 172,
     "metadata": {},
     "output_type": "execute_result"
    }
   ],
   "source": [
    "# group by season and get the mean of the columns\n",
    "vwc_copy = vwc_grouped.copy()\n",
    "\n",
    "vwc_copy = vwc_copy.groupby(['season', 'rcp'], as_index=False).agg({'vwc': 'mean'}).reset_index(drop=True)\n",
    "vwc_copy"
   ]
  },
  {
   "cell_type": "code",
   "execution_count": 196,
   "metadata": {},
   "outputs": [
    {
     "data": {
      "image/png": "[encoded data removed]",
      "text/plain": [
       "<Figure size 1000x600 with 1 Axes>"
      ]
     },
     "metadata": {},
     "output_type": "display_data"
    }
   ],
   "source": [
    "colors = [\"#EED21B\", \"#CA68C8\", \"#A7C6DA\"] \n",
    "sns.set_palette(sns.color_palette(colors))\n",
    "\n",
    "plt.figure(figsize=(10, 6))\n",
    "ax = sns.barplot(data=vwc_grouped, x=\"vwc\", y=\"season\", hue=\"rcp\", orient=\"h\", errorbar=None)\n",
    "\n",
    "plt.xlabel(\"Volumetric Water Content (VWC)\")\n",
    "plt.ylabel(\"Season\")\n",
    "plt.title(\"Volumetric Water Content (VWC) by Season\")\n",
    "\n",
    "ax.set_yticklabels([\"Fall\", \"Spring\", \"Summer\", \"Winter\"])\n",
    "\n",
    "plt.show()"
   ]
  },
  {
   "cell_type": "markdown",
   "metadata": {},
   "source": [
    "### Summer dataset\n",
    "\n",
    "#### First Visualization"
   ]
  },
  {
   "cell_type": "code",
   "execution_count": 197,
   "metadata": {},
   "outputs": [
    {
     "data": {
      "text/html": [
       "<div>\n",
       "<style scoped>\n",
       "    .dataframe tbody tr th:only-of-type {\n",
       "        vertical-align: middle;\n",
       "    }\n",
       "\n",
       "    .dataframe tbody tr th {\n",
       "        vertical-align: top;\n",
       "    }\n",
       "\n",
       "    .dataframe thead th {\n",
       "        text-align: right;\n",
       "    }\n",
       "</style>\n",
       "<table border=\"1\" class=\"dataframe\">\n",
       "  <thead>\n",
       "    <tr style=\"text-align: right;\">\n",
       "      <th></th>\n",
       "      <th>year</th>\n",
       "      <th>drysoildays_summer_whole</th>\n",
       "      <th>evap_summer</th>\n",
       "      <th>nondryswa_summer_whole</th>\n",
       "      <th>ppt_summer</th>\n",
       "      <th>tmax_summer</th>\n",
       "      <th>vwc_summer_whole</th>\n",
       "    </tr>\n",
       "  </thead>\n",
       "  <tbody>\n",
       "    <tr>\n",
       "      <th>0</th>\n",
       "      <td>1980</td>\n",
       "      <td>7.856000</td>\n",
       "      <td>2.876526</td>\n",
       "      <td>0.271869</td>\n",
       "      <td>3.992827</td>\n",
       "      <td>36.821592</td>\n",
       "      <td>0.067372</td>\n",
       "    </tr>\n",
       "    <tr>\n",
       "      <th>1</th>\n",
       "      <td>1981</td>\n",
       "      <td>6.880705</td>\n",
       "      <td>4.098247</td>\n",
       "      <td>0.213244</td>\n",
       "      <td>9.247074</td>\n",
       "      <td>37.152125</td>\n",
       "      <td>0.066236</td>\n",
       "    </tr>\n",
       "    <tr>\n",
       "      <th>2</th>\n",
       "      <td>1982</td>\n",
       "      <td>7.139391</td>\n",
       "      <td>3.789916</td>\n",
       "      <td>0.298272</td>\n",
       "      <td>9.448209</td>\n",
       "      <td>36.545367</td>\n",
       "      <td>0.070423</td>\n",
       "    </tr>\n",
       "    <tr>\n",
       "      <th>3</th>\n",
       "      <td>1983</td>\n",
       "      <td>6.439958</td>\n",
       "      <td>4.049732</td>\n",
       "      <td>0.311255</td>\n",
       "      <td>10.045459</td>\n",
       "      <td>34.954063</td>\n",
       "      <td>0.070878</td>\n",
       "    </tr>\n",
       "    <tr>\n",
       "      <th>4</th>\n",
       "      <td>1984</td>\n",
       "      <td>6.791979</td>\n",
       "      <td>4.043963</td>\n",
       "      <td>0.246205</td>\n",
       "      <td>9.134468</td>\n",
       "      <td>35.494011</td>\n",
       "      <td>0.068098</td>\n",
       "    </tr>\n",
       "  </tbody>\n",
       "</table>\n",
       "</div>"
      ],
      "text/plain": [
       "   year  drysoildays_summer_whole  evap_summer  nondryswa_summer_whole  \\\n",
       "0  1980                  7.856000     2.876526                0.271869   \n",
       "1  1981                  6.880705     4.098247                0.213244   \n",
       "2  1982                  7.139391     3.789916                0.298272   \n",
       "3  1983                  6.439958     4.049732                0.311255   \n",
       "4  1984                  6.791979     4.043963                0.246205   \n",
       "\n",
       "   ppt_summer  tmax_summer  vwc_summer_whole  \n",
       "0    3.992827    36.821592          0.067372  \n",
       "1    9.247074    37.152125          0.066236  \n",
       "2    9.448209    36.545367          0.070423  \n",
       "3   10.045459    34.954063          0.070878  \n",
       "4    9.134468    35.494011          0.068098  "
      ]
     },
     "execution_count": 197,
     "metadata": {},
     "output_type": "execute_result"
    }
   ],
   "source": [
    "# load the data\n",
    "summer = pd.read_csv('./data/cleaned_data/summer_data.csv')\n",
    "\n",
    "# further data processing\n",
    "summer_copy = summer.copy()\n",
    "summer_copy = summer.drop(['long', 'lat', 'rcp'], axis=1)\n",
    "\n",
    "summer_copy = summer_copy.groupby(['year']).mean().reset_index()\n",
    "\n",
    "# convert the year column to string type\n",
    "summer_copy['year'] = summer_copy['year'].astype('str')\n",
    "\n",
    "summer_copy.to_csv('./data/cleaned_data/summer_data_2.csv', index=True)\n",
    "summer_copy.head()"
   ]
  },
  {
   "cell_type": "code",
   "execution_count": 18,
   "metadata": {},
   "outputs": [
    {
     "data": {
      "image/png": "[encoded data removed]",
      "text/plain": [
       "<Figure size 1000x800 with 2 Axes>"
      ]
     },
     "metadata": {},
     "output_type": "display_data"
    }
   ],
   "source": [
    "# plot a correlation matrix\n",
    "plt.figure(figsize=(10, 8))\n",
    "sns.heatmap(summer_copy.corr(), annot=True, cmap='coolwarm')\n",
    "plt.title('Correlation Matrix')\n",
    "plt.show()"
   ]
  },
  {
   "cell_type": "code",
   "execution_count": 19,
   "metadata": {},
   "outputs": [
    {
     "data": {
      "application/vnd.plotly.v1+json": {
       "config": {
        "plotlyServerURL": "https://plot.ly"
       },
       "data": [
        {
         "hovertext": [
          1980,
          1981,
          1982,
          1983,
          1984,
          1985,
          1986,
          1987,
          1988,
          1989,
          1990,
          1991,
          1992,
          1993,
          1994,
          1995,
          1996,
          1997,
          1998,
          1999,
          2000,
          2001,
          2002,
          2003,
          2004,
          2005,
          2006,
          2007,
          2008,
          2009,
          2010,
          2011,
          2012,
          2013,
          2014,
          2015,
          2016,
          2017,
          2018,
          2021,
          2022,
          2023,
          2024
         ],
         "legendgroup": "drysoildays_summer_whole",
         "line": {
          "color": "#EED21B",
          "dash": "solid"
         },
         "marker": {
          "symbol": "circle"
         },
         "mode": "markers+lines",
         "name": "Days of Dry Soil (< -3.9 MPa)",
         "orientation": "v",
         "showlegend": true,
         "type": "scatter",
         "x": [
          1980,
          1981,
          1982,
          1983,
          1984,
          1985,
          1986,
          1987,
          1988,
          1989,
          1990,
          1991,
          1992,
          1993,
          1994,
          1995,
          1996,
          1997,
          1998,
          1999,
          2000,
          2001,
          2002,
          2003,
          2004,
          2005,
          2006,
          2007,
          2008,
          2009,
          2010,
          2011,
          2012,
          2013,
          2014,
          2015,
          2016,
          2017,
          2018,
          2021,
          2022,
          2023,
          2024
         ],
         "xaxis": "x",
         "y": [
          7.856000000000001,
          6.880704545454546,
          7.1393910447761195,
          6.439958005249345,
          6.791978723404256,
          7.146690058479533,
          7.015952095808383,
          6.688150134048258,
          7.156493438320211,
          7.207255255255255,
          9.056162318840581,
          7.428663212435233,
          7.146317548746519,
          7.466400000000001,
          8.151739130434782,
          7.143914209115282,
          9.687811209439529,
          6.509753581661891,
          7.269066666666667,
          6.300088397790056,
          8.288792569659444,
          6.644730434782609,
          9.40717391304348,
          7.487442424242425,
          8.287345029239766,
          6.622181818181819,
          7.425725067385445,
          7.296,
          6.973101123595505,
          7.811098265895954,
          6.56974011299435,
          7.530965732087227,
          7.607080213903744,
          7.828479108635097,
          7.047036414565826,
          5.914969325153375,
          7.012367567567567,
          7.066621468926554,
          9.18838418079096,
          7.324665375511083,
          7.422854609168276,
          7.213109041409944,
          7.486505747126437
         ],
         "yaxis": "y"
        },
        {
         "hovertext": [
          1980,
          1981,
          1982,
          1983,
          1984,
          1985,
          1986,
          1987,
          1988,
          1989,
          1990,
          1991,
          1992,
          1993,
          1994,
          1995,
          1996,
          1997,
          1998,
          1999,
          2000,
          2001,
          2002,
          2003,
          2004,
          2005,
          2006,
          2007,
          2008,
          2009,
          2010,
          2011,
          2012,
          2013,
          2014,
          2015,
          2016,
          2017,
          2018,
          2021,
          2022,
          2023,
          2024
         ],
         "legendgroup": "evap_summer",
         "line": {
          "color": "#CA68C8",
          "dash": "solid"
         },
         "marker": {
          "symbol": "circle"
         },
         "mode": "markers+lines",
         "name": "Evaporation",
         "orientation": "v",
         "showlegend": true,
         "type": "scatter",
         "x": [
          1980,
          1981,
          1982,
          1983,
          1984,
          1985,
          1986,
          1987,
          1988,
          1989,
          1990,
          1991,
          1992,
          1993,
          1994,
          1995,
          1996,
          1997,
          1998,
          1999,
          2000,
          2001,
          2002,
          2003,
          2004,
          2005,
          2006,
          2007,
          2008,
          2009,
          2010,
          2011,
          2012,
          2013,
          2014,
          2015,
          2016,
          2017,
          2018,
          2021,
          2022,
          2023,
          2024
         ],
         "xaxis": "x",
         "y": [
          2.8765261780104714,
          4.098247159090909,
          3.789916417910448,
          4.049732283464567,
          4.043962765957446,
          3.0059239766081873,
          3.851928143712575,
          3.763123324396783,
          3.831992125984252,
          3.40118018018018,
          3.3497014492753623,
          3.6614093264248706,
          3.5983593314763236,
          3.1639,
          3.0386820652173916,
          3.7563512064343167,
          3.4320560471976402,
          3.57656446991404,
          3.4111282051282057,
          4.3442734806629835,
          3.3634055727554184,
          3.703371014492754,
          3.1144076086956525,
          3.3961878787878788,
          3.001555555555556,
          3.627085227272728,
          3.7008301886792454,
          3.5737872340425536,
          3.4509044943820224,
          2.9778757225433528,
          3.7502344632768363,
          3.615411214953271,
          3.2940320855614975,
          3.329938718662953,
          3.465406162464986,
          4.147558282208589,
          3.527348648648649,
          3.3639717514124294,
          3.0134435028248587,
          3.4673851230184347,
          3.3916122434384612,
          3.535081028800688,
          3.3101428879310344
         ],
         "yaxis": "y"
        },
        {
         "hovertext": [
          1980,
          1981,
          1982,
          1983,
          1984,
          1985,
          1986,
          1987,
          1988,
          1989,
          1990,
          1991,
          1992,
          1993,
          1994,
          1995,
          1996,
          1997,
          1998,
          1999,
          2000,
          2001,
          2002,
          2003,
          2004,
          2005,
          2006,
          2007,
          2008,
          2009,
          2010,
          2011,
          2012,
          2013,
          2014,
          2015,
          2016,
          2017,
          2018,
          2021,
          2022,
          2023,
          2024
         ],
         "legendgroup": "ppt_summer",
         "line": {
          "color": "#A7C6DA",
          "dash": "solid"
         },
         "marker": {
          "symbol": "circle"
         },
         "mode": "markers+lines",
         "name": "Precipitation",
         "orientation": "v",
         "showlegend": true,
         "type": "scatter",
         "x": [
          1980,
          1981,
          1982,
          1983,
          1984,
          1985,
          1986,
          1987,
          1988,
          1989,
          1990,
          1991,
          1992,
          1993,
          1994,
          1995,
          1996,
          1997,
          1998,
          1999,
          2000,
          2001,
          2002,
          2003,
          2004,
          2005,
          2006,
          2007,
          2008,
          2009,
          2010,
          2011,
          2012,
          2013,
          2014,
          2015,
          2016,
          2017,
          2018,
          2021,
          2022,
          2023,
          2024
         ],
         "xaxis": "x",
         "y": [
          3.99282722513089,
          9.247073863636363,
          9.448208955223881,
          10.045459317585303,
          9.134468085106382,
          5.723157894736842,
          9.58497005988024,
          10.671528150134048,
          8.564304461942257,
          7.2208108108108116,
          6.210376811594203,
          7.096891191709845,
          6.6209749303621175,
          6.606757575757576,
          4.194211956521739,
          7.39603217158177,
          5.955634218289085,
          8.722779369627506,
          6.643666666666667,
          13.09621546961326,
          5.915727554179567,
          8.294898550724639,
          4.496847826086957,
          6.551181818181818,
          4.280497076023392,
          8.20599431818182,
          7.716873315363881,
          7.8180243161094225,
          7.233202247191011,
          4.255982658959537,
          9.82358757062147,
          6.448037383177571,
          7.16620320855615,
          8.211448467966573,
          7.403305322128851,
          11.490276073619631,
          7.563648648648649,
          6.995056497175141,
          5.607824858757063,
          7.452040743131771,
          7.103251090610026,
          8.170848259062902,
          6.994
         ],
         "yaxis": "y"
        }
       ],
       "layout": {
        "hovermode": "x",
        "legend": {
         "title": {
          "text": "Something in Summer"
         },
         "tracegroupgap": 0
        },
        "margin": {
         "t": 60
        },
        "template": {
         "data": {
          "bar": [
           {
            "error_x": {
             "color": "rgb(36,36,36)"
            },
            "error_y": {
             "color": "rgb(36,36,36)"
            },
            "marker": {
             "line": {
              "color": "white",
              "width": 0.5
             },
             "pattern": {
              "fillmode": "overlay",
              "size": 10,
              "solidity": 0.2
             }
            },
            "type": "bar"
           }
          ],
          "barpolar": [
           {
            "marker": {
             "line": {
              "color": "white",
              "width": 0.5
             },
             "pattern": {
              "fillmode": "overlay",
              "size": 10,
              "solidity": 0.2
             }
            },
            "type": "barpolar"
           }
          ],
          "carpet": [
           {
            "aaxis": {
             "endlinecolor": "rgb(36,36,36)",
             "gridcolor": "white",
             "linecolor": "white",
             "minorgridcolor": "white",
             "startlinecolor": "rgb(36,36,36)"
            },
            "baxis": {
             "endlinecolor": "rgb(36,36,36)",
             "gridcolor": "white",
             "linecolor": "white",
             "minorgridcolor": "white",
             "startlinecolor": "rgb(36,36,36)"
            },
            "type": "carpet"
           }
          ],
          "choropleth": [
           {
            "colorbar": {
             "outlinewidth": 1,
             "tickcolor": "rgb(36,36,36)",
             "ticks": "outside"
            },
            "type": "choropleth"
           }
          ],
          "contour": [
           {
            "colorbar": {
             "outlinewidth": 1,
             "tickcolor": "rgb(36,36,36)",
             "ticks": "outside"
            },
            "colorscale": [
             [
              0,
              "#440154"
             ],
             [
              0.1111111111111111,
              "#482878"
             ],
             [
              0.2222222222222222,
              "#3e4989"
             ],
             [
              0.3333333333333333,
              "#31688e"
             ],
             [
              0.4444444444444444,
              "#26828e"
             ],
             [
              0.5555555555555556,
              "#1f9e89"
             ],
             [
              0.6666666666666666,
              "#35b779"
             ],
             [
              0.7777777777777778,
              "#6ece58"
             ],
             [
              0.8888888888888888,
              "#b5de2b"
             ],
             [
              1,
              "#fde725"
             ]
            ],
            "type": "contour"
           }
          ],
          "contourcarpet": [
           {
            "colorbar": {
             "outlinewidth": 1,
             "tickcolor": "rgb(36,36,36)",
             "ticks": "outside"
            },
            "type": "contourcarpet"
           }
          ],
          "heatmap": [
           {
            "colorbar": {
             "outlinewidth": 1,
             "tickcolor": "rgb(36,36,36)",
             "ticks": "outside"
            },
            "colorscale": [
             [
              0,
              "#440154"
             ],
             [
              0.1111111111111111,
              "#482878"
             ],
             [
              0.2222222222222222,
              "#3e4989"
             ],
             [
              0.3333333333333333,
              "#31688e"
             ],
             [
              0.4444444444444444,
              "#26828e"
             ],
             [
              0.5555555555555556,
              "#1f9e89"
             ],
             [
              0.6666666666666666,
              "#35b779"
             ],
             [
              0.7777777777777778,
              "#6ece58"
             ],
             [
              0.8888888888888888,
              "#b5de2b"
             ],
             [
              1,
              "#fde725"
             ]
            ],
            "type": "heatmap"
           }
          ],
          "heatmapgl": [
           {
            "colorbar": {
             "outlinewidth": 1,
             "tickcolor": "rgb(36,36,36)",
             "ticks": "outside"
            },
            "colorscale": [
             [
              0,
              "#440154"
             ],
             [
              0.1111111111111111,
              "#482878"
             ],
             [
              0.2222222222222222,
              "#3e4989"
             ],
             [
              0.3333333333333333,
              "#31688e"
             ],
             [
              0.4444444444444444,
              "#26828e"
             ],
             [
              0.5555555555555556,
              "#1f9e89"
             ],
             [
              0.6666666666666666,
              "#35b779"
             ],
             [
              0.7777777777777778,
              "#6ece58"
             ],
             [
              0.8888888888888888,
              "#b5de2b"
             ],
             [
              1,
              "#fde725"
             ]
            ],
            "type": "heatmapgl"
           }
          ],
          "histogram": [
           {
            "marker": {
             "line": {
              "color": "white",
              "width": 0.6
             }
            },
            "type": "histogram"
           }
          ],
          "histogram2d": [
           {
            "colorbar": {
             "outlinewidth": 1,
             "tickcolor": "rgb(36,36,36)",
             "ticks": "outside"
            },
            "colorscale": [
             [
              0,
              "#440154"
             ],
             [
              0.1111111111111111,
              "#482878"
             ],
             [
              0.2222222222222222,
              "#3e4989"
             ],
             [
              0.3333333333333333,
              "#31688e"
             ],
             [
              0.4444444444444444,
              "#26828e"
             ],
             [
              0.5555555555555556,
              "#1f9e89"
             ],
             [
              0.6666666666666666,
              "#35b779"
             ],
             [
              0.7777777777777778,
              "#6ece58"
             ],
             [
              0.8888888888888888,
              "#b5de2b"
             ],
             [
              1,
              "#fde725"
             ]
            ],
            "type": "histogram2d"
           }
          ],
          "histogram2dcontour": [
           {
            "colorbar": {
             "outlinewidth": 1,
             "tickcolor": "rgb(36,36,36)",
             "ticks": "outside"
            },
            "colorscale": [
             [
              0,
              "#440154"
             ],
             [
              0.1111111111111111,
              "#482878"
             ],
             [
              0.2222222222222222,
              "#3e4989"
             ],
             [
              0.3333333333333333,
              "#31688e"
             ],
             [
              0.4444444444444444,
              "#26828e"
             ],
             [
              0.5555555555555556,
              "#1f9e89"
             ],
             [
              0.6666666666666666,
              "#35b779"
             ],
             [
              0.7777777777777778,
              "#6ece58"
             ],
             [
              0.8888888888888888,
              "#b5de2b"
             ],
             [
              1,
              "#fde725"
             ]
            ],
            "type": "histogram2dcontour"
           }
          ],
          "mesh3d": [
           {
            "colorbar": {
             "outlinewidth": 1,
             "tickcolor": "rgb(36,36,36)",
             "ticks": "outside"
            },
            "type": "mesh3d"
           }
          ],
          "parcoords": [
           {
            "line": {
             "colorbar": {
              "outlinewidth": 1,
              "tickcolor": "rgb(36,36,36)",
              "ticks": "outside"
             }
            },
            "type": "parcoords"
           }
          ],
          "pie": [
           {
            "automargin": true,
            "type": "pie"
           }
          ],
          "scatter": [
           {
            "fillpattern": {
             "fillmode": "overlay",
             "size": 10,
             "solidity": 0.2
            },
            "type": "scatter"
           }
          ],
          "scatter3d": [
           {
            "line": {
             "colorbar": {
              "outlinewidth": 1,
              "tickcolor": "rgb(36,36,36)",
              "ticks": "outside"
             }
            },
            "marker": {
             "colorbar": {
              "outlinewidth": 1,
              "tickcolor": "rgb(36,36,36)",
              "ticks": "outside"
             }
            },
            "type": "scatter3d"
           }
          ],
          "scattercarpet": [
           {
            "marker": {
             "colorbar": {
              "outlinewidth": 1,
              "tickcolor": "rgb(36,36,36)",
              "ticks": "outside"
             }
            },
            "type": "scattercarpet"
           }
          ],
          "scattergeo": [
           {
            "marker": {
             "colorbar": {
              "outlinewidth": 1,
              "tickcolor": "rgb(36,36,36)",
              "ticks": "outside"
             }
            },
            "type": "scattergeo"
           }
          ],
          "scattergl": [
           {
            "marker": {
             "colorbar": {
              "outlinewidth": 1,
              "tickcolor": "rgb(36,36,36)",
              "ticks": "outside"
             }
            },
            "type": "scattergl"
           }
          ],
          "scattermapbox": [
           {
            "marker": {
             "colorbar": {
              "outlinewidth": 1,
              "tickcolor": "rgb(36,36,36)",
              "ticks": "outside"
             }
            },
            "type": "scattermapbox"
           }
          ],
          "scatterpolar": [
           {
            "marker": {
             "colorbar": {
              "outlinewidth": 1,
              "tickcolor": "rgb(36,36,36)",
              "ticks": "outside"
             }
            },
            "type": "scatterpolar"
           }
          ],
          "scatterpolargl": [
           {
            "marker": {
             "colorbar": {
              "outlinewidth": 1,
              "tickcolor": "rgb(36,36,36)",
              "ticks": "outside"
             }
            },
            "type": "scatterpolargl"
           }
          ],
          "scatterternary": [
           {
            "marker": {
             "colorbar": {
              "outlinewidth": 1,
              "tickcolor": "rgb(36,36,36)",
              "ticks": "outside"
             }
            },
            "type": "scatterternary"
           }
          ],
          "surface": [
           {
            "colorbar": {
             "outlinewidth": 1,
             "tickcolor": "rgb(36,36,36)",
             "ticks": "outside"
            },
            "colorscale": [
             [
              0,
              "#440154"
             ],
             [
              0.1111111111111111,
              "#482878"
             ],
             [
              0.2222222222222222,
              "#3e4989"
             ],
             [
              0.3333333333333333,
              "#31688e"
             ],
             [
              0.4444444444444444,
              "#26828e"
             ],
             [
              0.5555555555555556,
              "#1f9e89"
             ],
             [
              0.6666666666666666,
              "#35b779"
             ],
             [
              0.7777777777777778,
              "#6ece58"
             ],
             [
              0.8888888888888888,
              "#b5de2b"
             ],
             [
              1,
              "#fde725"
             ]
            ],
            "type": "surface"
           }
          ],
          "table": [
           {
            "cells": {
             "fill": {
              "color": "rgb(237,237,237)"
             },
             "line": {
              "color": "white"
             }
            },
            "header": {
             "fill": {
              "color": "rgb(217,217,217)"
             },
             "line": {
              "color": "white"
             }
            },
            "type": "table"
           }
          ]
         },
         "layout": {
          "annotationdefaults": {
           "arrowhead": 0,
           "arrowwidth": 1
          },
          "autotypenumbers": "strict",
          "coloraxis": {
           "colorbar": {
            "outlinewidth": 1,
            "tickcolor": "rgb(36,36,36)",
            "ticks": "outside"
           }
          },
          "colorscale": {
           "diverging": [
            [
             0,
             "rgb(103,0,31)"
            ],
            [
             0.1,
             "rgb(178,24,43)"
            ],
            [
             0.2,
             "rgb(214,96,77)"
            ],
            [
             0.3,
             "rgb(244,165,130)"
            ],
            [
             0.4,
             "rgb(253,219,199)"
            ],
            [
             0.5,
             "rgb(247,247,247)"
            ],
            [
             0.6,
             "rgb(209,229,240)"
            ],
            [
             0.7,
             "rgb(146,197,222)"
            ],
            [
             0.8,
             "rgb(67,147,195)"
            ],
            [
             0.9,
             "rgb(33,102,172)"
            ],
            [
             1,
             "rgb(5,48,97)"
            ]
           ],
           "sequential": [
            [
             0,
             "#440154"
            ],
            [
             0.1111111111111111,
             "#482878"
            ],
            [
             0.2222222222222222,
             "#3e4989"
            ],
            [
             0.3333333333333333,
             "#31688e"
            ],
            [
             0.4444444444444444,
             "#26828e"
            ],
            [
             0.5555555555555556,
             "#1f9e89"
            ],
            [
             0.6666666666666666,
             "#35b779"
            ],
            [
             0.7777777777777778,
             "#6ece58"
            ],
            [
             0.8888888888888888,
             "#b5de2b"
            ],
            [
             1,
             "#fde725"
            ]
           ],
           "sequentialminus": [
            [
             0,
             "#440154"
            ],
            [
             0.1111111111111111,
             "#482878"
            ],
            [
             0.2222222222222222,
             "#3e4989"
            ],
            [
             0.3333333333333333,
             "#31688e"
            ],
            [
             0.4444444444444444,
             "#26828e"
            ],
            [
             0.5555555555555556,
             "#1f9e89"
            ],
            [
             0.6666666666666666,
             "#35b779"
            ],
            [
             0.7777777777777778,
             "#6ece58"
            ],
            [
             0.8888888888888888,
             "#b5de2b"
            ],
            [
             1,
             "#fde725"
            ]
           ]
          },
          "colorway": [
           "#1F77B4",
           "#FF7F0E",
           "#2CA02C",
           "#D62728",
           "#9467BD",
           "#8C564B",
           "#E377C2",
           "#7F7F7F",
           "#BCBD22",
           "#17BECF"
          ],
          "font": {
           "color": "rgb(36,36,36)"
          },
          "geo": {
           "bgcolor": "white",
           "lakecolor": "white",
           "landcolor": "white",
           "showlakes": true,
           "showland": true,
           "subunitcolor": "white"
          },
          "hoverlabel": {
           "align": "left"
          },
          "hovermode": "closest",
          "mapbox": {
           "style": "light"
          },
          "paper_bgcolor": "white",
          "plot_bgcolor": "white",
          "polar": {
           "angularaxis": {
            "gridcolor": "rgb(232,232,232)",
            "linecolor": "rgb(36,36,36)",
            "showgrid": false,
            "showline": true,
            "ticks": "outside"
           },
           "bgcolor": "white",
           "radialaxis": {
            "gridcolor": "rgb(232,232,232)",
            "linecolor": "rgb(36,36,36)",
            "showgrid": false,
            "showline": true,
            "ticks": "outside"
           }
          },
          "scene": {
           "xaxis": {
            "backgroundcolor": "white",
            "gridcolor": "rgb(232,232,232)",
            "gridwidth": 2,
            "linecolor": "rgb(36,36,36)",
            "showbackground": true,
            "showgrid": false,
            "showline": true,
            "ticks": "outside",
            "zeroline": false,
            "zerolinecolor": "rgb(36,36,36)"
           },
           "yaxis": {
            "backgroundcolor": "white",
            "gridcolor": "rgb(232,232,232)",
            "gridwidth": 2,
            "linecolor": "rgb(36,36,36)",
            "showbackground": true,
            "showgrid": false,
            "showline": true,
            "ticks": "outside",
            "zeroline": false,
            "zerolinecolor": "rgb(36,36,36)"
           },
           "zaxis": {
            "backgroundcolor": "white",
            "gridcolor": "rgb(232,232,232)",
            "gridwidth": 2,
            "linecolor": "rgb(36,36,36)",
            "showbackground": true,
            "showgrid": false,
            "showline": true,
            "ticks": "outside",
            "zeroline": false,
            "zerolinecolor": "rgb(36,36,36)"
           }
          },
          "shapedefaults": {
           "fillcolor": "black",
           "line": {
            "width": 0
           },
           "opacity": 0.3
          },
          "ternary": {
           "aaxis": {
            "gridcolor": "rgb(232,232,232)",
            "linecolor": "rgb(36,36,36)",
            "showgrid": false,
            "showline": true,
            "ticks": "outside"
           },
           "baxis": {
            "gridcolor": "rgb(232,232,232)",
            "linecolor": "rgb(36,36,36)",
            "showgrid": false,
            "showline": true,
            "ticks": "outside"
           },
           "bgcolor": "white",
           "caxis": {
            "gridcolor": "rgb(232,232,232)",
            "linecolor": "rgb(36,36,36)",
            "showgrid": false,
            "showline": true,
            "ticks": "outside"
           }
          },
          "title": {
           "x": 0.05
          },
          "xaxis": {
           "automargin": true,
           "gridcolor": "rgb(232,232,232)",
           "linecolor": "rgb(36,36,36)",
           "showgrid": false,
           "showline": true,
           "ticks": "outside",
           "title": {
            "standoff": 15
           },
           "zeroline": false,
           "zerolinecolor": "rgb(36,36,36)"
          },
          "yaxis": {
           "automargin": true,
           "gridcolor": "rgb(232,232,232)",
           "linecolor": "rgb(36,36,36)",
           "showgrid": false,
           "showline": true,
           "ticks": "outside",
           "title": {
            "standoff": 15
           },
           "zeroline": false,
           "zerolinecolor": "rgb(36,36,36)"
          }
         }
        },
        "title": {
         "text": "Something of the Summer Data"
        },
        "xaxis": {
         "anchor": "y",
         "domain": [
          0,
          1
         ],
         "title": {
          "text": "Year"
         }
        },
        "yaxis": {
         "anchor": "x",
         "domain": [
          0,
          1
         ],
         "title": {
          "text": "Values"
         }
        }
       }
      }
     },
     "metadata": {},
     "output_type": "display_data"
    }
   ],
   "source": [
    "# plot a line graph of drysoildays_summer_whole, evap_summer, nondryswa_summer_whole, ppt_summer, and tmax_summer\n",
    "fig = px.line(summer_copy, x='year', y=['drysoildays_summer_whole', 'evap_summer', 'ppt_summer'], \n",
    "              hover_name='year', template='simple_white', color_discrete_sequence=[\"#EED21B\", \"#CA68C8\", \"#A7C6DA\"])\n",
    "\n",
    "fig.for_each_trace(lambda trace: trace.update(name = trace.name.replace('drysoildays_summer_whole', 'Days of Dry Soil (< -3.9 MPa)')\n",
    "                                                      .replace('evap_summer', 'Evaporation')\n",
    "                                                      .replace('ppt_summer', 'Precipitation')))\n",
    "\n",
    "fig.update_traces(mode = 'markers+lines', hovertemplate=None)\n",
    "fig.update_layout(title='Something of the Summer Data', xaxis_title='Year', yaxis_title='Values', hovermode = 'x', legend_title='Summer Indicators')\n",
    "\n",
    "fig.show()"
   ]
  },
  {
   "cell_type": "code",
   "execution_count": 198,
   "metadata": {},
   "outputs": [
    {
     "data": {
      "text/html": [
       "<div>\n",
       "<style scoped>\n",
       "    .dataframe tbody tr th:only-of-type {\n",
       "        vertical-align: middle;\n",
       "    }\n",
       "\n",
       "    .dataframe tbody tr th {\n",
       "        vertical-align: top;\n",
       "    }\n",
       "\n",
       "    .dataframe thead th {\n",
       "        text-align: right;\n",
       "    }\n",
       "</style>\n",
       "<table border=\"1\" class=\"dataframe\">\n",
       "  <thead>\n",
       "    <tr style=\"text-align: right;\">\n",
       "      <th></th>\n",
       "      <th>long</th>\n",
       "      <th>lat</th>\n",
       "      <th>year</th>\n",
       "      <th>rcp</th>\n",
       "      <th>drysoildays_summer_whole</th>\n",
       "      <th>evap_summer</th>\n",
       "      <th>nondryswa_summer_whole</th>\n",
       "      <th>ppt_summer</th>\n",
       "      <th>tmax_summer</th>\n",
       "      <th>vwc_summer_whole</th>\n",
       "    </tr>\n",
       "  </thead>\n",
       "  <tbody>\n",
       "    <tr>\n",
       "      <th>0</th>\n",
       "      <td>-110.0472</td>\n",
       "      <td>37.60413</td>\n",
       "      <td>1980</td>\n",
       "      <td>historical</td>\n",
       "      <td>7.368</td>\n",
       "      <td>3.446</td>\n",
       "      <td>0.285</td>\n",
       "      <td>2.69</td>\n",
       "      <td>37.050</td>\n",
       "      <td>NaN</td>\n",
       "    </tr>\n",
       "    <tr>\n",
       "      <th>1</th>\n",
       "      <td>-110.0472</td>\n",
       "      <td>37.60413</td>\n",
       "      <td>1980</td>\n",
       "      <td>historical</td>\n",
       "      <td>7.368</td>\n",
       "      <td>3.446</td>\n",
       "      <td>0.285</td>\n",
       "      <td>2.69</td>\n",
       "      <td>37.050</td>\n",
       "      <td>NaN</td>\n",
       "    </tr>\n",
       "    <tr>\n",
       "      <th>2</th>\n",
       "      <td>-110.0472</td>\n",
       "      <td>37.60413</td>\n",
       "      <td>1980</td>\n",
       "      <td>historical</td>\n",
       "      <td>7.368</td>\n",
       "      <td>3.446</td>\n",
       "      <td>0.285</td>\n",
       "      <td>2.69</td>\n",
       "      <td>37.050</td>\n",
       "      <td>NaN</td>\n",
       "    </tr>\n",
       "    <tr>\n",
       "      <th>3</th>\n",
       "      <td>-110.0472</td>\n",
       "      <td>37.60413</td>\n",
       "      <td>1980</td>\n",
       "      <td>historical</td>\n",
       "      <td>7.368</td>\n",
       "      <td>3.446</td>\n",
       "      <td>0.285</td>\n",
       "      <td>2.69</td>\n",
       "      <td>37.050</td>\n",
       "      <td>NaN</td>\n",
       "    </tr>\n",
       "    <tr>\n",
       "      <th>4</th>\n",
       "      <td>-110.0472</td>\n",
       "      <td>37.60413</td>\n",
       "      <td>1980</td>\n",
       "      <td>historical</td>\n",
       "      <td>0.000</td>\n",
       "      <td>1.560</td>\n",
       "      <td>0.032</td>\n",
       "      <td>7.44</td>\n",
       "      <td>37.104</td>\n",
       "      <td>0.041876</td>\n",
       "    </tr>\n",
       "    <tr>\n",
       "      <th>...</th>\n",
       "      <td>...</td>\n",
       "      <td>...</td>\n",
       "      <td>...</td>\n",
       "      <td>...</td>\n",
       "      <td>...</td>\n",
       "      <td>...</td>\n",
       "      <td>...</td>\n",
       "      <td>...</td>\n",
       "      <td>...</td>\n",
       "      <td>...</td>\n",
       "    </tr>\n",
       "    <tr>\n",
       "      <th>69618</th>\n",
       "      <td>-109.9659</td>\n",
       "      <td>37.62525</td>\n",
       "      <td>2024</td>\n",
       "      <td>8.5</td>\n",
       "      <td>0.000</td>\n",
       "      <td>3.557</td>\n",
       "      <td>0.552</td>\n",
       "      <td>7.44</td>\n",
       "      <td>37.104</td>\n",
       "      <td>0.091433</td>\n",
       "    </tr>\n",
       "    <tr>\n",
       "      <th>69619</th>\n",
       "      <td>-109.9659</td>\n",
       "      <td>37.62525</td>\n",
       "      <td>2024</td>\n",
       "      <td>8.5</td>\n",
       "      <td>0.000</td>\n",
       "      <td>2.398</td>\n",
       "      <td>0.107</td>\n",
       "      <td>7.44</td>\n",
       "      <td>37.104</td>\n",
       "      <td>0.086355</td>\n",
       "    </tr>\n",
       "    <tr>\n",
       "      <th>69620</th>\n",
       "      <td>-109.9659</td>\n",
       "      <td>37.62525</td>\n",
       "      <td>2024</td>\n",
       "      <td>8.5</td>\n",
       "      <td>0.000</td>\n",
       "      <td>3.000</td>\n",
       "      <td>0.595</td>\n",
       "      <td>7.44</td>\n",
       "      <td>37.104</td>\n",
       "      <td>0.091992</td>\n",
       "    </tr>\n",
       "    <tr>\n",
       "      <th>69621</th>\n",
       "      <td>-109.9659</td>\n",
       "      <td>37.62525</td>\n",
       "      <td>2024</td>\n",
       "      <td>8.5</td>\n",
       "      <td>0.000</td>\n",
       "      <td>3.702</td>\n",
       "      <td>0.121</td>\n",
       "      <td>7.44</td>\n",
       "      <td>37.104</td>\n",
       "      <td>0.087115</td>\n",
       "    </tr>\n",
       "    <tr>\n",
       "      <th>69622</th>\n",
       "      <td>-109.9659</td>\n",
       "      <td>37.62525</td>\n",
       "      <td>2024</td>\n",
       "      <td>8.5</td>\n",
       "      <td>0.000</td>\n",
       "      <td>2.450</td>\n",
       "      <td>0.075</td>\n",
       "      <td>7.44</td>\n",
       "      <td>37.104</td>\n",
       "      <td>0.084664</td>\n",
       "    </tr>\n",
       "  </tbody>\n",
       "</table>\n",
       "<p>69623 rows × 10 columns</p>\n",
       "</div>"
      ],
      "text/plain": [
       "           long       lat  year         rcp  drysoildays_summer_whole  \\\n",
       "0     -110.0472  37.60413  1980  historical                     7.368   \n",
       "1     -110.0472  37.60413  1980  historical                     7.368   \n",
       "2     -110.0472  37.60413  1980  historical                     7.368   \n",
       "3     -110.0472  37.60413  1980  historical                     7.368   \n",
       "4     -110.0472  37.60413  1980  historical                     0.000   \n",
       "...         ...       ...   ...         ...                       ...   \n",
       "69618 -109.9659  37.62525  2024         8.5                     0.000   \n",
       "69619 -109.9659  37.62525  2024         8.5                     0.000   \n",
       "69620 -109.9659  37.62525  2024         8.5                     0.000   \n",
       "69621 -109.9659  37.62525  2024         8.5                     0.000   \n",
       "69622 -109.9659  37.62525  2024         8.5                     0.000   \n",
       "\n",
       "       evap_summer  nondryswa_summer_whole  ppt_summer  tmax_summer  \\\n",
       "0            3.446                   0.285        2.69       37.050   \n",
       "1            3.446                   0.285        2.69       37.050   \n",
       "2            3.446                   0.285        2.69       37.050   \n",
       "3            3.446                   0.285        2.69       37.050   \n",
       "4            1.560                   0.032        7.44       37.104   \n",
       "...            ...                     ...         ...          ...   \n",
       "69618        3.557                   0.552        7.44       37.104   \n",
       "69619        2.398                   0.107        7.44       37.104   \n",
       "69620        3.000                   0.595        7.44       37.104   \n",
       "69621        3.702                   0.121        7.44       37.104   \n",
       "69622        2.450                   0.075        7.44       37.104   \n",
       "\n",
       "       vwc_summer_whole  \n",
       "0                   NaN  \n",
       "1                   NaN  \n",
       "2                   NaN  \n",
       "3                   NaN  \n",
       "4              0.041876  \n",
       "...                 ...  \n",
       "69618          0.091433  \n",
       "69619          0.086355  \n",
       "69620          0.091992  \n",
       "69621          0.087115  \n",
       "69622          0.084664  \n",
       "\n",
       "[69623 rows x 10 columns]"
      ]
     },
     "execution_count": 198,
     "metadata": {},
     "output_type": "execute_result"
    }
   ],
   "source": [
    "# plot out relatiionship between VWC and evaporation and precipitation\n",
    "summer"
   ]
  },
  {
   "cell_type": "code",
   "execution_count": 201,
   "metadata": {},
   "outputs": [
    {
     "data": {
      "text/html": [
       "<div>\n",
       "<style scoped>\n",
       "    .dataframe tbody tr th:only-of-type {\n",
       "        vertical-align: middle;\n",
       "    }\n",
       "\n",
       "    .dataframe tbody tr th {\n",
       "        vertical-align: top;\n",
       "    }\n",
       "\n",
       "    .dataframe thead th {\n",
       "        text-align: right;\n",
       "    }\n",
       "</style>\n",
       "<table border=\"1\" class=\"dataframe\">\n",
       "  <thead>\n",
       "    <tr style=\"text-align: right;\">\n",
       "      <th></th>\n",
       "      <th>long</th>\n",
       "      <th>lat</th>\n",
       "      <th>year</th>\n",
       "      <th>rcp</th>\n",
       "      <th>drysoildays_summer_whole</th>\n",
       "      <th>evap_summer</th>\n",
       "      <th>nondryswa_summer_whole</th>\n",
       "      <th>ppt_summer</th>\n",
       "      <th>tmax_summer</th>\n",
       "      <th>vwc_summer_whole</th>\n",
       "    </tr>\n",
       "  </thead>\n",
       "  <tbody>\n",
       "    <tr>\n",
       "      <th>0</th>\n",
       "      <td>-110.0472</td>\n",
       "      <td>37.60413</td>\n",
       "      <td>1980</td>\n",
       "      <td>historical</td>\n",
       "      <td>0.0</td>\n",
       "      <td>1.560</td>\n",
       "      <td>0.032</td>\n",
       "      <td>7.44</td>\n",
       "      <td>37.104</td>\n",
       "      <td>0.041876</td>\n",
       "    </tr>\n",
       "    <tr>\n",
       "      <th>1</th>\n",
       "      <td>-110.0472</td>\n",
       "      <td>37.60413</td>\n",
       "      <td>1981</td>\n",
       "      <td>historical</td>\n",
       "      <td>0.0</td>\n",
       "      <td>5.043</td>\n",
       "      <td>0.034</td>\n",
       "      <td>7.44</td>\n",
       "      <td>37.104</td>\n",
       "      <td>0.042639</td>\n",
       "    </tr>\n",
       "    <tr>\n",
       "      <th>2</th>\n",
       "      <td>-110.0472</td>\n",
       "      <td>37.60413</td>\n",
       "      <td>1982</td>\n",
       "      <td>historical</td>\n",
       "      <td>0.0</td>\n",
       "      <td>4.528</td>\n",
       "      <td>0.199</td>\n",
       "      <td>7.44</td>\n",
       "      <td>37.104</td>\n",
       "      <td>0.045610</td>\n",
       "    </tr>\n",
       "    <tr>\n",
       "      <th>3</th>\n",
       "      <td>-110.0472</td>\n",
       "      <td>37.60413</td>\n",
       "      <td>1983</td>\n",
       "      <td>historical</td>\n",
       "      <td>0.0</td>\n",
       "      <td>5.170</td>\n",
       "      <td>0.096</td>\n",
       "      <td>7.44</td>\n",
       "      <td>37.104</td>\n",
       "      <td>0.044141</td>\n",
       "    </tr>\n",
       "    <tr>\n",
       "      <th>4</th>\n",
       "      <td>-110.0472</td>\n",
       "      <td>37.60413</td>\n",
       "      <td>1984</td>\n",
       "      <td>historical</td>\n",
       "      <td>0.0</td>\n",
       "      <td>5.230</td>\n",
       "      <td>0.045</td>\n",
       "      <td>7.44</td>\n",
       "      <td>37.104</td>\n",
       "      <td>0.043179</td>\n",
       "    </tr>\n",
       "    <tr>\n",
       "      <th>...</th>\n",
       "      <td>...</td>\n",
       "      <td>...</td>\n",
       "      <td>...</td>\n",
       "      <td>...</td>\n",
       "      <td>...</td>\n",
       "      <td>...</td>\n",
       "      <td>...</td>\n",
       "      <td>...</td>\n",
       "      <td>...</td>\n",
       "      <td>...</td>\n",
       "    </tr>\n",
       "    <tr>\n",
       "      <th>22744</th>\n",
       "      <td>-109.9659</td>\n",
       "      <td>37.62525</td>\n",
       "      <td>2024</td>\n",
       "      <td>8.5</td>\n",
       "      <td>0.0</td>\n",
       "      <td>3.557</td>\n",
       "      <td>0.552</td>\n",
       "      <td>7.44</td>\n",
       "      <td>37.104</td>\n",
       "      <td>0.091433</td>\n",
       "    </tr>\n",
       "    <tr>\n",
       "      <th>22745</th>\n",
       "      <td>-109.9659</td>\n",
       "      <td>37.62525</td>\n",
       "      <td>2024</td>\n",
       "      <td>8.5</td>\n",
       "      <td>0.0</td>\n",
       "      <td>2.398</td>\n",
       "      <td>0.107</td>\n",
       "      <td>7.44</td>\n",
       "      <td>37.104</td>\n",
       "      <td>0.086355</td>\n",
       "    </tr>\n",
       "    <tr>\n",
       "      <th>22746</th>\n",
       "      <td>-109.9659</td>\n",
       "      <td>37.62525</td>\n",
       "      <td>2024</td>\n",
       "      <td>8.5</td>\n",
       "      <td>0.0</td>\n",
       "      <td>3.000</td>\n",
       "      <td>0.595</td>\n",
       "      <td>7.44</td>\n",
       "      <td>37.104</td>\n",
       "      <td>0.091992</td>\n",
       "    </tr>\n",
       "    <tr>\n",
       "      <th>22747</th>\n",
       "      <td>-109.9659</td>\n",
       "      <td>37.62525</td>\n",
       "      <td>2024</td>\n",
       "      <td>8.5</td>\n",
       "      <td>0.0</td>\n",
       "      <td>3.702</td>\n",
       "      <td>0.121</td>\n",
       "      <td>7.44</td>\n",
       "      <td>37.104</td>\n",
       "      <td>0.087115</td>\n",
       "    </tr>\n",
       "    <tr>\n",
       "      <th>22748</th>\n",
       "      <td>-109.9659</td>\n",
       "      <td>37.62525</td>\n",
       "      <td>2024</td>\n",
       "      <td>8.5</td>\n",
       "      <td>0.0</td>\n",
       "      <td>2.450</td>\n",
       "      <td>0.075</td>\n",
       "      <td>7.44</td>\n",
       "      <td>37.104</td>\n",
       "      <td>0.084664</td>\n",
       "    </tr>\n",
       "  </tbody>\n",
       "</table>\n",
       "<p>22749 rows × 10 columns</p>\n",
       "</div>"
      ],
      "text/plain": [
       "           long       lat  year         rcp  drysoildays_summer_whole  \\\n",
       "0     -110.0472  37.60413  1980  historical                       0.0   \n",
       "1     -110.0472  37.60413  1981  historical                       0.0   \n",
       "2     -110.0472  37.60413  1982  historical                       0.0   \n",
       "3     -110.0472  37.60413  1983  historical                       0.0   \n",
       "4     -110.0472  37.60413  1984  historical                       0.0   \n",
       "...         ...       ...   ...         ...                       ...   \n",
       "22744 -109.9659  37.62525  2024         8.5                       0.0   \n",
       "22745 -109.9659  37.62525  2024         8.5                       0.0   \n",
       "22746 -109.9659  37.62525  2024         8.5                       0.0   \n",
       "22747 -109.9659  37.62525  2024         8.5                       0.0   \n",
       "22748 -109.9659  37.62525  2024         8.5                       0.0   \n",
       "\n",
       "       evap_summer  nondryswa_summer_whole  ppt_summer  tmax_summer  \\\n",
       "0            1.560                   0.032        7.44       37.104   \n",
       "1            5.043                   0.034        7.44       37.104   \n",
       "2            4.528                   0.199        7.44       37.104   \n",
       "3            5.170                   0.096        7.44       37.104   \n",
       "4            5.230                   0.045        7.44       37.104   \n",
       "...            ...                     ...         ...          ...   \n",
       "22744        3.557                   0.552        7.44       37.104   \n",
       "22745        2.398                   0.107        7.44       37.104   \n",
       "22746        3.000                   0.595        7.44       37.104   \n",
       "22747        3.702                   0.121        7.44       37.104   \n",
       "22748        2.450                   0.075        7.44       37.104   \n",
       "\n",
       "       vwc_summer_whole  \n",
       "0              0.041876  \n",
       "1              0.042639  \n",
       "2              0.045610  \n",
       "3              0.044141  \n",
       "4              0.043179  \n",
       "...                 ...  \n",
       "22744          0.091433  \n",
       "22745          0.086355  \n",
       "22746          0.091992  \n",
       "22747          0.087115  \n",
       "22748          0.084664  \n",
       "\n",
       "[22749 rows x 10 columns]"
      ]
     },
     "execution_count": 201,
     "metadata": {},
     "output_type": "execute_result"
    }
   ],
   "source": [
    "# get rid of null values\n",
    "summer = summer.dropna().reset_index(drop=True)\n",
    "summer"
   ]
  },
  {
   "cell_type": "markdown",
   "metadata": {},
   "source": [
    "#### Second Visualization"
   ]
  },
  {
   "cell_type": "code",
   "execution_count": 143,
   "metadata": {},
   "outputs": [
    {
     "data": {
      "text/html": [
       "<div>\n",
       "<style scoped>\n",
       "    .dataframe tbody tr th:only-of-type {\n",
       "        vertical-align: middle;\n",
       "    }\n",
       "\n",
       "    .dataframe tbody tr th {\n",
       "        vertical-align: top;\n",
       "    }\n",
       "\n",
       "    .dataframe thead th {\n",
       "        text-align: right;\n",
       "    }\n",
       "</style>\n",
       "<table border=\"1\" class=\"dataframe\">\n",
       "  <thead>\n",
       "    <tr style=\"text-align: right;\">\n",
       "      <th></th>\n",
       "      <th>long</th>\n",
       "      <th>lat</th>\n",
       "      <th>year</th>\n",
       "      <th>rcp</th>\n",
       "      <th>drysoildays_summer_whole</th>\n",
       "      <th>evap_summer</th>\n",
       "      <th>nondryswa_summer_whole</th>\n",
       "      <th>ppt_summer</th>\n",
       "      <th>tmax_summer</th>\n",
       "    </tr>\n",
       "  </thead>\n",
       "  <tbody>\n",
       "    <tr>\n",
       "      <th>0</th>\n",
       "      <td>-110.0472</td>\n",
       "      <td>37.60413</td>\n",
       "      <td>1980</td>\n",
       "      <td>historical</td>\n",
       "      <td>7.368</td>\n",
       "      <td>3.446</td>\n",
       "      <td>0.285</td>\n",
       "      <td>2.69</td>\n",
       "      <td>37.050</td>\n",
       "    </tr>\n",
       "    <tr>\n",
       "      <th>1</th>\n",
       "      <td>-110.0472</td>\n",
       "      <td>37.60413</td>\n",
       "      <td>1980</td>\n",
       "      <td>historical</td>\n",
       "      <td>7.368</td>\n",
       "      <td>3.446</td>\n",
       "      <td>0.285</td>\n",
       "      <td>2.69</td>\n",
       "      <td>37.050</td>\n",
       "    </tr>\n",
       "    <tr>\n",
       "      <th>2</th>\n",
       "      <td>-110.0472</td>\n",
       "      <td>37.60413</td>\n",
       "      <td>1980</td>\n",
       "      <td>historical</td>\n",
       "      <td>7.368</td>\n",
       "      <td>3.446</td>\n",
       "      <td>0.285</td>\n",
       "      <td>2.69</td>\n",
       "      <td>37.050</td>\n",
       "    </tr>\n",
       "    <tr>\n",
       "      <th>3</th>\n",
       "      <td>-110.0472</td>\n",
       "      <td>37.60413</td>\n",
       "      <td>1980</td>\n",
       "      <td>historical</td>\n",
       "      <td>7.368</td>\n",
       "      <td>3.446</td>\n",
       "      <td>0.285</td>\n",
       "      <td>2.69</td>\n",
       "      <td>37.050</td>\n",
       "    </tr>\n",
       "    <tr>\n",
       "      <th>4</th>\n",
       "      <td>-110.0472</td>\n",
       "      <td>37.60413</td>\n",
       "      <td>1980</td>\n",
       "      <td>historical</td>\n",
       "      <td>0.000</td>\n",
       "      <td>1.560</td>\n",
       "      <td>0.032</td>\n",
       "      <td>7.44</td>\n",
       "      <td>37.104</td>\n",
       "    </tr>\n",
       "    <tr>\n",
       "      <th>...</th>\n",
       "      <td>...</td>\n",
       "      <td>...</td>\n",
       "      <td>...</td>\n",
       "      <td>...</td>\n",
       "      <td>...</td>\n",
       "      <td>...</td>\n",
       "      <td>...</td>\n",
       "      <td>...</td>\n",
       "      <td>...</td>\n",
       "    </tr>\n",
       "    <tr>\n",
       "      <th>69618</th>\n",
       "      <td>-109.9659</td>\n",
       "      <td>37.62525</td>\n",
       "      <td>2024</td>\n",
       "      <td>8.5</td>\n",
       "      <td>0.000</td>\n",
       "      <td>3.557</td>\n",
       "      <td>0.552</td>\n",
       "      <td>7.44</td>\n",
       "      <td>37.104</td>\n",
       "    </tr>\n",
       "    <tr>\n",
       "      <th>69619</th>\n",
       "      <td>-109.9659</td>\n",
       "      <td>37.62525</td>\n",
       "      <td>2024</td>\n",
       "      <td>8.5</td>\n",
       "      <td>0.000</td>\n",
       "      <td>2.398</td>\n",
       "      <td>0.107</td>\n",
       "      <td>7.44</td>\n",
       "      <td>37.104</td>\n",
       "    </tr>\n",
       "    <tr>\n",
       "      <th>69620</th>\n",
       "      <td>-109.9659</td>\n",
       "      <td>37.62525</td>\n",
       "      <td>2024</td>\n",
       "      <td>8.5</td>\n",
       "      <td>0.000</td>\n",
       "      <td>3.000</td>\n",
       "      <td>0.595</td>\n",
       "      <td>7.44</td>\n",
       "      <td>37.104</td>\n",
       "    </tr>\n",
       "    <tr>\n",
       "      <th>69621</th>\n",
       "      <td>-109.9659</td>\n",
       "      <td>37.62525</td>\n",
       "      <td>2024</td>\n",
       "      <td>8.5</td>\n",
       "      <td>0.000</td>\n",
       "      <td>3.702</td>\n",
       "      <td>0.121</td>\n",
       "      <td>7.44</td>\n",
       "      <td>37.104</td>\n",
       "    </tr>\n",
       "    <tr>\n",
       "      <th>69622</th>\n",
       "      <td>-109.9659</td>\n",
       "      <td>37.62525</td>\n",
       "      <td>2024</td>\n",
       "      <td>8.5</td>\n",
       "      <td>0.000</td>\n",
       "      <td>2.450</td>\n",
       "      <td>0.075</td>\n",
       "      <td>7.44</td>\n",
       "      <td>37.104</td>\n",
       "    </tr>\n",
       "  </tbody>\n",
       "</table>\n",
       "<p>69623 rows × 9 columns</p>\n",
       "</div>"
      ],
      "text/plain": [
       "           long       lat  year         rcp  drysoildays_summer_whole  \\\n",
       "0     -110.0472  37.60413  1980  historical                     7.368   \n",
       "1     -110.0472  37.60413  1980  historical                     7.368   \n",
       "2     -110.0472  37.60413  1980  historical                     7.368   \n",
       "3     -110.0472  37.60413  1980  historical                     7.368   \n",
       "4     -110.0472  37.60413  1980  historical                     0.000   \n",
       "...         ...       ...   ...         ...                       ...   \n",
       "69618 -109.9659  37.62525  2024         8.5                     0.000   \n",
       "69619 -109.9659  37.62525  2024         8.5                     0.000   \n",
       "69620 -109.9659  37.62525  2024         8.5                     0.000   \n",
       "69621 -109.9659  37.62525  2024         8.5                     0.000   \n",
       "69622 -109.9659  37.62525  2024         8.5                     0.000   \n",
       "\n",
       "       evap_summer  nondryswa_summer_whole  ppt_summer  tmax_summer  \n",
       "0            3.446                   0.285        2.69       37.050  \n",
       "1            3.446                   0.285        2.69       37.050  \n",
       "2            3.446                   0.285        2.69       37.050  \n",
       "3            3.446                   0.285        2.69       37.050  \n",
       "4            1.560                   0.032        7.44       37.104  \n",
       "...            ...                     ...         ...          ...  \n",
       "69618        3.557                   0.552        7.44       37.104  \n",
       "69619        2.398                   0.107        7.44       37.104  \n",
       "69620        3.000                   0.595        7.44       37.104  \n",
       "69621        3.702                   0.121        7.44       37.104  \n",
       "69622        2.450                   0.075        7.44       37.104  \n",
       "\n",
       "[69623 rows x 9 columns]"
      ]
     },
     "execution_count": 143,
     "metadata": {},
     "output_type": "execute_result"
    }
   ],
   "source": [
    "# spider chart of summer data\n",
    "summer_copy_2 = summer.copy()\n",
    "summer_copy_2"
   ]
  },
  {
   "cell_type": "code",
   "execution_count": 144,
   "metadata": {},
   "outputs": [],
   "source": [
    "# drop unnecessary columns\n",
    "summer_copy_2 = summer_copy_2.drop(['long', 'lat', 'rcp'], axis=1)"
   ]
  },
  {
   "cell_type": "code",
   "execution_count": 151,
   "metadata": {},
   "outputs": [
    {
     "data": {
      "text/html": [
       "<div>\n",
       "<style scoped>\n",
       "    .dataframe tbody tr th:only-of-type {\n",
       "        vertical-align: middle;\n",
       "    }\n",
       "\n",
       "    .dataframe tbody tr th {\n",
       "        vertical-align: top;\n",
       "    }\n",
       "\n",
       "    .dataframe thead th {\n",
       "        text-align: right;\n",
       "    }\n",
       "</style>\n",
       "<table border=\"1\" class=\"dataframe\">\n",
       "  <thead>\n",
       "    <tr style=\"text-align: right;\">\n",
       "      <th></th>\n",
       "      <th>year</th>\n",
       "      <th>drysoildays_summer_whole</th>\n",
       "      <th>evap_summer</th>\n",
       "      <th>nondryswa_summer_whole</th>\n",
       "      <th>ppt_summer</th>\n",
       "      <th>tmax_summer</th>\n",
       "    </tr>\n",
       "  </thead>\n",
       "  <tbody>\n",
       "    <tr>\n",
       "      <th>0</th>\n",
       "      <td>1980</td>\n",
       "      <td>0.514474</td>\n",
       "      <td>0.000000</td>\n",
       "      <td>0.416921</td>\n",
       "      <td>0.000000</td>\n",
       "      <td>0.684300</td>\n",
       "    </tr>\n",
       "    <tr>\n",
       "      <th>1</th>\n",
       "      <td>1981</td>\n",
       "      <td>0.255970</td>\n",
       "      <td>0.832378</td>\n",
       "      <td>0.101002</td>\n",
       "      <td>0.577175</td>\n",
       "      <td>0.792399</td>\n",
       "    </tr>\n",
       "    <tr>\n",
       "      <th>2</th>\n",
       "      <td>1982</td>\n",
       "      <td>0.324536</td>\n",
       "      <td>0.622308</td>\n",
       "      <td>0.559199</td>\n",
       "      <td>0.599269</td>\n",
       "      <td>0.593962</td>\n",
       "    </tr>\n",
       "    <tr>\n",
       "      <th>3</th>\n",
       "      <td>1983</td>\n",
       "      <td>0.139149</td>\n",
       "      <td>0.799324</td>\n",
       "      <td>0.629162</td>\n",
       "      <td>0.664877</td>\n",
       "      <td>0.073535</td>\n",
       "    </tr>\n",
       "    <tr>\n",
       "      <th>4</th>\n",
       "      <td>1984</td>\n",
       "      <td>0.232453</td>\n",
       "      <td>0.795393</td>\n",
       "      <td>0.278620</td>\n",
       "      <td>0.564805</td>\n",
       "      <td>0.250122</td>\n",
       "    </tr>\n",
       "    <tr>\n",
       "      <th>5</th>\n",
       "      <td>1985</td>\n",
       "      <td>0.326470</td>\n",
       "      <td>0.088161</td>\n",
       "      <td>0.436613</td>\n",
       "      <td>0.190075</td>\n",
       "      <td>0.779893</td>\n",
       "    </tr>\n",
       "    <tr>\n",
       "      <th>6</th>\n",
       "      <td>1986</td>\n",
       "      <td>0.291818</td>\n",
       "      <td>0.664557</td>\n",
       "      <td>0.376677</td>\n",
       "      <td>0.614292</td>\n",
       "      <td>0.222361</td>\n",
       "    </tr>\n",
       "    <tr>\n",
       "      <th>7</th>\n",
       "      <td>1987</td>\n",
       "      <td>0.204933</td>\n",
       "      <td>0.604053</td>\n",
       "      <td>0.833924</td>\n",
       "      <td>0.733650</td>\n",
       "      <td>0.000000</td>\n",
       "    </tr>\n",
       "    <tr>\n",
       "      <th>8</th>\n",
       "      <td>1988</td>\n",
       "      <td>0.329069</td>\n",
       "      <td>0.650974</td>\n",
       "      <td>0.265041</td>\n",
       "      <td>0.502173</td>\n",
       "      <td>0.336115</td>\n",
       "    </tr>\n",
       "    <tr>\n",
       "      <th>9</th>\n",
       "      <td>1989</td>\n",
       "      <td>0.342523</td>\n",
       "      <td>0.357455</td>\n",
       "      <td>0.222188</td>\n",
       "      <td>0.354591</td>\n",
       "      <td>0.926105</td>\n",
       "    </tr>\n",
       "    <tr>\n",
       "      <th>10</th>\n",
       "      <td>1990</td>\n",
       "      <td>0.832580</td>\n",
       "      <td>0.322382</td>\n",
       "      <td>0.025741</td>\n",
       "      <td>0.243596</td>\n",
       "      <td>0.700367</td>\n",
       "    </tr>\n",
       "    <tr>\n",
       "      <th>11</th>\n",
       "      <td>1991</td>\n",
       "      <td>0.401208</td>\n",
       "      <td>0.534754</td>\n",
       "      <td>0.188000</td>\n",
       "      <td>0.340979</td>\n",
       "      <td>0.086735</td>\n",
       "    </tr>\n",
       "    <tr>\n",
       "      <th>12</th>\n",
       "      <td>1992</td>\n",
       "      <td>0.326372</td>\n",
       "      <td>0.491797</td>\n",
       "      <td>0.388490</td>\n",
       "      <td>0.288700</td>\n",
       "      <td>0.053028</td>\n",
       "    </tr>\n",
       "    <tr>\n",
       "      <th>13</th>\n",
       "      <td>1993</td>\n",
       "      <td>0.411210</td>\n",
       "      <td>0.195792</td>\n",
       "      <td>0.505235</td>\n",
       "      <td>0.287138</td>\n",
       "      <td>0.182061</td>\n",
       "    </tr>\n",
       "    <tr>\n",
       "      <th>14</th>\n",
       "      <td>1994</td>\n",
       "      <td>0.592861</td>\n",
       "      <td>0.110479</td>\n",
       "      <td>0.072140</td>\n",
       "      <td>0.022122</td>\n",
       "      <td>0.706431</td>\n",
       "    </tr>\n",
       "    <tr>\n",
       "      <th>15</th>\n",
       "      <td>1995</td>\n",
       "      <td>0.325735</td>\n",
       "      <td>0.599439</td>\n",
       "      <td>0.402182</td>\n",
       "      <td>0.373839</td>\n",
       "      <td>0.707837</td>\n",
       "    </tr>\n",
       "    <tr>\n",
       "      <th>16</th>\n",
       "      <td>1996</td>\n",
       "      <td>1.000000</td>\n",
       "      <td>0.378491</td>\n",
       "      <td>0.007566</td>\n",
       "      <td>0.215613</td>\n",
       "      <td>0.455155</td>\n",
       "    </tr>\n",
       "    <tr>\n",
       "      <th>17</th>\n",
       "      <td>1997</td>\n",
       "      <td>0.157649</td>\n",
       "      <td>0.476947</td>\n",
       "      <td>0.854368</td>\n",
       "      <td>0.519582</td>\n",
       "      <td>0.314864</td>\n",
       "    </tr>\n",
       "    <tr>\n",
       "      <th>18</th>\n",
       "      <td>1998</td>\n",
       "      <td>0.358906</td>\n",
       "      <td>0.364233</td>\n",
       "      <td>0.289358</td>\n",
       "      <td>0.291193</td>\n",
       "      <td>0.681136</td>\n",
       "    </tr>\n",
       "    <tr>\n",
       "      <th>19</th>\n",
       "      <td>1999</td>\n",
       "      <td>0.102077</td>\n",
       "      <td>1.000000</td>\n",
       "      <td>0.989318</td>\n",
       "      <td>1.000000</td>\n",
       "      <td>0.020302</td>\n",
       "    </tr>\n",
       "    <tr>\n",
       "      <th>20</th>\n",
       "      <td>2000</td>\n",
       "      <td>0.629187</td>\n",
       "      <td>0.331719</td>\n",
       "      <td>0.000000</td>\n",
       "      <td>0.211229</td>\n",
       "      <td>0.621852</td>\n",
       "    </tr>\n",
       "    <tr>\n",
       "      <th>21</th>\n",
       "      <td>2001</td>\n",
       "      <td>0.193425</td>\n",
       "      <td>0.563343</td>\n",
       "      <td>0.357521</td>\n",
       "      <td>0.472579</td>\n",
       "      <td>0.452666</td>\n",
       "    </tr>\n",
       "    <tr>\n",
       "      <th>22</th>\n",
       "      <td>2002</td>\n",
       "      <td>0.925616</td>\n",
       "      <td>0.162072</td>\n",
       "      <td>0.067557</td>\n",
       "      <td>0.055366</td>\n",
       "      <td>0.680658</td>\n",
       "    </tr>\n",
       "    <tr>\n",
       "      <th>23</th>\n",
       "      <td>2003</td>\n",
       "      <td>0.416787</td>\n",
       "      <td>0.354054</td>\n",
       "      <td>0.141522</td>\n",
       "      <td>0.281033</td>\n",
       "      <td>0.869549</td>\n",
       "    </tr>\n",
       "    <tr>\n",
       "      <th>24</th>\n",
       "      <td>2004</td>\n",
       "      <td>0.628803</td>\n",
       "      <td>0.085185</td>\n",
       "      <td>0.097432</td>\n",
       "      <td>0.031600</td>\n",
       "      <td>0.256525</td>\n",
       "    </tr>\n",
       "    <tr>\n",
       "      <th>25</th>\n",
       "      <td>2005</td>\n",
       "      <td>0.187448</td>\n",
       "      <td>0.511368</td>\n",
       "      <td>0.600632</td>\n",
       "      <td>0.462813</td>\n",
       "      <td>0.939569</td>\n",
       "    </tr>\n",
       "    <tr>\n",
       "      <th>26</th>\n",
       "      <td>2006</td>\n",
       "      <td>0.400429</td>\n",
       "      <td>0.561612</td>\n",
       "      <td>0.159993</td>\n",
       "      <td>0.409084</td>\n",
       "      <td>0.633954</td>\n",
       "    </tr>\n",
       "    <tr>\n",
       "      <th>27</th>\n",
       "      <td>2007</td>\n",
       "      <td>0.366045</td>\n",
       "      <td>0.475055</td>\n",
       "      <td>0.219222</td>\n",
       "      <td>0.420195</td>\n",
       "      <td>0.483594</td>\n",
       "    </tr>\n",
       "    <tr>\n",
       "      <th>28</th>\n",
       "      <td>2008</td>\n",
       "      <td>0.280460</td>\n",
       "      <td>0.391333</td>\n",
       "      <td>0.340532</td>\n",
       "      <td>0.355953</td>\n",
       "      <td>0.248358</td>\n",
       "    </tr>\n",
       "    <tr>\n",
       "      <th>29</th>\n",
       "      <td>2009</td>\n",
       "      <td>0.502573</td>\n",
       "      <td>0.069051</td>\n",
       "      <td>0.067321</td>\n",
       "      <td>0.028907</td>\n",
       "      <td>0.490793</td>\n",
       "    </tr>\n",
       "    <tr>\n",
       "      <th>30</th>\n",
       "      <td>2010</td>\n",
       "      <td>0.173548</td>\n",
       "      <td>0.595272</td>\n",
       "      <td>1.000000</td>\n",
       "      <td>0.640504</td>\n",
       "      <td>0.816138</td>\n",
       "    </tr>\n",
       "    <tr>\n",
       "      <th>31</th>\n",
       "      <td>2011</td>\n",
       "      <td>0.428323</td>\n",
       "      <td>0.503414</td>\n",
       "      <td>0.065421</td>\n",
       "      <td>0.269703</td>\n",
       "      <td>0.396243</td>\n",
       "    </tr>\n",
       "    <tr>\n",
       "      <th>32</th>\n",
       "      <td>2012</td>\n",
       "      <td>0.448498</td>\n",
       "      <td>0.284454</td>\n",
       "      <td>0.291205</td>\n",
       "      <td>0.348593</td>\n",
       "      <td>0.359680</td>\n",
       "    </tr>\n",
       "    <tr>\n",
       "      <th>33</th>\n",
       "      <td>2013</td>\n",
       "      <td>0.507180</td>\n",
       "      <td>0.308917</td>\n",
       "      <td>0.379229</td>\n",
       "      <td>0.463412</td>\n",
       "      <td>1.000000</td>\n",
       "    </tr>\n",
       "    <tr>\n",
       "      <th>34</th>\n",
       "      <td>2014</td>\n",
       "      <td>0.300057</td>\n",
       "      <td>0.401213</td>\n",
       "      <td>0.353896</td>\n",
       "      <td>0.374638</td>\n",
       "      <td>0.400486</td>\n",
       "    </tr>\n",
       "    <tr>\n",
       "      <th>35</th>\n",
       "      <td>2015</td>\n",
       "      <td>0.000000</td>\n",
       "      <td>0.865975</td>\n",
       "      <td>0.723682</td>\n",
       "      <td>0.823589</td>\n",
       "      <td>0.498817</td>\n",
       "    </tr>\n",
       "    <tr>\n",
       "      <th>36</th>\n",
       "      <td>2016</td>\n",
       "      <td>0.290868</td>\n",
       "      <td>0.443416</td>\n",
       "      <td>0.360286</td>\n",
       "      <td>0.392252</td>\n",
       "      <td>0.853709</td>\n",
       "    </tr>\n",
       "    <tr>\n",
       "      <th>37</th>\n",
       "      <td>2017</td>\n",
       "      <td>0.305248</td>\n",
       "      <td>0.332105</td>\n",
       "      <td>0.163788</td>\n",
       "      <td>0.329793</td>\n",
       "      <td>0.762924</td>\n",
       "    </tr>\n",
       "    <tr>\n",
       "      <th>38</th>\n",
       "      <td>2018</td>\n",
       "      <td>0.867626</td>\n",
       "      <td>0.093284</td>\n",
       "      <td>0.053515</td>\n",
       "      <td>0.177406</td>\n",
       "      <td>0.365574</td>\n",
       "    </tr>\n",
       "    <tr>\n",
       "      <th>39</th>\n",
       "      <td>2021</td>\n",
       "      <td>0.373643</td>\n",
       "      <td>0.402562</td>\n",
       "      <td>0.463269</td>\n",
       "      <td>0.379992</td>\n",
       "      <td>0.721086</td>\n",
       "    </tr>\n",
       "    <tr>\n",
       "      <th>40</th>\n",
       "      <td>2022</td>\n",
       "      <td>0.399668</td>\n",
       "      <td>0.350936</td>\n",
       "      <td>0.404685</td>\n",
       "      <td>0.341678</td>\n",
       "      <td>0.916108</td>\n",
       "    </tr>\n",
       "    <tr>\n",
       "      <th>41</th>\n",
       "      <td>2023</td>\n",
       "      <td>0.344075</td>\n",
       "      <td>0.448684</td>\n",
       "      <td>0.662350</td>\n",
       "      <td>0.458952</td>\n",
       "      <td>0.806748</td>\n",
       "    </tr>\n",
       "    <tr>\n",
       "      <th>42</th>\n",
       "      <td>2024</td>\n",
       "      <td>0.416539</td>\n",
       "      <td>0.295430</td>\n",
       "      <td>0.562352</td>\n",
       "      <td>0.329676</td>\n",
       "      <td>0.933750</td>\n",
       "    </tr>\n",
       "  </tbody>\n",
       "</table>\n",
       "</div>"
      ],
      "text/plain": [
       "    year  drysoildays_summer_whole  evap_summer  nondryswa_summer_whole  \\\n",
       "0   1980                  0.514474     0.000000                0.416921   \n",
       "1   1981                  0.255970     0.832378                0.101002   \n",
       "2   1982                  0.324536     0.622308                0.559199   \n",
       "3   1983                  0.139149     0.799324                0.629162   \n",
       "4   1984                  0.232453     0.795393                0.278620   \n",
       "5   1985                  0.326470     0.088161                0.436613   \n",
       "6   1986                  0.291818     0.664557                0.376677   \n",
       "7   1987                  0.204933     0.604053                0.833924   \n",
       "8   1988                  0.329069     0.650974                0.265041   \n",
       "9   1989                  0.342523     0.357455                0.222188   \n",
       "10  1990                  0.832580     0.322382                0.025741   \n",
       "11  1991                  0.401208     0.534754                0.188000   \n",
       "12  1992                  0.326372     0.491797                0.388490   \n",
       "13  1993                  0.411210     0.195792                0.505235   \n",
       "14  1994                  0.592861     0.110479                0.072140   \n",
       "15  1995                  0.325735     0.599439                0.402182   \n",
       "16  1996                  1.000000     0.378491                0.007566   \n",
       "17  1997                  0.157649     0.476947                0.854368   \n",
       "18  1998                  0.358906     0.364233                0.289358   \n",
       "19  1999                  0.102077     1.000000                0.989318   \n",
       "20  2000                  0.629187     0.331719                0.000000   \n",
       "21  2001                  0.193425     0.563343                0.357521   \n",
       "22  2002                  0.925616     0.162072                0.067557   \n",
       "23  2003                  0.416787     0.354054                0.141522   \n",
       "24  2004                  0.628803     0.085185                0.097432   \n",
       "25  2005                  0.187448     0.511368                0.600632   \n",
       "26  2006                  0.400429     0.561612                0.159993   \n",
       "27  2007                  0.366045     0.475055                0.219222   \n",
       "28  2008                  0.280460     0.391333                0.340532   \n",
       "29  2009                  0.502573     0.069051                0.067321   \n",
       "30  2010                  0.173548     0.595272                1.000000   \n",
       "31  2011                  0.428323     0.503414                0.065421   \n",
       "32  2012                  0.448498     0.284454                0.291205   \n",
       "33  2013                  0.507180     0.308917                0.379229   \n",
       "34  2014                  0.300057     0.401213                0.353896   \n",
       "35  2015                  0.000000     0.865975                0.723682   \n",
       "36  2016                  0.290868     0.443416                0.360286   \n",
       "37  2017                  0.305248     0.332105                0.163788   \n",
       "38  2018                  0.867626     0.093284                0.053515   \n",
       "39  2021                  0.373643     0.402562                0.463269   \n",
       "40  2022                  0.399668     0.350936                0.404685   \n",
       "41  2023                  0.344075     0.448684                0.662350   \n",
       "42  2024                  0.416539     0.295430                0.562352   \n",
       "\n",
       "    ppt_summer  tmax_summer  \n",
       "0     0.000000     0.684300  \n",
       "1     0.577175     0.792399  \n",
       "2     0.599269     0.593962  \n",
       "3     0.664877     0.073535  \n",
       "4     0.564805     0.250122  \n",
       "5     0.190075     0.779893  \n",
       "6     0.614292     0.222361  \n",
       "7     0.733650     0.000000  \n",
       "8     0.502173     0.336115  \n",
       "9     0.354591     0.926105  \n",
       "10    0.243596     0.700367  \n",
       "11    0.340979     0.086735  \n",
       "12    0.288700     0.053028  \n",
       "13    0.287138     0.182061  \n",
       "14    0.022122     0.706431  \n",
       "15    0.373839     0.707837  \n",
       "16    0.215613     0.455155  \n",
       "17    0.519582     0.314864  \n",
       "18    0.291193     0.681136  \n",
       "19    1.000000     0.020302  \n",
       "20    0.211229     0.621852  \n",
       "21    0.472579     0.452666  \n",
       "22    0.055366     0.680658  \n",
       "23    0.281033     0.869549  \n",
       "24    0.031600     0.256525  \n",
       "25    0.462813     0.939569  \n",
       "26    0.409084     0.633954  \n",
       "27    0.420195     0.483594  \n",
       "28    0.355953     0.248358  \n",
       "29    0.028907     0.490793  \n",
       "30    0.640504     0.816138  \n",
       "31    0.269703     0.396243  \n",
       "32    0.348593     0.359680  \n",
       "33    0.463412     1.000000  \n",
       "34    0.374638     0.400486  \n",
       "35    0.823589     0.498817  \n",
       "36    0.392252     0.853709  \n",
       "37    0.329793     0.762924  \n",
       "38    0.177406     0.365574  \n",
       "39    0.379992     0.721086  \n",
       "40    0.341678     0.916108  \n",
       "41    0.458952     0.806748  \n",
       "42    0.329676     0.933750  "
      ]
     },
     "execution_count": 151,
     "metadata": {},
     "output_type": "execute_result"
    }
   ],
   "source": [
    "summer_mean = summer_copy_2.groupby(['year']).mean().reset_index()\n",
    "# normalize each column\n",
    "scaler = MinMaxScaler()\n",
    "normalization = ['drysoildays_summer_whole', 'evap_summer', 'nondryswa_summer_whole', 'ppt_summer', 'tmax_summer']\n",
    "summer_norm = summer_mean.copy()\n",
    "summer_norm[normalization] = scaler.fit_transform(summer_norm[normalization])\n",
    "\n",
    "# save the normalized data to a csv file\n",
    "summer_norm.to_csv('./data/cleaned_data/summer_data_normalized.csv', index=False)\n",
    "\n",
    "summer_norm"
   ]
  },
  {
   "cell_type": "code",
   "execution_count": 162,
   "metadata": {},
   "outputs": [
    {
     "data": {
      "application/javascript": "\n    <div class=\"flourish-embed flourish-radar\" data-src=\"visualisation/17966848\"><script src=\"https://public.flourish.studio/resources/embed.js\"></script></div>\n",
      "text/plain": [
       "<IPython.core.display.Javascript object>"
      ]
     },
     "metadata": {},
     "output_type": "display_data"
    }
   ],
   "source": [
    "display(Javascript(\"\"\"\n",
    "    <div class=\"flourish-embed flourish-radar\" data-src=\"visualisation/17966848\"><script src=\"https://public.flourish.studio/resources/embed.js\"></script></div>\n",
    "\"\"\"))"
   ]
  },
  {
   "cell_type": "markdown",
   "metadata": {},
   "source": [
    "### Summer vs. Winter Dataset"
   ]
  },
  {
   "cell_type": "code",
   "execution_count": 20,
   "metadata": {},
   "outputs": [
    {
     "name": "stderr",
     "output_type": "stream",
     "text": [
      "/var/folders/27/cc8xpbnj4vgc0f2m9xmmtc_r0000gn/T/ipykernel_2972/3445449044.py:2: DtypeWarning:\n",
      "\n",
      "Columns (3) have mixed types. Specify dtype option on import or set low_memory=False.\n",
      "\n"
     ]
    },
    {
     "data": {
      "text/html": [
       "<div>\n",
       "<style scoped>\n",
       "    .dataframe tbody tr th:only-of-type {\n",
       "        vertical-align: middle;\n",
       "    }\n",
       "\n",
       "    .dataframe tbody tr th {\n",
       "        vertical-align: top;\n",
       "    }\n",
       "\n",
       "    .dataframe thead th {\n",
       "        text-align: right;\n",
       "    }\n",
       "</style>\n",
       "<table border=\"1\" class=\"dataframe\">\n",
       "  <thead>\n",
       "    <tr style=\"text-align: right;\">\n",
       "      <th></th>\n",
       "      <th>long</th>\n",
       "      <th>lat</th>\n",
       "      <th>year</th>\n",
       "      <th>rcp</th>\n",
       "      <th>ppt_annual</th>\n",
       "      <th>ppt_summer</th>\n",
       "      <th>ppt_winter</th>\n",
       "      <th>t_summer</th>\n",
       "      <th>t_winter</th>\n",
       "      <th>tmax_summer</th>\n",
       "      <th>tmin_winter</th>\n",
       "    </tr>\n",
       "  </thead>\n",
       "  <tbody>\n",
       "    <tr>\n",
       "      <th>0</th>\n",
       "      <td>-110.0472</td>\n",
       "      <td>37.60413</td>\n",
       "      <td>1980</td>\n",
       "      <td>historical</td>\n",
       "      <td>13.79</td>\n",
       "      <td>2.69</td>\n",
       "      <td>13.79</td>\n",
       "      <td>23.15924</td>\n",
       "      <td>0.964835</td>\n",
       "      <td>37.05</td>\n",
       "      <td>NaN</td>\n",
       "    </tr>\n",
       "    <tr>\n",
       "      <th>1</th>\n",
       "      <td>-110.0472</td>\n",
       "      <td>37.60413</td>\n",
       "      <td>1980</td>\n",
       "      <td>historical</td>\n",
       "      <td>2.69</td>\n",
       "      <td>2.69</td>\n",
       "      <td>13.79</td>\n",
       "      <td>23.15924</td>\n",
       "      <td>0.964835</td>\n",
       "      <td>37.05</td>\n",
       "      <td>NaN</td>\n",
       "    </tr>\n",
       "    <tr>\n",
       "      <th>2</th>\n",
       "      <td>-110.0472</td>\n",
       "      <td>37.60413</td>\n",
       "      <td>1980</td>\n",
       "      <td>historical</td>\n",
       "      <td>13.79</td>\n",
       "      <td>2.69</td>\n",
       "      <td>13.79</td>\n",
       "      <td>23.15924</td>\n",
       "      <td>0.964835</td>\n",
       "      <td>37.05</td>\n",
       "      <td>NaN</td>\n",
       "    </tr>\n",
       "    <tr>\n",
       "      <th>3</th>\n",
       "      <td>-110.0472</td>\n",
       "      <td>37.60413</td>\n",
       "      <td>1980</td>\n",
       "      <td>historical</td>\n",
       "      <td>2.69</td>\n",
       "      <td>2.69</td>\n",
       "      <td>13.79</td>\n",
       "      <td>23.15924</td>\n",
       "      <td>0.964835</td>\n",
       "      <td>37.05</td>\n",
       "      <td>NaN</td>\n",
       "    </tr>\n",
       "    <tr>\n",
       "      <th>4</th>\n",
       "      <td>-110.0472</td>\n",
       "      <td>37.60413</td>\n",
       "      <td>1980</td>\n",
       "      <td>historical</td>\n",
       "      <td>NaN</td>\n",
       "      <td>NaN</td>\n",
       "      <td>NaN</td>\n",
       "      <td>NaN</td>\n",
       "      <td>NaN</td>\n",
       "      <td>NaN</td>\n",
       "      <td>-12.45</td>\n",
       "    </tr>\n",
       "  </tbody>\n",
       "</table>\n",
       "</div>"
      ],
      "text/plain": [
       "       long       lat  year         rcp  ppt_annual  ppt_summer  ppt_winter  \\\n",
       "0 -110.0472  37.60413  1980  historical       13.79        2.69       13.79   \n",
       "1 -110.0472  37.60413  1980  historical        2.69        2.69       13.79   \n",
       "2 -110.0472  37.60413  1980  historical       13.79        2.69       13.79   \n",
       "3 -110.0472  37.60413  1980  historical        2.69        2.69       13.79   \n",
       "4 -110.0472  37.60413  1980  historical         NaN         NaN         NaN   \n",
       "\n",
       "   t_summer  t_winter  tmax_summer  tmin_winter  \n",
       "0  23.15924  0.964835        37.05          NaN  \n",
       "1  23.15924  0.964835        37.05          NaN  \n",
       "2  23.15924  0.964835        37.05          NaN  \n",
       "3  23.15924  0.964835        37.05          NaN  \n",
       "4       NaN       NaN          NaN       -12.45  "
      ]
     },
     "execution_count": 20,
     "metadata": {},
     "output_type": "execute_result"
    }
   ],
   "source": [
    "# load the data\n",
    "summer_winter = pd.read_csv('./data/cleaned_data/summer_winter_data.csv')\n",
    "summer_winter.head()"
   ]
  },
  {
   "cell_type": "code",
   "execution_count": 87,
   "metadata": {},
   "outputs": [
    {
     "data": {
      "text/plain": [
       "Index(['long', 'lat', 'year', 'timeperiod', 'rcp', 'scenario', 'treecanopy',\n",
       "       'ann_herb', 'bare', 'herb', 'litter', 'shrub',\n",
       "       'drysoildays_summer_whole', 'evap_summer',\n",
       "       'extremeshorttermdrystress_summer_whole', 'frostdays_winter',\n",
       "       'nondryswa_summer_whole', 'ppt_winter', 'ppt_summer', 'ppt_annual',\n",
       "       't_winter', 't_summer', 't_annual', 'tmax_summer', 'tmin_winter',\n",
       "       'vwc_winter_whole', 'vwc_spring_whole', 'vwc_summer_whole',\n",
       "       'vwc_fall_whole'],\n",
       "      dtype='object')"
      ]
     },
     "execution_count": 87,
     "metadata": {},
     "output_type": "execute_result"
    }
   ],
   "source": [
    "df.columns"
   ]
  }
 ],
 "metadata": {
  "kernelspec": {
   "display_name": "Python 3",
   "language": "python",
   "name": "python3"
  },
  "language_info": {
   "codemirror_mode": {
    "name": "ipython",
    "version": 3
   },
   "file_extension": ".py",
   "mimetype": "text/x-python",
   "name": "python",
   "nbconvert_exporter": "python",
   "pygments_lexer": "ipython3",
   "version": "3.11.8"
  }
 },
 "nbformat": 4,
 "nbformat_minor": 2
}
