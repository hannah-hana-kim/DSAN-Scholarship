{
 "cells": [
  {
   "cell_type": "raw",
   "metadata": {
    "vscode": {
     "languageId": "raw"
    }
   },
   "source": [
    "---\n",
    "title: Data Cleaning and Visualization\n",
    "author: Hannah Kim\n",
    "format: \n",
    "    html:\n",
    "        embed-resources: true\n",
    "---"
   ]
  },
  {
   "cell_type": "markdown",
   "metadata": {},
   "source": [
    "## Data Cleaning\n",
    "\n",
    "### The entire dataset"
   ]
  },
  {
   "cell_type": "code",
   "execution_count": 1,
   "metadata": {},
   "outputs": [],
   "source": [
    "# import necessary libraries\n",
    "import numpy as np\n",
    "import pandas as pd\n",
    "import matplotlib.pyplot as plt\n",
    "import seaborn as sns\n",
    "import folium\n",
    "from folium.plugins import HeatMap\n",
    "import branca\n",
    "import plotly.express as px\n",
    "import plotly.graph_objects as go"
   ]
  },
  {
   "cell_type": "code",
   "execution_count": 2,
   "metadata": {},
   "outputs": [],
   "source": [
    "# load the entire dataset\n",
    "nabr = pd.read_csv('./data/NABR_historic.csv')\n",
    "nearterm = pd.read_csv('./data/nearterm_data_2020-2024.csv')"
   ]
  },
  {
   "cell_type": "code",
   "execution_count": 3,
   "metadata": {},
   "outputs": [
    {
     "data": {
      "text/html": [
       "<div>\n",
       "<style scoped>\n",
       "    .dataframe tbody tr th:only-of-type {\n",
       "        vertical-align: middle;\n",
       "    }\n",
       "\n",
       "    .dataframe tbody tr th {\n",
       "        vertical-align: top;\n",
       "    }\n",
       "\n",
       "    .dataframe thead th {\n",
       "        text-align: right;\n",
       "    }\n",
       "</style>\n",
       "<table border=\"1\" class=\"dataframe\">\n",
       "  <thead>\n",
       "    <tr style=\"text-align: right;\">\n",
       "      <th></th>\n",
       "      <th>long</th>\n",
       "      <th>lat</th>\n",
       "      <th>year</th>\n",
       "      <th>TimePeriod</th>\n",
       "      <th>RCP</th>\n",
       "      <th>scenario</th>\n",
       "      <th>treecanopy</th>\n",
       "      <th>Ann_Herb</th>\n",
       "      <th>Bare</th>\n",
       "      <th>Herb</th>\n",
       "      <th>...</th>\n",
       "      <th>PPT_Annual</th>\n",
       "      <th>T_Winter</th>\n",
       "      <th>T_Summer</th>\n",
       "      <th>T_Annual</th>\n",
       "      <th>Tmax_Summer</th>\n",
       "      <th>Tmin_Winter</th>\n",
       "      <th>VWC_Winter_whole</th>\n",
       "      <th>VWC_Spring_whole</th>\n",
       "      <th>VWC_Summer_whole</th>\n",
       "      <th>VWC_Fall_whole</th>\n",
       "    </tr>\n",
       "  </thead>\n",
       "  <tbody>\n",
       "    <tr>\n",
       "      <th>0</th>\n",
       "      <td>-110.0472</td>\n",
       "      <td>37.60413</td>\n",
       "      <td>1980</td>\n",
       "      <td>Hist</td>\n",
       "      <td>historical</td>\n",
       "      <td>sc1</td>\n",
       "      <td>0</td>\n",
       "      <td>0</td>\n",
       "      <td>84</td>\n",
       "      <td>5</td>\n",
       "      <td>...</td>\n",
       "      <td>13.79</td>\n",
       "      <td>0.964835</td>\n",
       "      <td>23.15924</td>\n",
       "      <td>23.159240</td>\n",
       "      <td>37.05</td>\n",
       "      <td>NaN</td>\n",
       "      <td>NaN</td>\n",
       "      <td>NaN</td>\n",
       "      <td>NaN</td>\n",
       "      <td>NaN</td>\n",
       "    </tr>\n",
       "    <tr>\n",
       "      <th>1</th>\n",
       "      <td>-110.0472</td>\n",
       "      <td>37.60413</td>\n",
       "      <td>1980</td>\n",
       "      <td>Hist</td>\n",
       "      <td>historical</td>\n",
       "      <td>sc1</td>\n",
       "      <td>0</td>\n",
       "      <td>0</td>\n",
       "      <td>84</td>\n",
       "      <td>5</td>\n",
       "      <td>...</td>\n",
       "      <td>2.69</td>\n",
       "      <td>0.964835</td>\n",
       "      <td>23.15924</td>\n",
       "      <td>0.964835</td>\n",
       "      <td>37.05</td>\n",
       "      <td>NaN</td>\n",
       "      <td>NaN</td>\n",
       "      <td>NaN</td>\n",
       "      <td>NaN</td>\n",
       "      <td>NaN</td>\n",
       "    </tr>\n",
       "    <tr>\n",
       "      <th>2</th>\n",
       "      <td>-110.0472</td>\n",
       "      <td>37.60413</td>\n",
       "      <td>1980</td>\n",
       "      <td>Hist</td>\n",
       "      <td>historical</td>\n",
       "      <td>sc1</td>\n",
       "      <td>0</td>\n",
       "      <td>0</td>\n",
       "      <td>84</td>\n",
       "      <td>5</td>\n",
       "      <td>...</td>\n",
       "      <td>13.79</td>\n",
       "      <td>0.964835</td>\n",
       "      <td>23.15924</td>\n",
       "      <td>0.964835</td>\n",
       "      <td>37.05</td>\n",
       "      <td>NaN</td>\n",
       "      <td>NaN</td>\n",
       "      <td>NaN</td>\n",
       "      <td>NaN</td>\n",
       "      <td>NaN</td>\n",
       "    </tr>\n",
       "    <tr>\n",
       "      <th>3</th>\n",
       "      <td>-110.0472</td>\n",
       "      <td>37.60413</td>\n",
       "      <td>1980</td>\n",
       "      <td>Hist</td>\n",
       "      <td>historical</td>\n",
       "      <td>sc1</td>\n",
       "      <td>0</td>\n",
       "      <td>0</td>\n",
       "      <td>84</td>\n",
       "      <td>5</td>\n",
       "      <td>...</td>\n",
       "      <td>2.69</td>\n",
       "      <td>0.964835</td>\n",
       "      <td>23.15924</td>\n",
       "      <td>23.159240</td>\n",
       "      <td>37.05</td>\n",
       "      <td>NaN</td>\n",
       "      <td>NaN</td>\n",
       "      <td>NaN</td>\n",
       "      <td>NaN</td>\n",
       "      <td>NaN</td>\n",
       "    </tr>\n",
       "    <tr>\n",
       "      <th>4</th>\n",
       "      <td>-110.0472</td>\n",
       "      <td>37.60413</td>\n",
       "      <td>1980</td>\n",
       "      <td>Hist</td>\n",
       "      <td>historical</td>\n",
       "      <td>sc1</td>\n",
       "      <td>0</td>\n",
       "      <td>0</td>\n",
       "      <td>84</td>\n",
       "      <td>5</td>\n",
       "      <td>...</td>\n",
       "      <td>NaN</td>\n",
       "      <td>NaN</td>\n",
       "      <td>NaN</td>\n",
       "      <td>NaN</td>\n",
       "      <td>NaN</td>\n",
       "      <td>-12.45</td>\n",
       "      <td>0.113447</td>\n",
       "      <td>0.096831</td>\n",
       "      <td>0.041876</td>\n",
       "      <td>0.052298</td>\n",
       "    </tr>\n",
       "  </tbody>\n",
       "</table>\n",
       "<p>5 rows × 29 columns</p>\n",
       "</div>"
      ],
      "text/plain": [
       "       long       lat  year TimePeriod         RCP scenario  treecanopy  \\\n",
       "0 -110.0472  37.60413  1980       Hist  historical      sc1           0   \n",
       "1 -110.0472  37.60413  1980       Hist  historical      sc1           0   \n",
       "2 -110.0472  37.60413  1980       Hist  historical      sc1           0   \n",
       "3 -110.0472  37.60413  1980       Hist  historical      sc1           0   \n",
       "4 -110.0472  37.60413  1980       Hist  historical      sc1           0   \n",
       "\n",
       "   Ann_Herb  Bare  Herb  ...  PPT_Annual  T_Winter  T_Summer   T_Annual  \\\n",
       "0         0    84     5  ...       13.79  0.964835  23.15924  23.159240   \n",
       "1         0    84     5  ...        2.69  0.964835  23.15924   0.964835   \n",
       "2         0    84     5  ...       13.79  0.964835  23.15924   0.964835   \n",
       "3         0    84     5  ...        2.69  0.964835  23.15924  23.159240   \n",
       "4         0    84     5  ...         NaN       NaN       NaN        NaN   \n",
       "\n",
       "   Tmax_Summer  Tmin_Winter  VWC_Winter_whole  VWC_Spring_whole  \\\n",
       "0        37.05          NaN               NaN               NaN   \n",
       "1        37.05          NaN               NaN               NaN   \n",
       "2        37.05          NaN               NaN               NaN   \n",
       "3        37.05          NaN               NaN               NaN   \n",
       "4          NaN       -12.45          0.113447          0.096831   \n",
       "\n",
       "   VWC_Summer_whole  VWC_Fall_whole  \n",
       "0               NaN             NaN  \n",
       "1               NaN             NaN  \n",
       "2               NaN             NaN  \n",
       "3               NaN             NaN  \n",
       "4          0.041876        0.052298  \n",
       "\n",
       "[5 rows x 29 columns]"
      ]
     },
     "execution_count": 3,
     "metadata": {},
     "output_type": "execute_result"
    }
   ],
   "source": [
    "nabr.head()"
   ]
  },
  {
   "cell_type": "code",
   "execution_count": 4,
   "metadata": {},
   "outputs": [
    {
     "data": {
      "text/html": [
       "<div>\n",
       "<style scoped>\n",
       "    .dataframe tbody tr th:only-of-type {\n",
       "        vertical-align: middle;\n",
       "    }\n",
       "\n",
       "    .dataframe tbody tr th {\n",
       "        vertical-align: top;\n",
       "    }\n",
       "\n",
       "    .dataframe thead th {\n",
       "        text-align: right;\n",
       "    }\n",
       "</style>\n",
       "<table border=\"1\" class=\"dataframe\">\n",
       "  <thead>\n",
       "    <tr style=\"text-align: right;\">\n",
       "      <th></th>\n",
       "      <th>long</th>\n",
       "      <th>lat</th>\n",
       "      <th>year</th>\n",
       "      <th>TimePeriod</th>\n",
       "      <th>RCP</th>\n",
       "      <th>scenario</th>\n",
       "      <th>treecanopy</th>\n",
       "      <th>Ann_Herb</th>\n",
       "      <th>Bare</th>\n",
       "      <th>Herb</th>\n",
       "      <th>...</th>\n",
       "      <th>PPT_Annual</th>\n",
       "      <th>T_Winter</th>\n",
       "      <th>T_Summer</th>\n",
       "      <th>T_Annual</th>\n",
       "      <th>Tmax_Summer</th>\n",
       "      <th>Tmin_Winter</th>\n",
       "      <th>VWC_Winter_whole</th>\n",
       "      <th>VWC_Spring_whole</th>\n",
       "      <th>VWC_Summer_whole</th>\n",
       "      <th>VWC_Fall_whole</th>\n",
       "    </tr>\n",
       "  </thead>\n",
       "  <tbody>\n",
       "    <tr>\n",
       "      <th>0</th>\n",
       "      <td>-110.0472</td>\n",
       "      <td>37.60413</td>\n",
       "      <td>2021</td>\n",
       "      <td>NT</td>\n",
       "      <td>4.5</td>\n",
       "      <td>sc22</td>\n",
       "      <td>0</td>\n",
       "      <td>0</td>\n",
       "      <td>84</td>\n",
       "      <td>5</td>\n",
       "      <td>...</td>\n",
       "      <td>6.37</td>\n",
       "      <td>1.630333</td>\n",
       "      <td>24.50402</td>\n",
       "      <td>24.50402</td>\n",
       "      <td>36.89</td>\n",
       "      <td>NaN</td>\n",
       "      <td>NaN</td>\n",
       "      <td>NaN</td>\n",
       "      <td>NaN</td>\n",
       "      <td>NaN</td>\n",
       "    </tr>\n",
       "    <tr>\n",
       "      <th>1</th>\n",
       "      <td>-110.0472</td>\n",
       "      <td>37.60413</td>\n",
       "      <td>2021</td>\n",
       "      <td>NT</td>\n",
       "      <td>4.5</td>\n",
       "      <td>sc22</td>\n",
       "      <td>0</td>\n",
       "      <td>0</td>\n",
       "      <td>84</td>\n",
       "      <td>5</td>\n",
       "      <td>...</td>\n",
       "      <td>NaN</td>\n",
       "      <td>NaN</td>\n",
       "      <td>NaN</td>\n",
       "      <td>NaN</td>\n",
       "      <td>NaN</td>\n",
       "      <td>-12.77</td>\n",
       "      <td>0.114652</td>\n",
       "      <td>0.078764</td>\n",
       "      <td>0.043514</td>\n",
       "      <td>0.051281</td>\n",
       "    </tr>\n",
       "    <tr>\n",
       "      <th>2</th>\n",
       "      <td>-110.0472</td>\n",
       "      <td>37.60413</td>\n",
       "      <td>2021</td>\n",
       "      <td>NT</td>\n",
       "      <td>4.5</td>\n",
       "      <td>sc23</td>\n",
       "      <td>0</td>\n",
       "      <td>0</td>\n",
       "      <td>84</td>\n",
       "      <td>5</td>\n",
       "      <td>...</td>\n",
       "      <td>3.09</td>\n",
       "      <td>1.389056</td>\n",
       "      <td>24.11043</td>\n",
       "      <td>24.11043</td>\n",
       "      <td>37.95</td>\n",
       "      <td>NaN</td>\n",
       "      <td>NaN</td>\n",
       "      <td>NaN</td>\n",
       "      <td>NaN</td>\n",
       "      <td>NaN</td>\n",
       "    </tr>\n",
       "    <tr>\n",
       "      <th>3</th>\n",
       "      <td>-110.0472</td>\n",
       "      <td>37.60413</td>\n",
       "      <td>2021</td>\n",
       "      <td>NT</td>\n",
       "      <td>4.5</td>\n",
       "      <td>sc23</td>\n",
       "      <td>0</td>\n",
       "      <td>0</td>\n",
       "      <td>84</td>\n",
       "      <td>5</td>\n",
       "      <td>...</td>\n",
       "      <td>NaN</td>\n",
       "      <td>NaN</td>\n",
       "      <td>NaN</td>\n",
       "      <td>NaN</td>\n",
       "      <td>NaN</td>\n",
       "      <td>-18.96</td>\n",
       "      <td>0.130221</td>\n",
       "      <td>0.096412</td>\n",
       "      <td>0.041232</td>\n",
       "      <td>0.092241</td>\n",
       "    </tr>\n",
       "    <tr>\n",
       "      <th>4</th>\n",
       "      <td>-110.0472</td>\n",
       "      <td>37.60413</td>\n",
       "      <td>2021</td>\n",
       "      <td>NT</td>\n",
       "      <td>4.5</td>\n",
       "      <td>sc24</td>\n",
       "      <td>0</td>\n",
       "      <td>0</td>\n",
       "      <td>84</td>\n",
       "      <td>5</td>\n",
       "      <td>...</td>\n",
       "      <td>6.87</td>\n",
       "      <td>-0.334389</td>\n",
       "      <td>25.54266</td>\n",
       "      <td>10.31321</td>\n",
       "      <td>37.74</td>\n",
       "      <td>NaN</td>\n",
       "      <td>NaN</td>\n",
       "      <td>NaN</td>\n",
       "      <td>NaN</td>\n",
       "      <td>NaN</td>\n",
       "    </tr>\n",
       "  </tbody>\n",
       "</table>\n",
       "<p>5 rows × 29 columns</p>\n",
       "</div>"
      ],
      "text/plain": [
       "       long       lat  year TimePeriod  RCP scenario  treecanopy  Ann_Herb  \\\n",
       "0 -110.0472  37.60413  2021         NT  4.5     sc22           0         0   \n",
       "1 -110.0472  37.60413  2021         NT  4.5     sc22           0         0   \n",
       "2 -110.0472  37.60413  2021         NT  4.5     sc23           0         0   \n",
       "3 -110.0472  37.60413  2021         NT  4.5     sc23           0         0   \n",
       "4 -110.0472  37.60413  2021         NT  4.5     sc24           0         0   \n",
       "\n",
       "   Bare  Herb  ...  PPT_Annual  T_Winter  T_Summer  T_Annual  Tmax_Summer  \\\n",
       "0    84     5  ...        6.37  1.630333  24.50402  24.50402        36.89   \n",
       "1    84     5  ...         NaN       NaN       NaN       NaN          NaN   \n",
       "2    84     5  ...        3.09  1.389056  24.11043  24.11043        37.95   \n",
       "3    84     5  ...         NaN       NaN       NaN       NaN          NaN   \n",
       "4    84     5  ...        6.87 -0.334389  25.54266  10.31321        37.74   \n",
       "\n",
       "   Tmin_Winter  VWC_Winter_whole  VWC_Spring_whole  VWC_Summer_whole  \\\n",
       "0          NaN               NaN               NaN               NaN   \n",
       "1       -12.77          0.114652          0.078764          0.043514   \n",
       "2          NaN               NaN               NaN               NaN   \n",
       "3       -18.96          0.130221          0.096412          0.041232   \n",
       "4          NaN               NaN               NaN               NaN   \n",
       "\n",
       "   VWC_Fall_whole  \n",
       "0             NaN  \n",
       "1        0.051281  \n",
       "2             NaN  \n",
       "3        0.092241  \n",
       "4             NaN  \n",
       "\n",
       "[5 rows x 29 columns]"
      ]
     },
     "execution_count": 4,
     "metadata": {},
     "output_type": "execute_result"
    }
   ],
   "source": [
    "nearterm.head()"
   ]
  },
  {
   "cell_type": "code",
   "execution_count": 5,
   "metadata": {},
   "outputs": [],
   "source": [
    "# lowercase column names\n",
    "nabr.columns = nabr.columns.str.lower()\n",
    "nearterm.columns = nearterm.columns.str.lower()\n",
    "\n",
    "# merge the two datasets\n",
    "df = pd.concat([nabr, nearterm], axis=0)\n",
    "\n",
    "# save the cleaned data to a csv file\n",
    "df.to_csv('./data/cleaned_data/final_data.csv', index=False)"
   ]
  },
  {
   "cell_type": "code",
   "execution_count": 84,
   "metadata": {},
   "outputs": [
    {
     "data": {
      "text/html": [
       "<div>\n",
       "<style scoped>\n",
       "    .dataframe tbody tr th:only-of-type {\n",
       "        vertical-align: middle;\n",
       "    }\n",
       "\n",
       "    .dataframe tbody tr th {\n",
       "        vertical-align: top;\n",
       "    }\n",
       "\n",
       "    .dataframe thead th {\n",
       "        text-align: right;\n",
       "    }\n",
       "</style>\n",
       "<table border=\"1\" class=\"dataframe\">\n",
       "  <thead>\n",
       "    <tr style=\"text-align: right;\">\n",
       "      <th></th>\n",
       "      <th>long</th>\n",
       "      <th>lat</th>\n",
       "      <th>year</th>\n",
       "      <th>timeperiod</th>\n",
       "      <th>rcp</th>\n",
       "      <th>scenario</th>\n",
       "      <th>treecanopy</th>\n",
       "      <th>ann_herb</th>\n",
       "      <th>bare</th>\n",
       "      <th>herb</th>\n",
       "      <th>...</th>\n",
       "      <th>ppt_annual</th>\n",
       "      <th>t_winter</th>\n",
       "      <th>t_summer</th>\n",
       "      <th>t_annual</th>\n",
       "      <th>tmax_summer</th>\n",
       "      <th>tmin_winter</th>\n",
       "      <th>vwc_winter_whole</th>\n",
       "      <th>vwc_spring_whole</th>\n",
       "      <th>vwc_summer_whole</th>\n",
       "      <th>vwc_fall_whole</th>\n",
       "    </tr>\n",
       "  </thead>\n",
       "  <tbody>\n",
       "    <tr>\n",
       "      <th>0</th>\n",
       "      <td>-110.0472</td>\n",
       "      <td>37.60413</td>\n",
       "      <td>1980</td>\n",
       "      <td>Hist</td>\n",
       "      <td>historical</td>\n",
       "      <td>sc1</td>\n",
       "      <td>0</td>\n",
       "      <td>0</td>\n",
       "      <td>84</td>\n",
       "      <td>5</td>\n",
       "      <td>...</td>\n",
       "      <td>13.79</td>\n",
       "      <td>0.964835</td>\n",
       "      <td>23.15924</td>\n",
       "      <td>23.159240</td>\n",
       "      <td>37.05</td>\n",
       "      <td>NaN</td>\n",
       "      <td>NaN</td>\n",
       "      <td>NaN</td>\n",
       "      <td>NaN</td>\n",
       "      <td>NaN</td>\n",
       "    </tr>\n",
       "    <tr>\n",
       "      <th>1</th>\n",
       "      <td>-110.0472</td>\n",
       "      <td>37.60413</td>\n",
       "      <td>1980</td>\n",
       "      <td>Hist</td>\n",
       "      <td>historical</td>\n",
       "      <td>sc1</td>\n",
       "      <td>0</td>\n",
       "      <td>0</td>\n",
       "      <td>84</td>\n",
       "      <td>5</td>\n",
       "      <td>...</td>\n",
       "      <td>2.69</td>\n",
       "      <td>0.964835</td>\n",
       "      <td>23.15924</td>\n",
       "      <td>0.964835</td>\n",
       "      <td>37.05</td>\n",
       "      <td>NaN</td>\n",
       "      <td>NaN</td>\n",
       "      <td>NaN</td>\n",
       "      <td>NaN</td>\n",
       "      <td>NaN</td>\n",
       "    </tr>\n",
       "    <tr>\n",
       "      <th>2</th>\n",
       "      <td>-110.0472</td>\n",
       "      <td>37.60413</td>\n",
       "      <td>1980</td>\n",
       "      <td>Hist</td>\n",
       "      <td>historical</td>\n",
       "      <td>sc1</td>\n",
       "      <td>0</td>\n",
       "      <td>0</td>\n",
       "      <td>84</td>\n",
       "      <td>5</td>\n",
       "      <td>...</td>\n",
       "      <td>13.79</td>\n",
       "      <td>0.964835</td>\n",
       "      <td>23.15924</td>\n",
       "      <td>0.964835</td>\n",
       "      <td>37.05</td>\n",
       "      <td>NaN</td>\n",
       "      <td>NaN</td>\n",
       "      <td>NaN</td>\n",
       "      <td>NaN</td>\n",
       "      <td>NaN</td>\n",
       "    </tr>\n",
       "    <tr>\n",
       "      <th>3</th>\n",
       "      <td>-110.0472</td>\n",
       "      <td>37.60413</td>\n",
       "      <td>1980</td>\n",
       "      <td>Hist</td>\n",
       "      <td>historical</td>\n",
       "      <td>sc1</td>\n",
       "      <td>0</td>\n",
       "      <td>0</td>\n",
       "      <td>84</td>\n",
       "      <td>5</td>\n",
       "      <td>...</td>\n",
       "      <td>2.69</td>\n",
       "      <td>0.964835</td>\n",
       "      <td>23.15924</td>\n",
       "      <td>23.159240</td>\n",
       "      <td>37.05</td>\n",
       "      <td>NaN</td>\n",
       "      <td>NaN</td>\n",
       "      <td>NaN</td>\n",
       "      <td>NaN</td>\n",
       "      <td>NaN</td>\n",
       "    </tr>\n",
       "    <tr>\n",
       "      <th>4</th>\n",
       "      <td>-110.0472</td>\n",
       "      <td>37.60413</td>\n",
       "      <td>1980</td>\n",
       "      <td>Hist</td>\n",
       "      <td>historical</td>\n",
       "      <td>sc1</td>\n",
       "      <td>0</td>\n",
       "      <td>0</td>\n",
       "      <td>84</td>\n",
       "      <td>5</td>\n",
       "      <td>...</td>\n",
       "      <td>NaN</td>\n",
       "      <td>NaN</td>\n",
       "      <td>NaN</td>\n",
       "      <td>NaN</td>\n",
       "      <td>NaN</td>\n",
       "      <td>-12.45</td>\n",
       "      <td>0.113447</td>\n",
       "      <td>0.096831</td>\n",
       "      <td>0.041876</td>\n",
       "      <td>0.052298</td>\n",
       "    </tr>\n",
       "  </tbody>\n",
       "</table>\n",
       "<p>5 rows × 29 columns</p>\n",
       "</div>"
      ],
      "text/plain": [
       "       long       lat  year timeperiod         rcp scenario  treecanopy  \\\n",
       "0 -110.0472  37.60413  1980       Hist  historical      sc1           0   \n",
       "1 -110.0472  37.60413  1980       Hist  historical      sc1           0   \n",
       "2 -110.0472  37.60413  1980       Hist  historical      sc1           0   \n",
       "3 -110.0472  37.60413  1980       Hist  historical      sc1           0   \n",
       "4 -110.0472  37.60413  1980       Hist  historical      sc1           0   \n",
       "\n",
       "   ann_herb  bare  herb  ...  ppt_annual  t_winter  t_summer   t_annual  \\\n",
       "0         0    84     5  ...       13.79  0.964835  23.15924  23.159240   \n",
       "1         0    84     5  ...        2.69  0.964835  23.15924   0.964835   \n",
       "2         0    84     5  ...       13.79  0.964835  23.15924   0.964835   \n",
       "3         0    84     5  ...        2.69  0.964835  23.15924  23.159240   \n",
       "4         0    84     5  ...         NaN       NaN       NaN        NaN   \n",
       "\n",
       "   tmax_summer  tmin_winter  vwc_winter_whole  vwc_spring_whole  \\\n",
       "0        37.05          NaN               NaN               NaN   \n",
       "1        37.05          NaN               NaN               NaN   \n",
       "2        37.05          NaN               NaN               NaN   \n",
       "3        37.05          NaN               NaN               NaN   \n",
       "4          NaN       -12.45          0.113447          0.096831   \n",
       "\n",
       "   vwc_summer_whole  vwc_fall_whole  \n",
       "0               NaN             NaN  \n",
       "1               NaN             NaN  \n",
       "2               NaN             NaN  \n",
       "3               NaN             NaN  \n",
       "4          0.041876        0.052298  \n",
       "\n",
       "[5 rows x 29 columns]"
      ]
     },
     "execution_count": 84,
     "metadata": {},
     "output_type": "execute_result"
    }
   ],
   "source": [
    "df.head()\n"
   ]
  },
  {
   "cell_type": "code",
   "execution_count": 21,
   "metadata": {},
   "outputs": [
    {
     "data": {
      "text/plain": [
       "Index(['long', 'lat', 'year', 'timeperiod', 'rcp', 'scenario', 'treecanopy',\n",
       "       'ann_herb', 'bare', 'herb', 'litter', 'shrub',\n",
       "       'drysoildays_summer_whole', 'evap_summer',\n",
       "       'extremeshorttermdrystress_summer_whole', 'frostdays_winter',\n",
       "       'nondryswa_summer_whole', 'ppt_winter', 'ppt_summer', 'ppt_annual',\n",
       "       't_winter', 't_summer', 't_annual', 'tmax_summer', 'tmin_winter',\n",
       "       'vwc_winter_whole', 'vwc_spring_whole', 'vwc_summer_whole',\n",
       "       'vwc_fall_whole'],\n",
       "      dtype='object')"
      ]
     },
     "execution_count": 21,
     "metadata": {},
     "output_type": "execute_result"
    }
   ],
   "source": [
    "df.columns"
   ]
  },
  {
   "cell_type": "markdown",
   "metadata": {},
   "source": [
    "### Greenery area dataset"
   ]
  },
  {
   "cell_type": "code",
   "execution_count": 6,
   "metadata": {},
   "outputs": [
    {
     "name": "stderr",
     "output_type": "stream",
     "text": [
      "/var/folders/27/cc8xpbnj4vgc0f2m9xmmtc_r0000gn/T/ipykernel_2972/2260858304.py:7: SettingWithCopyWarning: \n",
      "A value is trying to be set on a copy of a slice from a DataFrame.\n",
      "Try using .loc[row_indexer,col_indexer] = value instead\n",
      "\n",
      "See the caveats in the documentation: https://pandas.pydata.org/pandas-docs/stable/user_guide/indexing.html#returning-a-view-versus-a-copy\n",
      "  greenery['total'] = greenery['treecanopy'] + greenery['herb'] + greenery['ann_herb'] + greenery['shrub'] + greenery['litter'] - greenery['bare']\n"
     ]
    }
   ],
   "source": [
    "# Greenery data\n",
    "# extract the relevant data\n",
    "greenery_columns = ['long', 'lat', 'year', 'rcp', 'treecanopy', 'bare', 'herb', 'ann_herb', 'litter', 'shrub']\n",
    "greenery = df[greenery_columns]\n",
    "\n",
    "# calculate the total greenery\n",
    "greenery['total'] = greenery['treecanopy'] + greenery['herb'] + greenery['ann_herb'] + greenery['shrub'] + greenery['litter'] - greenery['bare'] \n",
    "\n",
    "# save the data to csv file\n",
    "greenery.to_csv('./data/cleaned_data/greenery_data.csv', index=False)"
   ]
  },
  {
   "cell_type": "markdown",
   "metadata": {},
   "source": [
    "### Plant litter dataset"
   ]
  },
  {
   "cell_type": "code",
   "execution_count": 31,
   "metadata": {},
   "outputs": [
    {
     "data": {
      "text/plain": [
       "Index(['long', 'lat', 'year', 'timeperiod', 'rcp', 'scenario', 'treecanopy',\n",
       "       'ann_herb', 'bare', 'herb', 'litter', 'shrub',\n",
       "       'drysoildays_summer_whole', 'evap_summer',\n",
       "       'extremeshorttermdrystress_summer_whole', 'frostdays_winter',\n",
       "       'nondryswa_summer_whole', 'ppt_winter', 'ppt_summer', 'ppt_annual',\n",
       "       't_winter', 't_summer', 't_annual', 'tmax_summer', 'tmin_winter',\n",
       "       'vwc_winter_whole', 'vwc_spring_whole', 'vwc_summer_whole',\n",
       "       'vwc_fall_whole'],\n",
       "      dtype='object')"
      ]
     },
     "execution_count": 31,
     "metadata": {},
     "output_type": "execute_result"
    }
   ],
   "source": [
    "df.columns"
   ]
  },
  {
   "cell_type": "code",
   "execution_count": 35,
   "metadata": {},
   "outputs": [
    {
     "data": {
      "text/html": [
       "<div>\n",
       "<style scoped>\n",
       "    .dataframe tbody tr th:only-of-type {\n",
       "        vertical-align: middle;\n",
       "    }\n",
       "\n",
       "    .dataframe tbody tr th {\n",
       "        vertical-align: top;\n",
       "    }\n",
       "\n",
       "    .dataframe thead th {\n",
       "        text-align: right;\n",
       "    }\n",
       "</style>\n",
       "<table border=\"1\" class=\"dataframe\">\n",
       "  <thead>\n",
       "    <tr style=\"text-align: right;\">\n",
       "      <th></th>\n",
       "      <th>long</th>\n",
       "      <th>lat</th>\n",
       "      <th>year</th>\n",
       "      <th>rcp</th>\n",
       "      <th>litter</th>\n",
       "      <th>t_winter</th>\n",
       "      <th>t_summer</th>\n",
       "      <th>t_annual</th>\n",
       "    </tr>\n",
       "  </thead>\n",
       "  <tbody>\n",
       "    <tr>\n",
       "      <th>0</th>\n",
       "      <td>-110.0472</td>\n",
       "      <td>37.60413</td>\n",
       "      <td>1980</td>\n",
       "      <td>historical</td>\n",
       "      <td>11</td>\n",
       "      <td>0.964835</td>\n",
       "      <td>23.15924</td>\n",
       "      <td>23.159240</td>\n",
       "    </tr>\n",
       "    <tr>\n",
       "      <th>1</th>\n",
       "      <td>-110.0472</td>\n",
       "      <td>37.60413</td>\n",
       "      <td>1980</td>\n",
       "      <td>historical</td>\n",
       "      <td>11</td>\n",
       "      <td>0.964835</td>\n",
       "      <td>23.15924</td>\n",
       "      <td>0.964835</td>\n",
       "    </tr>\n",
       "    <tr>\n",
       "      <th>5</th>\n",
       "      <td>-110.0472</td>\n",
       "      <td>37.60413</td>\n",
       "      <td>1981</td>\n",
       "      <td>historical</td>\n",
       "      <td>11</td>\n",
       "      <td>3.334444</td>\n",
       "      <td>23.27065</td>\n",
       "      <td>11.581320</td>\n",
       "    </tr>\n",
       "    <tr>\n",
       "      <th>7</th>\n",
       "      <td>-110.0472</td>\n",
       "      <td>37.60413</td>\n",
       "      <td>1982</td>\n",
       "      <td>historical</td>\n",
       "      <td>11</td>\n",
       "      <td>-0.015556</td>\n",
       "      <td>22.05707</td>\n",
       "      <td>9.472283</td>\n",
       "    </tr>\n",
       "    <tr>\n",
       "      <th>11</th>\n",
       "      <td>-110.0472</td>\n",
       "      <td>37.60413</td>\n",
       "      <td>1984</td>\n",
       "      <td>historical</td>\n",
       "      <td>11</td>\n",
       "      <td>-1.047253</td>\n",
       "      <td>21.95978</td>\n",
       "      <td>21.959780</td>\n",
       "    </tr>\n",
       "    <tr>\n",
       "      <th>...</th>\n",
       "      <td>...</td>\n",
       "      <td>...</td>\n",
       "      <td>...</td>\n",
       "      <td>...</td>\n",
       "      <td>...</td>\n",
       "      <td>...</td>\n",
       "      <td>...</td>\n",
       "      <td>...</td>\n",
       "    </tr>\n",
       "    <tr>\n",
       "      <th>55632</th>\n",
       "      <td>-109.9659</td>\n",
       "      <td>37.62525</td>\n",
       "      <td>2024</td>\n",
       "      <td>8.5</td>\n",
       "      <td>19</td>\n",
       "      <td>3.372912</td>\n",
       "      <td>23.75413</td>\n",
       "      <td>3.372912</td>\n",
       "    </tr>\n",
       "    <tr>\n",
       "      <th>55636</th>\n",
       "      <td>-109.9659</td>\n",
       "      <td>37.62525</td>\n",
       "      <td>2024</td>\n",
       "      <td>8.5</td>\n",
       "      <td>19</td>\n",
       "      <td>1.209121</td>\n",
       "      <td>23.48859</td>\n",
       "      <td>1.209121</td>\n",
       "    </tr>\n",
       "    <tr>\n",
       "      <th>55637</th>\n",
       "      <td>-109.9659</td>\n",
       "      <td>37.62525</td>\n",
       "      <td>2024</td>\n",
       "      <td>8.5</td>\n",
       "      <td>19</td>\n",
       "      <td>1.209121</td>\n",
       "      <td>23.48859</td>\n",
       "      <td>10.273350</td>\n",
       "    </tr>\n",
       "    <tr>\n",
       "      <th>55640</th>\n",
       "      <td>-109.9659</td>\n",
       "      <td>37.62525</td>\n",
       "      <td>2024</td>\n",
       "      <td>8.5</td>\n",
       "      <td>19</td>\n",
       "      <td>1.549945</td>\n",
       "      <td>23.86120</td>\n",
       "      <td>1.549945</td>\n",
       "    </tr>\n",
       "    <tr>\n",
       "      <th>55641</th>\n",
       "      <td>-109.9659</td>\n",
       "      <td>37.62525</td>\n",
       "      <td>2024</td>\n",
       "      <td>8.5</td>\n",
       "      <td>19</td>\n",
       "      <td>4.972473</td>\n",
       "      <td>24.35728</td>\n",
       "      <td>24.357280</td>\n",
       "    </tr>\n",
       "  </tbody>\n",
       "</table>\n",
       "<p>22554 rows × 8 columns</p>\n",
       "</div>"
      ],
      "text/plain": [
       "           long       lat  year         rcp  litter  t_winter  t_summer  \\\n",
       "0     -110.0472  37.60413  1980  historical      11  0.964835  23.15924   \n",
       "1     -110.0472  37.60413  1980  historical      11  0.964835  23.15924   \n",
       "5     -110.0472  37.60413  1981  historical      11  3.334444  23.27065   \n",
       "7     -110.0472  37.60413  1982  historical      11 -0.015556  22.05707   \n",
       "11    -110.0472  37.60413  1984  historical      11 -1.047253  21.95978   \n",
       "...         ...       ...   ...         ...     ...       ...       ...   \n",
       "55632 -109.9659  37.62525  2024         8.5      19  3.372912  23.75413   \n",
       "55636 -109.9659  37.62525  2024         8.5      19  1.209121  23.48859   \n",
       "55637 -109.9659  37.62525  2024         8.5      19  1.209121  23.48859   \n",
       "55640 -109.9659  37.62525  2024         8.5      19  1.549945  23.86120   \n",
       "55641 -109.9659  37.62525  2024         8.5      19  4.972473  24.35728   \n",
       "\n",
       "        t_annual  \n",
       "0      23.159240  \n",
       "1       0.964835  \n",
       "5      11.581320  \n",
       "7       9.472283  \n",
       "11     21.959780  \n",
       "...          ...  \n",
       "55632   3.372912  \n",
       "55636   1.209121  \n",
       "55637  10.273350  \n",
       "55640   1.549945  \n",
       "55641  24.357280  \n",
       "\n",
       "[22554 rows x 8 columns]"
      ]
     },
     "execution_count": 35,
     "metadata": {},
     "output_type": "execute_result"
    }
   ],
   "source": [
    "# Plant litter dataset\n",
    "# extract the relevant data\n",
    "litter_columns = ['long', 'lat', 'year', 'rcp', 'litter', 't_winter', 't_summer', 't_annual']\n",
    "litter = df[litter_columns]\n",
    "litter = litter.drop_duplicates(subset=litter_columns)\n",
    "\n",
    "# # fill the null values with the mean\n",
    "# litter.loc[:, 't_winter'] = litter['t_winter'].fillna(litter['t_winter'].mean())\n",
    "# litter.loc[:, 't_summer'] = litter['t_summer'].fillna(litter['t_summer'].mean())\n",
    "# litter.loc[:, 't_annual'] = litter['t_annual'].fillna(litter['t_annual'].mean())\n",
    "\n",
    "# drop the null values\n",
    "litter = litter.dropna()\n",
    "\n",
    "# save the data to csv file\n",
    "litter.to_csv('./data/cleaned_data/litter_data.csv', index=False)\n",
    "\n",
    "litter"
   ]
  },
  {
   "cell_type": "code",
   "execution_count": 48,
   "metadata": {},
   "outputs": [
    {
     "data": {
      "text/plain": [
       "array([11,  6,  9,  8,  7,  5, 19, 10,  3, 22, 12, 15,  2, 13, 25, 24, 17,\n",
       "       18, 21, 26, 20, 16, 14,  1])"
      ]
     },
     "execution_count": 48,
     "metadata": {},
     "output_type": "execute_result"
    }
   ],
   "source": [
    "litter.litter.unique()"
   ]
  },
  {
   "cell_type": "markdown",
   "metadata": {},
   "source": [
    "### VWC dataset"
   ]
  },
  {
   "cell_type": "code",
   "execution_count": 46,
   "metadata": {},
   "outputs": [],
   "source": [
    "# VWC data\n",
    "# extract the relevant data\n",
    "vwc_columns = ['long', 'lat', 'year', 'rcp', 'evap_summer', 'vwc_winter_whole', 'vwc_spring_whole', 'vwc_summer_whole', 'vwc_fall_whole']\n",
    "vwc = df[vwc_columns]\n",
    "\n",
    "# deal with NaN values\n",
    "# fill the null values with the mean of the column\n",
    "null_columns = ['vwc_winter_whole', 'vwc_spring_whole', 'vwc_summer_whole', 'vwc_fall_whole']\n",
    "vwc.loc[:, null_columns] = vwc[null_columns].fillna(vwc[null_columns].mean())\n",
    "\n",
    "# save it to a new csv file\n",
    "vwc.to_csv('./data/cleaned_data/vwc_data.csv', index=False)"
   ]
  },
  {
   "cell_type": "markdown",
   "metadata": {},
   "source": [
    "### Summer dataset"
   ]
  },
  {
   "cell_type": "code",
   "execution_count": 8,
   "metadata": {},
   "outputs": [],
   "source": [
    "# summer related data\n",
    "# extract the relevant data\n",
    "summer_columns = ['long', 'lat', 'year', 'rcp', 'drysoildays_summer_whole', 'evap_summer', 'nondryswa_summer_whole', 'ppt_summer', 'tmax_summer']\n",
    "summer = df[summer_columns]\n",
    "\n",
    "# fill missing values with the mean\n",
    "summer.loc[:, 'drysoildays_summer_whole'] = summer['drysoildays_summer_whole'].fillna(summer['drysoildays_summer_whole'].mean())\n",
    "summer.loc[:, 'evap_summer'] = summer['evap_summer'].fillna(summer['evap_summer'].mean())\n",
    "summer.loc[:, 'nondryswa_summer_whole'] = summer['nondryswa_summer_whole'].fillna(summer['nondryswa_summer_whole'].mean())\n",
    "summer.loc[:, 'ppt_summer'] = summer['ppt_summer'].fillna(summer['ppt_summer'].mean())\n",
    "summer.loc[:, 'tmax_summer'] = summer['tmax_summer'].fillna(summer['tmax_summer'].mean())\n",
    "\n",
    "# round the columns\n",
    "summer = summer.round({'drysoildays_summer_whole': 3, 'evap_summer': 3, 'nondryswa_summer_whole': 3, 'ppt_summer': 3, 'tmax_summer': 3})\n",
    "\n",
    "# save the data to csv file\n",
    "summer.to_csv('./data/cleaned_data/summer_data.csv', index=False)"
   ]
  },
  {
   "cell_type": "markdown",
   "metadata": {},
   "source": [
    "### Summer vs. Winter dataset"
   ]
  },
  {
   "cell_type": "code",
   "execution_count": 9,
   "metadata": {},
   "outputs": [],
   "source": [
    "# summer vs. winter data\n",
    "# extract the relevant data\n",
    "summer_winter_columns = ['long', 'lat', 'year', 'rcp', 'ppt_annual', 'ppt_summer', 'ppt_winter', 't_summer', 't_winter', 'tmax_summer', 'tmin_winter']\n",
    "summer_winter = df[summer_winter_columns]\n",
    "\n",
    "# save the data to csv file\n",
    "summer_winter.to_csv('./data/cleaned_data/summer_winter_data.csv', index=False)"
   ]
  },
  {
   "cell_type": "markdown",
   "metadata": {},
   "source": [
    "## Visualization\n",
    "\n",
    "### Greenery area dataset"
   ]
  },
  {
   "cell_type": "code",
   "execution_count": 86,
   "metadata": {},
   "outputs": [
    {
     "name": "stderr",
     "output_type": "stream",
     "text": [
      "/var/folders/27/cc8xpbnj4vgc0f2m9xmmtc_r0000gn/T/ipykernel_2972/3137538070.py:2: DtypeWarning:\n",
      "\n",
      "Columns (3) have mixed types. Specify dtype option on import or set low_memory=False.\n",
      "\n"
     ]
    },
    {
     "data": {
      "text/html": [
       "<div>\n",
       "<style scoped>\n",
       "    .dataframe tbody tr th:only-of-type {\n",
       "        vertical-align: middle;\n",
       "    }\n",
       "\n",
       "    .dataframe tbody tr th {\n",
       "        vertical-align: top;\n",
       "    }\n",
       "\n",
       "    .dataframe thead th {\n",
       "        text-align: right;\n",
       "    }\n",
       "</style>\n",
       "<table border=\"1\" class=\"dataframe\">\n",
       "  <thead>\n",
       "    <tr style=\"text-align: right;\">\n",
       "      <th></th>\n",
       "      <th>long</th>\n",
       "      <th>lat</th>\n",
       "      <th>year</th>\n",
       "      <th>rcp</th>\n",
       "      <th>treecanopy</th>\n",
       "      <th>bare</th>\n",
       "      <th>herb</th>\n",
       "      <th>ann_herb</th>\n",
       "      <th>litter</th>\n",
       "      <th>shrub</th>\n",
       "      <th>total</th>\n",
       "    </tr>\n",
       "  </thead>\n",
       "  <tbody>\n",
       "    <tr>\n",
       "      <th>69603</th>\n",
       "      <td>-109.9659</td>\n",
       "      <td>37.62525</td>\n",
       "      <td>2024</td>\n",
       "      <td>8.5</td>\n",
       "      <td>18</td>\n",
       "      <td>37</td>\n",
       "      <td>18</td>\n",
       "      <td>0</td>\n",
       "      <td>19</td>\n",
       "      <td>22</td>\n",
       "      <td>40</td>\n",
       "    </tr>\n",
       "    <tr>\n",
       "      <th>69604</th>\n",
       "      <td>-109.9659</td>\n",
       "      <td>37.62525</td>\n",
       "      <td>2024</td>\n",
       "      <td>8.5</td>\n",
       "      <td>18</td>\n",
       "      <td>37</td>\n",
       "      <td>18</td>\n",
       "      <td>0</td>\n",
       "      <td>19</td>\n",
       "      <td>22</td>\n",
       "      <td>40</td>\n",
       "    </tr>\n",
       "    <tr>\n",
       "      <th>69605</th>\n",
       "      <td>-109.9659</td>\n",
       "      <td>37.62525</td>\n",
       "      <td>2024</td>\n",
       "      <td>8.5</td>\n",
       "      <td>18</td>\n",
       "      <td>37</td>\n",
       "      <td>18</td>\n",
       "      <td>0</td>\n",
       "      <td>19</td>\n",
       "      <td>22</td>\n",
       "      <td>40</td>\n",
       "    </tr>\n",
       "    <tr>\n",
       "      <th>69606</th>\n",
       "      <td>-109.9659</td>\n",
       "      <td>37.62525</td>\n",
       "      <td>2024</td>\n",
       "      <td>8.5</td>\n",
       "      <td>18</td>\n",
       "      <td>37</td>\n",
       "      <td>18</td>\n",
       "      <td>0</td>\n",
       "      <td>19</td>\n",
       "      <td>22</td>\n",
       "      <td>40</td>\n",
       "    </tr>\n",
       "    <tr>\n",
       "      <th>69607</th>\n",
       "      <td>-109.9659</td>\n",
       "      <td>37.62525</td>\n",
       "      <td>2024</td>\n",
       "      <td>8.5</td>\n",
       "      <td>18</td>\n",
       "      <td>37</td>\n",
       "      <td>18</td>\n",
       "      <td>0</td>\n",
       "      <td>19</td>\n",
       "      <td>22</td>\n",
       "      <td>40</td>\n",
       "    </tr>\n",
       "    <tr>\n",
       "      <th>69608</th>\n",
       "      <td>-109.9659</td>\n",
       "      <td>37.62525</td>\n",
       "      <td>2024</td>\n",
       "      <td>8.5</td>\n",
       "      <td>18</td>\n",
       "      <td>37</td>\n",
       "      <td>18</td>\n",
       "      <td>0</td>\n",
       "      <td>19</td>\n",
       "      <td>22</td>\n",
       "      <td>40</td>\n",
       "    </tr>\n",
       "    <tr>\n",
       "      <th>69609</th>\n",
       "      <td>-109.9659</td>\n",
       "      <td>37.62525</td>\n",
       "      <td>2024</td>\n",
       "      <td>8.5</td>\n",
       "      <td>18</td>\n",
       "      <td>37</td>\n",
       "      <td>18</td>\n",
       "      <td>0</td>\n",
       "      <td>19</td>\n",
       "      <td>22</td>\n",
       "      <td>40</td>\n",
       "    </tr>\n",
       "    <tr>\n",
       "      <th>69610</th>\n",
       "      <td>-109.9659</td>\n",
       "      <td>37.62525</td>\n",
       "      <td>2024</td>\n",
       "      <td>8.5</td>\n",
       "      <td>18</td>\n",
       "      <td>37</td>\n",
       "      <td>18</td>\n",
       "      <td>0</td>\n",
       "      <td>19</td>\n",
       "      <td>22</td>\n",
       "      <td>40</td>\n",
       "    </tr>\n",
       "    <tr>\n",
       "      <th>69611</th>\n",
       "      <td>-109.9659</td>\n",
       "      <td>37.62525</td>\n",
       "      <td>2024</td>\n",
       "      <td>8.5</td>\n",
       "      <td>18</td>\n",
       "      <td>37</td>\n",
       "      <td>18</td>\n",
       "      <td>0</td>\n",
       "      <td>19</td>\n",
       "      <td>22</td>\n",
       "      <td>40</td>\n",
       "    </tr>\n",
       "    <tr>\n",
       "      <th>69612</th>\n",
       "      <td>-109.9659</td>\n",
       "      <td>37.62525</td>\n",
       "      <td>2024</td>\n",
       "      <td>8.5</td>\n",
       "      <td>18</td>\n",
       "      <td>37</td>\n",
       "      <td>18</td>\n",
       "      <td>0</td>\n",
       "      <td>19</td>\n",
       "      <td>22</td>\n",
       "      <td>40</td>\n",
       "    </tr>\n",
       "    <tr>\n",
       "      <th>69613</th>\n",
       "      <td>-109.9659</td>\n",
       "      <td>37.62525</td>\n",
       "      <td>2024</td>\n",
       "      <td>8.5</td>\n",
       "      <td>18</td>\n",
       "      <td>37</td>\n",
       "      <td>18</td>\n",
       "      <td>0</td>\n",
       "      <td>19</td>\n",
       "      <td>22</td>\n",
       "      <td>40</td>\n",
       "    </tr>\n",
       "    <tr>\n",
       "      <th>69614</th>\n",
       "      <td>-109.9659</td>\n",
       "      <td>37.62525</td>\n",
       "      <td>2024</td>\n",
       "      <td>8.5</td>\n",
       "      <td>18</td>\n",
       "      <td>37</td>\n",
       "      <td>18</td>\n",
       "      <td>0</td>\n",
       "      <td>19</td>\n",
       "      <td>22</td>\n",
       "      <td>40</td>\n",
       "    </tr>\n",
       "    <tr>\n",
       "      <th>69615</th>\n",
       "      <td>-109.9659</td>\n",
       "      <td>37.62525</td>\n",
       "      <td>2024</td>\n",
       "      <td>8.5</td>\n",
       "      <td>18</td>\n",
       "      <td>37</td>\n",
       "      <td>18</td>\n",
       "      <td>0</td>\n",
       "      <td>19</td>\n",
       "      <td>22</td>\n",
       "      <td>40</td>\n",
       "    </tr>\n",
       "    <tr>\n",
       "      <th>69616</th>\n",
       "      <td>-109.9659</td>\n",
       "      <td>37.62525</td>\n",
       "      <td>2024</td>\n",
       "      <td>8.5</td>\n",
       "      <td>18</td>\n",
       "      <td>37</td>\n",
       "      <td>18</td>\n",
       "      <td>0</td>\n",
       "      <td>19</td>\n",
       "      <td>22</td>\n",
       "      <td>40</td>\n",
       "    </tr>\n",
       "    <tr>\n",
       "      <th>69617</th>\n",
       "      <td>-109.9659</td>\n",
       "      <td>37.62525</td>\n",
       "      <td>2024</td>\n",
       "      <td>8.5</td>\n",
       "      <td>18</td>\n",
       "      <td>37</td>\n",
       "      <td>18</td>\n",
       "      <td>0</td>\n",
       "      <td>19</td>\n",
       "      <td>22</td>\n",
       "      <td>40</td>\n",
       "    </tr>\n",
       "    <tr>\n",
       "      <th>69618</th>\n",
       "      <td>-109.9659</td>\n",
       "      <td>37.62525</td>\n",
       "      <td>2024</td>\n",
       "      <td>8.5</td>\n",
       "      <td>18</td>\n",
       "      <td>37</td>\n",
       "      <td>18</td>\n",
       "      <td>0</td>\n",
       "      <td>19</td>\n",
       "      <td>22</td>\n",
       "      <td>40</td>\n",
       "    </tr>\n",
       "    <tr>\n",
       "      <th>69619</th>\n",
       "      <td>-109.9659</td>\n",
       "      <td>37.62525</td>\n",
       "      <td>2024</td>\n",
       "      <td>8.5</td>\n",
       "      <td>18</td>\n",
       "      <td>37</td>\n",
       "      <td>18</td>\n",
       "      <td>0</td>\n",
       "      <td>19</td>\n",
       "      <td>22</td>\n",
       "      <td>40</td>\n",
       "    </tr>\n",
       "    <tr>\n",
       "      <th>69620</th>\n",
       "      <td>-109.9659</td>\n",
       "      <td>37.62525</td>\n",
       "      <td>2024</td>\n",
       "      <td>8.5</td>\n",
       "      <td>18</td>\n",
       "      <td>37</td>\n",
       "      <td>18</td>\n",
       "      <td>0</td>\n",
       "      <td>19</td>\n",
       "      <td>22</td>\n",
       "      <td>40</td>\n",
       "    </tr>\n",
       "    <tr>\n",
       "      <th>69621</th>\n",
       "      <td>-109.9659</td>\n",
       "      <td>37.62525</td>\n",
       "      <td>2024</td>\n",
       "      <td>8.5</td>\n",
       "      <td>18</td>\n",
       "      <td>37</td>\n",
       "      <td>18</td>\n",
       "      <td>0</td>\n",
       "      <td>19</td>\n",
       "      <td>22</td>\n",
       "      <td>40</td>\n",
       "    </tr>\n",
       "    <tr>\n",
       "      <th>69622</th>\n",
       "      <td>-109.9659</td>\n",
       "      <td>37.62525</td>\n",
       "      <td>2024</td>\n",
       "      <td>8.5</td>\n",
       "      <td>18</td>\n",
       "      <td>37</td>\n",
       "      <td>18</td>\n",
       "      <td>0</td>\n",
       "      <td>19</td>\n",
       "      <td>22</td>\n",
       "      <td>40</td>\n",
       "    </tr>\n",
       "  </tbody>\n",
       "</table>\n",
       "</div>"
      ],
      "text/plain": [
       "           long       lat  year  rcp  treecanopy  bare  herb  ann_herb  \\\n",
       "69603 -109.9659  37.62525  2024  8.5          18    37    18         0   \n",
       "69604 -109.9659  37.62525  2024  8.5          18    37    18         0   \n",
       "69605 -109.9659  37.62525  2024  8.5          18    37    18         0   \n",
       "69606 -109.9659  37.62525  2024  8.5          18    37    18         0   \n",
       "69607 -109.9659  37.62525  2024  8.5          18    37    18         0   \n",
       "69608 -109.9659  37.62525  2024  8.5          18    37    18         0   \n",
       "69609 -109.9659  37.62525  2024  8.5          18    37    18         0   \n",
       "69610 -109.9659  37.62525  2024  8.5          18    37    18         0   \n",
       "69611 -109.9659  37.62525  2024  8.5          18    37    18         0   \n",
       "69612 -109.9659  37.62525  2024  8.5          18    37    18         0   \n",
       "69613 -109.9659  37.62525  2024  8.5          18    37    18         0   \n",
       "69614 -109.9659  37.62525  2024  8.5          18    37    18         0   \n",
       "69615 -109.9659  37.62525  2024  8.5          18    37    18         0   \n",
       "69616 -109.9659  37.62525  2024  8.5          18    37    18         0   \n",
       "69617 -109.9659  37.62525  2024  8.5          18    37    18         0   \n",
       "69618 -109.9659  37.62525  2024  8.5          18    37    18         0   \n",
       "69619 -109.9659  37.62525  2024  8.5          18    37    18         0   \n",
       "69620 -109.9659  37.62525  2024  8.5          18    37    18         0   \n",
       "69621 -109.9659  37.62525  2024  8.5          18    37    18         0   \n",
       "69622 -109.9659  37.62525  2024  8.5          18    37    18         0   \n",
       "\n",
       "       litter  shrub  total  \n",
       "69603      19     22     40  \n",
       "69604      19     22     40  \n",
       "69605      19     22     40  \n",
       "69606      19     22     40  \n",
       "69607      19     22     40  \n",
       "69608      19     22     40  \n",
       "69609      19     22     40  \n",
       "69610      19     22     40  \n",
       "69611      19     22     40  \n",
       "69612      19     22     40  \n",
       "69613      19     22     40  \n",
       "69614      19     22     40  \n",
       "69615      19     22     40  \n",
       "69616      19     22     40  \n",
       "69617      19     22     40  \n",
       "69618      19     22     40  \n",
       "69619      19     22     40  \n",
       "69620      19     22     40  \n",
       "69621      19     22     40  \n",
       "69622      19     22     40  "
      ]
     },
     "execution_count": 86,
     "metadata": {},
     "output_type": "execute_result"
    }
   ],
   "source": [
    "# load the data\n",
    "greenery = pd.read_csv('./data/cleaned_data/greenery_data.csv')\n",
    "greenery.tail(20)"
   ]
  },
  {
   "cell_type": "code",
   "execution_count": 11,
   "metadata": {},
   "outputs": [],
   "source": [
    "# further data processing\n",
    "greenery_total = greenery.groupby(['long', 'lat'])['total'].mean().reset_index()"
   ]
  },
  {
   "cell_type": "code",
   "execution_count": 12,
   "metadata": {},
   "outputs": [],
   "source": [
    "# create a folium heatmap\n",
    "map_center = [greenery_total['lat'].mean(), greenery_total['long'].mean()]\n",
    "map_width = 800  \n",
    "map_height = 600 \n",
    "mymap = folium.Map(location=map_center, zoom_start=13, width=map_width, height=map_height)\n",
    "\n",
    "heat_data_green = greenery_total[['lat', 'long', 'total']].reset_index(drop=True).values.tolist()"
   ]
  },
  {
   "cell_type": "code",
   "execution_count": 13,
   "metadata": {},
   "outputs": [
    {
     "data": {
      "text/html": [
       "<div style=\"width:100%;\"><div style=\"position:relative;width:100%;height:0;padding-bottom:60%;\"><span style=\"color:#565656\">Make this Notebook Trusted to load map: File -> Trust Notebook</span><iframe srcdoc=\"&lt;!DOCTYPE html&gt;\n",
       "&lt;html&gt;\n",
       "&lt;head&gt;\n",
       "    \n",
       "    &lt;meta http-equiv=&quot;content-type&quot; content=&quot;text/html; charset=UTF-8&quot; /&gt;\n",
       "    \n",
       "        &lt;script&gt;\n",
       "            L_NO_TOUCH = false;\n",
       "            L_DISABLE_3D = false;\n",
       "        &lt;/script&gt;\n",
       "    \n",
       "    &lt;style&gt;html, body {width: 100%;height: 100%;margin: 0;padding: 0;}&lt;/style&gt;\n",
       "    &lt;style&gt;#map {position:absolute;top:0;bottom:0;right:0;left:0;}&lt;/style&gt;\n",
       "    &lt;script src=&quot;https://cdn.jsdelivr.net/npm/leaflet@1.9.3/dist/leaflet.js&quot;&gt;&lt;/script&gt;\n",
       "    &lt;script src=&quot;https://code.jquery.com/jquery-3.7.1.min.js&quot;&gt;&lt;/script&gt;\n",
       "    &lt;script src=&quot;https://cdn.jsdelivr.net/npm/bootstrap@5.2.2/dist/js/bootstrap.bundle.min.js&quot;&gt;&lt;/script&gt;\n",
       "    &lt;script src=&quot;https://cdnjs.cloudflare.com/ajax/libs/Leaflet.awesome-markers/2.0.2/leaflet.awesome-markers.js&quot;&gt;&lt;/script&gt;\n",
       "    &lt;link rel=&quot;stylesheet&quot; href=&quot;https://cdn.jsdelivr.net/npm/leaflet@1.9.3/dist/leaflet.css&quot;/&gt;\n",
       "    &lt;link rel=&quot;stylesheet&quot; href=&quot;https://cdn.jsdelivr.net/npm/bootstrap@5.2.2/dist/css/bootstrap.min.css&quot;/&gt;\n",
       "    &lt;link rel=&quot;stylesheet&quot; href=&quot;https://netdna.bootstrapcdn.com/bootstrap/3.0.0/css/bootstrap.min.css&quot;/&gt;\n",
       "    &lt;link rel=&quot;stylesheet&quot; href=&quot;https://cdn.jsdelivr.net/npm/@fortawesome/fontawesome-free@6.2.0/css/all.min.css&quot;/&gt;\n",
       "    &lt;link rel=&quot;stylesheet&quot; href=&quot;https://cdnjs.cloudflare.com/ajax/libs/Leaflet.awesome-markers/2.0.2/leaflet.awesome-markers.css&quot;/&gt;\n",
       "    &lt;link rel=&quot;stylesheet&quot; href=&quot;https://cdn.jsdelivr.net/gh/python-visualization/folium/folium/templates/leaflet.awesome.rotate.min.css&quot;/&gt;\n",
       "    \n",
       "            &lt;meta name=&quot;viewport&quot; content=&quot;width=device-width,\n",
       "                initial-scale=1.0, maximum-scale=1.0, user-scalable=no&quot; /&gt;\n",
       "            &lt;style&gt;\n",
       "                #map_3c0171113f5d00723cf5ab39ba68f274 {\n",
       "                    position: relative;\n",
       "                    width: 800.0px;\n",
       "                    height: 600.0px;\n",
       "                    left: 0.0%;\n",
       "                    top: 0.0%;\n",
       "                }\n",
       "                .leaflet-container { font-size: 1rem; }\n",
       "            &lt;/style&gt;\n",
       "        \n",
       "    &lt;script src=&quot;https://cdn.jsdelivr.net/gh/python-visualization/folium@main/folium/templates/leaflet_heat.min.js&quot;&gt;&lt;/script&gt;\n",
       "&lt;/head&gt;\n",
       "&lt;body&gt;\n",
       "    \n",
       "    \n",
       "            &lt;div class=&quot;folium-map&quot; id=&quot;map_3c0171113f5d00723cf5ab39ba68f274&quot; &gt;&lt;/div&gt;\n",
       "        \n",
       "&lt;/body&gt;\n",
       "&lt;script&gt;\n",
       "    \n",
       "    \n",
       "            var map_3c0171113f5d00723cf5ab39ba68f274 = L.map(\n",
       "                &quot;map_3c0171113f5d00723cf5ab39ba68f274&quot;,\n",
       "                {\n",
       "                    center: [37.60816477876106, -110.00636991150442],\n",
       "                    crs: L.CRS.EPSG3857,\n",
       "                    zoom: 13,\n",
       "                    zoomControl: true,\n",
       "                    preferCanvas: false,\n",
       "                }\n",
       "            );\n",
       "\n",
       "            \n",
       "\n",
       "        \n",
       "    \n",
       "            var tile_layer_95fbe8c987c0dc41463eb00d39e2add1 = L.tileLayer(\n",
       "                &quot;https://tile.openstreetmap.org/{z}/{x}/{y}.png&quot;,\n",
       "                {&quot;attribution&quot;: &quot;\\u0026copy; \\u003ca href=\\&quot;https://www.openstreetmap.org/copyright\\&quot;\\u003eOpenStreetMap\\u003c/a\\u003e contributors&quot;, &quot;detectRetina&quot;: false, &quot;maxNativeZoom&quot;: 19, &quot;maxZoom&quot;: 19, &quot;minZoom&quot;: 0, &quot;noWrap&quot;: false, &quot;opacity&quot;: 1, &quot;subdomains&quot;: &quot;abc&quot;, &quot;tms&quot;: false}\n",
       "            );\n",
       "        \n",
       "    \n",
       "            tile_layer_95fbe8c987c0dc41463eb00d39e2add1.addTo(map_3c0171113f5d00723cf5ab39ba68f274);\n",
       "        \n",
       "    \n",
       "            var heat_map_6ca3bfa6b7282e1db47db9a4d04537ed = L.heatLayer(\n",
       "                [[37.60413, -110.0472, -61.0], [37.60334, -110.0461, -48.0], [37.60308, -110.0458, -29.0], [37.60519, -110.0393, -15.0], [37.60545, -110.0389, -25.0], [37.59621, -110.0386, -29.0], [37.60202, -110.0376, -35.0], [37.6044, -110.0376, -18.0], [37.60096, -110.0365, -18.0], [37.60334, -110.0365, -59.0], [37.59489, -110.0355, -72.0], [37.59067, -110.0348, 1.0], [37.60123, -110.0345, -14.0], [37.6044, -110.0341, -9.0], [37.58882, -110.0338, 12.0], [37.59991, -110.0338, -38.0], [37.60492, -110.0334, -42.0], [37.60915, -110.0331, 6.0], [37.60334, -110.0328, -87.0], [37.60862, -110.0321, -36.0], [37.58935, -110.0314, 37.0], [37.59938, -110.03, 62.0], [37.60598, -110.029, -18.0], [37.61179, -110.029, -3.0], [37.60202, -110.0286, -23.0], [37.58671, -110.0283, -8.0], [37.58011, -110.028, -12.0], [37.59753, -110.028, -10.0], [37.60704, -110.0273, -24.0], [37.60308, -110.0262, -15.0], [37.60809, -110.0259, -83.0], [37.57668, -110.0245, 30.0], [37.61496, -110.0245, -36.0], [37.61284, -110.0242, -34.0], [37.57377, -110.0235, 7.0], [37.59595, -110.0218, -74.0], [37.5846, -110.0214, 25.0], [37.57984, -110.0208, -18.0], [37.57192, -110.0201, -1.0], [37.61205, -110.0177, -24.0], [37.6007, -110.0173, 16.0], [37.61416, -110.017, 47.0], [37.61258, -110.0153, 13.0], [37.58143, -110.0149, -71.0], [37.61839, -110.0146, -13.0], [37.62472, -110.0129, -37.0], [37.62736, -110.0129, -77.0], [37.59252, -110.0105, 7.0], [37.6139, -110.0105, 31.0], [37.62208, -110.0105, -26.0], [37.62024, -110.0101, -46.0], [37.59964, -110.0098, 29.0], [37.61839, -110.0094, -24.0], [37.57324, -110.0084, 8.0], [37.61733, -110.007, -8.0], [37.59436, -110.0057, -36.0], [37.61284, -110.0057, 38.0], [37.61892, -110.005, -39.0], [37.62657, -110.005, 13.0], [37.57034, -110.0046, 54.0], [37.59806, -110.0033, 13.0], [37.61707, -110.0033, 61.0], [37.62156, -110.0029, -72.0], [37.57324, -110.0022, 0.0], [37.5846, -110.0022, -89.0], [37.60915, -110.0022, -87.0], [37.57879, -110.0019, -23.0], [37.59146, -110.0016, 16.0], [37.61654, -110.0016, 25.0], [37.61733, -110.0012, 25.0], [37.61892, -110.0005, -12.0], [37.58565, -109.9998, -32.0], [37.62393, -109.9988, -63.0], [37.58988, -109.9978, -62.0], [37.6044, -109.9974, -12.0], [37.61997, -109.9971, 54.0], [37.59727, -109.995, -13.0], [37.62499, -109.994, -87.0], [37.6102, -109.9933, 3.0], [37.5941, -109.993, -52.0], [37.61865, -109.993, 38.0], [37.62684, -109.9926, -54.0], [37.63212, -109.9916, -61.0], [37.62578, -109.9913, 20.0], [37.59278, -109.9909, -7.0], [37.62736, -109.9882, 63.0], [37.62235, -109.9878, 19.0], [37.62156, -109.9858, 9.0], [37.62763, -109.9837, -4.0], [37.62974, -109.983, -51.0], [37.62816, -109.9823, 30.0], [37.6139, -109.9803, 1.0], [37.62868, -109.9799, 23.0], [37.60308, -109.9786, 29.0], [37.63027, -109.9786, 35.0], [37.62921, -109.9782, -23.0], [37.63344, -109.9775, 1.0], [37.62789, -109.9762, 22.0], [37.59912, -109.9758, -52.0], [37.60862, -109.9758, 8.0], [37.62684, -109.9758, 39.0], [37.61522, -109.9734, 18.0], [37.6308, -109.9731, 89.0], [37.63476, -109.9714, -9.0], [37.62631, -109.9693, 23.0], [37.61284, -109.969, 11.0], [37.61654, -109.9679, -13.0], [37.62974, -109.9679, 53.0], [37.62868, -109.9673, -30.0], [37.62446, -109.9669, -91.0], [37.60783, -109.9662, -4.0], [37.63159, -109.9662, 50.0], [37.62525, -109.9659, 40.0]],\n",
       "                {&quot;blur&quot;: 10, &quot;gradient&quot;: {&quot;0.2&quot;: &quot;red&quot;, &quot;0.4&quot;: &quot;brown&quot;, &quot;0.6&quot;: &quot;yellow&quot;, &quot;0.8&quot;: &quot;#32CD32&quot;, &quot;1&quot;: &quot;green&quot;}, &quot;maxZoom&quot;: 18, &quot;minOpacity&quot;: 0.5, &quot;radius&quot;: 20}\n",
       "            );\n",
       "        \n",
       "    \n",
       "            heat_map_6ca3bfa6b7282e1db47db9a4d04537ed.addTo(map_3c0171113f5d00723cf5ab39ba68f274);\n",
       "        \n",
       "&lt;/script&gt;\n",
       "&lt;/html&gt;\" style=\"position:absolute;width:100%;height:100%;left:0;top:0;border:none !important;\" allowfullscreen webkitallowfullscreen mozallowfullscreen></iframe></div></div>"
      ],
      "text/plain": [
       "<folium.folium.Map at 0x324f6ae10>"
      ]
     },
     "execution_count": 13,
     "metadata": {},
     "output_type": "execute_result"
    }
   ],
   "source": [
    "# the higher the gradient, the more greenery there is. \n",
    "HeatMap(heat_data_green, radius=20, blur=10, gradient={0.2: 'red', 0.4: 'brown', 0.6: 'yellow', 0.8: '#32CD32', 1: 'green'}).add_to(mymap)\n",
    "\n",
    "mymap"
   ]
  },
  {
   "cell_type": "code",
   "execution_count": null,
   "metadata": {},
   "outputs": [],
   "source": [
    "# consider year; slide the slider to see the changes in greenery over the years\n",
    "greenery_year = greenery.groupby(['long', 'lat', 'year'])['total'].mean().reset_index()\n"
   ]
  },
  {
   "cell_type": "markdown",
   "metadata": {},
   "source": [
    "### Plant litter dataset"
   ]
  },
  {
   "cell_type": "code",
   "execution_count": 70,
   "metadata": {},
   "outputs": [],
   "source": [
    "# load the data\n",
    "litter = pd.read_csv('./data/cleaned_data/litter_data.csv')"
   ]
  },
  {
   "cell_type": "code",
   "execution_count": 71,
   "metadata": {},
   "outputs": [
    {
     "data": {
      "text/html": [
       "<div>\n",
       "<style scoped>\n",
       "    .dataframe tbody tr th:only-of-type {\n",
       "        vertical-align: middle;\n",
       "    }\n",
       "\n",
       "    .dataframe tbody tr th {\n",
       "        vertical-align: top;\n",
       "    }\n",
       "\n",
       "    .dataframe thead th {\n",
       "        text-align: right;\n",
       "    }\n",
       "</style>\n",
       "<table border=\"1\" class=\"dataframe\">\n",
       "  <thead>\n",
       "    <tr style=\"text-align: right;\">\n",
       "      <th></th>\n",
       "      <th>year</th>\n",
       "      <th>litter</th>\n",
       "      <th>t_winter</th>\n",
       "      <th>t_summer</th>\n",
       "      <th>t_annual</th>\n",
       "    </tr>\n",
       "  </thead>\n",
       "  <tbody>\n",
       "    <tr>\n",
       "      <th>0</th>\n",
       "      <td>1980</td>\n",
       "      <td>9</td>\n",
       "      <td>0.773</td>\n",
       "      <td>22.816</td>\n",
       "      <td>10.849</td>\n",
       "    </tr>\n",
       "    <tr>\n",
       "      <th>1</th>\n",
       "      <td>1981</td>\n",
       "      <td>9</td>\n",
       "      <td>3.239</td>\n",
       "      <td>22.874</td>\n",
       "      <td>10.993</td>\n",
       "    </tr>\n",
       "    <tr>\n",
       "      <th>2</th>\n",
       "      <td>1982</td>\n",
       "      <td>6</td>\n",
       "      <td>-0.201</td>\n",
       "      <td>21.620</td>\n",
       "      <td>11.135</td>\n",
       "    </tr>\n",
       "    <tr>\n",
       "      <th>3</th>\n",
       "      <td>1983</td>\n",
       "      <td>10</td>\n",
       "      <td>0.243</td>\n",
       "      <td>20.795</td>\n",
       "      <td>9.601</td>\n",
       "    </tr>\n",
       "    <tr>\n",
       "      <th>4</th>\n",
       "      <td>1984</td>\n",
       "      <td>6</td>\n",
       "      <td>-1.258</td>\n",
       "      <td>21.462</td>\n",
       "      <td>9.281</td>\n",
       "    </tr>\n",
       "  </tbody>\n",
       "</table>\n",
       "</div>"
      ],
      "text/plain": [
       "   year  litter  t_winter  t_summer  t_annual\n",
       "0  1980       9     0.773    22.816    10.849\n",
       "1  1981       9     3.239    22.874    10.993\n",
       "2  1982       6    -0.201    21.620    11.135\n",
       "3  1983      10     0.243    20.795     9.601\n",
       "4  1984       6    -1.258    21.462     9.281"
      ]
     },
     "execution_count": 71,
     "metadata": {},
     "output_type": "execute_result"
    }
   ],
   "source": [
    "# further data processing\n",
    "litter_copy = litter.copy()\n",
    "# drop long and lat and rcp columns\n",
    "litter_copy = litter_copy.drop(columns=['long', 'lat', 'rcp'], axis=1)\n",
    "\n",
    "# group by year and get the mean of the columns\n",
    "litter_copy = litter_copy.groupby('year', as_index=False).agg({'litter': lambda x: x.mode().iloc[0], \n",
    "                                     't_winter': 'mean', \n",
    "                                     't_summer': 'mean', \n",
    "                                     't_annual': 'mean'})\n",
    "\n",
    "# round the columns\n",
    "litter_copy = litter_copy.round({'t_winter': 3, 't_summer': 3, 't_annual': 3})\n",
    "\n",
    "litter_copy.head()"
   ]
  },
  {
   "cell_type": "code",
   "execution_count": 74,
   "metadata": {},
   "outputs": [
    {
     "data": {
      "text/plain": [
       "array([ 9,  6, 10,  8])"
      ]
     },
     "execution_count": 74,
     "metadata": {},
     "output_type": "execute_result"
    }
   ],
   "source": [
    "litter_copy.litter.unique()"
   ]
  },
  {
   "cell_type": "code",
   "execution_count": 72,
   "metadata": {},
   "outputs": [
    {
     "data": {
      "text/html": [
       "<div>\n",
       "<style scoped>\n",
       "    .dataframe tbody tr th:only-of-type {\n",
       "        vertical-align: middle;\n",
       "    }\n",
       "\n",
       "    .dataframe tbody tr th {\n",
       "        vertical-align: top;\n",
       "    }\n",
       "\n",
       "    .dataframe thead th {\n",
       "        text-align: right;\n",
       "    }\n",
       "</style>\n",
       "<table border=\"1\" class=\"dataframe\">\n",
       "  <thead>\n",
       "    <tr style=\"text-align: right;\">\n",
       "      <th></th>\n",
       "      <th>litter</th>\n",
       "      <th>t_winter</th>\n",
       "      <th>t_summer</th>\n",
       "      <th>t_annual</th>\n",
       "    </tr>\n",
       "  </thead>\n",
       "  <tbody>\n",
       "    <tr>\n",
       "      <th>0</th>\n",
       "      <td>1</td>\n",
       "      <td>0.669</td>\n",
       "      <td>23.375</td>\n",
       "      <td>11.700</td>\n",
       "    </tr>\n",
       "    <tr>\n",
       "      <th>1</th>\n",
       "      <td>2</td>\n",
       "      <td>1.068</td>\n",
       "      <td>23.999</td>\n",
       "      <td>12.444</td>\n",
       "    </tr>\n",
       "    <tr>\n",
       "      <th>2</th>\n",
       "      <td>3</td>\n",
       "      <td>1.015</td>\n",
       "      <td>23.804</td>\n",
       "      <td>12.093</td>\n",
       "    </tr>\n",
       "    <tr>\n",
       "      <th>3</th>\n",
       "      <td>5</td>\n",
       "      <td>0.737</td>\n",
       "      <td>23.440</td>\n",
       "      <td>11.589</td>\n",
       "    </tr>\n",
       "    <tr>\n",
       "      <th>4</th>\n",
       "      <td>6</td>\n",
       "      <td>0.900</td>\n",
       "      <td>23.800</td>\n",
       "      <td>12.057</td>\n",
       "    </tr>\n",
       "  </tbody>\n",
       "</table>\n",
       "</div>"
      ],
      "text/plain": [
       "   litter  t_winter  t_summer  t_annual\n",
       "0       1     0.669    23.375    11.700\n",
       "1       2     1.068    23.999    12.444\n",
       "2       3     1.015    23.804    12.093\n",
       "3       5     0.737    23.440    11.589\n",
       "4       6     0.900    23.800    12.057"
      ]
     },
     "execution_count": 72,
     "metadata": {},
     "output_type": "execute_result"
    }
   ],
   "source": [
    "litter_copy_2 = litter.copy()\n",
    "# drop long and lat and rcp columns\n",
    "litter_copy_2 = litter_copy_2.drop(columns=['long', 'lat', 'rcp', 'year'], axis=1)\n",
    "\n",
    "# group by litter column\n",
    "litter_copy_2 = litter_copy_2.groupby('litter', as_index=False).agg({'t_winter': 'mean', \n",
    "                                     't_summer': 'mean', \n",
    "                                     't_annual': 'mean'})\n",
    "\n",
    "# round the columns\n",
    "litter_copy_2 = litter_copy_2.round({'t_winter': 3, 't_summer': 3, 't_annual': 3})\n",
    "\n",
    "litter_copy_2.head()"
   ]
  },
  {
   "cell_type": "code",
   "execution_count": 73,
   "metadata": {},
   "outputs": [
    {
     "data": {
      "text/plain": [
       "array([ 1,  2,  3,  5,  6,  7,  8,  9, 10, 11, 12, 13, 14, 15, 16, 17, 18,\n",
       "       19, 20, 21, 22, 24, 25, 26])"
      ]
     },
     "execution_count": 73,
     "metadata": {},
     "output_type": "execute_result"
    }
   ],
   "source": [
    "litter_copy_2.litter.unique()"
   ]
  },
  {
   "cell_type": "code",
   "execution_count": 83,
   "metadata": {},
   "outputs": [
    {
     "data": {
      "application/vnd.plotly.v1+json": {
       "config": {
        "plotlyServerURL": "https://plot.ly"
       },
       "data": [
        {
         "hovertemplate": "litter=%{x}<br>t_annual=%{y}<extra></extra>",
         "legendgroup": "",
         "marker": {
          "color": "#636efa",
          "symbol": "circle"
         },
         "mode": "markers",
         "name": "",
         "orientation": "v",
         "showlegend": false,
         "type": "scatter",
         "x": [
          1,
          2,
          3,
          5,
          6,
          7,
          8,
          9,
          10,
          11,
          12,
          13,
          14,
          15,
          16,
          17,
          18,
          19,
          20,
          21,
          22,
          24,
          25,
          26
         ],
         "xaxis": "x",
         "y": [
          11.7,
          12.444,
          12.093,
          11.589,
          12.057,
          12.034,
          12.067,
          12.051,
          11.846,
          12.057,
          12.064,
          11.778,
          11.568,
          11.769,
          11.195,
          12.293,
          11.603,
          11.904,
          10.954,
          11.525,
          12.104,
          11.292,
          11.738,
          11.319
         ],
         "yaxis": "y"
        },
        {
         "hovertemplate": "<b>OLS trendline</b><br>t_annual = -0.0249415 * litter + 12.1302<br>R<sup>2</sup>=0.262506<br><br>litter=%{x}<br>t_annual=%{y} <b>(trend)</b><extra></extra>",
         "legendgroup": "",
         "marker": {
          "color": "#636efa",
          "symbol": "circle"
         },
         "mode": "lines",
         "name": "",
         "showlegend": false,
         "type": "scatter",
         "x": [
          1,
          2,
          3,
          5,
          6,
          7,
          8,
          9,
          10,
          11,
          12,
          13,
          14,
          15,
          16,
          17,
          18,
          19,
          20,
          21,
          22,
          24,
          25,
          26
         ],
         "xaxis": "x",
         "y": [
          12.105268720748835,
          12.08032722308893,
          12.055385725429023,
          12.005502730109209,
          11.980561232449302,
          11.955619734789396,
          11.93067823712949,
          11.905736739469583,
          11.880795241809677,
          11.85585374414977,
          11.830912246489863,
          11.805970748829957,
          11.78102925117005,
          11.756087753510144,
          11.731146255850238,
          11.706204758190331,
          11.681263260530423,
          11.656321762870517,
          11.63138026521061,
          11.606438767550705,
          11.581497269890798,
          11.531614274570986,
          11.506672776911078,
          11.481731279251171
         ],
         "yaxis": "y"
        },
        {
         "line": {
          "color": "red"
         },
         "mode": "lines",
         "name": "Trendline",
         "type": "scatter",
         "x": [
          1,
          2,
          3,
          5,
          6,
          7,
          8,
          9,
          10,
          11,
          12,
          13,
          14,
          15,
          16,
          17,
          18,
          19,
          20,
          21,
          22,
          24,
          25,
          26
         ],
         "y": [
          12.105268720748835,
          12.08032722308893,
          12.055385725429023,
          12.005502730109209,
          11.980561232449302,
          11.955619734789396,
          11.93067823712949,
          11.905736739469583,
          11.880795241809677,
          11.85585374414977,
          11.830912246489863,
          11.805970748829957,
          11.78102925117005,
          11.756087753510144,
          11.731146255850238,
          11.706204758190331,
          11.681263260530423,
          11.656321762870517,
          11.63138026521061,
          11.606438767550705,
          11.581497269890798,
          11.531614274570986,
          11.506672776911078,
          11.481731279251171
         ]
        }
       ],
       "layout": {
        "legend": {
         "tracegroupgap": 0
        },
        "template": {
         "data": {
          "bar": [
           {
            "error_x": {
             "color": "#2a3f5f"
            },
            "error_y": {
             "color": "#2a3f5f"
            },
            "marker": {
             "line": {
              "color": "#E5ECF6",
              "width": 0.5
             },
             "pattern": {
              "fillmode": "overlay",
              "size": 10,
              "solidity": 0.2
             }
            },
            "type": "bar"
           }
          ],
          "barpolar": [
           {
            "marker": {
             "line": {
              "color": "#E5ECF6",
              "width": 0.5
             },
             "pattern": {
              "fillmode": "overlay",
              "size": 10,
              "solidity": 0.2
             }
            },
            "type": "barpolar"
           }
          ],
          "carpet": [
           {
            "aaxis": {
             "endlinecolor": "#2a3f5f",
             "gridcolor": "white",
             "linecolor": "white",
             "minorgridcolor": "white",
             "startlinecolor": "#2a3f5f"
            },
            "baxis": {
             "endlinecolor": "#2a3f5f",
             "gridcolor": "white",
             "linecolor": "white",
             "minorgridcolor": "white",
             "startlinecolor": "#2a3f5f"
            },
            "type": "carpet"
           }
          ],
          "choropleth": [
           {
            "colorbar": {
             "outlinewidth": 0,
             "ticks": ""
            },
            "type": "choropleth"
           }
          ],
          "contour": [
           {
            "colorbar": {
             "outlinewidth": 0,
             "ticks": ""
            },
            "colorscale": [
             [
              0,
              "#0d0887"
             ],
             [
              0.1111111111111111,
              "#46039f"
             ],
             [
              0.2222222222222222,
              "#7201a8"
             ],
             [
              0.3333333333333333,
              "#9c179e"
             ],
             [
              0.4444444444444444,
              "#bd3786"
             ],
             [
              0.5555555555555556,
              "#d8576b"
             ],
             [
              0.6666666666666666,
              "#ed7953"
             ],
             [
              0.7777777777777778,
              "#fb9f3a"
             ],
             [
              0.8888888888888888,
              "#fdca26"
             ],
             [
              1,
              "#f0f921"
             ]
            ],
            "type": "contour"
           }
          ],
          "contourcarpet": [
           {
            "colorbar": {
             "outlinewidth": 0,
             "ticks": ""
            },
            "type": "contourcarpet"
           }
          ],
          "heatmap": [
           {
            "colorbar": {
             "outlinewidth": 0,
             "ticks": ""
            },
            "colorscale": [
             [
              0,
              "#0d0887"
             ],
             [
              0.1111111111111111,
              "#46039f"
             ],
             [
              0.2222222222222222,
              "#7201a8"
             ],
             [
              0.3333333333333333,
              "#9c179e"
             ],
             [
              0.4444444444444444,
              "#bd3786"
             ],
             [
              0.5555555555555556,
              "#d8576b"
             ],
             [
              0.6666666666666666,
              "#ed7953"
             ],
             [
              0.7777777777777778,
              "#fb9f3a"
             ],
             [
              0.8888888888888888,
              "#fdca26"
             ],
             [
              1,
              "#f0f921"
             ]
            ],
            "type": "heatmap"
           }
          ],
          "heatmapgl": [
           {
            "colorbar": {
             "outlinewidth": 0,
             "ticks": ""
            },
            "colorscale": [
             [
              0,
              "#0d0887"
             ],
             [
              0.1111111111111111,
              "#46039f"
             ],
             [
              0.2222222222222222,
              "#7201a8"
             ],
             [
              0.3333333333333333,
              "#9c179e"
             ],
             [
              0.4444444444444444,
              "#bd3786"
             ],
             [
              0.5555555555555556,
              "#d8576b"
             ],
             [
              0.6666666666666666,
              "#ed7953"
             ],
             [
              0.7777777777777778,
              "#fb9f3a"
             ],
             [
              0.8888888888888888,
              "#fdca26"
             ],
             [
              1,
              "#f0f921"
             ]
            ],
            "type": "heatmapgl"
           }
          ],
          "histogram": [
           {
            "marker": {
             "pattern": {
              "fillmode": "overlay",
              "size": 10,
              "solidity": 0.2
             }
            },
            "type": "histogram"
           }
          ],
          "histogram2d": [
           {
            "colorbar": {
             "outlinewidth": 0,
             "ticks": ""
            },
            "colorscale": [
             [
              0,
              "#0d0887"
             ],
             [
              0.1111111111111111,
              "#46039f"
             ],
             [
              0.2222222222222222,
              "#7201a8"
             ],
             [
              0.3333333333333333,
              "#9c179e"
             ],
             [
              0.4444444444444444,
              "#bd3786"
             ],
             [
              0.5555555555555556,
              "#d8576b"
             ],
             [
              0.6666666666666666,
              "#ed7953"
             ],
             [
              0.7777777777777778,
              "#fb9f3a"
             ],
             [
              0.8888888888888888,
              "#fdca26"
             ],
             [
              1,
              "#f0f921"
             ]
            ],
            "type": "histogram2d"
           }
          ],
          "histogram2dcontour": [
           {
            "colorbar": {
             "outlinewidth": 0,
             "ticks": ""
            },
            "colorscale": [
             [
              0,
              "#0d0887"
             ],
             [
              0.1111111111111111,
              "#46039f"
             ],
             [
              0.2222222222222222,
              "#7201a8"
             ],
             [
              0.3333333333333333,
              "#9c179e"
             ],
             [
              0.4444444444444444,
              "#bd3786"
             ],
             [
              0.5555555555555556,
              "#d8576b"
             ],
             [
              0.6666666666666666,
              "#ed7953"
             ],
             [
              0.7777777777777778,
              "#fb9f3a"
             ],
             [
              0.8888888888888888,
              "#fdca26"
             ],
             [
              1,
              "#f0f921"
             ]
            ],
            "type": "histogram2dcontour"
           }
          ],
          "mesh3d": [
           {
            "colorbar": {
             "outlinewidth": 0,
             "ticks": ""
            },
            "type": "mesh3d"
           }
          ],
          "parcoords": [
           {
            "line": {
             "colorbar": {
              "outlinewidth": 0,
              "ticks": ""
             }
            },
            "type": "parcoords"
           }
          ],
          "pie": [
           {
            "automargin": true,
            "type": "pie"
           }
          ],
          "scatter": [
           {
            "fillpattern": {
             "fillmode": "overlay",
             "size": 10,
             "solidity": 0.2
            },
            "type": "scatter"
           }
          ],
          "scatter3d": [
           {
            "line": {
             "colorbar": {
              "outlinewidth": 0,
              "ticks": ""
             }
            },
            "marker": {
             "colorbar": {
              "outlinewidth": 0,
              "ticks": ""
             }
            },
            "type": "scatter3d"
           }
          ],
          "scattercarpet": [
           {
            "marker": {
             "colorbar": {
              "outlinewidth": 0,
              "ticks": ""
             }
            },
            "type": "scattercarpet"
           }
          ],
          "scattergeo": [
           {
            "marker": {
             "colorbar": {
              "outlinewidth": 0,
              "ticks": ""
             }
            },
            "type": "scattergeo"
           }
          ],
          "scattergl": [
           {
            "marker": {
             "colorbar": {
              "outlinewidth": 0,
              "ticks": ""
             }
            },
            "type": "scattergl"
           }
          ],
          "scattermapbox": [
           {
            "marker": {
             "colorbar": {
              "outlinewidth": 0,
              "ticks": ""
             }
            },
            "type": "scattermapbox"
           }
          ],
          "scatterpolar": [
           {
            "marker": {
             "colorbar": {
              "outlinewidth": 0,
              "ticks": ""
             }
            },
            "type": "scatterpolar"
           }
          ],
          "scatterpolargl": [
           {
            "marker": {
             "colorbar": {
              "outlinewidth": 0,
              "ticks": ""
             }
            },
            "type": "scatterpolargl"
           }
          ],
          "scatterternary": [
           {
            "marker": {
             "colorbar": {
              "outlinewidth": 0,
              "ticks": ""
             }
            },
            "type": "scatterternary"
           }
          ],
          "surface": [
           {
            "colorbar": {
             "outlinewidth": 0,
             "ticks": ""
            },
            "colorscale": [
             [
              0,
              "#0d0887"
             ],
             [
              0.1111111111111111,
              "#46039f"
             ],
             [
              0.2222222222222222,
              "#7201a8"
             ],
             [
              0.3333333333333333,
              "#9c179e"
             ],
             [
              0.4444444444444444,
              "#bd3786"
             ],
             [
              0.5555555555555556,
              "#d8576b"
             ],
             [
              0.6666666666666666,
              "#ed7953"
             ],
             [
              0.7777777777777778,
              "#fb9f3a"
             ],
             [
              0.8888888888888888,
              "#fdca26"
             ],
             [
              1,
              "#f0f921"
             ]
            ],
            "type": "surface"
           }
          ],
          "table": [
           {
            "cells": {
             "fill": {
              "color": "#EBF0F8"
             },
             "line": {
              "color": "white"
             }
            },
            "header": {
             "fill": {
              "color": "#C8D4E3"
             },
             "line": {
              "color": "white"
             }
            },
            "type": "table"
           }
          ]
         },
         "layout": {
          "annotationdefaults": {
           "arrowcolor": "#2a3f5f",
           "arrowhead": 0,
           "arrowwidth": 1
          },
          "autotypenumbers": "strict",
          "coloraxis": {
           "colorbar": {
            "outlinewidth": 0,
            "ticks": ""
           }
          },
          "colorscale": {
           "diverging": [
            [
             0,
             "#8e0152"
            ],
            [
             0.1,
             "#c51b7d"
            ],
            [
             0.2,
             "#de77ae"
            ],
            [
             0.3,
             "#f1b6da"
            ],
            [
             0.4,
             "#fde0ef"
            ],
            [
             0.5,
             "#f7f7f7"
            ],
            [
             0.6,
             "#e6f5d0"
            ],
            [
             0.7,
             "#b8e186"
            ],
            [
             0.8,
             "#7fbc41"
            ],
            [
             0.9,
             "#4d9221"
            ],
            [
             1,
             "#276419"
            ]
           ],
           "sequential": [
            [
             0,
             "#0d0887"
            ],
            [
             0.1111111111111111,
             "#46039f"
            ],
            [
             0.2222222222222222,
             "#7201a8"
            ],
            [
             0.3333333333333333,
             "#9c179e"
            ],
            [
             0.4444444444444444,
             "#bd3786"
            ],
            [
             0.5555555555555556,
             "#d8576b"
            ],
            [
             0.6666666666666666,
             "#ed7953"
            ],
            [
             0.7777777777777778,
             "#fb9f3a"
            ],
            [
             0.8888888888888888,
             "#fdca26"
            ],
            [
             1,
             "#f0f921"
            ]
           ],
           "sequentialminus": [
            [
             0,
             "#0d0887"
            ],
            [
             0.1111111111111111,
             "#46039f"
            ],
            [
             0.2222222222222222,
             "#7201a8"
            ],
            [
             0.3333333333333333,
             "#9c179e"
            ],
            [
             0.4444444444444444,
             "#bd3786"
            ],
            [
             0.5555555555555556,
             "#d8576b"
            ],
            [
             0.6666666666666666,
             "#ed7953"
            ],
            [
             0.7777777777777778,
             "#fb9f3a"
            ],
            [
             0.8888888888888888,
             "#fdca26"
            ],
            [
             1,
             "#f0f921"
            ]
           ]
          },
          "colorway": [
           "#636efa",
           "#EF553B",
           "#00cc96",
           "#ab63fa",
           "#FFA15A",
           "#19d3f3",
           "#FF6692",
           "#B6E880",
           "#FF97FF",
           "#FECB52"
          ],
          "font": {
           "color": "#2a3f5f"
          },
          "geo": {
           "bgcolor": "white",
           "lakecolor": "white",
           "landcolor": "#E5ECF6",
           "showlakes": true,
           "showland": true,
           "subunitcolor": "white"
          },
          "hoverlabel": {
           "align": "left"
          },
          "hovermode": "closest",
          "mapbox": {
           "style": "light"
          },
          "paper_bgcolor": "white",
          "plot_bgcolor": "#E5ECF6",
          "polar": {
           "angularaxis": {
            "gridcolor": "white",
            "linecolor": "white",
            "ticks": ""
           },
           "bgcolor": "#E5ECF6",
           "radialaxis": {
            "gridcolor": "white",
            "linecolor": "white",
            "ticks": ""
           }
          },
          "scene": {
           "xaxis": {
            "backgroundcolor": "#E5ECF6",
            "gridcolor": "white",
            "gridwidth": 2,
            "linecolor": "white",
            "showbackground": true,
            "ticks": "",
            "zerolinecolor": "white"
           },
           "yaxis": {
            "backgroundcolor": "#E5ECF6",
            "gridcolor": "white",
            "gridwidth": 2,
            "linecolor": "white",
            "showbackground": true,
            "ticks": "",
            "zerolinecolor": "white"
           },
           "zaxis": {
            "backgroundcolor": "#E5ECF6",
            "gridcolor": "white",
            "gridwidth": 2,
            "linecolor": "white",
            "showbackground": true,
            "ticks": "",
            "zerolinecolor": "white"
           }
          },
          "shapedefaults": {
           "line": {
            "color": "#2a3f5f"
           }
          },
          "ternary": {
           "aaxis": {
            "gridcolor": "white",
            "linecolor": "white",
            "ticks": ""
           },
           "baxis": {
            "gridcolor": "white",
            "linecolor": "white",
            "ticks": ""
           },
           "bgcolor": "#E5ECF6",
           "caxis": {
            "gridcolor": "white",
            "linecolor": "white",
            "ticks": ""
           }
          },
          "title": {
           "x": 0.05
          },
          "xaxis": {
           "automargin": true,
           "gridcolor": "white",
           "linecolor": "white",
           "ticks": "",
           "title": {
            "standoff": 15
           },
           "zerolinecolor": "white",
           "zerolinewidth": 2
          },
          "yaxis": {
           "automargin": true,
           "gridcolor": "white",
           "linecolor": "white",
           "ticks": "",
           "title": {
            "standoff": 15
           },
           "zerolinecolor": "white",
           "zerolinewidth": 2
          }
         }
        },
        "title": {
         "text": "Annual Temperature vs. Litter"
        },
        "xaxis": {
         "anchor": "y",
         "domain": [
          0,
          1
         ],
         "title": {
          "text": "litter"
         }
        },
        "yaxis": {
         "anchor": "x",
         "domain": [
          0,
          1
         ],
         "title": {
          "text": "t_annual"
         }
        }
       }
      }
     },
     "metadata": {},
     "output_type": "display_data"
    }
   ],
   "source": [
    "fig = px.scatter(litter_copy_2, x='litter', y='t_annual', trendline = 'ols', title='Annual Temperature vs. Litter')\n",
    "regression_line = fig.data[1]\n",
    "fig.add_trace(go.Scatter(x=regression_line.x, y=regression_line.y, mode='lines', name='Trendline', line = dict(color='red')))\n",
    "fig.show()"
   ]
  },
  {
   "cell_type": "markdown",
   "metadata": {},
   "source": [
    "### VWC dataset"
   ]
  },
  {
   "cell_type": "code",
   "execution_count": 47,
   "metadata": {},
   "outputs": [
    {
     "name": "stderr",
     "output_type": "stream",
     "text": [
      "/var/folders/27/cc8xpbnj4vgc0f2m9xmmtc_r0000gn/T/ipykernel_2972/3121339849.py:2: DtypeWarning:\n",
      "\n",
      "Columns (3) have mixed types. Specify dtype option on import or set low_memory=False.\n",
      "\n"
     ]
    },
    {
     "data": {
      "text/html": [
       "<div>\n",
       "<style scoped>\n",
       "    .dataframe tbody tr th:only-of-type {\n",
       "        vertical-align: middle;\n",
       "    }\n",
       "\n",
       "    .dataframe tbody tr th {\n",
       "        vertical-align: top;\n",
       "    }\n",
       "\n",
       "    .dataframe thead th {\n",
       "        text-align: right;\n",
       "    }\n",
       "</style>\n",
       "<table border=\"1\" class=\"dataframe\">\n",
       "  <thead>\n",
       "    <tr style=\"text-align: right;\">\n",
       "      <th></th>\n",
       "      <th>long</th>\n",
       "      <th>lat</th>\n",
       "      <th>year</th>\n",
       "      <th>rcp</th>\n",
       "      <th>evap_summer</th>\n",
       "      <th>vwc_winter_whole</th>\n",
       "      <th>vwc_spring_whole</th>\n",
       "      <th>vwc_summer_whole</th>\n",
       "      <th>vwc_fall_whole</th>\n",
       "    </tr>\n",
       "  </thead>\n",
       "  <tbody>\n",
       "    <tr>\n",
       "      <th>0</th>\n",
       "      <td>-110.0472</td>\n",
       "      <td>37.60413</td>\n",
       "      <td>1980</td>\n",
       "      <td>historical</td>\n",
       "      <td>NaN</td>\n",
       "      <td>0.128169</td>\n",
       "      <td>0.112395</td>\n",
       "      <td>0.069182</td>\n",
       "      <td>0.095330</td>\n",
       "    </tr>\n",
       "    <tr>\n",
       "      <th>1</th>\n",
       "      <td>-110.0472</td>\n",
       "      <td>37.60413</td>\n",
       "      <td>1980</td>\n",
       "      <td>historical</td>\n",
       "      <td>NaN</td>\n",
       "      <td>0.128169</td>\n",
       "      <td>0.112395</td>\n",
       "      <td>0.069182</td>\n",
       "      <td>0.095330</td>\n",
       "    </tr>\n",
       "    <tr>\n",
       "      <th>2</th>\n",
       "      <td>-110.0472</td>\n",
       "      <td>37.60413</td>\n",
       "      <td>1980</td>\n",
       "      <td>historical</td>\n",
       "      <td>NaN</td>\n",
       "      <td>0.128169</td>\n",
       "      <td>0.112395</td>\n",
       "      <td>0.069182</td>\n",
       "      <td>0.095330</td>\n",
       "    </tr>\n",
       "    <tr>\n",
       "      <th>3</th>\n",
       "      <td>-110.0472</td>\n",
       "      <td>37.60413</td>\n",
       "      <td>1980</td>\n",
       "      <td>historical</td>\n",
       "      <td>NaN</td>\n",
       "      <td>0.128169</td>\n",
       "      <td>0.112395</td>\n",
       "      <td>0.069182</td>\n",
       "      <td>0.095330</td>\n",
       "    </tr>\n",
       "    <tr>\n",
       "      <th>4</th>\n",
       "      <td>-110.0472</td>\n",
       "      <td>37.60413</td>\n",
       "      <td>1980</td>\n",
       "      <td>historical</td>\n",
       "      <td>1.559807</td>\n",
       "      <td>0.113447</td>\n",
       "      <td>0.096831</td>\n",
       "      <td>0.041876</td>\n",
       "      <td>0.052298</td>\n",
       "    </tr>\n",
       "  </tbody>\n",
       "</table>\n",
       "</div>"
      ],
      "text/plain": [
       "       long       lat  year         rcp  evap_summer  vwc_winter_whole  \\\n",
       "0 -110.0472  37.60413  1980  historical          NaN          0.128169   \n",
       "1 -110.0472  37.60413  1980  historical          NaN          0.128169   \n",
       "2 -110.0472  37.60413  1980  historical          NaN          0.128169   \n",
       "3 -110.0472  37.60413  1980  historical          NaN          0.128169   \n",
       "4 -110.0472  37.60413  1980  historical     1.559807          0.113447   \n",
       "\n",
       "   vwc_spring_whole  vwc_summer_whole  vwc_fall_whole  \n",
       "0          0.112395          0.069182        0.095330  \n",
       "1          0.112395          0.069182        0.095330  \n",
       "2          0.112395          0.069182        0.095330  \n",
       "3          0.112395          0.069182        0.095330  \n",
       "4          0.096831          0.041876        0.052298  "
      ]
     },
     "execution_count": 47,
     "metadata": {},
     "output_type": "execute_result"
    }
   ],
   "source": [
    "# load the data\n",
    "vwc = pd.read_csv('./data/cleaned_data/vwc_data.csv')\n",
    "vwc.head()"
   ]
  },
  {
   "cell_type": "code",
   "execution_count": 15,
   "metadata": {},
   "outputs": [
    {
     "data": {
      "text/html": [
       "<div>\n",
       "<style scoped>\n",
       "    .dataframe tbody tr th:only-of-type {\n",
       "        vertical-align: middle;\n",
       "    }\n",
       "\n",
       "    .dataframe tbody tr th {\n",
       "        vertical-align: top;\n",
       "    }\n",
       "\n",
       "    .dataframe thead th {\n",
       "        text-align: right;\n",
       "    }\n",
       "</style>\n",
       "<table border=\"1\" class=\"dataframe\">\n",
       "  <thead>\n",
       "    <tr style=\"text-align: right;\">\n",
       "      <th></th>\n",
       "      <th>year</th>\n",
       "      <th>rcp</th>\n",
       "      <th>season</th>\n",
       "      <th>vwc</th>\n",
       "    </tr>\n",
       "  </thead>\n",
       "  <tbody>\n",
       "    <tr>\n",
       "      <th>0</th>\n",
       "      <td>1980</td>\n",
       "      <td>historical</td>\n",
       "      <td>vwc_fall_whole</td>\n",
       "      <td>0.090</td>\n",
       "    </tr>\n",
       "    <tr>\n",
       "      <th>1</th>\n",
       "      <td>1980</td>\n",
       "      <td>historical</td>\n",
       "      <td>vwc_spring_whole</td>\n",
       "      <td>0.120</td>\n",
       "    </tr>\n",
       "    <tr>\n",
       "      <th>2</th>\n",
       "      <td>1980</td>\n",
       "      <td>historical</td>\n",
       "      <td>vwc_summer_whole</td>\n",
       "      <td>0.069</td>\n",
       "    </tr>\n",
       "    <tr>\n",
       "      <th>3</th>\n",
       "      <td>1980</td>\n",
       "      <td>historical</td>\n",
       "      <td>vwc_winter_whole</td>\n",
       "      <td>0.131</td>\n",
       "    </tr>\n",
       "    <tr>\n",
       "      <th>4</th>\n",
       "      <td>1981</td>\n",
       "      <td>historical</td>\n",
       "      <td>vwc_fall_whole</td>\n",
       "      <td>0.102</td>\n",
       "    </tr>\n",
       "  </tbody>\n",
       "</table>\n",
       "</div>"
      ],
      "text/plain": [
       "   year         rcp            season    vwc\n",
       "0  1980  historical    vwc_fall_whole  0.090\n",
       "1  1980  historical  vwc_spring_whole  0.120\n",
       "2  1980  historical  vwc_summer_whole  0.069\n",
       "3  1980  historical  vwc_winter_whole  0.131\n",
       "4  1981  historical    vwc_fall_whole  0.102"
      ]
     },
     "execution_count": 15,
     "metadata": {},
     "output_type": "execute_result"
    }
   ],
   "source": [
    "# further data cleaning\n",
    "vwc_melt = pd.melt(vwc, id_vars=['long', 'lat', 'year', 'rcp'], value_vars=['vwc_winter_whole', 'vwc_spring_whole', 'vwc_summer_whole', 'vwc_fall_whole'], var_name='season', value_name='vwc')\n",
    "vwc_grouped = vwc_melt.groupby(['year', 'rcp', 'season']).agg({'vwc': 'mean'}).reset_index()\n",
    "vwc_grouped = vwc_grouped.round({'vwc': 3})\n",
    "vwc_grouped['rcp'] = vwc_grouped['rcp'].astype('str')\n",
    "vwc_grouped.head()"
   ]
  },
  {
   "cell_type": "code",
   "execution_count": 16,
   "metadata": {},
   "outputs": [
    {
     "data": {
      "image/png": "[encoded data removed]",
      "text/plain": [
       "<Figure size 1000x600 with 1 Axes>"
      ]
     },
     "metadata": {},
     "output_type": "display_data"
    }
   ],
   "source": [
    "plt.figure(figsize=(10, 6))\n",
    "sns.barplot(data=vwc_grouped, x=\"vwc\", y=\"season\", hue=\"rcp\", orient=\"h\")\n",
    "plt.xlabel(\"VWC\")\n",
    "plt.ylabel(\"Season\")\n",
    "plt.title(\"Volumetric Water Content (VWC) by Season\")\n",
    "plt.show()"
   ]
  },
  {
   "cell_type": "code",
   "execution_count": null,
   "metadata": {},
   "outputs": [],
   "source": [
    "# plot out relatiionship between VWC and evaporation and temperature"
   ]
  },
  {
   "cell_type": "code",
   "execution_count": null,
   "metadata": {},
   "outputs": [],
   "source": []
  },
  {
   "cell_type": "markdown",
   "metadata": {},
   "source": [
    "### Summer dataset\n",
    "\n",
    "#### First Visualization"
   ]
  },
  {
   "cell_type": "code",
   "execution_count": 45,
   "metadata": {},
   "outputs": [
    {
     "name": "stderr",
     "output_type": "stream",
     "text": [
      "/var/folders/27/cc8xpbnj4vgc0f2m9xmmtc_r0000gn/T/ipykernel_2972/1897514567.py:2: DtypeWarning:\n",
      "\n",
      "Columns (3) have mixed types. Specify dtype option on import or set low_memory=False.\n",
      "\n"
     ]
    },
    {
     "data": {
      "text/html": [
       "<div>\n",
       "<style scoped>\n",
       "    .dataframe tbody tr th:only-of-type {\n",
       "        vertical-align: middle;\n",
       "    }\n",
       "\n",
       "    .dataframe tbody tr th {\n",
       "        vertical-align: top;\n",
       "    }\n",
       "\n",
       "    .dataframe thead th {\n",
       "        text-align: right;\n",
       "    }\n",
       "</style>\n",
       "<table border=\"1\" class=\"dataframe\">\n",
       "  <thead>\n",
       "    <tr style=\"text-align: right;\">\n",
       "      <th></th>\n",
       "      <th>year</th>\n",
       "      <th>drysoildays_summer_whole</th>\n",
       "      <th>evap_summer</th>\n",
       "      <th>nondryswa_summer_whole</th>\n",
       "      <th>ppt_summer</th>\n",
       "      <th>tmax_summer</th>\n",
       "    </tr>\n",
       "  </thead>\n",
       "  <tbody>\n",
       "    <tr>\n",
       "      <th>0</th>\n",
       "      <td>1980</td>\n",
       "      <td>7.856000</td>\n",
       "      <td>2.876526</td>\n",
       "      <td>0.271869</td>\n",
       "      <td>3.992827</td>\n",
       "      <td>36.821592</td>\n",
       "    </tr>\n",
       "    <tr>\n",
       "      <th>1</th>\n",
       "      <td>1981</td>\n",
       "      <td>6.880705</td>\n",
       "      <td>4.098247</td>\n",
       "      <td>0.213244</td>\n",
       "      <td>9.247074</td>\n",
       "      <td>37.152125</td>\n",
       "    </tr>\n",
       "    <tr>\n",
       "      <th>2</th>\n",
       "      <td>1982</td>\n",
       "      <td>7.139391</td>\n",
       "      <td>3.789916</td>\n",
       "      <td>0.298272</td>\n",
       "      <td>9.448209</td>\n",
       "      <td>36.545367</td>\n",
       "    </tr>\n",
       "    <tr>\n",
       "      <th>3</th>\n",
       "      <td>1983</td>\n",
       "      <td>6.439958</td>\n",
       "      <td>4.049732</td>\n",
       "      <td>0.311255</td>\n",
       "      <td>10.045459</td>\n",
       "      <td>34.954063</td>\n",
       "    </tr>\n",
       "    <tr>\n",
       "      <th>4</th>\n",
       "      <td>1984</td>\n",
       "      <td>6.791979</td>\n",
       "      <td>4.043963</td>\n",
       "      <td>0.246205</td>\n",
       "      <td>9.134468</td>\n",
       "      <td>35.494011</td>\n",
       "    </tr>\n",
       "  </tbody>\n",
       "</table>\n",
       "</div>"
      ],
      "text/plain": [
       "   year  drysoildays_summer_whole  evap_summer  nondryswa_summer_whole  \\\n",
       "0  1980                  7.856000     2.876526                0.271869   \n",
       "1  1981                  6.880705     4.098247                0.213244   \n",
       "2  1982                  7.139391     3.789916                0.298272   \n",
       "3  1983                  6.439958     4.049732                0.311255   \n",
       "4  1984                  6.791979     4.043963                0.246205   \n",
       "\n",
       "   ppt_summer  tmax_summer  \n",
       "0    3.992827    36.821592  \n",
       "1    9.247074    37.152125  \n",
       "2    9.448209    36.545367  \n",
       "3   10.045459    34.954063  \n",
       "4    9.134468    35.494011  "
      ]
     },
     "execution_count": 45,
     "metadata": {},
     "output_type": "execute_result"
    }
   ],
   "source": [
    "# load the data\n",
    "summer = pd.read_csv('./data/cleaned_data/summer_data.csv')\n",
    "\n",
    "# further data processing\n",
    "summer_copy = summer.copy()\n",
    "summer_copy = summer.drop(['long', 'lat', 'rcp'], axis=1)\n",
    "\n",
    "summer_copy = summer_copy.groupby(['year']).mean().reset_index()\n",
    "\n",
    "# convert the year column to string type\n",
    "summer_copy['year'] = summer_copy['year'].astype('str')\n",
    "\n",
    "summer_copy.to_csv('./data/cleaned_data/summer_data_2.csv', index=True)\n",
    "summer_copy.head()"
   ]
  },
  {
   "cell_type": "code",
   "execution_count": 18,
   "metadata": {},
   "outputs": [
    {
     "data": {
      "image/png": "[encoded data removed]",
      "text/plain": [
       "<Figure size 1000x800 with 2 Axes>"
      ]
     },
     "metadata": {},
     "output_type": "display_data"
    }
   ],
   "source": [
    "# plot a correlation matrix\n",
    "plt.figure(figsize=(10, 8))\n",
    "sns.heatmap(summer_copy.corr(), annot=True, cmap='coolwarm')\n",
    "plt.title('Correlation Matrix')\n",
    "plt.show()"
   ]
  },
  {
   "cell_type": "code",
   "execution_count": 19,
   "metadata": {},
   "outputs": [
    {
     "data": {
      "application/vnd.plotly.v1+json": {
       "config": {
        "plotlyServerURL": "https://plot.ly"
       },
       "data": [
        {
         "hovertext": [
          1980,
          1981,
          1982,
          1983,
          1984,
          1985,
          1986,
          1987,
          1988,
          1989,
          1990,
          1991,
          1992,
          1993,
          1994,
          1995,
          1996,
          1997,
          1998,
          1999,
          2000,
          2001,
          2002,
          2003,
          2004,
          2005,
          2006,
          2007,
          2008,
          2009,
          2010,
          2011,
          2012,
          2013,
          2014,
          2015,
          2016,
          2017,
          2018,
          2021,
          2022,
          2023,
          2024
         ],
         "legendgroup": "drysoildays_summer_whole",
         "line": {
          "color": "#EED21B",
          "dash": "solid"
         },
         "marker": {
          "symbol": "circle"
         },
         "mode": "markers+lines",
         "name": "Days of Dry Soil (< -3.9 MPa)",
         "orientation": "v",
         "showlegend": true,
         "type": "scatter",
         "x": [
          1980,
          1981,
          1982,
          1983,
          1984,
          1985,
          1986,
          1987,
          1988,
          1989,
          1990,
          1991,
          1992,
          1993,
          1994,
          1995,
          1996,
          1997,
          1998,
          1999,
          2000,
          2001,
          2002,
          2003,
          2004,
          2005,
          2006,
          2007,
          2008,
          2009,
          2010,
          2011,
          2012,
          2013,
          2014,
          2015,
          2016,
          2017,
          2018,
          2021,
          2022,
          2023,
          2024
         ],
         "xaxis": "x",
         "y": [
          7.856000000000001,
          6.880704545454546,
          7.1393910447761195,
          6.439958005249345,
          6.791978723404256,
          7.146690058479533,
          7.015952095808383,
          6.688150134048258,
          7.156493438320211,
          7.207255255255255,
          9.056162318840581,
          7.428663212435233,
          7.146317548746519,
          7.466400000000001,
          8.151739130434782,
          7.143914209115282,
          9.687811209439529,
          6.509753581661891,
          7.269066666666667,
          6.300088397790056,
          8.288792569659444,
          6.644730434782609,
          9.40717391304348,
          7.487442424242425,
          8.287345029239766,
          6.622181818181819,
          7.425725067385445,
          7.296,
          6.973101123595505,
          7.811098265895954,
          6.56974011299435,
          7.530965732087227,
          7.607080213903744,
          7.828479108635097,
          7.047036414565826,
          5.914969325153375,
          7.012367567567567,
          7.066621468926554,
          9.18838418079096,
          7.324665375511083,
          7.422854609168276,
          7.213109041409944,
          7.486505747126437
         ],
         "yaxis": "y"
        },
        {
         "hovertext": [
          1980,
          1981,
          1982,
          1983,
          1984,
          1985,
          1986,
          1987,
          1988,
          1989,
          1990,
          1991,
          1992,
          1993,
          1994,
          1995,
          1996,
          1997,
          1998,
          1999,
          2000,
          2001,
          2002,
          2003,
          2004,
          2005,
          2006,
          2007,
          2008,
          2009,
          2010,
          2011,
          2012,
          2013,
          2014,
          2015,
          2016,
          2017,
          2018,
          2021,
          2022,
          2023,
          2024
         ],
         "legendgroup": "evap_summer",
         "line": {
          "color": "#CA68C8",
          "dash": "solid"
         },
         "marker": {
          "symbol": "circle"
         },
         "mode": "markers+lines",
         "name": "Evaporation",
         "orientation": "v",
         "showlegend": true,
         "type": "scatter",
         "x": [
          1980,
          1981,
          1982,
          1983,
          1984,
          1985,
          1986,
          1987,
          1988,
          1989,
          1990,
          1991,
          1992,
          1993,
          1994,
          1995,
          1996,
          1997,
          1998,
          1999,
          2000,
          2001,
          2002,
          2003,
          2004,
          2005,
          2006,
          2007,
          2008,
          2009,
          2010,
          2011,
          2012,
          2013,
          2014,
          2015,
          2016,
          2017,
          2018,
          2021,
          2022,
          2023,
          2024
         ],
         "xaxis": "x",
         "y": [
          2.8765261780104714,
          4.098247159090909,
          3.789916417910448,
          4.049732283464567,
          4.043962765957446,
          3.0059239766081873,
          3.851928143712575,
          3.763123324396783,
          3.831992125984252,
          3.40118018018018,
          3.3497014492753623,
          3.6614093264248706,
          3.5983593314763236,
          3.1639,
          3.0386820652173916,
          3.7563512064343167,
          3.4320560471976402,
          3.57656446991404,
          3.4111282051282057,
          4.3442734806629835,
          3.3634055727554184,
          3.703371014492754,
          3.1144076086956525,
          3.3961878787878788,
          3.001555555555556,
          3.627085227272728,
          3.7008301886792454,
          3.5737872340425536,
          3.4509044943820224,
          2.9778757225433528,
          3.7502344632768363,
          3.615411214953271,
          3.2940320855614975,
          3.329938718662953,
          3.465406162464986,
          4.147558282208589,
          3.527348648648649,
          3.3639717514124294,
          3.0134435028248587,
          3.4673851230184347,
          3.3916122434384612,
          3.535081028800688,
          3.3101428879310344
         ],
         "yaxis": "y"
        },
        {
         "hovertext": [
          1980,
          1981,
          1982,
          1983,
          1984,
          1985,
          1986,
          1987,
          1988,
          1989,
          1990,
          1991,
          1992,
          1993,
          1994,
          1995,
          1996,
          1997,
          1998,
          1999,
          2000,
          2001,
          2002,
          2003,
          2004,
          2005,
          2006,
          2007,
          2008,
          2009,
          2010,
          2011,
          2012,
          2013,
          2014,
          2015,
          2016,
          2017,
          2018,
          2021,
          2022,
          2023,
          2024
         ],
         "legendgroup": "ppt_summer",
         "line": {
          "color": "#A7C6DA",
          "dash": "solid"
         },
         "marker": {
          "symbol": "circle"
         },
         "mode": "markers+lines",
         "name": "Precipitation",
         "orientation": "v",
         "showlegend": true,
         "type": "scatter",
         "x": [
          1980,
          1981,
          1982,
          1983,
          1984,
          1985,
          1986,
          1987,
          1988,
          1989,
          1990,
          1991,
          1992,
          1993,
          1994,
          1995,
          1996,
          1997,
          1998,
          1999,
          2000,
          2001,
          2002,
          2003,
          2004,
          2005,
          2006,
          2007,
          2008,
          2009,
          2010,
          2011,
          2012,
          2013,
          2014,
          2015,
          2016,
          2017,
          2018,
          2021,
          2022,
          2023,
          2024
         ],
         "xaxis": "x",
         "y": [
          3.99282722513089,
          9.247073863636363,
          9.448208955223881,
          10.045459317585303,
          9.134468085106382,
          5.723157894736842,
          9.58497005988024,
          10.671528150134048,
          8.564304461942257,
          7.2208108108108116,
          6.210376811594203,
          7.096891191709845,
          6.6209749303621175,
          6.606757575757576,
          4.194211956521739,
          7.39603217158177,
          5.955634218289085,
          8.722779369627506,
          6.643666666666667,
          13.09621546961326,
          5.915727554179567,
          8.294898550724639,
          4.496847826086957,
          6.551181818181818,
          4.280497076023392,
          8.20599431818182,
          7.716873315363881,
          7.8180243161094225,
          7.233202247191011,
          4.255982658959537,
          9.82358757062147,
          6.448037383177571,
          7.16620320855615,
          8.211448467966573,
          7.403305322128851,
          11.490276073619631,
          7.563648648648649,
          6.995056497175141,
          5.607824858757063,
          7.452040743131771,
          7.103251090610026,
          8.170848259062902,
          6.994
         ],
         "yaxis": "y"
        }
       ],
       "layout": {
        "hovermode": "x",
        "legend": {
         "title": {
          "text": "Something in Summer"
         },
         "tracegroupgap": 0
        },
        "margin": {
         "t": 60
        },
        "template": {
         "data": {
          "bar": [
           {
            "error_x": {
             "color": "rgb(36,36,36)"
            },
            "error_y": {
             "color": "rgb(36,36,36)"
            },
            "marker": {
             "line": {
              "color": "white",
              "width": 0.5
             },
             "pattern": {
              "fillmode": "overlay",
              "size": 10,
              "solidity": 0.2
             }
            },
            "type": "bar"
           }
          ],
          "barpolar": [
           {
            "marker": {
             "line": {
              "color": "white",
              "width": 0.5
             },
             "pattern": {
              "fillmode": "overlay",
              "size": 10,
              "solidity": 0.2
             }
            },
            "type": "barpolar"
           }
          ],
          "carpet": [
           {
            "aaxis": {
             "endlinecolor": "rgb(36,36,36)",
             "gridcolor": "white",
             "linecolor": "white",
             "minorgridcolor": "white",
             "startlinecolor": "rgb(36,36,36)"
            },
            "baxis": {
             "endlinecolor": "rgb(36,36,36)",
             "gridcolor": "white",
             "linecolor": "white",
             "minorgridcolor": "white",
             "startlinecolor": "rgb(36,36,36)"
            },
            "type": "carpet"
           }
          ],
          "choropleth": [
           {
            "colorbar": {
             "outlinewidth": 1,
             "tickcolor": "rgb(36,36,36)",
             "ticks": "outside"
            },
            "type": "choropleth"
           }
          ],
          "contour": [
           {
            "colorbar": {
             "outlinewidth": 1,
             "tickcolor": "rgb(36,36,36)",
             "ticks": "outside"
            },
            "colorscale": [
             [
              0,
              "#440154"
             ],
             [
              0.1111111111111111,
              "#482878"
             ],
             [
              0.2222222222222222,
              "#3e4989"
             ],
             [
              0.3333333333333333,
              "#31688e"
             ],
             [
              0.4444444444444444,
              "#26828e"
             ],
             [
              0.5555555555555556,
              "#1f9e89"
             ],
             [
              0.6666666666666666,
              "#35b779"
             ],
             [
              0.7777777777777778,
              "#6ece58"
             ],
             [
              0.8888888888888888,
              "#b5de2b"
             ],
             [
              1,
              "#fde725"
             ]
            ],
            "type": "contour"
           }
          ],
          "contourcarpet": [
           {
            "colorbar": {
             "outlinewidth": 1,
             "tickcolor": "rgb(36,36,36)",
             "ticks": "outside"
            },
            "type": "contourcarpet"
           }
          ],
          "heatmap": [
           {
            "colorbar": {
             "outlinewidth": 1,
             "tickcolor": "rgb(36,36,36)",
             "ticks": "outside"
            },
            "colorscale": [
             [
              0,
              "#440154"
             ],
             [
              0.1111111111111111,
              "#482878"
             ],
             [
              0.2222222222222222,
              "#3e4989"
             ],
             [
              0.3333333333333333,
              "#31688e"
             ],
             [
              0.4444444444444444,
              "#26828e"
             ],
             [
              0.5555555555555556,
              "#1f9e89"
             ],
             [
              0.6666666666666666,
              "#35b779"
             ],
             [
              0.7777777777777778,
              "#6ece58"
             ],
             [
              0.8888888888888888,
              "#b5de2b"
             ],
             [
              1,
              "#fde725"
             ]
            ],
            "type": "heatmap"
           }
          ],
          "heatmapgl": [
           {
            "colorbar": {
             "outlinewidth": 1,
             "tickcolor": "rgb(36,36,36)",
             "ticks": "outside"
            },
            "colorscale": [
             [
              0,
              "#440154"
             ],
             [
              0.1111111111111111,
              "#482878"
             ],
             [
              0.2222222222222222,
              "#3e4989"
             ],
             [
              0.3333333333333333,
              "#31688e"
             ],
             [
              0.4444444444444444,
              "#26828e"
             ],
             [
              0.5555555555555556,
              "#1f9e89"
             ],
             [
              0.6666666666666666,
              "#35b779"
             ],
             [
              0.7777777777777778,
              "#6ece58"
             ],
             [
              0.8888888888888888,
              "#b5de2b"
             ],
             [
              1,
              "#fde725"
             ]
            ],
            "type": "heatmapgl"
           }
          ],
          "histogram": [
           {
            "marker": {
             "line": {
              "color": "white",
              "width": 0.6
             }
            },
            "type": "histogram"
           }
          ],
          "histogram2d": [
           {
            "colorbar": {
             "outlinewidth": 1,
             "tickcolor": "rgb(36,36,36)",
             "ticks": "outside"
            },
            "colorscale": [
             [
              0,
              "#440154"
             ],
             [
              0.1111111111111111,
              "#482878"
             ],
             [
              0.2222222222222222,
              "#3e4989"
             ],
             [
              0.3333333333333333,
              "#31688e"
             ],
             [
              0.4444444444444444,
              "#26828e"
             ],
             [
              0.5555555555555556,
              "#1f9e89"
             ],
             [
              0.6666666666666666,
              "#35b779"
             ],
             [
              0.7777777777777778,
              "#6ece58"
             ],
             [
              0.8888888888888888,
              "#b5de2b"
             ],
             [
              1,
              "#fde725"
             ]
            ],
            "type": "histogram2d"
           }
          ],
          "histogram2dcontour": [
           {
            "colorbar": {
             "outlinewidth": 1,
             "tickcolor": "rgb(36,36,36)",
             "ticks": "outside"
            },
            "colorscale": [
             [
              0,
              "#440154"
             ],
             [
              0.1111111111111111,
              "#482878"
             ],
             [
              0.2222222222222222,
              "#3e4989"
             ],
             [
              0.3333333333333333,
              "#31688e"
             ],
             [
              0.4444444444444444,
              "#26828e"
             ],
             [
              0.5555555555555556,
              "#1f9e89"
             ],
             [
              0.6666666666666666,
              "#35b779"
             ],
             [
              0.7777777777777778,
              "#6ece58"
             ],
             [
              0.8888888888888888,
              "#b5de2b"
             ],
             [
              1,
              "#fde725"
             ]
            ],
            "type": "histogram2dcontour"
           }
          ],
          "mesh3d": [
           {
            "colorbar": {
             "outlinewidth": 1,
             "tickcolor": "rgb(36,36,36)",
             "ticks": "outside"
            },
            "type": "mesh3d"
           }
          ],
          "parcoords": [
           {
            "line": {
             "colorbar": {
              "outlinewidth": 1,
              "tickcolor": "rgb(36,36,36)",
              "ticks": "outside"
             }
            },
            "type": "parcoords"
           }
          ],
          "pie": [
           {
            "automargin": true,
            "type": "pie"
           }
          ],
          "scatter": [
           {
            "fillpattern": {
             "fillmode": "overlay",
             "size": 10,
             "solidity": 0.2
            },
            "type": "scatter"
           }
          ],
          "scatter3d": [
           {
            "line": {
             "colorbar": {
              "outlinewidth": 1,
              "tickcolor": "rgb(36,36,36)",
              "ticks": "outside"
             }
            },
            "marker": {
             "colorbar": {
              "outlinewidth": 1,
              "tickcolor": "rgb(36,36,36)",
              "ticks": "outside"
             }
            },
            "type": "scatter3d"
           }
          ],
          "scattercarpet": [
           {
            "marker": {
             "colorbar": {
              "outlinewidth": 1,
              "tickcolor": "rgb(36,36,36)",
              "ticks": "outside"
             }
            },
            "type": "scattercarpet"
           }
          ],
          "scattergeo": [
           {
            "marker": {
             "colorbar": {
              "outlinewidth": 1,
              "tickcolor": "rgb(36,36,36)",
              "ticks": "outside"
             }
            },
            "type": "scattergeo"
           }
          ],
          "scattergl": [
           {
            "marker": {
             "colorbar": {
              "outlinewidth": 1,
              "tickcolor": "rgb(36,36,36)",
              "ticks": "outside"
             }
            },
            "type": "scattergl"
           }
          ],
          "scattermapbox": [
           {
            "marker": {
             "colorbar": {
              "outlinewidth": 1,
              "tickcolor": "rgb(36,36,36)",
              "ticks": "outside"
             }
            },
            "type": "scattermapbox"
           }
          ],
          "scatterpolar": [
           {
            "marker": {
             "colorbar": {
              "outlinewidth": 1,
              "tickcolor": "rgb(36,36,36)",
              "ticks": "outside"
             }
            },
            "type": "scatterpolar"
           }
          ],
          "scatterpolargl": [
           {
            "marker": {
             "colorbar": {
              "outlinewidth": 1,
              "tickcolor": "rgb(36,36,36)",
              "ticks": "outside"
             }
            },
            "type": "scatterpolargl"
           }
          ],
          "scatterternary": [
           {
            "marker": {
             "colorbar": {
              "outlinewidth": 1,
              "tickcolor": "rgb(36,36,36)",
              "ticks": "outside"
             }
            },
            "type": "scatterternary"
           }
          ],
          "surface": [
           {
            "colorbar": {
             "outlinewidth": 1,
             "tickcolor": "rgb(36,36,36)",
             "ticks": "outside"
            },
            "colorscale": [
             [
              0,
              "#440154"
             ],
             [
              0.1111111111111111,
              "#482878"
             ],
             [
              0.2222222222222222,
              "#3e4989"
             ],
             [
              0.3333333333333333,
              "#31688e"
             ],
             [
              0.4444444444444444,
              "#26828e"
             ],
             [
              0.5555555555555556,
              "#1f9e89"
             ],
             [
              0.6666666666666666,
              "#35b779"
             ],
             [
              0.7777777777777778,
              "#6ece58"
             ],
             [
              0.8888888888888888,
              "#b5de2b"
             ],
             [
              1,
              "#fde725"
             ]
            ],
            "type": "surface"
           }
          ],
          "table": [
           {
            "cells": {
             "fill": {
              "color": "rgb(237,237,237)"
             },
             "line": {
              "color": "white"
             }
            },
            "header": {
             "fill": {
              "color": "rgb(217,217,217)"
             },
             "line": {
              "color": "white"
             }
            },
            "type": "table"
           }
          ]
         },
         "layout": {
          "annotationdefaults": {
           "arrowhead": 0,
           "arrowwidth": 1
          },
          "autotypenumbers": "strict",
          "coloraxis": {
           "colorbar": {
            "outlinewidth": 1,
            "tickcolor": "rgb(36,36,36)",
            "ticks": "outside"
           }
          },
          "colorscale": {
           "diverging": [
            [
             0,
             "rgb(103,0,31)"
            ],
            [
             0.1,
             "rgb(178,24,43)"
            ],
            [
             0.2,
             "rgb(214,96,77)"
            ],
            [
             0.3,
             "rgb(244,165,130)"
            ],
            [
             0.4,
             "rgb(253,219,199)"
            ],
            [
             0.5,
             "rgb(247,247,247)"
            ],
            [
             0.6,
             "rgb(209,229,240)"
            ],
            [
             0.7,
             "rgb(146,197,222)"
            ],
            [
             0.8,
             "rgb(67,147,195)"
            ],
            [
             0.9,
             "rgb(33,102,172)"
            ],
            [
             1,
             "rgb(5,48,97)"
            ]
           ],
           "sequential": [
            [
             0,
             "#440154"
            ],
            [
             0.1111111111111111,
             "#482878"
            ],
            [
             0.2222222222222222,
             "#3e4989"
            ],
            [
             0.3333333333333333,
             "#31688e"
            ],
            [
             0.4444444444444444,
             "#26828e"
            ],
            [
             0.5555555555555556,
             "#1f9e89"
            ],
            [
             0.6666666666666666,
             "#35b779"
            ],
            [
             0.7777777777777778,
             "#6ece58"
            ],
            [
             0.8888888888888888,
             "#b5de2b"
            ],
            [
             1,
             "#fde725"
            ]
           ],
           "sequentialminus": [
            [
             0,
             "#440154"
            ],
            [
             0.1111111111111111,
             "#482878"
            ],
            [
             0.2222222222222222,
             "#3e4989"
            ],
            [
             0.3333333333333333,
             "#31688e"
            ],
            [
             0.4444444444444444,
             "#26828e"
            ],
            [
             0.5555555555555556,
             "#1f9e89"
            ],
            [
             0.6666666666666666,
             "#35b779"
            ],
            [
             0.7777777777777778,
             "#6ece58"
            ],
            [
             0.8888888888888888,
             "#b5de2b"
            ],
            [
             1,
             "#fde725"
            ]
           ]
          },
          "colorway": [
           "#1F77B4",
           "#FF7F0E",
           "#2CA02C",
           "#D62728",
           "#9467BD",
           "#8C564B",
           "#E377C2",
           "#7F7F7F",
           "#BCBD22",
           "#17BECF"
          ],
          "font": {
           "color": "rgb(36,36,36)"
          },
          "geo": {
           "bgcolor": "white",
           "lakecolor": "white",
           "landcolor": "white",
           "showlakes": true,
           "showland": true,
           "subunitcolor": "white"
          },
          "hoverlabel": {
           "align": "left"
          },
          "hovermode": "closest",
          "mapbox": {
           "style": "light"
          },
          "paper_bgcolor": "white",
          "plot_bgcolor": "white",
          "polar": {
           "angularaxis": {
            "gridcolor": "rgb(232,232,232)",
            "linecolor": "rgb(36,36,36)",
            "showgrid": false,
            "showline": true,
            "ticks": "outside"
           },
           "bgcolor": "white",
           "radialaxis": {
            "gridcolor": "rgb(232,232,232)",
            "linecolor": "rgb(36,36,36)",
            "showgrid": false,
            "showline": true,
            "ticks": "outside"
           }
          },
          "scene": {
           "xaxis": {
            "backgroundcolor": "white",
            "gridcolor": "rgb(232,232,232)",
            "gridwidth": 2,
            "linecolor": "rgb(36,36,36)",
            "showbackground": true,
            "showgrid": false,
            "showline": true,
            "ticks": "outside",
            "zeroline": false,
            "zerolinecolor": "rgb(36,36,36)"
           },
           "yaxis": {
            "backgroundcolor": "white",
            "gridcolor": "rgb(232,232,232)",
            "gridwidth": 2,
            "linecolor": "rgb(36,36,36)",
            "showbackground": true,
            "showgrid": false,
            "showline": true,
            "ticks": "outside",
            "zeroline": false,
            "zerolinecolor": "rgb(36,36,36)"
           },
           "zaxis": {
            "backgroundcolor": "white",
            "gridcolor": "rgb(232,232,232)",
            "gridwidth": 2,
            "linecolor": "rgb(36,36,36)",
            "showbackground": true,
            "showgrid": false,
            "showline": true,
            "ticks": "outside",
            "zeroline": false,
            "zerolinecolor": "rgb(36,36,36)"
           }
          },
          "shapedefaults": {
           "fillcolor": "black",
           "line": {
            "width": 0
           },
           "opacity": 0.3
          },
          "ternary": {
           "aaxis": {
            "gridcolor": "rgb(232,232,232)",
            "linecolor": "rgb(36,36,36)",
            "showgrid": false,
            "showline": true,
            "ticks": "outside"
           },
           "baxis": {
            "gridcolor": "rgb(232,232,232)",
            "linecolor": "rgb(36,36,36)",
            "showgrid": false,
            "showline": true,
            "ticks": "outside"
           },
           "bgcolor": "white",
           "caxis": {
            "gridcolor": "rgb(232,232,232)",
            "linecolor": "rgb(36,36,36)",
            "showgrid": false,
            "showline": true,
            "ticks": "outside"
           }
          },
          "title": {
           "x": 0.05
          },
          "xaxis": {
           "automargin": true,
           "gridcolor": "rgb(232,232,232)",
           "linecolor": "rgb(36,36,36)",
           "showgrid": false,
           "showline": true,
           "ticks": "outside",
           "title": {
            "standoff": 15
           },
           "zeroline": false,
           "zerolinecolor": "rgb(36,36,36)"
          },
          "yaxis": {
           "automargin": true,
           "gridcolor": "rgb(232,232,232)",
           "linecolor": "rgb(36,36,36)",
           "showgrid": false,
           "showline": true,
           "ticks": "outside",
           "title": {
            "standoff": 15
           },
           "zeroline": false,
           "zerolinecolor": "rgb(36,36,36)"
          }
         }
        },
        "title": {
         "text": "Something of the Summer Data"
        },
        "xaxis": {
         "anchor": "y",
         "domain": [
          0,
          1
         ],
         "title": {
          "text": "Year"
         }
        },
        "yaxis": {
         "anchor": "x",
         "domain": [
          0,
          1
         ],
         "title": {
          "text": "Values"
         }
        }
       }
      }
     },
     "metadata": {},
     "output_type": "display_data"
    }
   ],
   "source": [
    "# plot a line graph of drysoildays_summer_whole, evap_summer, nondryswa_summer_whole, ppt_summer, and tmax_summer\n",
    "fig = px.line(summer_copy, x='year', y=['drysoildays_summer_whole', 'evap_summer', 'ppt_summer'], \n",
    "              hover_name='year', template='simple_white', color_discrete_sequence=[\"#EED21B\", \"#CA68C8\", \"#A7C6DA\"])\n",
    "\n",
    "fig.for_each_trace(lambda trace: trace.update(name = trace.name.replace('drysoildays_summer_whole', 'Days of Dry Soil (< -3.9 MPa)')\n",
    "                                                      .replace('evap_summer', 'Evaporation')\n",
    "                                                      .replace('ppt_summer', 'Precipitation')))\n",
    "\n",
    "fig.update_traces(mode = 'markers+lines', hovertemplate=None)\n",
    "fig.update_layout(title='Something of the Summer Data', xaxis_title='Year', yaxis_title='Values', hovermode = 'x', legend_title='Summer Indicators')\n",
    "\n",
    "fig.show()"
   ]
  },
  {
   "cell_type": "markdown",
   "metadata": {},
   "source": [
    "#### Second Visualization"
   ]
  },
  {
   "cell_type": "code",
   "execution_count": 23,
   "metadata": {},
   "outputs": [
    {
     "data": {
      "text/html": [
       "<div>\n",
       "<style scoped>\n",
       "    .dataframe tbody tr th:only-of-type {\n",
       "        vertical-align: middle;\n",
       "    }\n",
       "\n",
       "    .dataframe tbody tr th {\n",
       "        vertical-align: top;\n",
       "    }\n",
       "\n",
       "    .dataframe thead th {\n",
       "        text-align: right;\n",
       "    }\n",
       "</style>\n",
       "<table border=\"1\" class=\"dataframe\">\n",
       "  <thead>\n",
       "    <tr style=\"text-align: right;\">\n",
       "      <th></th>\n",
       "      <th>long</th>\n",
       "      <th>lat</th>\n",
       "      <th>year</th>\n",
       "      <th>rcp</th>\n",
       "      <th>drysoildays_summer_whole</th>\n",
       "      <th>evap_summer</th>\n",
       "      <th>nondryswa_summer_whole</th>\n",
       "      <th>ppt_summer</th>\n",
       "      <th>tmax_summer</th>\n",
       "    </tr>\n",
       "  </thead>\n",
       "  <tbody>\n",
       "    <tr>\n",
       "      <th>0</th>\n",
       "      <td>-110.0472</td>\n",
       "      <td>37.60413</td>\n",
       "      <td>1980</td>\n",
       "      <td>historical</td>\n",
       "      <td>7.368</td>\n",
       "      <td>3.446</td>\n",
       "      <td>0.285</td>\n",
       "      <td>2.69</td>\n",
       "      <td>37.050</td>\n",
       "    </tr>\n",
       "    <tr>\n",
       "      <th>1</th>\n",
       "      <td>-110.0472</td>\n",
       "      <td>37.60413</td>\n",
       "      <td>1980</td>\n",
       "      <td>historical</td>\n",
       "      <td>7.368</td>\n",
       "      <td>3.446</td>\n",
       "      <td>0.285</td>\n",
       "      <td>2.69</td>\n",
       "      <td>37.050</td>\n",
       "    </tr>\n",
       "    <tr>\n",
       "      <th>2</th>\n",
       "      <td>-110.0472</td>\n",
       "      <td>37.60413</td>\n",
       "      <td>1980</td>\n",
       "      <td>historical</td>\n",
       "      <td>7.368</td>\n",
       "      <td>3.446</td>\n",
       "      <td>0.285</td>\n",
       "      <td>2.69</td>\n",
       "      <td>37.050</td>\n",
       "    </tr>\n",
       "    <tr>\n",
       "      <th>3</th>\n",
       "      <td>-110.0472</td>\n",
       "      <td>37.60413</td>\n",
       "      <td>1980</td>\n",
       "      <td>historical</td>\n",
       "      <td>7.368</td>\n",
       "      <td>3.446</td>\n",
       "      <td>0.285</td>\n",
       "      <td>2.69</td>\n",
       "      <td>37.050</td>\n",
       "    </tr>\n",
       "    <tr>\n",
       "      <th>4</th>\n",
       "      <td>-110.0472</td>\n",
       "      <td>37.60413</td>\n",
       "      <td>1980</td>\n",
       "      <td>historical</td>\n",
       "      <td>0.000</td>\n",
       "      <td>1.560</td>\n",
       "      <td>0.032</td>\n",
       "      <td>7.44</td>\n",
       "      <td>37.104</td>\n",
       "    </tr>\n",
       "    <tr>\n",
       "      <th>...</th>\n",
       "      <td>...</td>\n",
       "      <td>...</td>\n",
       "      <td>...</td>\n",
       "      <td>...</td>\n",
       "      <td>...</td>\n",
       "      <td>...</td>\n",
       "      <td>...</td>\n",
       "      <td>...</td>\n",
       "      <td>...</td>\n",
       "    </tr>\n",
       "    <tr>\n",
       "      <th>69618</th>\n",
       "      <td>-109.9659</td>\n",
       "      <td>37.62525</td>\n",
       "      <td>2024</td>\n",
       "      <td>8.5</td>\n",
       "      <td>0.000</td>\n",
       "      <td>3.557</td>\n",
       "      <td>0.552</td>\n",
       "      <td>7.44</td>\n",
       "      <td>37.104</td>\n",
       "    </tr>\n",
       "    <tr>\n",
       "      <th>69619</th>\n",
       "      <td>-109.9659</td>\n",
       "      <td>37.62525</td>\n",
       "      <td>2024</td>\n",
       "      <td>8.5</td>\n",
       "      <td>0.000</td>\n",
       "      <td>2.398</td>\n",
       "      <td>0.107</td>\n",
       "      <td>7.44</td>\n",
       "      <td>37.104</td>\n",
       "    </tr>\n",
       "    <tr>\n",
       "      <th>69620</th>\n",
       "      <td>-109.9659</td>\n",
       "      <td>37.62525</td>\n",
       "      <td>2024</td>\n",
       "      <td>8.5</td>\n",
       "      <td>0.000</td>\n",
       "      <td>3.000</td>\n",
       "      <td>0.595</td>\n",
       "      <td>7.44</td>\n",
       "      <td>37.104</td>\n",
       "    </tr>\n",
       "    <tr>\n",
       "      <th>69621</th>\n",
       "      <td>-109.9659</td>\n",
       "      <td>37.62525</td>\n",
       "      <td>2024</td>\n",
       "      <td>8.5</td>\n",
       "      <td>0.000</td>\n",
       "      <td>3.702</td>\n",
       "      <td>0.121</td>\n",
       "      <td>7.44</td>\n",
       "      <td>37.104</td>\n",
       "    </tr>\n",
       "    <tr>\n",
       "      <th>69622</th>\n",
       "      <td>-109.9659</td>\n",
       "      <td>37.62525</td>\n",
       "      <td>2024</td>\n",
       "      <td>8.5</td>\n",
       "      <td>0.000</td>\n",
       "      <td>2.450</td>\n",
       "      <td>0.075</td>\n",
       "      <td>7.44</td>\n",
       "      <td>37.104</td>\n",
       "    </tr>\n",
       "  </tbody>\n",
       "</table>\n",
       "<p>14302 rows × 9 columns</p>\n",
       "</div>"
      ],
      "text/plain": [
       "           long       lat  year         rcp  drysoildays_summer_whole  \\\n",
       "0     -110.0472  37.60413  1980  historical                     7.368   \n",
       "1     -110.0472  37.60413  1980  historical                     7.368   \n",
       "2     -110.0472  37.60413  1980  historical                     7.368   \n",
       "3     -110.0472  37.60413  1980  historical                     7.368   \n",
       "4     -110.0472  37.60413  1980  historical                     0.000   \n",
       "...         ...       ...   ...         ...                       ...   \n",
       "69618 -109.9659  37.62525  2024         8.5                     0.000   \n",
       "69619 -109.9659  37.62525  2024         8.5                     0.000   \n",
       "69620 -109.9659  37.62525  2024         8.5                     0.000   \n",
       "69621 -109.9659  37.62525  2024         8.5                     0.000   \n",
       "69622 -109.9659  37.62525  2024         8.5                     0.000   \n",
       "\n",
       "       evap_summer  nondryswa_summer_whole  ppt_summer  tmax_summer  \n",
       "0            3.446                   0.285        2.69       37.050  \n",
       "1            3.446                   0.285        2.69       37.050  \n",
       "2            3.446                   0.285        2.69       37.050  \n",
       "3            3.446                   0.285        2.69       37.050  \n",
       "4            1.560                   0.032        7.44       37.104  \n",
       "...            ...                     ...         ...          ...  \n",
       "69618        3.557                   0.552        7.44       37.104  \n",
       "69619        2.398                   0.107        7.44       37.104  \n",
       "69620        3.000                   0.595        7.44       37.104  \n",
       "69621        3.702                   0.121        7.44       37.104  \n",
       "69622        2.450                   0.075        7.44       37.104  \n",
       "\n",
       "[14302 rows x 9 columns]"
      ]
     },
     "execution_count": 23,
     "metadata": {},
     "output_type": "execute_result"
    }
   ],
   "source": [
    "# spider chart of summer data\n",
    "summer_copy_2 = summer.copy()\n",
    "summer_copy_2 = summer_copy_2[summer_copy_2['year'].isin([1980, 2024])]\n",
    "summer_copy_2"
   ]
  },
  {
   "cell_type": "code",
   "execution_count": null,
   "metadata": {},
   "outputs": [],
   "source": [
    "summer_mean = summer_copy_2.groupby(['year']).mean().reset_index()\n",
    "\n",
    "fig = px.line_polar(summer_mean, r = summer_mean.columns[2:], theta = 'year', line_close=True, template='simple_white')\n",
    "fig.update_traces(fill='toself')\n",
    "\n",
    "fig.show()"
   ]
  },
  {
   "cell_type": "code",
   "execution_count": 29,
   "metadata": {},
   "outputs": [
    {
     "ename": "ValueError",
     "evalue": "2",
     "output_type": "error",
     "traceback": [
      "\u001b[0;31m---------------------------------------------------------------------------\u001b[0m",
      "\u001b[0;31mValueError\u001b[0m                                Traceback (most recent call last)",
      "Cell \u001b[0;32mIn[29], line 3\u001b[0m\n\u001b[1;32m      1\u001b[0m summer_melt \u001b[38;5;241m=\u001b[39m pd\u001b[38;5;241m.\u001b[39mmelt(summer_copy_2, id_vars\u001b[38;5;241m=\u001b[39m[\u001b[38;5;124m'\u001b[39m\u001b[38;5;124myear\u001b[39m\u001b[38;5;124m'\u001b[39m], value_vars\u001b[38;5;241m=\u001b[39m[\u001b[38;5;124m'\u001b[39m\u001b[38;5;124mdrysoildays_summer_whole\u001b[39m\u001b[38;5;124m'\u001b[39m, \u001b[38;5;124m'\u001b[39m\u001b[38;5;124mevap_summer\u001b[39m\u001b[38;5;124m'\u001b[39m, \u001b[38;5;124m'\u001b[39m\u001b[38;5;124mnondryswa_summer_whole\u001b[39m\u001b[38;5;124m'\u001b[39m, \u001b[38;5;124m'\u001b[39m\u001b[38;5;124mppt_summer\u001b[39m\u001b[38;5;124m'\u001b[39m, \u001b[38;5;124m'\u001b[39m\u001b[38;5;124mtmax_summer\u001b[39m\u001b[38;5;124m'\u001b[39m], var_name\u001b[38;5;241m=\u001b[39m\u001b[38;5;124m'\u001b[39m\u001b[38;5;124mcriteria\u001b[39m\u001b[38;5;124m'\u001b[39m, value_name\u001b[38;5;241m=\u001b[39m\u001b[38;5;124m'\u001b[39m\u001b[38;5;124mvalue\u001b[39m\u001b[38;5;124m'\u001b[39m)\n\u001b[0;32m----> 3\u001b[0m fig \u001b[38;5;241m=\u001b[39m \u001b[43mpx\u001b[49m\u001b[38;5;241;43m.\u001b[39;49m\u001b[43mline_polar\u001b[49m\u001b[43m(\u001b[49m\u001b[43msummer_melt\u001b[49m\u001b[43m,\u001b[49m\u001b[43m \u001b[49m\u001b[43mr\u001b[49m\u001b[38;5;241;43m=\u001b[39;49m\u001b[43mdf\u001b[49m\u001b[38;5;241;43m.\u001b[39;49m\u001b[43miloc\u001b[49m\u001b[43m[\u001b[49m\u001b[43m:\u001b[49m\u001b[43m,\u001b[49m\u001b[43m \u001b[49m\u001b[38;5;241;43m1\u001b[39;49m\u001b[43m:\u001b[49m\u001b[43m]\u001b[49m\u001b[38;5;241;43m.\u001b[39;49m\u001b[43mvalues\u001b[49m\u001b[38;5;241;43m.\u001b[39;49m\u001b[43mT\u001b[49m\u001b[43m,\u001b[49m\u001b[43m \u001b[49m\u001b[43mtheta\u001b[49m\u001b[38;5;241;43m=\u001b[39;49m\u001b[43mdf\u001b[49m\u001b[38;5;241;43m.\u001b[39;49m\u001b[43mcolumns\u001b[49m\u001b[43m[\u001b[49m\u001b[38;5;241;43m1\u001b[39;49m\u001b[43m:\u001b[49m\u001b[43m]\u001b[49m\u001b[43m,\u001b[49m\u001b[43m \u001b[49m\u001b[43mline_close\u001b[49m\u001b[38;5;241;43m=\u001b[39;49m\u001b[38;5;28;43;01mTrue\u001b[39;49;00m\u001b[43m,\u001b[49m\u001b[43m \u001b[49m\n\u001b[1;32m      4\u001b[0m \u001b[43m                     \u001b[49m\u001b[43mcolor\u001b[49m\u001b[38;5;241;43m=\u001b[39;49m\u001b[43mdf\u001b[49m\u001b[43m[\u001b[49m\u001b[38;5;124;43m\"\u001b[39;49m\u001b[38;5;124;43myear\u001b[39;49m\u001b[38;5;124;43m\"\u001b[39;49m\u001b[43m]\u001b[49m\u001b[38;5;241;43m.\u001b[39;49m\u001b[43mastype\u001b[49m\u001b[43m(\u001b[49m\u001b[38;5;28;43mstr\u001b[39;49m\u001b[43m)\u001b[49m\u001b[43m,\u001b[49m\u001b[43m \u001b[49m\u001b[43mline_dash\u001b[49m\u001b[38;5;241;43m=\u001b[39;49m\u001b[38;5;124;43m\"\u001b[39;49m\u001b[38;5;124;43myear\u001b[39;49m\u001b[38;5;124;43m\"\u001b[39;49m\u001b[43m,\u001b[49m\n\u001b[1;32m      5\u001b[0m \u001b[43m                     \u001b[49m\u001b[43mlabels\u001b[49m\u001b[38;5;241;43m=\u001b[39;49m\u001b[43m{\u001b[49m\u001b[38;5;124;43m\"\u001b[39;49m\u001b[38;5;124;43mvariable\u001b[39;49m\u001b[38;5;124;43m\"\u001b[39;49m\u001b[43m:\u001b[49m\u001b[43m \u001b[49m\u001b[38;5;124;43m\"\u001b[39;49m\u001b[38;5;124;43mCriteria\u001b[39;49m\u001b[38;5;124;43m\"\u001b[39;49m\u001b[43m,\u001b[49m\u001b[43m \u001b[49m\u001b[38;5;124;43m\"\u001b[39;49m\u001b[38;5;124;43mvalue\u001b[39;49m\u001b[38;5;124;43m\"\u001b[39;49m\u001b[43m:\u001b[49m\u001b[43m \u001b[49m\u001b[38;5;124;43m\"\u001b[39;49m\u001b[38;5;124;43mValue\u001b[39;49m\u001b[38;5;124;43m\"\u001b[39;49m\u001b[43m,\u001b[49m\u001b[43m \u001b[49m\u001b[38;5;124;43m\"\u001b[39;49m\u001b[38;5;124;43myear\u001b[39;49m\u001b[38;5;124;43m\"\u001b[39;49m\u001b[43m:\u001b[49m\u001b[43m \u001b[49m\u001b[38;5;124;43m\"\u001b[39;49m\u001b[38;5;124;43mYear\u001b[39;49m\u001b[38;5;124;43m\"\u001b[39;49m\u001b[43m}\u001b[49m\u001b[43m,\u001b[49m\n\u001b[1;32m      6\u001b[0m \u001b[43m                     \u001b[49m\u001b[43mtitle\u001b[49m\u001b[38;5;241;43m=\u001b[39;49m\u001b[38;5;124;43m\"\u001b[39;49m\u001b[38;5;124;43mSpider Chart for Criteria Comparison between 1980 and 2024\u001b[39;49m\u001b[38;5;124;43m\"\u001b[39;49m\u001b[43m)\u001b[49m\n\u001b[1;32m      7\u001b[0m fig\u001b[38;5;241m.\u001b[39mupdate_traces(fill\u001b[38;5;241m=\u001b[39m\u001b[38;5;124m'\u001b[39m\u001b[38;5;124mtoself\u001b[39m\u001b[38;5;124m'\u001b[39m)\n\u001b[1;32m      8\u001b[0m fig\u001b[38;5;241m.\u001b[39mshow()\n",
      "File \u001b[0;32m/Library/Frameworks/Python.framework/Versions/3.11/lib/python3.11/site-packages/plotly/express/_chart_types.py:998\u001b[0m, in \u001b[0;36mline_polar\u001b[0;34m(data_frame, r, theta, color, line_dash, hover_name, hover_data, custom_data, line_group, text, symbol, animation_frame, animation_group, category_orders, labels, color_discrete_sequence, color_discrete_map, line_dash_sequence, line_dash_map, symbol_sequence, symbol_map, markers, direction, start_angle, line_close, line_shape, render_mode, range_r, range_theta, log_r, title, template, width, height)\u001b[0m\n\u001b[1;32m    958\u001b[0m \u001b[38;5;28;01mdef\u001b[39;00m \u001b[38;5;21mline_polar\u001b[39m(\n\u001b[1;32m    959\u001b[0m     data_frame\u001b[38;5;241m=\u001b[39m\u001b[38;5;28;01mNone\u001b[39;00m,\n\u001b[1;32m    960\u001b[0m     r\u001b[38;5;241m=\u001b[39m\u001b[38;5;28;01mNone\u001b[39;00m,\n\u001b[0;32m   (...)\u001b[0m\n\u001b[1;32m    992\u001b[0m     height\u001b[38;5;241m=\u001b[39m\u001b[38;5;28;01mNone\u001b[39;00m,\n\u001b[1;32m    993\u001b[0m ) \u001b[38;5;241m-\u001b[39m\u001b[38;5;241m>\u001b[39m go\u001b[38;5;241m.\u001b[39mFigure:\n\u001b[1;32m    994\u001b[0m \u001b[38;5;250m    \u001b[39m\u001b[38;5;124;03m\"\"\"\u001b[39;00m\n\u001b[1;32m    995\u001b[0m \u001b[38;5;124;03m    In a polar line plot, each row of `data_frame` is represented as vertex\u001b[39;00m\n\u001b[1;32m    996\u001b[0m \u001b[38;5;124;03m    of a polyline mark in polar coordinates.\u001b[39;00m\n\u001b[1;32m    997\u001b[0m \u001b[38;5;124;03m    \"\"\"\u001b[39;00m\n\u001b[0;32m--> 998\u001b[0m     \u001b[38;5;28;01mreturn\u001b[39;00m \u001b[43mmake_figure\u001b[49m\u001b[43m(\u001b[49m\u001b[43margs\u001b[49m\u001b[38;5;241;43m=\u001b[39;49m\u001b[38;5;28;43mlocals\u001b[39;49m\u001b[43m(\u001b[49m\u001b[43m)\u001b[49m\u001b[43m,\u001b[49m\u001b[43m \u001b[49m\u001b[43mconstructor\u001b[49m\u001b[38;5;241;43m=\u001b[39;49m\u001b[43mgo\u001b[49m\u001b[38;5;241;43m.\u001b[39;49m\u001b[43mScatterpolar\u001b[49m\u001b[43m)\u001b[49m\n",
      "File \u001b[0;32m/Library/Frameworks/Python.framework/Versions/3.11/lib/python3.11/site-packages/plotly/express/_core.py:2090\u001b[0m, in \u001b[0;36mmake_figure\u001b[0;34m(args, constructor, trace_patch, layout_patch)\u001b[0m\n\u001b[1;32m   2087\u001b[0m layout_patch \u001b[38;5;241m=\u001b[39m layout_patch \u001b[38;5;129;01mor\u001b[39;00m {}\n\u001b[1;32m   2088\u001b[0m apply_default_cascade(args)\n\u001b[0;32m-> 2090\u001b[0m args \u001b[38;5;241m=\u001b[39m \u001b[43mbuild_dataframe\u001b[49m\u001b[43m(\u001b[49m\u001b[43margs\u001b[49m\u001b[43m,\u001b[49m\u001b[43m \u001b[49m\u001b[43mconstructor\u001b[49m\u001b[43m)\u001b[49m\n\u001b[1;32m   2091\u001b[0m \u001b[38;5;28;01mif\u001b[39;00m constructor \u001b[38;5;129;01min\u001b[39;00m [go\u001b[38;5;241m.\u001b[39mTreemap, go\u001b[38;5;241m.\u001b[39mSunburst, go\u001b[38;5;241m.\u001b[39mIcicle] \u001b[38;5;129;01mand\u001b[39;00m args[\u001b[38;5;124m\"\u001b[39m\u001b[38;5;124mpath\u001b[39m\u001b[38;5;124m\"\u001b[39m] \u001b[38;5;129;01mis\u001b[39;00m \u001b[38;5;129;01mnot\u001b[39;00m \u001b[38;5;28;01mNone\u001b[39;00m:\n\u001b[1;32m   2092\u001b[0m     args \u001b[38;5;241m=\u001b[39m process_dataframe_hierarchy(args)\n",
      "File \u001b[0;32m/Library/Frameworks/Python.framework/Versions/3.11/lib/python3.11/site-packages/plotly/express/_core.py:1492\u001b[0m, in \u001b[0;36mbuild_dataframe\u001b[0;34m(args, constructor)\u001b[0m\n\u001b[1;32m   1489\u001b[0m     args[\u001b[38;5;124m\"\u001b[39m\u001b[38;5;124mcolor\u001b[39m\u001b[38;5;124m\"\u001b[39m] \u001b[38;5;241m=\u001b[39m \u001b[38;5;28;01mNone\u001b[39;00m\n\u001b[1;32m   1490\u001b[0m \u001b[38;5;66;03m# now that things have been prepped, we do the systematic rewriting of `args`\u001b[39;00m\n\u001b[0;32m-> 1492\u001b[0m df_output, wide_id_vars \u001b[38;5;241m=\u001b[39m \u001b[43mprocess_args_into_dataframe\u001b[49m\u001b[43m(\u001b[49m\n\u001b[1;32m   1493\u001b[0m \u001b[43m    \u001b[49m\u001b[43margs\u001b[49m\u001b[43m,\u001b[49m\u001b[43m \u001b[49m\u001b[43mwide_mode\u001b[49m\u001b[43m,\u001b[49m\u001b[43m \u001b[49m\u001b[43mvar_name\u001b[49m\u001b[43m,\u001b[49m\u001b[43m \u001b[49m\u001b[43mvalue_name\u001b[49m\n\u001b[1;32m   1494\u001b[0m \u001b[43m\u001b[49m\u001b[43m)\u001b[49m\n\u001b[1;32m   1496\u001b[0m \u001b[38;5;66;03m# now that `df_output` exists and `args` contains only references, we complete\u001b[39;00m\n\u001b[1;32m   1497\u001b[0m \u001b[38;5;66;03m# the special-case and wide-mode handling by further rewriting args and/or mutating\u001b[39;00m\n\u001b[1;32m   1498\u001b[0m \u001b[38;5;66;03m# df_output\u001b[39;00m\n\u001b[1;32m   1500\u001b[0m count_name \u001b[38;5;241m=\u001b[39m _escape_col_name(df_output, \u001b[38;5;124m\"\u001b[39m\u001b[38;5;124mcount\u001b[39m\u001b[38;5;124m\"\u001b[39m, [var_name, value_name])\n",
      "File \u001b[0;32m/Library/Frameworks/Python.framework/Versions/3.11/lib/python3.11/site-packages/plotly/express/_core.py:1259\u001b[0m, in \u001b[0;36mprocess_args_into_dataframe\u001b[0;34m(args, wide_mode, var_name, value_name)\u001b[0m\n\u001b[1;32m   1252\u001b[0m     \u001b[38;5;28;01mif\u001b[39;00m length \u001b[38;5;129;01mand\u001b[39;00m \u001b[38;5;28mlen\u001b[39m(argument) \u001b[38;5;241m!=\u001b[39m length:\n\u001b[1;32m   1253\u001b[0m         \u001b[38;5;28;01mraise\u001b[39;00m \u001b[38;5;167;01mValueError\u001b[39;00m(\n\u001b[1;32m   1254\u001b[0m             \u001b[38;5;124m\"\u001b[39m\u001b[38;5;124mAll arguments should have the same length. \u001b[39m\u001b[38;5;124m\"\u001b[39m\n\u001b[1;32m   1255\u001b[0m             \u001b[38;5;124m\"\u001b[39m\u001b[38;5;124mThe length of argument `\u001b[39m\u001b[38;5;132;01m%s\u001b[39;00m\u001b[38;5;124m` is \u001b[39m\u001b[38;5;132;01m%d\u001b[39;00m\u001b[38;5;124m, whereas the \u001b[39m\u001b[38;5;124m\"\u001b[39m\n\u001b[1;32m   1256\u001b[0m             \u001b[38;5;124m\"\u001b[39m\u001b[38;5;124mlength of  previously-processed arguments \u001b[39m\u001b[38;5;132;01m%s\u001b[39;00m\u001b[38;5;124m is \u001b[39m\u001b[38;5;132;01m%d\u001b[39;00m\u001b[38;5;124m\"\u001b[39m\n\u001b[1;32m   1257\u001b[0m             \u001b[38;5;241m%\u001b[39m (field, \u001b[38;5;28mlen\u001b[39m(argument), \u001b[38;5;28mstr\u001b[39m(\u001b[38;5;28mlist\u001b[39m(df_output\u001b[38;5;241m.\u001b[39mkeys())), length)\n\u001b[1;32m   1258\u001b[0m         )\n\u001b[0;32m-> 1259\u001b[0m     df_output[\u001b[38;5;28mstr\u001b[39m(col_name)] \u001b[38;5;241m=\u001b[39m \u001b[43mto_unindexed_series\u001b[49m\u001b[43m(\u001b[49m\u001b[43margument\u001b[49m\u001b[43m,\u001b[49m\u001b[43m \u001b[49m\u001b[38;5;28;43mstr\u001b[39;49m\u001b[43m(\u001b[49m\u001b[43mcol_name\u001b[49m\u001b[43m)\u001b[49m\u001b[43m)\u001b[49m\n\u001b[1;32m   1261\u001b[0m \u001b[38;5;66;03m# Finally, update argument with column name now that column exists\u001b[39;00m\n\u001b[1;32m   1262\u001b[0m \u001b[38;5;28;01massert\u001b[39;00m col_name \u001b[38;5;129;01mis\u001b[39;00m \u001b[38;5;129;01mnot\u001b[39;00m \u001b[38;5;28;01mNone\u001b[39;00m, (\n\u001b[1;32m   1263\u001b[0m     \u001b[38;5;124m\"\u001b[39m\u001b[38;5;124mData-frame processing failure, likely due to a internal bug. \u001b[39m\u001b[38;5;124m\"\u001b[39m\n\u001b[1;32m   1264\u001b[0m     \u001b[38;5;124m\"\u001b[39m\u001b[38;5;124mPlease report this to \u001b[39m\u001b[38;5;124m\"\u001b[39m\n\u001b[1;32m   1265\u001b[0m     \u001b[38;5;124m\"\u001b[39m\u001b[38;5;124mhttps://github.com/plotly/plotly.py/issues/new and we will try to \u001b[39m\u001b[38;5;124m\"\u001b[39m\n\u001b[1;32m   1266\u001b[0m     \u001b[38;5;124m\"\u001b[39m\u001b[38;5;124mreplicate and fix it.\u001b[39m\u001b[38;5;124m\"\u001b[39m\n\u001b[1;32m   1267\u001b[0m )\n",
      "File \u001b[0;32m/Library/Frameworks/Python.framework/Versions/3.11/lib/python3.11/site-packages/plotly/express/_core.py:1076\u001b[0m, in \u001b[0;36mto_unindexed_series\u001b[0;34m(x, name)\u001b[0m\n\u001b[1;32m   1069\u001b[0m \u001b[38;5;28;01mdef\u001b[39;00m \u001b[38;5;21mto_unindexed_series\u001b[39m(x, name\u001b[38;5;241m=\u001b[39m\u001b[38;5;28;01mNone\u001b[39;00m):\n\u001b[1;32m   1070\u001b[0m \u001b[38;5;250m    \u001b[39m\u001b[38;5;124;03m\"\"\"\u001b[39;00m\n\u001b[1;32m   1071\u001b[0m \u001b[38;5;124;03m    assuming x is list-like or even an existing pd.Series, return a new pd.Series with\u001b[39;00m\n\u001b[1;32m   1072\u001b[0m \u001b[38;5;124;03m    no index, without extracting the data from an existing Series via numpy, which\u001b[39;00m\n\u001b[1;32m   1073\u001b[0m \u001b[38;5;124;03m    seems to mangle datetime columns. Stripping the index from existing pd.Series is\u001b[39;00m\n\u001b[1;32m   1074\u001b[0m \u001b[38;5;124;03m    required to get things to match up right in the new DataFrame we're building\u001b[39;00m\n\u001b[1;32m   1075\u001b[0m \u001b[38;5;124;03m    \"\"\"\u001b[39;00m\n\u001b[0;32m-> 1076\u001b[0m     \u001b[38;5;28;01mreturn\u001b[39;00m \u001b[43mpd\u001b[49m\u001b[38;5;241;43m.\u001b[39;49m\u001b[43mSeries\u001b[49m\u001b[43m(\u001b[49m\u001b[43mx\u001b[49m\u001b[43m,\u001b[49m\u001b[43m \u001b[49m\u001b[43mname\u001b[49m\u001b[38;5;241;43m=\u001b[39;49m\u001b[43mname\u001b[49m\u001b[43m)\u001b[49m\u001b[38;5;241m.\u001b[39mreset_index(drop\u001b[38;5;241m=\u001b[39m\u001b[38;5;28;01mTrue\u001b[39;00m)\n",
      "File \u001b[0;32m/Library/Frameworks/Python.framework/Versions/3.11/lib/python3.11/site-packages/pandas/core/series.py:584\u001b[0m, in \u001b[0;36mSeries.__init__\u001b[0;34m(self, data, index, dtype, name, copy, fastpath)\u001b[0m\n\u001b[1;32m    582\u001b[0m         data \u001b[38;5;241m=\u001b[39m data\u001b[38;5;241m.\u001b[39mcopy()\n\u001b[1;32m    583\u001b[0m \u001b[38;5;28;01melse\u001b[39;00m:\n\u001b[0;32m--> 584\u001b[0m     data \u001b[38;5;241m=\u001b[39m \u001b[43msanitize_array\u001b[49m\u001b[43m(\u001b[49m\u001b[43mdata\u001b[49m\u001b[43m,\u001b[49m\u001b[43m \u001b[49m\u001b[43mindex\u001b[49m\u001b[43m,\u001b[49m\u001b[43m \u001b[49m\u001b[43mdtype\u001b[49m\u001b[43m,\u001b[49m\u001b[43m \u001b[49m\u001b[43mcopy\u001b[49m\u001b[43m)\u001b[49m\n\u001b[1;32m    586\u001b[0m     manager \u001b[38;5;241m=\u001b[39m _get_option(\u001b[38;5;124m\"\u001b[39m\u001b[38;5;124mmode.data_manager\u001b[39m\u001b[38;5;124m\"\u001b[39m, silent\u001b[38;5;241m=\u001b[39m\u001b[38;5;28;01mTrue\u001b[39;00m)\n\u001b[1;32m    587\u001b[0m     \u001b[38;5;28;01mif\u001b[39;00m manager \u001b[38;5;241m==\u001b[39m \u001b[38;5;124m\"\u001b[39m\u001b[38;5;124mblock\u001b[39m\u001b[38;5;124m\"\u001b[39m:\n",
      "File \u001b[0;32m/Library/Frameworks/Python.framework/Versions/3.11/lib/python3.11/site-packages/pandas/core/construction.py:606\u001b[0m, in \u001b[0;36msanitize_array\u001b[0;34m(data, index, dtype, copy, allow_2d)\u001b[0m\n\u001b[1;32m    604\u001b[0m subarr \u001b[38;5;241m=\u001b[39m data\n\u001b[1;32m    605\u001b[0m \u001b[38;5;28;01mif\u001b[39;00m data\u001b[38;5;241m.\u001b[39mdtype \u001b[38;5;241m==\u001b[39m \u001b[38;5;28mobject\u001b[39m:\n\u001b[0;32m--> 606\u001b[0m     subarr \u001b[38;5;241m=\u001b[39m \u001b[43mmaybe_infer_to_datetimelike\u001b[49m\u001b[43m(\u001b[49m\u001b[43mdata\u001b[49m\u001b[43m)\u001b[49m\n\u001b[1;32m    607\u001b[0m     \u001b[38;5;28;01mif\u001b[39;00m (\n\u001b[1;32m    608\u001b[0m         object_index\n\u001b[1;32m    609\u001b[0m         \u001b[38;5;129;01mand\u001b[39;00m using_pyarrow_string_dtype()\n\u001b[1;32m    610\u001b[0m         \u001b[38;5;129;01mand\u001b[39;00m is_string_dtype(subarr)\n\u001b[1;32m    611\u001b[0m     ):\n\u001b[1;32m    612\u001b[0m         \u001b[38;5;66;03m# Avoid inference when string option is set\u001b[39;00m\n\u001b[1;32m    613\u001b[0m         subarr \u001b[38;5;241m=\u001b[39m data\n",
      "File \u001b[0;32m/Library/Frameworks/Python.framework/Versions/3.11/lib/python3.11/site-packages/pandas/core/dtypes/cast.py:1182\u001b[0m, in \u001b[0;36mmaybe_infer_to_datetimelike\u001b[0;34m(value)\u001b[0m\n\u001b[1;32m   1179\u001b[0m     \u001b[38;5;28;01mraise\u001b[39;00m \u001b[38;5;167;01mTypeError\u001b[39;00m(\u001b[38;5;28mtype\u001b[39m(value))  \u001b[38;5;66;03m# pragma: no cover\u001b[39;00m\n\u001b[1;32m   1180\u001b[0m \u001b[38;5;28;01mif\u001b[39;00m value\u001b[38;5;241m.\u001b[39mndim \u001b[38;5;241m!=\u001b[39m \u001b[38;5;241m1\u001b[39m:\n\u001b[1;32m   1181\u001b[0m     \u001b[38;5;66;03m# Caller is responsible\u001b[39;00m\n\u001b[0;32m-> 1182\u001b[0m     \u001b[38;5;28;01mraise\u001b[39;00m \u001b[38;5;167;01mValueError\u001b[39;00m(value\u001b[38;5;241m.\u001b[39mndim)  \u001b[38;5;66;03m# pragma: no cover\u001b[39;00m\n\u001b[1;32m   1184\u001b[0m \u001b[38;5;28;01mif\u001b[39;00m \u001b[38;5;129;01mnot\u001b[39;00m \u001b[38;5;28mlen\u001b[39m(value):\n\u001b[1;32m   1185\u001b[0m     \u001b[38;5;28;01mreturn\u001b[39;00m value\n",
      "\u001b[0;31mValueError\u001b[0m: 2"
     ]
    }
   ],
   "source": [
    "summer_melt = pd.melt(summer_copy_2, id_vars=['year'], value_vars=['drysoildays_summer_whole', 'evap_summer', 'nondryswa_summer_whole', 'ppt_summer', 'tmax_summer'], var_name='criteria', value_name='value')\n",
    "\n",
    "fig = px.line_polar(summer_melt, r=df.iloc[:, 1:].values.T, theta=df.columns[1:], line_close=True, \n",
    "                     color=df[\"year\"].astype(str), line_dash=\"year\",\n",
    "                     labels={\"variable\": \"Criteria\", \"value\": \"Value\", \"year\": \"Year\"},\n",
    "                     title=\"Spider Chart for Criteria Comparison between 1980 and 2024\")\n",
    "fig.update_traces(fill='toself')\n",
    "fig.show()"
   ]
  },
  {
   "cell_type": "markdown",
   "metadata": {},
   "source": [
    "### Summer vs. Winter Dataset"
   ]
  },
  {
   "cell_type": "code",
   "execution_count": 20,
   "metadata": {},
   "outputs": [
    {
     "name": "stderr",
     "output_type": "stream",
     "text": [
      "/var/folders/27/cc8xpbnj4vgc0f2m9xmmtc_r0000gn/T/ipykernel_2972/3445449044.py:2: DtypeWarning:\n",
      "\n",
      "Columns (3) have mixed types. Specify dtype option on import or set low_memory=False.\n",
      "\n"
     ]
    },
    {
     "data": {
      "text/html": [
       "<div>\n",
       "<style scoped>\n",
       "    .dataframe tbody tr th:only-of-type {\n",
       "        vertical-align: middle;\n",
       "    }\n",
       "\n",
       "    .dataframe tbody tr th {\n",
       "        vertical-align: top;\n",
       "    }\n",
       "\n",
       "    .dataframe thead th {\n",
       "        text-align: right;\n",
       "    }\n",
       "</style>\n",
       "<table border=\"1\" class=\"dataframe\">\n",
       "  <thead>\n",
       "    <tr style=\"text-align: right;\">\n",
       "      <th></th>\n",
       "      <th>long</th>\n",
       "      <th>lat</th>\n",
       "      <th>year</th>\n",
       "      <th>rcp</th>\n",
       "      <th>ppt_annual</th>\n",
       "      <th>ppt_summer</th>\n",
       "      <th>ppt_winter</th>\n",
       "      <th>t_summer</th>\n",
       "      <th>t_winter</th>\n",
       "      <th>tmax_summer</th>\n",
       "      <th>tmin_winter</th>\n",
       "    </tr>\n",
       "  </thead>\n",
       "  <tbody>\n",
       "    <tr>\n",
       "      <th>0</th>\n",
       "      <td>-110.0472</td>\n",
       "      <td>37.60413</td>\n",
       "      <td>1980</td>\n",
       "      <td>historical</td>\n",
       "      <td>13.79</td>\n",
       "      <td>2.69</td>\n",
       "      <td>13.79</td>\n",
       "      <td>23.15924</td>\n",
       "      <td>0.964835</td>\n",
       "      <td>37.05</td>\n",
       "      <td>NaN</td>\n",
       "    </tr>\n",
       "    <tr>\n",
       "      <th>1</th>\n",
       "      <td>-110.0472</td>\n",
       "      <td>37.60413</td>\n",
       "      <td>1980</td>\n",
       "      <td>historical</td>\n",
       "      <td>2.69</td>\n",
       "      <td>2.69</td>\n",
       "      <td>13.79</td>\n",
       "      <td>23.15924</td>\n",
       "      <td>0.964835</td>\n",
       "      <td>37.05</td>\n",
       "      <td>NaN</td>\n",
       "    </tr>\n",
       "    <tr>\n",
       "      <th>2</th>\n",
       "      <td>-110.0472</td>\n",
       "      <td>37.60413</td>\n",
       "      <td>1980</td>\n",
       "      <td>historical</td>\n",
       "      <td>13.79</td>\n",
       "      <td>2.69</td>\n",
       "      <td>13.79</td>\n",
       "      <td>23.15924</td>\n",
       "      <td>0.964835</td>\n",
       "      <td>37.05</td>\n",
       "      <td>NaN</td>\n",
       "    </tr>\n",
       "    <tr>\n",
       "      <th>3</th>\n",
       "      <td>-110.0472</td>\n",
       "      <td>37.60413</td>\n",
       "      <td>1980</td>\n",
       "      <td>historical</td>\n",
       "      <td>2.69</td>\n",
       "      <td>2.69</td>\n",
       "      <td>13.79</td>\n",
       "      <td>23.15924</td>\n",
       "      <td>0.964835</td>\n",
       "      <td>37.05</td>\n",
       "      <td>NaN</td>\n",
       "    </tr>\n",
       "    <tr>\n",
       "      <th>4</th>\n",
       "      <td>-110.0472</td>\n",
       "      <td>37.60413</td>\n",
       "      <td>1980</td>\n",
       "      <td>historical</td>\n",
       "      <td>NaN</td>\n",
       "      <td>NaN</td>\n",
       "      <td>NaN</td>\n",
       "      <td>NaN</td>\n",
       "      <td>NaN</td>\n",
       "      <td>NaN</td>\n",
       "      <td>-12.45</td>\n",
       "    </tr>\n",
       "  </tbody>\n",
       "</table>\n",
       "</div>"
      ],
      "text/plain": [
       "       long       lat  year         rcp  ppt_annual  ppt_summer  ppt_winter  \\\n",
       "0 -110.0472  37.60413  1980  historical       13.79        2.69       13.79   \n",
       "1 -110.0472  37.60413  1980  historical        2.69        2.69       13.79   \n",
       "2 -110.0472  37.60413  1980  historical       13.79        2.69       13.79   \n",
       "3 -110.0472  37.60413  1980  historical        2.69        2.69       13.79   \n",
       "4 -110.0472  37.60413  1980  historical         NaN         NaN         NaN   \n",
       "\n",
       "   t_summer  t_winter  tmax_summer  tmin_winter  \n",
       "0  23.15924  0.964835        37.05          NaN  \n",
       "1  23.15924  0.964835        37.05          NaN  \n",
       "2  23.15924  0.964835        37.05          NaN  \n",
       "3  23.15924  0.964835        37.05          NaN  \n",
       "4       NaN       NaN          NaN       -12.45  "
      ]
     },
     "execution_count": 20,
     "metadata": {},
     "output_type": "execute_result"
    }
   ],
   "source": [
    "# load the data\n",
    "summer_winter = pd.read_csv('./data/cleaned_data/summer_winter_data.csv')\n",
    "summer_winter.head()"
   ]
  },
  {
   "cell_type": "code",
   "execution_count": 87,
   "metadata": {},
   "outputs": [
    {
     "data": {
      "text/plain": [
       "Index(['long', 'lat', 'year', 'timeperiod', 'rcp', 'scenario', 'treecanopy',\n",
       "       'ann_herb', 'bare', 'herb', 'litter', 'shrub',\n",
       "       'drysoildays_summer_whole', 'evap_summer',\n",
       "       'extremeshorttermdrystress_summer_whole', 'frostdays_winter',\n",
       "       'nondryswa_summer_whole', 'ppt_winter', 'ppt_summer', 'ppt_annual',\n",
       "       't_winter', 't_summer', 't_annual', 'tmax_summer', 'tmin_winter',\n",
       "       'vwc_winter_whole', 'vwc_spring_whole', 'vwc_summer_whole',\n",
       "       'vwc_fall_whole'],\n",
       "      dtype='object')"
      ]
     },
     "execution_count": 87,
     "metadata": {},
     "output_type": "execute_result"
    }
   ],
   "source": [
    "df.columns"
   ]
  }
 ],
 "metadata": {
  "kernelspec": {
   "display_name": "Python 3",
   "language": "python",
   "name": "python3"
  },
  "language_info": {
   "codemirror_mode": {
    "name": "ipython",
    "version": 3
   },
   "file_extension": ".py",
   "mimetype": "text/x-python",
   "name": "python",
   "nbconvert_exporter": "python",
   "pygments_lexer": "ipython3",
   "version": "3.11.8"
  }
 },
 "nbformat": 4,
 "nbformat_minor": 2
}
