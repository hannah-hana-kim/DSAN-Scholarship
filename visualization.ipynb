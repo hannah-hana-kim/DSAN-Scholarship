{
 "cells": [
  {
   "cell_type": "raw",
   "metadata": {
    "vscode": {
     "languageId": "raw"
    }
   },
   "source": [
    "---\n",
    "title: Data Cleaning and Visualization\n",
    "author: Hannah Kim\n",
    "format: \n",
    "    html:\n",
    "        embed-resources: true\n",
    "---"
   ]
  },
  {
   "cell_type": "markdown",
   "metadata": {},
   "source": [
    "## Data Cleaning\n",
    "\n",
    "### The entire dataset"
   ]
  },
  {
   "cell_type": "code",
   "execution_count": 78,
   "metadata": {},
   "outputs": [],
   "source": [
    "# import necessary libraries\n",
    "import numpy as np\n",
    "import pandas as pd\n",
    "import matplotlib.pyplot as plt\n",
    "import seaborn as sns\n",
    "import folium\n",
    "from folium.plugins import HeatMap\n",
    "from folium.plugins import HeatMapWithTime, DualMap, TimeSliderChoropleth\n",
    "from IPython.display import HTML, Javascript, IFrame\n",
    "import branca\n",
    "import plotly.express as px\n",
    "import plotly.graph_objects as go\n",
    "from sklearn.preprocessing import MinMaxScaler\n",
    "import warnings \n",
    "warnings.filterwarnings('ignore')"
   ]
  },
  {
   "cell_type": "code",
   "execution_count": 79,
   "metadata": {},
   "outputs": [],
   "source": [
    "# load the entire dataset\n",
    "nabr = pd.read_csv('./data/NABR_historic.csv')\n",
    "nearterm = pd.read_csv('./data/nearterm_data_2020-2024.csv')"
   ]
  },
  {
   "cell_type": "code",
   "execution_count": 80,
   "metadata": {},
   "outputs": [],
   "source": [
    "# lowercase column names\n",
    "nabr.columns = nabr.columns.str.lower()\n",
    "nearterm.columns = nearterm.columns.str.lower()\n",
    "\n",
    "# merge the two datasets\n",
    "df = pd.concat([nabr, nearterm], axis=0)\n",
    "\n",
    "# save the cleaned data to a csv file\n",
    "df.to_csv('./data/cleaned_data/final_data.csv', index=False)"
   ]
  },
  {
   "cell_type": "code",
   "execution_count": 81,
   "metadata": {},
   "outputs": [
    {
     "data": {
      "text/plain": [
       "Index(['long', 'lat', 'year', 'timeperiod', 'rcp', 'scenario', 'treecanopy',\n",
       "       'ann_herb', 'bare', 'herb', 'litter', 'shrub',\n",
       "       'drysoildays_summer_whole', 'evap_summer',\n",
       "       'extremeshorttermdrystress_summer_whole', 'frostdays_winter',\n",
       "       'nondryswa_summer_whole', 'ppt_winter', 'ppt_summer', 'ppt_annual',\n",
       "       't_winter', 't_summer', 't_annual', 'tmax_summer', 'tmin_winter',\n",
       "       'vwc_winter_whole', 'vwc_spring_whole', 'vwc_summer_whole',\n",
       "       'vwc_fall_whole'],\n",
       "      dtype='object')"
      ]
     },
     "execution_count": 81,
     "metadata": {},
     "output_type": "execute_result"
    }
   ],
   "source": [
    "df.columns"
   ]
  },
  {
   "cell_type": "markdown",
   "metadata": {},
   "source": [
    "### Greenery area dataset"
   ]
  },
  {
   "cell_type": "code",
   "execution_count": 82,
   "metadata": {},
   "outputs": [],
   "source": [
    "# Greenery data\n",
    "# extract the relevant data\n",
    "greenery_columns = ['long', 'lat', 'year', 'rcp', 'treecanopy', 'bare', 'herb', 'ann_herb', 'litter', 'shrub']\n",
    "greenery = df[greenery_columns]\n",
    "\n",
    "# calculate the total greenery\n",
    "greenery['total'] = greenery['treecanopy'] + greenery['herb'] + greenery['ann_herb'] + greenery['shrub'] + greenery['litter'] - greenery['bare'] \n",
    "\n",
    "# save the data to csv file\n",
    "greenery.to_csv('./data/cleaned_data/greenery_data.csv', index=False)"
   ]
  },
  {
   "cell_type": "markdown",
   "metadata": {},
   "source": [
    "### Plant litter dataset"
   ]
  },
  {
   "cell_type": "code",
   "execution_count": 83,
   "metadata": {},
   "outputs": [
    {
     "data": {
      "text/html": [
       "<div>\n",
       "<style scoped>\n",
       "    .dataframe tbody tr th:only-of-type {\n",
       "        vertical-align: middle;\n",
       "    }\n",
       "\n",
       "    .dataframe tbody tr th {\n",
       "        vertical-align: top;\n",
       "    }\n",
       "\n",
       "    .dataframe thead th {\n",
       "        text-align: right;\n",
       "    }\n",
       "</style>\n",
       "<table border=\"1\" class=\"dataframe\">\n",
       "  <thead>\n",
       "    <tr style=\"text-align: right;\">\n",
       "      <th></th>\n",
       "      <th>long</th>\n",
       "      <th>lat</th>\n",
       "      <th>year</th>\n",
       "      <th>rcp</th>\n",
       "      <th>litter</th>\n",
       "      <th>t_winter</th>\n",
       "      <th>t_summer</th>\n",
       "      <th>t_annual</th>\n",
       "    </tr>\n",
       "  </thead>\n",
       "  <tbody>\n",
       "    <tr>\n",
       "      <th>0</th>\n",
       "      <td>-110.0472</td>\n",
       "      <td>37.60413</td>\n",
       "      <td>1980</td>\n",
       "      <td>historical</td>\n",
       "      <td>11</td>\n",
       "      <td>0.964835</td>\n",
       "      <td>23.15924</td>\n",
       "      <td>23.159240</td>\n",
       "    </tr>\n",
       "    <tr>\n",
       "      <th>1</th>\n",
       "      <td>-110.0472</td>\n",
       "      <td>37.60413</td>\n",
       "      <td>1980</td>\n",
       "      <td>historical</td>\n",
       "      <td>11</td>\n",
       "      <td>0.964835</td>\n",
       "      <td>23.15924</td>\n",
       "      <td>0.964835</td>\n",
       "    </tr>\n",
       "    <tr>\n",
       "      <th>5</th>\n",
       "      <td>-110.0472</td>\n",
       "      <td>37.60413</td>\n",
       "      <td>1981</td>\n",
       "      <td>historical</td>\n",
       "      <td>11</td>\n",
       "      <td>3.334444</td>\n",
       "      <td>23.27065</td>\n",
       "      <td>11.581320</td>\n",
       "    </tr>\n",
       "    <tr>\n",
       "      <th>7</th>\n",
       "      <td>-110.0472</td>\n",
       "      <td>37.60413</td>\n",
       "      <td>1982</td>\n",
       "      <td>historical</td>\n",
       "      <td>11</td>\n",
       "      <td>-0.015556</td>\n",
       "      <td>22.05707</td>\n",
       "      <td>9.472283</td>\n",
       "    </tr>\n",
       "    <tr>\n",
       "      <th>11</th>\n",
       "      <td>-110.0472</td>\n",
       "      <td>37.60413</td>\n",
       "      <td>1984</td>\n",
       "      <td>historical</td>\n",
       "      <td>11</td>\n",
       "      <td>-1.047253</td>\n",
       "      <td>21.95978</td>\n",
       "      <td>21.959780</td>\n",
       "    </tr>\n",
       "    <tr>\n",
       "      <th>...</th>\n",
       "      <td>...</td>\n",
       "      <td>...</td>\n",
       "      <td>...</td>\n",
       "      <td>...</td>\n",
       "      <td>...</td>\n",
       "      <td>...</td>\n",
       "      <td>...</td>\n",
       "      <td>...</td>\n",
       "    </tr>\n",
       "    <tr>\n",
       "      <th>55632</th>\n",
       "      <td>-109.9659</td>\n",
       "      <td>37.62525</td>\n",
       "      <td>2024</td>\n",
       "      <td>8.5</td>\n",
       "      <td>19</td>\n",
       "      <td>3.372912</td>\n",
       "      <td>23.75413</td>\n",
       "      <td>3.372912</td>\n",
       "    </tr>\n",
       "    <tr>\n",
       "      <th>55636</th>\n",
       "      <td>-109.9659</td>\n",
       "      <td>37.62525</td>\n",
       "      <td>2024</td>\n",
       "      <td>8.5</td>\n",
       "      <td>19</td>\n",
       "      <td>1.209121</td>\n",
       "      <td>23.48859</td>\n",
       "      <td>1.209121</td>\n",
       "    </tr>\n",
       "    <tr>\n",
       "      <th>55637</th>\n",
       "      <td>-109.9659</td>\n",
       "      <td>37.62525</td>\n",
       "      <td>2024</td>\n",
       "      <td>8.5</td>\n",
       "      <td>19</td>\n",
       "      <td>1.209121</td>\n",
       "      <td>23.48859</td>\n",
       "      <td>10.273350</td>\n",
       "    </tr>\n",
       "    <tr>\n",
       "      <th>55640</th>\n",
       "      <td>-109.9659</td>\n",
       "      <td>37.62525</td>\n",
       "      <td>2024</td>\n",
       "      <td>8.5</td>\n",
       "      <td>19</td>\n",
       "      <td>1.549945</td>\n",
       "      <td>23.86120</td>\n",
       "      <td>1.549945</td>\n",
       "    </tr>\n",
       "    <tr>\n",
       "      <th>55641</th>\n",
       "      <td>-109.9659</td>\n",
       "      <td>37.62525</td>\n",
       "      <td>2024</td>\n",
       "      <td>8.5</td>\n",
       "      <td>19</td>\n",
       "      <td>4.972473</td>\n",
       "      <td>24.35728</td>\n",
       "      <td>24.357280</td>\n",
       "    </tr>\n",
       "  </tbody>\n",
       "</table>\n",
       "<p>22554 rows × 8 columns</p>\n",
       "</div>"
      ],
      "text/plain": [
       "           long       lat  year         rcp  litter  t_winter  t_summer  \\\n",
       "0     -110.0472  37.60413  1980  historical      11  0.964835  23.15924   \n",
       "1     -110.0472  37.60413  1980  historical      11  0.964835  23.15924   \n",
       "5     -110.0472  37.60413  1981  historical      11  3.334444  23.27065   \n",
       "7     -110.0472  37.60413  1982  historical      11 -0.015556  22.05707   \n",
       "11    -110.0472  37.60413  1984  historical      11 -1.047253  21.95978   \n",
       "...         ...       ...   ...         ...     ...       ...       ...   \n",
       "55632 -109.9659  37.62525  2024         8.5      19  3.372912  23.75413   \n",
       "55636 -109.9659  37.62525  2024         8.5      19  1.209121  23.48859   \n",
       "55637 -109.9659  37.62525  2024         8.5      19  1.209121  23.48859   \n",
       "55640 -109.9659  37.62525  2024         8.5      19  1.549945  23.86120   \n",
       "55641 -109.9659  37.62525  2024         8.5      19  4.972473  24.35728   \n",
       "\n",
       "        t_annual  \n",
       "0      23.159240  \n",
       "1       0.964835  \n",
       "5      11.581320  \n",
       "7       9.472283  \n",
       "11     21.959780  \n",
       "...          ...  \n",
       "55632   3.372912  \n",
       "55636   1.209121  \n",
       "55637  10.273350  \n",
       "55640   1.549945  \n",
       "55641  24.357280  \n",
       "\n",
       "[22554 rows x 8 columns]"
      ]
     },
     "execution_count": 83,
     "metadata": {},
     "output_type": "execute_result"
    }
   ],
   "source": [
    "# Plant litter dataset\n",
    "# extract the relevant data\n",
    "litter_columns = ['long', 'lat', 'year', 'rcp', 'litter', 't_winter', 't_summer', 't_annual']\n",
    "litter = df[litter_columns]\n",
    "litter = litter.drop_duplicates(subset=litter_columns)\n",
    "\n",
    "# # fill the null values with the mean\n",
    "# litter.loc[:, 't_winter'] = litter['t_winter'].fillna(litter['t_winter'].mean())\n",
    "# litter.loc[:, 't_summer'] = litter['t_summer'].fillna(litter['t_summer'].mean())\n",
    "# litter.loc[:, 't_annual'] = litter['t_annual'].fillna(litter['t_annual'].mean())\n",
    "\n",
    "# drop the null values\n",
    "litter = litter.dropna()\n",
    "\n",
    "# save the data to csv file\n",
    "litter.to_csv('./data/cleaned_data/litter_data.csv', index=False)\n",
    "\n",
    "litter"
   ]
  },
  {
   "cell_type": "markdown",
   "metadata": {},
   "source": [
    "### VWC dataset"
   ]
  },
  {
   "cell_type": "code",
   "execution_count": 84,
   "metadata": {},
   "outputs": [],
   "source": [
    "# VWC data\n",
    "# extract the relevant data\n",
    "vwc_columns = ['long', 'lat', 'year', 'rcp', 'evap_summer', 'vwc_winter_whole', 'vwc_spring_whole', 'vwc_summer_whole', 'vwc_fall_whole']\n",
    "vwc = df[vwc_columns]\n",
    "\n",
    "# deal with NaN values\n",
    "# fill the null values with the mean of the column\n",
    "null_columns = ['vwc_winter_whole', 'vwc_spring_whole', 'vwc_summer_whole', 'vwc_fall_whole']\n",
    "vwc.loc[:, null_columns] = vwc[null_columns].fillna(vwc[null_columns].mean())\n",
    "\n",
    "# save it to a new csv file\n",
    "vwc.to_csv('./data/cleaned_data/vwc_data.csv', index=False)"
   ]
  },
  {
   "cell_type": "markdown",
   "metadata": {},
   "source": [
    "### Summer dataset"
   ]
  },
  {
   "cell_type": "code",
   "execution_count": 85,
   "metadata": {},
   "outputs": [],
   "source": [
    "# summer related data\n",
    "# extract the relevant data\n",
    "summer_columns = ['long', 'lat', 'year', 'rcp', 'drysoildays_summer_whole', 'evap_summer', 'nondryswa_summer_whole', 'ppt_summer', 'tmax_summer', 'vwc_summer_whole']\n",
    "summer = df[summer_columns]\n",
    "\n",
    "# fill missing values with the mean\n",
    "summer.loc[:, 'drysoildays_summer_whole'] = summer['drysoildays_summer_whole'].fillna(summer['drysoildays_summer_whole'].mean())\n",
    "summer.loc[:, 'evap_summer'] = summer['evap_summer'].fillna(summer['evap_summer'].mean())\n",
    "summer.loc[:, 'nondryswa_summer_whole'] = summer['nondryswa_summer_whole'].fillna(summer['nondryswa_summer_whole'].mean())\n",
    "summer.loc[:, 'ppt_summer'] = summer['ppt_summer'].fillna(summer['ppt_summer'].mean())\n",
    "summer.loc[:, 'tmax_summer'] = summer['tmax_summer'].fillna(summer['tmax_summer'].mean())\n",
    "\n",
    "# round the columns\n",
    "summer = summer.round({'drysoildays_summer_whole': 3, 'evap_summer': 3, 'nondryswa_summer_whole': 3, 'ppt_summer': 3, 'tmax_summer': 3})\n",
    "\n",
    "# save the data to csv file\n",
    "summer.to_csv('./data/cleaned_data/summer_data.csv', index=False)"
   ]
  },
  {
   "cell_type": "markdown",
   "metadata": {},
   "source": [
    "### Summer vs. Winter dataset"
   ]
  },
  {
   "cell_type": "code",
   "execution_count": 86,
   "metadata": {},
   "outputs": [],
   "source": [
    "# summer vs. winter data\n",
    "# extract the relevant data\n",
    "summer_winter_columns = ['long', 'lat', 'year', 'rcp', 'ppt_annual', 'ppt_summer', 'ppt_winter', 't_summer', 't_winter', 'tmax_summer', 'tmin_winter']\n",
    "summer_winter = df[summer_winter_columns]\n",
    "\n",
    "# save the data to csv file\n",
    "summer_winter.to_csv('./data/cleaned_data/summer_winter_data.csv', index=False)"
   ]
  },
  {
   "cell_type": "markdown",
   "metadata": {},
   "source": [
    "## Visualization\n",
    "\n",
    "### Greenery area dataset"
   ]
  },
  {
   "cell_type": "code",
   "execution_count": 87,
   "metadata": {},
   "outputs": [
    {
     "data": {
      "text/html": [
       "<div>\n",
       "<style scoped>\n",
       "    .dataframe tbody tr th:only-of-type {\n",
       "        vertical-align: middle;\n",
       "    }\n",
       "\n",
       "    .dataframe tbody tr th {\n",
       "        vertical-align: top;\n",
       "    }\n",
       "\n",
       "    .dataframe thead th {\n",
       "        text-align: right;\n",
       "    }\n",
       "</style>\n",
       "<table border=\"1\" class=\"dataframe\">\n",
       "  <thead>\n",
       "    <tr style=\"text-align: right;\">\n",
       "      <th></th>\n",
       "      <th>long</th>\n",
       "      <th>lat</th>\n",
       "      <th>year</th>\n",
       "      <th>rcp</th>\n",
       "      <th>treecanopy</th>\n",
       "      <th>bare</th>\n",
       "      <th>herb</th>\n",
       "      <th>ann_herb</th>\n",
       "      <th>litter</th>\n",
       "      <th>shrub</th>\n",
       "      <th>total</th>\n",
       "    </tr>\n",
       "  </thead>\n",
       "  <tbody>\n",
       "    <tr>\n",
       "      <th>0</th>\n",
       "      <td>-110.0472</td>\n",
       "      <td>37.60413</td>\n",
       "      <td>1980</td>\n",
       "      <td>historical</td>\n",
       "      <td>0</td>\n",
       "      <td>84</td>\n",
       "      <td>5</td>\n",
       "      <td>0</td>\n",
       "      <td>11</td>\n",
       "      <td>7</td>\n",
       "      <td>-61</td>\n",
       "    </tr>\n",
       "    <tr>\n",
       "      <th>1</th>\n",
       "      <td>-110.0472</td>\n",
       "      <td>37.60413</td>\n",
       "      <td>1980</td>\n",
       "      <td>historical</td>\n",
       "      <td>0</td>\n",
       "      <td>84</td>\n",
       "      <td>5</td>\n",
       "      <td>0</td>\n",
       "      <td>11</td>\n",
       "      <td>7</td>\n",
       "      <td>-61</td>\n",
       "    </tr>\n",
       "    <tr>\n",
       "      <th>2</th>\n",
       "      <td>-110.0472</td>\n",
       "      <td>37.60413</td>\n",
       "      <td>1980</td>\n",
       "      <td>historical</td>\n",
       "      <td>0</td>\n",
       "      <td>84</td>\n",
       "      <td>5</td>\n",
       "      <td>0</td>\n",
       "      <td>11</td>\n",
       "      <td>7</td>\n",
       "      <td>-61</td>\n",
       "    </tr>\n",
       "    <tr>\n",
       "      <th>3</th>\n",
       "      <td>-110.0472</td>\n",
       "      <td>37.60413</td>\n",
       "      <td>1980</td>\n",
       "      <td>historical</td>\n",
       "      <td>0</td>\n",
       "      <td>84</td>\n",
       "      <td>5</td>\n",
       "      <td>0</td>\n",
       "      <td>11</td>\n",
       "      <td>7</td>\n",
       "      <td>-61</td>\n",
       "    </tr>\n",
       "    <tr>\n",
       "      <th>4</th>\n",
       "      <td>-110.0472</td>\n",
       "      <td>37.60413</td>\n",
       "      <td>1980</td>\n",
       "      <td>historical</td>\n",
       "      <td>0</td>\n",
       "      <td>84</td>\n",
       "      <td>5</td>\n",
       "      <td>0</td>\n",
       "      <td>11</td>\n",
       "      <td>7</td>\n",
       "      <td>-61</td>\n",
       "    </tr>\n",
       "    <tr>\n",
       "      <th>...</th>\n",
       "      <td>...</td>\n",
       "      <td>...</td>\n",
       "      <td>...</td>\n",
       "      <td>...</td>\n",
       "      <td>...</td>\n",
       "      <td>...</td>\n",
       "      <td>...</td>\n",
       "      <td>...</td>\n",
       "      <td>...</td>\n",
       "      <td>...</td>\n",
       "      <td>...</td>\n",
       "    </tr>\n",
       "    <tr>\n",
       "      <th>69618</th>\n",
       "      <td>-109.9659</td>\n",
       "      <td>37.62525</td>\n",
       "      <td>2024</td>\n",
       "      <td>8.5</td>\n",
       "      <td>18</td>\n",
       "      <td>37</td>\n",
       "      <td>18</td>\n",
       "      <td>0</td>\n",
       "      <td>19</td>\n",
       "      <td>22</td>\n",
       "      <td>40</td>\n",
       "    </tr>\n",
       "    <tr>\n",
       "      <th>69619</th>\n",
       "      <td>-109.9659</td>\n",
       "      <td>37.62525</td>\n",
       "      <td>2024</td>\n",
       "      <td>8.5</td>\n",
       "      <td>18</td>\n",
       "      <td>37</td>\n",
       "      <td>18</td>\n",
       "      <td>0</td>\n",
       "      <td>19</td>\n",
       "      <td>22</td>\n",
       "      <td>40</td>\n",
       "    </tr>\n",
       "    <tr>\n",
       "      <th>69620</th>\n",
       "      <td>-109.9659</td>\n",
       "      <td>37.62525</td>\n",
       "      <td>2024</td>\n",
       "      <td>8.5</td>\n",
       "      <td>18</td>\n",
       "      <td>37</td>\n",
       "      <td>18</td>\n",
       "      <td>0</td>\n",
       "      <td>19</td>\n",
       "      <td>22</td>\n",
       "      <td>40</td>\n",
       "    </tr>\n",
       "    <tr>\n",
       "      <th>69621</th>\n",
       "      <td>-109.9659</td>\n",
       "      <td>37.62525</td>\n",
       "      <td>2024</td>\n",
       "      <td>8.5</td>\n",
       "      <td>18</td>\n",
       "      <td>37</td>\n",
       "      <td>18</td>\n",
       "      <td>0</td>\n",
       "      <td>19</td>\n",
       "      <td>22</td>\n",
       "      <td>40</td>\n",
       "    </tr>\n",
       "    <tr>\n",
       "      <th>69622</th>\n",
       "      <td>-109.9659</td>\n",
       "      <td>37.62525</td>\n",
       "      <td>2024</td>\n",
       "      <td>8.5</td>\n",
       "      <td>18</td>\n",
       "      <td>37</td>\n",
       "      <td>18</td>\n",
       "      <td>0</td>\n",
       "      <td>19</td>\n",
       "      <td>22</td>\n",
       "      <td>40</td>\n",
       "    </tr>\n",
       "  </tbody>\n",
       "</table>\n",
       "<p>69623 rows × 11 columns</p>\n",
       "</div>"
      ],
      "text/plain": [
       "           long       lat  year         rcp  treecanopy  bare  herb  ann_herb  \\\n",
       "0     -110.0472  37.60413  1980  historical           0    84     5         0   \n",
       "1     -110.0472  37.60413  1980  historical           0    84     5         0   \n",
       "2     -110.0472  37.60413  1980  historical           0    84     5         0   \n",
       "3     -110.0472  37.60413  1980  historical           0    84     5         0   \n",
       "4     -110.0472  37.60413  1980  historical           0    84     5         0   \n",
       "...         ...       ...   ...         ...         ...   ...   ...       ...   \n",
       "69618 -109.9659  37.62525  2024         8.5          18    37    18         0   \n",
       "69619 -109.9659  37.62525  2024         8.5          18    37    18         0   \n",
       "69620 -109.9659  37.62525  2024         8.5          18    37    18         0   \n",
       "69621 -109.9659  37.62525  2024         8.5          18    37    18         0   \n",
       "69622 -109.9659  37.62525  2024         8.5          18    37    18         0   \n",
       "\n",
       "       litter  shrub  total  \n",
       "0          11      7    -61  \n",
       "1          11      7    -61  \n",
       "2          11      7    -61  \n",
       "3          11      7    -61  \n",
       "4          11      7    -61  \n",
       "...       ...    ...    ...  \n",
       "69618      19     22     40  \n",
       "69619      19     22     40  \n",
       "69620      19     22     40  \n",
       "69621      19     22     40  \n",
       "69622      19     22     40  \n",
       "\n",
       "[69623 rows x 11 columns]"
      ]
     },
     "execution_count": 87,
     "metadata": {},
     "output_type": "execute_result"
    }
   ],
   "source": [
    "# load the data\n",
    "greenery = pd.read_csv('./data/cleaned_data/greenery_data.csv')\n",
    "greenery"
   ]
  },
  {
   "cell_type": "code",
   "execution_count": 88,
   "metadata": {},
   "outputs": [
    {
     "data": {
      "text/html": [
       "<div>\n",
       "<style scoped>\n",
       "    .dataframe tbody tr th:only-of-type {\n",
       "        vertical-align: middle;\n",
       "    }\n",
       "\n",
       "    .dataframe tbody tr th {\n",
       "        vertical-align: top;\n",
       "    }\n",
       "\n",
       "    .dataframe thead th {\n",
       "        text-align: right;\n",
       "    }\n",
       "</style>\n",
       "<table border=\"1\" class=\"dataframe\">\n",
       "  <thead>\n",
       "    <tr style=\"text-align: right;\">\n",
       "      <th></th>\n",
       "      <th>long</th>\n",
       "      <th>lat</th>\n",
       "      <th>total</th>\n",
       "    </tr>\n",
       "  </thead>\n",
       "  <tbody>\n",
       "    <tr>\n",
       "      <th>0</th>\n",
       "      <td>-110.0472</td>\n",
       "      <td>37.60413</td>\n",
       "      <td>-61.0</td>\n",
       "    </tr>\n",
       "    <tr>\n",
       "      <th>1</th>\n",
       "      <td>-110.0461</td>\n",
       "      <td>37.60334</td>\n",
       "      <td>-48.0</td>\n",
       "    </tr>\n",
       "    <tr>\n",
       "      <th>2</th>\n",
       "      <td>-110.0458</td>\n",
       "      <td>37.60308</td>\n",
       "      <td>-29.0</td>\n",
       "    </tr>\n",
       "    <tr>\n",
       "      <th>3</th>\n",
       "      <td>-110.0393</td>\n",
       "      <td>37.60519</td>\n",
       "      <td>-15.0</td>\n",
       "    </tr>\n",
       "    <tr>\n",
       "      <th>4</th>\n",
       "      <td>-110.0389</td>\n",
       "      <td>37.60545</td>\n",
       "      <td>-25.0</td>\n",
       "    </tr>\n",
       "    <tr>\n",
       "      <th>...</th>\n",
       "      <td>...</td>\n",
       "      <td>...</td>\n",
       "      <td>...</td>\n",
       "    </tr>\n",
       "    <tr>\n",
       "      <th>108</th>\n",
       "      <td>-109.9673</td>\n",
       "      <td>37.62868</td>\n",
       "      <td>-30.0</td>\n",
       "    </tr>\n",
       "    <tr>\n",
       "      <th>109</th>\n",
       "      <td>-109.9669</td>\n",
       "      <td>37.62446</td>\n",
       "      <td>-91.0</td>\n",
       "    </tr>\n",
       "    <tr>\n",
       "      <th>110</th>\n",
       "      <td>-109.9662</td>\n",
       "      <td>37.60783</td>\n",
       "      <td>-4.0</td>\n",
       "    </tr>\n",
       "    <tr>\n",
       "      <th>111</th>\n",
       "      <td>-109.9662</td>\n",
       "      <td>37.63159</td>\n",
       "      <td>50.0</td>\n",
       "    </tr>\n",
       "    <tr>\n",
       "      <th>112</th>\n",
       "      <td>-109.9659</td>\n",
       "      <td>37.62525</td>\n",
       "      <td>40.0</td>\n",
       "    </tr>\n",
       "  </tbody>\n",
       "</table>\n",
       "<p>113 rows × 3 columns</p>\n",
       "</div>"
      ],
      "text/plain": [
       "         long       lat  total\n",
       "0   -110.0472  37.60413  -61.0\n",
       "1   -110.0461  37.60334  -48.0\n",
       "2   -110.0458  37.60308  -29.0\n",
       "3   -110.0393  37.60519  -15.0\n",
       "4   -110.0389  37.60545  -25.0\n",
       "..        ...       ...    ...\n",
       "108 -109.9673  37.62868  -30.0\n",
       "109 -109.9669  37.62446  -91.0\n",
       "110 -109.9662  37.60783   -4.0\n",
       "111 -109.9662  37.63159   50.0\n",
       "112 -109.9659  37.62525   40.0\n",
       "\n",
       "[113 rows x 3 columns]"
      ]
     },
     "execution_count": 88,
     "metadata": {},
     "output_type": "execute_result"
    }
   ],
   "source": [
    "greenery1 = greenery.groupby(['long', 'lat'])['total'].mean().reset_index()\n",
    "greenery1"
   ]
  },
  {
   "cell_type": "code",
   "execution_count": 89,
   "metadata": {},
   "outputs": [
    {
     "data": {
      "text/html": [
       "<div>\n",
       "<style scoped>\n",
       "    .dataframe tbody tr th:only-of-type {\n",
       "        vertical-align: middle;\n",
       "    }\n",
       "\n",
       "    .dataframe tbody tr th {\n",
       "        vertical-align: top;\n",
       "    }\n",
       "\n",
       "    .dataframe thead th {\n",
       "        text-align: right;\n",
       "    }\n",
       "</style>\n",
       "<table border=\"1\" class=\"dataframe\">\n",
       "  <thead>\n",
       "    <tr style=\"text-align: right;\">\n",
       "      <th></th>\n",
       "      <th>long</th>\n",
       "      <th>lat</th>\n",
       "      <th>year</th>\n",
       "      <th>total</th>\n",
       "    </tr>\n",
       "  </thead>\n",
       "  <tbody>\n",
       "    <tr>\n",
       "      <th>0</th>\n",
       "      <td>-110.0472</td>\n",
       "      <td>37.60413</td>\n",
       "      <td>1980</td>\n",
       "      <td>-61.0</td>\n",
       "    </tr>\n",
       "    <tr>\n",
       "      <th>1</th>\n",
       "      <td>-110.0472</td>\n",
       "      <td>37.60413</td>\n",
       "      <td>1981</td>\n",
       "      <td>-61.0</td>\n",
       "    </tr>\n",
       "    <tr>\n",
       "      <th>2</th>\n",
       "      <td>-110.0472</td>\n",
       "      <td>37.60413</td>\n",
       "      <td>1982</td>\n",
       "      <td>-61.0</td>\n",
       "    </tr>\n",
       "    <tr>\n",
       "      <th>3</th>\n",
       "      <td>-110.0472</td>\n",
       "      <td>37.60413</td>\n",
       "      <td>1983</td>\n",
       "      <td>-61.0</td>\n",
       "    </tr>\n",
       "    <tr>\n",
       "      <th>4</th>\n",
       "      <td>-110.0472</td>\n",
       "      <td>37.60413</td>\n",
       "      <td>1984</td>\n",
       "      <td>-61.0</td>\n",
       "    </tr>\n",
       "    <tr>\n",
       "      <th>...</th>\n",
       "      <td>...</td>\n",
       "      <td>...</td>\n",
       "      <td>...</td>\n",
       "      <td>...</td>\n",
       "    </tr>\n",
       "    <tr>\n",
       "      <th>4854</th>\n",
       "      <td>-109.9659</td>\n",
       "      <td>37.62525</td>\n",
       "      <td>2018</td>\n",
       "      <td>40.0</td>\n",
       "    </tr>\n",
       "    <tr>\n",
       "      <th>4855</th>\n",
       "      <td>-109.9659</td>\n",
       "      <td>37.62525</td>\n",
       "      <td>2021</td>\n",
       "      <td>40.0</td>\n",
       "    </tr>\n",
       "    <tr>\n",
       "      <th>4856</th>\n",
       "      <td>-109.9659</td>\n",
       "      <td>37.62525</td>\n",
       "      <td>2022</td>\n",
       "      <td>40.0</td>\n",
       "    </tr>\n",
       "    <tr>\n",
       "      <th>4857</th>\n",
       "      <td>-109.9659</td>\n",
       "      <td>37.62525</td>\n",
       "      <td>2023</td>\n",
       "      <td>40.0</td>\n",
       "    </tr>\n",
       "    <tr>\n",
       "      <th>4858</th>\n",
       "      <td>-109.9659</td>\n",
       "      <td>37.62525</td>\n",
       "      <td>2024</td>\n",
       "      <td>40.0</td>\n",
       "    </tr>\n",
       "  </tbody>\n",
       "</table>\n",
       "<p>4859 rows × 4 columns</p>\n",
       "</div>"
      ],
      "text/plain": [
       "          long       lat  year  total\n",
       "0    -110.0472  37.60413  1980  -61.0\n",
       "1    -110.0472  37.60413  1981  -61.0\n",
       "2    -110.0472  37.60413  1982  -61.0\n",
       "3    -110.0472  37.60413  1983  -61.0\n",
       "4    -110.0472  37.60413  1984  -61.0\n",
       "...        ...       ...   ...    ...\n",
       "4854 -109.9659  37.62525  2018   40.0\n",
       "4855 -109.9659  37.62525  2021   40.0\n",
       "4856 -109.9659  37.62525  2022   40.0\n",
       "4857 -109.9659  37.62525  2023   40.0\n",
       "4858 -109.9659  37.62525  2024   40.0\n",
       "\n",
       "[4859 rows x 4 columns]"
      ]
     },
     "execution_count": 89,
     "metadata": {},
     "output_type": "execute_result"
    }
   ],
   "source": [
    "# further data processing\n",
    "greenery_total = greenery.groupby(['long', 'lat', 'year'])['total'].mean().reset_index()\n",
    "greenery_total"
   ]
  },
  {
   "cell_type": "code",
   "execution_count": 90,
   "metadata": {},
   "outputs": [],
   "source": [
    "# filter out the data\n",
    "data_1980 = greenery_total[greenery_total['year'] == 1980]\n",
    "data_2020 = greenery_total[greenery_total['year'] == 2020]\n",
    "data_2024 = greenery_total[greenery_total['year'] == 2024]\n"
   ]
  },
  {
   "cell_type": "code",
   "execution_count": 91,
   "metadata": {},
   "outputs": [],
   "source": [
    "# create a folium heatmap of the 1980 data\n",
    "map_center = [greenery_total['lat'].mean(), greenery_total['long'].mean()]\n",
    "map_width = 800  \n",
    "map_height = 600 \n",
    "mymap_1980 = folium.Map(location=map_center, zoom_start=13, width=map_width, height=map_height)\n",
    "\n",
    "heat_data_green = data_1980[['lat', 'long', 'total']].reset_index(drop=True).values.tolist()\n",
    "\n",
    "heat_data_by_year = []\n",
    "for year in range(1980, 2025):\n",
    "    heat_data_year = greenery_total[greenery_total['year'] == year][['lat', 'long', 'total']].reset_index(drop=True).values.tolist()\n",
    "    heat_data_by_year.append(heat_data_year)\n",
    "\n",
    "heat_data_by_year = pd.DataFrame(heat_data_by_year)"
   ]
  },
  {
   "cell_type": "code",
   "execution_count": 92,
   "metadata": {},
   "outputs": [
    {
     "data": {
      "text/html": [
       "<div style=\"width:100%;\"><div style=\"position:relative;width:100%;height:0;padding-bottom:60%;\"><span style=\"color:#565656\">Make this Notebook Trusted to load map: File -> Trust Notebook</span><iframe srcdoc=\"&lt;!DOCTYPE html&gt;\n",
       "&lt;html&gt;\n",
       "&lt;head&gt;\n",
       "    \n",
       "    &lt;meta http-equiv=&quot;content-type&quot; content=&quot;text/html; charset=UTF-8&quot; /&gt;\n",
       "    \n",
       "        &lt;script&gt;\n",
       "            L_NO_TOUCH = false;\n",
       "            L_DISABLE_3D = false;\n",
       "        &lt;/script&gt;\n",
       "    \n",
       "    &lt;style&gt;html, body {width: 100%;height: 100%;margin: 0;padding: 0;}&lt;/style&gt;\n",
       "    &lt;style&gt;#map {position:absolute;top:0;bottom:0;right:0;left:0;}&lt;/style&gt;\n",
       "    &lt;script src=&quot;https://cdn.jsdelivr.net/npm/leaflet@1.9.3/dist/leaflet.js&quot;&gt;&lt;/script&gt;\n",
       "    &lt;script src=&quot;https://code.jquery.com/jquery-3.7.1.min.js&quot;&gt;&lt;/script&gt;\n",
       "    &lt;script src=&quot;https://cdn.jsdelivr.net/npm/bootstrap@5.2.2/dist/js/bootstrap.bundle.min.js&quot;&gt;&lt;/script&gt;\n",
       "    &lt;script src=&quot;https://cdnjs.cloudflare.com/ajax/libs/Leaflet.awesome-markers/2.0.2/leaflet.awesome-markers.js&quot;&gt;&lt;/script&gt;\n",
       "    &lt;link rel=&quot;stylesheet&quot; href=&quot;https://cdn.jsdelivr.net/npm/leaflet@1.9.3/dist/leaflet.css&quot;/&gt;\n",
       "    &lt;link rel=&quot;stylesheet&quot; href=&quot;https://cdn.jsdelivr.net/npm/bootstrap@5.2.2/dist/css/bootstrap.min.css&quot;/&gt;\n",
       "    &lt;link rel=&quot;stylesheet&quot; href=&quot;https://netdna.bootstrapcdn.com/bootstrap/3.0.0/css/bootstrap.min.css&quot;/&gt;\n",
       "    &lt;link rel=&quot;stylesheet&quot; href=&quot;https://cdn.jsdelivr.net/npm/@fortawesome/fontawesome-free@6.2.0/css/all.min.css&quot;/&gt;\n",
       "    &lt;link rel=&quot;stylesheet&quot; href=&quot;https://cdnjs.cloudflare.com/ajax/libs/Leaflet.awesome-markers/2.0.2/leaflet.awesome-markers.css&quot;/&gt;\n",
       "    &lt;link rel=&quot;stylesheet&quot; href=&quot;https://cdn.jsdelivr.net/gh/python-visualization/folium/folium/templates/leaflet.awesome.rotate.min.css&quot;/&gt;\n",
       "    \n",
       "            &lt;meta name=&quot;viewport&quot; content=&quot;width=device-width,\n",
       "                initial-scale=1.0, maximum-scale=1.0, user-scalable=no&quot; /&gt;\n",
       "            &lt;style&gt;\n",
       "                #map_82f73e0bf0e3b57307b57a33166f29b0 {\n",
       "                    position: relative;\n",
       "                    width: 800.0px;\n",
       "                    height: 600.0px;\n",
       "                    left: 0.0%;\n",
       "                    top: 0.0%;\n",
       "                }\n",
       "                .leaflet-container { font-size: 1rem; }\n",
       "            &lt;/style&gt;\n",
       "        \n",
       "    &lt;script src=&quot;https://cdn.jsdelivr.net/npm/iso8601-js-period@0.2.1/iso8601.min.js&quot;&gt;&lt;/script&gt;\n",
       "    &lt;script src=&quot;https://cdn.jsdelivr.net/npm/leaflet-timedimension@1.1.1/dist/leaflet.timedimension.min.js&quot;&gt;&lt;/script&gt;\n",
       "    &lt;script src=&quot;https://cdn.jsdelivr.net/gh/python-visualization/folium/folium/templates/pa7_hm.min.js&quot;&gt;&lt;/script&gt;\n",
       "    &lt;script src=&quot;https://cdn.jsdelivr.net/gh/python-visualization/folium/folium/templates/pa7_leaflet_hm.min.js&quot;&gt;&lt;/script&gt;\n",
       "    &lt;link rel=&quot;stylesheet&quot; href=&quot;https://cdn.jsdelivr.net/npm/leaflet-timedimension@1.1.1/dist/leaflet.timedimension.control.css&quot;/&gt;\n",
       "    \n",
       "            &lt;script&gt;\n",
       "                var TDHeatmap = L.TimeDimension.Layer.extend({\n",
       "\n",
       "            initialize: function(data, options) {\n",
       "                var heatmapCfg = {\n",
       "                    radius: 15,\n",
       "                    blur: 0.8,\n",
       "                    maxOpacity: 1.,\n",
       "                    scaleRadius: false,\n",
       "                    useLocalExtrema: false,\n",
       "                    latField: &#x27;lat&#x27;,\n",
       "                    lngField: &#x27;lng&#x27;,\n",
       "                    valueField: &#x27;count&#x27;,\n",
       "                    defaultWeight : 1,\n",
       "                };\n",
       "                heatmapCfg = $.extend({}, heatmapCfg, options.heatmapOptions || {});\n",
       "                var layer = new HeatmapOverlay(heatmapCfg);\n",
       "                L.TimeDimension.Layer.prototype.initialize.call(this, layer, options);\n",
       "                this._currentLoadedTime = 0;\n",
       "                this._currentTimeData = {\n",
       "                    data: []\n",
       "                    };\n",
       "                this.data= data;\n",
       "                this.defaultWeight = heatmapCfg.defaultWeight || 1;\n",
       "            },\n",
       "            onAdd: function(map) {\n",
       "                L.TimeDimension.Layer.prototype.onAdd.call(this, map);\n",
       "                map.addLayer(this._baseLayer);\n",
       "                if (this._timeDimension) {\n",
       "                    this._getDataForTime(this._timeDimension.getCurrentTime());\n",
       "                }\n",
       "            },\n",
       "            _onNewTimeLoading: function(ev) {\n",
       "                this._getDataForTime(ev.time);\n",
       "                return;\n",
       "            },\n",
       "            isReady: function(time) {\n",
       "                return (this._currentLoadedTime == time);\n",
       "            },\n",
       "            _update: function() {\n",
       "                this._baseLayer.setData(this._currentTimeData);\n",
       "                return true;\n",
       "            },\n",
       "            _getDataForTime: function(time) {\n",
       "                    delete this._currentTimeData.data;\n",
       "                    this._currentTimeData.data = [];\n",
       "                    var data = this.data[time-1];\n",
       "                    for (var i = 0; i &lt; data.length; i++) {\n",
       "                        this._currentTimeData.data.push({\n",
       "                                lat: data[i][0],\n",
       "                                lng: data[i][1],\n",
       "                                count: data[i].length&gt;2 ? data[i][2] : this.defaultWeight\n",
       "                            });\n",
       "                        }\n",
       "                    this._currentLoadedTime = time;\n",
       "                    if (this._timeDimension &amp;&amp; time == this._timeDimension.getCurrentTime() &amp;&amp; !this._timeDimension.isLoading()) {\n",
       "                        this._update();\n",
       "                    }\n",
       "                    this.fire(&#x27;timeload&#x27;, {\n",
       "                        time: time\n",
       "                    });\n",
       "                }\n",
       "        });\n",
       "\n",
       "        L.Control.TimeDimensionCustom = L.Control.TimeDimension.extend({\n",
       "            initialize: function(index, options) {\n",
       "                var playerOptions = {\n",
       "                    buffer: 1,\n",
       "                    minBufferReady: -1\n",
       "                    };\n",
       "                options.playerOptions = $.extend({}, playerOptions, options.playerOptions || {});\n",
       "                L.Control.TimeDimension.prototype.initialize.call(this, options);\n",
       "                this.index = index;\n",
       "                },\n",
       "            _getDisplayDateFormat: function(date){\n",
       "                return this.index[date.getTime()-1];\n",
       "                }\n",
       "            });\n",
       "            &lt;/script&gt;\n",
       "                \n",
       "&lt;/head&gt;\n",
       "&lt;body&gt;\n",
       "    \n",
       "    \n",
       "            &lt;div class=&quot;folium-map&quot; id=&quot;map_82f73e0bf0e3b57307b57a33166f29b0&quot; &gt;&lt;/div&gt;\n",
       "        \n",
       "&lt;/body&gt;\n",
       "&lt;script&gt;\n",
       "    \n",
       "    \n",
       "            var map_82f73e0bf0e3b57307b57a33166f29b0 = L.map(\n",
       "                &quot;map_82f73e0bf0e3b57307b57a33166f29b0&quot;,\n",
       "                {\n",
       "                    center: [37.608164778761065, -110.00636991150444],\n",
       "                    crs: L.CRS.EPSG3857,\n",
       "                    zoom: 13,\n",
       "                    zoomControl: true,\n",
       "                    preferCanvas: false,\n",
       "                }\n",
       "            );\n",
       "\n",
       "            \n",
       "\n",
       "        \n",
       "    \n",
       "            var tile_layer_8e84e556d2f60da97c1dc8043f6a7c0f = L.tileLayer(\n",
       "                &quot;https://tile.openstreetmap.org/{z}/{x}/{y}.png&quot;,\n",
       "                {&quot;attribution&quot;: &quot;\\u0026copy; \\u003ca href=\\&quot;https://www.openstreetmap.org/copyright\\&quot;\\u003eOpenStreetMap\\u003c/a\\u003e contributors&quot;, &quot;detectRetina&quot;: false, &quot;maxNativeZoom&quot;: 19, &quot;maxZoom&quot;: 19, &quot;minZoom&quot;: 0, &quot;noWrap&quot;: false, &quot;opacity&quot;: 1, &quot;subdomains&quot;: &quot;abc&quot;, &quot;tms&quot;: false}\n",
       "            );\n",
       "        \n",
       "    \n",
       "            tile_layer_8e84e556d2f60da97c1dc8043f6a7c0f.addTo(map_82f73e0bf0e3b57307b57a33166f29b0);\n",
       "        \n",
       "    \n",
       "\n",
       "            var times = [1, 2, 3, 4, 5, 6, 7, 8, 9, 10, 11, 12, 13, 14, 15, 16, 17, 18, 19, 20, 21, 22, 23, 24, 25, 26, 27, 28, 29, 30, 31, 32, 33, 34, 35, 36, 37, 38, 39, 40, 41, 42, 43, 44, 45];\n",
       "\n",
       "            map_82f73e0bf0e3b57307b57a33166f29b0.timeDimension = L.timeDimension(\n",
       "                {times : times, currentTime: new Date(1)}\n",
       "            );\n",
       "\n",
       "            var heat_map_05e883fccac8dd0b1c37794e88f448d0Control = new L.Control.TimeDimensionCustom([&#x27;1980&#x27;, &#x27;1981&#x27;, &#x27;1982&#x27;, &#x27;1983&#x27;, &#x27;1984&#x27;, &#x27;1985&#x27;, &#x27;1986&#x27;, &#x27;1987&#x27;, &#x27;1988&#x27;, &#x27;1989&#x27;, &#x27;1990&#x27;, &#x27;1991&#x27;, &#x27;1992&#x27;, &#x27;1993&#x27;, &#x27;1994&#x27;, &#x27;1995&#x27;, &#x27;1996&#x27;, &#x27;1997&#x27;, &#x27;1998&#x27;, &#x27;1999&#x27;, &#x27;2000&#x27;, &#x27;2001&#x27;, &#x27;2002&#x27;, &#x27;2003&#x27;, &#x27;2004&#x27;, &#x27;2005&#x27;, &#x27;2006&#x27;, &#x27;2007&#x27;, &#x27;2008&#x27;, &#x27;2009&#x27;, &#x27;2010&#x27;, &#x27;2011&#x27;, &#x27;2012&#x27;, &#x27;2013&#x27;, &#x27;2014&#x27;, &#x27;2015&#x27;, &#x27;2016&#x27;, &#x27;2017&#x27;, &#x27;2018&#x27;, &#x27;2019&#x27;, &#x27;2020&#x27;, &#x27;2021&#x27;, &#x27;2022&#x27;, &#x27;2023&#x27;, &#x27;2024&#x27;], {\n",
       "                autoPlay: false,\n",
       "                backwardButton: true,\n",
       "                displayDate: true,\n",
       "                forwardButton: true,\n",
       "                limitMinimumRange: 5,\n",
       "                limitSliders: true,\n",
       "                loopButton: true,\n",
       "                maxSpeed: 10,\n",
       "                minSpeed: 0.1,\n",
       "                playButton: true,\n",
       "                playReverseButton: true,\n",
       "                position: &quot;bottomleft&quot;,\n",
       "                speedSlider: true,\n",
       "                speedStep: 0.1,\n",
       "                styleNS: &quot;leaflet-control-timecontrol&quot;,\n",
       "                timeSlider: true,\n",
       "                timeSliderDrapUpdate: false,\n",
       "                timeSteps: 1\n",
       "                })\n",
       "                .addTo(map_82f73e0bf0e3b57307b57a33166f29b0);\n",
       "\n",
       "                var heat_map_05e883fccac8dd0b1c37794e88f448d0 = new TDHeatmap(                             0                             1    \\\n",
       "0   [37.60413, -110.0472, -61.0]  [37.60334, -110.0461, -48.0]   \n",
       "1   [37.60413, -110.0472, -61.0]  [37.60334, -110.0461, -48.0]   \n",
       "2   [37.60413, -110.0472, -61.0]  [37.60334, -110.0461, -48.0]   \n",
       "3   [37.60413, -110.0472, -61.0]  [37.60334, -110.0461, -48.0]   \n",
       "4   [37.60413, -110.0472, -61.0]  [37.60334, -110.0461, -48.0]   \n",
       "5   [37.60413, -110.0472, -61.0]  [37.60334, -110.0461, -48.0]   \n",
       "6   [37.60413, -110.0472, -61.0]  [37.60334, -110.0461, -48.0]   \n",
       "7   [37.60413, -110.0472, -61.0]  [37.60334, -110.0461, -48.0]   \n",
       "8   [37.60413, -110.0472, -61.0]  [37.60334, -110.0461, -48.0]   \n",
       "9   [37.60413, -110.0472, -61.0]  [37.60334, -110.0461, -48.0]   \n",
       "10  [37.60413, -110.0472, -61.0]  [37.60334, -110.0461, -48.0]   \n",
       "11  [37.60413, -110.0472, -61.0]  [37.60334, -110.0461, -48.0]   \n",
       "12  [37.60413, -110.0472, -61.0]  [37.60334, -110.0461, -48.0]   \n",
       "13  [37.60413, -110.0472, -61.0]  [37.60334, -110.0461, -48.0]   \n",
       "14  [37.60413, -110.0472, -61.0]  [37.60334, -110.0461, -48.0]   \n",
       "15  [37.60413, -110.0472, -61.0]  [37.60334, -110.0461, -48.0]   \n",
       "16  [37.60413, -110.0472, -61.0]  [37.60334, -110.0461, -48.0]   \n",
       "17  [37.60413, -110.0472, -61.0]  [37.60334, -110.0461, -48.0]   \n",
       "18  [37.60413, -110.0472, -61.0]  [37.60334, -110.0461, -48.0]   \n",
       "19  [37.60413, -110.0472, -61.0]  [37.60334, -110.0461, -48.0]   \n",
       "20  [37.60413, -110.0472, -61.0]  [37.60334, -110.0461, -48.0]   \n",
       "21  [37.60413, -110.0472, -61.0]  [37.60334, -110.0461, -48.0]   \n",
       "22  [37.60413, -110.0472, -61.0]  [37.60334, -110.0461, -48.0]   \n",
       "23  [37.60413, -110.0472, -61.0]  [37.60334, -110.0461, -48.0]   \n",
       "24  [37.60413, -110.0472, -61.0]  [37.60334, -110.0461, -48.0]   \n",
       "25  [37.60413, -110.0472, -61.0]  [37.60334, -110.0461, -48.0]   \n",
       "26  [37.60413, -110.0472, -61.0]  [37.60334, -110.0461, -48.0]   \n",
       "27  [37.60413, -110.0472, -61.0]  [37.60334, -110.0461, -48.0]   \n",
       "28  [37.60413, -110.0472, -61.0]  [37.60334, -110.0461, -48.0]   \n",
       "29  [37.60413, -110.0472, -61.0]  [37.60334, -110.0461, -48.0]   \n",
       "30  [37.60413, -110.0472, -61.0]  [37.60334, -110.0461, -48.0]   \n",
       "31  [37.60413, -110.0472, -61.0]  [37.60334, -110.0461, -48.0]   \n",
       "32  [37.60413, -110.0472, -61.0]  [37.60334, -110.0461, -48.0]   \n",
       "33  [37.60413, -110.0472, -61.0]  [37.60334, -110.0461, -48.0]   \n",
       "34  [37.60413, -110.0472, -61.0]  [37.60334, -110.0461, -48.0]   \n",
       "35  [37.60413, -110.0472, -61.0]  [37.60334, -110.0461, -48.0]   \n",
       "36  [37.60413, -110.0472, -61.0]  [37.60334, -110.0461, -48.0]   \n",
       "37  [37.60413, -110.0472, -61.0]  [37.60334, -110.0461, -48.0]   \n",
       "38  [37.60413, -110.0472, -61.0]  [37.60334, -110.0461, -48.0]   \n",
       "39                          None                          None   \n",
       "40                          None                          None   \n",
       "41  [37.60413, -110.0472, -61.0]  [37.60334, -110.0461, -48.0]   \n",
       "42  [37.60413, -110.0472, -61.0]  [37.60334, -110.0461, -48.0]   \n",
       "43  [37.60413, -110.0472, -61.0]  [37.60334, -110.0461, -48.0]   \n",
       "44  [37.60413, -110.0472, -61.0]  [37.60334, -110.0461, -48.0]   \n",
       "\n",
       "                             2                             3    \\\n",
       "0   [37.60308, -110.0458, -29.0]  [37.60519, -110.0393, -15.0]   \n",
       "1   [37.60308, -110.0458, -29.0]  [37.60519, -110.0393, -15.0]   \n",
       "2   [37.60308, -110.0458, -29.0]  [37.60519, -110.0393, -15.0]   \n",
       "3   [37.60308, -110.0458, -29.0]  [37.60519, -110.0393, -15.0]   \n",
       "4   [37.60308, -110.0458, -29.0]  [37.60519, -110.0393, -15.0]   \n",
       "5   [37.60308, -110.0458, -29.0]  [37.60519, -110.0393, -15.0]   \n",
       "6   [37.60308, -110.0458, -29.0]  [37.60519, -110.0393, -15.0]   \n",
       "7   [37.60308, -110.0458, -29.0]  [37.60519, -110.0393, -15.0]   \n",
       "8   [37.60308, -110.0458, -29.0]  [37.60519, -110.0393, -15.0]   \n",
       "9   [37.60308, -110.0458, -29.0]  [37.60519, -110.0393, -15.0]   \n",
       "10  [37.60308, -110.0458, -29.0]  [37.60519, -110.0393, -15.0]   \n",
       "11  [37.60308, -110.0458, -29.0]  [37.60519, -110.0393, -15.0]   \n",
       "12  [37.60308, -110.0458, -29.0]  [37.60519, -110.0393, -15.0]   \n",
       "13  [37.60308, -110.0458, -29.0]  [37.60519, -110.0393, -15.0]   \n",
       "14  [37.60308, -110.0458, -29.0]  [37.60519, -110.0393, -15.0]   \n",
       "15  [37.60308, -110.0458, -29.0]  [37.60519, -110.0393, -15.0]   \n",
       "16  [37.60308, -110.0458, -29.0]  [37.60519, -110.0393, -15.0]   \n",
       "17  [37.60308, -110.0458, -29.0]  [37.60519, -110.0393, -15.0]   \n",
       "18  [37.60308, -110.0458, -29.0]  [37.60519, -110.0393, -15.0]   \n",
       "19  [37.60308, -110.0458, -29.0]  [37.60519, -110.0393, -15.0]   \n",
       "20  [37.60308, -110.0458, -29.0]  [37.60519, -110.0393, -15.0]   \n",
       "21  [37.60308, -110.0458, -29.0]  [37.60519, -110.0393, -15.0]   \n",
       "22  [37.60308, -110.0458, -29.0]  [37.60519, -110.0393, -15.0]   \n",
       "23  [37.60308, -110.0458, -29.0]  [37.60519, -110.0393, -15.0]   \n",
       "24  [37.60308, -110.0458, -29.0]  [37.60519, -110.0393, -15.0]   \n",
       "25  [37.60308, -110.0458, -29.0]  [37.60519, -110.0393, -15.0]   \n",
       "26  [37.60308, -110.0458, -29.0]  [37.60519, -110.0393, -15.0]   \n",
       "27  [37.60308, -110.0458, -29.0]  [37.60519, -110.0393, -15.0]   \n",
       "28  [37.60308, -110.0458, -29.0]  [37.60519, -110.0393, -15.0]   \n",
       "29  [37.60308, -110.0458, -29.0]  [37.60519, -110.0393, -15.0]   \n",
       "30  [37.60308, -110.0458, -29.0]  [37.60519, -110.0393, -15.0]   \n",
       "31  [37.60308, -110.0458, -29.0]  [37.60519, -110.0393, -15.0]   \n",
       "32  [37.60308, -110.0458, -29.0]  [37.60519, -110.0393, -15.0]   \n",
       "33  [37.60308, -110.0458, -29.0]  [37.60519, -110.0393, -15.0]   \n",
       "34  [37.60308, -110.0458, -29.0]  [37.60519, -110.0393, -15.0]   \n",
       "35  [37.60308, -110.0458, -29.0]  [37.60519, -110.0393, -15.0]   \n",
       "36  [37.60308, -110.0458, -29.0]  [37.60519, -110.0393, -15.0]   \n",
       "37  [37.60308, -110.0458, -29.0]  [37.60519, -110.0393, -15.0]   \n",
       "38  [37.60308, -110.0458, -29.0]  [37.60519, -110.0393, -15.0]   \n",
       "39                          None                          None   \n",
       "40                          None                          None   \n",
       "41  [37.60308, -110.0458, -29.0]  [37.60519, -110.0393, -15.0]   \n",
       "42  [37.60308, -110.0458, -29.0]  [37.60519, -110.0393, -15.0]   \n",
       "43  [37.60308, -110.0458, -29.0]  [37.60519, -110.0393, -15.0]   \n",
       "44  [37.60308, -110.0458, -29.0]  [37.60519, -110.0393, -15.0]   \n",
       "\n",
       "                             4                             5    \\\n",
       "0   [37.60545, -110.0389, -25.0]  [37.59621, -110.0386, -29.0]   \n",
       "1   [37.60545, -110.0389, -25.0]  [37.59621, -110.0386, -29.0]   \n",
       "2   [37.60545, -110.0389, -25.0]  [37.59621, -110.0386, -29.0]   \n",
       "3   [37.60545, -110.0389, -25.0]  [37.59621, -110.0386, -29.0]   \n",
       "4   [37.60545, -110.0389, -25.0]  [37.59621, -110.0386, -29.0]   \n",
       "5   [37.60545, -110.0389, -25.0]  [37.59621, -110.0386, -29.0]   \n",
       "6   [37.60545, -110.0389, -25.0]  [37.59621, -110.0386, -29.0]   \n",
       "7   [37.60545, -110.0389, -25.0]  [37.59621, -110.0386, -29.0]   \n",
       "8   [37.60545, -110.0389, -25.0]  [37.59621, -110.0386, -29.0]   \n",
       "9   [37.60545, -110.0389, -25.0]  [37.59621, -110.0386, -29.0]   \n",
       "10  [37.60545, -110.0389, -25.0]  [37.59621, -110.0386, -29.0]   \n",
       "11  [37.60545, -110.0389, -25.0]  [37.59621, -110.0386, -29.0]   \n",
       "12  [37.60545, -110.0389, -25.0]  [37.59621, -110.0386, -29.0]   \n",
       "13  [37.60545, -110.0389, -25.0]  [37.59621, -110.0386, -29.0]   \n",
       "14  [37.60545, -110.0389, -25.0]  [37.59621, -110.0386, -29.0]   \n",
       "15  [37.60545, -110.0389, -25.0]  [37.59621, -110.0386, -29.0]   \n",
       "16  [37.60545, -110.0389, -25.0]  [37.59621, -110.0386, -29.0]   \n",
       "17  [37.60545, -110.0389, -25.0]  [37.59621, -110.0386, -29.0]   \n",
       "18  [37.60545, -110.0389, -25.0]  [37.59621, -110.0386, -29.0]   \n",
       "19  [37.60545, -110.0389, -25.0]  [37.59621, -110.0386, -29.0]   \n",
       "20  [37.60545, -110.0389, -25.0]  [37.59621, -110.0386, -29.0]   \n",
       "21  [37.60545, -110.0389, -25.0]  [37.59621, -110.0386, -29.0]   \n",
       "22  [37.60545, -110.0389, -25.0]  [37.59621, -110.0386, -29.0]   \n",
       "23  [37.60545, -110.0389, -25.0]  [37.59621, -110.0386, -29.0]   \n",
       "24  [37.60545, -110.0389, -25.0]  [37.59621, -110.0386, -29.0]   \n",
       "25  [37.60545, -110.0389, -25.0]  [37.59621, -110.0386, -29.0]   \n",
       "26  [37.60545, -110.0389, -25.0]  [37.59621, -110.0386, -29.0]   \n",
       "27  [37.60545, -110.0389, -25.0]  [37.59621, -110.0386, -29.0]   \n",
       "28  [37.60545, -110.0389, -25.0]  [37.59621, -110.0386, -29.0]   \n",
       "29  [37.60545, -110.0389, -25.0]  [37.59621, -110.0386, -29.0]   \n",
       "30  [37.60545, -110.0389, -25.0]  [37.59621, -110.0386, -29.0]   \n",
       "31  [37.60545, -110.0389, -25.0]  [37.59621, -110.0386, -29.0]   \n",
       "32  [37.60545, -110.0389, -25.0]  [37.59621, -110.0386, -29.0]   \n",
       "33  [37.60545, -110.0389, -25.0]  [37.59621, -110.0386, -29.0]   \n",
       "34  [37.60545, -110.0389, -25.0]  [37.59621, -110.0386, -29.0]   \n",
       "35  [37.60545, -110.0389, -25.0]  [37.59621, -110.0386, -29.0]   \n",
       "36  [37.60545, -110.0389, -25.0]  [37.59621, -110.0386, -29.0]   \n",
       "37  [37.60545, -110.0389, -25.0]  [37.59621, -110.0386, -29.0]   \n",
       "38  [37.60545, -110.0389, -25.0]  [37.59621, -110.0386, -29.0]   \n",
       "39                          None                          None   \n",
       "40                          None                          None   \n",
       "41  [37.60545, -110.0389, -25.0]  [37.59621, -110.0386, -29.0]   \n",
       "42  [37.60545, -110.0389, -25.0]  [37.59621, -110.0386, -29.0]   \n",
       "43  [37.60545, -110.0389, -25.0]  [37.59621, -110.0386, -29.0]   \n",
       "44  [37.60545, -110.0389, -25.0]  [37.59621, -110.0386, -29.0]   \n",
       "\n",
       "                             6                            7    \\\n",
       "0   [37.60202, -110.0376, -35.0]  [37.6044, -110.0376, -18.0]   \n",
       "1   [37.60202, -110.0376, -35.0]  [37.6044, -110.0376, -18.0]   \n",
       "2   [37.60202, -110.0376, -35.0]  [37.6044, -110.0376, -18.0]   \n",
       "3   [37.60202, -110.0376, -35.0]  [37.6044, -110.0376, -18.0]   \n",
       "4   [37.60202, -110.0376, -35.0]  [37.6044, -110.0376, -18.0]   \n",
       "5   [37.60202, -110.0376, -35.0]  [37.6044, -110.0376, -18.0]   \n",
       "6   [37.60202, -110.0376, -35.0]  [37.6044, -110.0376, -18.0]   \n",
       "7   [37.60202, -110.0376, -35.0]  [37.6044, -110.0376, -18.0]   \n",
       "8   [37.60202, -110.0376, -35.0]  [37.6044, -110.0376, -18.0]   \n",
       "9   [37.60202, -110.0376, -35.0]  [37.6044, -110.0376, -18.0]   \n",
       "10  [37.60202, -110.0376, -35.0]  [37.6044, -110.0376, -18.0]   \n",
       "11  [37.60202, -110.0376, -35.0]  [37.6044, -110.0376, -18.0]   \n",
       "12  [37.60202, -110.0376, -35.0]  [37.6044, -110.0376, -18.0]   \n",
       "13  [37.60202, -110.0376, -35.0]  [37.6044, -110.0376, -18.0]   \n",
       "14  [37.60202, -110.0376, -35.0]  [37.6044, -110.0376, -18.0]   \n",
       "15  [37.60202, -110.0376, -35.0]  [37.6044, -110.0376, -18.0]   \n",
       "16  [37.60202, -110.0376, -35.0]  [37.6044, -110.0376, -18.0]   \n",
       "17  [37.60202, -110.0376, -35.0]  [37.6044, -110.0376, -18.0]   \n",
       "18  [37.60202, -110.0376, -35.0]  [37.6044, -110.0376, -18.0]   \n",
       "19  [37.60202, -110.0376, -35.0]  [37.6044, -110.0376, -18.0]   \n",
       "20  [37.60202, -110.0376, -35.0]  [37.6044, -110.0376, -18.0]   \n",
       "21  [37.60202, -110.0376, -35.0]  [37.6044, -110.0376, -18.0]   \n",
       "22  [37.60202, -110.0376, -35.0]  [37.6044, -110.0376, -18.0]   \n",
       "23  [37.60202, -110.0376, -35.0]  [37.6044, -110.0376, -18.0]   \n",
       "24  [37.60202, -110.0376, -35.0]  [37.6044, -110.0376, -18.0]   \n",
       "25  [37.60202, -110.0376, -35.0]  [37.6044, -110.0376, -18.0]   \n",
       "26  [37.60202, -110.0376, -35.0]  [37.6044, -110.0376, -18.0]   \n",
       "27  [37.60202, -110.0376, -35.0]  [37.6044, -110.0376, -18.0]   \n",
       "28  [37.60202, -110.0376, -35.0]  [37.6044, -110.0376, -18.0]   \n",
       "29  [37.60202, -110.0376, -35.0]  [37.6044, -110.0376, -18.0]   \n",
       "30  [37.60202, -110.0376, -35.0]  [37.6044, -110.0376, -18.0]   \n",
       "31  [37.60202, -110.0376, -35.0]  [37.6044, -110.0376, -18.0]   \n",
       "32  [37.60202, -110.0376, -35.0]  [37.6044, -110.0376, -18.0]   \n",
       "33  [37.60202, -110.0376, -35.0]  [37.6044, -110.0376, -18.0]   \n",
       "34  [37.60202, -110.0376, -35.0]  [37.6044, -110.0376, -18.0]   \n",
       "35  [37.60202, -110.0376, -35.0]  [37.6044, -110.0376, -18.0]   \n",
       "36  [37.60202, -110.0376, -35.0]  [37.6044, -110.0376, -18.0]   \n",
       "37  [37.60202, -110.0376, -35.0]  [37.6044, -110.0376, -18.0]   \n",
       "38  [37.60202, -110.0376, -35.0]  [37.6044, -110.0376, -18.0]   \n",
       "39                          None                         None   \n",
       "40                          None                         None   \n",
       "41  [37.60202, -110.0376, -35.0]  [37.6044, -110.0376, -18.0]   \n",
       "42  [37.60202, -110.0376, -35.0]  [37.6044, -110.0376, -18.0]   \n",
       "43  [37.60202, -110.0376, -35.0]  [37.6044, -110.0376, -18.0]   \n",
       "44  [37.60202, -110.0376, -35.0]  [37.6044, -110.0376, -18.0]   \n",
       "\n",
       "                             8                             9    ...  \\\n",
       "0   [37.60096, -110.0365, -18.0]  [37.60334, -110.0365, -59.0]  ...   \n",
       "1   [37.60096, -110.0365, -18.0]  [37.60334, -110.0365, -59.0]  ...   \n",
       "2   [37.60096, -110.0365, -18.0]  [37.60334, -110.0365, -59.0]  ...   \n",
       "3   [37.60096, -110.0365, -18.0]  [37.60334, -110.0365, -59.0]  ...   \n",
       "4   [37.60096, -110.0365, -18.0]  [37.60334, -110.0365, -59.0]  ...   \n",
       "5   [37.60096, -110.0365, -18.0]  [37.60334, -110.0365, -59.0]  ...   \n",
       "6   [37.60096, -110.0365, -18.0]  [37.60334, -110.0365, -59.0]  ...   \n",
       "7   [37.60096, -110.0365, -18.0]  [37.60334, -110.0365, -59.0]  ...   \n",
       "8   [37.60096, -110.0365, -18.0]  [37.60334, -110.0365, -59.0]  ...   \n",
       "9   [37.60096, -110.0365, -18.0]  [37.60334, -110.0365, -59.0]  ...   \n",
       "10  [37.60096, -110.0365, -18.0]  [37.60334, -110.0365, -59.0]  ...   \n",
       "11  [37.60096, -110.0365, -18.0]  [37.60334, -110.0365, -59.0]  ...   \n",
       "12  [37.60096, -110.0365, -18.0]  [37.60334, -110.0365, -59.0]  ...   \n",
       "13  [37.60096, -110.0365, -18.0]  [37.60334, -110.0365, -59.0]  ...   \n",
       "14  [37.60096, -110.0365, -18.0]  [37.60334, -110.0365, -59.0]  ...   \n",
       "15  [37.60096, -110.0365, -18.0]  [37.60334, -110.0365, -59.0]  ...   \n",
       "16  [37.60096, -110.0365, -18.0]  [37.60334, -110.0365, -59.0]  ...   \n",
       "17  [37.60096, -110.0365, -18.0]  [37.60334, -110.0365, -59.0]  ...   \n",
       "18  [37.60096, -110.0365, -18.0]  [37.60334, -110.0365, -59.0]  ...   \n",
       "19  [37.60096, -110.0365, -18.0]  [37.60334, -110.0365, -59.0]  ...   \n",
       "20  [37.60096, -110.0365, -18.0]  [37.60334, -110.0365, -59.0]  ...   \n",
       "21  [37.60096, -110.0365, -18.0]  [37.60334, -110.0365, -59.0]  ...   \n",
       "22  [37.60096, -110.0365, -18.0]  [37.60334, -110.0365, -59.0]  ...   \n",
       "23  [37.60096, -110.0365, -18.0]  [37.60334, -110.0365, -59.0]  ...   \n",
       "24  [37.60096, -110.0365, -18.0]  [37.60334, -110.0365, -59.0]  ...   \n",
       "25  [37.60096, -110.0365, -18.0]  [37.60334, -110.0365, -59.0]  ...   \n",
       "26  [37.60096, -110.0365, -18.0]  [37.60334, -110.0365, -59.0]  ...   \n",
       "27  [37.60096, -110.0365, -18.0]  [37.60334, -110.0365, -59.0]  ...   \n",
       "28  [37.60096, -110.0365, -18.0]  [37.60334, -110.0365, -59.0]  ...   \n",
       "29  [37.60096, -110.0365, -18.0]  [37.60334, -110.0365, -59.0]  ...   \n",
       "30  [37.60096, -110.0365, -18.0]  [37.60334, -110.0365, -59.0]  ...   \n",
       "31  [37.60096, -110.0365, -18.0]  [37.60334, -110.0365, -59.0]  ...   \n",
       "32  [37.60096, -110.0365, -18.0]  [37.60334, -110.0365, -59.0]  ...   \n",
       "33  [37.60096, -110.0365, -18.0]  [37.60334, -110.0365, -59.0]  ...   \n",
       "34  [37.60096, -110.0365, -18.0]  [37.60334, -110.0365, -59.0]  ...   \n",
       "35  [37.60096, -110.0365, -18.0]  [37.60334, -110.0365, -59.0]  ...   \n",
       "36  [37.60096, -110.0365, -18.0]  [37.60334, -110.0365, -59.0]  ...   \n",
       "37  [37.60096, -110.0365, -18.0]  [37.60334, -110.0365, -59.0]  ...   \n",
       "38  [37.60096, -110.0365, -18.0]  [37.60334, -110.0365, -59.0]  ...   \n",
       "39                          None                          None  ...   \n",
       "40                          None                          None  ...   \n",
       "41  [37.60096, -110.0365, -18.0]  [37.60334, -110.0365, -59.0]  ...   \n",
       "42  [37.60096, -110.0365, -18.0]  [37.60334, -110.0365, -59.0]  ...   \n",
       "43  [37.60096, -110.0365, -18.0]  [37.60334, -110.0365, -59.0]  ...   \n",
       "44  [37.60096, -110.0365, -18.0]  [37.60334, -110.0365, -59.0]  ...   \n",
       "\n",
       "                            103                          104  \\\n",
       "0   [37.63476, -109.9714, -9.0]  [37.62631, -109.9693, 23.0]   \n",
       "1   [37.63476, -109.9714, -9.0]  [37.62631, -109.9693, 23.0]   \n",
       "2   [37.63476, -109.9714, -9.0]  [37.62631, -109.9693, 23.0]   \n",
       "3   [37.63476, -109.9714, -9.0]  [37.62631, -109.9693, 23.0]   \n",
       "4   [37.63476, -109.9714, -9.0]  [37.62631, -109.9693, 23.0]   \n",
       "5   [37.63476, -109.9714, -9.0]  [37.62631, -109.9693, 23.0]   \n",
       "6   [37.63476, -109.9714, -9.0]  [37.62631, -109.9693, 23.0]   \n",
       "7   [37.63476, -109.9714, -9.0]  [37.62631, -109.9693, 23.0]   \n",
       "8   [37.63476, -109.9714, -9.0]  [37.62631, -109.9693, 23.0]   \n",
       "9   [37.63476, -109.9714, -9.0]  [37.62631, -109.9693, 23.0]   \n",
       "10  [37.63476, -109.9714, -9.0]  [37.62631, -109.9693, 23.0]   \n",
       "11  [37.63476, -109.9714, -9.0]  [37.62631, -109.9693, 23.0]   \n",
       "12  [37.63476, -109.9714, -9.0]  [37.62631, -109.9693, 23.0]   \n",
       "13  [37.63476, -109.9714, -9.0]  [37.62631, -109.9693, 23.0]   \n",
       "14  [37.63476, -109.9714, -9.0]  [37.62631, -109.9693, 23.0]   \n",
       "15  [37.63476, -109.9714, -9.0]  [37.62631, -109.9693, 23.0]   \n",
       "16  [37.63476, -109.9714, -9.0]  [37.62631, -109.9693, 23.0]   \n",
       "17  [37.63476, -109.9714, -9.0]  [37.62631, -109.9693, 23.0]   \n",
       "18  [37.63476, -109.9714, -9.0]  [37.62631, -109.9693, 23.0]   \n",
       "19  [37.63476, -109.9714, -9.0]  [37.62631, -109.9693, 23.0]   \n",
       "20  [37.63476, -109.9714, -9.0]  [37.62631, -109.9693, 23.0]   \n",
       "21  [37.63476, -109.9714, -9.0]  [37.62631, -109.9693, 23.0]   \n",
       "22  [37.63476, -109.9714, -9.0]  [37.62631, -109.9693, 23.0]   \n",
       "23  [37.63476, -109.9714, -9.0]  [37.62631, -109.9693, 23.0]   \n",
       "24  [37.63476, -109.9714, -9.0]  [37.62631, -109.9693, 23.0]   \n",
       "25  [37.63476, -109.9714, -9.0]  [37.62631, -109.9693, 23.0]   \n",
       "26  [37.63476, -109.9714, -9.0]  [37.62631, -109.9693, 23.0]   \n",
       "27  [37.63476, -109.9714, -9.0]  [37.62631, -109.9693, 23.0]   \n",
       "28  [37.63476, -109.9714, -9.0]  [37.62631, -109.9693, 23.0]   \n",
       "29  [37.63476, -109.9714, -9.0]  [37.62631, -109.9693, 23.0]   \n",
       "30  [37.63476, -109.9714, -9.0]  [37.62631, -109.9693, 23.0]   \n",
       "31  [37.63476, -109.9714, -9.0]  [37.62631, -109.9693, 23.0]   \n",
       "32  [37.63476, -109.9714, -9.0]  [37.62631, -109.9693, 23.0]   \n",
       "33  [37.63476, -109.9714, -9.0]  [37.62631, -109.9693, 23.0]   \n",
       "34  [37.63476, -109.9714, -9.0]  [37.62631, -109.9693, 23.0]   \n",
       "35  [37.63476, -109.9714, -9.0]  [37.62631, -109.9693, 23.0]   \n",
       "36  [37.63476, -109.9714, -9.0]  [37.62631, -109.9693, 23.0]   \n",
       "37  [37.63476, -109.9714, -9.0]  [37.62631, -109.9693, 23.0]   \n",
       "38  [37.63476, -109.9714, -9.0]  [37.62631, -109.9693, 23.0]   \n",
       "39                         None                         None   \n",
       "40                         None                         None   \n",
       "41  [37.63476, -109.9714, -9.0]  [37.62631, -109.9693, 23.0]   \n",
       "42  [37.63476, -109.9714, -9.0]  [37.62631, -109.9693, 23.0]   \n",
       "43  [37.63476, -109.9714, -9.0]  [37.62631, -109.9693, 23.0]   \n",
       "44  [37.63476, -109.9714, -9.0]  [37.62631, -109.9693, 23.0]   \n",
       "\n",
       "                           105                           106  \\\n",
       "0   [37.61284, -109.969, 11.0]  [37.61654, -109.9679, -13.0]   \n",
       "1   [37.61284, -109.969, 11.0]  [37.61654, -109.9679, -13.0]   \n",
       "2   [37.61284, -109.969, 11.0]  [37.61654, -109.9679, -13.0]   \n",
       "3   [37.61284, -109.969, 11.0]  [37.61654, -109.9679, -13.0]   \n",
       "4   [37.61284, -109.969, 11.0]  [37.61654, -109.9679, -13.0]   \n",
       "5   [37.61284, -109.969, 11.0]  [37.61654, -109.9679, -13.0]   \n",
       "6   [37.61284, -109.969, 11.0]  [37.61654, -109.9679, -13.0]   \n",
       "7   [37.61284, -109.969, 11.0]  [37.61654, -109.9679, -13.0]   \n",
       "8   [37.61284, -109.969, 11.0]  [37.61654, -109.9679, -13.0]   \n",
       "9   [37.61284, -109.969, 11.0]  [37.61654, -109.9679, -13.0]   \n",
       "10  [37.61284, -109.969, 11.0]  [37.61654, -109.9679, -13.0]   \n",
       "11  [37.61284, -109.969, 11.0]  [37.61654, -109.9679, -13.0]   \n",
       "12  [37.61284, -109.969, 11.0]  [37.61654, -109.9679, -13.0]   \n",
       "13  [37.61284, -109.969, 11.0]  [37.61654, -109.9679, -13.0]   \n",
       "14  [37.61284, -109.969, 11.0]  [37.61654, -109.9679, -13.0]   \n",
       "15  [37.61284, -109.969, 11.0]  [37.61654, -109.9679, -13.0]   \n",
       "16  [37.61284, -109.969, 11.0]  [37.61654, -109.9679, -13.0]   \n",
       "17  [37.61284, -109.969, 11.0]  [37.61654, -109.9679, -13.0]   \n",
       "18  [37.61284, -109.969, 11.0]  [37.61654, -109.9679, -13.0]   \n",
       "19  [37.61284, -109.969, 11.0]  [37.61654, -109.9679, -13.0]   \n",
       "20  [37.61284, -109.969, 11.0]  [37.61654, -109.9679, -13.0]   \n",
       "21  [37.61284, -109.969, 11.0]  [37.61654, -109.9679, -13.0]   \n",
       "22  [37.61284, -109.969, 11.0]  [37.61654, -109.9679, -13.0]   \n",
       "23  [37.61284, -109.969, 11.0]  [37.61654, -109.9679, -13.0]   \n",
       "24  [37.61284, -109.969, 11.0]  [37.61654, -109.9679, -13.0]   \n",
       "25  [37.61284, -109.969, 11.0]  [37.61654, -109.9679, -13.0]   \n",
       "26  [37.61284, -109.969, 11.0]  [37.61654, -109.9679, -13.0]   \n",
       "27  [37.61284, -109.969, 11.0]  [37.61654, -109.9679, -13.0]   \n",
       "28  [37.61284, -109.969, 11.0]  [37.61654, -109.9679, -13.0]   \n",
       "29  [37.61284, -109.969, 11.0]  [37.61654, -109.9679, -13.0]   \n",
       "30  [37.61284, -109.969, 11.0]  [37.61654, -109.9679, -13.0]   \n",
       "31  [37.61284, -109.969, 11.0]  [37.61654, -109.9679, -13.0]   \n",
       "32  [37.61284, -109.969, 11.0]  [37.61654, -109.9679, -13.0]   \n",
       "33  [37.61284, -109.969, 11.0]  [37.61654, -109.9679, -13.0]   \n",
       "34  [37.61284, -109.969, 11.0]  [37.61654, -109.9679, -13.0]   \n",
       "35  [37.61284, -109.969, 11.0]  [37.61654, -109.9679, -13.0]   \n",
       "36  [37.61284, -109.969, 11.0]  [37.61654, -109.9679, -13.0]   \n",
       "37  [37.61284, -109.969, 11.0]  [37.61654, -109.9679, -13.0]   \n",
       "38  [37.61284, -109.969, 11.0]  [37.61654, -109.9679, -13.0]   \n",
       "39                        None                          None   \n",
       "40                        None                          None   \n",
       "41  [37.61284, -109.969, 11.0]  [37.61654, -109.9679, -13.0]   \n",
       "42  [37.61284, -109.969, 11.0]  [37.61654, -109.9679, -13.0]   \n",
       "43  [37.61284, -109.969, 11.0]  [37.61654, -109.9679, -13.0]   \n",
       "44  [37.61284, -109.969, 11.0]  [37.61654, -109.9679, -13.0]   \n",
       "\n",
       "                            107                           108  \\\n",
       "0   [37.62974, -109.9679, 53.0]  [37.62868, -109.9673, -30.0]   \n",
       "1   [37.62974, -109.9679, 53.0]  [37.62868, -109.9673, -30.0]   \n",
       "2   [37.62974, -109.9679, 53.0]  [37.62868, -109.9673, -30.0]   \n",
       "3   [37.62974, -109.9679, 53.0]  [37.62868, -109.9673, -30.0]   \n",
       "4   [37.62974, -109.9679, 53.0]  [37.62868, -109.9673, -30.0]   \n",
       "5   [37.62974, -109.9679, 53.0]  [37.62868, -109.9673, -30.0]   \n",
       "6   [37.62974, -109.9679, 53.0]  [37.62868, -109.9673, -30.0]   \n",
       "7   [37.62974, -109.9679, 53.0]  [37.62868, -109.9673, -30.0]   \n",
       "8   [37.62974, -109.9679, 53.0]  [37.62868, -109.9673, -30.0]   \n",
       "9   [37.62974, -109.9679, 53.0]  [37.62868, -109.9673, -30.0]   \n",
       "10  [37.62974, -109.9679, 53.0]  [37.62868, -109.9673, -30.0]   \n",
       "11  [37.62974, -109.9679, 53.0]  [37.62868, -109.9673, -30.0]   \n",
       "12  [37.62974, -109.9679, 53.0]  [37.62868, -109.9673, -30.0]   \n",
       "13  [37.62974, -109.9679, 53.0]  [37.62868, -109.9673, -30.0]   \n",
       "14  [37.62974, -109.9679, 53.0]  [37.62868, -109.9673, -30.0]   \n",
       "15  [37.62974, -109.9679, 53.0]  [37.62868, -109.9673, -30.0]   \n",
       "16  [37.62974, -109.9679, 53.0]  [37.62868, -109.9673, -30.0]   \n",
       "17  [37.62974, -109.9679, 53.0]  [37.62868, -109.9673, -30.0]   \n",
       "18  [37.62974, -109.9679, 53.0]  [37.62868, -109.9673, -30.0]   \n",
       "19  [37.62974, -109.9679, 53.0]  [37.62868, -109.9673, -30.0]   \n",
       "20  [37.62974, -109.9679, 53.0]  [37.62868, -109.9673, -30.0]   \n",
       "21  [37.62974, -109.9679, 53.0]  [37.62868, -109.9673, -30.0]   \n",
       "22  [37.62974, -109.9679, 53.0]  [37.62868, -109.9673, -30.0]   \n",
       "23  [37.62974, -109.9679, 53.0]  [37.62868, -109.9673, -30.0]   \n",
       "24  [37.62974, -109.9679, 53.0]  [37.62868, -109.9673, -30.0]   \n",
       "25  [37.62974, -109.9679, 53.0]  [37.62868, -109.9673, -30.0]   \n",
       "26  [37.62974, -109.9679, 53.0]  [37.62868, -109.9673, -30.0]   \n",
       "27  [37.62974, -109.9679, 53.0]  [37.62868, -109.9673, -30.0]   \n",
       "28  [37.62974, -109.9679, 53.0]  [37.62868, -109.9673, -30.0]   \n",
       "29  [37.62974, -109.9679, 53.0]  [37.62868, -109.9673, -30.0]   \n",
       "30  [37.62974, -109.9679, 53.0]  [37.62868, -109.9673, -30.0]   \n",
       "31  [37.62974, -109.9679, 53.0]  [37.62868, -109.9673, -30.0]   \n",
       "32  [37.62974, -109.9679, 53.0]  [37.62868, -109.9673, -30.0]   \n",
       "33  [37.62974, -109.9679, 53.0]  [37.62868, -109.9673, -30.0]   \n",
       "34  [37.62974, -109.9679, 53.0]  [37.62868, -109.9673, -30.0]   \n",
       "35  [37.62974, -109.9679, 53.0]  [37.62868, -109.9673, -30.0]   \n",
       "36  [37.62974, -109.9679, 53.0]  [37.62868, -109.9673, -30.0]   \n",
       "37  [37.62974, -109.9679, 53.0]  [37.62868, -109.9673, -30.0]   \n",
       "38  [37.62974, -109.9679, 53.0]  [37.62868, -109.9673, -30.0]   \n",
       "39                         None                          None   \n",
       "40                         None                          None   \n",
       "41  [37.62974, -109.9679, 53.0]  [37.62868, -109.9673, -30.0]   \n",
       "42  [37.62974, -109.9679, 53.0]  [37.62868, -109.9673, -30.0]   \n",
       "43  [37.62974, -109.9679, 53.0]  [37.62868, -109.9673, -30.0]   \n",
       "44  [37.62974, -109.9679, 53.0]  [37.62868, -109.9673, -30.0]   \n",
       "\n",
       "                             109                          110  \\\n",
       "0   [37.62446, -109.9669, -91.0]  [37.60783, -109.9662, -4.0]   \n",
       "1   [37.62446, -109.9669, -91.0]  [37.60783, -109.9662, -4.0]   \n",
       "2   [37.62446, -109.9669, -91.0]  [37.60783, -109.9662, -4.0]   \n",
       "3   [37.62446, -109.9669, -91.0]  [37.60783, -109.9662, -4.0]   \n",
       "4   [37.62446, -109.9669, -91.0]  [37.60783, -109.9662, -4.0]   \n",
       "5   [37.62446, -109.9669, -91.0]  [37.60783, -109.9662, -4.0]   \n",
       "6   [37.62446, -109.9669, -91.0]  [37.60783, -109.9662, -4.0]   \n",
       "7   [37.62446, -109.9669, -91.0]  [37.60783, -109.9662, -4.0]   \n",
       "8   [37.62446, -109.9669, -91.0]  [37.60783, -109.9662, -4.0]   \n",
       "9   [37.62446, -109.9669, -91.0]  [37.60783, -109.9662, -4.0]   \n",
       "10  [37.62446, -109.9669, -91.0]  [37.60783, -109.9662, -4.0]   \n",
       "11  [37.62446, -109.9669, -91.0]  [37.60783, -109.9662, -4.0]   \n",
       "12  [37.62446, -109.9669, -91.0]  [37.60783, -109.9662, -4.0]   \n",
       "13  [37.62446, -109.9669, -91.0]  [37.60783, -109.9662, -4.0]   \n",
       "14  [37.62446, -109.9669, -91.0]  [37.60783, -109.9662, -4.0]   \n",
       "15  [37.62446, -109.9669, -91.0]  [37.60783, -109.9662, -4.0]   \n",
       "16  [37.62446, -109.9669, -91.0]  [37.60783, -109.9662, -4.0]   \n",
       "17  [37.62446, -109.9669, -91.0]  [37.60783, -109.9662, -4.0]   \n",
       "18  [37.62446, -109.9669, -91.0]  [37.60783, -109.9662, -4.0]   \n",
       "19  [37.62446, -109.9669, -91.0]  [37.60783, -109.9662, -4.0]   \n",
       "20  [37.62446, -109.9669, -91.0]  [37.60783, -109.9662, -4.0]   \n",
       "21  [37.62446, -109.9669, -91.0]  [37.60783, -109.9662, -4.0]   \n",
       "22  [37.62446, -109.9669, -91.0]  [37.60783, -109.9662, -4.0]   \n",
       "23  [37.62446, -109.9669, -91.0]  [37.60783, -109.9662, -4.0]   \n",
       "24  [37.62446, -109.9669, -91.0]  [37.60783, -109.9662, -4.0]   \n",
       "25  [37.62446, -109.9669, -91.0]  [37.60783, -109.9662, -4.0]   \n",
       "26  [37.62446, -109.9669, -91.0]  [37.60783, -109.9662, -4.0]   \n",
       "27  [37.62446, -109.9669, -91.0]  [37.60783, -109.9662, -4.0]   \n",
       "28  [37.62446, -109.9669, -91.0]  [37.60783, -109.9662, -4.0]   \n",
       "29  [37.62446, -109.9669, -91.0]  [37.60783, -109.9662, -4.0]   \n",
       "30  [37.62446, -109.9669, -91.0]  [37.60783, -109.9662, -4.0]   \n",
       "31  [37.62446, -109.9669, -91.0]  [37.60783, -109.9662, -4.0]   \n",
       "32  [37.62446, -109.9669, -91.0]  [37.60783, -109.9662, -4.0]   \n",
       "33  [37.62446, -109.9669, -91.0]  [37.60783, -109.9662, -4.0]   \n",
       "34  [37.62446, -109.9669, -91.0]  [37.60783, -109.9662, -4.0]   \n",
       "35  [37.62446, -109.9669, -91.0]  [37.60783, -109.9662, -4.0]   \n",
       "36  [37.62446, -109.9669, -91.0]  [37.60783, -109.9662, -4.0]   \n",
       "37  [37.62446, -109.9669, -91.0]  [37.60783, -109.9662, -4.0]   \n",
       "38  [37.62446, -109.9669, -91.0]  [37.60783, -109.9662, -4.0]   \n",
       "39                          None                         None   \n",
       "40                          None                         None   \n",
       "41  [37.62446, -109.9669, -91.0]  [37.60783, -109.9662, -4.0]   \n",
       "42  [37.62446, -109.9669, -91.0]  [37.60783, -109.9662, -4.0]   \n",
       "43  [37.62446, -109.9669, -91.0]  [37.60783, -109.9662, -4.0]   \n",
       "44  [37.62446, -109.9669, -91.0]  [37.60783, -109.9662, -4.0]   \n",
       "\n",
       "                            111                          112  \n",
       "0   [37.63159, -109.9662, 50.0]  [37.62525, -109.9659, 40.0]  \n",
       "1   [37.63159, -109.9662, 50.0]  [37.62525, -109.9659, 40.0]  \n",
       "2   [37.63159, -109.9662, 50.0]  [37.62525, -109.9659, 40.0]  \n",
       "3   [37.63159, -109.9662, 50.0]  [37.62525, -109.9659, 40.0]  \n",
       "4   [37.63159, -109.9662, 50.0]  [37.62525, -109.9659, 40.0]  \n",
       "5   [37.63159, -109.9662, 50.0]  [37.62525, -109.9659, 40.0]  \n",
       "6   [37.63159, -109.9662, 50.0]  [37.62525, -109.9659, 40.0]  \n",
       "7   [37.63159, -109.9662, 50.0]  [37.62525, -109.9659, 40.0]  \n",
       "8   [37.63159, -109.9662, 50.0]  [37.62525, -109.9659, 40.0]  \n",
       "9   [37.63159, -109.9662, 50.0]  [37.62525, -109.9659, 40.0]  \n",
       "10  [37.63159, -109.9662, 50.0]  [37.62525, -109.9659, 40.0]  \n",
       "11  [37.63159, -109.9662, 50.0]  [37.62525, -109.9659, 40.0]  \n",
       "12  [37.63159, -109.9662, 50.0]  [37.62525, -109.9659, 40.0]  \n",
       "13  [37.63159, -109.9662, 50.0]  [37.62525, -109.9659, 40.0]  \n",
       "14  [37.63159, -109.9662, 50.0]  [37.62525, -109.9659, 40.0]  \n",
       "15  [37.63159, -109.9662, 50.0]  [37.62525, -109.9659, 40.0]  \n",
       "16  [37.63159, -109.9662, 50.0]  [37.62525, -109.9659, 40.0]  \n",
       "17  [37.63159, -109.9662, 50.0]  [37.62525, -109.9659, 40.0]  \n",
       "18  [37.63159, -109.9662, 50.0]  [37.62525, -109.9659, 40.0]  \n",
       "19  [37.63159, -109.9662, 50.0]  [37.62525, -109.9659, 40.0]  \n",
       "20  [37.63159, -109.9662, 50.0]  [37.62525, -109.9659, 40.0]  \n",
       "21  [37.63159, -109.9662, 50.0]  [37.62525, -109.9659, 40.0]  \n",
       "22  [37.63159, -109.9662, 50.0]  [37.62525, -109.9659, 40.0]  \n",
       "23  [37.63159, -109.9662, 50.0]  [37.62525, -109.9659, 40.0]  \n",
       "24  [37.63159, -109.9662, 50.0]  [37.62525, -109.9659, 40.0]  \n",
       "25  [37.63159, -109.9662, 50.0]  [37.62525, -109.9659, 40.0]  \n",
       "26  [37.63159, -109.9662, 50.0]  [37.62525, -109.9659, 40.0]  \n",
       "27  [37.63159, -109.9662, 50.0]  [37.62525, -109.9659, 40.0]  \n",
       "28  [37.63159, -109.9662, 50.0]  [37.62525, -109.9659, 40.0]  \n",
       "29  [37.63159, -109.9662, 50.0]  [37.62525, -109.9659, 40.0]  \n",
       "30  [37.63159, -109.9662, 50.0]  [37.62525, -109.9659, 40.0]  \n",
       "31  [37.63159, -109.9662, 50.0]  [37.62525, -109.9659, 40.0]  \n",
       "32  [37.63159, -109.9662, 50.0]  [37.62525, -109.9659, 40.0]  \n",
       "33  [37.63159, -109.9662, 50.0]  [37.62525, -109.9659, 40.0]  \n",
       "34  [37.63159, -109.9662, 50.0]  [37.62525, -109.9659, 40.0]  \n",
       "35  [37.63159, -109.9662, 50.0]  [37.62525, -109.9659, 40.0]  \n",
       "36  [37.63159, -109.9662, 50.0]  [37.62525, -109.9659, 40.0]  \n",
       "37  [37.63159, -109.9662, 50.0]  [37.62525, -109.9659, 40.0]  \n",
       "38  [37.63159, -109.9662, 50.0]  [37.62525, -109.9659, 40.0]  \n",
       "39                         None                         None  \n",
       "40                         None                         None  \n",
       "41  [37.63159, -109.9662, 50.0]  [37.62525, -109.9659, 40.0]  \n",
       "42  [37.63159, -109.9662, 50.0]  [37.62525, -109.9659, 40.0]  \n",
       "43  [37.63159, -109.9662, 50.0]  [37.62525, -109.9659, 40.0]  \n",
       "44  [37.63159, -109.9662, 50.0]  [37.62525, -109.9659, 40.0]  \n",
       "\n",
       "[45 rows x 113 columns],\n",
       "                {heatmapOptions: {\n",
       "                        radius: 20,\n",
       "                        blur: 10,\n",
       "                        minOpacity: 0,\n",
       "                        maxOpacity: 0.6,\n",
       "                        scaleRadius: false,\n",
       "                        useLocalExtrema: false,\n",
       "                        defaultWeight: 1,\n",
       "                        gradient: {0.2: &#x27;red&#x27;, 0.4: &#x27;brown&#x27;, 0.6: &#x27;yellow&#x27;, 0.8: &#x27;#32CD32&#x27;, 1: &#x27;green&#x27;}\n",
       "                    }\n",
       "                });\n",
       "\n",
       "        \n",
       "    \n",
       "            heat_map_05e883fccac8dd0b1c37794e88f448d0.addTo(map_82f73e0bf0e3b57307b57a33166f29b0);\n",
       "        \n",
       "&lt;/script&gt;\n",
       "&lt;/html&gt;\" style=\"position:absolute;width:100%;height:100%;left:0;top:0;border:none !important;\" allowfullscreen webkitallowfullscreen mozallowfullscreen></iframe></div></div>"
      ],
      "text/plain": [
       "<folium.folium.Map at 0x3139689d0>"
      ]
     },
     "execution_count": 92,
     "metadata": {},
     "output_type": "execute_result"
    }
   ],
   "source": [
    "# the higher the gradient, the more greenery there is. \n",
    "HeatMapWithTime(heat_data_by_year, radius=20, blur=10, gradient={0.2: 'red', 0.4: 'brown', 0.6: 'yellow', 0.8: '#32CD32', 1: 'green'},\n",
    "                index=[str(year) for year in range(1980, 2025)],\n",
    "                use_local_extrema=False).add_to(mymap_1980)\n",
    "\n",
    "mymap_1980"
   ]
  },
  {
   "cell_type": "code",
   "execution_count": 93,
   "metadata": {},
   "outputs": [
    {
     "data": {
      "text/html": [
       "<div style=\"width:100%;\"><div style=\"position:relative;width:100%;height:0;padding-bottom:60%;\"><span style=\"color:#565656\">Make this Notebook Trusted to load map: File -> Trust Notebook</span><iframe srcdoc=\"&lt;!DOCTYPE html&gt;\n",
       "&lt;html&gt;\n",
       "&lt;head&gt;\n",
       "    \n",
       "    &lt;meta http-equiv=&quot;content-type&quot; content=&quot;text/html; charset=UTF-8&quot; /&gt;\n",
       "    \n",
       "        &lt;script&gt;\n",
       "            L_NO_TOUCH = false;\n",
       "            L_DISABLE_3D = false;\n",
       "        &lt;/script&gt;\n",
       "    \n",
       "    &lt;style&gt;html, body {width: 100%;height: 100%;margin: 0;padding: 0;}&lt;/style&gt;\n",
       "    &lt;style&gt;#map {position:absolute;top:0;bottom:0;right:0;left:0;}&lt;/style&gt;\n",
       "    &lt;script src=&quot;https://cdn.jsdelivr.net/npm/leaflet@1.9.3/dist/leaflet.js&quot;&gt;&lt;/script&gt;\n",
       "    &lt;script src=&quot;https://code.jquery.com/jquery-3.7.1.min.js&quot;&gt;&lt;/script&gt;\n",
       "    &lt;script src=&quot;https://cdn.jsdelivr.net/npm/bootstrap@5.2.2/dist/js/bootstrap.bundle.min.js&quot;&gt;&lt;/script&gt;\n",
       "    &lt;script src=&quot;https://cdnjs.cloudflare.com/ajax/libs/Leaflet.awesome-markers/2.0.2/leaflet.awesome-markers.js&quot;&gt;&lt;/script&gt;\n",
       "    &lt;link rel=&quot;stylesheet&quot; href=&quot;https://cdn.jsdelivr.net/npm/leaflet@1.9.3/dist/leaflet.css&quot;/&gt;\n",
       "    &lt;link rel=&quot;stylesheet&quot; href=&quot;https://cdn.jsdelivr.net/npm/bootstrap@5.2.2/dist/css/bootstrap.min.css&quot;/&gt;\n",
       "    &lt;link rel=&quot;stylesheet&quot; href=&quot;https://netdna.bootstrapcdn.com/bootstrap/3.0.0/css/bootstrap.min.css&quot;/&gt;\n",
       "    &lt;link rel=&quot;stylesheet&quot; href=&quot;https://cdn.jsdelivr.net/npm/@fortawesome/fontawesome-free@6.2.0/css/all.min.css&quot;/&gt;\n",
       "    &lt;link rel=&quot;stylesheet&quot; href=&quot;https://cdnjs.cloudflare.com/ajax/libs/Leaflet.awesome-markers/2.0.2/leaflet.awesome-markers.css&quot;/&gt;\n",
       "    &lt;link rel=&quot;stylesheet&quot; href=&quot;https://cdn.jsdelivr.net/gh/python-visualization/folium/folium/templates/leaflet.awesome.rotate.min.css&quot;/&gt;\n",
       "    \n",
       "            &lt;meta name=&quot;viewport&quot; content=&quot;width=device-width,\n",
       "                initial-scale=1.0, maximum-scale=1.0, user-scalable=no&quot; /&gt;\n",
       "            &lt;style&gt;\n",
       "                #map_0cd520d74770f2fc41026a5778c11e6b {\n",
       "                    position: relative;\n",
       "                    width: 800.0px;\n",
       "                    height: 600.0px;\n",
       "                    left: 0.0%;\n",
       "                    top: 0.0%;\n",
       "                }\n",
       "                .leaflet-container { font-size: 1rem; }\n",
       "            &lt;/style&gt;\n",
       "        \n",
       "    &lt;script src=&quot;https://cdn.jsdelivr.net/gh/python-visualization/folium@main/folium/templates/leaflet_heat.min.js&quot;&gt;&lt;/script&gt;\n",
       "&lt;/head&gt;\n",
       "&lt;body&gt;\n",
       "    \n",
       "    \n",
       "            &lt;div class=&quot;folium-map&quot; id=&quot;map_0cd520d74770f2fc41026a5778c11e6b&quot; &gt;&lt;/div&gt;\n",
       "        \n",
       "&lt;/body&gt;\n",
       "&lt;script&gt;\n",
       "    \n",
       "    \n",
       "            var map_0cd520d74770f2fc41026a5778c11e6b = L.map(\n",
       "                &quot;map_0cd520d74770f2fc41026a5778c11e6b&quot;,\n",
       "                {\n",
       "                    center: [37.608164778761065, -110.00636991150444],\n",
       "                    crs: L.CRS.EPSG3857,\n",
       "                    zoom: 13,\n",
       "                    zoomControl: true,\n",
       "                    preferCanvas: false,\n",
       "                }\n",
       "            );\n",
       "\n",
       "            \n",
       "\n",
       "        \n",
       "    \n",
       "            var tile_layer_2cd3e5845c899f18f7ec4c43634979c8 = L.tileLayer(\n",
       "                &quot;https://tile.openstreetmap.org/{z}/{x}/{y}.png&quot;,\n",
       "                {&quot;attribution&quot;: &quot;\\u0026copy; \\u003ca href=\\&quot;https://www.openstreetmap.org/copyright\\&quot;\\u003eOpenStreetMap\\u003c/a\\u003e contributors&quot;, &quot;detectRetina&quot;: false, &quot;maxNativeZoom&quot;: 19, &quot;maxZoom&quot;: 19, &quot;minZoom&quot;: 0, &quot;noWrap&quot;: false, &quot;opacity&quot;: 1, &quot;subdomains&quot;: &quot;abc&quot;, &quot;tms&quot;: false}\n",
       "            );\n",
       "        \n",
       "    \n",
       "            tile_layer_2cd3e5845c899f18f7ec4c43634979c8.addTo(map_0cd520d74770f2fc41026a5778c11e6b);\n",
       "        \n",
       "    \n",
       "            var heat_map_130f435bac963b475251f4acbdb2fcb1 = L.heatLayer(\n",
       "                [[37.60413, -110.0472, -61.0], [37.60334, -110.0461, -48.0], [37.60308, -110.0458, -29.0], [37.60519, -110.0393, -15.0], [37.60545, -110.0389, -25.0], [37.59621, -110.0386, -29.0], [37.60202, -110.0376, -35.0], [37.6044, -110.0376, -18.0], [37.60096, -110.0365, -18.0], [37.60334, -110.0365, -59.0], [37.59489, -110.0355, -72.0], [37.59067, -110.0348, 1.0], [37.60123, -110.0345, -14.0], [37.6044, -110.0341, -9.0], [37.58882, -110.0338, 12.0], [37.59991, -110.0338, -38.0], [37.60492, -110.0334, -42.0], [37.60915, -110.0331, 6.0], [37.60334, -110.0328, -87.0], [37.60862, -110.0321, -36.0], [37.58935, -110.0314, 37.0], [37.59938, -110.03, 62.0], [37.60598, -110.029, -18.0], [37.61179, -110.029, -3.0], [37.60202, -110.0286, -23.0], [37.58671, -110.0283, -8.0], [37.58011, -110.028, -12.0], [37.59753, -110.028, -10.0], [37.60704, -110.0273, -24.0], [37.60308, -110.0262, -15.0], [37.60809, -110.0259, -83.0], [37.57668, -110.0245, 30.0], [37.61496, -110.0245, -36.0], [37.61284, -110.0242, -34.0], [37.57377, -110.0235, 7.0], [37.59595, -110.0218, -74.0], [37.5846, -110.0214, 25.0], [37.57984, -110.0208, -18.0], [37.57192, -110.0201, -1.0], [37.61205, -110.0177, -24.0], [37.6007, -110.0173, 16.0], [37.61416, -110.017, 47.0], [37.61258, -110.0153, 13.0], [37.58143, -110.0149, -71.0], [37.61839, -110.0146, -13.0], [37.62472, -110.0129, -37.0], [37.62736, -110.0129, -77.0], [37.59252, -110.0105, 7.0], [37.6139, -110.0105, 31.0], [37.62208, -110.0105, -26.0], [37.62024, -110.0101, -46.0], [37.59964, -110.0098, 29.0], [37.61839, -110.0094, -24.0], [37.57324, -110.0084, 8.0], [37.61733, -110.007, -8.0], [37.59436, -110.0057, -36.0], [37.61284, -110.0057, 38.0], [37.61892, -110.005, -39.0], [37.62657, -110.005, 13.0], [37.57034, -110.0046, 54.0], [37.59806, -110.0033, 13.0], [37.61707, -110.0033, 61.0], [37.62156, -110.0029, -72.0], [37.57324, -110.0022, 0.0], [37.5846, -110.0022, -89.0], [37.60915, -110.0022, -87.0], [37.57879, -110.0019, -23.0], [37.59146, -110.0016, 16.0], [37.61654, -110.0016, 25.0], [37.61733, -110.0012, 25.0], [37.61892, -110.0005, -12.0], [37.58565, -109.9998, -32.0], [37.62393, -109.9988, -63.0], [37.58988, -109.9978, -62.0], [37.6044, -109.9974, -12.0], [37.61997, -109.9971, 54.0], [37.59727, -109.995, -13.0], [37.62499, -109.994, -87.0], [37.6102, -109.9933, 3.0], [37.5941, -109.993, -52.0], [37.61865, -109.993, 38.0], [37.62684, -109.9926, -54.0], [37.63212, -109.9916, -61.0], [37.62578, -109.9913, 20.0], [37.59278, -109.9909, -7.0], [37.62736, -109.9882, 63.0], [37.62235, -109.9878, 19.0], [37.62156, -109.9858, 9.0], [37.62763, -109.9837, -4.0], [37.62974, -109.983, -51.0], [37.62816, -109.9823, 30.0], [37.6139, -109.9803, 1.0], [37.62868, -109.9799, 23.0], [37.60308, -109.9786, 29.0], [37.63027, -109.9786, 35.0], [37.62921, -109.9782, -23.0], [37.63344, -109.9775, 1.0], [37.62789, -109.9762, 22.0], [37.59912, -109.9758, -52.0], [37.60862, -109.9758, 8.0], [37.62684, -109.9758, 39.0], [37.61522, -109.9734, 18.0], [37.6308, -109.9731, 89.0], [37.63476, -109.9714, -9.0], [37.62631, -109.9693, 23.0], [37.61284, -109.969, 11.0], [37.61654, -109.9679, -13.0], [37.62974, -109.9679, 53.0], [37.62868, -109.9673, -30.0], [37.62446, -109.9669, -91.0], [37.60783, -109.9662, -4.0], [37.63159, -109.9662, 50.0], [37.62525, -109.9659, 40.0]],\n",
       "                {&quot;blur&quot;: 10, &quot;gradient&quot;: {&quot;0.2&quot;: &quot;red&quot;, &quot;0.4&quot;: &quot;brown&quot;, &quot;0.6&quot;: &quot;yellow&quot;, &quot;0.8&quot;: &quot;#32CD32&quot;, &quot;1&quot;: &quot;green&quot;}, &quot;maxZoom&quot;: 18, &quot;minOpacity&quot;: 0.5, &quot;radius&quot;: 20}\n",
       "            );\n",
       "        \n",
       "    \n",
       "            heat_map_130f435bac963b475251f4acbdb2fcb1.addTo(map_0cd520d74770f2fc41026a5778c11e6b);\n",
       "        \n",
       "&lt;/script&gt;\n",
       "&lt;/html&gt;\" style=\"position:absolute;width:100%;height:100%;left:0;top:0;border:none !important;\" allowfullscreen webkitallowfullscreen mozallowfullscreen></iframe></div></div>"
      ],
      "text/plain": [
       "<folium.folium.Map at 0x3129cd010>"
      ]
     },
     "execution_count": 93,
     "metadata": {},
     "output_type": "execute_result"
    }
   ],
   "source": [
    "# create a folium heatmap of the 2020 data\n",
    "map_center = [greenery_total['lat'].mean(), greenery_total['long'].mean()]\n",
    "map_width = 800  \n",
    "map_height = 600 \n",
    "mymap_2020 = folium.Map(location=map_center, zoom_start=13, width=map_width, height=map_height)\n",
    "\n",
    "heat_data_green = data_1980[['lat', 'long', 'total']].reset_index(drop=True).values.tolist()\n",
    "\n",
    "# the higher the gradient, the more greenery there is. \n",
    "HeatMap(heat_data_green, radius=20, blur=10, gradient={0.2: 'red', 0.4: 'brown', 0.6: 'yellow', 0.8: '#32CD32', 1: 'green'}).add_to(mymap_2020)\n",
    "\n",
    "mymap_2020"
   ]
  },
  {
   "cell_type": "code",
   "execution_count": 94,
   "metadata": {},
   "outputs": [
    {
     "data": {
      "text/html": [
       "<div style=\"width:100%;\"><div style=\"position:relative;width:100%;height:0;padding-bottom:60%;\"><span style=\"color:#565656\">Make this Notebook Trusted to load map: File -> Trust Notebook</span><iframe srcdoc=\"&lt;!DOCTYPE html&gt;\n",
       "&lt;html&gt;\n",
       "&lt;head&gt;\n",
       "    \n",
       "    &lt;meta http-equiv=&quot;content-type&quot; content=&quot;text/html; charset=UTF-8&quot; /&gt;\n",
       "    \n",
       "        &lt;script&gt;\n",
       "            L_NO_TOUCH = false;\n",
       "            L_DISABLE_3D = false;\n",
       "        &lt;/script&gt;\n",
       "    \n",
       "    &lt;style&gt;html, body {width: 100%;height: 100%;margin: 0;padding: 0;}&lt;/style&gt;\n",
       "    &lt;style&gt;#map {position:absolute;top:0;bottom:0;right:0;left:0;}&lt;/style&gt;\n",
       "    &lt;script src=&quot;https://cdn.jsdelivr.net/npm/leaflet@1.9.3/dist/leaflet.js&quot;&gt;&lt;/script&gt;\n",
       "    &lt;script src=&quot;https://code.jquery.com/jquery-3.7.1.min.js&quot;&gt;&lt;/script&gt;\n",
       "    &lt;script src=&quot;https://cdn.jsdelivr.net/npm/bootstrap@5.2.2/dist/js/bootstrap.bundle.min.js&quot;&gt;&lt;/script&gt;\n",
       "    &lt;script src=&quot;https://cdnjs.cloudflare.com/ajax/libs/Leaflet.awesome-markers/2.0.2/leaflet.awesome-markers.js&quot;&gt;&lt;/script&gt;\n",
       "    &lt;link rel=&quot;stylesheet&quot; href=&quot;https://cdn.jsdelivr.net/npm/leaflet@1.9.3/dist/leaflet.css&quot;/&gt;\n",
       "    &lt;link rel=&quot;stylesheet&quot; href=&quot;https://cdn.jsdelivr.net/npm/bootstrap@5.2.2/dist/css/bootstrap.min.css&quot;/&gt;\n",
       "    &lt;link rel=&quot;stylesheet&quot; href=&quot;https://netdna.bootstrapcdn.com/bootstrap/3.0.0/css/bootstrap.min.css&quot;/&gt;\n",
       "    &lt;link rel=&quot;stylesheet&quot; href=&quot;https://cdn.jsdelivr.net/npm/@fortawesome/fontawesome-free@6.2.0/css/all.min.css&quot;/&gt;\n",
       "    &lt;link rel=&quot;stylesheet&quot; href=&quot;https://cdnjs.cloudflare.com/ajax/libs/Leaflet.awesome-markers/2.0.2/leaflet.awesome-markers.css&quot;/&gt;\n",
       "    &lt;link rel=&quot;stylesheet&quot; href=&quot;https://cdn.jsdelivr.net/gh/python-visualization/folium/folium/templates/leaflet.awesome.rotate.min.css&quot;/&gt;\n",
       "    \n",
       "            &lt;meta name=&quot;viewport&quot; content=&quot;width=device-width,\n",
       "                initial-scale=1.0, maximum-scale=1.0, user-scalable=no&quot; /&gt;\n",
       "            &lt;style&gt;\n",
       "                #map_0a3d35a829f08b99531f7835740ab298 {\n",
       "                    position: relative;\n",
       "                    width: 800.0px;\n",
       "                    height: 600.0px;\n",
       "                    left: 0.0%;\n",
       "                    top: 0.0%;\n",
       "                }\n",
       "                .leaflet-container { font-size: 1rem; }\n",
       "            &lt;/style&gt;\n",
       "        \n",
       "    &lt;script src=&quot;https://cdn.jsdelivr.net/gh/python-visualization/folium@main/folium/templates/leaflet_heat.min.js&quot;&gt;&lt;/script&gt;\n",
       "&lt;/head&gt;\n",
       "&lt;body&gt;\n",
       "    \n",
       "    \n",
       "            &lt;div class=&quot;folium-map&quot; id=&quot;map_0a3d35a829f08b99531f7835740ab298&quot; &gt;&lt;/div&gt;\n",
       "        \n",
       "&lt;/body&gt;\n",
       "&lt;script&gt;\n",
       "    \n",
       "    \n",
       "            var map_0a3d35a829f08b99531f7835740ab298 = L.map(\n",
       "                &quot;map_0a3d35a829f08b99531f7835740ab298&quot;,\n",
       "                {\n",
       "                    center: [37.608164778761065, -110.00636991150444],\n",
       "                    crs: L.CRS.EPSG3857,\n",
       "                    zoom: 13,\n",
       "                    zoomControl: true,\n",
       "                    preferCanvas: false,\n",
       "                }\n",
       "            );\n",
       "\n",
       "            \n",
       "\n",
       "        \n",
       "    \n",
       "            var tile_layer_c48cadf3c3755f33a1e662df13551721 = L.tileLayer(\n",
       "                &quot;https://tile.openstreetmap.org/{z}/{x}/{y}.png&quot;,\n",
       "                {&quot;attribution&quot;: &quot;\\u0026copy; \\u003ca href=\\&quot;https://www.openstreetmap.org/copyright\\&quot;\\u003eOpenStreetMap\\u003c/a\\u003e contributors&quot;, &quot;detectRetina&quot;: false, &quot;maxNativeZoom&quot;: 19, &quot;maxZoom&quot;: 19, &quot;minZoom&quot;: 0, &quot;noWrap&quot;: false, &quot;opacity&quot;: 1, &quot;subdomains&quot;: &quot;abc&quot;, &quot;tms&quot;: false}\n",
       "            );\n",
       "        \n",
       "    \n",
       "            tile_layer_c48cadf3c3755f33a1e662df13551721.addTo(map_0a3d35a829f08b99531f7835740ab298);\n",
       "        \n",
       "    \n",
       "            var heat_map_9c01c65a2b966086d8947d22e95eecea = L.heatLayer(\n",
       "                [[37.60413, -110.0472, -61.0], [37.60334, -110.0461, -48.0], [37.60308, -110.0458, -29.0], [37.60519, -110.0393, -15.0], [37.60545, -110.0389, -25.0], [37.59621, -110.0386, -29.0], [37.60202, -110.0376, -35.0], [37.6044, -110.0376, -18.0], [37.60096, -110.0365, -18.0], [37.60334, -110.0365, -59.0], [37.59489, -110.0355, -72.0], [37.59067, -110.0348, 1.0], [37.60123, -110.0345, -14.0], [37.6044, -110.0341, -9.0], [37.58882, -110.0338, 12.0], [37.59991, -110.0338, -38.0], [37.60492, -110.0334, -42.0], [37.60915, -110.0331, 6.0], [37.60334, -110.0328, -87.0], [37.60862, -110.0321, -36.0], [37.58935, -110.0314, 37.0], [37.59938, -110.03, 62.0], [37.60598, -110.029, -18.0], [37.61179, -110.029, -3.0], [37.60202, -110.0286, -23.0], [37.58671, -110.0283, -8.0], [37.58011, -110.028, -12.0], [37.59753, -110.028, -10.0], [37.60704, -110.0273, -24.0], [37.60308, -110.0262, -15.0], [37.60809, -110.0259, -83.0], [37.57668, -110.0245, 30.0], [37.61496, -110.0245, -36.0], [37.61284, -110.0242, -34.0], [37.57377, -110.0235, 7.0], [37.59595, -110.0218, -74.0], [37.5846, -110.0214, 25.0], [37.57984, -110.0208, -18.0], [37.57192, -110.0201, -1.0], [37.61205, -110.0177, -24.0], [37.6007, -110.0173, 16.0], [37.61416, -110.017, 47.0], [37.61258, -110.0153, 13.0], [37.58143, -110.0149, -71.0], [37.61839, -110.0146, -13.0], [37.62472, -110.0129, -37.0], [37.62736, -110.0129, -77.0], [37.59252, -110.0105, 7.0], [37.6139, -110.0105, 31.0], [37.62208, -110.0105, -26.0], [37.62024, -110.0101, -46.0], [37.59964, -110.0098, 29.0], [37.61839, -110.0094, -24.0], [37.57324, -110.0084, 8.0], [37.61733, -110.007, -8.0], [37.59436, -110.0057, -36.0], [37.61284, -110.0057, 38.0], [37.61892, -110.005, -39.0], [37.62657, -110.005, 13.0], [37.57034, -110.0046, 54.0], [37.59806, -110.0033, 13.0], [37.61707, -110.0033, 61.0], [37.62156, -110.0029, -72.0], [37.57324, -110.0022, 0.0], [37.5846, -110.0022, -89.0], [37.60915, -110.0022, -87.0], [37.57879, -110.0019, -23.0], [37.59146, -110.0016, 16.0], [37.61654, -110.0016, 25.0], [37.61733, -110.0012, 25.0], [37.61892, -110.0005, -12.0], [37.58565, -109.9998, -32.0], [37.62393, -109.9988, -63.0], [37.58988, -109.9978, -62.0], [37.6044, -109.9974, -12.0], [37.61997, -109.9971, 54.0], [37.59727, -109.995, -13.0], [37.62499, -109.994, -87.0], [37.6102, -109.9933, 3.0], [37.5941, -109.993, -52.0], [37.61865, -109.993, 38.0], [37.62684, -109.9926, -54.0], [37.63212, -109.9916, -61.0], [37.62578, -109.9913, 20.0], [37.59278, -109.9909, -7.0], [37.62736, -109.9882, 63.0], [37.62235, -109.9878, 19.0], [37.62156, -109.9858, 9.0], [37.62763, -109.9837, -4.0], [37.62974, -109.983, -51.0], [37.62816, -109.9823, 30.0], [37.6139, -109.9803, 1.0], [37.62868, -109.9799, 23.0], [37.60308, -109.9786, 29.0], [37.63027, -109.9786, 35.0], [37.62921, -109.9782, -23.0], [37.63344, -109.9775, 1.0], [37.62789, -109.9762, 22.0], [37.59912, -109.9758, -52.0], [37.60862, -109.9758, 8.0], [37.62684, -109.9758, 39.0], [37.61522, -109.9734, 18.0], [37.6308, -109.9731, 89.0], [37.63476, -109.9714, -9.0], [37.62631, -109.9693, 23.0], [37.61284, -109.969, 11.0], [37.61654, -109.9679, -13.0], [37.62974, -109.9679, 53.0], [37.62868, -109.9673, -30.0], [37.62446, -109.9669, -91.0], [37.60783, -109.9662, -4.0], [37.63159, -109.9662, 50.0], [37.62525, -109.9659, 40.0]],\n",
       "                {&quot;blur&quot;: 10, &quot;gradient&quot;: {&quot;0.2&quot;: &quot;red&quot;, &quot;0.4&quot;: &quot;brown&quot;, &quot;0.6&quot;: &quot;yellow&quot;, &quot;0.8&quot;: &quot;#32CD32&quot;, &quot;1&quot;: &quot;green&quot;}, &quot;maxZoom&quot;: 18, &quot;minOpacity&quot;: 0.5, &quot;radius&quot;: 20}\n",
       "            );\n",
       "        \n",
       "    \n",
       "            heat_map_9c01c65a2b966086d8947d22e95eecea.addTo(map_0a3d35a829f08b99531f7835740ab298);\n",
       "        \n",
       "&lt;/script&gt;\n",
       "&lt;/html&gt;\" style=\"position:absolute;width:100%;height:100%;left:0;top:0;border:none !important;\" allowfullscreen webkitallowfullscreen mozallowfullscreen></iframe></div></div>"
      ],
      "text/plain": [
       "<folium.folium.Map at 0x30ae781d0>"
      ]
     },
     "execution_count": 94,
     "metadata": {},
     "output_type": "execute_result"
    }
   ],
   "source": [
    "# create a folium heatmap of the 1980 data\n",
    "map_center = [greenery_total['lat'].mean(), greenery_total['long'].mean()]\n",
    "map_width = 800  \n",
    "map_height = 600 \n",
    "mymap_2024 = folium.Map(location=map_center, zoom_start=13, width=map_width, height=map_height)\n",
    "\n",
    "heat_data_green = data_2024[['lat', 'long', 'total']].reset_index(drop=True).values.tolist()\n",
    "\n",
    "# the higher the gradient, the more greenery there is. \n",
    "HeatMap(heat_data_green, radius=20, blur=10, gradient={0.2: 'red', 0.4: 'brown', 0.6: 'yellow', 0.8: '#32CD32', 1: 'green'}).add_to(mymap_2024)\n",
    "\n",
    "mymap_2024"
   ]
  },
  {
   "cell_type": "code",
   "execution_count": 95,
   "metadata": {},
   "outputs": [],
   "source": [
    "# create a folium heatmap\n",
    "map_center = [greenery_total['lat'].mean(), greenery_total['long'].mean()]\n",
    "map_width = 800  \n",
    "map_height = 600 \n",
    "mymap = folium.Map(location=map_center, zoom_start=13, width=map_width, height=map_height)\n",
    "\n",
    "heat_data_green = greenery_total[['lat', 'long', 'total']].reset_index(drop=True).values.tolist()"
   ]
  },
  {
   "cell_type": "code",
   "execution_count": 96,
   "metadata": {},
   "outputs": [
    {
     "data": {
      "text/html": [
       "<div style=\"width:100%;\"><div style=\"position:relative;width:100%;height:0;padding-bottom:60%;\"><span style=\"color:#565656\">Make this Notebook Trusted to load map: File -> Trust Notebook</span><iframe srcdoc=\"&lt;!DOCTYPE html&gt;\n",
       "&lt;html&gt;\n",
       "&lt;head&gt;\n",
       "    \n",
       "    &lt;meta http-equiv=&quot;content-type&quot; content=&quot;text/html; charset=UTF-8&quot; /&gt;\n",
       "    \n",
       "        &lt;script&gt;\n",
       "            L_NO_TOUCH = false;\n",
       "            L_DISABLE_3D = false;\n",
       "        &lt;/script&gt;\n",
       "    \n",
       "    &lt;style&gt;html, body {width: 100%;height: 100%;margin: 0;padding: 0;}&lt;/style&gt;\n",
       "    &lt;style&gt;#map {position:absolute;top:0;bottom:0;right:0;left:0;}&lt;/style&gt;\n",
       "    &lt;script src=&quot;https://cdn.jsdelivr.net/npm/leaflet@1.9.3/dist/leaflet.js&quot;&gt;&lt;/script&gt;\n",
       "    &lt;script src=&quot;https://code.jquery.com/jquery-3.7.1.min.js&quot;&gt;&lt;/script&gt;\n",
       "    &lt;script src=&quot;https://cdn.jsdelivr.net/npm/bootstrap@5.2.2/dist/js/bootstrap.bundle.min.js&quot;&gt;&lt;/script&gt;\n",
       "    &lt;script src=&quot;https://cdnjs.cloudflare.com/ajax/libs/Leaflet.awesome-markers/2.0.2/leaflet.awesome-markers.js&quot;&gt;&lt;/script&gt;\n",
       "    &lt;link rel=&quot;stylesheet&quot; href=&quot;https://cdn.jsdelivr.net/npm/leaflet@1.9.3/dist/leaflet.css&quot;/&gt;\n",
       "    &lt;link rel=&quot;stylesheet&quot; href=&quot;https://cdn.jsdelivr.net/npm/bootstrap@5.2.2/dist/css/bootstrap.min.css&quot;/&gt;\n",
       "    &lt;link rel=&quot;stylesheet&quot; href=&quot;https://netdna.bootstrapcdn.com/bootstrap/3.0.0/css/bootstrap.min.css&quot;/&gt;\n",
       "    &lt;link rel=&quot;stylesheet&quot; href=&quot;https://cdn.jsdelivr.net/npm/@fortawesome/fontawesome-free@6.2.0/css/all.min.css&quot;/&gt;\n",
       "    &lt;link rel=&quot;stylesheet&quot; href=&quot;https://cdnjs.cloudflare.com/ajax/libs/Leaflet.awesome-markers/2.0.2/leaflet.awesome-markers.css&quot;/&gt;\n",
       "    &lt;link rel=&quot;stylesheet&quot; href=&quot;https://cdn.jsdelivr.net/gh/python-visualization/folium/folium/templates/leaflet.awesome.rotate.min.css&quot;/&gt;\n",
       "    \n",
       "            &lt;meta name=&quot;viewport&quot; content=&quot;width=device-width,\n",
       "                initial-scale=1.0, maximum-scale=1.0, user-scalable=no&quot; /&gt;\n",
       "            &lt;style&gt;\n",
       "                #map_9d230a87230136c00711e396450da417 {\n",
       "                    position: relative;\n",
       "                    width: 800.0px;\n",
       "                    height: 600.0px;\n",
       "                    left: 0.0%;\n",
       "                    top: 0.0%;\n",
       "                }\n",
       "                .leaflet-container { font-size: 1rem; }\n",
       "            &lt;/style&gt;\n",
       "        \n",
       "    &lt;script src=&quot;https://cdn.jsdelivr.net/gh/python-visualization/folium@main/folium/templates/leaflet_heat.min.js&quot;&gt;&lt;/script&gt;\n",
       "&lt;/head&gt;\n",
       "&lt;body&gt;\n",
       "    \n",
       "    \n",
       "            &lt;div class=&quot;folium-map&quot; id=&quot;map_9d230a87230136c00711e396450da417&quot; &gt;&lt;/div&gt;\n",
       "        \n",
       "&lt;/body&gt;\n",
       "&lt;script&gt;\n",
       "    \n",
       "    \n",
       "            var map_9d230a87230136c00711e396450da417 = L.map(\n",
       "                &quot;map_9d230a87230136c00711e396450da417&quot;,\n",
       "                {\n",
       "                    center: [37.608164778761065, -110.00636991150444],\n",
       "                    crs: L.CRS.EPSG3857,\n",
       "                    zoom: 13,\n",
       "                    zoomControl: true,\n",
       "                    preferCanvas: false,\n",
       "                }\n",
       "            );\n",
       "\n",
       "            \n",
       "\n",
       "        \n",
       "    \n",
       "            var tile_layer_5b4cd83095fadb289ec6ad3fcbbc0838 = L.tileLayer(\n",
       "                &quot;https://tile.openstreetmap.org/{z}/{x}/{y}.png&quot;,\n",
       "                {&quot;attribution&quot;: &quot;\\u0026copy; \\u003ca href=\\&quot;https://www.openstreetmap.org/copyright\\&quot;\\u003eOpenStreetMap\\u003c/a\\u003e contributors&quot;, &quot;detectRetina&quot;: false, &quot;maxNativeZoom&quot;: 19, &quot;maxZoom&quot;: 19, &quot;minZoom&quot;: 0, &quot;noWrap&quot;: false, &quot;opacity&quot;: 1, &quot;subdomains&quot;: &quot;abc&quot;, &quot;tms&quot;: false}\n",
       "            );\n",
       "        \n",
       "    \n",
       "            tile_layer_5b4cd83095fadb289ec6ad3fcbbc0838.addTo(map_9d230a87230136c00711e396450da417);\n",
       "        \n",
       "    \n",
       "            var heat_map_003e3d6cac9642149869bb3e34f2f12b = L.heatLayer(\n",
       "                [[37.60413, -110.0472, -61.0], [37.60413, -110.0472, -61.0], [37.60413, -110.0472, -61.0], [37.60413, -110.0472, -61.0], [37.60413, -110.0472, -61.0], [37.60413, -110.0472, -61.0], [37.60413, -110.0472, -61.0], [37.60413, -110.0472, -61.0], [37.60413, -110.0472, -61.0], [37.60413, -110.0472, -61.0], [37.60413, -110.0472, -61.0], [37.60413, -110.0472, -61.0], [37.60413, -110.0472, -61.0], [37.60413, -110.0472, -61.0], [37.60413, -110.0472, -61.0], [37.60413, -110.0472, -61.0], [37.60413, -110.0472, -61.0], [37.60413, -110.0472, -61.0], [37.60413, -110.0472, -61.0], [37.60413, -110.0472, -61.0], [37.60413, -110.0472, -61.0], [37.60413, -110.0472, -61.0], [37.60413, -110.0472, -61.0], [37.60413, -110.0472, -61.0], [37.60413, -110.0472, -61.0], [37.60413, -110.0472, -61.0], [37.60413, -110.0472, -61.0], [37.60413, -110.0472, -61.0], [37.60413, -110.0472, -61.0], [37.60413, -110.0472, -61.0], [37.60413, -110.0472, -61.0], [37.60413, -110.0472, -61.0], [37.60413, -110.0472, -61.0], [37.60413, -110.0472, -61.0], [37.60413, -110.0472, -61.0], [37.60413, -110.0472, -61.0], [37.60413, -110.0472, -61.0], [37.60413, -110.0472, -61.0], [37.60413, -110.0472, -61.0], [37.60413, -110.0472, -61.0], [37.60413, -110.0472, -61.0], [37.60413, -110.0472, -61.0], [37.60413, -110.0472, -61.0], [37.60334, -110.0461, -48.0], [37.60334, -110.0461, -48.0], [37.60334, -110.0461, -48.0], [37.60334, -110.0461, -48.0], [37.60334, -110.0461, -48.0], [37.60334, -110.0461, -48.0], [37.60334, -110.0461, -48.0], [37.60334, -110.0461, -48.0], [37.60334, -110.0461, -48.0], [37.60334, -110.0461, -48.0], [37.60334, -110.0461, -48.0], [37.60334, -110.0461, -48.0], [37.60334, -110.0461, -48.0], [37.60334, -110.0461, -48.0], [37.60334, -110.0461, -48.0], [37.60334, -110.0461, -48.0], [37.60334, -110.0461, -48.0], [37.60334, -110.0461, -48.0], [37.60334, -110.0461, -48.0], [37.60334, -110.0461, -48.0], [37.60334, -110.0461, -48.0], [37.60334, -110.0461, -48.0], [37.60334, -110.0461, -48.0], [37.60334, -110.0461, -48.0], [37.60334, -110.0461, -48.0], [37.60334, -110.0461, -48.0], [37.60334, -110.0461, -48.0], [37.60334, -110.0461, -48.0], [37.60334, -110.0461, -48.0], [37.60334, -110.0461, -48.0], [37.60334, -110.0461, -48.0], [37.60334, -110.0461, -48.0], [37.60334, -110.0461, -48.0], [37.60334, -110.0461, -48.0], [37.60334, -110.0461, -48.0], [37.60334, -110.0461, -48.0], [37.60334, -110.0461, -48.0], [37.60334, -110.0461, -48.0], [37.60334, -110.0461, -48.0], [37.60334, -110.0461, -48.0], [37.60334, -110.0461, -48.0], [37.60334, -110.0461, -48.0], [37.60334, -110.0461, -48.0], [37.60308, -110.0458, -29.0], [37.60308, -110.0458, -29.0], [37.60308, -110.0458, -29.0], [37.60308, -110.0458, -29.0], [37.60308, -110.0458, -29.0], [37.60308, -110.0458, -29.0], [37.60308, -110.0458, -29.0], [37.60308, -110.0458, -29.0], [37.60308, -110.0458, -29.0], [37.60308, -110.0458, -29.0], [37.60308, -110.0458, -29.0], [37.60308, -110.0458, -29.0], [37.60308, -110.0458, -29.0], [37.60308, -110.0458, -29.0], [37.60308, -110.0458, -29.0], [37.60308, -110.0458, -29.0], [37.60308, -110.0458, -29.0], [37.60308, -110.0458, -29.0], [37.60308, -110.0458, -29.0], [37.60308, -110.0458, -29.0], [37.60308, -110.0458, -29.0], [37.60308, -110.0458, -29.0], [37.60308, -110.0458, -29.0], [37.60308, -110.0458, -29.0], [37.60308, -110.0458, -29.0], [37.60308, -110.0458, -29.0], [37.60308, -110.0458, -29.0], [37.60308, -110.0458, -29.0], [37.60308, -110.0458, -29.0], [37.60308, -110.0458, -29.0], [37.60308, -110.0458, -29.0], [37.60308, -110.0458, -29.0], [37.60308, -110.0458, -29.0], [37.60308, -110.0458, -29.0], [37.60308, -110.0458, -29.0], [37.60308, -110.0458, -29.0], [37.60308, -110.0458, -29.0], [37.60308, -110.0458, -29.0], [37.60308, -110.0458, -29.0], [37.60308, -110.0458, -29.0], [37.60308, -110.0458, -29.0], [37.60308, -110.0458, -29.0], [37.60308, -110.0458, -29.0], [37.60519, -110.0393, -15.0], [37.60519, -110.0393, -15.0], [37.60519, -110.0393, -15.0], [37.60519, -110.0393, -15.0], [37.60519, -110.0393, -15.0], [37.60519, -110.0393, -15.0], [37.60519, -110.0393, -15.0], [37.60519, -110.0393, -15.0], [37.60519, -110.0393, -15.0], [37.60519, -110.0393, -15.0], [37.60519, -110.0393, -15.0], [37.60519, -110.0393, -15.0], [37.60519, -110.0393, -15.0], [37.60519, -110.0393, -15.0], [37.60519, -110.0393, -15.0], [37.60519, -110.0393, -15.0], [37.60519, -110.0393, -15.0], [37.60519, -110.0393, -15.0], [37.60519, -110.0393, -15.0], [37.60519, -110.0393, -15.0], [37.60519, -110.0393, -15.0], [37.60519, -110.0393, -15.0], [37.60519, -110.0393, -15.0], [37.60519, -110.0393, -15.0], [37.60519, -110.0393, -15.0], [37.60519, -110.0393, -15.0], [37.60519, -110.0393, -15.0], [37.60519, -110.0393, -15.0], [37.60519, -110.0393, -15.0], [37.60519, -110.0393, -15.0], [37.60519, -110.0393, -15.0], [37.60519, -110.0393, -15.0], [37.60519, -110.0393, -15.0], [37.60519, -110.0393, -15.0], [37.60519, -110.0393, -15.0], [37.60519, -110.0393, -15.0], [37.60519, -110.0393, -15.0], [37.60519, -110.0393, -15.0], [37.60519, -110.0393, -15.0], [37.60519, -110.0393, -15.0], [37.60519, -110.0393, -15.0], [37.60519, -110.0393, -15.0], [37.60519, -110.0393, -15.0], [37.60545, -110.0389, -25.0], [37.60545, -110.0389, -25.0], [37.60545, -110.0389, -25.0], [37.60545, -110.0389, -25.0], [37.60545, -110.0389, -25.0], [37.60545, -110.0389, -25.0], [37.60545, -110.0389, -25.0], [37.60545, -110.0389, -25.0], [37.60545, -110.0389, -25.0], [37.60545, -110.0389, -25.0], [37.60545, -110.0389, -25.0], [37.60545, -110.0389, -25.0], [37.60545, -110.0389, -25.0], [37.60545, -110.0389, -25.0], [37.60545, -110.0389, -25.0], [37.60545, -110.0389, -25.0], [37.60545, -110.0389, -25.0], [37.60545, -110.0389, -25.0], [37.60545, -110.0389, -25.0], [37.60545, -110.0389, -25.0], [37.60545, -110.0389, -25.0], [37.60545, -110.0389, -25.0], [37.60545, -110.0389, -25.0], [37.60545, -110.0389, -25.0], [37.60545, -110.0389, -25.0], [37.60545, -110.0389, -25.0], [37.60545, -110.0389, -25.0], [37.60545, -110.0389, -25.0], [37.60545, -110.0389, -25.0], [37.60545, -110.0389, -25.0], [37.60545, -110.0389, -25.0], [37.60545, -110.0389, -25.0], [37.60545, -110.0389, -25.0], [37.60545, -110.0389, -25.0], [37.60545, -110.0389, -25.0], [37.60545, -110.0389, -25.0], [37.60545, -110.0389, -25.0], [37.60545, -110.0389, -25.0], [37.60545, -110.0389, -25.0], [37.60545, -110.0389, -25.0], [37.60545, -110.0389, -25.0], [37.60545, -110.0389, -25.0], [37.60545, -110.0389, -25.0], [37.59621, -110.0386, -29.0], [37.59621, -110.0386, -29.0], [37.59621, -110.0386, -29.0], [37.59621, -110.0386, -29.0], [37.59621, -110.0386, -29.0], [37.59621, -110.0386, -29.0], [37.59621, -110.0386, -29.0], [37.59621, -110.0386, -29.0], [37.59621, -110.0386, -29.0], [37.59621, -110.0386, -29.0], [37.59621, -110.0386, -29.0], [37.59621, -110.0386, -29.0], [37.59621, -110.0386, -29.0], [37.59621, -110.0386, -29.0], [37.59621, -110.0386, -29.0], [37.59621, -110.0386, -29.0], [37.59621, -110.0386, -29.0], [37.59621, -110.0386, -29.0], [37.59621, -110.0386, -29.0], [37.59621, -110.0386, -29.0], [37.59621, -110.0386, -29.0], [37.59621, -110.0386, -29.0], [37.59621, -110.0386, -29.0], [37.59621, -110.0386, -29.0], [37.59621, -110.0386, -29.0], [37.59621, -110.0386, -29.0], [37.59621, -110.0386, -29.0], [37.59621, -110.0386, -29.0], [37.59621, -110.0386, -29.0], [37.59621, -110.0386, -29.0], [37.59621, -110.0386, -29.0], [37.59621, -110.0386, -29.0], [37.59621, -110.0386, -29.0], [37.59621, -110.0386, -29.0], [37.59621, -110.0386, -29.0], [37.59621, -110.0386, -29.0], [37.59621, -110.0386, -29.0], [37.59621, -110.0386, -29.0], [37.59621, -110.0386, -29.0], [37.59621, -110.0386, -29.0], [37.59621, -110.0386, -29.0], [37.59621, -110.0386, -29.0], [37.59621, -110.0386, -29.0], [37.60202, -110.0376, -35.0], [37.60202, -110.0376, -35.0], [37.60202, -110.0376, -35.0], [37.60202, -110.0376, -35.0], [37.60202, -110.0376, -35.0], [37.60202, -110.0376, -35.0], [37.60202, -110.0376, -35.0], [37.60202, -110.0376, -35.0], [37.60202, -110.0376, -35.0], [37.60202, -110.0376, -35.0], [37.60202, -110.0376, -35.0], [37.60202, -110.0376, -35.0], [37.60202, -110.0376, -35.0], [37.60202, -110.0376, -35.0], [37.60202, -110.0376, -35.0], [37.60202, -110.0376, -35.0], [37.60202, -110.0376, -35.0], [37.60202, -110.0376, -35.0], [37.60202, -110.0376, -35.0], [37.60202, -110.0376, -35.0], [37.60202, -110.0376, -35.0], [37.60202, -110.0376, -35.0], [37.60202, -110.0376, -35.0], [37.60202, -110.0376, -35.0], [37.60202, -110.0376, -35.0], [37.60202, -110.0376, -35.0], [37.60202, -110.0376, -35.0], [37.60202, -110.0376, -35.0], [37.60202, -110.0376, -35.0], [37.60202, -110.0376, -35.0], [37.60202, -110.0376, -35.0], [37.60202, -110.0376, -35.0], [37.60202, -110.0376, -35.0], [37.60202, -110.0376, -35.0], [37.60202, -110.0376, -35.0], [37.60202, -110.0376, -35.0], [37.60202, -110.0376, -35.0], [37.60202, -110.0376, -35.0], [37.60202, -110.0376, -35.0], [37.60202, -110.0376, -35.0], [37.60202, -110.0376, -35.0], [37.60202, -110.0376, -35.0], [37.60202, -110.0376, -35.0], [37.6044, -110.0376, -18.0], [37.6044, -110.0376, -18.0], [37.6044, -110.0376, -18.0], [37.6044, -110.0376, -18.0], [37.6044, -110.0376, -18.0], [37.6044, -110.0376, -18.0], [37.6044, -110.0376, -18.0], [37.6044, -110.0376, -18.0], [37.6044, -110.0376, -18.0], [37.6044, -110.0376, -18.0], [37.6044, -110.0376, -18.0], [37.6044, -110.0376, -18.0], [37.6044, -110.0376, -18.0], [37.6044, -110.0376, -18.0], [37.6044, -110.0376, -18.0], [37.6044, -110.0376, -18.0], [37.6044, -110.0376, -18.0], [37.6044, -110.0376, -18.0], [37.6044, -110.0376, -18.0], [37.6044, -110.0376, -18.0], [37.6044, -110.0376, -18.0], [37.6044, -110.0376, -18.0], [37.6044, -110.0376, -18.0], [37.6044, -110.0376, -18.0], [37.6044, -110.0376, -18.0], [37.6044, -110.0376, -18.0], [37.6044, -110.0376, -18.0], [37.6044, -110.0376, -18.0], [37.6044, -110.0376, -18.0], [37.6044, -110.0376, -18.0], [37.6044, -110.0376, -18.0], [37.6044, -110.0376, -18.0], [37.6044, -110.0376, -18.0], [37.6044, -110.0376, -18.0], [37.6044, -110.0376, -18.0], [37.6044, -110.0376, -18.0], [37.6044, -110.0376, -18.0], [37.6044, -110.0376, -18.0], [37.6044, -110.0376, -18.0], [37.6044, -110.0376, -18.0], [37.6044, -110.0376, -18.0], [37.6044, -110.0376, -18.0], [37.6044, -110.0376, -18.0], [37.60096, -110.0365, -18.0], [37.60096, -110.0365, -18.0], [37.60096, -110.0365, -18.0], [37.60096, -110.0365, -18.0], [37.60096, -110.0365, -18.0], [37.60096, -110.0365, -18.0], [37.60096, -110.0365, -18.0], [37.60096, -110.0365, -18.0], [37.60096, -110.0365, -18.0], [37.60096, -110.0365, -18.0], [37.60096, -110.0365, -18.0], [37.60096, -110.0365, -18.0], [37.60096, -110.0365, -18.0], [37.60096, -110.0365, -18.0], [37.60096, -110.0365, -18.0], [37.60096, -110.0365, -18.0], [37.60096, -110.0365, -18.0], [37.60096, -110.0365, -18.0], [37.60096, -110.0365, -18.0], [37.60096, -110.0365, -18.0], [37.60096, -110.0365, -18.0], [37.60096, -110.0365, -18.0], [37.60096, -110.0365, -18.0], [37.60096, -110.0365, -18.0], [37.60096, -110.0365, -18.0], [37.60096, -110.0365, -18.0], [37.60096, -110.0365, -18.0], [37.60096, -110.0365, -18.0], [37.60096, -110.0365, -18.0], [37.60096, -110.0365, -18.0], [37.60096, -110.0365, -18.0], [37.60096, -110.0365, -18.0], [37.60096, -110.0365, -18.0], [37.60096, -110.0365, -18.0], [37.60096, -110.0365, -18.0], [37.60096, -110.0365, -18.0], [37.60096, -110.0365, -18.0], [37.60096, -110.0365, -18.0], [37.60096, -110.0365, -18.0], [37.60096, -110.0365, -18.0], [37.60096, -110.0365, -18.0], [37.60096, -110.0365, -18.0], [37.60096, -110.0365, -18.0], [37.60334, -110.0365, -59.0], [37.60334, -110.0365, -59.0], [37.60334, -110.0365, -59.0], [37.60334, -110.0365, -59.0], [37.60334, -110.0365, -59.0], [37.60334, -110.0365, -59.0], [37.60334, -110.0365, -59.0], [37.60334, -110.0365, -59.0], [37.60334, -110.0365, -59.0], [37.60334, -110.0365, -59.0], [37.60334, -110.0365, -59.0], [37.60334, -110.0365, -59.0], [37.60334, -110.0365, -59.0], [37.60334, -110.0365, -59.0], [37.60334, -110.0365, -59.0], [37.60334, -110.0365, -59.0], [37.60334, -110.0365, -59.0], [37.60334, -110.0365, -59.0], [37.60334, -110.0365, -59.0], [37.60334, -110.0365, -59.0], [37.60334, -110.0365, -59.0], [37.60334, -110.0365, -59.0], [37.60334, -110.0365, -59.0], [37.60334, -110.0365, -59.0], [37.60334, -110.0365, -59.0], [37.60334, -110.0365, -59.0], [37.60334, -110.0365, -59.0], [37.60334, -110.0365, -59.0], [37.60334, -110.0365, -59.0], [37.60334, -110.0365, -59.0], [37.60334, -110.0365, -59.0], [37.60334, -110.0365, -59.0], [37.60334, -110.0365, -59.0], [37.60334, -110.0365, -59.0], [37.60334, -110.0365, -59.0], [37.60334, -110.0365, -59.0], [37.60334, -110.0365, -59.0], [37.60334, -110.0365, -59.0], [37.60334, -110.0365, -59.0], [37.60334, -110.0365, -59.0], [37.60334, -110.0365, -59.0], [37.60334, -110.0365, -59.0], [37.60334, -110.0365, -59.0], [37.59489, -110.0355, -72.0], [37.59489, -110.0355, -72.0], [37.59489, -110.0355, -72.0], [37.59489, -110.0355, -72.0], [37.59489, -110.0355, -72.0], [37.59489, -110.0355, -72.0], [37.59489, -110.0355, -72.0], [37.59489, -110.0355, -72.0], [37.59489, -110.0355, -72.0], [37.59489, -110.0355, -72.0], [37.59489, -110.0355, -72.0], [37.59489, -110.0355, -72.0], [37.59489, -110.0355, -72.0], [37.59489, -110.0355, -72.0], [37.59489, -110.0355, -72.0], [37.59489, -110.0355, -72.0], [37.59489, -110.0355, -72.0], [37.59489, -110.0355, -72.0], [37.59489, -110.0355, -72.0], [37.59489, -110.0355, -72.0], [37.59489, -110.0355, -72.0], [37.59489, -110.0355, -72.0], [37.59489, -110.0355, -72.0], [37.59489, -110.0355, -72.0], [37.59489, -110.0355, -72.0], [37.59489, -110.0355, -72.0], [37.59489, -110.0355, -72.0], [37.59489, -110.0355, -72.0], [37.59489, -110.0355, -72.0], [37.59489, -110.0355, -72.0], [37.59489, -110.0355, -72.0], [37.59489, -110.0355, -72.0], [37.59489, -110.0355, -72.0], [37.59489, -110.0355, -72.0], [37.59489, -110.0355, -72.0], [37.59489, -110.0355, -72.0], [37.59489, -110.0355, -72.0], [37.59489, -110.0355, -72.0], [37.59489, -110.0355, -72.0], [37.59489, -110.0355, -72.0], [37.59489, -110.0355, -72.0], [37.59489, -110.0355, -72.0], [37.59489, -110.0355, -72.0], [37.59067, -110.0348, 1.0], [37.59067, -110.0348, 1.0], [37.59067, -110.0348, 1.0], [37.59067, -110.0348, 1.0], [37.59067, -110.0348, 1.0], [37.59067, -110.0348, 1.0], [37.59067, -110.0348, 1.0], [37.59067, -110.0348, 1.0], [37.59067, -110.0348, 1.0], [37.59067, -110.0348, 1.0], [37.59067, -110.0348, 1.0], [37.59067, -110.0348, 1.0], [37.59067, -110.0348, 1.0], [37.59067, -110.0348, 1.0], [37.59067, -110.0348, 1.0], [37.59067, -110.0348, 1.0], [37.59067, -110.0348, 1.0], [37.59067, -110.0348, 1.0], [37.59067, -110.0348, 1.0], [37.59067, -110.0348, 1.0], [37.59067, -110.0348, 1.0], [37.59067, -110.0348, 1.0], [37.59067, -110.0348, 1.0], [37.59067, -110.0348, 1.0], [37.59067, -110.0348, 1.0], [37.59067, -110.0348, 1.0], [37.59067, -110.0348, 1.0], [37.59067, -110.0348, 1.0], [37.59067, -110.0348, 1.0], [37.59067, -110.0348, 1.0], [37.59067, -110.0348, 1.0], [37.59067, -110.0348, 1.0], [37.59067, -110.0348, 1.0], [37.59067, -110.0348, 1.0], [37.59067, -110.0348, 1.0], [37.59067, -110.0348, 1.0], [37.59067, -110.0348, 1.0], [37.59067, -110.0348, 1.0], [37.59067, -110.0348, 1.0], [37.59067, -110.0348, 1.0], [37.59067, -110.0348, 1.0], [37.59067, -110.0348, 1.0], [37.59067, -110.0348, 1.0], [37.60123, -110.0345, -14.0], [37.60123, -110.0345, -14.0], [37.60123, -110.0345, -14.0], [37.60123, -110.0345, -14.0], [37.60123, -110.0345, -14.0], [37.60123, -110.0345, -14.0], [37.60123, -110.0345, -14.0], [37.60123, -110.0345, -14.0], [37.60123, -110.0345, -14.0], [37.60123, -110.0345, -14.0], [37.60123, -110.0345, -14.0], [37.60123, -110.0345, -14.0], [37.60123, -110.0345, -14.0], [37.60123, -110.0345, -14.0], [37.60123, -110.0345, -14.0], [37.60123, -110.0345, -14.0], [37.60123, -110.0345, -14.0], [37.60123, -110.0345, -14.0], [37.60123, -110.0345, -14.0], [37.60123, -110.0345, -14.0], [37.60123, -110.0345, -14.0], [37.60123, -110.0345, -14.0], [37.60123, -110.0345, -14.0], [37.60123, -110.0345, -14.0], [37.60123, -110.0345, -14.0], [37.60123, -110.0345, -14.0], [37.60123, -110.0345, -14.0], [37.60123, -110.0345, -14.0], [37.60123, -110.0345, -14.0], [37.60123, -110.0345, -14.0], [37.60123, -110.0345, -14.0], [37.60123, -110.0345, -14.0], [37.60123, -110.0345, -14.0], [37.60123, -110.0345, -14.0], [37.60123, -110.0345, -14.0], [37.60123, -110.0345, -14.0], [37.60123, -110.0345, -14.0], [37.60123, -110.0345, -14.0], [37.60123, -110.0345, -14.0], [37.60123, -110.0345, -14.0], [37.60123, -110.0345, -14.0], [37.60123, -110.0345, -14.0], [37.60123, -110.0345, -14.0], [37.6044, -110.0341, -9.0], [37.6044, -110.0341, -9.0], [37.6044, -110.0341, -9.0], [37.6044, -110.0341, -9.0], [37.6044, -110.0341, -9.0], [37.6044, -110.0341, -9.0], [37.6044, -110.0341, -9.0], [37.6044, -110.0341, -9.0], [37.6044, -110.0341, -9.0], [37.6044, -110.0341, -9.0], [37.6044, -110.0341, -9.0], [37.6044, -110.0341, -9.0], [37.6044, -110.0341, -9.0], [37.6044, -110.0341, -9.0], [37.6044, -110.0341, -9.0], [37.6044, -110.0341, -9.0], [37.6044, -110.0341, -9.0], [37.6044, -110.0341, -9.0], [37.6044, -110.0341, -9.0], [37.6044, -110.0341, -9.0], [37.6044, -110.0341, -9.0], [37.6044, -110.0341, -9.0], [37.6044, -110.0341, -9.0], [37.6044, -110.0341, -9.0], [37.6044, -110.0341, -9.0], [37.6044, -110.0341, -9.0], [37.6044, -110.0341, -9.0], [37.6044, -110.0341, -9.0], [37.6044, -110.0341, -9.0], [37.6044, -110.0341, -9.0], [37.6044, -110.0341, -9.0], [37.6044, -110.0341, -9.0], [37.6044, -110.0341, -9.0], [37.6044, -110.0341, -9.0], [37.6044, -110.0341, -9.0], [37.6044, -110.0341, -9.0], [37.6044, -110.0341, -9.0], [37.6044, -110.0341, -9.0], [37.6044, -110.0341, -9.0], [37.6044, -110.0341, -9.0], [37.6044, -110.0341, -9.0], [37.6044, -110.0341, -9.0], [37.6044, -110.0341, -9.0], [37.58882, -110.0338, 12.0], [37.58882, -110.0338, 12.0], [37.58882, -110.0338, 12.0], [37.58882, -110.0338, 12.0], [37.58882, -110.0338, 12.0], [37.58882, -110.0338, 12.0], [37.58882, -110.0338, 12.0], [37.58882, -110.0338, 12.0], [37.58882, -110.0338, 12.0], [37.58882, -110.0338, 12.0], [37.58882, -110.0338, 12.0], [37.58882, -110.0338, 12.0], [37.58882, -110.0338, 12.0], [37.58882, -110.0338, 12.0], [37.58882, -110.0338, 12.0], [37.58882, -110.0338, 12.0], [37.58882, -110.0338, 12.0], [37.58882, -110.0338, 12.0], [37.58882, -110.0338, 12.0], [37.58882, -110.0338, 12.0], [37.58882, -110.0338, 12.0], [37.58882, -110.0338, 12.0], [37.58882, -110.0338, 12.0], [37.58882, -110.0338, 12.0], [37.58882, -110.0338, 12.0], [37.58882, -110.0338, 12.0], [37.58882, -110.0338, 12.0], [37.58882, -110.0338, 12.0], [37.58882, -110.0338, 12.0], [37.58882, -110.0338, 12.0], [37.58882, -110.0338, 12.0], [37.58882, -110.0338, 12.0], [37.58882, -110.0338, 12.0], [37.58882, -110.0338, 12.0], [37.58882, -110.0338, 12.0], [37.58882, -110.0338, 12.0], [37.58882, -110.0338, 12.0], [37.58882, -110.0338, 12.0], [37.58882, -110.0338, 12.0], [37.58882, -110.0338, 12.0], [37.58882, -110.0338, 12.0], [37.58882, -110.0338, 12.0], [37.58882, -110.0338, 12.0], [37.59991, -110.0338, -38.0], [37.59991, -110.0338, -38.0], [37.59991, -110.0338, -38.0], [37.59991, -110.0338, -38.0], [37.59991, -110.0338, -38.0], [37.59991, -110.0338, -38.0], [37.59991, -110.0338, -38.0], [37.59991, -110.0338, -38.0], [37.59991, -110.0338, -38.0], [37.59991, -110.0338, -38.0], [37.59991, -110.0338, -38.0], [37.59991, -110.0338, -38.0], [37.59991, -110.0338, -38.0], [37.59991, -110.0338, -38.0], [37.59991, -110.0338, -38.0], [37.59991, -110.0338, -38.0], [37.59991, -110.0338, -38.0], [37.59991, -110.0338, -38.0], [37.59991, -110.0338, -38.0], [37.59991, -110.0338, -38.0], [37.59991, -110.0338, -38.0], [37.59991, -110.0338, -38.0], [37.59991, -110.0338, -38.0], [37.59991, -110.0338, -38.0], [37.59991, -110.0338, -38.0], [37.59991, -110.0338, -38.0], [37.59991, -110.0338, -38.0], [37.59991, -110.0338, -38.0], [37.59991, -110.0338, -38.0], [37.59991, -110.0338, -38.0], [37.59991, -110.0338, -38.0], [37.59991, -110.0338, -38.0], [37.59991, -110.0338, -38.0], [37.59991, -110.0338, -38.0], [37.59991, -110.0338, -38.0], [37.59991, -110.0338, -38.0], [37.59991, -110.0338, -38.0], [37.59991, -110.0338, -38.0], [37.59991, -110.0338, -38.0], [37.59991, -110.0338, -38.0], [37.59991, -110.0338, -38.0], [37.59991, -110.0338, -38.0], [37.59991, -110.0338, -38.0], [37.60492, -110.0334, -42.0], [37.60492, -110.0334, -42.0], [37.60492, -110.0334, -42.0], [37.60492, -110.0334, -42.0], [37.60492, -110.0334, -42.0], [37.60492, -110.0334, -42.0], [37.60492, -110.0334, -42.0], [37.60492, -110.0334, -42.0], [37.60492, -110.0334, -42.0], [37.60492, -110.0334, -42.0], [37.60492, -110.0334, -42.0], [37.60492, -110.0334, -42.0], [37.60492, -110.0334, -42.0], [37.60492, -110.0334, -42.0], [37.60492, -110.0334, -42.0], [37.60492, -110.0334, -42.0], [37.60492, -110.0334, -42.0], [37.60492, -110.0334, -42.0], [37.60492, -110.0334, -42.0], [37.60492, -110.0334, -42.0], [37.60492, -110.0334, -42.0], [37.60492, -110.0334, -42.0], [37.60492, -110.0334, -42.0], [37.60492, -110.0334, -42.0], [37.60492, -110.0334, -42.0], [37.60492, -110.0334, -42.0], [37.60492, -110.0334, -42.0], [37.60492, -110.0334, -42.0], [37.60492, -110.0334, -42.0], [37.60492, -110.0334, -42.0], [37.60492, -110.0334, -42.0], [37.60492, -110.0334, -42.0], [37.60492, -110.0334, -42.0], [37.60492, -110.0334, -42.0], [37.60492, -110.0334, -42.0], [37.60492, -110.0334, -42.0], [37.60492, -110.0334, -42.0], [37.60492, -110.0334, -42.0], [37.60492, -110.0334, -42.0], [37.60492, -110.0334, -42.0], [37.60492, -110.0334, -42.0], [37.60492, -110.0334, -42.0], [37.60492, -110.0334, -42.0], [37.60915, -110.0331, 6.0], [37.60915, -110.0331, 6.0], [37.60915, -110.0331, 6.0], [37.60915, -110.0331, 6.0], [37.60915, -110.0331, 6.0], [37.60915, -110.0331, 6.0], [37.60915, -110.0331, 6.0], [37.60915, -110.0331, 6.0], [37.60915, -110.0331, 6.0], [37.60915, -110.0331, 6.0], [37.60915, -110.0331, 6.0], [37.60915, -110.0331, 6.0], [37.60915, -110.0331, 6.0], [37.60915, -110.0331, 6.0], [37.60915, -110.0331, 6.0], [37.60915, -110.0331, 6.0], [37.60915, -110.0331, 6.0], [37.60915, -110.0331, 6.0], [37.60915, -110.0331, 6.0], [37.60915, -110.0331, 6.0], [37.60915, -110.0331, 6.0], [37.60915, -110.0331, 6.0], [37.60915, -110.0331, 6.0], [37.60915, -110.0331, 6.0], [37.60915, -110.0331, 6.0], [37.60915, -110.0331, 6.0], [37.60915, -110.0331, 6.0], [37.60915, -110.0331, 6.0], [37.60915, -110.0331, 6.0], [37.60915, -110.0331, 6.0], [37.60915, -110.0331, 6.0], [37.60915, -110.0331, 6.0], [37.60915, -110.0331, 6.0], [37.60915, -110.0331, 6.0], [37.60915, -110.0331, 6.0], [37.60915, -110.0331, 6.0], [37.60915, -110.0331, 6.0], [37.60915, -110.0331, 6.0], [37.60915, -110.0331, 6.0], [37.60915, -110.0331, 6.0], [37.60915, -110.0331, 6.0], [37.60915, -110.0331, 6.0], [37.60915, -110.0331, 6.0], [37.60334, -110.0328, -87.0], [37.60334, -110.0328, -87.0], [37.60334, -110.0328, -87.0], [37.60334, -110.0328, -87.0], [37.60334, -110.0328, -87.0], [37.60334, -110.0328, -87.0], [37.60334, -110.0328, -87.0], [37.60334, -110.0328, -87.0], [37.60334, -110.0328, -87.0], [37.60334, -110.0328, -87.0], [37.60334, -110.0328, -87.0], [37.60334, -110.0328, -87.0], [37.60334, -110.0328, -87.0], [37.60334, -110.0328, -87.0], [37.60334, -110.0328, -87.0], [37.60334, -110.0328, -87.0], [37.60334, -110.0328, -87.0], [37.60334, -110.0328, -87.0], [37.60334, -110.0328, -87.0], [37.60334, -110.0328, -87.0], [37.60334, -110.0328, -87.0], [37.60334, -110.0328, -87.0], [37.60334, -110.0328, -87.0], [37.60334, -110.0328, -87.0], [37.60334, -110.0328, -87.0], [37.60334, -110.0328, -87.0], [37.60334, -110.0328, -87.0], [37.60334, -110.0328, -87.0], [37.60334, -110.0328, -87.0], [37.60334, -110.0328, -87.0], [37.60334, -110.0328, -87.0], [37.60334, -110.0328, -87.0], [37.60334, -110.0328, -87.0], [37.60334, -110.0328, -87.0], [37.60334, -110.0328, -87.0], [37.60334, -110.0328, -87.0], [37.60334, -110.0328, -87.0], [37.60334, -110.0328, -87.0], [37.60334, -110.0328, -87.0], [37.60334, -110.0328, -87.0], [37.60334, -110.0328, -87.0], [37.60334, -110.0328, -87.0], [37.60334, -110.0328, -87.0], [37.60862, -110.0321, -36.0], [37.60862, -110.0321, -36.0], [37.60862, -110.0321, -36.0], [37.60862, -110.0321, -36.0], [37.60862, -110.0321, -36.0], [37.60862, -110.0321, -36.0], [37.60862, -110.0321, -36.0], [37.60862, -110.0321, -36.0], [37.60862, -110.0321, -36.0], [37.60862, -110.0321, -36.0], [37.60862, -110.0321, -36.0], [37.60862, -110.0321, -36.0], [37.60862, -110.0321, -36.0], [37.60862, -110.0321, -36.0], [37.60862, -110.0321, -36.0], [37.60862, -110.0321, -36.0], [37.60862, -110.0321, -36.0], [37.60862, -110.0321, -36.0], [37.60862, -110.0321, -36.0], [37.60862, -110.0321, -36.0], [37.60862, -110.0321, -36.0], [37.60862, -110.0321, -36.0], [37.60862, -110.0321, -36.0], [37.60862, -110.0321, -36.0], [37.60862, -110.0321, -36.0], [37.60862, -110.0321, -36.0], [37.60862, -110.0321, -36.0], [37.60862, -110.0321, -36.0], [37.60862, -110.0321, -36.0], [37.60862, -110.0321, -36.0], [37.60862, -110.0321, -36.0], [37.60862, -110.0321, -36.0], [37.60862, -110.0321, -36.0], [37.60862, -110.0321, -36.0], [37.60862, -110.0321, -36.0], [37.60862, -110.0321, -36.0], [37.60862, -110.0321, -36.0], [37.60862, -110.0321, -36.0], [37.60862, -110.0321, -36.0], [37.60862, -110.0321, -36.0], [37.60862, -110.0321, -36.0], [37.60862, -110.0321, -36.0], [37.60862, -110.0321, -36.0], [37.58935, -110.0314, 37.0], [37.58935, -110.0314, 37.0], [37.58935, -110.0314, 37.0], [37.58935, -110.0314, 37.0], [37.58935, -110.0314, 37.0], [37.58935, -110.0314, 37.0], [37.58935, -110.0314, 37.0], [37.58935, -110.0314, 37.0], [37.58935, -110.0314, 37.0], [37.58935, -110.0314, 37.0], [37.58935, -110.0314, 37.0], [37.58935, -110.0314, 37.0], [37.58935, -110.0314, 37.0], [37.58935, -110.0314, 37.0], [37.58935, -110.0314, 37.0], [37.58935, -110.0314, 37.0], [37.58935, -110.0314, 37.0], [37.58935, -110.0314, 37.0], [37.58935, -110.0314, 37.0], [37.58935, -110.0314, 37.0], [37.58935, -110.0314, 37.0], [37.58935, -110.0314, 37.0], [37.58935, -110.0314, 37.0], [37.58935, -110.0314, 37.0], [37.58935, -110.0314, 37.0], [37.58935, -110.0314, 37.0], [37.58935, -110.0314, 37.0], [37.58935, -110.0314, 37.0], [37.58935, -110.0314, 37.0], [37.58935, -110.0314, 37.0], [37.58935, -110.0314, 37.0], [37.58935, -110.0314, 37.0], [37.58935, -110.0314, 37.0], [37.58935, -110.0314, 37.0], [37.58935, -110.0314, 37.0], [37.58935, -110.0314, 37.0], [37.58935, -110.0314, 37.0], [37.58935, -110.0314, 37.0], [37.58935, -110.0314, 37.0], [37.58935, -110.0314, 37.0], [37.58935, -110.0314, 37.0], [37.58935, -110.0314, 37.0], [37.58935, -110.0314, 37.0], [37.59938, -110.03, 62.0], [37.59938, -110.03, 62.0], [37.59938, -110.03, 62.0], [37.59938, -110.03, 62.0], [37.59938, -110.03, 62.0], [37.59938, -110.03, 62.0], [37.59938, -110.03, 62.0], [37.59938, -110.03, 62.0], [37.59938, -110.03, 62.0], [37.59938, -110.03, 62.0], [37.59938, -110.03, 62.0], [37.59938, -110.03, 62.0], [37.59938, -110.03, 62.0], [37.59938, -110.03, 62.0], [37.59938, -110.03, 62.0], [37.59938, -110.03, 62.0], [37.59938, -110.03, 62.0], [37.59938, -110.03, 62.0], [37.59938, -110.03, 62.0], [37.59938, -110.03, 62.0], [37.59938, -110.03, 62.0], [37.59938, -110.03, 62.0], [37.59938, -110.03, 62.0], [37.59938, -110.03, 62.0], [37.59938, -110.03, 62.0], [37.59938, -110.03, 62.0], [37.59938, -110.03, 62.0], [37.59938, -110.03, 62.0], [37.59938, -110.03, 62.0], [37.59938, -110.03, 62.0], [37.59938, -110.03, 62.0], [37.59938, -110.03, 62.0], [37.59938, -110.03, 62.0], [37.59938, -110.03, 62.0], [37.59938, -110.03, 62.0], [37.59938, -110.03, 62.0], [37.59938, -110.03, 62.0], [37.59938, -110.03, 62.0], [37.59938, -110.03, 62.0], [37.59938, -110.03, 62.0], [37.59938, -110.03, 62.0], [37.59938, -110.03, 62.0], [37.59938, -110.03, 62.0], [37.60598, -110.029, -18.0], [37.60598, -110.029, -18.0], [37.60598, -110.029, -18.0], [37.60598, -110.029, -18.0], [37.60598, -110.029, -18.0], [37.60598, -110.029, -18.0], [37.60598, -110.029, -18.0], [37.60598, -110.029, -18.0], [37.60598, -110.029, -18.0], [37.60598, -110.029, -18.0], [37.60598, -110.029, -18.0], [37.60598, -110.029, -18.0], [37.60598, -110.029, -18.0], [37.60598, -110.029, -18.0], [37.60598, -110.029, -18.0], [37.60598, -110.029, -18.0], [37.60598, -110.029, -18.0], [37.60598, -110.029, -18.0], [37.60598, -110.029, -18.0], [37.60598, -110.029, -18.0], [37.60598, -110.029, -18.0], [37.60598, -110.029, -18.0], [37.60598, -110.029, -18.0], [37.60598, -110.029, -18.0], [37.60598, -110.029, -18.0], [37.60598, -110.029, -18.0], [37.60598, -110.029, -18.0], [37.60598, -110.029, -18.0], [37.60598, -110.029, -18.0], [37.60598, -110.029, -18.0], [37.60598, -110.029, -18.0], [37.60598, -110.029, -18.0], [37.60598, -110.029, -18.0], [37.60598, -110.029, -18.0], [37.60598, -110.029, -18.0], [37.60598, -110.029, -18.0], [37.60598, -110.029, -18.0], [37.60598, -110.029, -18.0], [37.60598, -110.029, -18.0], [37.60598, -110.029, -18.0], [37.60598, -110.029, -18.0], [37.60598, -110.029, -18.0], [37.60598, -110.029, -18.0], [37.61179, -110.029, -3.0], [37.61179, -110.029, -3.0], [37.61179, -110.029, -3.0], [37.61179, -110.029, -3.0], [37.61179, -110.029, -3.0], [37.61179, -110.029, -3.0], [37.61179, -110.029, -3.0], [37.61179, -110.029, -3.0], [37.61179, -110.029, -3.0], [37.61179, -110.029, -3.0], [37.61179, -110.029, -3.0], [37.61179, -110.029, -3.0], [37.61179, -110.029, -3.0], [37.61179, -110.029, -3.0], [37.61179, -110.029, -3.0], [37.61179, -110.029, -3.0], [37.61179, -110.029, -3.0], [37.61179, -110.029, -3.0], [37.61179, -110.029, -3.0], [37.61179, -110.029, -3.0], [37.61179, -110.029, -3.0], [37.61179, -110.029, -3.0], [37.61179, -110.029, -3.0], [37.61179, -110.029, -3.0], [37.61179, -110.029, -3.0], [37.61179, -110.029, -3.0], [37.61179, -110.029, -3.0], [37.61179, -110.029, -3.0], [37.61179, -110.029, -3.0], [37.61179, -110.029, -3.0], [37.61179, -110.029, -3.0], [37.61179, -110.029, -3.0], [37.61179, -110.029, -3.0], [37.61179, -110.029, -3.0], [37.61179, -110.029, -3.0], [37.61179, -110.029, -3.0], [37.61179, -110.029, -3.0], [37.61179, -110.029, -3.0], [37.61179, -110.029, -3.0], [37.61179, -110.029, -3.0], [37.61179, -110.029, -3.0], [37.61179, -110.029, -3.0], [37.61179, -110.029, -3.0], [37.60202, -110.0286, -23.0], [37.60202, -110.0286, -23.0], [37.60202, -110.0286, -23.0], [37.60202, -110.0286, -23.0], [37.60202, -110.0286, -23.0], [37.60202, -110.0286, -23.0], [37.60202, -110.0286, -23.0], [37.60202, -110.0286, -23.0], [37.60202, -110.0286, -23.0], [37.60202, -110.0286, -23.0], [37.60202, -110.0286, -23.0], [37.60202, -110.0286, -23.0], [37.60202, -110.0286, -23.0], [37.60202, -110.0286, -23.0], [37.60202, -110.0286, -23.0], [37.60202, -110.0286, -23.0], [37.60202, -110.0286, -23.0], [37.60202, -110.0286, -23.0], [37.60202, -110.0286, -23.0], [37.60202, -110.0286, -23.0], [37.60202, -110.0286, -23.0], [37.60202, -110.0286, -23.0], [37.60202, -110.0286, -23.0], [37.60202, -110.0286, -23.0], [37.60202, -110.0286, -23.0], [37.60202, -110.0286, -23.0], [37.60202, -110.0286, -23.0], [37.60202, -110.0286, -23.0], [37.60202, -110.0286, -23.0], [37.60202, -110.0286, -23.0], [37.60202, -110.0286, -23.0], [37.60202, -110.0286, -23.0], [37.60202, -110.0286, -23.0], [37.60202, -110.0286, -23.0], [37.60202, -110.0286, -23.0], [37.60202, -110.0286, -23.0], [37.60202, -110.0286, -23.0], [37.60202, -110.0286, -23.0], [37.60202, -110.0286, -23.0], [37.60202, -110.0286, -23.0], [37.60202, -110.0286, -23.0], [37.60202, -110.0286, -23.0], [37.60202, -110.0286, -23.0], [37.58671, -110.0283, -8.0], [37.58671, -110.0283, -8.0], [37.58671, -110.0283, -8.0], [37.58671, -110.0283, -8.0], [37.58671, -110.0283, -8.0], [37.58671, -110.0283, -8.0], [37.58671, -110.0283, -8.0], [37.58671, -110.0283, -8.0], [37.58671, -110.0283, -8.0], [37.58671, -110.0283, -8.0], [37.58671, -110.0283, -8.0], [37.58671, -110.0283, -8.0], [37.58671, -110.0283, -8.0], [37.58671, -110.0283, -8.0], [37.58671, -110.0283, -8.0], [37.58671, -110.0283, -8.0], [37.58671, -110.0283, -8.0], [37.58671, -110.0283, -8.0], [37.58671, -110.0283, -8.0], [37.58671, -110.0283, -8.0], [37.58671, -110.0283, -8.0], [37.58671, -110.0283, -8.0], [37.58671, -110.0283, -8.0], [37.58671, -110.0283, -8.0], [37.58671, -110.0283, -8.0], [37.58671, -110.0283, -8.0], [37.58671, -110.0283, -8.0], [37.58671, -110.0283, -8.0], [37.58671, -110.0283, -8.0], [37.58671, -110.0283, -8.0], [37.58671, -110.0283, -8.0], [37.58671, -110.0283, -8.0], [37.58671, -110.0283, -8.0], [37.58671, -110.0283, -8.0], [37.58671, -110.0283, -8.0], [37.58671, -110.0283, -8.0], [37.58671, -110.0283, -8.0], [37.58671, -110.0283, -8.0], [37.58671, -110.0283, -8.0], [37.58671, -110.0283, -8.0], [37.58671, -110.0283, -8.0], [37.58671, -110.0283, -8.0], [37.58671, -110.0283, -8.0], [37.58011, -110.028, -12.0], [37.58011, -110.028, -12.0], [37.58011, -110.028, -12.0], [37.58011, -110.028, -12.0], [37.58011, -110.028, -12.0], [37.58011, -110.028, -12.0], [37.58011, -110.028, -12.0], [37.58011, -110.028, -12.0], [37.58011, -110.028, -12.0], [37.58011, -110.028, -12.0], [37.58011, -110.028, -12.0], [37.58011, -110.028, -12.0], [37.58011, -110.028, -12.0], [37.58011, -110.028, -12.0], [37.58011, -110.028, -12.0], [37.58011, -110.028, -12.0], [37.58011, -110.028, -12.0], [37.58011, -110.028, -12.0], [37.58011, -110.028, -12.0], [37.58011, -110.028, -12.0], [37.58011, -110.028, -12.0], [37.58011, -110.028, -12.0], [37.58011, -110.028, -12.0], [37.58011, -110.028, -12.0], [37.58011, -110.028, -12.0], [37.58011, -110.028, -12.0], [37.58011, -110.028, -12.0], [37.58011, -110.028, -12.0], [37.58011, -110.028, -12.0], [37.58011, -110.028, -12.0], [37.58011, -110.028, -12.0], [37.58011, -110.028, -12.0], [37.58011, -110.028, -12.0], [37.58011, -110.028, -12.0], [37.58011, -110.028, -12.0], [37.58011, -110.028, -12.0], [37.58011, -110.028, -12.0], [37.58011, -110.028, -12.0], [37.58011, -110.028, -12.0], [37.58011, -110.028, -12.0], [37.58011, -110.028, -12.0], [37.58011, -110.028, -12.0], [37.58011, -110.028, -12.0], [37.59753, -110.028, -10.0], [37.59753, -110.028, -10.0], [37.59753, -110.028, -10.0], [37.59753, -110.028, -10.0], [37.59753, -110.028, -10.0], [37.59753, -110.028, -10.0], [37.59753, -110.028, -10.0], [37.59753, -110.028, -10.0], [37.59753, -110.028, -10.0], [37.59753, -110.028, -10.0], [37.59753, -110.028, -10.0], [37.59753, -110.028, -10.0], [37.59753, -110.028, -10.0], [37.59753, -110.028, -10.0], [37.59753, -110.028, -10.0], [37.59753, -110.028, -10.0], [37.59753, -110.028, -10.0], [37.59753, -110.028, -10.0], [37.59753, -110.028, -10.0], [37.59753, -110.028, -10.0], [37.59753, -110.028, -10.0], [37.59753, -110.028, -10.0], [37.59753, -110.028, -10.0], [37.59753, -110.028, -10.0], [37.59753, -110.028, -10.0], [37.59753, -110.028, -10.0], [37.59753, -110.028, -10.0], [37.59753, -110.028, -10.0], [37.59753, -110.028, -10.0], [37.59753, -110.028, -10.0], [37.59753, -110.028, -10.0], [37.59753, -110.028, -10.0], [37.59753, -110.028, -10.0], [37.59753, -110.028, -10.0], [37.59753, -110.028, -10.0], [37.59753, -110.028, -10.0], [37.59753, -110.028, -10.0], [37.59753, -110.028, -10.0], [37.59753, -110.028, -10.0], [37.59753, -110.028, -10.0], [37.59753, -110.028, -10.0], [37.59753, -110.028, -10.0], [37.59753, -110.028, -10.0], [37.60704, -110.0273, -24.0], [37.60704, -110.0273, -24.0], [37.60704, -110.0273, -24.0], [37.60704, -110.0273, -24.0], [37.60704, -110.0273, -24.0], [37.60704, -110.0273, -24.0], [37.60704, -110.0273, -24.0], [37.60704, -110.0273, -24.0], [37.60704, -110.0273, -24.0], [37.60704, -110.0273, -24.0], [37.60704, -110.0273, -24.0], [37.60704, -110.0273, -24.0], [37.60704, -110.0273, -24.0], [37.60704, -110.0273, -24.0], [37.60704, -110.0273, -24.0], [37.60704, -110.0273, -24.0], [37.60704, -110.0273, -24.0], [37.60704, -110.0273, -24.0], [37.60704, -110.0273, -24.0], [37.60704, -110.0273, -24.0], [37.60704, -110.0273, -24.0], [37.60704, -110.0273, -24.0], [37.60704, -110.0273, -24.0], [37.60704, -110.0273, -24.0], [37.60704, -110.0273, -24.0], [37.60704, -110.0273, -24.0], [37.60704, -110.0273, -24.0], [37.60704, -110.0273, -24.0], [37.60704, -110.0273, -24.0], [37.60704, -110.0273, -24.0], [37.60704, -110.0273, -24.0], [37.60704, -110.0273, -24.0], [37.60704, -110.0273, -24.0], [37.60704, -110.0273, -24.0], [37.60704, -110.0273, -24.0], [37.60704, -110.0273, -24.0], [37.60704, -110.0273, -24.0], [37.60704, -110.0273, -24.0], [37.60704, -110.0273, -24.0], [37.60704, -110.0273, -24.0], [37.60704, -110.0273, -24.0], [37.60704, -110.0273, -24.0], [37.60704, -110.0273, -24.0], [37.60308, -110.0262, -15.0], [37.60308, -110.0262, -15.0], [37.60308, -110.0262, -15.0], [37.60308, -110.0262, -15.0], [37.60308, -110.0262, -15.0], [37.60308, -110.0262, -15.0], [37.60308, -110.0262, -15.0], [37.60308, -110.0262, -15.0], [37.60308, -110.0262, -15.0], [37.60308, -110.0262, -15.0], [37.60308, -110.0262, -15.0], [37.60308, -110.0262, -15.0], [37.60308, -110.0262, -15.0], [37.60308, -110.0262, -15.0], [37.60308, -110.0262, -15.0], [37.60308, -110.0262, -15.0], [37.60308, -110.0262, -15.0], [37.60308, -110.0262, -15.0], [37.60308, -110.0262, -15.0], [37.60308, -110.0262, -15.0], [37.60308, -110.0262, -15.0], [37.60308, -110.0262, -15.0], [37.60308, -110.0262, -15.0], [37.60308, -110.0262, -15.0], [37.60308, -110.0262, -15.0], [37.60308, -110.0262, -15.0], [37.60308, -110.0262, -15.0], [37.60308, -110.0262, -15.0], [37.60308, -110.0262, -15.0], [37.60308, -110.0262, -15.0], [37.60308, -110.0262, -15.0], [37.60308, -110.0262, -15.0], [37.60308, -110.0262, -15.0], [37.60308, -110.0262, -15.0], [37.60308, -110.0262, -15.0], [37.60308, -110.0262, -15.0], [37.60308, -110.0262, -15.0], [37.60308, -110.0262, -15.0], [37.60308, -110.0262, -15.0], [37.60308, -110.0262, -15.0], [37.60308, -110.0262, -15.0], [37.60308, -110.0262, -15.0], [37.60308, -110.0262, -15.0], [37.60809, -110.0259, -83.0], [37.60809, -110.0259, -83.0], [37.60809, -110.0259, -83.0], [37.60809, -110.0259, -83.0], [37.60809, -110.0259, -83.0], [37.60809, -110.0259, -83.0], [37.60809, -110.0259, -83.0], [37.60809, -110.0259, -83.0], [37.60809, -110.0259, -83.0], [37.60809, -110.0259, -83.0], [37.60809, -110.0259, -83.0], [37.60809, -110.0259, -83.0], [37.60809, -110.0259, -83.0], [37.60809, -110.0259, -83.0], [37.60809, -110.0259, -83.0], [37.60809, -110.0259, -83.0], [37.60809, -110.0259, -83.0], [37.60809, -110.0259, -83.0], [37.60809, -110.0259, -83.0], [37.60809, -110.0259, -83.0], [37.60809, -110.0259, -83.0], [37.60809, -110.0259, -83.0], [37.60809, -110.0259, -83.0], [37.60809, -110.0259, -83.0], [37.60809, -110.0259, -83.0], [37.60809, -110.0259, -83.0], [37.60809, -110.0259, -83.0], [37.60809, -110.0259, -83.0], [37.60809, -110.0259, -83.0], [37.60809, -110.0259, -83.0], [37.60809, -110.0259, -83.0], [37.60809, -110.0259, -83.0], [37.60809, -110.0259, -83.0], [37.60809, -110.0259, -83.0], [37.60809, -110.0259, -83.0], [37.60809, -110.0259, -83.0], [37.60809, -110.0259, -83.0], [37.60809, -110.0259, -83.0], [37.60809, -110.0259, -83.0], [37.60809, -110.0259, -83.0], [37.60809, -110.0259, -83.0], [37.60809, -110.0259, -83.0], [37.60809, -110.0259, -83.0], [37.57668, -110.0245, 30.0], [37.57668, -110.0245, 30.0], [37.57668, -110.0245, 30.0], [37.57668, -110.0245, 30.0], [37.57668, -110.0245, 30.0], [37.57668, -110.0245, 30.0], [37.57668, -110.0245, 30.0], [37.57668, -110.0245, 30.0], [37.57668, -110.0245, 30.0], [37.57668, -110.0245, 30.0], [37.57668, -110.0245, 30.0], [37.57668, -110.0245, 30.0], [37.57668, -110.0245, 30.0], [37.57668, -110.0245, 30.0], [37.57668, -110.0245, 30.0], [37.57668, -110.0245, 30.0], [37.57668, -110.0245, 30.0], [37.57668, -110.0245, 30.0], [37.57668, -110.0245, 30.0], [37.57668, -110.0245, 30.0], [37.57668, -110.0245, 30.0], [37.57668, -110.0245, 30.0], [37.57668, -110.0245, 30.0], [37.57668, -110.0245, 30.0], [37.57668, -110.0245, 30.0], [37.57668, -110.0245, 30.0], [37.57668, -110.0245, 30.0], [37.57668, -110.0245, 30.0], [37.57668, -110.0245, 30.0], [37.57668, -110.0245, 30.0], [37.57668, -110.0245, 30.0], [37.57668, -110.0245, 30.0], [37.57668, -110.0245, 30.0], [37.57668, -110.0245, 30.0], [37.57668, -110.0245, 30.0], [37.57668, -110.0245, 30.0], [37.57668, -110.0245, 30.0], [37.57668, -110.0245, 30.0], [37.57668, -110.0245, 30.0], [37.57668, -110.0245, 30.0], [37.57668, -110.0245, 30.0], [37.57668, -110.0245, 30.0], [37.57668, -110.0245, 30.0], [37.61496, -110.0245, -36.0], [37.61496, -110.0245, -36.0], [37.61496, -110.0245, -36.0], [37.61496, -110.0245, -36.0], [37.61496, -110.0245, -36.0], [37.61496, -110.0245, -36.0], [37.61496, -110.0245, -36.0], [37.61496, -110.0245, -36.0], [37.61496, -110.0245, -36.0], [37.61496, -110.0245, -36.0], [37.61496, -110.0245, -36.0], [37.61496, -110.0245, -36.0], [37.61496, -110.0245, -36.0], [37.61496, -110.0245, -36.0], [37.61496, -110.0245, -36.0], [37.61496, -110.0245, -36.0], [37.61496, -110.0245, -36.0], [37.61496, -110.0245, -36.0], [37.61496, -110.0245, -36.0], [37.61496, -110.0245, -36.0], [37.61496, -110.0245, -36.0], [37.61496, -110.0245, -36.0], [37.61496, -110.0245, -36.0], [37.61496, -110.0245, -36.0], [37.61496, -110.0245, -36.0], [37.61496, -110.0245, -36.0], [37.61496, -110.0245, -36.0], [37.61496, -110.0245, -36.0], [37.61496, -110.0245, -36.0], [37.61496, -110.0245, -36.0], [37.61496, -110.0245, -36.0], [37.61496, -110.0245, -36.0], [37.61496, -110.0245, -36.0], [37.61496, -110.0245, -36.0], [37.61496, -110.0245, -36.0], [37.61496, -110.0245, -36.0], [37.61496, -110.0245, -36.0], [37.61496, -110.0245, -36.0], [37.61496, -110.0245, -36.0], [37.61496, -110.0245, -36.0], [37.61496, -110.0245, -36.0], [37.61496, -110.0245, -36.0], [37.61496, -110.0245, -36.0], [37.61284, -110.0242, -34.0], [37.61284, -110.0242, -34.0], [37.61284, -110.0242, -34.0], [37.61284, -110.0242, -34.0], [37.61284, -110.0242, -34.0], [37.61284, -110.0242, -34.0], [37.61284, -110.0242, -34.0], [37.61284, -110.0242, -34.0], [37.61284, -110.0242, -34.0], [37.61284, -110.0242, -34.0], [37.61284, -110.0242, -34.0], [37.61284, -110.0242, -34.0], [37.61284, -110.0242, -34.0], [37.61284, -110.0242, -34.0], [37.61284, -110.0242, -34.0], [37.61284, -110.0242, -34.0], [37.61284, -110.0242, -34.0], [37.61284, -110.0242, -34.0], [37.61284, -110.0242, -34.0], [37.61284, -110.0242, -34.0], [37.61284, -110.0242, -34.0], [37.61284, -110.0242, -34.0], [37.61284, -110.0242, -34.0], [37.61284, -110.0242, -34.0], [37.61284, -110.0242, -34.0], [37.61284, -110.0242, -34.0], [37.61284, -110.0242, -34.0], [37.61284, -110.0242, -34.0], [37.61284, -110.0242, -34.0], [37.61284, -110.0242, -34.0], [37.61284, -110.0242, -34.0], [37.61284, -110.0242, -34.0], [37.61284, -110.0242, -34.0], [37.61284, -110.0242, -34.0], [37.61284, -110.0242, -34.0], [37.61284, -110.0242, -34.0], [37.61284, -110.0242, -34.0], [37.61284, -110.0242, -34.0], [37.61284, -110.0242, -34.0], [37.61284, -110.0242, -34.0], [37.61284, -110.0242, -34.0], [37.61284, -110.0242, -34.0], [37.61284, -110.0242, -34.0], [37.57377, -110.0235, 7.0], [37.57377, -110.0235, 7.0], [37.57377, -110.0235, 7.0], [37.57377, -110.0235, 7.0], [37.57377, -110.0235, 7.0], [37.57377, -110.0235, 7.0], [37.57377, -110.0235, 7.0], [37.57377, -110.0235, 7.0], [37.57377, -110.0235, 7.0], [37.57377, -110.0235, 7.0], [37.57377, -110.0235, 7.0], [37.57377, -110.0235, 7.0], [37.57377, -110.0235, 7.0], [37.57377, -110.0235, 7.0], [37.57377, -110.0235, 7.0], [37.57377, -110.0235, 7.0], [37.57377, -110.0235, 7.0], [37.57377, -110.0235, 7.0], [37.57377, -110.0235, 7.0], [37.57377, -110.0235, 7.0], [37.57377, -110.0235, 7.0], [37.57377, -110.0235, 7.0], [37.57377, -110.0235, 7.0], [37.57377, -110.0235, 7.0], [37.57377, -110.0235, 7.0], [37.57377, -110.0235, 7.0], [37.57377, -110.0235, 7.0], [37.57377, -110.0235, 7.0], [37.57377, -110.0235, 7.0], [37.57377, -110.0235, 7.0], [37.57377, -110.0235, 7.0], [37.57377, -110.0235, 7.0], [37.57377, -110.0235, 7.0], [37.57377, -110.0235, 7.0], [37.57377, -110.0235, 7.0], [37.57377, -110.0235, 7.0], [37.57377, -110.0235, 7.0], [37.57377, -110.0235, 7.0], [37.57377, -110.0235, 7.0], [37.57377, -110.0235, 7.0], [37.57377, -110.0235, 7.0], [37.57377, -110.0235, 7.0], [37.57377, -110.0235, 7.0], [37.59595, -110.0218, -74.0], [37.59595, -110.0218, -74.0], [37.59595, -110.0218, -74.0], [37.59595, -110.0218, -74.0], [37.59595, -110.0218, -74.0], [37.59595, -110.0218, -74.0], [37.59595, -110.0218, -74.0], [37.59595, -110.0218, -74.0], [37.59595, -110.0218, -74.0], [37.59595, -110.0218, -74.0], [37.59595, -110.0218, -74.0], [37.59595, -110.0218, -74.0], [37.59595, -110.0218, -74.0], [37.59595, -110.0218, -74.0], [37.59595, -110.0218, -74.0], [37.59595, -110.0218, -74.0], [37.59595, -110.0218, -74.0], [37.59595, -110.0218, -74.0], [37.59595, -110.0218, -74.0], [37.59595, -110.0218, -74.0], [37.59595, -110.0218, -74.0], [37.59595, -110.0218, -74.0], [37.59595, -110.0218, -74.0], [37.59595, -110.0218, -74.0], [37.59595, -110.0218, -74.0], [37.59595, -110.0218, -74.0], [37.59595, -110.0218, -74.0], [37.59595, -110.0218, -74.0], [37.59595, -110.0218, -74.0], [37.59595, -110.0218, -74.0], [37.59595, -110.0218, -74.0], [37.59595, -110.0218, -74.0], [37.59595, -110.0218, -74.0], [37.59595, -110.0218, -74.0], [37.59595, -110.0218, -74.0], [37.59595, -110.0218, -74.0], [37.59595, -110.0218, -74.0], [37.59595, -110.0218, -74.0], [37.59595, -110.0218, -74.0], [37.59595, -110.0218, -74.0], [37.59595, -110.0218, -74.0], [37.59595, -110.0218, -74.0], [37.59595, -110.0218, -74.0], [37.5846, -110.0214, 25.0], [37.5846, -110.0214, 25.0], [37.5846, -110.0214, 25.0], [37.5846, -110.0214, 25.0], [37.5846, -110.0214, 25.0], [37.5846, -110.0214, 25.0], [37.5846, -110.0214, 25.0], [37.5846, -110.0214, 25.0], [37.5846, -110.0214, 25.0], [37.5846, -110.0214, 25.0], [37.5846, -110.0214, 25.0], [37.5846, -110.0214, 25.0], [37.5846, -110.0214, 25.0], [37.5846, -110.0214, 25.0], [37.5846, -110.0214, 25.0], [37.5846, -110.0214, 25.0], [37.5846, -110.0214, 25.0], [37.5846, -110.0214, 25.0], [37.5846, -110.0214, 25.0], [37.5846, -110.0214, 25.0], [37.5846, -110.0214, 25.0], [37.5846, -110.0214, 25.0], [37.5846, -110.0214, 25.0], [37.5846, -110.0214, 25.0], [37.5846, -110.0214, 25.0], [37.5846, -110.0214, 25.0], [37.5846, -110.0214, 25.0], [37.5846, -110.0214, 25.0], [37.5846, -110.0214, 25.0], [37.5846, -110.0214, 25.0], [37.5846, -110.0214, 25.0], [37.5846, -110.0214, 25.0], [37.5846, -110.0214, 25.0], [37.5846, -110.0214, 25.0], [37.5846, -110.0214, 25.0], [37.5846, -110.0214, 25.0], [37.5846, -110.0214, 25.0], [37.5846, -110.0214, 25.0], [37.5846, -110.0214, 25.0], [37.5846, -110.0214, 25.0], [37.5846, -110.0214, 25.0], [37.5846, -110.0214, 25.0], [37.5846, -110.0214, 25.0], [37.57984, -110.0208, -18.0], [37.57984, -110.0208, -18.0], [37.57984, -110.0208, -18.0], [37.57984, -110.0208, -18.0], [37.57984, -110.0208, -18.0], [37.57984, -110.0208, -18.0], [37.57984, -110.0208, -18.0], [37.57984, -110.0208, -18.0], [37.57984, -110.0208, -18.0], [37.57984, -110.0208, -18.0], [37.57984, -110.0208, -18.0], [37.57984, -110.0208, -18.0], [37.57984, -110.0208, -18.0], [37.57984, -110.0208, -18.0], [37.57984, -110.0208, -18.0], [37.57984, -110.0208, -18.0], [37.57984, -110.0208, -18.0], [37.57984, -110.0208, -18.0], [37.57984, -110.0208, -18.0], [37.57984, -110.0208, -18.0], [37.57984, -110.0208, -18.0], [37.57984, -110.0208, -18.0], [37.57984, -110.0208, -18.0], [37.57984, -110.0208, -18.0], [37.57984, -110.0208, -18.0], [37.57984, -110.0208, -18.0], [37.57984, -110.0208, -18.0], [37.57984, -110.0208, -18.0], [37.57984, -110.0208, -18.0], [37.57984, -110.0208, -18.0], [37.57984, -110.0208, -18.0], [37.57984, -110.0208, -18.0], [37.57984, -110.0208, -18.0], [37.57984, -110.0208, -18.0], [37.57984, -110.0208, -18.0], [37.57984, -110.0208, -18.0], [37.57984, -110.0208, -18.0], [37.57984, -110.0208, -18.0], [37.57984, -110.0208, -18.0], [37.57984, -110.0208, -18.0], [37.57984, -110.0208, -18.0], [37.57984, -110.0208, -18.0], [37.57984, -110.0208, -18.0], [37.57192, -110.0201, -1.0], [37.57192, -110.0201, -1.0], [37.57192, -110.0201, -1.0], [37.57192, -110.0201, -1.0], [37.57192, -110.0201, -1.0], [37.57192, -110.0201, -1.0], [37.57192, -110.0201, -1.0], [37.57192, -110.0201, -1.0], [37.57192, -110.0201, -1.0], [37.57192, -110.0201, -1.0], [37.57192, -110.0201, -1.0], [37.57192, -110.0201, -1.0], [37.57192, -110.0201, -1.0], [37.57192, -110.0201, -1.0], [37.57192, -110.0201, -1.0], [37.57192, -110.0201, -1.0], [37.57192, -110.0201, -1.0], [37.57192, -110.0201, -1.0], [37.57192, -110.0201, -1.0], [37.57192, -110.0201, -1.0], [37.57192, -110.0201, -1.0], [37.57192, -110.0201, -1.0], [37.57192, -110.0201, -1.0], [37.57192, -110.0201, -1.0], [37.57192, -110.0201, -1.0], [37.57192, -110.0201, -1.0], [37.57192, -110.0201, -1.0], [37.57192, -110.0201, -1.0], [37.57192, -110.0201, -1.0], [37.57192, -110.0201, -1.0], [37.57192, -110.0201, -1.0], [37.57192, -110.0201, -1.0], [37.57192, -110.0201, -1.0], [37.57192, -110.0201, -1.0], [37.57192, -110.0201, -1.0], [37.57192, -110.0201, -1.0], [37.57192, -110.0201, -1.0], [37.57192, -110.0201, -1.0], [37.57192, -110.0201, -1.0], [37.57192, -110.0201, -1.0], [37.57192, -110.0201, -1.0], [37.57192, -110.0201, -1.0], [37.57192, -110.0201, -1.0], [37.61205, -110.0177, -24.0], [37.61205, -110.0177, -24.0], [37.61205, -110.0177, -24.0], [37.61205, -110.0177, -24.0], [37.61205, -110.0177, -24.0], [37.61205, -110.0177, -24.0], [37.61205, -110.0177, -24.0], [37.61205, -110.0177, -24.0], [37.61205, -110.0177, -24.0], [37.61205, -110.0177, -24.0], [37.61205, -110.0177, -24.0], [37.61205, -110.0177, -24.0], [37.61205, -110.0177, -24.0], [37.61205, -110.0177, -24.0], [37.61205, -110.0177, -24.0], [37.61205, -110.0177, -24.0], [37.61205, -110.0177, -24.0], [37.61205, -110.0177, -24.0], [37.61205, -110.0177, -24.0], [37.61205, -110.0177, -24.0], [37.61205, -110.0177, -24.0], [37.61205, -110.0177, -24.0], [37.61205, -110.0177, -24.0], [37.61205, -110.0177, -24.0], [37.61205, -110.0177, -24.0], [37.61205, -110.0177, -24.0], [37.61205, -110.0177, -24.0], [37.61205, -110.0177, -24.0], [37.61205, -110.0177, -24.0], [37.61205, -110.0177, -24.0], [37.61205, -110.0177, -24.0], [37.61205, -110.0177, -24.0], [37.61205, -110.0177, -24.0], [37.61205, -110.0177, -24.0], [37.61205, -110.0177, -24.0], [37.61205, -110.0177, -24.0], [37.61205, -110.0177, -24.0], [37.61205, -110.0177, -24.0], [37.61205, -110.0177, -24.0], [37.61205, -110.0177, -24.0], [37.61205, -110.0177, -24.0], [37.61205, -110.0177, -24.0], [37.61205, -110.0177, -24.0], [37.6007, -110.0173, 16.0], [37.6007, -110.0173, 16.0], [37.6007, -110.0173, 16.0], [37.6007, -110.0173, 16.0], [37.6007, -110.0173, 16.0], [37.6007, -110.0173, 16.0], [37.6007, -110.0173, 16.0], [37.6007, -110.0173, 16.0], [37.6007, -110.0173, 16.0], [37.6007, -110.0173, 16.0], [37.6007, -110.0173, 16.0], [37.6007, -110.0173, 16.0], [37.6007, -110.0173, 16.0], [37.6007, -110.0173, 16.0], [37.6007, -110.0173, 16.0], [37.6007, -110.0173, 16.0], [37.6007, -110.0173, 16.0], [37.6007, -110.0173, 16.0], [37.6007, -110.0173, 16.0], [37.6007, -110.0173, 16.0], [37.6007, -110.0173, 16.0], [37.6007, -110.0173, 16.0], [37.6007, -110.0173, 16.0], [37.6007, -110.0173, 16.0], [37.6007, -110.0173, 16.0], [37.6007, -110.0173, 16.0], [37.6007, -110.0173, 16.0], [37.6007, -110.0173, 16.0], [37.6007, -110.0173, 16.0], [37.6007, -110.0173, 16.0], [37.6007, -110.0173, 16.0], [37.6007, -110.0173, 16.0], [37.6007, -110.0173, 16.0], [37.6007, -110.0173, 16.0], [37.6007, -110.0173, 16.0], [37.6007, -110.0173, 16.0], [37.6007, -110.0173, 16.0], [37.6007, -110.0173, 16.0], [37.6007, -110.0173, 16.0], [37.6007, -110.0173, 16.0], [37.6007, -110.0173, 16.0], [37.6007, -110.0173, 16.0], [37.6007, -110.0173, 16.0], [37.61416, -110.017, 47.0], [37.61416, -110.017, 47.0], [37.61416, -110.017, 47.0], [37.61416, -110.017, 47.0], [37.61416, -110.017, 47.0], [37.61416, -110.017, 47.0], [37.61416, -110.017, 47.0], [37.61416, -110.017, 47.0], [37.61416, -110.017, 47.0], [37.61416, -110.017, 47.0], [37.61416, -110.017, 47.0], [37.61416, -110.017, 47.0], [37.61416, -110.017, 47.0], [37.61416, -110.017, 47.0], [37.61416, -110.017, 47.0], [37.61416, -110.017, 47.0], [37.61416, -110.017, 47.0], [37.61416, -110.017, 47.0], [37.61416, -110.017, 47.0], [37.61416, -110.017, 47.0], [37.61416, -110.017, 47.0], [37.61416, -110.017, 47.0], [37.61416, -110.017, 47.0], [37.61416, -110.017, 47.0], [37.61416, -110.017, 47.0], [37.61416, -110.017, 47.0], [37.61416, -110.017, 47.0], [37.61416, -110.017, 47.0], [37.61416, -110.017, 47.0], [37.61416, -110.017, 47.0], [37.61416, -110.017, 47.0], [37.61416, -110.017, 47.0], [37.61416, -110.017, 47.0], [37.61416, -110.017, 47.0], [37.61416, -110.017, 47.0], [37.61416, -110.017, 47.0], [37.61416, -110.017, 47.0], [37.61416, -110.017, 47.0], [37.61416, -110.017, 47.0], [37.61416, -110.017, 47.0], [37.61416, -110.017, 47.0], [37.61416, -110.017, 47.0], [37.61416, -110.017, 47.0], [37.61258, -110.0153, 13.0], [37.61258, -110.0153, 13.0], [37.61258, -110.0153, 13.0], [37.61258, -110.0153, 13.0], [37.61258, -110.0153, 13.0], [37.61258, -110.0153, 13.0], [37.61258, -110.0153, 13.0], [37.61258, -110.0153, 13.0], [37.61258, -110.0153, 13.0], [37.61258, -110.0153, 13.0], [37.61258, -110.0153, 13.0], [37.61258, -110.0153, 13.0], [37.61258, -110.0153, 13.0], [37.61258, -110.0153, 13.0], [37.61258, -110.0153, 13.0], [37.61258, -110.0153, 13.0], [37.61258, -110.0153, 13.0], [37.61258, -110.0153, 13.0], [37.61258, -110.0153, 13.0], [37.61258, -110.0153, 13.0], [37.61258, -110.0153, 13.0], [37.61258, -110.0153, 13.0], [37.61258, -110.0153, 13.0], [37.61258, -110.0153, 13.0], [37.61258, -110.0153, 13.0], [37.61258, -110.0153, 13.0], [37.61258, -110.0153, 13.0], [37.61258, -110.0153, 13.0], [37.61258, -110.0153, 13.0], [37.61258, -110.0153, 13.0], [37.61258, -110.0153, 13.0], [37.61258, -110.0153, 13.0], [37.61258, -110.0153, 13.0], [37.61258, -110.0153, 13.0], [37.61258, -110.0153, 13.0], [37.61258, -110.0153, 13.0], [37.61258, -110.0153, 13.0], [37.61258, -110.0153, 13.0], [37.61258, -110.0153, 13.0], [37.61258, -110.0153, 13.0], [37.61258, -110.0153, 13.0], [37.61258, -110.0153, 13.0], [37.61258, -110.0153, 13.0], [37.58143, -110.0149, -71.0], [37.58143, -110.0149, -71.0], [37.58143, -110.0149, -71.0], [37.58143, -110.0149, -71.0], [37.58143, -110.0149, -71.0], [37.58143, -110.0149, -71.0], [37.58143, -110.0149, -71.0], [37.58143, -110.0149, -71.0], [37.58143, -110.0149, -71.0], [37.58143, -110.0149, -71.0], [37.58143, -110.0149, -71.0], [37.58143, -110.0149, -71.0], [37.58143, -110.0149, -71.0], [37.58143, -110.0149, -71.0], [37.58143, -110.0149, -71.0], [37.58143, -110.0149, -71.0], [37.58143, -110.0149, -71.0], [37.58143, -110.0149, -71.0], [37.58143, -110.0149, -71.0], [37.58143, -110.0149, -71.0], [37.58143, -110.0149, -71.0], [37.58143, -110.0149, -71.0], [37.58143, -110.0149, -71.0], [37.58143, -110.0149, -71.0], [37.58143, -110.0149, -71.0], [37.58143, -110.0149, -71.0], [37.58143, -110.0149, -71.0], [37.58143, -110.0149, -71.0], [37.58143, -110.0149, -71.0], [37.58143, -110.0149, -71.0], [37.58143, -110.0149, -71.0], [37.58143, -110.0149, -71.0], [37.58143, -110.0149, -71.0], [37.58143, -110.0149, -71.0], [37.58143, -110.0149, -71.0], [37.58143, -110.0149, -71.0], [37.58143, -110.0149, -71.0], [37.58143, -110.0149, -71.0], [37.58143, -110.0149, -71.0], [37.58143, -110.0149, -71.0], [37.58143, -110.0149, -71.0], [37.58143, -110.0149, -71.0], [37.58143, -110.0149, -71.0], [37.61839, -110.0146, -13.0], [37.61839, -110.0146, -13.0], [37.61839, -110.0146, -13.0], [37.61839, -110.0146, -13.0], [37.61839, -110.0146, -13.0], [37.61839, -110.0146, -13.0], [37.61839, -110.0146, -13.0], [37.61839, -110.0146, -13.0], [37.61839, -110.0146, -13.0], [37.61839, -110.0146, -13.0], [37.61839, -110.0146, -13.0], [37.61839, -110.0146, -13.0], [37.61839, -110.0146, -13.0], [37.61839, -110.0146, -13.0], [37.61839, -110.0146, -13.0], [37.61839, -110.0146, -13.0], [37.61839, -110.0146, -13.0], [37.61839, -110.0146, -13.0], [37.61839, -110.0146, -13.0], [37.61839, -110.0146, -13.0], [37.61839, -110.0146, -13.0], [37.61839, -110.0146, -13.0], [37.61839, -110.0146, -13.0], [37.61839, -110.0146, -13.0], [37.61839, -110.0146, -13.0], [37.61839, -110.0146, -13.0], [37.61839, -110.0146, -13.0], [37.61839, -110.0146, -13.0], [37.61839, -110.0146, -13.0], [37.61839, -110.0146, -13.0], [37.61839, -110.0146, -13.0], [37.61839, -110.0146, -13.0], [37.61839, -110.0146, -13.0], [37.61839, -110.0146, -13.0], [37.61839, -110.0146, -13.0], [37.61839, -110.0146, -13.0], [37.61839, -110.0146, -13.0], [37.61839, -110.0146, -13.0], [37.61839, -110.0146, -13.0], [37.61839, -110.0146, -13.0], [37.61839, -110.0146, -13.0], [37.61839, -110.0146, -13.0], [37.61839, -110.0146, -13.0], [37.62472, -110.0129, -37.0], [37.62472, -110.0129, -37.0], [37.62472, -110.0129, -37.0], [37.62472, -110.0129, -37.0], [37.62472, -110.0129, -37.0], [37.62472, -110.0129, -37.0], [37.62472, -110.0129, -37.0], [37.62472, -110.0129, -37.0], [37.62472, -110.0129, -37.0], [37.62472, -110.0129, -37.0], [37.62472, -110.0129, -37.0], [37.62472, -110.0129, -37.0], [37.62472, -110.0129, -37.0], [37.62472, -110.0129, -37.0], [37.62472, -110.0129, -37.0], [37.62472, -110.0129, -37.0], [37.62472, -110.0129, -37.0], [37.62472, -110.0129, -37.0], [37.62472, -110.0129, -37.0], [37.62472, -110.0129, -37.0], [37.62472, -110.0129, -37.0], [37.62472, -110.0129, -37.0], [37.62472, -110.0129, -37.0], [37.62472, -110.0129, -37.0], [37.62472, -110.0129, -37.0], [37.62472, -110.0129, -37.0], [37.62472, -110.0129, -37.0], [37.62472, -110.0129, -37.0], [37.62472, -110.0129, -37.0], [37.62472, -110.0129, -37.0], [37.62472, -110.0129, -37.0], [37.62472, -110.0129, -37.0], [37.62472, -110.0129, -37.0], [37.62472, -110.0129, -37.0], [37.62472, -110.0129, -37.0], [37.62472, -110.0129, -37.0], [37.62472, -110.0129, -37.0], [37.62472, -110.0129, -37.0], [37.62472, -110.0129, -37.0], [37.62472, -110.0129, -37.0], [37.62472, -110.0129, -37.0], [37.62472, -110.0129, -37.0], [37.62472, -110.0129, -37.0], [37.62736, -110.0129, -77.0], [37.62736, -110.0129, -77.0], [37.62736, -110.0129, -77.0], [37.62736, -110.0129, -77.0], [37.62736, -110.0129, -77.0], [37.62736, -110.0129, -77.0], [37.62736, -110.0129, -77.0], [37.62736, -110.0129, -77.0], [37.62736, -110.0129, -77.0], [37.62736, -110.0129, -77.0], [37.62736, -110.0129, -77.0], [37.62736, -110.0129, -77.0], [37.62736, -110.0129, -77.0], [37.62736, -110.0129, -77.0], [37.62736, -110.0129, -77.0], [37.62736, -110.0129, -77.0], [37.62736, -110.0129, -77.0], [37.62736, -110.0129, -77.0], [37.62736, -110.0129, -77.0], [37.62736, -110.0129, -77.0], [37.62736, -110.0129, -77.0], [37.62736, -110.0129, -77.0], [37.62736, -110.0129, -77.0], [37.62736, -110.0129, -77.0], [37.62736, -110.0129, -77.0], [37.62736, -110.0129, -77.0], [37.62736, -110.0129, -77.0], [37.62736, -110.0129, -77.0], [37.62736, -110.0129, -77.0], [37.62736, -110.0129, -77.0], [37.62736, -110.0129, -77.0], [37.62736, -110.0129, -77.0], [37.62736, -110.0129, -77.0], [37.62736, -110.0129, -77.0], [37.62736, -110.0129, -77.0], [37.62736, -110.0129, -77.0], [37.62736, -110.0129, -77.0], [37.62736, -110.0129, -77.0], [37.62736, -110.0129, -77.0], [37.62736, -110.0129, -77.0], [37.62736, -110.0129, -77.0], [37.62736, -110.0129, -77.0], [37.62736, -110.0129, -77.0], [37.59252, -110.0105, 7.0], [37.59252, -110.0105, 7.0], [37.59252, -110.0105, 7.0], [37.59252, -110.0105, 7.0], [37.59252, -110.0105, 7.0], [37.59252, -110.0105, 7.0], [37.59252, -110.0105, 7.0], [37.59252, -110.0105, 7.0], [37.59252, -110.0105, 7.0], [37.59252, -110.0105, 7.0], [37.59252, -110.0105, 7.0], [37.59252, -110.0105, 7.0], [37.59252, -110.0105, 7.0], [37.59252, -110.0105, 7.0], [37.59252, -110.0105, 7.0], [37.59252, -110.0105, 7.0], [37.59252, -110.0105, 7.0], [37.59252, -110.0105, 7.0], [37.59252, -110.0105, 7.0], [37.59252, -110.0105, 7.0], [37.59252, -110.0105, 7.0], [37.59252, -110.0105, 7.0], [37.59252, -110.0105, 7.0], [37.59252, -110.0105, 7.0], [37.59252, -110.0105, 7.0], [37.59252, -110.0105, 7.0], [37.59252, -110.0105, 7.0], [37.59252, -110.0105, 7.0], [37.59252, -110.0105, 7.0], [37.59252, -110.0105, 7.0], [37.59252, -110.0105, 7.0], [37.59252, -110.0105, 7.0], [37.59252, -110.0105, 7.0], [37.59252, -110.0105, 7.0], [37.59252, -110.0105, 7.0], [37.59252, -110.0105, 7.0], [37.59252, -110.0105, 7.0], [37.59252, -110.0105, 7.0], [37.59252, -110.0105, 7.0], [37.59252, -110.0105, 7.0], [37.59252, -110.0105, 7.0], [37.59252, -110.0105, 7.0], [37.59252, -110.0105, 7.0], [37.6139, -110.0105, 31.0], [37.6139, -110.0105, 31.0], [37.6139, -110.0105, 31.0], [37.6139, -110.0105, 31.0], [37.6139, -110.0105, 31.0], [37.6139, -110.0105, 31.0], [37.6139, -110.0105, 31.0], [37.6139, -110.0105, 31.0], [37.6139, -110.0105, 31.0], [37.6139, -110.0105, 31.0], [37.6139, -110.0105, 31.0], [37.6139, -110.0105, 31.0], [37.6139, -110.0105, 31.0], [37.6139, -110.0105, 31.0], [37.6139, -110.0105, 31.0], [37.6139, -110.0105, 31.0], [37.6139, -110.0105, 31.0], [37.6139, -110.0105, 31.0], [37.6139, -110.0105, 31.0], [37.6139, -110.0105, 31.0], [37.6139, -110.0105, 31.0], [37.6139, -110.0105, 31.0], [37.6139, -110.0105, 31.0], [37.6139, -110.0105, 31.0], [37.6139, -110.0105, 31.0], [37.6139, -110.0105, 31.0], [37.6139, -110.0105, 31.0], [37.6139, -110.0105, 31.0], [37.6139, -110.0105, 31.0], [37.6139, -110.0105, 31.0], [37.6139, -110.0105, 31.0], [37.6139, -110.0105, 31.0], [37.6139, -110.0105, 31.0], [37.6139, -110.0105, 31.0], [37.6139, -110.0105, 31.0], [37.6139, -110.0105, 31.0], [37.6139, -110.0105, 31.0], [37.6139, -110.0105, 31.0], [37.6139, -110.0105, 31.0], [37.6139, -110.0105, 31.0], [37.6139, -110.0105, 31.0], [37.6139, -110.0105, 31.0], [37.6139, -110.0105, 31.0], [37.62208, -110.0105, -26.0], [37.62208, -110.0105, -26.0], [37.62208, -110.0105, -26.0], [37.62208, -110.0105, -26.0], [37.62208, -110.0105, -26.0], [37.62208, -110.0105, -26.0], [37.62208, -110.0105, -26.0], [37.62208, -110.0105, -26.0], [37.62208, -110.0105, -26.0], [37.62208, -110.0105, -26.0], [37.62208, -110.0105, -26.0], [37.62208, -110.0105, -26.0], [37.62208, -110.0105, -26.0], [37.62208, -110.0105, -26.0], [37.62208, -110.0105, -26.0], [37.62208, -110.0105, -26.0], [37.62208, -110.0105, -26.0], [37.62208, -110.0105, -26.0], [37.62208, -110.0105, -26.0], [37.62208, -110.0105, -26.0], [37.62208, -110.0105, -26.0], [37.62208, -110.0105, -26.0], [37.62208, -110.0105, -26.0], [37.62208, -110.0105, -26.0], [37.62208, -110.0105, -26.0], [37.62208, -110.0105, -26.0], [37.62208, -110.0105, -26.0], [37.62208, -110.0105, -26.0], [37.62208, -110.0105, -26.0], [37.62208, -110.0105, -26.0], [37.62208, -110.0105, -26.0], [37.62208, -110.0105, -26.0], [37.62208, -110.0105, -26.0], [37.62208, -110.0105, -26.0], [37.62208, -110.0105, -26.0], [37.62208, -110.0105, -26.0], [37.62208, -110.0105, -26.0], [37.62208, -110.0105, -26.0], [37.62208, -110.0105, -26.0], [37.62208, -110.0105, -26.0], [37.62208, -110.0105, -26.0], [37.62208, -110.0105, -26.0], [37.62208, -110.0105, -26.0], [37.62024, -110.0101, -46.0], [37.62024, -110.0101, -46.0], [37.62024, -110.0101, -46.0], [37.62024, -110.0101, -46.0], [37.62024, -110.0101, -46.0], [37.62024, -110.0101, -46.0], [37.62024, -110.0101, -46.0], [37.62024, -110.0101, -46.0], [37.62024, -110.0101, -46.0], [37.62024, -110.0101, -46.0], [37.62024, -110.0101, -46.0], [37.62024, -110.0101, -46.0], [37.62024, -110.0101, -46.0], [37.62024, -110.0101, -46.0], [37.62024, -110.0101, -46.0], [37.62024, -110.0101, -46.0], [37.62024, -110.0101, -46.0], [37.62024, -110.0101, -46.0], [37.62024, -110.0101, -46.0], [37.62024, -110.0101, -46.0], [37.62024, -110.0101, -46.0], [37.62024, -110.0101, -46.0], [37.62024, -110.0101, -46.0], [37.62024, -110.0101, -46.0], [37.62024, -110.0101, -46.0], [37.62024, -110.0101, -46.0], [37.62024, -110.0101, -46.0], [37.62024, -110.0101, -46.0], [37.62024, -110.0101, -46.0], [37.62024, -110.0101, -46.0], [37.62024, -110.0101, -46.0], [37.62024, -110.0101, -46.0], [37.62024, -110.0101, -46.0], [37.62024, -110.0101, -46.0], [37.62024, -110.0101, -46.0], [37.62024, -110.0101, -46.0], [37.62024, -110.0101, -46.0], [37.62024, -110.0101, -46.0], [37.62024, -110.0101, -46.0], [37.62024, -110.0101, -46.0], [37.62024, -110.0101, -46.0], [37.62024, -110.0101, -46.0], [37.62024, -110.0101, -46.0], [37.59964, -110.0098, 29.0], [37.59964, -110.0098, 29.0], [37.59964, -110.0098, 29.0], [37.59964, -110.0098, 29.0], [37.59964, -110.0098, 29.0], [37.59964, -110.0098, 29.0], [37.59964, -110.0098, 29.0], [37.59964, -110.0098, 29.0], [37.59964, -110.0098, 29.0], [37.59964, -110.0098, 29.0], [37.59964, -110.0098, 29.0], [37.59964, -110.0098, 29.0], [37.59964, -110.0098, 29.0], [37.59964, -110.0098, 29.0], [37.59964, -110.0098, 29.0], [37.59964, -110.0098, 29.0], [37.59964, -110.0098, 29.0], [37.59964, -110.0098, 29.0], [37.59964, -110.0098, 29.0], [37.59964, -110.0098, 29.0], [37.59964, -110.0098, 29.0], [37.59964, -110.0098, 29.0], [37.59964, -110.0098, 29.0], [37.59964, -110.0098, 29.0], [37.59964, -110.0098, 29.0], [37.59964, -110.0098, 29.0], [37.59964, -110.0098, 29.0], [37.59964, -110.0098, 29.0], [37.59964, -110.0098, 29.0], [37.59964, -110.0098, 29.0], [37.59964, -110.0098, 29.0], [37.59964, -110.0098, 29.0], [37.59964, -110.0098, 29.0], [37.59964, -110.0098, 29.0], [37.59964, -110.0098, 29.0], [37.59964, -110.0098, 29.0], [37.59964, -110.0098, 29.0], [37.59964, -110.0098, 29.0], [37.59964, -110.0098, 29.0], [37.59964, -110.0098, 29.0], [37.59964, -110.0098, 29.0], [37.59964, -110.0098, 29.0], [37.59964, -110.0098, 29.0], [37.61839, -110.0094, -24.0], [37.61839, -110.0094, -24.0], [37.61839, -110.0094, -24.0], [37.61839, -110.0094, -24.0], [37.61839, -110.0094, -24.0], [37.61839, -110.0094, -24.0], [37.61839, -110.0094, -24.0], [37.61839, -110.0094, -24.0], [37.61839, -110.0094, -24.0], [37.61839, -110.0094, -24.0], [37.61839, -110.0094, -24.0], [37.61839, -110.0094, -24.0], [37.61839, -110.0094, -24.0], [37.61839, -110.0094, -24.0], [37.61839, -110.0094, -24.0], [37.61839, -110.0094, -24.0], [37.61839, -110.0094, -24.0], [37.61839, -110.0094, -24.0], [37.61839, -110.0094, -24.0], [37.61839, -110.0094, -24.0], [37.61839, -110.0094, -24.0], [37.61839, -110.0094, -24.0], [37.61839, -110.0094, -24.0], [37.61839, -110.0094, -24.0], [37.61839, -110.0094, -24.0], [37.61839, -110.0094, -24.0], [37.61839, -110.0094, -24.0], [37.61839, -110.0094, -24.0], [37.61839, -110.0094, -24.0], [37.61839, -110.0094, -24.0], [37.61839, -110.0094, -24.0], [37.61839, -110.0094, -24.0], [37.61839, -110.0094, -24.0], [37.61839, -110.0094, -24.0], [37.61839, -110.0094, -24.0], [37.61839, -110.0094, -24.0], [37.61839, -110.0094, -24.0], [37.61839, -110.0094, -24.0], [37.61839, -110.0094, -24.0], [37.61839, -110.0094, -24.0], [37.61839, -110.0094, -24.0], [37.61839, -110.0094, -24.0], [37.61839, -110.0094, -24.0], [37.57324, -110.0084, 8.0], [37.57324, -110.0084, 8.0], [37.57324, -110.0084, 8.0], [37.57324, -110.0084, 8.0], [37.57324, -110.0084, 8.0], [37.57324, -110.0084, 8.0], [37.57324, -110.0084, 8.0], [37.57324, -110.0084, 8.0], [37.57324, -110.0084, 8.0], [37.57324, -110.0084, 8.0], [37.57324, -110.0084, 8.0], [37.57324, -110.0084, 8.0], [37.57324, -110.0084, 8.0], [37.57324, -110.0084, 8.0], [37.57324, -110.0084, 8.0], [37.57324, -110.0084, 8.0], [37.57324, -110.0084, 8.0], [37.57324, -110.0084, 8.0], [37.57324, -110.0084, 8.0], [37.57324, -110.0084, 8.0], [37.57324, -110.0084, 8.0], [37.57324, -110.0084, 8.0], [37.57324, -110.0084, 8.0], [37.57324, -110.0084, 8.0], [37.57324, -110.0084, 8.0], [37.57324, -110.0084, 8.0], [37.57324, -110.0084, 8.0], [37.57324, -110.0084, 8.0], [37.57324, -110.0084, 8.0], [37.57324, -110.0084, 8.0], [37.57324, -110.0084, 8.0], [37.57324, -110.0084, 8.0], [37.57324, -110.0084, 8.0], [37.57324, -110.0084, 8.0], [37.57324, -110.0084, 8.0], [37.57324, -110.0084, 8.0], [37.57324, -110.0084, 8.0], [37.57324, -110.0084, 8.0], [37.57324, -110.0084, 8.0], [37.57324, -110.0084, 8.0], [37.57324, -110.0084, 8.0], [37.57324, -110.0084, 8.0], [37.57324, -110.0084, 8.0], [37.61733, -110.007, -8.0], [37.61733, -110.007, -8.0], [37.61733, -110.007, -8.0], [37.61733, -110.007, -8.0], [37.61733, -110.007, -8.0], [37.61733, -110.007, -8.0], [37.61733, -110.007, -8.0], [37.61733, -110.007, -8.0], [37.61733, -110.007, -8.0], [37.61733, -110.007, -8.0], [37.61733, -110.007, -8.0], [37.61733, -110.007, -8.0], [37.61733, -110.007, -8.0], [37.61733, -110.007, -8.0], [37.61733, -110.007, -8.0], [37.61733, -110.007, -8.0], [37.61733, -110.007, -8.0], [37.61733, -110.007, -8.0], [37.61733, -110.007, -8.0], [37.61733, -110.007, -8.0], [37.61733, -110.007, -8.0], [37.61733, -110.007, -8.0], [37.61733, -110.007, -8.0], [37.61733, -110.007, -8.0], [37.61733, -110.007, -8.0], [37.61733, -110.007, -8.0], [37.61733, -110.007, -8.0], [37.61733, -110.007, -8.0], [37.61733, -110.007, -8.0], [37.61733, -110.007, -8.0], [37.61733, -110.007, -8.0], [37.61733, -110.007, -8.0], [37.61733, -110.007, -8.0], [37.61733, -110.007, -8.0], [37.61733, -110.007, -8.0], [37.61733, -110.007, -8.0], [37.61733, -110.007, -8.0], [37.61733, -110.007, -8.0], [37.61733, -110.007, -8.0], [37.61733, -110.007, -8.0], [37.61733, -110.007, -8.0], [37.61733, -110.007, -8.0], [37.61733, -110.007, -8.0], [37.59436, -110.0057, -36.0], [37.59436, -110.0057, -36.0], [37.59436, -110.0057, -36.0], [37.59436, -110.0057, -36.0], [37.59436, -110.0057, -36.0], [37.59436, -110.0057, -36.0], [37.59436, -110.0057, -36.0], [37.59436, -110.0057, -36.0], [37.59436, -110.0057, -36.0], [37.59436, -110.0057, -36.0], [37.59436, -110.0057, -36.0], [37.59436, -110.0057, -36.0], [37.59436, -110.0057, -36.0], [37.59436, -110.0057, -36.0], [37.59436, -110.0057, -36.0], [37.59436, -110.0057, -36.0], [37.59436, -110.0057, -36.0], [37.59436, -110.0057, -36.0], [37.59436, -110.0057, -36.0], [37.59436, -110.0057, -36.0], [37.59436, -110.0057, -36.0], [37.59436, -110.0057, -36.0], [37.59436, -110.0057, -36.0], [37.59436, -110.0057, -36.0], [37.59436, -110.0057, -36.0], [37.59436, -110.0057, -36.0], [37.59436, -110.0057, -36.0], [37.59436, -110.0057, -36.0], [37.59436, -110.0057, -36.0], [37.59436, -110.0057, -36.0], [37.59436, -110.0057, -36.0], [37.59436, -110.0057, -36.0], [37.59436, -110.0057, -36.0], [37.59436, -110.0057, -36.0], [37.59436, -110.0057, -36.0], [37.59436, -110.0057, -36.0], [37.59436, -110.0057, -36.0], [37.59436, -110.0057, -36.0], [37.59436, -110.0057, -36.0], [37.59436, -110.0057, -36.0], [37.59436, -110.0057, -36.0], [37.59436, -110.0057, -36.0], [37.59436, -110.0057, -36.0], [37.61284, -110.0057, 38.0], [37.61284, -110.0057, 38.0], [37.61284, -110.0057, 38.0], [37.61284, -110.0057, 38.0], [37.61284, -110.0057, 38.0], [37.61284, -110.0057, 38.0], [37.61284, -110.0057, 38.0], [37.61284, -110.0057, 38.0], [37.61284, -110.0057, 38.0], [37.61284, -110.0057, 38.0], [37.61284, -110.0057, 38.0], [37.61284, -110.0057, 38.0], [37.61284, -110.0057, 38.0], [37.61284, -110.0057, 38.0], [37.61284, -110.0057, 38.0], [37.61284, -110.0057, 38.0], [37.61284, -110.0057, 38.0], [37.61284, -110.0057, 38.0], [37.61284, -110.0057, 38.0], [37.61284, -110.0057, 38.0], [37.61284, -110.0057, 38.0], [37.61284, -110.0057, 38.0], [37.61284, -110.0057, 38.0], [37.61284, -110.0057, 38.0], [37.61284, -110.0057, 38.0], [37.61284, -110.0057, 38.0], [37.61284, -110.0057, 38.0], [37.61284, -110.0057, 38.0], [37.61284, -110.0057, 38.0], [37.61284, -110.0057, 38.0], [37.61284, -110.0057, 38.0], [37.61284, -110.0057, 38.0], [37.61284, -110.0057, 38.0], [37.61284, -110.0057, 38.0], [37.61284, -110.0057, 38.0], [37.61284, -110.0057, 38.0], [37.61284, -110.0057, 38.0], [37.61284, -110.0057, 38.0], [37.61284, -110.0057, 38.0], [37.61284, -110.0057, 38.0], [37.61284, -110.0057, 38.0], [37.61284, -110.0057, 38.0], [37.61284, -110.0057, 38.0], [37.61892, -110.005, -39.0], [37.61892, -110.005, -39.0], [37.61892, -110.005, -39.0], [37.61892, -110.005, -39.0], [37.61892, -110.005, -39.0], [37.61892, -110.005, -39.0], [37.61892, -110.005, -39.0], [37.61892, -110.005, -39.0], [37.61892, -110.005, -39.0], [37.61892, -110.005, -39.0], [37.61892, -110.005, -39.0], [37.61892, -110.005, -39.0], [37.61892, -110.005, -39.0], [37.61892, -110.005, -39.0], [37.61892, -110.005, -39.0], [37.61892, -110.005, -39.0], [37.61892, -110.005, -39.0], [37.61892, -110.005, -39.0], [37.61892, -110.005, -39.0], [37.61892, -110.005, -39.0], [37.61892, -110.005, -39.0], [37.61892, -110.005, -39.0], [37.61892, -110.005, -39.0], [37.61892, -110.005, -39.0], [37.61892, -110.005, -39.0], [37.61892, -110.005, -39.0], [37.61892, -110.005, -39.0], [37.61892, -110.005, -39.0], [37.61892, -110.005, -39.0], [37.61892, -110.005, -39.0], [37.61892, -110.005, -39.0], [37.61892, -110.005, -39.0], [37.61892, -110.005, -39.0], [37.61892, -110.005, -39.0], [37.61892, -110.005, -39.0], [37.61892, -110.005, -39.0], [37.61892, -110.005, -39.0], [37.61892, -110.005, -39.0], [37.61892, -110.005, -39.0], [37.61892, -110.005, -39.0], [37.61892, -110.005, -39.0], [37.61892, -110.005, -39.0], [37.61892, -110.005, -39.0], [37.62657, -110.005, 13.0], [37.62657, -110.005, 13.0], [37.62657, -110.005, 13.0], [37.62657, -110.005, 13.0], [37.62657, -110.005, 13.0], [37.62657, -110.005, 13.0], [37.62657, -110.005, 13.0], [37.62657, -110.005, 13.0], [37.62657, -110.005, 13.0], [37.62657, -110.005, 13.0], [37.62657, -110.005, 13.0], [37.62657, -110.005, 13.0], [37.62657, -110.005, 13.0], [37.62657, -110.005, 13.0], [37.62657, -110.005, 13.0], [37.62657, -110.005, 13.0], [37.62657, -110.005, 13.0], [37.62657, -110.005, 13.0], [37.62657, -110.005, 13.0], [37.62657, -110.005, 13.0], [37.62657, -110.005, 13.0], [37.62657, -110.005, 13.0], [37.62657, -110.005, 13.0], [37.62657, -110.005, 13.0], [37.62657, -110.005, 13.0], [37.62657, -110.005, 13.0], [37.62657, -110.005, 13.0], [37.62657, -110.005, 13.0], [37.62657, -110.005, 13.0], [37.62657, -110.005, 13.0], [37.62657, -110.005, 13.0], [37.62657, -110.005, 13.0], [37.62657, -110.005, 13.0], [37.62657, -110.005, 13.0], [37.62657, -110.005, 13.0], [37.62657, -110.005, 13.0], [37.62657, -110.005, 13.0], [37.62657, -110.005, 13.0], [37.62657, -110.005, 13.0], [37.62657, -110.005, 13.0], [37.62657, -110.005, 13.0], [37.62657, -110.005, 13.0], [37.62657, -110.005, 13.0], [37.57034, -110.0046, 54.0], [37.57034, -110.0046, 54.0], [37.57034, -110.0046, 54.0], [37.57034, -110.0046, 54.0], [37.57034, -110.0046, 54.0], [37.57034, -110.0046, 54.0], [37.57034, -110.0046, 54.0], [37.57034, -110.0046, 54.0], [37.57034, -110.0046, 54.0], [37.57034, -110.0046, 54.0], [37.57034, -110.0046, 54.0], [37.57034, -110.0046, 54.0], [37.57034, -110.0046, 54.0], [37.57034, -110.0046, 54.0], [37.57034, -110.0046, 54.0], [37.57034, -110.0046, 54.0], [37.57034, -110.0046, 54.0], [37.57034, -110.0046, 54.0], [37.57034, -110.0046, 54.0], [37.57034, -110.0046, 54.0], [37.57034, -110.0046, 54.0], [37.57034, -110.0046, 54.0], [37.57034, -110.0046, 54.0], [37.57034, -110.0046, 54.0], [37.57034, -110.0046, 54.0], [37.57034, -110.0046, 54.0], [37.57034, -110.0046, 54.0], [37.57034, -110.0046, 54.0], [37.57034, -110.0046, 54.0], [37.57034, -110.0046, 54.0], [37.57034, -110.0046, 54.0], [37.57034, -110.0046, 54.0], [37.57034, -110.0046, 54.0], [37.57034, -110.0046, 54.0], [37.57034, -110.0046, 54.0], [37.57034, -110.0046, 54.0], [37.57034, -110.0046, 54.0], [37.57034, -110.0046, 54.0], [37.57034, -110.0046, 54.0], [37.57034, -110.0046, 54.0], [37.57034, -110.0046, 54.0], [37.57034, -110.0046, 54.0], [37.57034, -110.0046, 54.0], [37.59806, -110.0033, 13.0], [37.59806, -110.0033, 13.0], [37.59806, -110.0033, 13.0], [37.59806, -110.0033, 13.0], [37.59806, -110.0033, 13.0], [37.59806, -110.0033, 13.0], [37.59806, -110.0033, 13.0], [37.59806, -110.0033, 13.0], [37.59806, -110.0033, 13.0], [37.59806, -110.0033, 13.0], [37.59806, -110.0033, 13.0], [37.59806, -110.0033, 13.0], [37.59806, -110.0033, 13.0], [37.59806, -110.0033, 13.0], [37.59806, -110.0033, 13.0], [37.59806, -110.0033, 13.0], [37.59806, -110.0033, 13.0], [37.59806, -110.0033, 13.0], [37.59806, -110.0033, 13.0], [37.59806, -110.0033, 13.0], [37.59806, -110.0033, 13.0], [37.59806, -110.0033, 13.0], [37.59806, -110.0033, 13.0], [37.59806, -110.0033, 13.0], [37.59806, -110.0033, 13.0], [37.59806, -110.0033, 13.0], [37.59806, -110.0033, 13.0], [37.59806, -110.0033, 13.0], [37.59806, -110.0033, 13.0], [37.59806, -110.0033, 13.0], [37.59806, -110.0033, 13.0], [37.59806, -110.0033, 13.0], [37.59806, -110.0033, 13.0], [37.59806, -110.0033, 13.0], [37.59806, -110.0033, 13.0], [37.59806, -110.0033, 13.0], [37.59806, -110.0033, 13.0], [37.59806, -110.0033, 13.0], [37.59806, -110.0033, 13.0], [37.59806, -110.0033, 13.0], [37.59806, -110.0033, 13.0], [37.59806, -110.0033, 13.0], [37.59806, -110.0033, 13.0], [37.61707, -110.0033, 61.0], [37.61707, -110.0033, 61.0], [37.61707, -110.0033, 61.0], [37.61707, -110.0033, 61.0], [37.61707, -110.0033, 61.0], [37.61707, -110.0033, 61.0], [37.61707, -110.0033, 61.0], [37.61707, -110.0033, 61.0], [37.61707, -110.0033, 61.0], [37.61707, -110.0033, 61.0], [37.61707, -110.0033, 61.0], [37.61707, -110.0033, 61.0], [37.61707, -110.0033, 61.0], [37.61707, -110.0033, 61.0], [37.61707, -110.0033, 61.0], [37.61707, -110.0033, 61.0], [37.61707, -110.0033, 61.0], [37.61707, -110.0033, 61.0], [37.61707, -110.0033, 61.0], [37.61707, -110.0033, 61.0], [37.61707, -110.0033, 61.0], [37.61707, -110.0033, 61.0], [37.61707, -110.0033, 61.0], [37.61707, -110.0033, 61.0], [37.61707, -110.0033, 61.0], [37.61707, -110.0033, 61.0], [37.61707, -110.0033, 61.0], [37.61707, -110.0033, 61.0], [37.61707, -110.0033, 61.0], [37.61707, -110.0033, 61.0], [37.61707, -110.0033, 61.0], [37.61707, -110.0033, 61.0], [37.61707, -110.0033, 61.0], [37.61707, -110.0033, 61.0], [37.61707, -110.0033, 61.0], [37.61707, -110.0033, 61.0], [37.61707, -110.0033, 61.0], [37.61707, -110.0033, 61.0], [37.61707, -110.0033, 61.0], [37.61707, -110.0033, 61.0], [37.61707, -110.0033, 61.0], [37.61707, -110.0033, 61.0], [37.61707, -110.0033, 61.0], [37.62156, -110.0029, -72.0], [37.62156, -110.0029, -72.0], [37.62156, -110.0029, -72.0], [37.62156, -110.0029, -72.0], [37.62156, -110.0029, -72.0], [37.62156, -110.0029, -72.0], [37.62156, -110.0029, -72.0], [37.62156, -110.0029, -72.0], [37.62156, -110.0029, -72.0], [37.62156, -110.0029, -72.0], [37.62156, -110.0029, -72.0], [37.62156, -110.0029, -72.0], [37.62156, -110.0029, -72.0], [37.62156, -110.0029, -72.0], [37.62156, -110.0029, -72.0], [37.62156, -110.0029, -72.0], [37.62156, -110.0029, -72.0], [37.62156, -110.0029, -72.0], [37.62156, -110.0029, -72.0], [37.62156, -110.0029, -72.0], [37.62156, -110.0029, -72.0], [37.62156, -110.0029, -72.0], [37.62156, -110.0029, -72.0], [37.62156, -110.0029, -72.0], [37.62156, -110.0029, -72.0], [37.62156, -110.0029, -72.0], [37.62156, -110.0029, -72.0], [37.62156, -110.0029, -72.0], [37.62156, -110.0029, -72.0], [37.62156, -110.0029, -72.0], [37.62156, -110.0029, -72.0], [37.62156, -110.0029, -72.0], [37.62156, -110.0029, -72.0], [37.62156, -110.0029, -72.0], [37.62156, -110.0029, -72.0], [37.62156, -110.0029, -72.0], [37.62156, -110.0029, -72.0], [37.62156, -110.0029, -72.0], [37.62156, -110.0029, -72.0], [37.62156, -110.0029, -72.0], [37.62156, -110.0029, -72.0], [37.62156, -110.0029, -72.0], [37.62156, -110.0029, -72.0], [37.57324, -110.0022, 0.0], [37.57324, -110.0022, 0.0], [37.57324, -110.0022, 0.0], [37.57324, -110.0022, 0.0], [37.57324, -110.0022, 0.0], [37.57324, -110.0022, 0.0], [37.57324, -110.0022, 0.0], [37.57324, -110.0022, 0.0], [37.57324, -110.0022, 0.0], [37.57324, -110.0022, 0.0], [37.57324, -110.0022, 0.0], [37.57324, -110.0022, 0.0], [37.57324, -110.0022, 0.0], [37.57324, -110.0022, 0.0], [37.57324, -110.0022, 0.0], [37.57324, -110.0022, 0.0], [37.57324, -110.0022, 0.0], [37.57324, -110.0022, 0.0], [37.57324, -110.0022, 0.0], [37.57324, -110.0022, 0.0], [37.57324, -110.0022, 0.0], [37.57324, -110.0022, 0.0], [37.57324, -110.0022, 0.0], [37.57324, -110.0022, 0.0], [37.57324, -110.0022, 0.0], [37.57324, -110.0022, 0.0], [37.57324, -110.0022, 0.0], [37.57324, -110.0022, 0.0], [37.57324, -110.0022, 0.0], [37.57324, -110.0022, 0.0], [37.57324, -110.0022, 0.0], [37.57324, -110.0022, 0.0], [37.57324, -110.0022, 0.0], [37.57324, -110.0022, 0.0], [37.57324, -110.0022, 0.0], [37.57324, -110.0022, 0.0], [37.57324, -110.0022, 0.0], [37.57324, -110.0022, 0.0], [37.57324, -110.0022, 0.0], [37.57324, -110.0022, 0.0], [37.57324, -110.0022, 0.0], [37.57324, -110.0022, 0.0], [37.57324, -110.0022, 0.0], [37.5846, -110.0022, -89.0], [37.5846, -110.0022, -89.0], [37.5846, -110.0022, -89.0], [37.5846, -110.0022, -89.0], [37.5846, -110.0022, -89.0], [37.5846, -110.0022, -89.0], [37.5846, -110.0022, -89.0], [37.5846, -110.0022, -89.0], [37.5846, -110.0022, -89.0], [37.5846, -110.0022, -89.0], [37.5846, -110.0022, -89.0], [37.5846, -110.0022, -89.0], [37.5846, -110.0022, -89.0], [37.5846, -110.0022, -89.0], [37.5846, -110.0022, -89.0], [37.5846, -110.0022, -89.0], [37.5846, -110.0022, -89.0], [37.5846, -110.0022, -89.0], [37.5846, -110.0022, -89.0], [37.5846, -110.0022, -89.0], [37.5846, -110.0022, -89.0], [37.5846, -110.0022, -89.0], [37.5846, -110.0022, -89.0], [37.5846, -110.0022, -89.0], [37.5846, -110.0022, -89.0], [37.5846, -110.0022, -89.0], [37.5846, -110.0022, -89.0], [37.5846, -110.0022, -89.0], [37.5846, -110.0022, -89.0], [37.5846, -110.0022, -89.0], [37.5846, -110.0022, -89.0], [37.5846, -110.0022, -89.0], [37.5846, -110.0022, -89.0], [37.5846, -110.0022, -89.0], [37.5846, -110.0022, -89.0], [37.5846, -110.0022, -89.0], [37.5846, -110.0022, -89.0], [37.5846, -110.0022, -89.0], [37.5846, -110.0022, -89.0], [37.5846, -110.0022, -89.0], [37.5846, -110.0022, -89.0], [37.5846, -110.0022, -89.0], [37.5846, -110.0022, -89.0], [37.60915, -110.0022, -87.0], [37.60915, -110.0022, -87.0], [37.60915, -110.0022, -87.0], [37.60915, -110.0022, -87.0], [37.60915, -110.0022, -87.0], [37.60915, -110.0022, -87.0], [37.60915, -110.0022, -87.0], [37.60915, -110.0022, -87.0], [37.60915, -110.0022, -87.0], [37.60915, -110.0022, -87.0], [37.60915, -110.0022, -87.0], [37.60915, -110.0022, -87.0], [37.60915, -110.0022, -87.0], [37.60915, -110.0022, -87.0], [37.60915, -110.0022, -87.0], [37.60915, -110.0022, -87.0], [37.60915, -110.0022, -87.0], [37.60915, -110.0022, -87.0], [37.60915, -110.0022, -87.0], [37.60915, -110.0022, -87.0], [37.60915, -110.0022, -87.0], [37.60915, -110.0022, -87.0], [37.60915, -110.0022, -87.0], [37.60915, -110.0022, -87.0], [37.60915, -110.0022, -87.0], [37.60915, -110.0022, -87.0], [37.60915, -110.0022, -87.0], [37.60915, -110.0022, -87.0], [37.60915, -110.0022, -87.0], [37.60915, -110.0022, -87.0], [37.60915, -110.0022, -87.0], [37.60915, -110.0022, -87.0], [37.60915, -110.0022, -87.0], [37.60915, -110.0022, -87.0], [37.60915, -110.0022, -87.0], [37.60915, -110.0022, -87.0], [37.60915, -110.0022, -87.0], [37.60915, -110.0022, -87.0], [37.60915, -110.0022, -87.0], [37.60915, -110.0022, -87.0], [37.60915, -110.0022, -87.0], [37.60915, -110.0022, -87.0], [37.60915, -110.0022, -87.0], [37.57879, -110.0019, -23.0], [37.57879, -110.0019, -23.0], [37.57879, -110.0019, -23.0], [37.57879, -110.0019, -23.0], [37.57879, -110.0019, -23.0], [37.57879, -110.0019, -23.0], [37.57879, -110.0019, -23.0], [37.57879, -110.0019, -23.0], [37.57879, -110.0019, -23.0], [37.57879, -110.0019, -23.0], [37.57879, -110.0019, -23.0], [37.57879, -110.0019, -23.0], [37.57879, -110.0019, -23.0], [37.57879, -110.0019, -23.0], [37.57879, -110.0019, -23.0], [37.57879, -110.0019, -23.0], [37.57879, -110.0019, -23.0], [37.57879, -110.0019, -23.0], [37.57879, -110.0019, -23.0], [37.57879, -110.0019, -23.0], [37.57879, -110.0019, -23.0], [37.57879, -110.0019, -23.0], [37.57879, -110.0019, -23.0], [37.57879, -110.0019, -23.0], [37.57879, -110.0019, -23.0], [37.57879, -110.0019, -23.0], [37.57879, -110.0019, -23.0], [37.57879, -110.0019, -23.0], [37.57879, -110.0019, -23.0], [37.57879, -110.0019, -23.0], [37.57879, -110.0019, -23.0], [37.57879, -110.0019, -23.0], [37.57879, -110.0019, -23.0], [37.57879, -110.0019, -23.0], [37.57879, -110.0019, -23.0], [37.57879, -110.0019, -23.0], [37.57879, -110.0019, -23.0], [37.57879, -110.0019, -23.0], [37.57879, -110.0019, -23.0], [37.57879, -110.0019, -23.0], [37.57879, -110.0019, -23.0], [37.57879, -110.0019, -23.0], [37.57879, -110.0019, -23.0], [37.59146, -110.0016, 16.0], [37.59146, -110.0016, 16.0], [37.59146, -110.0016, 16.0], [37.59146, -110.0016, 16.0], [37.59146, -110.0016, 16.0], [37.59146, -110.0016, 16.0], [37.59146, -110.0016, 16.0], [37.59146, -110.0016, 16.0], [37.59146, -110.0016, 16.0], [37.59146, -110.0016, 16.0], [37.59146, -110.0016, 16.0], [37.59146, -110.0016, 16.0], [37.59146, -110.0016, 16.0], [37.59146, -110.0016, 16.0], [37.59146, -110.0016, 16.0], [37.59146, -110.0016, 16.0], [37.59146, -110.0016, 16.0], [37.59146, -110.0016, 16.0], [37.59146, -110.0016, 16.0], [37.59146, -110.0016, 16.0], [37.59146, -110.0016, 16.0], [37.59146, -110.0016, 16.0], [37.59146, -110.0016, 16.0], [37.59146, -110.0016, 16.0], [37.59146, -110.0016, 16.0], [37.59146, -110.0016, 16.0], [37.59146, -110.0016, 16.0], [37.59146, -110.0016, 16.0], [37.59146, -110.0016, 16.0], [37.59146, -110.0016, 16.0], [37.59146, -110.0016, 16.0], [37.59146, -110.0016, 16.0], [37.59146, -110.0016, 16.0], [37.59146, -110.0016, 16.0], [37.59146, -110.0016, 16.0], [37.59146, -110.0016, 16.0], [37.59146, -110.0016, 16.0], [37.59146, -110.0016, 16.0], [37.59146, -110.0016, 16.0], [37.59146, -110.0016, 16.0], [37.59146, -110.0016, 16.0], [37.59146, -110.0016, 16.0], [37.59146, -110.0016, 16.0], [37.61654, -110.0016, 25.0], [37.61654, -110.0016, 25.0], [37.61654, -110.0016, 25.0], [37.61654, -110.0016, 25.0], [37.61654, -110.0016, 25.0], [37.61654, -110.0016, 25.0], [37.61654, -110.0016, 25.0], [37.61654, -110.0016, 25.0], [37.61654, -110.0016, 25.0], [37.61654, -110.0016, 25.0], [37.61654, -110.0016, 25.0], [37.61654, -110.0016, 25.0], [37.61654, -110.0016, 25.0], [37.61654, -110.0016, 25.0], [37.61654, -110.0016, 25.0], [37.61654, -110.0016, 25.0], [37.61654, -110.0016, 25.0], [37.61654, -110.0016, 25.0], [37.61654, -110.0016, 25.0], [37.61654, -110.0016, 25.0], [37.61654, -110.0016, 25.0], [37.61654, -110.0016, 25.0], [37.61654, -110.0016, 25.0], [37.61654, -110.0016, 25.0], [37.61654, -110.0016, 25.0], [37.61654, -110.0016, 25.0], [37.61654, -110.0016, 25.0], [37.61654, -110.0016, 25.0], [37.61654, -110.0016, 25.0], [37.61654, -110.0016, 25.0], [37.61654, -110.0016, 25.0], [37.61654, -110.0016, 25.0], [37.61654, -110.0016, 25.0], [37.61654, -110.0016, 25.0], [37.61654, -110.0016, 25.0], [37.61654, -110.0016, 25.0], [37.61654, -110.0016, 25.0], [37.61654, -110.0016, 25.0], [37.61654, -110.0016, 25.0], [37.61654, -110.0016, 25.0], [37.61654, -110.0016, 25.0], [37.61654, -110.0016, 25.0], [37.61654, -110.0016, 25.0], [37.61733, -110.0012, 25.0], [37.61733, -110.0012, 25.0], [37.61733, -110.0012, 25.0], [37.61733, -110.0012, 25.0], [37.61733, -110.0012, 25.0], [37.61733, -110.0012, 25.0], [37.61733, -110.0012, 25.0], [37.61733, -110.0012, 25.0], [37.61733, -110.0012, 25.0], [37.61733, -110.0012, 25.0], [37.61733, -110.0012, 25.0], [37.61733, -110.0012, 25.0], [37.61733, -110.0012, 25.0], [37.61733, -110.0012, 25.0], [37.61733, -110.0012, 25.0], [37.61733, -110.0012, 25.0], [37.61733, -110.0012, 25.0], [37.61733, -110.0012, 25.0], [37.61733, -110.0012, 25.0], [37.61733, -110.0012, 25.0], [37.61733, -110.0012, 25.0], [37.61733, -110.0012, 25.0], [37.61733, -110.0012, 25.0], [37.61733, -110.0012, 25.0], [37.61733, -110.0012, 25.0], [37.61733, -110.0012, 25.0], [37.61733, -110.0012, 25.0], [37.61733, -110.0012, 25.0], [37.61733, -110.0012, 25.0], [37.61733, -110.0012, 25.0], [37.61733, -110.0012, 25.0], [37.61733, -110.0012, 25.0], [37.61733, -110.0012, 25.0], [37.61733, -110.0012, 25.0], [37.61733, -110.0012, 25.0], [37.61733, -110.0012, 25.0], [37.61733, -110.0012, 25.0], [37.61733, -110.0012, 25.0], [37.61733, -110.0012, 25.0], [37.61733, -110.0012, 25.0], [37.61733, -110.0012, 25.0], [37.61733, -110.0012, 25.0], [37.61733, -110.0012, 25.0], [37.61892, -110.0005, -12.0], [37.61892, -110.0005, -12.0], [37.61892, -110.0005, -12.0], [37.61892, -110.0005, -12.0], [37.61892, -110.0005, -12.0], [37.61892, -110.0005, -12.0], [37.61892, -110.0005, -12.0], [37.61892, -110.0005, -12.0], [37.61892, -110.0005, -12.0], [37.61892, -110.0005, -12.0], [37.61892, -110.0005, -12.0], [37.61892, -110.0005, -12.0], [37.61892, -110.0005, -12.0], [37.61892, -110.0005, -12.0], [37.61892, -110.0005, -12.0], [37.61892, -110.0005, -12.0], [37.61892, -110.0005, -12.0], [37.61892, -110.0005, -12.0], [37.61892, -110.0005, -12.0], [37.61892, -110.0005, -12.0], [37.61892, -110.0005, -12.0], [37.61892, -110.0005, -12.0], [37.61892, -110.0005, -12.0], [37.61892, -110.0005, -12.0], [37.61892, -110.0005, -12.0], [37.61892, -110.0005, -12.0], [37.61892, -110.0005, -12.0], [37.61892, -110.0005, -12.0], [37.61892, -110.0005, -12.0], [37.61892, -110.0005, -12.0], [37.61892, -110.0005, -12.0], [37.61892, -110.0005, -12.0], [37.61892, -110.0005, -12.0], [37.61892, -110.0005, -12.0], [37.61892, -110.0005, -12.0], [37.61892, -110.0005, -12.0], [37.61892, -110.0005, -12.0], [37.61892, -110.0005, -12.0], [37.61892, -110.0005, -12.0], [37.61892, -110.0005, -12.0], [37.61892, -110.0005, -12.0], [37.61892, -110.0005, -12.0], [37.61892, -110.0005, -12.0], [37.58565, -109.9998, -32.0], [37.58565, -109.9998, -32.0], [37.58565, -109.9998, -32.0], [37.58565, -109.9998, -32.0], [37.58565, -109.9998, -32.0], [37.58565, -109.9998, -32.0], [37.58565, -109.9998, -32.0], [37.58565, -109.9998, -32.0], [37.58565, -109.9998, -32.0], [37.58565, -109.9998, -32.0], [37.58565, -109.9998, -32.0], [37.58565, -109.9998, -32.0], [37.58565, -109.9998, -32.0], [37.58565, -109.9998, -32.0], [37.58565, -109.9998, -32.0], [37.58565, -109.9998, -32.0], [37.58565, -109.9998, -32.0], [37.58565, -109.9998, -32.0], [37.58565, -109.9998, -32.0], [37.58565, -109.9998, -32.0], [37.58565, -109.9998, -32.0], [37.58565, -109.9998, -32.0], [37.58565, -109.9998, -32.0], [37.58565, -109.9998, -32.0], [37.58565, -109.9998, -32.0], [37.58565, -109.9998, -32.0], [37.58565, -109.9998, -32.0], [37.58565, -109.9998, -32.0], [37.58565, -109.9998, -32.0], [37.58565, -109.9998, -32.0], [37.58565, -109.9998, -32.0], [37.58565, -109.9998, -32.0], [37.58565, -109.9998, -32.0], [37.58565, -109.9998, -32.0], [37.58565, -109.9998, -32.0], [37.58565, -109.9998, -32.0], [37.58565, -109.9998, -32.0], [37.58565, -109.9998, -32.0], [37.58565, -109.9998, -32.0], [37.58565, -109.9998, -32.0], [37.58565, -109.9998, -32.0], [37.58565, -109.9998, -32.0], [37.58565, -109.9998, -32.0], [37.62393, -109.9988, -63.0], [37.62393, -109.9988, -63.0], [37.62393, -109.9988, -63.0], [37.62393, -109.9988, -63.0], [37.62393, -109.9988, -63.0], [37.62393, -109.9988, -63.0], [37.62393, -109.9988, -63.0], [37.62393, -109.9988, -63.0], [37.62393, -109.9988, -63.0], [37.62393, -109.9988, -63.0], [37.62393, -109.9988, -63.0], [37.62393, -109.9988, -63.0], [37.62393, -109.9988, -63.0], [37.62393, -109.9988, -63.0], [37.62393, -109.9988, -63.0], [37.62393, -109.9988, -63.0], [37.62393, -109.9988, -63.0], [37.62393, -109.9988, -63.0], [37.62393, -109.9988, -63.0], [37.62393, -109.9988, -63.0], [37.62393, -109.9988, -63.0], [37.62393, -109.9988, -63.0], [37.62393, -109.9988, -63.0], [37.62393, -109.9988, -63.0], [37.62393, -109.9988, -63.0], [37.62393, -109.9988, -63.0], [37.62393, -109.9988, -63.0], [37.62393, -109.9988, -63.0], [37.62393, -109.9988, -63.0], [37.62393, -109.9988, -63.0], [37.62393, -109.9988, -63.0], [37.62393, -109.9988, -63.0], [37.62393, -109.9988, -63.0], [37.62393, -109.9988, -63.0], [37.62393, -109.9988, -63.0], [37.62393, -109.9988, -63.0], [37.62393, -109.9988, -63.0], [37.62393, -109.9988, -63.0], [37.62393, -109.9988, -63.0], [37.62393, -109.9988, -63.0], [37.62393, -109.9988, -63.0], [37.62393, -109.9988, -63.0], [37.62393, -109.9988, -63.0], [37.58988, -109.9978, -62.0], [37.58988, -109.9978, -62.0], [37.58988, -109.9978, -62.0], [37.58988, -109.9978, -62.0], [37.58988, -109.9978, -62.0], [37.58988, -109.9978, -62.0], [37.58988, -109.9978, -62.0], [37.58988, -109.9978, -62.0], [37.58988, -109.9978, -62.0], [37.58988, -109.9978, -62.0], [37.58988, -109.9978, -62.0], [37.58988, -109.9978, -62.0], [37.58988, -109.9978, -62.0], [37.58988, -109.9978, -62.0], [37.58988, -109.9978, -62.0], [37.58988, -109.9978, -62.0], [37.58988, -109.9978, -62.0], [37.58988, -109.9978, -62.0], [37.58988, -109.9978, -62.0], [37.58988, -109.9978, -62.0], [37.58988, -109.9978, -62.0], [37.58988, -109.9978, -62.0], [37.58988, -109.9978, -62.0], [37.58988, -109.9978, -62.0], [37.58988, -109.9978, -62.0], [37.58988, -109.9978, -62.0], [37.58988, -109.9978, -62.0], [37.58988, -109.9978, -62.0], [37.58988, -109.9978, -62.0], [37.58988, -109.9978, -62.0], [37.58988, -109.9978, -62.0], [37.58988, -109.9978, -62.0], [37.58988, -109.9978, -62.0], [37.58988, -109.9978, -62.0], [37.58988, -109.9978, -62.0], [37.58988, -109.9978, -62.0], [37.58988, -109.9978, -62.0], [37.58988, -109.9978, -62.0], [37.58988, -109.9978, -62.0], [37.58988, -109.9978, -62.0], [37.58988, -109.9978, -62.0], [37.58988, -109.9978, -62.0], [37.58988, -109.9978, -62.0], [37.6044, -109.9974, -12.0], [37.6044, -109.9974, -12.0], [37.6044, -109.9974, -12.0], [37.6044, -109.9974, -12.0], [37.6044, -109.9974, -12.0], [37.6044, -109.9974, -12.0], [37.6044, -109.9974, -12.0], [37.6044, -109.9974, -12.0], [37.6044, -109.9974, -12.0], [37.6044, -109.9974, -12.0], [37.6044, -109.9974, -12.0], [37.6044, -109.9974, -12.0], [37.6044, -109.9974, -12.0], [37.6044, -109.9974, -12.0], [37.6044, -109.9974, -12.0], [37.6044, -109.9974, -12.0], [37.6044, -109.9974, -12.0], [37.6044, -109.9974, -12.0], [37.6044, -109.9974, -12.0], [37.6044, -109.9974, -12.0], [37.6044, -109.9974, -12.0], [37.6044, -109.9974, -12.0], [37.6044, -109.9974, -12.0], [37.6044, -109.9974, -12.0], [37.6044, -109.9974, -12.0], [37.6044, -109.9974, -12.0], [37.6044, -109.9974, -12.0], [37.6044, -109.9974, -12.0], [37.6044, -109.9974, -12.0], [37.6044, -109.9974, -12.0], [37.6044, -109.9974, -12.0], [37.6044, -109.9974, -12.0], [37.6044, -109.9974, -12.0], [37.6044, -109.9974, -12.0], [37.6044, -109.9974, -12.0], [37.6044, -109.9974, -12.0], [37.6044, -109.9974, -12.0], [37.6044, -109.9974, -12.0], [37.6044, -109.9974, -12.0], [37.6044, -109.9974, -12.0], [37.6044, -109.9974, -12.0], [37.6044, -109.9974, -12.0], [37.6044, -109.9974, -12.0], [37.61997, -109.9971, 54.0], [37.61997, -109.9971, 54.0], [37.61997, -109.9971, 54.0], [37.61997, -109.9971, 54.0], [37.61997, -109.9971, 54.0], [37.61997, -109.9971, 54.0], [37.61997, -109.9971, 54.0], [37.61997, -109.9971, 54.0], [37.61997, -109.9971, 54.0], [37.61997, -109.9971, 54.0], [37.61997, -109.9971, 54.0], [37.61997, -109.9971, 54.0], [37.61997, -109.9971, 54.0], [37.61997, -109.9971, 54.0], [37.61997, -109.9971, 54.0], [37.61997, -109.9971, 54.0], [37.61997, -109.9971, 54.0], [37.61997, -109.9971, 54.0], [37.61997, -109.9971, 54.0], [37.61997, -109.9971, 54.0], [37.61997, -109.9971, 54.0], [37.61997, -109.9971, 54.0], [37.61997, -109.9971, 54.0], [37.61997, -109.9971, 54.0], [37.61997, -109.9971, 54.0], [37.61997, -109.9971, 54.0], [37.61997, -109.9971, 54.0], [37.61997, -109.9971, 54.0], [37.61997, -109.9971, 54.0], [37.61997, -109.9971, 54.0], [37.61997, -109.9971, 54.0], [37.61997, -109.9971, 54.0], [37.61997, -109.9971, 54.0], [37.61997, -109.9971, 54.0], [37.61997, -109.9971, 54.0], [37.61997, -109.9971, 54.0], [37.61997, -109.9971, 54.0], [37.61997, -109.9971, 54.0], [37.61997, -109.9971, 54.0], [37.61997, -109.9971, 54.0], [37.61997, -109.9971, 54.0], [37.61997, -109.9971, 54.0], [37.61997, -109.9971, 54.0], [37.59727, -109.995, -13.0], [37.59727, -109.995, -13.0], [37.59727, -109.995, -13.0], [37.59727, -109.995, -13.0], [37.59727, -109.995, -13.0], [37.59727, -109.995, -13.0], [37.59727, -109.995, -13.0], [37.59727, -109.995, -13.0], [37.59727, -109.995, -13.0], [37.59727, -109.995, -13.0], [37.59727, -109.995, -13.0], [37.59727, -109.995, -13.0], [37.59727, -109.995, -13.0], [37.59727, -109.995, -13.0], [37.59727, -109.995, -13.0], [37.59727, -109.995, -13.0], [37.59727, -109.995, -13.0], [37.59727, -109.995, -13.0], [37.59727, -109.995, -13.0], [37.59727, -109.995, -13.0], [37.59727, -109.995, -13.0], [37.59727, -109.995, -13.0], [37.59727, -109.995, -13.0], [37.59727, -109.995, -13.0], [37.59727, -109.995, -13.0], [37.59727, -109.995, -13.0], [37.59727, -109.995, -13.0], [37.59727, -109.995, -13.0], [37.59727, -109.995, -13.0], [37.59727, -109.995, -13.0], [37.59727, -109.995, -13.0], [37.59727, -109.995, -13.0], [37.59727, -109.995, -13.0], [37.59727, -109.995, -13.0], [37.59727, -109.995, -13.0], [37.59727, -109.995, -13.0], [37.59727, -109.995, -13.0], [37.59727, -109.995, -13.0], [37.59727, -109.995, -13.0], [37.59727, -109.995, -13.0], [37.59727, -109.995, -13.0], [37.59727, -109.995, -13.0], [37.59727, -109.995, -13.0], [37.62499, -109.994, -87.0], [37.62499, -109.994, -87.0], [37.62499, -109.994, -87.0], [37.62499, -109.994, -87.0], [37.62499, -109.994, -87.0], [37.62499, -109.994, -87.0], [37.62499, -109.994, -87.0], [37.62499, -109.994, -87.0], [37.62499, -109.994, -87.0], [37.62499, -109.994, -87.0], [37.62499, -109.994, -87.0], [37.62499, -109.994, -87.0], [37.62499, -109.994, -87.0], [37.62499, -109.994, -87.0], [37.62499, -109.994, -87.0], [37.62499, -109.994, -87.0], [37.62499, -109.994, -87.0], [37.62499, -109.994, -87.0], [37.62499, -109.994, -87.0], [37.62499, -109.994, -87.0], [37.62499, -109.994, -87.0], [37.62499, -109.994, -87.0], [37.62499, -109.994, -87.0], [37.62499, -109.994, -87.0], [37.62499, -109.994, -87.0], [37.62499, -109.994, -87.0], [37.62499, -109.994, -87.0], [37.62499, -109.994, -87.0], [37.62499, -109.994, -87.0], [37.62499, -109.994, -87.0], [37.62499, -109.994, -87.0], [37.62499, -109.994, -87.0], [37.62499, -109.994, -87.0], [37.62499, -109.994, -87.0], [37.62499, -109.994, -87.0], [37.62499, -109.994, -87.0], [37.62499, -109.994, -87.0], [37.62499, -109.994, -87.0], [37.62499, -109.994, -87.0], [37.62499, -109.994, -87.0], [37.62499, -109.994, -87.0], [37.62499, -109.994, -87.0], [37.62499, -109.994, -87.0], [37.6102, -109.9933, 3.0], [37.6102, -109.9933, 3.0], [37.6102, -109.9933, 3.0], [37.6102, -109.9933, 3.0], [37.6102, -109.9933, 3.0], [37.6102, -109.9933, 3.0], [37.6102, -109.9933, 3.0], [37.6102, -109.9933, 3.0], [37.6102, -109.9933, 3.0], [37.6102, -109.9933, 3.0], [37.6102, -109.9933, 3.0], [37.6102, -109.9933, 3.0], [37.6102, -109.9933, 3.0], [37.6102, -109.9933, 3.0], [37.6102, -109.9933, 3.0], [37.6102, -109.9933, 3.0], [37.6102, -109.9933, 3.0], [37.6102, -109.9933, 3.0], [37.6102, -109.9933, 3.0], [37.6102, -109.9933, 3.0], [37.6102, -109.9933, 3.0], [37.6102, -109.9933, 3.0], [37.6102, -109.9933, 3.0], [37.6102, -109.9933, 3.0], [37.6102, -109.9933, 3.0], [37.6102, -109.9933, 3.0], [37.6102, -109.9933, 3.0], [37.6102, -109.9933, 3.0], [37.6102, -109.9933, 3.0], [37.6102, -109.9933, 3.0], [37.6102, -109.9933, 3.0], [37.6102, -109.9933, 3.0], [37.6102, -109.9933, 3.0], [37.6102, -109.9933, 3.0], [37.6102, -109.9933, 3.0], [37.6102, -109.9933, 3.0], [37.6102, -109.9933, 3.0], [37.6102, -109.9933, 3.0], [37.6102, -109.9933, 3.0], [37.6102, -109.9933, 3.0], [37.6102, -109.9933, 3.0], [37.6102, -109.9933, 3.0], [37.6102, -109.9933, 3.0], [37.5941, -109.993, -52.0], [37.5941, -109.993, -52.0], [37.5941, -109.993, -52.0], [37.5941, -109.993, -52.0], [37.5941, -109.993, -52.0], [37.5941, -109.993, -52.0], [37.5941, -109.993, -52.0], [37.5941, -109.993, -52.0], [37.5941, -109.993, -52.0], [37.5941, -109.993, -52.0], [37.5941, -109.993, -52.0], [37.5941, -109.993, -52.0], [37.5941, -109.993, -52.0], [37.5941, -109.993, -52.0], [37.5941, -109.993, -52.0], [37.5941, -109.993, -52.0], [37.5941, -109.993, -52.0], [37.5941, -109.993, -52.0], [37.5941, -109.993, -52.0], [37.5941, -109.993, -52.0], [37.5941, -109.993, -52.0], [37.5941, -109.993, -52.0], [37.5941, -109.993, -52.0], [37.5941, -109.993, -52.0], [37.5941, -109.993, -52.0], [37.5941, -109.993, -52.0], [37.5941, -109.993, -52.0], [37.5941, -109.993, -52.0], [37.5941, -109.993, -52.0], [37.5941, -109.993, -52.0], [37.5941, -109.993, -52.0], [37.5941, -109.993, -52.0], [37.5941, -109.993, -52.0], [37.5941, -109.993, -52.0], [37.5941, -109.993, -52.0], [37.5941, -109.993, -52.0], [37.5941, -109.993, -52.0], [37.5941, -109.993, -52.0], [37.5941, -109.993, -52.0], [37.5941, -109.993, -52.0], [37.5941, -109.993, -52.0], [37.5941, -109.993, -52.0], [37.5941, -109.993, -52.0], [37.61865, -109.993, 38.0], [37.61865, -109.993, 38.0], [37.61865, -109.993, 38.0], [37.61865, -109.993, 38.0], [37.61865, -109.993, 38.0], [37.61865, -109.993, 38.0], [37.61865, -109.993, 38.0], [37.61865, -109.993, 38.0], [37.61865, -109.993, 38.0], [37.61865, -109.993, 38.0], [37.61865, -109.993, 38.0], [37.61865, -109.993, 38.0], [37.61865, -109.993, 38.0], [37.61865, -109.993, 38.0], [37.61865, -109.993, 38.0], [37.61865, -109.993, 38.0], [37.61865, -109.993, 38.0], [37.61865, -109.993, 38.0], [37.61865, -109.993, 38.0], [37.61865, -109.993, 38.0], [37.61865, -109.993, 38.0], [37.61865, -109.993, 38.0], [37.61865, -109.993, 38.0], [37.61865, -109.993, 38.0], [37.61865, -109.993, 38.0], [37.61865, -109.993, 38.0], [37.61865, -109.993, 38.0], [37.61865, -109.993, 38.0], [37.61865, -109.993, 38.0], [37.61865, -109.993, 38.0], [37.61865, -109.993, 38.0], [37.61865, -109.993, 38.0], [37.61865, -109.993, 38.0], [37.61865, -109.993, 38.0], [37.61865, -109.993, 38.0], [37.61865, -109.993, 38.0], [37.61865, -109.993, 38.0], [37.61865, -109.993, 38.0], [37.61865, -109.993, 38.0], [37.61865, -109.993, 38.0], [37.61865, -109.993, 38.0], [37.61865, -109.993, 38.0], [37.61865, -109.993, 38.0], [37.62684, -109.9926, -54.0], [37.62684, -109.9926, -54.0], [37.62684, -109.9926, -54.0], [37.62684, -109.9926, -54.0], [37.62684, -109.9926, -54.0], [37.62684, -109.9926, -54.0], [37.62684, -109.9926, -54.0], [37.62684, -109.9926, -54.0], [37.62684, -109.9926, -54.0], [37.62684, -109.9926, -54.0], [37.62684, -109.9926, -54.0], [37.62684, -109.9926, -54.0], [37.62684, -109.9926, -54.0], [37.62684, -109.9926, -54.0], [37.62684, -109.9926, -54.0], [37.62684, -109.9926, -54.0], [37.62684, -109.9926, -54.0], [37.62684, -109.9926, -54.0], [37.62684, -109.9926, -54.0], [37.62684, -109.9926, -54.0], [37.62684, -109.9926, -54.0], [37.62684, -109.9926, -54.0], [37.62684, -109.9926, -54.0], [37.62684, -109.9926, -54.0], [37.62684, -109.9926, -54.0], [37.62684, -109.9926, -54.0], [37.62684, -109.9926, -54.0], [37.62684, -109.9926, -54.0], [37.62684, -109.9926, -54.0], [37.62684, -109.9926, -54.0], [37.62684, -109.9926, -54.0], [37.62684, -109.9926, -54.0], [37.62684, -109.9926, -54.0], [37.62684, -109.9926, -54.0], [37.62684, -109.9926, -54.0], [37.62684, -109.9926, -54.0], [37.62684, -109.9926, -54.0], [37.62684, -109.9926, -54.0], [37.62684, -109.9926, -54.0], [37.62684, -109.9926, -54.0], [37.62684, -109.9926, -54.0], [37.62684, -109.9926, -54.0], [37.62684, -109.9926, -54.0], [37.63212, -109.9916, -61.0], [37.63212, -109.9916, -61.0], [37.63212, -109.9916, -61.0], [37.63212, -109.9916, -61.0], [37.63212, -109.9916, -61.0], [37.63212, -109.9916, -61.0], [37.63212, -109.9916, -61.0], [37.63212, -109.9916, -61.0], [37.63212, -109.9916, -61.0], [37.63212, -109.9916, -61.0], [37.63212, -109.9916, -61.0], [37.63212, -109.9916, -61.0], [37.63212, -109.9916, -61.0], [37.63212, -109.9916, -61.0], [37.63212, -109.9916, -61.0], [37.63212, -109.9916, -61.0], [37.63212, -109.9916, -61.0], [37.63212, -109.9916, -61.0], [37.63212, -109.9916, -61.0], [37.63212, -109.9916, -61.0], [37.63212, -109.9916, -61.0], [37.63212, -109.9916, -61.0], [37.63212, -109.9916, -61.0], [37.63212, -109.9916, -61.0], [37.63212, -109.9916, -61.0], [37.63212, -109.9916, -61.0], [37.63212, -109.9916, -61.0], [37.63212, -109.9916, -61.0], [37.63212, -109.9916, -61.0], [37.63212, -109.9916, -61.0], [37.63212, -109.9916, -61.0], [37.63212, -109.9916, -61.0], [37.63212, -109.9916, -61.0], [37.63212, -109.9916, -61.0], [37.63212, -109.9916, -61.0], [37.63212, -109.9916, -61.0], [37.63212, -109.9916, -61.0], [37.63212, -109.9916, -61.0], [37.63212, -109.9916, -61.0], [37.63212, -109.9916, -61.0], [37.63212, -109.9916, -61.0], [37.63212, -109.9916, -61.0], [37.63212, -109.9916, -61.0], [37.62578, -109.9913, 20.0], [37.62578, -109.9913, 20.0], [37.62578, -109.9913, 20.0], [37.62578, -109.9913, 20.0], [37.62578, -109.9913, 20.0], [37.62578, -109.9913, 20.0], [37.62578, -109.9913, 20.0], [37.62578, -109.9913, 20.0], [37.62578, -109.9913, 20.0], [37.62578, -109.9913, 20.0], [37.62578, -109.9913, 20.0], [37.62578, -109.9913, 20.0], [37.62578, -109.9913, 20.0], [37.62578, -109.9913, 20.0], [37.62578, -109.9913, 20.0], [37.62578, -109.9913, 20.0], [37.62578, -109.9913, 20.0], [37.62578, -109.9913, 20.0], [37.62578, -109.9913, 20.0], [37.62578, -109.9913, 20.0], [37.62578, -109.9913, 20.0], [37.62578, -109.9913, 20.0], [37.62578, -109.9913, 20.0], [37.62578, -109.9913, 20.0], [37.62578, -109.9913, 20.0], [37.62578, -109.9913, 20.0], [37.62578, -109.9913, 20.0], [37.62578, -109.9913, 20.0], [37.62578, -109.9913, 20.0], [37.62578, -109.9913, 20.0], [37.62578, -109.9913, 20.0], [37.62578, -109.9913, 20.0], [37.62578, -109.9913, 20.0], [37.62578, -109.9913, 20.0], [37.62578, -109.9913, 20.0], [37.62578, -109.9913, 20.0], [37.62578, -109.9913, 20.0], [37.62578, -109.9913, 20.0], [37.62578, -109.9913, 20.0], [37.62578, -109.9913, 20.0], [37.62578, -109.9913, 20.0], [37.62578, -109.9913, 20.0], [37.62578, -109.9913, 20.0], [37.59278, -109.9909, -7.0], [37.59278, -109.9909, -7.0], [37.59278, -109.9909, -7.0], [37.59278, -109.9909, -7.0], [37.59278, -109.9909, -7.0], [37.59278, -109.9909, -7.0], [37.59278, -109.9909, -7.0], [37.59278, -109.9909, -7.0], [37.59278, -109.9909, -7.0], [37.59278, -109.9909, -7.0], [37.59278, -109.9909, -7.0], [37.59278, -109.9909, -7.0], [37.59278, -109.9909, -7.0], [37.59278, -109.9909, -7.0], [37.59278, -109.9909, -7.0], [37.59278, -109.9909, -7.0], [37.59278, -109.9909, -7.0], [37.59278, -109.9909, -7.0], [37.59278, -109.9909, -7.0], [37.59278, -109.9909, -7.0], [37.59278, -109.9909, -7.0], [37.59278, -109.9909, -7.0], [37.59278, -109.9909, -7.0], [37.59278, -109.9909, -7.0], [37.59278, -109.9909, -7.0], [37.59278, -109.9909, -7.0], [37.59278, -109.9909, -7.0], [37.59278, -109.9909, -7.0], [37.59278, -109.9909, -7.0], [37.59278, -109.9909, -7.0], [37.59278, -109.9909, -7.0], [37.59278, -109.9909, -7.0], [37.59278, -109.9909, -7.0], [37.59278, -109.9909, -7.0], [37.59278, -109.9909, -7.0], [37.59278, -109.9909, -7.0], [37.59278, -109.9909, -7.0], [37.59278, -109.9909, -7.0], [37.59278, -109.9909, -7.0], [37.59278, -109.9909, -7.0], [37.59278, -109.9909, -7.0], [37.59278, -109.9909, -7.0], [37.59278, -109.9909, -7.0], [37.62736, -109.9882, 63.0], [37.62736, -109.9882, 63.0], [37.62736, -109.9882, 63.0], [37.62736, -109.9882, 63.0], [37.62736, -109.9882, 63.0], [37.62736, -109.9882, 63.0], [37.62736, -109.9882, 63.0], [37.62736, -109.9882, 63.0], [37.62736, -109.9882, 63.0], [37.62736, -109.9882, 63.0], [37.62736, -109.9882, 63.0], [37.62736, -109.9882, 63.0], [37.62736, -109.9882, 63.0], [37.62736, -109.9882, 63.0], [37.62736, -109.9882, 63.0], [37.62736, -109.9882, 63.0], [37.62736, -109.9882, 63.0], [37.62736, -109.9882, 63.0], [37.62736, -109.9882, 63.0], [37.62736, -109.9882, 63.0], [37.62736, -109.9882, 63.0], [37.62736, -109.9882, 63.0], [37.62736, -109.9882, 63.0], [37.62736, -109.9882, 63.0], [37.62736, -109.9882, 63.0], [37.62736, -109.9882, 63.0], [37.62736, -109.9882, 63.0], [37.62736, -109.9882, 63.0], [37.62736, -109.9882, 63.0], [37.62736, -109.9882, 63.0], [37.62736, -109.9882, 63.0], [37.62736, -109.9882, 63.0], [37.62736, -109.9882, 63.0], [37.62736, -109.9882, 63.0], [37.62736, -109.9882, 63.0], [37.62736, -109.9882, 63.0], [37.62736, -109.9882, 63.0], [37.62736, -109.9882, 63.0], [37.62736, -109.9882, 63.0], [37.62736, -109.9882, 63.0], [37.62736, -109.9882, 63.0], [37.62736, -109.9882, 63.0], [37.62736, -109.9882, 63.0], [37.62235, -109.9878, 19.0], [37.62235, -109.9878, 19.0], [37.62235, -109.9878, 19.0], [37.62235, -109.9878, 19.0], [37.62235, -109.9878, 19.0], [37.62235, -109.9878, 19.0], [37.62235, -109.9878, 19.0], [37.62235, -109.9878, 19.0], [37.62235, -109.9878, 19.0], [37.62235, -109.9878, 19.0], [37.62235, -109.9878, 19.0], [37.62235, -109.9878, 19.0], [37.62235, -109.9878, 19.0], [37.62235, -109.9878, 19.0], [37.62235, -109.9878, 19.0], [37.62235, -109.9878, 19.0], [37.62235, -109.9878, 19.0], [37.62235, -109.9878, 19.0], [37.62235, -109.9878, 19.0], [37.62235, -109.9878, 19.0], [37.62235, -109.9878, 19.0], [37.62235, -109.9878, 19.0], [37.62235, -109.9878, 19.0], [37.62235, -109.9878, 19.0], [37.62235, -109.9878, 19.0], [37.62235, -109.9878, 19.0], [37.62235, -109.9878, 19.0], [37.62235, -109.9878, 19.0], [37.62235, -109.9878, 19.0], [37.62235, -109.9878, 19.0], [37.62235, -109.9878, 19.0], [37.62235, -109.9878, 19.0], [37.62235, -109.9878, 19.0], [37.62235, -109.9878, 19.0], [37.62235, -109.9878, 19.0], [37.62235, -109.9878, 19.0], [37.62235, -109.9878, 19.0], [37.62235, -109.9878, 19.0], [37.62235, -109.9878, 19.0], [37.62235, -109.9878, 19.0], [37.62235, -109.9878, 19.0], [37.62235, -109.9878, 19.0], [37.62235, -109.9878, 19.0], [37.62156, -109.9858, 9.0], [37.62156, -109.9858, 9.0], [37.62156, -109.9858, 9.0], [37.62156, -109.9858, 9.0], [37.62156, -109.9858, 9.0], [37.62156, -109.9858, 9.0], [37.62156, -109.9858, 9.0], [37.62156, -109.9858, 9.0], [37.62156, -109.9858, 9.0], [37.62156, -109.9858, 9.0], [37.62156, -109.9858, 9.0], [37.62156, -109.9858, 9.0], [37.62156, -109.9858, 9.0], [37.62156, -109.9858, 9.0], [37.62156, -109.9858, 9.0], [37.62156, -109.9858, 9.0], [37.62156, -109.9858, 9.0], [37.62156, -109.9858, 9.0], [37.62156, -109.9858, 9.0], [37.62156, -109.9858, 9.0], [37.62156, -109.9858, 9.0], [37.62156, -109.9858, 9.0], [37.62156, -109.9858, 9.0], [37.62156, -109.9858, 9.0], [37.62156, -109.9858, 9.0], [37.62156, -109.9858, 9.0], [37.62156, -109.9858, 9.0], [37.62156, -109.9858, 9.0], [37.62156, -109.9858, 9.0], [37.62156, -109.9858, 9.0], [37.62156, -109.9858, 9.0], [37.62156, -109.9858, 9.0], [37.62156, -109.9858, 9.0], [37.62156, -109.9858, 9.0], [37.62156, -109.9858, 9.0], [37.62156, -109.9858, 9.0], [37.62156, -109.9858, 9.0], [37.62156, -109.9858, 9.0], [37.62156, -109.9858, 9.0], [37.62156, -109.9858, 9.0], [37.62156, -109.9858, 9.0], [37.62156, -109.9858, 9.0], [37.62156, -109.9858, 9.0], [37.62763, -109.9837, -4.0], [37.62763, -109.9837, -4.0], [37.62763, -109.9837, -4.0], [37.62763, -109.9837, -4.0], [37.62763, -109.9837, -4.0], [37.62763, -109.9837, -4.0], [37.62763, -109.9837, -4.0], [37.62763, -109.9837, -4.0], [37.62763, -109.9837, -4.0], [37.62763, -109.9837, -4.0], [37.62763, -109.9837, -4.0], [37.62763, -109.9837, -4.0], [37.62763, -109.9837, -4.0], [37.62763, -109.9837, -4.0], [37.62763, -109.9837, -4.0], [37.62763, -109.9837, -4.0], [37.62763, -109.9837, -4.0], [37.62763, -109.9837, -4.0], [37.62763, -109.9837, -4.0], [37.62763, -109.9837, -4.0], [37.62763, -109.9837, -4.0], [37.62763, -109.9837, -4.0], [37.62763, -109.9837, -4.0], [37.62763, -109.9837, -4.0], [37.62763, -109.9837, -4.0], [37.62763, -109.9837, -4.0], [37.62763, -109.9837, -4.0], [37.62763, -109.9837, -4.0], [37.62763, -109.9837, -4.0], [37.62763, -109.9837, -4.0], [37.62763, -109.9837, -4.0], [37.62763, -109.9837, -4.0], [37.62763, -109.9837, -4.0], [37.62763, -109.9837, -4.0], [37.62763, -109.9837, -4.0], [37.62763, -109.9837, -4.0], [37.62763, -109.9837, -4.0], [37.62763, -109.9837, -4.0], [37.62763, -109.9837, -4.0], [37.62763, -109.9837, -4.0], [37.62763, -109.9837, -4.0], [37.62763, -109.9837, -4.0], [37.62763, -109.9837, -4.0], [37.62974, -109.983, -51.0], [37.62974, -109.983, -51.0], [37.62974, -109.983, -51.0], [37.62974, -109.983, -51.0], [37.62974, -109.983, -51.0], [37.62974, -109.983, -51.0], [37.62974, -109.983, -51.0], [37.62974, -109.983, -51.0], [37.62974, -109.983, -51.0], [37.62974, -109.983, -51.0], [37.62974, -109.983, -51.0], [37.62974, -109.983, -51.0], [37.62974, -109.983, -51.0], [37.62974, -109.983, -51.0], [37.62974, -109.983, -51.0], [37.62974, -109.983, -51.0], [37.62974, -109.983, -51.0], [37.62974, -109.983, -51.0], [37.62974, -109.983, -51.0], [37.62974, -109.983, -51.0], [37.62974, -109.983, -51.0], [37.62974, -109.983, -51.0], [37.62974, -109.983, -51.0], [37.62974, -109.983, -51.0], [37.62974, -109.983, -51.0], [37.62974, -109.983, -51.0], [37.62974, -109.983, -51.0], [37.62974, -109.983, -51.0], [37.62974, -109.983, -51.0], [37.62974, -109.983, -51.0], [37.62974, -109.983, -51.0], [37.62974, -109.983, -51.0], [37.62974, -109.983, -51.0], [37.62974, -109.983, -51.0], [37.62974, -109.983, -51.0], [37.62974, -109.983, -51.0], [37.62974, -109.983, -51.0], [37.62974, -109.983, -51.0], [37.62974, -109.983, -51.0], [37.62974, -109.983, -51.0], [37.62974, -109.983, -51.0], [37.62974, -109.983, -51.0], [37.62974, -109.983, -51.0], [37.62816, -109.9823, 30.0], [37.62816, -109.9823, 30.0], [37.62816, -109.9823, 30.0], [37.62816, -109.9823, 30.0], [37.62816, -109.9823, 30.0], [37.62816, -109.9823, 30.0], [37.62816, -109.9823, 30.0], [37.62816, -109.9823, 30.0], [37.62816, -109.9823, 30.0], [37.62816, -109.9823, 30.0], [37.62816, -109.9823, 30.0], [37.62816, -109.9823, 30.0], [37.62816, -109.9823, 30.0], [37.62816, -109.9823, 30.0], [37.62816, -109.9823, 30.0], [37.62816, -109.9823, 30.0], [37.62816, -109.9823, 30.0], [37.62816, -109.9823, 30.0], [37.62816, -109.9823, 30.0], [37.62816, -109.9823, 30.0], [37.62816, -109.9823, 30.0], [37.62816, -109.9823, 30.0], [37.62816, -109.9823, 30.0], [37.62816, -109.9823, 30.0], [37.62816, -109.9823, 30.0], [37.62816, -109.9823, 30.0], [37.62816, -109.9823, 30.0], [37.62816, -109.9823, 30.0], [37.62816, -109.9823, 30.0], [37.62816, -109.9823, 30.0], [37.62816, -109.9823, 30.0], [37.62816, -109.9823, 30.0], [37.62816, -109.9823, 30.0], [37.62816, -109.9823, 30.0], [37.62816, -109.9823, 30.0], [37.62816, -109.9823, 30.0], [37.62816, -109.9823, 30.0], [37.62816, -109.9823, 30.0], [37.62816, -109.9823, 30.0], [37.62816, -109.9823, 30.0], [37.62816, -109.9823, 30.0], [37.62816, -109.9823, 30.0], [37.62816, -109.9823, 30.0], [37.6139, -109.9803, 1.0], [37.6139, -109.9803, 1.0], [37.6139, -109.9803, 1.0], [37.6139, -109.9803, 1.0], [37.6139, -109.9803, 1.0], [37.6139, -109.9803, 1.0], [37.6139, -109.9803, 1.0], [37.6139, -109.9803, 1.0], [37.6139, -109.9803, 1.0], [37.6139, -109.9803, 1.0], [37.6139, -109.9803, 1.0], [37.6139, -109.9803, 1.0], [37.6139, -109.9803, 1.0], [37.6139, -109.9803, 1.0], [37.6139, -109.9803, 1.0], [37.6139, -109.9803, 1.0], [37.6139, -109.9803, 1.0], [37.6139, -109.9803, 1.0], [37.6139, -109.9803, 1.0], [37.6139, -109.9803, 1.0], [37.6139, -109.9803, 1.0], [37.6139, -109.9803, 1.0], [37.6139, -109.9803, 1.0], [37.6139, -109.9803, 1.0], [37.6139, -109.9803, 1.0], [37.6139, -109.9803, 1.0], [37.6139, -109.9803, 1.0], [37.6139, -109.9803, 1.0], [37.6139, -109.9803, 1.0], [37.6139, -109.9803, 1.0], [37.6139, -109.9803, 1.0], [37.6139, -109.9803, 1.0], [37.6139, -109.9803, 1.0], [37.6139, -109.9803, 1.0], [37.6139, -109.9803, 1.0], [37.6139, -109.9803, 1.0], [37.6139, -109.9803, 1.0], [37.6139, -109.9803, 1.0], [37.6139, -109.9803, 1.0], [37.6139, -109.9803, 1.0], [37.6139, -109.9803, 1.0], [37.6139, -109.9803, 1.0], [37.6139, -109.9803, 1.0], [37.62868, -109.9799, 23.0], [37.62868, -109.9799, 23.0], [37.62868, -109.9799, 23.0], [37.62868, -109.9799, 23.0], [37.62868, -109.9799, 23.0], [37.62868, -109.9799, 23.0], [37.62868, -109.9799, 23.0], [37.62868, -109.9799, 23.0], [37.62868, -109.9799, 23.0], [37.62868, -109.9799, 23.0], [37.62868, -109.9799, 23.0], [37.62868, -109.9799, 23.0], [37.62868, -109.9799, 23.0], [37.62868, -109.9799, 23.0], [37.62868, -109.9799, 23.0], [37.62868, -109.9799, 23.0], [37.62868, -109.9799, 23.0], [37.62868, -109.9799, 23.0], [37.62868, -109.9799, 23.0], [37.62868, -109.9799, 23.0], [37.62868, -109.9799, 23.0], [37.62868, -109.9799, 23.0], [37.62868, -109.9799, 23.0], [37.62868, -109.9799, 23.0], [37.62868, -109.9799, 23.0], [37.62868, -109.9799, 23.0], [37.62868, -109.9799, 23.0], [37.62868, -109.9799, 23.0], [37.62868, -109.9799, 23.0], [37.62868, -109.9799, 23.0], [37.62868, -109.9799, 23.0], [37.62868, -109.9799, 23.0], [37.62868, -109.9799, 23.0], [37.62868, -109.9799, 23.0], [37.62868, -109.9799, 23.0], [37.62868, -109.9799, 23.0], [37.62868, -109.9799, 23.0], [37.62868, -109.9799, 23.0], [37.62868, -109.9799, 23.0], [37.62868, -109.9799, 23.0], [37.62868, -109.9799, 23.0], [37.62868, -109.9799, 23.0], [37.62868, -109.9799, 23.0], [37.60308, -109.9786, 29.0], [37.60308, -109.9786, 29.0], [37.60308, -109.9786, 29.0], [37.60308, -109.9786, 29.0], [37.60308, -109.9786, 29.0], [37.60308, -109.9786, 29.0], [37.60308, -109.9786, 29.0], [37.60308, -109.9786, 29.0], [37.60308, -109.9786, 29.0], [37.60308, -109.9786, 29.0], [37.60308, -109.9786, 29.0], [37.60308, -109.9786, 29.0], [37.60308, -109.9786, 29.0], [37.60308, -109.9786, 29.0], [37.60308, -109.9786, 29.0], [37.60308, -109.9786, 29.0], [37.60308, -109.9786, 29.0], [37.60308, -109.9786, 29.0], [37.60308, -109.9786, 29.0], [37.60308, -109.9786, 29.0], [37.60308, -109.9786, 29.0], [37.60308, -109.9786, 29.0], [37.60308, -109.9786, 29.0], [37.60308, -109.9786, 29.0], [37.60308, -109.9786, 29.0], [37.60308, -109.9786, 29.0], [37.60308, -109.9786, 29.0], [37.60308, -109.9786, 29.0], [37.60308, -109.9786, 29.0], [37.60308, -109.9786, 29.0], [37.60308, -109.9786, 29.0], [37.60308, -109.9786, 29.0], [37.60308, -109.9786, 29.0], [37.60308, -109.9786, 29.0], [37.60308, -109.9786, 29.0], [37.60308, -109.9786, 29.0], [37.60308, -109.9786, 29.0], [37.60308, -109.9786, 29.0], [37.60308, -109.9786, 29.0], [37.60308, -109.9786, 29.0], [37.60308, -109.9786, 29.0], [37.60308, -109.9786, 29.0], [37.60308, -109.9786, 29.0], [37.63027, -109.9786, 35.0], [37.63027, -109.9786, 35.0], [37.63027, -109.9786, 35.0], [37.63027, -109.9786, 35.0], [37.63027, -109.9786, 35.0], [37.63027, -109.9786, 35.0], [37.63027, -109.9786, 35.0], [37.63027, -109.9786, 35.0], [37.63027, -109.9786, 35.0], [37.63027, -109.9786, 35.0], [37.63027, -109.9786, 35.0], [37.63027, -109.9786, 35.0], [37.63027, -109.9786, 35.0], [37.63027, -109.9786, 35.0], [37.63027, -109.9786, 35.0], [37.63027, -109.9786, 35.0], [37.63027, -109.9786, 35.0], [37.63027, -109.9786, 35.0], [37.63027, -109.9786, 35.0], [37.63027, -109.9786, 35.0], [37.63027, -109.9786, 35.0], [37.63027, -109.9786, 35.0], [37.63027, -109.9786, 35.0], [37.63027, -109.9786, 35.0], [37.63027, -109.9786, 35.0], [37.63027, -109.9786, 35.0], [37.63027, -109.9786, 35.0], [37.63027, -109.9786, 35.0], [37.63027, -109.9786, 35.0], [37.63027, -109.9786, 35.0], [37.63027, -109.9786, 35.0], [37.63027, -109.9786, 35.0], [37.63027, -109.9786, 35.0], [37.63027, -109.9786, 35.0], [37.63027, -109.9786, 35.0], [37.63027, -109.9786, 35.0], [37.63027, -109.9786, 35.0], [37.63027, -109.9786, 35.0], [37.63027, -109.9786, 35.0], [37.63027, -109.9786, 35.0], [37.63027, -109.9786, 35.0], [37.63027, -109.9786, 35.0], [37.63027, -109.9786, 35.0], [37.62921, -109.9782, -23.0], [37.62921, -109.9782, -23.0], [37.62921, -109.9782, -23.0], [37.62921, -109.9782, -23.0], [37.62921, -109.9782, -23.0], [37.62921, -109.9782, -23.0], [37.62921, -109.9782, -23.0], [37.62921, -109.9782, -23.0], [37.62921, -109.9782, -23.0], [37.62921, -109.9782, -23.0], [37.62921, -109.9782, -23.0], [37.62921, -109.9782, -23.0], [37.62921, -109.9782, -23.0], [37.62921, -109.9782, -23.0], [37.62921, -109.9782, -23.0], [37.62921, -109.9782, -23.0], [37.62921, -109.9782, -23.0], [37.62921, -109.9782, -23.0], [37.62921, -109.9782, -23.0], [37.62921, -109.9782, -23.0], [37.62921, -109.9782, -23.0], [37.62921, -109.9782, -23.0], [37.62921, -109.9782, -23.0], [37.62921, -109.9782, -23.0], [37.62921, -109.9782, -23.0], [37.62921, -109.9782, -23.0], [37.62921, -109.9782, -23.0], [37.62921, -109.9782, -23.0], [37.62921, -109.9782, -23.0], [37.62921, -109.9782, -23.0], [37.62921, -109.9782, -23.0], [37.62921, -109.9782, -23.0], [37.62921, -109.9782, -23.0], [37.62921, -109.9782, -23.0], [37.62921, -109.9782, -23.0], [37.62921, -109.9782, -23.0], [37.62921, -109.9782, -23.0], [37.62921, -109.9782, -23.0], [37.62921, -109.9782, -23.0], [37.62921, -109.9782, -23.0], [37.62921, -109.9782, -23.0], [37.62921, -109.9782, -23.0], [37.62921, -109.9782, -23.0], [37.63344, -109.9775, 1.0], [37.63344, -109.9775, 1.0], [37.63344, -109.9775, 1.0], [37.63344, -109.9775, 1.0], [37.63344, -109.9775, 1.0], [37.63344, -109.9775, 1.0], [37.63344, -109.9775, 1.0], [37.63344, -109.9775, 1.0], [37.63344, -109.9775, 1.0], [37.63344, -109.9775, 1.0], [37.63344, -109.9775, 1.0], [37.63344, -109.9775, 1.0], [37.63344, -109.9775, 1.0], [37.63344, -109.9775, 1.0], [37.63344, -109.9775, 1.0], [37.63344, -109.9775, 1.0], [37.63344, -109.9775, 1.0], [37.63344, -109.9775, 1.0], [37.63344, -109.9775, 1.0], [37.63344, -109.9775, 1.0], [37.63344, -109.9775, 1.0], [37.63344, -109.9775, 1.0], [37.63344, -109.9775, 1.0], [37.63344, -109.9775, 1.0], [37.63344, -109.9775, 1.0], [37.63344, -109.9775, 1.0], [37.63344, -109.9775, 1.0], [37.63344, -109.9775, 1.0], [37.63344, -109.9775, 1.0], [37.63344, -109.9775, 1.0], [37.63344, -109.9775, 1.0], [37.63344, -109.9775, 1.0], [37.63344, -109.9775, 1.0], [37.63344, -109.9775, 1.0], [37.63344, -109.9775, 1.0], [37.63344, -109.9775, 1.0], [37.63344, -109.9775, 1.0], [37.63344, -109.9775, 1.0], [37.63344, -109.9775, 1.0], [37.63344, -109.9775, 1.0], [37.63344, -109.9775, 1.0], [37.63344, -109.9775, 1.0], [37.63344, -109.9775, 1.0], [37.62789, -109.9762, 22.0], [37.62789, -109.9762, 22.0], [37.62789, -109.9762, 22.0], [37.62789, -109.9762, 22.0], [37.62789, -109.9762, 22.0], [37.62789, -109.9762, 22.0], [37.62789, -109.9762, 22.0], [37.62789, -109.9762, 22.0], [37.62789, -109.9762, 22.0], [37.62789, -109.9762, 22.0], [37.62789, -109.9762, 22.0], [37.62789, -109.9762, 22.0], [37.62789, -109.9762, 22.0], [37.62789, -109.9762, 22.0], [37.62789, -109.9762, 22.0], [37.62789, -109.9762, 22.0], [37.62789, -109.9762, 22.0], [37.62789, -109.9762, 22.0], [37.62789, -109.9762, 22.0], [37.62789, -109.9762, 22.0], [37.62789, -109.9762, 22.0], [37.62789, -109.9762, 22.0], [37.62789, -109.9762, 22.0], [37.62789, -109.9762, 22.0], [37.62789, -109.9762, 22.0], [37.62789, -109.9762, 22.0], [37.62789, -109.9762, 22.0], [37.62789, -109.9762, 22.0], [37.62789, -109.9762, 22.0], [37.62789, -109.9762, 22.0], [37.62789, -109.9762, 22.0], [37.62789, -109.9762, 22.0], [37.62789, -109.9762, 22.0], [37.62789, -109.9762, 22.0], [37.62789, -109.9762, 22.0], [37.62789, -109.9762, 22.0], [37.62789, -109.9762, 22.0], [37.62789, -109.9762, 22.0], [37.62789, -109.9762, 22.0], [37.62789, -109.9762, 22.0], [37.62789, -109.9762, 22.0], [37.62789, -109.9762, 22.0], [37.62789, -109.9762, 22.0], [37.59912, -109.9758, -52.0], [37.59912, -109.9758, -52.0], [37.59912, -109.9758, -52.0], [37.59912, -109.9758, -52.0], [37.59912, -109.9758, -52.0], [37.59912, -109.9758, -52.0], [37.59912, -109.9758, -52.0], [37.59912, -109.9758, -52.0], [37.59912, -109.9758, -52.0], [37.59912, -109.9758, -52.0], [37.59912, -109.9758, -52.0], [37.59912, -109.9758, -52.0], [37.59912, -109.9758, -52.0], [37.59912, -109.9758, -52.0], [37.59912, -109.9758, -52.0], [37.59912, -109.9758, -52.0], [37.59912, -109.9758, -52.0], [37.59912, -109.9758, -52.0], [37.59912, -109.9758, -52.0], [37.59912, -109.9758, -52.0], [37.59912, -109.9758, -52.0], [37.59912, -109.9758, -52.0], [37.59912, -109.9758, -52.0], [37.59912, -109.9758, -52.0], [37.59912, -109.9758, -52.0], [37.59912, -109.9758, -52.0], [37.59912, -109.9758, -52.0], [37.59912, -109.9758, -52.0], [37.59912, -109.9758, -52.0], [37.59912, -109.9758, -52.0], [37.59912, -109.9758, -52.0], [37.59912, -109.9758, -52.0], [37.59912, -109.9758, -52.0], [37.59912, -109.9758, -52.0], [37.59912, -109.9758, -52.0], [37.59912, -109.9758, -52.0], [37.59912, -109.9758, -52.0], [37.59912, -109.9758, -52.0], [37.59912, -109.9758, -52.0], [37.59912, -109.9758, -52.0], [37.59912, -109.9758, -52.0], [37.59912, -109.9758, -52.0], [37.59912, -109.9758, -52.0], [37.60862, -109.9758, 8.0], [37.60862, -109.9758, 8.0], [37.60862, -109.9758, 8.0], [37.60862, -109.9758, 8.0], [37.60862, -109.9758, 8.0], [37.60862, -109.9758, 8.0], [37.60862, -109.9758, 8.0], [37.60862, -109.9758, 8.0], [37.60862, -109.9758, 8.0], [37.60862, -109.9758, 8.0], [37.60862, -109.9758, 8.0], [37.60862, -109.9758, 8.0], [37.60862, -109.9758, 8.0], [37.60862, -109.9758, 8.0], [37.60862, -109.9758, 8.0], [37.60862, -109.9758, 8.0], [37.60862, -109.9758, 8.0], [37.60862, -109.9758, 8.0], [37.60862, -109.9758, 8.0], [37.60862, -109.9758, 8.0], [37.60862, -109.9758, 8.0], [37.60862, -109.9758, 8.0], [37.60862, -109.9758, 8.0], [37.60862, -109.9758, 8.0], [37.60862, -109.9758, 8.0], [37.60862, -109.9758, 8.0], [37.60862, -109.9758, 8.0], [37.60862, -109.9758, 8.0], [37.60862, -109.9758, 8.0], [37.60862, -109.9758, 8.0], [37.60862, -109.9758, 8.0], [37.60862, -109.9758, 8.0], [37.60862, -109.9758, 8.0], [37.60862, -109.9758, 8.0], [37.60862, -109.9758, 8.0], [37.60862, -109.9758, 8.0], [37.60862, -109.9758, 8.0], [37.60862, -109.9758, 8.0], [37.60862, -109.9758, 8.0], [37.60862, -109.9758, 8.0], [37.60862, -109.9758, 8.0], [37.60862, -109.9758, 8.0], [37.60862, -109.9758, 8.0], [37.62684, -109.9758, 39.0], [37.62684, -109.9758, 39.0], [37.62684, -109.9758, 39.0], [37.62684, -109.9758, 39.0], [37.62684, -109.9758, 39.0], [37.62684, -109.9758, 39.0], [37.62684, -109.9758, 39.0], [37.62684, -109.9758, 39.0], [37.62684, -109.9758, 39.0], [37.62684, -109.9758, 39.0], [37.62684, -109.9758, 39.0], [37.62684, -109.9758, 39.0], [37.62684, -109.9758, 39.0], [37.62684, -109.9758, 39.0], [37.62684, -109.9758, 39.0], [37.62684, -109.9758, 39.0], [37.62684, -109.9758, 39.0], [37.62684, -109.9758, 39.0], [37.62684, -109.9758, 39.0], [37.62684, -109.9758, 39.0], [37.62684, -109.9758, 39.0], [37.62684, -109.9758, 39.0], [37.62684, -109.9758, 39.0], [37.62684, -109.9758, 39.0], [37.62684, -109.9758, 39.0], [37.62684, -109.9758, 39.0], [37.62684, -109.9758, 39.0], [37.62684, -109.9758, 39.0], [37.62684, -109.9758, 39.0], [37.62684, -109.9758, 39.0], [37.62684, -109.9758, 39.0], [37.62684, -109.9758, 39.0], [37.62684, -109.9758, 39.0], [37.62684, -109.9758, 39.0], [37.62684, -109.9758, 39.0], [37.62684, -109.9758, 39.0], [37.62684, -109.9758, 39.0], [37.62684, -109.9758, 39.0], [37.62684, -109.9758, 39.0], [37.62684, -109.9758, 39.0], [37.62684, -109.9758, 39.0], [37.62684, -109.9758, 39.0], [37.62684, -109.9758, 39.0], [37.61522, -109.9734, 18.0], [37.61522, -109.9734, 18.0], [37.61522, -109.9734, 18.0], [37.61522, -109.9734, 18.0], [37.61522, -109.9734, 18.0], [37.61522, -109.9734, 18.0], [37.61522, -109.9734, 18.0], [37.61522, -109.9734, 18.0], [37.61522, -109.9734, 18.0], [37.61522, -109.9734, 18.0], [37.61522, -109.9734, 18.0], [37.61522, -109.9734, 18.0], [37.61522, -109.9734, 18.0], [37.61522, -109.9734, 18.0], [37.61522, -109.9734, 18.0], [37.61522, -109.9734, 18.0], [37.61522, -109.9734, 18.0], [37.61522, -109.9734, 18.0], [37.61522, -109.9734, 18.0], [37.61522, -109.9734, 18.0], [37.61522, -109.9734, 18.0], [37.61522, -109.9734, 18.0], [37.61522, -109.9734, 18.0], [37.61522, -109.9734, 18.0], [37.61522, -109.9734, 18.0], [37.61522, -109.9734, 18.0], [37.61522, -109.9734, 18.0], [37.61522, -109.9734, 18.0], [37.61522, -109.9734, 18.0], [37.61522, -109.9734, 18.0], [37.61522, -109.9734, 18.0], [37.61522, -109.9734, 18.0], [37.61522, -109.9734, 18.0], [37.61522, -109.9734, 18.0], [37.61522, -109.9734, 18.0], [37.61522, -109.9734, 18.0], [37.61522, -109.9734, 18.0], [37.61522, -109.9734, 18.0], [37.61522, -109.9734, 18.0], [37.61522, -109.9734, 18.0], [37.61522, -109.9734, 18.0], [37.61522, -109.9734, 18.0], [37.61522, -109.9734, 18.0], [37.6308, -109.9731, 89.0], [37.6308, -109.9731, 89.0], [37.6308, -109.9731, 89.0], [37.6308, -109.9731, 89.0], [37.6308, -109.9731, 89.0], [37.6308, -109.9731, 89.0], [37.6308, -109.9731, 89.0], [37.6308, -109.9731, 89.0], [37.6308, -109.9731, 89.0], [37.6308, -109.9731, 89.0], [37.6308, -109.9731, 89.0], [37.6308, -109.9731, 89.0], [37.6308, -109.9731, 89.0], [37.6308, -109.9731, 89.0], [37.6308, -109.9731, 89.0], [37.6308, -109.9731, 89.0], [37.6308, -109.9731, 89.0], [37.6308, -109.9731, 89.0], [37.6308, -109.9731, 89.0], [37.6308, -109.9731, 89.0], [37.6308, -109.9731, 89.0], [37.6308, -109.9731, 89.0], [37.6308, -109.9731, 89.0], [37.6308, -109.9731, 89.0], [37.6308, -109.9731, 89.0], [37.6308, -109.9731, 89.0], [37.6308, -109.9731, 89.0], [37.6308, -109.9731, 89.0], [37.6308, -109.9731, 89.0], [37.6308, -109.9731, 89.0], [37.6308, -109.9731, 89.0], [37.6308, -109.9731, 89.0], [37.6308, -109.9731, 89.0], [37.6308, -109.9731, 89.0], [37.6308, -109.9731, 89.0], [37.6308, -109.9731, 89.0], [37.6308, -109.9731, 89.0], [37.6308, -109.9731, 89.0], [37.6308, -109.9731, 89.0], [37.6308, -109.9731, 89.0], [37.6308, -109.9731, 89.0], [37.6308, -109.9731, 89.0], [37.6308, -109.9731, 89.0], [37.63476, -109.9714, -9.0], [37.63476, -109.9714, -9.0], [37.63476, -109.9714, -9.0], [37.63476, -109.9714, -9.0], [37.63476, -109.9714, -9.0], [37.63476, -109.9714, -9.0], [37.63476, -109.9714, -9.0], [37.63476, -109.9714, -9.0], [37.63476, -109.9714, -9.0], [37.63476, -109.9714, -9.0], [37.63476, -109.9714, -9.0], [37.63476, -109.9714, -9.0], [37.63476, -109.9714, -9.0], [37.63476, -109.9714, -9.0], [37.63476, -109.9714, -9.0], [37.63476, -109.9714, -9.0], [37.63476, -109.9714, -9.0], [37.63476, -109.9714, -9.0], [37.63476, -109.9714, -9.0], [37.63476, -109.9714, -9.0], [37.63476, -109.9714, -9.0], [37.63476, -109.9714, -9.0], [37.63476, -109.9714, -9.0], [37.63476, -109.9714, -9.0], [37.63476, -109.9714, -9.0], [37.63476, -109.9714, -9.0], [37.63476, -109.9714, -9.0], [37.63476, -109.9714, -9.0], [37.63476, -109.9714, -9.0], [37.63476, -109.9714, -9.0], [37.63476, -109.9714, -9.0], [37.63476, -109.9714, -9.0], [37.63476, -109.9714, -9.0], [37.63476, -109.9714, -9.0], [37.63476, -109.9714, -9.0], [37.63476, -109.9714, -9.0], [37.63476, -109.9714, -9.0], [37.63476, -109.9714, -9.0], [37.63476, -109.9714, -9.0], [37.63476, -109.9714, -9.0], [37.63476, -109.9714, -9.0], [37.63476, -109.9714, -9.0], [37.63476, -109.9714, -9.0], [37.62631, -109.9693, 23.0], [37.62631, -109.9693, 23.0], [37.62631, -109.9693, 23.0], [37.62631, -109.9693, 23.0], [37.62631, -109.9693, 23.0], [37.62631, -109.9693, 23.0], [37.62631, -109.9693, 23.0], [37.62631, -109.9693, 23.0], [37.62631, -109.9693, 23.0], [37.62631, -109.9693, 23.0], [37.62631, -109.9693, 23.0], [37.62631, -109.9693, 23.0], [37.62631, -109.9693, 23.0], [37.62631, -109.9693, 23.0], [37.62631, -109.9693, 23.0], [37.62631, -109.9693, 23.0], [37.62631, -109.9693, 23.0], [37.62631, -109.9693, 23.0], [37.62631, -109.9693, 23.0], [37.62631, -109.9693, 23.0], [37.62631, -109.9693, 23.0], [37.62631, -109.9693, 23.0], [37.62631, -109.9693, 23.0], [37.62631, -109.9693, 23.0], [37.62631, -109.9693, 23.0], [37.62631, -109.9693, 23.0], [37.62631, -109.9693, 23.0], [37.62631, -109.9693, 23.0], [37.62631, -109.9693, 23.0], [37.62631, -109.9693, 23.0], [37.62631, -109.9693, 23.0], [37.62631, -109.9693, 23.0], [37.62631, -109.9693, 23.0], [37.62631, -109.9693, 23.0], [37.62631, -109.9693, 23.0], [37.62631, -109.9693, 23.0], [37.62631, -109.9693, 23.0], [37.62631, -109.9693, 23.0], [37.62631, -109.9693, 23.0], [37.62631, -109.9693, 23.0], [37.62631, -109.9693, 23.0], [37.62631, -109.9693, 23.0], [37.62631, -109.9693, 23.0], [37.61284, -109.969, 11.0], [37.61284, -109.969, 11.0], [37.61284, -109.969, 11.0], [37.61284, -109.969, 11.0], [37.61284, -109.969, 11.0], [37.61284, -109.969, 11.0], [37.61284, -109.969, 11.0], [37.61284, -109.969, 11.0], [37.61284, -109.969, 11.0], [37.61284, -109.969, 11.0], [37.61284, -109.969, 11.0], [37.61284, -109.969, 11.0], [37.61284, -109.969, 11.0], [37.61284, -109.969, 11.0], [37.61284, -109.969, 11.0], [37.61284, -109.969, 11.0], [37.61284, -109.969, 11.0], [37.61284, -109.969, 11.0], [37.61284, -109.969, 11.0], [37.61284, -109.969, 11.0], [37.61284, -109.969, 11.0], [37.61284, -109.969, 11.0], [37.61284, -109.969, 11.0], [37.61284, -109.969, 11.0], [37.61284, -109.969, 11.0], [37.61284, -109.969, 11.0], [37.61284, -109.969, 11.0], [37.61284, -109.969, 11.0], [37.61284, -109.969, 11.0], [37.61284, -109.969, 11.0], [37.61284, -109.969, 11.0], [37.61284, -109.969, 11.0], [37.61284, -109.969, 11.0], [37.61284, -109.969, 11.0], [37.61284, -109.969, 11.0], [37.61284, -109.969, 11.0], [37.61284, -109.969, 11.0], [37.61284, -109.969, 11.0], [37.61284, -109.969, 11.0], [37.61284, -109.969, 11.0], [37.61284, -109.969, 11.0], [37.61284, -109.969, 11.0], [37.61284, -109.969, 11.0], [37.61654, -109.9679, -13.0], [37.61654, -109.9679, -13.0], [37.61654, -109.9679, -13.0], [37.61654, -109.9679, -13.0], [37.61654, -109.9679, -13.0], [37.61654, -109.9679, -13.0], [37.61654, -109.9679, -13.0], [37.61654, -109.9679, -13.0], [37.61654, -109.9679, -13.0], [37.61654, -109.9679, -13.0], [37.61654, -109.9679, -13.0], [37.61654, -109.9679, -13.0], [37.61654, -109.9679, -13.0], [37.61654, -109.9679, -13.0], [37.61654, -109.9679, -13.0], [37.61654, -109.9679, -13.0], [37.61654, -109.9679, -13.0], [37.61654, -109.9679, -13.0], [37.61654, -109.9679, -13.0], [37.61654, -109.9679, -13.0], [37.61654, -109.9679, -13.0], [37.61654, -109.9679, -13.0], [37.61654, -109.9679, -13.0], [37.61654, -109.9679, -13.0], [37.61654, -109.9679, -13.0], [37.61654, -109.9679, -13.0], [37.61654, -109.9679, -13.0], [37.61654, -109.9679, -13.0], [37.61654, -109.9679, -13.0], [37.61654, -109.9679, -13.0], [37.61654, -109.9679, -13.0], [37.61654, -109.9679, -13.0], [37.61654, -109.9679, -13.0], [37.61654, -109.9679, -13.0], [37.61654, -109.9679, -13.0], [37.61654, -109.9679, -13.0], [37.61654, -109.9679, -13.0], [37.61654, -109.9679, -13.0], [37.61654, -109.9679, -13.0], [37.61654, -109.9679, -13.0], [37.61654, -109.9679, -13.0], [37.61654, -109.9679, -13.0], [37.61654, -109.9679, -13.0], [37.62974, -109.9679, 53.0], [37.62974, -109.9679, 53.0], [37.62974, -109.9679, 53.0], [37.62974, -109.9679, 53.0], [37.62974, -109.9679, 53.0], [37.62974, -109.9679, 53.0], [37.62974, -109.9679, 53.0], [37.62974, -109.9679, 53.0], [37.62974, -109.9679, 53.0], [37.62974, -109.9679, 53.0], [37.62974, -109.9679, 53.0], [37.62974, -109.9679, 53.0], [37.62974, -109.9679, 53.0], [37.62974, -109.9679, 53.0], [37.62974, -109.9679, 53.0], [37.62974, -109.9679, 53.0], [37.62974, -109.9679, 53.0], [37.62974, -109.9679, 53.0], [37.62974, -109.9679, 53.0], [37.62974, -109.9679, 53.0], [37.62974, -109.9679, 53.0], [37.62974, -109.9679, 53.0], [37.62974, -109.9679, 53.0], [37.62974, -109.9679, 53.0], [37.62974, -109.9679, 53.0], [37.62974, -109.9679, 53.0], [37.62974, -109.9679, 53.0], [37.62974, -109.9679, 53.0], [37.62974, -109.9679, 53.0], [37.62974, -109.9679, 53.0], [37.62974, -109.9679, 53.0], [37.62974, -109.9679, 53.0], [37.62974, -109.9679, 53.0], [37.62974, -109.9679, 53.0], [37.62974, -109.9679, 53.0], [37.62974, -109.9679, 53.0], [37.62974, -109.9679, 53.0], [37.62974, -109.9679, 53.0], [37.62974, -109.9679, 53.0], [37.62974, -109.9679, 53.0], [37.62974, -109.9679, 53.0], [37.62974, -109.9679, 53.0], [37.62974, -109.9679, 53.0], [37.62868, -109.9673, -30.0], [37.62868, -109.9673, -30.0], [37.62868, -109.9673, -30.0], [37.62868, -109.9673, -30.0], [37.62868, -109.9673, -30.0], [37.62868, -109.9673, -30.0], [37.62868, -109.9673, -30.0], [37.62868, -109.9673, -30.0], [37.62868, -109.9673, -30.0], [37.62868, -109.9673, -30.0], [37.62868, -109.9673, -30.0], [37.62868, -109.9673, -30.0], [37.62868, -109.9673, -30.0], [37.62868, -109.9673, -30.0], [37.62868, -109.9673, -30.0], [37.62868, -109.9673, -30.0], [37.62868, -109.9673, -30.0], [37.62868, -109.9673, -30.0], [37.62868, -109.9673, -30.0], [37.62868, -109.9673, -30.0], [37.62868, -109.9673, -30.0], [37.62868, -109.9673, -30.0], [37.62868, -109.9673, -30.0], [37.62868, -109.9673, -30.0], [37.62868, -109.9673, -30.0], [37.62868, -109.9673, -30.0], [37.62868, -109.9673, -30.0], [37.62868, -109.9673, -30.0], [37.62868, -109.9673, -30.0], [37.62868, -109.9673, -30.0], [37.62868, -109.9673, -30.0], [37.62868, -109.9673, -30.0], [37.62868, -109.9673, -30.0], [37.62868, -109.9673, -30.0], [37.62868, -109.9673, -30.0], [37.62868, -109.9673, -30.0], [37.62868, -109.9673, -30.0], [37.62868, -109.9673, -30.0], [37.62868, -109.9673, -30.0], [37.62868, -109.9673, -30.0], [37.62868, -109.9673, -30.0], [37.62868, -109.9673, -30.0], [37.62868, -109.9673, -30.0], [37.62446, -109.9669, -91.0], [37.62446, -109.9669, -91.0], [37.62446, -109.9669, -91.0], [37.62446, -109.9669, -91.0], [37.62446, -109.9669, -91.0], [37.62446, -109.9669, -91.0], [37.62446, -109.9669, -91.0], [37.62446, -109.9669, -91.0], [37.62446, -109.9669, -91.0], [37.62446, -109.9669, -91.0], [37.62446, -109.9669, -91.0], [37.62446, -109.9669, -91.0], [37.62446, -109.9669, -91.0], [37.62446, -109.9669, -91.0], [37.62446, -109.9669, -91.0], [37.62446, -109.9669, -91.0], [37.62446, -109.9669, -91.0], [37.62446, -109.9669, -91.0], [37.62446, -109.9669, -91.0], [37.62446, -109.9669, -91.0], [37.62446, -109.9669, -91.0], [37.62446, -109.9669, -91.0], [37.62446, -109.9669, -91.0], [37.62446, -109.9669, -91.0], [37.62446, -109.9669, -91.0], [37.62446, -109.9669, -91.0], [37.62446, -109.9669, -91.0], [37.62446, -109.9669, -91.0], [37.62446, -109.9669, -91.0], [37.62446, -109.9669, -91.0], [37.62446, -109.9669, -91.0], [37.62446, -109.9669, -91.0], [37.62446, -109.9669, -91.0], [37.62446, -109.9669, -91.0], [37.62446, -109.9669, -91.0], [37.62446, -109.9669, -91.0], [37.62446, -109.9669, -91.0], [37.62446, -109.9669, -91.0], [37.62446, -109.9669, -91.0], [37.62446, -109.9669, -91.0], [37.62446, -109.9669, -91.0], [37.62446, -109.9669, -91.0], [37.62446, -109.9669, -91.0], [37.60783, -109.9662, -4.0], [37.60783, -109.9662, -4.0], [37.60783, -109.9662, -4.0], [37.60783, -109.9662, -4.0], [37.60783, -109.9662, -4.0], [37.60783, -109.9662, -4.0], [37.60783, -109.9662, -4.0], [37.60783, -109.9662, -4.0], [37.60783, -109.9662, -4.0], [37.60783, -109.9662, -4.0], [37.60783, -109.9662, -4.0], [37.60783, -109.9662, -4.0], [37.60783, -109.9662, -4.0], [37.60783, -109.9662, -4.0], [37.60783, -109.9662, -4.0], [37.60783, -109.9662, -4.0], [37.60783, -109.9662, -4.0], [37.60783, -109.9662, -4.0], [37.60783, -109.9662, -4.0], [37.60783, -109.9662, -4.0], [37.60783, -109.9662, -4.0], [37.60783, -109.9662, -4.0], [37.60783, -109.9662, -4.0], [37.60783, -109.9662, -4.0], [37.60783, -109.9662, -4.0], [37.60783, -109.9662, -4.0], [37.60783, -109.9662, -4.0], [37.60783, -109.9662, -4.0], [37.60783, -109.9662, -4.0], [37.60783, -109.9662, -4.0], [37.60783, -109.9662, -4.0], [37.60783, -109.9662, -4.0], [37.60783, -109.9662, -4.0], [37.60783, -109.9662, -4.0], [37.60783, -109.9662, -4.0], [37.60783, -109.9662, -4.0], [37.60783, -109.9662, -4.0], [37.60783, -109.9662, -4.0], [37.60783, -109.9662, -4.0], [37.60783, -109.9662, -4.0], [37.60783, -109.9662, -4.0], [37.60783, -109.9662, -4.0], [37.60783, -109.9662, -4.0], [37.63159, -109.9662, 50.0], [37.63159, -109.9662, 50.0], [37.63159, -109.9662, 50.0], [37.63159, -109.9662, 50.0], [37.63159, -109.9662, 50.0], [37.63159, -109.9662, 50.0], [37.63159, -109.9662, 50.0], [37.63159, -109.9662, 50.0], [37.63159, -109.9662, 50.0], [37.63159, -109.9662, 50.0], [37.63159, -109.9662, 50.0], [37.63159, -109.9662, 50.0], [37.63159, -109.9662, 50.0], [37.63159, -109.9662, 50.0], [37.63159, -109.9662, 50.0], [37.63159, -109.9662, 50.0], [37.63159, -109.9662, 50.0], [37.63159, -109.9662, 50.0], [37.63159, -109.9662, 50.0], [37.63159, -109.9662, 50.0], [37.63159, -109.9662, 50.0], [37.63159, -109.9662, 50.0], [37.63159, -109.9662, 50.0], [37.63159, -109.9662, 50.0], [37.63159, -109.9662, 50.0], [37.63159, -109.9662, 50.0], [37.63159, -109.9662, 50.0], [37.63159, -109.9662, 50.0], [37.63159, -109.9662, 50.0], [37.63159, -109.9662, 50.0], [37.63159, -109.9662, 50.0], [37.63159, -109.9662, 50.0], [37.63159, -109.9662, 50.0], [37.63159, -109.9662, 50.0], [37.63159, -109.9662, 50.0], [37.63159, -109.9662, 50.0], [37.63159, -109.9662, 50.0], [37.63159, -109.9662, 50.0], [37.63159, -109.9662, 50.0], [37.63159, -109.9662, 50.0], [37.63159, -109.9662, 50.0], [37.63159, -109.9662, 50.0], [37.63159, -109.9662, 50.0], [37.62525, -109.9659, 40.0], [37.62525, -109.9659, 40.0], [37.62525, -109.9659, 40.0], [37.62525, -109.9659, 40.0], [37.62525, -109.9659, 40.0], [37.62525, -109.9659, 40.0], [37.62525, -109.9659, 40.0], [37.62525, -109.9659, 40.0], [37.62525, -109.9659, 40.0], [37.62525, -109.9659, 40.0], [37.62525, -109.9659, 40.0], [37.62525, -109.9659, 40.0], [37.62525, -109.9659, 40.0], [37.62525, -109.9659, 40.0], [37.62525, -109.9659, 40.0], [37.62525, -109.9659, 40.0], [37.62525, -109.9659, 40.0], [37.62525, -109.9659, 40.0], [37.62525, -109.9659, 40.0], [37.62525, -109.9659, 40.0], [37.62525, -109.9659, 40.0], [37.62525, -109.9659, 40.0], [37.62525, -109.9659, 40.0], [37.62525, -109.9659, 40.0], [37.62525, -109.9659, 40.0], [37.62525, -109.9659, 40.0], [37.62525, -109.9659, 40.0], [37.62525, -109.9659, 40.0], [37.62525, -109.9659, 40.0], [37.62525, -109.9659, 40.0], [37.62525, -109.9659, 40.0], [37.62525, -109.9659, 40.0], [37.62525, -109.9659, 40.0], [37.62525, -109.9659, 40.0], [37.62525, -109.9659, 40.0], [37.62525, -109.9659, 40.0], [37.62525, -109.9659, 40.0], [37.62525, -109.9659, 40.0], [37.62525, -109.9659, 40.0], [37.62525, -109.9659, 40.0], [37.62525, -109.9659, 40.0], [37.62525, -109.9659, 40.0], [37.62525, -109.9659, 40.0]],\n",
       "                {&quot;blur&quot;: 10, &quot;gradient&quot;: {&quot;0.2&quot;: &quot;red&quot;, &quot;0.4&quot;: &quot;brown&quot;, &quot;0.6&quot;: &quot;yellow&quot;, &quot;0.8&quot;: &quot;#32CD32&quot;, &quot;1&quot;: &quot;green&quot;}, &quot;maxZoom&quot;: 18, &quot;minOpacity&quot;: 0.5, &quot;radius&quot;: 20}\n",
       "            );\n",
       "        \n",
       "    \n",
       "            heat_map_003e3d6cac9642149869bb3e34f2f12b.addTo(map_9d230a87230136c00711e396450da417);\n",
       "        \n",
       "&lt;/script&gt;\n",
       "&lt;/html&gt;\" style=\"position:absolute;width:100%;height:100%;left:0;top:0;border:none !important;\" allowfullscreen webkitallowfullscreen mozallowfullscreen></iframe></div></div>"
      ],
      "text/plain": [
       "<folium.folium.Map at 0x3129ccc90>"
      ]
     },
     "execution_count": 96,
     "metadata": {},
     "output_type": "execute_result"
    }
   ],
   "source": [
    "# the higher the gradient, the more greenery there is. \n",
    "HeatMap(heat_data_green, radius=20, blur=10, gradient={0.2: 'red', 0.4: 'brown', 0.6: 'yellow', 0.8: '#32CD32', 1: 'green'}).add_to(mymap)\n",
    "\n",
    "mymap"
   ]
  },
  {
   "cell_type": "code",
   "execution_count": 97,
   "metadata": {},
   "outputs": [],
   "source": [
    "# consider year; slide the slider to see the changes in greenery over the years\n",
    "greenery_year = greenery.groupby(['long', 'lat', 'year'])['total'].mean().reset_index()"
   ]
  },
  {
   "cell_type": "markdown",
   "metadata": {},
   "source": [
    "### Writeup\n",
    "\n",
    "This data tells us that \n",
    "\n"
   ]
  },
  {
   "cell_type": "markdown",
   "metadata": {},
   "source": [
    "### Plant litter dataset"
   ]
  },
  {
   "cell_type": "code",
   "execution_count": 98,
   "metadata": {},
   "outputs": [],
   "source": [
    "# load the data\n",
    "litter = pd.read_csv('./data/cleaned_data/litter_data.csv')"
   ]
  },
  {
   "cell_type": "code",
   "execution_count": 99,
   "metadata": {},
   "outputs": [
    {
     "data": {
      "text/html": [
       "<div>\n",
       "<style scoped>\n",
       "    .dataframe tbody tr th:only-of-type {\n",
       "        vertical-align: middle;\n",
       "    }\n",
       "\n",
       "    .dataframe tbody tr th {\n",
       "        vertical-align: top;\n",
       "    }\n",
       "\n",
       "    .dataframe thead th {\n",
       "        text-align: right;\n",
       "    }\n",
       "</style>\n",
       "<table border=\"1\" class=\"dataframe\">\n",
       "  <thead>\n",
       "    <tr style=\"text-align: right;\">\n",
       "      <th></th>\n",
       "      <th>year</th>\n",
       "      <th>litter</th>\n",
       "      <th>t_winter</th>\n",
       "      <th>t_summer</th>\n",
       "      <th>t_annual</th>\n",
       "    </tr>\n",
       "  </thead>\n",
       "  <tbody>\n",
       "    <tr>\n",
       "      <th>0</th>\n",
       "      <td>1980</td>\n",
       "      <td>9</td>\n",
       "      <td>0.773</td>\n",
       "      <td>22.816</td>\n",
       "      <td>10.849</td>\n",
       "    </tr>\n",
       "    <tr>\n",
       "      <th>1</th>\n",
       "      <td>1981</td>\n",
       "      <td>9</td>\n",
       "      <td>3.239</td>\n",
       "      <td>22.874</td>\n",
       "      <td>10.993</td>\n",
       "    </tr>\n",
       "    <tr>\n",
       "      <th>2</th>\n",
       "      <td>1982</td>\n",
       "      <td>6</td>\n",
       "      <td>-0.201</td>\n",
       "      <td>21.620</td>\n",
       "      <td>11.135</td>\n",
       "    </tr>\n",
       "    <tr>\n",
       "      <th>3</th>\n",
       "      <td>1983</td>\n",
       "      <td>10</td>\n",
       "      <td>0.243</td>\n",
       "      <td>20.795</td>\n",
       "      <td>9.601</td>\n",
       "    </tr>\n",
       "    <tr>\n",
       "      <th>4</th>\n",
       "      <td>1984</td>\n",
       "      <td>6</td>\n",
       "      <td>-1.258</td>\n",
       "      <td>21.462</td>\n",
       "      <td>9.281</td>\n",
       "    </tr>\n",
       "  </tbody>\n",
       "</table>\n",
       "</div>"
      ],
      "text/plain": [
       "   year  litter  t_winter  t_summer  t_annual\n",
       "0  1980       9     0.773    22.816    10.849\n",
       "1  1981       9     3.239    22.874    10.993\n",
       "2  1982       6    -0.201    21.620    11.135\n",
       "3  1983      10     0.243    20.795     9.601\n",
       "4  1984       6    -1.258    21.462     9.281"
      ]
     },
     "execution_count": 99,
     "metadata": {},
     "output_type": "execute_result"
    }
   ],
   "source": [
    "# further data processing\n",
    "litter_copy = litter.copy()\n",
    "# drop long and lat and rcp columns\n",
    "litter_copy = litter_copy.drop(columns=['long', 'lat', 'rcp'], axis=1)\n",
    "\n",
    "# group by year and get the mean of the columns\n",
    "litter_copy = litter_copy.groupby('year', as_index=False).agg({'litter': lambda x: x.mode().iloc[0], \n",
    "                                     't_winter': 'mean', \n",
    "                                     't_summer': 'mean', \n",
    "                                     't_annual': 'mean'})\n",
    "\n",
    "# round the columns\n",
    "litter_copy = litter_copy.round({'t_winter': 3, 't_summer': 3, 't_annual': 3})\n",
    "\n",
    "litter_copy.head()"
   ]
  },
  {
   "cell_type": "code",
   "execution_count": 100,
   "metadata": {},
   "outputs": [
    {
     "data": {
      "text/plain": [
       "array([ 9,  6, 10,  8])"
      ]
     },
     "execution_count": 100,
     "metadata": {},
     "output_type": "execute_result"
    }
   ],
   "source": [
    "litter_copy.litter.unique()"
   ]
  },
  {
   "cell_type": "code",
   "execution_count": 101,
   "metadata": {},
   "outputs": [
    {
     "data": {
      "text/html": [
       "<div>\n",
       "<style scoped>\n",
       "    .dataframe tbody tr th:only-of-type {\n",
       "        vertical-align: middle;\n",
       "    }\n",
       "\n",
       "    .dataframe tbody tr th {\n",
       "        vertical-align: top;\n",
       "    }\n",
       "\n",
       "    .dataframe thead th {\n",
       "        text-align: right;\n",
       "    }\n",
       "</style>\n",
       "<table border=\"1\" class=\"dataframe\">\n",
       "  <thead>\n",
       "    <tr style=\"text-align: right;\">\n",
       "      <th></th>\n",
       "      <th>litter</th>\n",
       "      <th>t_winter</th>\n",
       "      <th>t_summer</th>\n",
       "      <th>t_annual</th>\n",
       "    </tr>\n",
       "  </thead>\n",
       "  <tbody>\n",
       "    <tr>\n",
       "      <th>0</th>\n",
       "      <td>1</td>\n",
       "      <td>0.669</td>\n",
       "      <td>23.375</td>\n",
       "      <td>11.700</td>\n",
       "    </tr>\n",
       "    <tr>\n",
       "      <th>1</th>\n",
       "      <td>2</td>\n",
       "      <td>1.068</td>\n",
       "      <td>23.999</td>\n",
       "      <td>12.444</td>\n",
       "    </tr>\n",
       "    <tr>\n",
       "      <th>2</th>\n",
       "      <td>3</td>\n",
       "      <td>1.015</td>\n",
       "      <td>23.804</td>\n",
       "      <td>12.093</td>\n",
       "    </tr>\n",
       "    <tr>\n",
       "      <th>3</th>\n",
       "      <td>5</td>\n",
       "      <td>0.737</td>\n",
       "      <td>23.440</td>\n",
       "      <td>11.589</td>\n",
       "    </tr>\n",
       "    <tr>\n",
       "      <th>4</th>\n",
       "      <td>6</td>\n",
       "      <td>0.900</td>\n",
       "      <td>23.800</td>\n",
       "      <td>12.057</td>\n",
       "    </tr>\n",
       "    <tr>\n",
       "      <th>5</th>\n",
       "      <td>7</td>\n",
       "      <td>0.846</td>\n",
       "      <td>23.769</td>\n",
       "      <td>12.034</td>\n",
       "    </tr>\n",
       "    <tr>\n",
       "      <th>6</th>\n",
       "      <td>8</td>\n",
       "      <td>0.972</td>\n",
       "      <td>23.798</td>\n",
       "      <td>12.067</td>\n",
       "    </tr>\n",
       "    <tr>\n",
       "      <th>7</th>\n",
       "      <td>9</td>\n",
       "      <td>0.956</td>\n",
       "      <td>23.859</td>\n",
       "      <td>12.051</td>\n",
       "    </tr>\n",
       "    <tr>\n",
       "      <th>8</th>\n",
       "      <td>10</td>\n",
       "      <td>0.861</td>\n",
       "      <td>23.585</td>\n",
       "      <td>11.846</td>\n",
       "    </tr>\n",
       "    <tr>\n",
       "      <th>9</th>\n",
       "      <td>11</td>\n",
       "      <td>0.904</td>\n",
       "      <td>23.808</td>\n",
       "      <td>12.057</td>\n",
       "    </tr>\n",
       "    <tr>\n",
       "      <th>10</th>\n",
       "      <td>12</td>\n",
       "      <td>1.037</td>\n",
       "      <td>23.788</td>\n",
       "      <td>12.064</td>\n",
       "    </tr>\n",
       "    <tr>\n",
       "      <th>11</th>\n",
       "      <td>13</td>\n",
       "      <td>0.832</td>\n",
       "      <td>23.715</td>\n",
       "      <td>11.778</td>\n",
       "    </tr>\n",
       "    <tr>\n",
       "      <th>12</th>\n",
       "      <td>14</td>\n",
       "      <td>0.699</td>\n",
       "      <td>23.390</td>\n",
       "      <td>11.568</td>\n",
       "    </tr>\n",
       "    <tr>\n",
       "      <th>13</th>\n",
       "      <td>15</td>\n",
       "      <td>0.774</td>\n",
       "      <td>23.602</td>\n",
       "      <td>11.769</td>\n",
       "    </tr>\n",
       "    <tr>\n",
       "      <th>14</th>\n",
       "      <td>16</td>\n",
       "      <td>0.155</td>\n",
       "      <td>22.662</td>\n",
       "      <td>11.195</td>\n",
       "    </tr>\n",
       "    <tr>\n",
       "      <th>15</th>\n",
       "      <td>17</td>\n",
       "      <td>1.087</td>\n",
       "      <td>23.943</td>\n",
       "      <td>12.293</td>\n",
       "    </tr>\n",
       "    <tr>\n",
       "      <th>16</th>\n",
       "      <td>18</td>\n",
       "      <td>0.565</td>\n",
       "      <td>23.314</td>\n",
       "      <td>11.603</td>\n",
       "    </tr>\n",
       "    <tr>\n",
       "      <th>17</th>\n",
       "      <td>19</td>\n",
       "      <td>0.964</td>\n",
       "      <td>23.699</td>\n",
       "      <td>11.904</td>\n",
       "    </tr>\n",
       "    <tr>\n",
       "      <th>18</th>\n",
       "      <td>20</td>\n",
       "      <td>0.302</td>\n",
       "      <td>22.608</td>\n",
       "      <td>10.954</td>\n",
       "    </tr>\n",
       "    <tr>\n",
       "      <th>19</th>\n",
       "      <td>21</td>\n",
       "      <td>0.521</td>\n",
       "      <td>23.213</td>\n",
       "      <td>11.525</td>\n",
       "    </tr>\n",
       "    <tr>\n",
       "      <th>20</th>\n",
       "      <td>22</td>\n",
       "      <td>1.043</td>\n",
       "      <td>23.979</td>\n",
       "      <td>12.104</td>\n",
       "    </tr>\n",
       "    <tr>\n",
       "      <th>21</th>\n",
       "      <td>24</td>\n",
       "      <td>0.436</td>\n",
       "      <td>23.070</td>\n",
       "      <td>11.292</td>\n",
       "    </tr>\n",
       "    <tr>\n",
       "      <th>22</th>\n",
       "      <td>25</td>\n",
       "      <td>0.751</td>\n",
       "      <td>23.288</td>\n",
       "      <td>11.738</td>\n",
       "    </tr>\n",
       "    <tr>\n",
       "      <th>23</th>\n",
       "      <td>26</td>\n",
       "      <td>0.469</td>\n",
       "      <td>22.909</td>\n",
       "      <td>11.319</td>\n",
       "    </tr>\n",
       "  </tbody>\n",
       "</table>\n",
       "</div>"
      ],
      "text/plain": [
       "    litter  t_winter  t_summer  t_annual\n",
       "0        1     0.669    23.375    11.700\n",
       "1        2     1.068    23.999    12.444\n",
       "2        3     1.015    23.804    12.093\n",
       "3        5     0.737    23.440    11.589\n",
       "4        6     0.900    23.800    12.057\n",
       "5        7     0.846    23.769    12.034\n",
       "6        8     0.972    23.798    12.067\n",
       "7        9     0.956    23.859    12.051\n",
       "8       10     0.861    23.585    11.846\n",
       "9       11     0.904    23.808    12.057\n",
       "10      12     1.037    23.788    12.064\n",
       "11      13     0.832    23.715    11.778\n",
       "12      14     0.699    23.390    11.568\n",
       "13      15     0.774    23.602    11.769\n",
       "14      16     0.155    22.662    11.195\n",
       "15      17     1.087    23.943    12.293\n",
       "16      18     0.565    23.314    11.603\n",
       "17      19     0.964    23.699    11.904\n",
       "18      20     0.302    22.608    10.954\n",
       "19      21     0.521    23.213    11.525\n",
       "20      22     1.043    23.979    12.104\n",
       "21      24     0.436    23.070    11.292\n",
       "22      25     0.751    23.288    11.738\n",
       "23      26     0.469    22.909    11.319"
      ]
     },
     "execution_count": 101,
     "metadata": {},
     "output_type": "execute_result"
    }
   ],
   "source": [
    "litter_copy_2 = litter.copy()\n",
    "# drop long and lat and rcp columns\n",
    "litter_copy_2 = litter_copy_2.drop(columns=['long', 'lat', 'rcp', 'year'], axis=1)\n",
    "\n",
    "# group by litter column\n",
    "litter_copy_2 = litter_copy_2.groupby('litter', as_index=False).agg({'t_winter': 'mean', \n",
    "                                     't_summer': 'mean', \n",
    "                                     't_annual': 'mean'})\n",
    "\n",
    "# round the columns\n",
    "litter_copy_2 = litter_copy_2.round({'t_winter': 3, 't_summer': 3, 't_annual': 3})\n",
    "\n",
    "litter_copy_2"
   ]
  },
  {
   "cell_type": "code",
   "execution_count": 102,
   "metadata": {},
   "outputs": [
    {
     "data": {
      "text/plain": [
       "array([ 1,  2,  3,  5,  6,  7,  8,  9, 10, 11, 12, 13, 14, 15, 16, 17, 18,\n",
       "       19, 20, 21, 22, 24, 25, 26])"
      ]
     },
     "execution_count": 102,
     "metadata": {},
     "output_type": "execute_result"
    }
   ],
   "source": [
    "litter_copy_2.litter.unique()"
   ]
  },
  {
   "cell_type": "code",
   "execution_count": 103,
   "metadata": {},
   "outputs": [
    {
     "data": {
      "application/vnd.plotly.v1+json": {
       "config": {
        "plotlyServerURL": "https://plot.ly"
       },
       "data": [
        {
         "hovertemplate": "Litter: %{x}<br>Annual Temperature: %{y:.3f}<extra></extra>",
         "legendgroup": "",
         "marker": {
          "color": "#A7C6DA",
          "symbol": "circle"
         },
         "mode": "markers",
         "name": "",
         "orientation": "v",
         "showlegend": false,
         "type": "scatter",
         "x": [
          1,
          2,
          3,
          5,
          6,
          7,
          8,
          9,
          10,
          11,
          12,
          13,
          14,
          15,
          16,
          17,
          18,
          19,
          20,
          21,
          22,
          24,
          25,
          26
         ],
         "xaxis": "x",
         "y": [
          11.7,
          12.444,
          12.093,
          11.589,
          12.057,
          12.034,
          12.067,
          12.051,
          11.846,
          12.057,
          12.064,
          11.778,
          11.568,
          11.769,
          11.195,
          12.293,
          11.603,
          11.904,
          10.954,
          11.525,
          12.104,
          11.292,
          11.738,
          11.319
         ],
         "yaxis": "y"
        },
        {
         "hovertemplate": "Regression Line<br>x: %{x}<br>y: %{y:.3f}<extra></extra>",
         "legendgroup": "",
         "marker": {
          "color": "#A7C6DA",
          "symbol": "circle"
         },
         "mode": "lines",
         "name": "",
         "showlegend": false,
         "type": "scatter",
         "x": [
          1,
          2,
          3,
          5,
          6,
          7,
          8,
          9,
          10,
          11,
          12,
          13,
          14,
          15,
          16,
          17,
          18,
          19,
          20,
          21,
          22,
          24,
          25,
          26
         ],
         "xaxis": "x",
         "y": [
          12.105268720748835,
          12.08032722308893,
          12.055385725429023,
          12.005502730109209,
          11.980561232449302,
          11.955619734789396,
          11.93067823712949,
          11.905736739469583,
          11.880795241809677,
          11.85585374414977,
          11.830912246489863,
          11.805970748829957,
          11.78102925117005,
          11.756087753510144,
          11.731146255850238,
          11.706204758190331,
          11.681263260530423,
          11.656321762870517,
          11.63138026521061,
          11.606438767550705,
          11.581497269890798,
          11.531614274570986,
          11.506672776911078,
          11.481731279251171
         ],
         "yaxis": "y"
        },
        {
         "line": {
          "color": "#CA68C8"
         },
         "mode": "lines",
         "name": "Trendline",
         "type": "scatter",
         "x": [
          1,
          2,
          3,
          5,
          6,
          7,
          8,
          9,
          10,
          11,
          12,
          13,
          14,
          15,
          16,
          17,
          18,
          19,
          20,
          21,
          22,
          24,
          25,
          26
         ],
         "y": [
          12.105268720748835,
          12.08032722308893,
          12.055385725429023,
          12.005502730109209,
          11.980561232449302,
          11.955619734789396,
          11.93067823712949,
          11.905736739469583,
          11.880795241809677,
          11.85585374414977,
          11.830912246489863,
          11.805970748829957,
          11.78102925117005,
          11.756087753510144,
          11.731146255850238,
          11.706204758190331,
          11.681263260530423,
          11.656321762870517,
          11.63138026521061,
          11.606438767550705,
          11.581497269890798,
          11.531614274570986,
          11.506672776911078,
          11.481731279251171
         ]
        }
       ],
       "layout": {
        "height": 600,
        "legend": {
         "tracegroupgap": 0
        },
        "plot_bgcolor": "white",
        "template": {
         "data": {
          "bar": [
           {
            "error_x": {
             "color": "#2a3f5f"
            },
            "error_y": {
             "color": "#2a3f5f"
            },
            "marker": {
             "line": {
              "color": "#E5ECF6",
              "width": 0.5
             },
             "pattern": {
              "fillmode": "overlay",
              "size": 10,
              "solidity": 0.2
             }
            },
            "type": "bar"
           }
          ],
          "barpolar": [
           {
            "marker": {
             "line": {
              "color": "#E5ECF6",
              "width": 0.5
             },
             "pattern": {
              "fillmode": "overlay",
              "size": 10,
              "solidity": 0.2
             }
            },
            "type": "barpolar"
           }
          ],
          "carpet": [
           {
            "aaxis": {
             "endlinecolor": "#2a3f5f",
             "gridcolor": "white",
             "linecolor": "white",
             "minorgridcolor": "white",
             "startlinecolor": "#2a3f5f"
            },
            "baxis": {
             "endlinecolor": "#2a3f5f",
             "gridcolor": "white",
             "linecolor": "white",
             "minorgridcolor": "white",
             "startlinecolor": "#2a3f5f"
            },
            "type": "carpet"
           }
          ],
          "choropleth": [
           {
            "colorbar": {
             "outlinewidth": 0,
             "ticks": ""
            },
            "type": "choropleth"
           }
          ],
          "contour": [
           {
            "colorbar": {
             "outlinewidth": 0,
             "ticks": ""
            },
            "colorscale": [
             [
              0,
              "#0d0887"
             ],
             [
              0.1111111111111111,
              "#46039f"
             ],
             [
              0.2222222222222222,
              "#7201a8"
             ],
             [
              0.3333333333333333,
              "#9c179e"
             ],
             [
              0.4444444444444444,
              "#bd3786"
             ],
             [
              0.5555555555555556,
              "#d8576b"
             ],
             [
              0.6666666666666666,
              "#ed7953"
             ],
             [
              0.7777777777777778,
              "#fb9f3a"
             ],
             [
              0.8888888888888888,
              "#fdca26"
             ],
             [
              1,
              "#f0f921"
             ]
            ],
            "type": "contour"
           }
          ],
          "contourcarpet": [
           {
            "colorbar": {
             "outlinewidth": 0,
             "ticks": ""
            },
            "type": "contourcarpet"
           }
          ],
          "heatmap": [
           {
            "colorbar": {
             "outlinewidth": 0,
             "ticks": ""
            },
            "colorscale": [
             [
              0,
              "#0d0887"
             ],
             [
              0.1111111111111111,
              "#46039f"
             ],
             [
              0.2222222222222222,
              "#7201a8"
             ],
             [
              0.3333333333333333,
              "#9c179e"
             ],
             [
              0.4444444444444444,
              "#bd3786"
             ],
             [
              0.5555555555555556,
              "#d8576b"
             ],
             [
              0.6666666666666666,
              "#ed7953"
             ],
             [
              0.7777777777777778,
              "#fb9f3a"
             ],
             [
              0.8888888888888888,
              "#fdca26"
             ],
             [
              1,
              "#f0f921"
             ]
            ],
            "type": "heatmap"
           }
          ],
          "heatmapgl": [
           {
            "colorbar": {
             "outlinewidth": 0,
             "ticks": ""
            },
            "colorscale": [
             [
              0,
              "#0d0887"
             ],
             [
              0.1111111111111111,
              "#46039f"
             ],
             [
              0.2222222222222222,
              "#7201a8"
             ],
             [
              0.3333333333333333,
              "#9c179e"
             ],
             [
              0.4444444444444444,
              "#bd3786"
             ],
             [
              0.5555555555555556,
              "#d8576b"
             ],
             [
              0.6666666666666666,
              "#ed7953"
             ],
             [
              0.7777777777777778,
              "#fb9f3a"
             ],
             [
              0.8888888888888888,
              "#fdca26"
             ],
             [
              1,
              "#f0f921"
             ]
            ],
            "type": "heatmapgl"
           }
          ],
          "histogram": [
           {
            "marker": {
             "pattern": {
              "fillmode": "overlay",
              "size": 10,
              "solidity": 0.2
             }
            },
            "type": "histogram"
           }
          ],
          "histogram2d": [
           {
            "colorbar": {
             "outlinewidth": 0,
             "ticks": ""
            },
            "colorscale": [
             [
              0,
              "#0d0887"
             ],
             [
              0.1111111111111111,
              "#46039f"
             ],
             [
              0.2222222222222222,
              "#7201a8"
             ],
             [
              0.3333333333333333,
              "#9c179e"
             ],
             [
              0.4444444444444444,
              "#bd3786"
             ],
             [
              0.5555555555555556,
              "#d8576b"
             ],
             [
              0.6666666666666666,
              "#ed7953"
             ],
             [
              0.7777777777777778,
              "#fb9f3a"
             ],
             [
              0.8888888888888888,
              "#fdca26"
             ],
             [
              1,
              "#f0f921"
             ]
            ],
            "type": "histogram2d"
           }
          ],
          "histogram2dcontour": [
           {
            "colorbar": {
             "outlinewidth": 0,
             "ticks": ""
            },
            "colorscale": [
             [
              0,
              "#0d0887"
             ],
             [
              0.1111111111111111,
              "#46039f"
             ],
             [
              0.2222222222222222,
              "#7201a8"
             ],
             [
              0.3333333333333333,
              "#9c179e"
             ],
             [
              0.4444444444444444,
              "#bd3786"
             ],
             [
              0.5555555555555556,
              "#d8576b"
             ],
             [
              0.6666666666666666,
              "#ed7953"
             ],
             [
              0.7777777777777778,
              "#fb9f3a"
             ],
             [
              0.8888888888888888,
              "#fdca26"
             ],
             [
              1,
              "#f0f921"
             ]
            ],
            "type": "histogram2dcontour"
           }
          ],
          "mesh3d": [
           {
            "colorbar": {
             "outlinewidth": 0,
             "ticks": ""
            },
            "type": "mesh3d"
           }
          ],
          "parcoords": [
           {
            "line": {
             "colorbar": {
              "outlinewidth": 0,
              "ticks": ""
             }
            },
            "type": "parcoords"
           }
          ],
          "pie": [
           {
            "automargin": true,
            "type": "pie"
           }
          ],
          "scatter": [
           {
            "fillpattern": {
             "fillmode": "overlay",
             "size": 10,
             "solidity": 0.2
            },
            "type": "scatter"
           }
          ],
          "scatter3d": [
           {
            "line": {
             "colorbar": {
              "outlinewidth": 0,
              "ticks": ""
             }
            },
            "marker": {
             "colorbar": {
              "outlinewidth": 0,
              "ticks": ""
             }
            },
            "type": "scatter3d"
           }
          ],
          "scattercarpet": [
           {
            "marker": {
             "colorbar": {
              "outlinewidth": 0,
              "ticks": ""
             }
            },
            "type": "scattercarpet"
           }
          ],
          "scattergeo": [
           {
            "marker": {
             "colorbar": {
              "outlinewidth": 0,
              "ticks": ""
             }
            },
            "type": "scattergeo"
           }
          ],
          "scattergl": [
           {
            "marker": {
             "colorbar": {
              "outlinewidth": 0,
              "ticks": ""
             }
            },
            "type": "scattergl"
           }
          ],
          "scattermapbox": [
           {
            "marker": {
             "colorbar": {
              "outlinewidth": 0,
              "ticks": ""
             }
            },
            "type": "scattermapbox"
           }
          ],
          "scatterpolar": [
           {
            "marker": {
             "colorbar": {
              "outlinewidth": 0,
              "ticks": ""
             }
            },
            "type": "scatterpolar"
           }
          ],
          "scatterpolargl": [
           {
            "marker": {
             "colorbar": {
              "outlinewidth": 0,
              "ticks": ""
             }
            },
            "type": "scatterpolargl"
           }
          ],
          "scatterternary": [
           {
            "marker": {
             "colorbar": {
              "outlinewidth": 0,
              "ticks": ""
             }
            },
            "type": "scatterternary"
           }
          ],
          "surface": [
           {
            "colorbar": {
             "outlinewidth": 0,
             "ticks": ""
            },
            "colorscale": [
             [
              0,
              "#0d0887"
             ],
             [
              0.1111111111111111,
              "#46039f"
             ],
             [
              0.2222222222222222,
              "#7201a8"
             ],
             [
              0.3333333333333333,
              "#9c179e"
             ],
             [
              0.4444444444444444,
              "#bd3786"
             ],
             [
              0.5555555555555556,
              "#d8576b"
             ],
             [
              0.6666666666666666,
              "#ed7953"
             ],
             [
              0.7777777777777778,
              "#fb9f3a"
             ],
             [
              0.8888888888888888,
              "#fdca26"
             ],
             [
              1,
              "#f0f921"
             ]
            ],
            "type": "surface"
           }
          ],
          "table": [
           {
            "cells": {
             "fill": {
              "color": "#EBF0F8"
             },
             "line": {
              "color": "white"
             }
            },
            "header": {
             "fill": {
              "color": "#C8D4E3"
             },
             "line": {
              "color": "white"
             }
            },
            "type": "table"
           }
          ]
         },
         "layout": {
          "annotationdefaults": {
           "arrowcolor": "#2a3f5f",
           "arrowhead": 0,
           "arrowwidth": 1
          },
          "autotypenumbers": "strict",
          "coloraxis": {
           "colorbar": {
            "outlinewidth": 0,
            "ticks": ""
           }
          },
          "colorscale": {
           "diverging": [
            [
             0,
             "#8e0152"
            ],
            [
             0.1,
             "#c51b7d"
            ],
            [
             0.2,
             "#de77ae"
            ],
            [
             0.3,
             "#f1b6da"
            ],
            [
             0.4,
             "#fde0ef"
            ],
            [
             0.5,
             "#f7f7f7"
            ],
            [
             0.6,
             "#e6f5d0"
            ],
            [
             0.7,
             "#b8e186"
            ],
            [
             0.8,
             "#7fbc41"
            ],
            [
             0.9,
             "#4d9221"
            ],
            [
             1,
             "#276419"
            ]
           ],
           "sequential": [
            [
             0,
             "#0d0887"
            ],
            [
             0.1111111111111111,
             "#46039f"
            ],
            [
             0.2222222222222222,
             "#7201a8"
            ],
            [
             0.3333333333333333,
             "#9c179e"
            ],
            [
             0.4444444444444444,
             "#bd3786"
            ],
            [
             0.5555555555555556,
             "#d8576b"
            ],
            [
             0.6666666666666666,
             "#ed7953"
            ],
            [
             0.7777777777777778,
             "#fb9f3a"
            ],
            [
             0.8888888888888888,
             "#fdca26"
            ],
            [
             1,
             "#f0f921"
            ]
           ],
           "sequentialminus": [
            [
             0,
             "#0d0887"
            ],
            [
             0.1111111111111111,
             "#46039f"
            ],
            [
             0.2222222222222222,
             "#7201a8"
            ],
            [
             0.3333333333333333,
             "#9c179e"
            ],
            [
             0.4444444444444444,
             "#bd3786"
            ],
            [
             0.5555555555555556,
             "#d8576b"
            ],
            [
             0.6666666666666666,
             "#ed7953"
            ],
            [
             0.7777777777777778,
             "#fb9f3a"
            ],
            [
             0.8888888888888888,
             "#fdca26"
            ],
            [
             1,
             "#f0f921"
            ]
           ]
          },
          "colorway": [
           "#636efa",
           "#EF553B",
           "#00cc96",
           "#ab63fa",
           "#FFA15A",
           "#19d3f3",
           "#FF6692",
           "#B6E880",
           "#FF97FF",
           "#FECB52"
          ],
          "font": {
           "color": "#2a3f5f"
          },
          "geo": {
           "bgcolor": "white",
           "lakecolor": "white",
           "landcolor": "#E5ECF6",
           "showlakes": true,
           "showland": true,
           "subunitcolor": "white"
          },
          "hoverlabel": {
           "align": "left"
          },
          "hovermode": "closest",
          "mapbox": {
           "style": "light"
          },
          "paper_bgcolor": "white",
          "plot_bgcolor": "#E5ECF6",
          "polar": {
           "angularaxis": {
            "gridcolor": "white",
            "linecolor": "white",
            "ticks": ""
           },
           "bgcolor": "#E5ECF6",
           "radialaxis": {
            "gridcolor": "white",
            "linecolor": "white",
            "ticks": ""
           }
          },
          "scene": {
           "xaxis": {
            "backgroundcolor": "#E5ECF6",
            "gridcolor": "white",
            "gridwidth": 2,
            "linecolor": "white",
            "showbackground": true,
            "ticks": "",
            "zerolinecolor": "white"
           },
           "yaxis": {
            "backgroundcolor": "#E5ECF6",
            "gridcolor": "white",
            "gridwidth": 2,
            "linecolor": "white",
            "showbackground": true,
            "ticks": "",
            "zerolinecolor": "white"
           },
           "zaxis": {
            "backgroundcolor": "#E5ECF6",
            "gridcolor": "white",
            "gridwidth": 2,
            "linecolor": "white",
            "showbackground": true,
            "ticks": "",
            "zerolinecolor": "white"
           }
          },
          "shapedefaults": {
           "line": {
            "color": "#2a3f5f"
           }
          },
          "ternary": {
           "aaxis": {
            "gridcolor": "white",
            "linecolor": "white",
            "ticks": ""
           },
           "baxis": {
            "gridcolor": "white",
            "linecolor": "white",
            "ticks": ""
           },
           "bgcolor": "#E5ECF6",
           "caxis": {
            "gridcolor": "white",
            "linecolor": "white",
            "ticks": ""
           }
          },
          "title": {
           "x": 0.05
          },
          "xaxis": {
           "automargin": true,
           "gridcolor": "white",
           "linecolor": "white",
           "ticks": "",
           "title": {
            "standoff": 15
           },
           "zerolinecolor": "white",
           "zerolinewidth": 2
          },
          "yaxis": {
           "automargin": true,
           "gridcolor": "white",
           "linecolor": "white",
           "ticks": "",
           "title": {
            "standoff": 15
           },
           "zerolinecolor": "white",
           "zerolinewidth": 2
          }
         }
        },
        "title": {
         "text": "Relationship between Annual Temperature and Litter"
        },
        "width": 1100,
        "xaxis": {
         "anchor": "y",
         "domain": [
          0,
          1
         ],
         "linecolor": "black",
         "showline": true,
         "title": {
          "text": "Litter"
         }
        },
        "yaxis": {
         "anchor": "x",
         "domain": [
          0,
          1
         ],
         "linecolor": "black",
         "showline": true,
         "title": {
          "text": "Annual Temperature"
         }
        }
       }
      }
     },
     "metadata": {},
     "output_type": "display_data"
    }
   ],
   "source": [
    "fig = px.scatter(litter_copy_2, x='litter', y='t_annual', trendline = 'ols', title='Relationship between Annual Temperature and Litter',color_discrete_sequence=['#A7C6DA'])\n",
    "\n",
    "regression_line = fig.data[1]\n",
    "\n",
    "fig.add_trace(go.Scatter(x=regression_line.x, y=regression_line.y, mode='lines', name='Trendline', line = dict(color='#CA68C8')))\n",
    "\n",
    "fig.update_layout(\n",
    "    plot_bgcolor='white',\n",
    "    xaxis_title='Litter',\n",
    "    yaxis_title='Annual Temperature',\n",
    "    width=1100, \n",
    "    height=600,\n",
    "    xaxis=dict(\n",
    "        showline=True,   \n",
    "        linecolor='black'\n",
    "    ),\n",
    "    yaxis=dict(\n",
    "        showline=True, \n",
    "        linecolor='black'\n",
    "    )\n",
    ")\n",
    "\n",
    "fig.data[0].update(\n",
    "    hovertemplate='Litter: %{x}<br>Annual Temperature: %{y:.3f}<extra></extra>'\n",
    ")\n",
    "\n",
    "fig.data[1].update(\n",
    "    hovertemplate='Regression Line<br>x: %{x}<br>y: %{y:.3f}<extra></extra>'\n",
    ")\n",
    "\n",
    "fig.show()"
   ]
  },
  {
   "cell_type": "markdown",
   "metadata": {},
   "source": [
    "### Write up\n",
    "\n",
    "\n",
    "\n"
   ]
  },
  {
   "cell_type": "markdown",
   "metadata": {},
   "source": [
    "### VWC dataset"
   ]
  },
  {
   "cell_type": "code",
   "execution_count": 104,
   "metadata": {},
   "outputs": [
    {
     "data": {
      "text/html": [
       "<div>\n",
       "<style scoped>\n",
       "    .dataframe tbody tr th:only-of-type {\n",
       "        vertical-align: middle;\n",
       "    }\n",
       "\n",
       "    .dataframe tbody tr th {\n",
       "        vertical-align: top;\n",
       "    }\n",
       "\n",
       "    .dataframe thead th {\n",
       "        text-align: right;\n",
       "    }\n",
       "</style>\n",
       "<table border=\"1\" class=\"dataframe\">\n",
       "  <thead>\n",
       "    <tr style=\"text-align: right;\">\n",
       "      <th></th>\n",
       "      <th>long</th>\n",
       "      <th>lat</th>\n",
       "      <th>year</th>\n",
       "      <th>rcp</th>\n",
       "      <th>evap_summer</th>\n",
       "      <th>vwc_winter_whole</th>\n",
       "      <th>vwc_spring_whole</th>\n",
       "      <th>vwc_summer_whole</th>\n",
       "      <th>vwc_fall_whole</th>\n",
       "    </tr>\n",
       "  </thead>\n",
       "  <tbody>\n",
       "    <tr>\n",
       "      <th>0</th>\n",
       "      <td>-110.0472</td>\n",
       "      <td>37.60413</td>\n",
       "      <td>1980</td>\n",
       "      <td>historical</td>\n",
       "      <td>NaN</td>\n",
       "      <td>0.128169</td>\n",
       "      <td>0.112395</td>\n",
       "      <td>0.069182</td>\n",
       "      <td>0.095330</td>\n",
       "    </tr>\n",
       "    <tr>\n",
       "      <th>1</th>\n",
       "      <td>-110.0472</td>\n",
       "      <td>37.60413</td>\n",
       "      <td>1980</td>\n",
       "      <td>historical</td>\n",
       "      <td>NaN</td>\n",
       "      <td>0.128169</td>\n",
       "      <td>0.112395</td>\n",
       "      <td>0.069182</td>\n",
       "      <td>0.095330</td>\n",
       "    </tr>\n",
       "    <tr>\n",
       "      <th>2</th>\n",
       "      <td>-110.0472</td>\n",
       "      <td>37.60413</td>\n",
       "      <td>1980</td>\n",
       "      <td>historical</td>\n",
       "      <td>NaN</td>\n",
       "      <td>0.128169</td>\n",
       "      <td>0.112395</td>\n",
       "      <td>0.069182</td>\n",
       "      <td>0.095330</td>\n",
       "    </tr>\n",
       "    <tr>\n",
       "      <th>3</th>\n",
       "      <td>-110.0472</td>\n",
       "      <td>37.60413</td>\n",
       "      <td>1980</td>\n",
       "      <td>historical</td>\n",
       "      <td>NaN</td>\n",
       "      <td>0.128169</td>\n",
       "      <td>0.112395</td>\n",
       "      <td>0.069182</td>\n",
       "      <td>0.095330</td>\n",
       "    </tr>\n",
       "    <tr>\n",
       "      <th>4</th>\n",
       "      <td>-110.0472</td>\n",
       "      <td>37.60413</td>\n",
       "      <td>1980</td>\n",
       "      <td>historical</td>\n",
       "      <td>1.559807</td>\n",
       "      <td>0.113447</td>\n",
       "      <td>0.096831</td>\n",
       "      <td>0.041876</td>\n",
       "      <td>0.052298</td>\n",
       "    </tr>\n",
       "  </tbody>\n",
       "</table>\n",
       "</div>"
      ],
      "text/plain": [
       "       long       lat  year         rcp  evap_summer  vwc_winter_whole  \\\n",
       "0 -110.0472  37.60413  1980  historical          NaN          0.128169   \n",
       "1 -110.0472  37.60413  1980  historical          NaN          0.128169   \n",
       "2 -110.0472  37.60413  1980  historical          NaN          0.128169   \n",
       "3 -110.0472  37.60413  1980  historical          NaN          0.128169   \n",
       "4 -110.0472  37.60413  1980  historical     1.559807          0.113447   \n",
       "\n",
       "   vwc_spring_whole  vwc_summer_whole  vwc_fall_whole  \n",
       "0          0.112395          0.069182        0.095330  \n",
       "1          0.112395          0.069182        0.095330  \n",
       "2          0.112395          0.069182        0.095330  \n",
       "3          0.112395          0.069182        0.095330  \n",
       "4          0.096831          0.041876        0.052298  "
      ]
     },
     "execution_count": 104,
     "metadata": {},
     "output_type": "execute_result"
    }
   ],
   "source": [
    "# load the data\n",
    "vwc = pd.read_csv('./data/cleaned_data/vwc_data.csv')\n",
    "vwc.head()"
   ]
  },
  {
   "cell_type": "code",
   "execution_count": 105,
   "metadata": {},
   "outputs": [],
   "source": [
    "# further data cleaning\n",
    "vwc_melt = pd.melt(vwc, id_vars=['long', 'lat', 'year', 'rcp'], value_vars=['vwc_winter_whole', 'vwc_spring_whole', 'vwc_summer_whole', 'vwc_fall_whole'], var_name='season', value_name='vwc')\n",
    "vwc_grouped = vwc_melt.groupby(['year', 'rcp', 'season']).agg({'vwc': 'mean'}).reset_index()\n",
    "vwc_grouped = vwc_grouped.round({'vwc': 3})\n",
    "vwc_grouped['rcp'] = vwc_grouped['rcp'].astype('str')\n",
    "vwc_grouped.head()\n",
    "vwc_grouped.to_csv('./data/cleaned_data/vwc_grouped.csv', index=False)"
   ]
  },
  {
   "cell_type": "code",
   "execution_count": 106,
   "metadata": {},
   "outputs": [
    {
     "data": {
      "text/html": [
       "<div>\n",
       "<style scoped>\n",
       "    .dataframe tbody tr th:only-of-type {\n",
       "        vertical-align: middle;\n",
       "    }\n",
       "\n",
       "    .dataframe tbody tr th {\n",
       "        vertical-align: top;\n",
       "    }\n",
       "\n",
       "    .dataframe thead th {\n",
       "        text-align: right;\n",
       "    }\n",
       "</style>\n",
       "<table border=\"1\" class=\"dataframe\">\n",
       "  <thead>\n",
       "    <tr style=\"text-align: right;\">\n",
       "      <th></th>\n",
       "      <th>year</th>\n",
       "      <th>rcp</th>\n",
       "      <th>season</th>\n",
       "      <th>vwc</th>\n",
       "    </tr>\n",
       "  </thead>\n",
       "  <tbody>\n",
       "    <tr>\n",
       "      <th>0</th>\n",
       "      <td>1980</td>\n",
       "      <td>historical</td>\n",
       "      <td>vwc_fall_whole</td>\n",
       "      <td>0.090</td>\n",
       "    </tr>\n",
       "    <tr>\n",
       "      <th>1</th>\n",
       "      <td>1980</td>\n",
       "      <td>historical</td>\n",
       "      <td>vwc_spring_whole</td>\n",
       "      <td>0.120</td>\n",
       "    </tr>\n",
       "    <tr>\n",
       "      <th>2</th>\n",
       "      <td>1980</td>\n",
       "      <td>historical</td>\n",
       "      <td>vwc_summer_whole</td>\n",
       "      <td>0.069</td>\n",
       "    </tr>\n",
       "    <tr>\n",
       "      <th>3</th>\n",
       "      <td>1980</td>\n",
       "      <td>historical</td>\n",
       "      <td>vwc_winter_whole</td>\n",
       "      <td>0.131</td>\n",
       "    </tr>\n",
       "    <tr>\n",
       "      <th>4</th>\n",
       "      <td>1981</td>\n",
       "      <td>historical</td>\n",
       "      <td>vwc_fall_whole</td>\n",
       "      <td>0.102</td>\n",
       "    </tr>\n",
       "    <tr>\n",
       "      <th>...</th>\n",
       "      <td>...</td>\n",
       "      <td>...</td>\n",
       "      <td>...</td>\n",
       "      <td>...</td>\n",
       "    </tr>\n",
       "    <tr>\n",
       "      <th>215</th>\n",
       "      <td>2024</td>\n",
       "      <td>4.5</td>\n",
       "      <td>vwc_winter_whole</td>\n",
       "      <td>0.130</td>\n",
       "    </tr>\n",
       "    <tr>\n",
       "      <th>216</th>\n",
       "      <td>2024</td>\n",
       "      <td>8.5</td>\n",
       "      <td>vwc_fall_whole</td>\n",
       "      <td>0.096</td>\n",
       "    </tr>\n",
       "    <tr>\n",
       "      <th>217</th>\n",
       "      <td>2024</td>\n",
       "      <td>8.5</td>\n",
       "      <td>vwc_spring_whole</td>\n",
       "      <td>0.111</td>\n",
       "    </tr>\n",
       "    <tr>\n",
       "      <th>218</th>\n",
       "      <td>2024</td>\n",
       "      <td>8.5</td>\n",
       "      <td>vwc_summer_whole</td>\n",
       "      <td>0.068</td>\n",
       "    </tr>\n",
       "    <tr>\n",
       "      <th>219</th>\n",
       "      <td>2024</td>\n",
       "      <td>8.5</td>\n",
       "      <td>vwc_winter_whole</td>\n",
       "      <td>0.129</td>\n",
       "    </tr>\n",
       "  </tbody>\n",
       "</table>\n",
       "<p>220 rows × 4 columns</p>\n",
       "</div>"
      ],
      "text/plain": [
       "     year         rcp            season    vwc\n",
       "0    1980  historical    vwc_fall_whole  0.090\n",
       "1    1980  historical  vwc_spring_whole  0.120\n",
       "2    1980  historical  vwc_summer_whole  0.069\n",
       "3    1980  historical  vwc_winter_whole  0.131\n",
       "4    1981  historical    vwc_fall_whole  0.102\n",
       "..    ...         ...               ...    ...\n",
       "215  2024         4.5  vwc_winter_whole  0.130\n",
       "216  2024         8.5    vwc_fall_whole  0.096\n",
       "217  2024         8.5  vwc_spring_whole  0.111\n",
       "218  2024         8.5  vwc_summer_whole  0.068\n",
       "219  2024         8.5  vwc_winter_whole  0.129\n",
       "\n",
       "[220 rows x 4 columns]"
      ]
     },
     "execution_count": 106,
     "metadata": {},
     "output_type": "execute_result"
    }
   ],
   "source": [
    "vwc_grouped"
   ]
  },
  {
   "cell_type": "code",
   "execution_count": 107,
   "metadata": {},
   "outputs": [
    {
     "data": {
      "text/html": [
       "<div>\n",
       "<style scoped>\n",
       "    .dataframe tbody tr th:only-of-type {\n",
       "        vertical-align: middle;\n",
       "    }\n",
       "\n",
       "    .dataframe tbody tr th {\n",
       "        vertical-align: top;\n",
       "    }\n",
       "\n",
       "    .dataframe thead th {\n",
       "        text-align: right;\n",
       "    }\n",
       "</style>\n",
       "<table border=\"1\" class=\"dataframe\">\n",
       "  <thead>\n",
       "    <tr style=\"text-align: right;\">\n",
       "      <th></th>\n",
       "      <th>season</th>\n",
       "      <th>rcp</th>\n",
       "      <th>vwc</th>\n",
       "    </tr>\n",
       "  </thead>\n",
       "  <tbody>\n",
       "    <tr>\n",
       "      <th>0</th>\n",
       "      <td>vwc_fall_whole</td>\n",
       "      <td>4.5</td>\n",
       "      <td>0.099125</td>\n",
       "    </tr>\n",
       "    <tr>\n",
       "      <th>1</th>\n",
       "      <td>vwc_fall_whole</td>\n",
       "      <td>8.5</td>\n",
       "      <td>0.099000</td>\n",
       "    </tr>\n",
       "    <tr>\n",
       "      <th>2</th>\n",
       "      <td>vwc_fall_whole</td>\n",
       "      <td>historical</td>\n",
       "      <td>0.094897</td>\n",
       "    </tr>\n",
       "    <tr>\n",
       "      <th>3</th>\n",
       "      <td>vwc_spring_whole</td>\n",
       "      <td>4.5</td>\n",
       "      <td>0.118875</td>\n",
       "    </tr>\n",
       "    <tr>\n",
       "      <th>4</th>\n",
       "      <td>vwc_spring_whole</td>\n",
       "      <td>8.5</td>\n",
       "      <td>0.119875</td>\n",
       "    </tr>\n",
       "    <tr>\n",
       "      <th>5</th>\n",
       "      <td>vwc_spring_whole</td>\n",
       "      <td>historical</td>\n",
       "      <td>0.111282</td>\n",
       "    </tr>\n",
       "    <tr>\n",
       "      <th>6</th>\n",
       "      <td>vwc_summer_whole</td>\n",
       "      <td>4.5</td>\n",
       "      <td>0.073125</td>\n",
       "    </tr>\n",
       "    <tr>\n",
       "      <th>7</th>\n",
       "      <td>vwc_summer_whole</td>\n",
       "      <td>8.5</td>\n",
       "      <td>0.073250</td>\n",
       "    </tr>\n",
       "    <tr>\n",
       "      <th>8</th>\n",
       "      <td>vwc_summer_whole</td>\n",
       "      <td>historical</td>\n",
       "      <td>0.068872</td>\n",
       "    </tr>\n",
       "    <tr>\n",
       "      <th>9</th>\n",
       "      <td>vwc_winter_whole</td>\n",
       "      <td>4.5</td>\n",
       "      <td>0.132625</td>\n",
       "    </tr>\n",
       "    <tr>\n",
       "      <th>10</th>\n",
       "      <td>vwc_winter_whole</td>\n",
       "      <td>8.5</td>\n",
       "      <td>0.133375</td>\n",
       "    </tr>\n",
       "    <tr>\n",
       "      <th>11</th>\n",
       "      <td>vwc_winter_whole</td>\n",
       "      <td>historical</td>\n",
       "      <td>0.125179</td>\n",
       "    </tr>\n",
       "  </tbody>\n",
       "</table>\n",
       "</div>"
      ],
      "text/plain": [
       "              season         rcp       vwc\n",
       "0     vwc_fall_whole         4.5  0.099125\n",
       "1     vwc_fall_whole         8.5  0.099000\n",
       "2     vwc_fall_whole  historical  0.094897\n",
       "3   vwc_spring_whole         4.5  0.118875\n",
       "4   vwc_spring_whole         8.5  0.119875\n",
       "5   vwc_spring_whole  historical  0.111282\n",
       "6   vwc_summer_whole         4.5  0.073125\n",
       "7   vwc_summer_whole         8.5  0.073250\n",
       "8   vwc_summer_whole  historical  0.068872\n",
       "9   vwc_winter_whole         4.5  0.132625\n",
       "10  vwc_winter_whole         8.5  0.133375\n",
       "11  vwc_winter_whole  historical  0.125179"
      ]
     },
     "execution_count": 107,
     "metadata": {},
     "output_type": "execute_result"
    }
   ],
   "source": [
    "# group by season and get the mean of the columns\n",
    "vwc_copy = vwc_grouped.copy()\n",
    "\n",
    "vwc_copy = vwc_copy.groupby(['season', 'rcp'], as_index=False).agg({'vwc': 'mean'}).reset_index(drop=True)\n",
    "vwc_copy"
   ]
  },
  {
   "cell_type": "code",
   "execution_count": 108,
   "metadata": {},
   "outputs": [
    {
     "data": {
      "image/png": "[encoded data removed]",
      "text/plain": [
       "<Figure size 1000x600 with 1 Axes>"
      ]
     },
     "metadata": {},
     "output_type": "display_data"
    }
   ],
   "source": [
    "colors = [\"#EED21B\", \"#CA68C8\", \"#A7C6DA\"] \n",
    "sns.set_palette(sns.color_palette(colors))\n",
    "\n",
    "plt.figure(figsize=(10, 6))\n",
    "ax = sns.barplot(data=vwc_grouped, x=\"vwc\", y=\"season\", hue=\"rcp\", orient=\"h\", errorbar=None)\n",
    "\n",
    "plt.xlabel(\"Volumetric Water Content (VWC)\")\n",
    "plt.ylabel(\"Season\")\n",
    "plt.title(\"Volumetric Water Content (VWC) by Season\")\n",
    "\n",
    "ax.set_yticklabels([\"Fall\", \"Spring\", \"Summer\", \"Winter\"])\n",
    "\n",
    "plt.show()"
   ]
  },
  {
   "cell_type": "markdown",
   "metadata": {},
   "source": [
    "### Write up\n",
    "\n",
    "\n",
    "\n",
    "\n"
   ]
  },
  {
   "cell_type": "markdown",
   "metadata": {},
   "source": [
    "### Summer dataset\n",
    "\n",
    "#### First Visualization"
   ]
  },
  {
   "cell_type": "code",
   "execution_count": 109,
   "metadata": {},
   "outputs": [
    {
     "data": {
      "text/html": [
       "<div>\n",
       "<style scoped>\n",
       "    .dataframe tbody tr th:only-of-type {\n",
       "        vertical-align: middle;\n",
       "    }\n",
       "\n",
       "    .dataframe tbody tr th {\n",
       "        vertical-align: top;\n",
       "    }\n",
       "\n",
       "    .dataframe thead th {\n",
       "        text-align: right;\n",
       "    }\n",
       "</style>\n",
       "<table border=\"1\" class=\"dataframe\">\n",
       "  <thead>\n",
       "    <tr style=\"text-align: right;\">\n",
       "      <th></th>\n",
       "      <th>year</th>\n",
       "      <th>drysoildays_summer_whole</th>\n",
       "      <th>evap_summer</th>\n",
       "      <th>nondryswa_summer_whole</th>\n",
       "      <th>ppt_summer</th>\n",
       "      <th>tmax_summer</th>\n",
       "      <th>vwc_summer_whole</th>\n",
       "    </tr>\n",
       "  </thead>\n",
       "  <tbody>\n",
       "    <tr>\n",
       "      <th>0</th>\n",
       "      <td>1980</td>\n",
       "      <td>7.856</td>\n",
       "      <td>2.877</td>\n",
       "      <td>0.272</td>\n",
       "      <td>3.993</td>\n",
       "      <td>36.822</td>\n",
       "      <td>0.067</td>\n",
       "    </tr>\n",
       "    <tr>\n",
       "      <th>1</th>\n",
       "      <td>1981</td>\n",
       "      <td>6.881</td>\n",
       "      <td>4.098</td>\n",
       "      <td>0.213</td>\n",
       "      <td>9.247</td>\n",
       "      <td>37.152</td>\n",
       "      <td>0.066</td>\n",
       "    </tr>\n",
       "    <tr>\n",
       "      <th>2</th>\n",
       "      <td>1982</td>\n",
       "      <td>7.139</td>\n",
       "      <td>3.790</td>\n",
       "      <td>0.298</td>\n",
       "      <td>9.448</td>\n",
       "      <td>36.545</td>\n",
       "      <td>0.070</td>\n",
       "    </tr>\n",
       "    <tr>\n",
       "      <th>3</th>\n",
       "      <td>1983</td>\n",
       "      <td>6.440</td>\n",
       "      <td>4.050</td>\n",
       "      <td>0.311</td>\n",
       "      <td>10.045</td>\n",
       "      <td>34.954</td>\n",
       "      <td>0.071</td>\n",
       "    </tr>\n",
       "    <tr>\n",
       "      <th>4</th>\n",
       "      <td>1984</td>\n",
       "      <td>6.792</td>\n",
       "      <td>4.044</td>\n",
       "      <td>0.246</td>\n",
       "      <td>9.134</td>\n",
       "      <td>35.494</td>\n",
       "      <td>0.068</td>\n",
       "    </tr>\n",
       "    <tr>\n",
       "      <th>5</th>\n",
       "      <td>1985</td>\n",
       "      <td>7.147</td>\n",
       "      <td>3.006</td>\n",
       "      <td>0.276</td>\n",
       "      <td>5.723</td>\n",
       "      <td>37.114</td>\n",
       "      <td>0.068</td>\n",
       "    </tr>\n",
       "    <tr>\n",
       "      <th>6</th>\n",
       "      <td>1986</td>\n",
       "      <td>7.016</td>\n",
       "      <td>3.852</td>\n",
       "      <td>0.264</td>\n",
       "      <td>9.585</td>\n",
       "      <td>35.409</td>\n",
       "      <td>0.069</td>\n",
       "    </tr>\n",
       "    <tr>\n",
       "      <th>7</th>\n",
       "      <td>1987</td>\n",
       "      <td>6.688</td>\n",
       "      <td>3.763</td>\n",
       "      <td>0.349</td>\n",
       "      <td>10.672</td>\n",
       "      <td>34.729</td>\n",
       "      <td>0.073</td>\n",
       "    </tr>\n",
       "    <tr>\n",
       "      <th>8</th>\n",
       "      <td>1988</td>\n",
       "      <td>7.156</td>\n",
       "      <td>3.832</td>\n",
       "      <td>0.244</td>\n",
       "      <td>8.564</td>\n",
       "      <td>35.757</td>\n",
       "      <td>0.068</td>\n",
       "    </tr>\n",
       "    <tr>\n",
       "      <th>9</th>\n",
       "      <td>1989</td>\n",
       "      <td>7.207</td>\n",
       "      <td>3.401</td>\n",
       "      <td>0.236</td>\n",
       "      <td>7.221</td>\n",
       "      <td>37.561</td>\n",
       "      <td>0.067</td>\n",
       "    </tr>\n",
       "    <tr>\n",
       "      <th>10</th>\n",
       "      <td>1990</td>\n",
       "      <td>9.056</td>\n",
       "      <td>3.350</td>\n",
       "      <td>0.199</td>\n",
       "      <td>6.210</td>\n",
       "      <td>36.871</td>\n",
       "      <td>0.066</td>\n",
       "    </tr>\n",
       "    <tr>\n",
       "      <th>11</th>\n",
       "      <td>1991</td>\n",
       "      <td>7.429</td>\n",
       "      <td>3.661</td>\n",
       "      <td>0.229</td>\n",
       "      <td>7.097</td>\n",
       "      <td>34.994</td>\n",
       "      <td>0.067</td>\n",
       "    </tr>\n",
       "    <tr>\n",
       "      <th>12</th>\n",
       "      <td>1992</td>\n",
       "      <td>7.146</td>\n",
       "      <td>3.598</td>\n",
       "      <td>0.267</td>\n",
       "      <td>6.621</td>\n",
       "      <td>34.891</td>\n",
       "      <td>0.068</td>\n",
       "    </tr>\n",
       "    <tr>\n",
       "      <th>13</th>\n",
       "      <td>1993</td>\n",
       "      <td>7.466</td>\n",
       "      <td>3.164</td>\n",
       "      <td>0.288</td>\n",
       "      <td>6.607</td>\n",
       "      <td>35.286</td>\n",
       "      <td>0.068</td>\n",
       "    </tr>\n",
       "    <tr>\n",
       "      <th>14</th>\n",
       "      <td>1994</td>\n",
       "      <td>8.152</td>\n",
       "      <td>3.039</td>\n",
       "      <td>0.208</td>\n",
       "      <td>4.194</td>\n",
       "      <td>36.889</td>\n",
       "      <td>0.065</td>\n",
       "    </tr>\n",
       "    <tr>\n",
       "      <th>15</th>\n",
       "      <td>1995</td>\n",
       "      <td>7.144</td>\n",
       "      <td>3.756</td>\n",
       "      <td>0.269</td>\n",
       "      <td>7.396</td>\n",
       "      <td>36.894</td>\n",
       "      <td>0.069</td>\n",
       "    </tr>\n",
       "    <tr>\n",
       "      <th>16</th>\n",
       "      <td>1996</td>\n",
       "      <td>9.688</td>\n",
       "      <td>3.432</td>\n",
       "      <td>0.196</td>\n",
       "      <td>5.956</td>\n",
       "      <td>36.121</td>\n",
       "      <td>0.065</td>\n",
       "    </tr>\n",
       "    <tr>\n",
       "      <th>17</th>\n",
       "      <td>1997</td>\n",
       "      <td>6.510</td>\n",
       "      <td>3.577</td>\n",
       "      <td>0.353</td>\n",
       "      <td>8.723</td>\n",
       "      <td>35.692</td>\n",
       "      <td>0.073</td>\n",
       "    </tr>\n",
       "    <tr>\n",
       "      <th>18</th>\n",
       "      <td>1998</td>\n",
       "      <td>7.269</td>\n",
       "      <td>3.411</td>\n",
       "      <td>0.248</td>\n",
       "      <td>6.644</td>\n",
       "      <td>36.812</td>\n",
       "      <td>0.068</td>\n",
       "    </tr>\n",
       "    <tr>\n",
       "      <th>19</th>\n",
       "      <td>1999</td>\n",
       "      <td>6.300</td>\n",
       "      <td>4.344</td>\n",
       "      <td>0.378</td>\n",
       "      <td>13.096</td>\n",
       "      <td>34.791</td>\n",
       "      <td>0.075</td>\n",
       "    </tr>\n",
       "    <tr>\n",
       "      <th>20</th>\n",
       "      <td>2000</td>\n",
       "      <td>8.289</td>\n",
       "      <td>3.363</td>\n",
       "      <td>0.195</td>\n",
       "      <td>5.916</td>\n",
       "      <td>36.631</td>\n",
       "      <td>0.065</td>\n",
       "    </tr>\n",
       "    <tr>\n",
       "      <th>21</th>\n",
       "      <td>2001</td>\n",
       "      <td>6.645</td>\n",
       "      <td>3.703</td>\n",
       "      <td>0.261</td>\n",
       "      <td>8.295</td>\n",
       "      <td>36.113</td>\n",
       "      <td>0.068</td>\n",
       "    </tr>\n",
       "    <tr>\n",
       "      <th>22</th>\n",
       "      <td>2002</td>\n",
       "      <td>9.407</td>\n",
       "      <td>3.114</td>\n",
       "      <td>0.207</td>\n",
       "      <td>4.497</td>\n",
       "      <td>36.810</td>\n",
       "      <td>0.065</td>\n",
       "    </tr>\n",
       "    <tr>\n",
       "      <th>23</th>\n",
       "      <td>2003</td>\n",
       "      <td>7.487</td>\n",
       "      <td>3.396</td>\n",
       "      <td>0.221</td>\n",
       "      <td>6.551</td>\n",
       "      <td>37.388</td>\n",
       "      <td>0.066</td>\n",
       "    </tr>\n",
       "    <tr>\n",
       "      <th>24</th>\n",
       "      <td>2004</td>\n",
       "      <td>8.287</td>\n",
       "      <td>3.002</td>\n",
       "      <td>0.213</td>\n",
       "      <td>4.280</td>\n",
       "      <td>35.514</td>\n",
       "      <td>0.066</td>\n",
       "    </tr>\n",
       "    <tr>\n",
       "      <th>25</th>\n",
       "      <td>2005</td>\n",
       "      <td>6.622</td>\n",
       "      <td>3.627</td>\n",
       "      <td>0.306</td>\n",
       "      <td>8.206</td>\n",
       "      <td>37.602</td>\n",
       "      <td>0.070</td>\n",
       "    </tr>\n",
       "    <tr>\n",
       "      <th>26</th>\n",
       "      <td>2006</td>\n",
       "      <td>7.426</td>\n",
       "      <td>3.701</td>\n",
       "      <td>0.224</td>\n",
       "      <td>7.717</td>\n",
       "      <td>36.668</td>\n",
       "      <td>0.067</td>\n",
       "    </tr>\n",
       "    <tr>\n",
       "      <th>27</th>\n",
       "      <td>2007</td>\n",
       "      <td>7.296</td>\n",
       "      <td>3.574</td>\n",
       "      <td>0.235</td>\n",
       "      <td>7.818</td>\n",
       "      <td>36.208</td>\n",
       "      <td>0.067</td>\n",
       "    </tr>\n",
       "    <tr>\n",
       "      <th>28</th>\n",
       "      <td>2008</td>\n",
       "      <td>6.973</td>\n",
       "      <td>3.451</td>\n",
       "      <td>0.258</td>\n",
       "      <td>7.233</td>\n",
       "      <td>35.489</td>\n",
       "      <td>0.068</td>\n",
       "    </tr>\n",
       "    <tr>\n",
       "      <th>29</th>\n",
       "      <td>2009</td>\n",
       "      <td>7.811</td>\n",
       "      <td>2.978</td>\n",
       "      <td>0.207</td>\n",
       "      <td>4.256</td>\n",
       "      <td>36.230</td>\n",
       "      <td>0.065</td>\n",
       "    </tr>\n",
       "    <tr>\n",
       "      <th>30</th>\n",
       "      <td>2010</td>\n",
       "      <td>6.570</td>\n",
       "      <td>3.750</td>\n",
       "      <td>0.380</td>\n",
       "      <td>9.824</td>\n",
       "      <td>37.225</td>\n",
       "      <td>0.075</td>\n",
       "    </tr>\n",
       "    <tr>\n",
       "      <th>31</th>\n",
       "      <td>2011</td>\n",
       "      <td>7.531</td>\n",
       "      <td>3.615</td>\n",
       "      <td>0.207</td>\n",
       "      <td>6.448</td>\n",
       "      <td>35.941</td>\n",
       "      <td>0.066</td>\n",
       "    </tr>\n",
       "    <tr>\n",
       "      <th>32</th>\n",
       "      <td>2012</td>\n",
       "      <td>7.607</td>\n",
       "      <td>3.294</td>\n",
       "      <td>0.249</td>\n",
       "      <td>7.166</td>\n",
       "      <td>35.829</td>\n",
       "      <td>0.068</td>\n",
       "    </tr>\n",
       "    <tr>\n",
       "      <th>33</th>\n",
       "      <td>2013</td>\n",
       "      <td>7.828</td>\n",
       "      <td>3.330</td>\n",
       "      <td>0.265</td>\n",
       "      <td>8.211</td>\n",
       "      <td>37.787</td>\n",
       "      <td>0.069</td>\n",
       "    </tr>\n",
       "    <tr>\n",
       "      <th>34</th>\n",
       "      <td>2014</td>\n",
       "      <td>7.047</td>\n",
       "      <td>3.465</td>\n",
       "      <td>0.260</td>\n",
       "      <td>7.403</td>\n",
       "      <td>35.954</td>\n",
       "      <td>0.068</td>\n",
       "    </tr>\n",
       "    <tr>\n",
       "      <th>35</th>\n",
       "      <td>2015</td>\n",
       "      <td>5.915</td>\n",
       "      <td>4.148</td>\n",
       "      <td>0.329</td>\n",
       "      <td>11.490</td>\n",
       "      <td>36.254</td>\n",
       "      <td>0.073</td>\n",
       "    </tr>\n",
       "    <tr>\n",
       "      <th>36</th>\n",
       "      <td>2016</td>\n",
       "      <td>7.012</td>\n",
       "      <td>3.527</td>\n",
       "      <td>0.261</td>\n",
       "      <td>7.564</td>\n",
       "      <td>37.340</td>\n",
       "      <td>0.069</td>\n",
       "    </tr>\n",
       "    <tr>\n",
       "      <th>37</th>\n",
       "      <td>2017</td>\n",
       "      <td>7.067</td>\n",
       "      <td>3.364</td>\n",
       "      <td>0.225</td>\n",
       "      <td>6.995</td>\n",
       "      <td>37.062</td>\n",
       "      <td>0.067</td>\n",
       "    </tr>\n",
       "    <tr>\n",
       "      <th>38</th>\n",
       "      <td>2018</td>\n",
       "      <td>9.188</td>\n",
       "      <td>3.013</td>\n",
       "      <td>0.204</td>\n",
       "      <td>5.608</td>\n",
       "      <td>35.847</td>\n",
       "      <td>0.065</td>\n",
       "    </tr>\n",
       "    <tr>\n",
       "      <th>39</th>\n",
       "      <td>2021</td>\n",
       "      <td>7.325</td>\n",
       "      <td>3.467</td>\n",
       "      <td>0.280</td>\n",
       "      <td>7.452</td>\n",
       "      <td>36.934</td>\n",
       "      <td>0.069</td>\n",
       "    </tr>\n",
       "    <tr>\n",
       "      <th>40</th>\n",
       "      <td>2022</td>\n",
       "      <td>7.423</td>\n",
       "      <td>3.392</td>\n",
       "      <td>0.270</td>\n",
       "      <td>7.103</td>\n",
       "      <td>37.530</td>\n",
       "      <td>0.068</td>\n",
       "    </tr>\n",
       "    <tr>\n",
       "      <th>41</th>\n",
       "      <td>2023</td>\n",
       "      <td>7.213</td>\n",
       "      <td>3.535</td>\n",
       "      <td>0.317</td>\n",
       "      <td>8.171</td>\n",
       "      <td>37.196</td>\n",
       "      <td>0.071</td>\n",
       "    </tr>\n",
       "    <tr>\n",
       "      <th>42</th>\n",
       "      <td>2024</td>\n",
       "      <td>7.487</td>\n",
       "      <td>3.310</td>\n",
       "      <td>0.299</td>\n",
       "      <td>6.994</td>\n",
       "      <td>37.584</td>\n",
       "      <td>0.070</td>\n",
       "    </tr>\n",
       "  </tbody>\n",
       "</table>\n",
       "</div>"
      ],
      "text/plain": [
       "    year  drysoildays_summer_whole  evap_summer  nondryswa_summer_whole  \\\n",
       "0   1980                     7.856        2.877                   0.272   \n",
       "1   1981                     6.881        4.098                   0.213   \n",
       "2   1982                     7.139        3.790                   0.298   \n",
       "3   1983                     6.440        4.050                   0.311   \n",
       "4   1984                     6.792        4.044                   0.246   \n",
       "5   1985                     7.147        3.006                   0.276   \n",
       "6   1986                     7.016        3.852                   0.264   \n",
       "7   1987                     6.688        3.763                   0.349   \n",
       "8   1988                     7.156        3.832                   0.244   \n",
       "9   1989                     7.207        3.401                   0.236   \n",
       "10  1990                     9.056        3.350                   0.199   \n",
       "11  1991                     7.429        3.661                   0.229   \n",
       "12  1992                     7.146        3.598                   0.267   \n",
       "13  1993                     7.466        3.164                   0.288   \n",
       "14  1994                     8.152        3.039                   0.208   \n",
       "15  1995                     7.144        3.756                   0.269   \n",
       "16  1996                     9.688        3.432                   0.196   \n",
       "17  1997                     6.510        3.577                   0.353   \n",
       "18  1998                     7.269        3.411                   0.248   \n",
       "19  1999                     6.300        4.344                   0.378   \n",
       "20  2000                     8.289        3.363                   0.195   \n",
       "21  2001                     6.645        3.703                   0.261   \n",
       "22  2002                     9.407        3.114                   0.207   \n",
       "23  2003                     7.487        3.396                   0.221   \n",
       "24  2004                     8.287        3.002                   0.213   \n",
       "25  2005                     6.622        3.627                   0.306   \n",
       "26  2006                     7.426        3.701                   0.224   \n",
       "27  2007                     7.296        3.574                   0.235   \n",
       "28  2008                     6.973        3.451                   0.258   \n",
       "29  2009                     7.811        2.978                   0.207   \n",
       "30  2010                     6.570        3.750                   0.380   \n",
       "31  2011                     7.531        3.615                   0.207   \n",
       "32  2012                     7.607        3.294                   0.249   \n",
       "33  2013                     7.828        3.330                   0.265   \n",
       "34  2014                     7.047        3.465                   0.260   \n",
       "35  2015                     5.915        4.148                   0.329   \n",
       "36  2016                     7.012        3.527                   0.261   \n",
       "37  2017                     7.067        3.364                   0.225   \n",
       "38  2018                     9.188        3.013                   0.204   \n",
       "39  2021                     7.325        3.467                   0.280   \n",
       "40  2022                     7.423        3.392                   0.270   \n",
       "41  2023                     7.213        3.535                   0.317   \n",
       "42  2024                     7.487        3.310                   0.299   \n",
       "\n",
       "    ppt_summer  tmax_summer  vwc_summer_whole  \n",
       "0        3.993       36.822             0.067  \n",
       "1        9.247       37.152             0.066  \n",
       "2        9.448       36.545             0.070  \n",
       "3       10.045       34.954             0.071  \n",
       "4        9.134       35.494             0.068  \n",
       "5        5.723       37.114             0.068  \n",
       "6        9.585       35.409             0.069  \n",
       "7       10.672       34.729             0.073  \n",
       "8        8.564       35.757             0.068  \n",
       "9        7.221       37.561             0.067  \n",
       "10       6.210       36.871             0.066  \n",
       "11       7.097       34.994             0.067  \n",
       "12       6.621       34.891             0.068  \n",
       "13       6.607       35.286             0.068  \n",
       "14       4.194       36.889             0.065  \n",
       "15       7.396       36.894             0.069  \n",
       "16       5.956       36.121             0.065  \n",
       "17       8.723       35.692             0.073  \n",
       "18       6.644       36.812             0.068  \n",
       "19      13.096       34.791             0.075  \n",
       "20       5.916       36.631             0.065  \n",
       "21       8.295       36.113             0.068  \n",
       "22       4.497       36.810             0.065  \n",
       "23       6.551       37.388             0.066  \n",
       "24       4.280       35.514             0.066  \n",
       "25       8.206       37.602             0.070  \n",
       "26       7.717       36.668             0.067  \n",
       "27       7.818       36.208             0.067  \n",
       "28       7.233       35.489             0.068  \n",
       "29       4.256       36.230             0.065  \n",
       "30       9.824       37.225             0.075  \n",
       "31       6.448       35.941             0.066  \n",
       "32       7.166       35.829             0.068  \n",
       "33       8.211       37.787             0.069  \n",
       "34       7.403       35.954             0.068  \n",
       "35      11.490       36.254             0.073  \n",
       "36       7.564       37.340             0.069  \n",
       "37       6.995       37.062             0.067  \n",
       "38       5.608       35.847             0.065  \n",
       "39       7.452       36.934             0.069  \n",
       "40       7.103       37.530             0.068  \n",
       "41       8.171       37.196             0.071  \n",
       "42       6.994       37.584             0.070  "
      ]
     },
     "execution_count": 109,
     "metadata": {},
     "output_type": "execute_result"
    }
   ],
   "source": [
    "# load the data\n",
    "summer = pd.read_csv('./data/cleaned_data/summer_data.csv')\n",
    "\n",
    "# further data processing\n",
    "summer_copy = summer.copy()\n",
    "summer_copy = summer.drop(['long', 'lat', 'rcp'], axis=1)\n",
    "\n",
    "summer_copy = summer_copy.groupby(['year']).mean().reset_index()\n",
    "\n",
    "# convert the year column to string type\n",
    "summer_copy['year'] = summer_copy['year'].astype('str')\n",
    "\n",
    "# round the columns\n",
    "summer_copy = summer_copy.round({'drysoildays_summer_whole': 3, 'evap_summer': 3, 'nondryswa_summer_whole': 3, 'ppt_summer': 3, 'tmax_summer': 3, 'vwc_summer_whole': 3})\n",
    "\n",
    "# rename the columns\n",
    "# summer_copy.rename(columns={\n",
    "#     'year': 'Year',\n",
    "#     'drysoildays_summer_whole': 'Count of Days with Dry Soil (< -3.9MPa)',\n",
    "#     'evap_summer': 'Evaporation',\n",
    "#     'nondryswa_summer_whole': 'Non-Dry Soil Water Availability (> -3.9MPa)(cm)',\n",
    "#     'ppt_summer': 'Precipitation',\n",
    "#     'tmax_summer': 'Maximum Temperature',\n",
    "#     'vwc_summer_whole': 'Volumetric Water Content'\n",
    "# }, inplace=True)\n",
    "\n",
    "summer_copy.to_csv('./data/cleaned_data/summer_data_2.csv', index=True)\n",
    "summer_copy"
   ]
  },
  {
   "cell_type": "code",
   "execution_count": 110,
   "metadata": {},
   "outputs": [
    {
     "data": {
      "image/png": "[encoded data removed]",
      "text/plain": [
       "<Figure size 1000x800 with 2 Axes>"
      ]
     },
     "metadata": {},
     "output_type": "display_data"
    }
   ],
   "source": [
    "# plot a correlation matrix\n",
    "plt.figure(figsize=(10, 8))\n",
    "sns.heatmap(summer_copy.corr(), annot=True, cmap=sns.color_palette([\"#89937C\", \"#C1AE9F\", \"#D3BDB0\"], as_cmap=True), annot_kws={'size': 10, 'color': 'black'}, fmt='.3f')\n",
    "plt.title('Correlation Matrix of the Indicators in Summer', fontsize=15, color='#36454F')\n",
    "plt.xticks(rotation=60, ha='right', fontsize=12, color='#36454F')\n",
    "plt.yticks(rotation=0, fontsize=12, color='#36454F')\n",
    "plt.show()"
   ]
  },
  {
   "cell_type": "code",
   "execution_count": 123,
   "metadata": {},
   "outputs": [
    {
     "data": {
      "text/html": [
       "<div>\n",
       "<style scoped>\n",
       "    .dataframe tbody tr th:only-of-type {\n",
       "        vertical-align: middle;\n",
       "    }\n",
       "\n",
       "    .dataframe tbody tr th {\n",
       "        vertical-align: top;\n",
       "    }\n",
       "\n",
       "    .dataframe thead th {\n",
       "        text-align: right;\n",
       "    }\n",
       "</style>\n",
       "<table border=\"1\" class=\"dataframe\">\n",
       "  <thead>\n",
       "    <tr style=\"text-align: right;\">\n",
       "      <th></th>\n",
       "      <th>year</th>\n",
       "      <th>drysoildays_summer_whole</th>\n",
       "      <th>evap_summer</th>\n",
       "      <th>ppt_summer</th>\n",
       "    </tr>\n",
       "  </thead>\n",
       "  <tbody>\n",
       "    <tr>\n",
       "      <th>0</th>\n",
       "      <td>1980</td>\n",
       "      <td>0.514445</td>\n",
       "      <td>0.000000</td>\n",
       "      <td>0.000000</td>\n",
       "    </tr>\n",
       "    <tr>\n",
       "      <th>1</th>\n",
       "      <td>1981</td>\n",
       "      <td>0.256030</td>\n",
       "      <td>0.832311</td>\n",
       "      <td>0.577172</td>\n",
       "    </tr>\n",
       "    <tr>\n",
       "      <th>2</th>\n",
       "      <td>1982</td>\n",
       "      <td>0.324410</td>\n",
       "      <td>0.622359</td>\n",
       "      <td>0.599253</td>\n",
       "    </tr>\n",
       "    <tr>\n",
       "      <th>3</th>\n",
       "      <td>1983</td>\n",
       "      <td>0.139147</td>\n",
       "      <td>0.799591</td>\n",
       "      <td>0.664836</td>\n",
       "    </tr>\n",
       "    <tr>\n",
       "      <th>4</th>\n",
       "      <td>1984</td>\n",
       "      <td>0.232441</td>\n",
       "      <td>0.795501</td>\n",
       "      <td>0.564759</td>\n",
       "    </tr>\n",
       "    <tr>\n",
       "      <th>5</th>\n",
       "      <td>1985</td>\n",
       "      <td>0.326531</td>\n",
       "      <td>0.087935</td>\n",
       "      <td>0.190047</td>\n",
       "    </tr>\n",
       "    <tr>\n",
       "      <th>6</th>\n",
       "      <td>1986</td>\n",
       "      <td>0.291810</td>\n",
       "      <td>0.664622</td>\n",
       "      <td>0.614303</td>\n",
       "    </tr>\n",
       "    <tr>\n",
       "      <th>7</th>\n",
       "      <td>1987</td>\n",
       "      <td>0.204877</td>\n",
       "      <td>0.603954</td>\n",
       "      <td>0.733714</td>\n",
       "    </tr>\n",
       "    <tr>\n",
       "      <th>8</th>\n",
       "      <td>1988</td>\n",
       "      <td>0.328916</td>\n",
       "      <td>0.650988</td>\n",
       "      <td>0.502142</td>\n",
       "    </tr>\n",
       "    <tr>\n",
       "      <th>9</th>\n",
       "      <td>1989</td>\n",
       "      <td>0.342433</td>\n",
       "      <td>0.357192</td>\n",
       "      <td>0.354608</td>\n",
       "    </tr>\n",
       "    <tr>\n",
       "      <th>10</th>\n",
       "      <td>1990</td>\n",
       "      <td>0.832494</td>\n",
       "      <td>0.322427</td>\n",
       "      <td>0.243546</td>\n",
       "    </tr>\n",
       "    <tr>\n",
       "      <th>11</th>\n",
       "      <td>1991</td>\n",
       "      <td>0.401272</td>\n",
       "      <td>0.534424</td>\n",
       "      <td>0.340986</td>\n",
       "    </tr>\n",
       "    <tr>\n",
       "      <th>12</th>\n",
       "      <td>1992</td>\n",
       "      <td>0.326266</td>\n",
       "      <td>0.491479</td>\n",
       "      <td>0.288696</td>\n",
       "    </tr>\n",
       "    <tr>\n",
       "      <th>13</th>\n",
       "      <td>1993</td>\n",
       "      <td>0.411079</td>\n",
       "      <td>0.195637</td>\n",
       "      <td>0.287158</td>\n",
       "    </tr>\n",
       "    <tr>\n",
       "      <th>14</th>\n",
       "      <td>1994</td>\n",
       "      <td>0.592897</td>\n",
       "      <td>0.110429</td>\n",
       "      <td>0.022081</td>\n",
       "    </tr>\n",
       "    <tr>\n",
       "      <th>15</th>\n",
       "      <td>1995</td>\n",
       "      <td>0.325735</td>\n",
       "      <td>0.599182</td>\n",
       "      <td>0.373833</td>\n",
       "    </tr>\n",
       "    <tr>\n",
       "      <th>16</th>\n",
       "      <td>1996</td>\n",
       "      <td>1.000000</td>\n",
       "      <td>0.378323</td>\n",
       "      <td>0.215643</td>\n",
       "    </tr>\n",
       "    <tr>\n",
       "      <th>17</th>\n",
       "      <td>1997</td>\n",
       "      <td>0.157699</td>\n",
       "      <td>0.477164</td>\n",
       "      <td>0.519609</td>\n",
       "    </tr>\n",
       "    <tr>\n",
       "      <th>18</th>\n",
       "      <td>1998</td>\n",
       "      <td>0.358866</td>\n",
       "      <td>0.364008</td>\n",
       "      <td>0.291223</td>\n",
       "    </tr>\n",
       "    <tr>\n",
       "      <th>19</th>\n",
       "      <td>1999</td>\n",
       "      <td>0.102041</td>\n",
       "      <td>1.000000</td>\n",
       "      <td>1.000000</td>\n",
       "    </tr>\n",
       "    <tr>\n",
       "      <th>20</th>\n",
       "      <td>2000</td>\n",
       "      <td>0.629208</td>\n",
       "      <td>0.331288</td>\n",
       "      <td>0.211249</td>\n",
       "    </tr>\n",
       "    <tr>\n",
       "      <th>21</th>\n",
       "      <td>2001</td>\n",
       "      <td>0.193480</td>\n",
       "      <td>0.563054</td>\n",
       "      <td>0.472591</td>\n",
       "    </tr>\n",
       "    <tr>\n",
       "      <th>22</th>\n",
       "      <td>2002</td>\n",
       "      <td>0.925523</td>\n",
       "      <td>0.161554</td>\n",
       "      <td>0.055366</td>\n",
       "    </tr>\n",
       "    <tr>\n",
       "      <th>23</th>\n",
       "      <td>2003</td>\n",
       "      <td>0.416645</td>\n",
       "      <td>0.353783</td>\n",
       "      <td>0.281006</td>\n",
       "    </tr>\n",
       "    <tr>\n",
       "      <th>24</th>\n",
       "      <td>2004</td>\n",
       "      <td>0.628677</td>\n",
       "      <td>0.085208</td>\n",
       "      <td>0.031528</td>\n",
       "    </tr>\n",
       "    <tr>\n",
       "      <th>25</th>\n",
       "      <td>2005</td>\n",
       "      <td>0.187384</td>\n",
       "      <td>0.511247</td>\n",
       "      <td>0.462814</td>\n",
       "    </tr>\n",
       "    <tr>\n",
       "      <th>26</th>\n",
       "      <td>2006</td>\n",
       "      <td>0.400477</td>\n",
       "      <td>0.561691</td>\n",
       "      <td>0.409096</td>\n",
       "    </tr>\n",
       "    <tr>\n",
       "      <th>27</th>\n",
       "      <td>2007</td>\n",
       "      <td>0.366022</td>\n",
       "      <td>0.475119</td>\n",
       "      <td>0.420191</td>\n",
       "    </tr>\n",
       "    <tr>\n",
       "      <th>28</th>\n",
       "      <td>2008</td>\n",
       "      <td>0.280413</td>\n",
       "      <td>0.391275</td>\n",
       "      <td>0.355927</td>\n",
       "    </tr>\n",
       "    <tr>\n",
       "      <th>29</th>\n",
       "      <td>2009</td>\n",
       "      <td>0.502518</td>\n",
       "      <td>0.068848</td>\n",
       "      <td>0.028892</td>\n",
       "    </tr>\n",
       "    <tr>\n",
       "      <th>30</th>\n",
       "      <td>2010</td>\n",
       "      <td>0.173602</td>\n",
       "      <td>0.595092</td>\n",
       "      <td>0.640558</td>\n",
       "    </tr>\n",
       "    <tr>\n",
       "      <th>31</th>\n",
       "      <td>2011</td>\n",
       "      <td>0.428306</td>\n",
       "      <td>0.503067</td>\n",
       "      <td>0.269691</td>\n",
       "    </tr>\n",
       "    <tr>\n",
       "      <th>32</th>\n",
       "      <td>2012</td>\n",
       "      <td>0.448450</td>\n",
       "      <td>0.284254</td>\n",
       "      <td>0.348566</td>\n",
       "    </tr>\n",
       "    <tr>\n",
       "      <th>33</th>\n",
       "      <td>2013</td>\n",
       "      <td>0.507024</td>\n",
       "      <td>0.308793</td>\n",
       "      <td>0.463364</td>\n",
       "    </tr>\n",
       "    <tr>\n",
       "      <th>34</th>\n",
       "      <td>2014</td>\n",
       "      <td>0.300027</td>\n",
       "      <td>0.400818</td>\n",
       "      <td>0.374602</td>\n",
       "    </tr>\n",
       "    <tr>\n",
       "      <th>35</th>\n",
       "      <td>2015</td>\n",
       "      <td>0.000000</td>\n",
       "      <td>0.866394</td>\n",
       "      <td>0.823575</td>\n",
       "    </tr>\n",
       "    <tr>\n",
       "      <th>36</th>\n",
       "      <td>2016</td>\n",
       "      <td>0.290750</td>\n",
       "      <td>0.443081</td>\n",
       "      <td>0.392288</td>\n",
       "    </tr>\n",
       "    <tr>\n",
       "      <th>37</th>\n",
       "      <td>2017</td>\n",
       "      <td>0.305327</td>\n",
       "      <td>0.331970</td>\n",
       "      <td>0.329781</td>\n",
       "    </tr>\n",
       "    <tr>\n",
       "      <th>38</th>\n",
       "      <td>2018</td>\n",
       "      <td>0.867479</td>\n",
       "      <td>0.092706</td>\n",
       "      <td>0.177414</td>\n",
       "    </tr>\n",
       "    <tr>\n",
       "      <th>39</th>\n",
       "      <td>2021</td>\n",
       "      <td>0.373708</td>\n",
       "      <td>0.402181</td>\n",
       "      <td>0.379985</td>\n",
       "    </tr>\n",
       "    <tr>\n",
       "      <th>40</th>\n",
       "      <td>2022</td>\n",
       "      <td>0.399682</td>\n",
       "      <td>0.351057</td>\n",
       "      <td>0.341646</td>\n",
       "    </tr>\n",
       "    <tr>\n",
       "      <th>41</th>\n",
       "      <td>2023</td>\n",
       "      <td>0.344023</td>\n",
       "      <td>0.448534</td>\n",
       "      <td>0.458970</td>\n",
       "    </tr>\n",
       "    <tr>\n",
       "      <th>42</th>\n",
       "      <td>2024</td>\n",
       "      <td>0.416645</td>\n",
       "      <td>0.295160</td>\n",
       "      <td>0.329672</td>\n",
       "    </tr>\n",
       "  </tbody>\n",
       "</table>\n",
       "</div>"
      ],
      "text/plain": [
       "    year  drysoildays_summer_whole  evap_summer  ppt_summer\n",
       "0   1980                  0.514445     0.000000    0.000000\n",
       "1   1981                  0.256030     0.832311    0.577172\n",
       "2   1982                  0.324410     0.622359    0.599253\n",
       "3   1983                  0.139147     0.799591    0.664836\n",
       "4   1984                  0.232441     0.795501    0.564759\n",
       "5   1985                  0.326531     0.087935    0.190047\n",
       "6   1986                  0.291810     0.664622    0.614303\n",
       "7   1987                  0.204877     0.603954    0.733714\n",
       "8   1988                  0.328916     0.650988    0.502142\n",
       "9   1989                  0.342433     0.357192    0.354608\n",
       "10  1990                  0.832494     0.322427    0.243546\n",
       "11  1991                  0.401272     0.534424    0.340986\n",
       "12  1992                  0.326266     0.491479    0.288696\n",
       "13  1993                  0.411079     0.195637    0.287158\n",
       "14  1994                  0.592897     0.110429    0.022081\n",
       "15  1995                  0.325735     0.599182    0.373833\n",
       "16  1996                  1.000000     0.378323    0.215643\n",
       "17  1997                  0.157699     0.477164    0.519609\n",
       "18  1998                  0.358866     0.364008    0.291223\n",
       "19  1999                  0.102041     1.000000    1.000000\n",
       "20  2000                  0.629208     0.331288    0.211249\n",
       "21  2001                  0.193480     0.563054    0.472591\n",
       "22  2002                  0.925523     0.161554    0.055366\n",
       "23  2003                  0.416645     0.353783    0.281006\n",
       "24  2004                  0.628677     0.085208    0.031528\n",
       "25  2005                  0.187384     0.511247    0.462814\n",
       "26  2006                  0.400477     0.561691    0.409096\n",
       "27  2007                  0.366022     0.475119    0.420191\n",
       "28  2008                  0.280413     0.391275    0.355927\n",
       "29  2009                  0.502518     0.068848    0.028892\n",
       "30  2010                  0.173602     0.595092    0.640558\n",
       "31  2011                  0.428306     0.503067    0.269691\n",
       "32  2012                  0.448450     0.284254    0.348566\n",
       "33  2013                  0.507024     0.308793    0.463364\n",
       "34  2014                  0.300027     0.400818    0.374602\n",
       "35  2015                  0.000000     0.866394    0.823575\n",
       "36  2016                  0.290750     0.443081    0.392288\n",
       "37  2017                  0.305327     0.331970    0.329781\n",
       "38  2018                  0.867479     0.092706    0.177414\n",
       "39  2021                  0.373708     0.402181    0.379985\n",
       "40  2022                  0.399682     0.351057    0.341646\n",
       "41  2023                  0.344023     0.448534    0.458970\n",
       "42  2024                  0.416645     0.295160    0.329672"
      ]
     },
     "execution_count": 123,
     "metadata": {},
     "output_type": "execute_result"
    }
   ],
   "source": [
    "summer_indicators = summer_copy.copy()\n",
    "# drop the unnecessary columns\n",
    "summer_indicators = summer_indicators.drop(columns=['nondryswa_summer_whole', 'tmax_summer', 'vwc_summer_whole'], axis=1)\n",
    "\n",
    "# normalize the data\n",
    "scaler2 = MinMaxScaler()\n",
    "normalize_columns = ['drysoildays_summer_whole', 'evap_summer', 'ppt_summer']\n",
    "summer_indicators = summer_indicators.copy()\n",
    "summer_indicators[normalize_columns] = scaler2.fit_transform(summer_indicators[normalize_columns])\n",
    "summer_indicators"
   ]
  },
  {
   "cell_type": "code",
   "execution_count": 125,
   "metadata": {},
   "outputs": [
    {
     "data": {
      "application/vnd.plotly.v1+json": {
       "config": {
        "plotlyServerURL": "https://plot.ly"
       },
       "data": [
        {
         "hovertext": [
          "1980",
          "1981",
          "1982",
          "1983",
          "1984",
          "1985",
          "1986",
          "1987",
          "1988",
          "1989",
          "1990",
          "1991",
          "1992",
          "1993",
          "1994",
          "1995",
          "1996",
          "1997",
          "1998",
          "1999",
          "2000",
          "2001",
          "2002",
          "2003",
          "2004",
          "2005",
          "2006",
          "2007",
          "2008",
          "2009",
          "2010",
          "2011",
          "2012",
          "2013",
          "2014",
          "2015",
          "2016",
          "2017",
          "2018",
          "2021",
          "2022",
          "2023",
          "2024"
         ],
         "legendgroup": "drysoildays_summer_whole",
         "line": {
          "color": "#EED21B",
          "dash": "solid"
         },
         "marker": {
          "symbol": "circle"
         },
         "mode": "markers+lines",
         "name": "Days of Dry Soil (< -3.9 MPa)",
         "orientation": "v",
         "showlegend": true,
         "type": "scatter",
         "x": [
          "1980",
          "1981",
          "1982",
          "1983",
          "1984",
          "1985",
          "1986",
          "1987",
          "1988",
          "1989",
          "1990",
          "1991",
          "1992",
          "1993",
          "1994",
          "1995",
          "1996",
          "1997",
          "1998",
          "1999",
          "2000",
          "2001",
          "2002",
          "2003",
          "2004",
          "2005",
          "2006",
          "2007",
          "2008",
          "2009",
          "2010",
          "2011",
          "2012",
          "2013",
          "2014",
          "2015",
          "2016",
          "2017",
          "2018",
          "2021",
          "2022",
          "2023",
          "2024"
         ],
         "xaxis": "x",
         "y": [
          0.5144447389345346,
          0.2560296846011132,
          0.32441028359395707,
          0.13914656771799638,
          0.23244102835939562,
          0.3265306122448979,
          0.2918102305857406,
          0.2048767558971638,
          0.3289159819772063,
          0.3424330771269546,
          0.8324940365756688,
          0.4012721971905644,
          0.3262655711635303,
          0.41107871720116607,
          0.5928968990193475,
          0.3257354890007951,
          1,
          0.1576994434137291,
          0.3588656241717465,
          0.1020408163265305,
          0.6292075271667108,
          0.19347998939835653,
          0.9255234561357009,
          0.4166445799098859,
          0.6286774450039756,
          0.1873840445269015,
          0.4004770739464616,
          0.36602173336867216,
          0.28041346408693335,
          0.5025178902729923,
          0.1736019082957858,
          0.4283063874900608,
          0.44844950967399955,
          0.5070235886562418,
          0.3000265041081367,
          0,
          0.2907500662602702,
          0.30532732573548893,
          0.8674794593161939,
          0.3737079247283328,
          0.3996819507023588,
          0.3440233236151602,
          0.4166445799098859
         ],
         "yaxis": "y"
        },
        {
         "hovertext": [
          "1980",
          "1981",
          "1982",
          "1983",
          "1984",
          "1985",
          "1986",
          "1987",
          "1988",
          "1989",
          "1990",
          "1991",
          "1992",
          "1993",
          "1994",
          "1995",
          "1996",
          "1997",
          "1998",
          "1999",
          "2000",
          "2001",
          "2002",
          "2003",
          "2004",
          "2005",
          "2006",
          "2007",
          "2008",
          "2009",
          "2010",
          "2011",
          "2012",
          "2013",
          "2014",
          "2015",
          "2016",
          "2017",
          "2018",
          "2021",
          "2022",
          "2023",
          "2024"
         ],
         "legendgroup": "evap_summer",
         "line": {
          "color": "#CA68C8",
          "dash": "solid"
         },
         "marker": {
          "symbol": "circle"
         },
         "mode": "markers+lines",
         "name": "Evaporation",
         "orientation": "v",
         "showlegend": true,
         "type": "scatter",
         "x": [
          "1980",
          "1981",
          "1982",
          "1983",
          "1984",
          "1985",
          "1986",
          "1987",
          "1988",
          "1989",
          "1990",
          "1991",
          "1992",
          "1993",
          "1994",
          "1995",
          "1996",
          "1997",
          "1998",
          "1999",
          "2000",
          "2001",
          "2002",
          "2003",
          "2004",
          "2005",
          "2006",
          "2007",
          "2008",
          "2009",
          "2010",
          "2011",
          "2012",
          "2013",
          "2014",
          "2015",
          "2016",
          "2017",
          "2018",
          "2021",
          "2022",
          "2023",
          "2024"
         ],
         "xaxis": "x",
         "y": [
          0,
          0.8323108384458076,
          0.6223585548738924,
          0.7995910020449895,
          0.7955010224948871,
          0.0879345603271986,
          0.6646216768916156,
          0.6039536468984323,
          0.6509884117246081,
          0.3571915473755962,
          0.3224267211997276,
          0.5344239945466942,
          0.4914792092706204,
          0.195637355146558,
          0.11042944785276099,
          0.5991820040899793,
          0.37832310838445826,
          0.4771642808452623,
          0.3640081799591002,
          1,
          0.3312883435582825,
          0.5630538513974095,
          0.1615541922290391,
          0.35378323108384446,
          0.08520790729379701,
          0.5112474437627812,
          0.5616905248807091,
          0.47511929107021134,
          0.39127471029311556,
          0.0688479890933884,
          0.5950920245398774,
          0.5030674846625769,
          0.2842535787321063,
          0.3087934560327201,
          0.40081799591002065,
          0.8663940013633264,
          0.44308111792774385,
          0.3319700068166327,
          0.09270620313565114,
          0.40218132242672144,
          0.3510565780504433,
          0.448534423994547,
          0.29516019086571266
         ],
         "yaxis": "y"
        },
        {
         "hovertext": [
          "1980",
          "1981",
          "1982",
          "1983",
          "1984",
          "1985",
          "1986",
          "1987",
          "1988",
          "1989",
          "1990",
          "1991",
          "1992",
          "1993",
          "1994",
          "1995",
          "1996",
          "1997",
          "1998",
          "1999",
          "2000",
          "2001",
          "2002",
          "2003",
          "2004",
          "2005",
          "2006",
          "2007",
          "2008",
          "2009",
          "2010",
          "2011",
          "2012",
          "2013",
          "2014",
          "2015",
          "2016",
          "2017",
          "2018",
          "2021",
          "2022",
          "2023",
          "2024"
         ],
         "legendgroup": "ppt_summer",
         "line": {
          "color": "#A7C6DA",
          "dash": "solid"
         },
         "marker": {
          "symbol": "circle"
         },
         "mode": "markers+lines",
         "name": "Precipitation",
         "orientation": "v",
         "showlegend": true,
         "type": "scatter",
         "x": [
          "1980",
          "1981",
          "1982",
          "1983",
          "1984",
          "1985",
          "1986",
          "1987",
          "1988",
          "1989",
          "1990",
          "1991",
          "1992",
          "1993",
          "1994",
          "1995",
          "1996",
          "1997",
          "1998",
          "1999",
          "2000",
          "2001",
          "2002",
          "2003",
          "2004",
          "2005",
          "2006",
          "2007",
          "2008",
          "2009",
          "2010",
          "2011",
          "2012",
          "2013",
          "2014",
          "2015",
          "2016",
          "2017",
          "2018",
          "2021",
          "2022",
          "2023",
          "2024"
         ],
         "xaxis": "x",
         "y": [
          0,
          0.577172360760189,
          0.5992529935186203,
          0.6648357684279907,
          0.5647588707019665,
          0.19004723717455785,
          0.6143029770405363,
          0.733714160166978,
          0.5021421509392509,
          0.35460837086674724,
          0.24354608370866748,
          0.3409864879709986,
          0.28869603427441504,
          0.28715807975392726,
          0.022080632758431307,
          0.3738328023728441,
          0.21564319455124692,
          0.519608920136219,
          0.29122267384378775,
          0.9999999999999999,
          0.2112490387784247,
          0.4725914533670218,
          0.055366362737559016,
          0.2810062616719763,
          0.03152806766999894,
          0.46281445677249256,
          0.4090959024497418,
          0.4201911457761177,
          0.3559266175985938,
          0.02889157420630567,
          0.6405580577831483,
          0.2696913105569593,
          0.34856640667911687,
          0.4633637262440954,
          0.37460177963308794,
          0.8235746457211909,
          0.39228825661869715,
          0.3297813907503021,
          0.17741403932769417,
          0.3799846204547951,
          0.34164561133692184,
          0.4589695704712732,
          0.3296715368559815
         ],
         "yaxis": "y"
        }
       ],
       "layout": {
        "hovermode": "x",
        "legend": {
         "title": {
          "text": "Summer Indicators"
         },
         "tracegroupgap": 0
        },
        "margin": {
         "t": 60
        },
        "template": {
         "data": {
          "bar": [
           {
            "error_x": {
             "color": "rgb(36,36,36)"
            },
            "error_y": {
             "color": "rgb(36,36,36)"
            },
            "marker": {
             "line": {
              "color": "white",
              "width": 0.5
             },
             "pattern": {
              "fillmode": "overlay",
              "size": 10,
              "solidity": 0.2
             }
            },
            "type": "bar"
           }
          ],
          "barpolar": [
           {
            "marker": {
             "line": {
              "color": "white",
              "width": 0.5
             },
             "pattern": {
              "fillmode": "overlay",
              "size": 10,
              "solidity": 0.2
             }
            },
            "type": "barpolar"
           }
          ],
          "carpet": [
           {
            "aaxis": {
             "endlinecolor": "rgb(36,36,36)",
             "gridcolor": "white",
             "linecolor": "white",
             "minorgridcolor": "white",
             "startlinecolor": "rgb(36,36,36)"
            },
            "baxis": {
             "endlinecolor": "rgb(36,36,36)",
             "gridcolor": "white",
             "linecolor": "white",
             "minorgridcolor": "white",
             "startlinecolor": "rgb(36,36,36)"
            },
            "type": "carpet"
           }
          ],
          "choropleth": [
           {
            "colorbar": {
             "outlinewidth": 1,
             "tickcolor": "rgb(36,36,36)",
             "ticks": "outside"
            },
            "type": "choropleth"
           }
          ],
          "contour": [
           {
            "colorbar": {
             "outlinewidth": 1,
             "tickcolor": "rgb(36,36,36)",
             "ticks": "outside"
            },
            "colorscale": [
             [
              0,
              "#440154"
             ],
             [
              0.1111111111111111,
              "#482878"
             ],
             [
              0.2222222222222222,
              "#3e4989"
             ],
             [
              0.3333333333333333,
              "#31688e"
             ],
             [
              0.4444444444444444,
              "#26828e"
             ],
             [
              0.5555555555555556,
              "#1f9e89"
             ],
             [
              0.6666666666666666,
              "#35b779"
             ],
             [
              0.7777777777777778,
              "#6ece58"
             ],
             [
              0.8888888888888888,
              "#b5de2b"
             ],
             [
              1,
              "#fde725"
             ]
            ],
            "type": "contour"
           }
          ],
          "contourcarpet": [
           {
            "colorbar": {
             "outlinewidth": 1,
             "tickcolor": "rgb(36,36,36)",
             "ticks": "outside"
            },
            "type": "contourcarpet"
           }
          ],
          "heatmap": [
           {
            "colorbar": {
             "outlinewidth": 1,
             "tickcolor": "rgb(36,36,36)",
             "ticks": "outside"
            },
            "colorscale": [
             [
              0,
              "#440154"
             ],
             [
              0.1111111111111111,
              "#482878"
             ],
             [
              0.2222222222222222,
              "#3e4989"
             ],
             [
              0.3333333333333333,
              "#31688e"
             ],
             [
              0.4444444444444444,
              "#26828e"
             ],
             [
              0.5555555555555556,
              "#1f9e89"
             ],
             [
              0.6666666666666666,
              "#35b779"
             ],
             [
              0.7777777777777778,
              "#6ece58"
             ],
             [
              0.8888888888888888,
              "#b5de2b"
             ],
             [
              1,
              "#fde725"
             ]
            ],
            "type": "heatmap"
           }
          ],
          "heatmapgl": [
           {
            "colorbar": {
             "outlinewidth": 1,
             "tickcolor": "rgb(36,36,36)",
             "ticks": "outside"
            },
            "colorscale": [
             [
              0,
              "#440154"
             ],
             [
              0.1111111111111111,
              "#482878"
             ],
             [
              0.2222222222222222,
              "#3e4989"
             ],
             [
              0.3333333333333333,
              "#31688e"
             ],
             [
              0.4444444444444444,
              "#26828e"
             ],
             [
              0.5555555555555556,
              "#1f9e89"
             ],
             [
              0.6666666666666666,
              "#35b779"
             ],
             [
              0.7777777777777778,
              "#6ece58"
             ],
             [
              0.8888888888888888,
              "#b5de2b"
             ],
             [
              1,
              "#fde725"
             ]
            ],
            "type": "heatmapgl"
           }
          ],
          "histogram": [
           {
            "marker": {
             "line": {
              "color": "white",
              "width": 0.6
             }
            },
            "type": "histogram"
           }
          ],
          "histogram2d": [
           {
            "colorbar": {
             "outlinewidth": 1,
             "tickcolor": "rgb(36,36,36)",
             "ticks": "outside"
            },
            "colorscale": [
             [
              0,
              "#440154"
             ],
             [
              0.1111111111111111,
              "#482878"
             ],
             [
              0.2222222222222222,
              "#3e4989"
             ],
             [
              0.3333333333333333,
              "#31688e"
             ],
             [
              0.4444444444444444,
              "#26828e"
             ],
             [
              0.5555555555555556,
              "#1f9e89"
             ],
             [
              0.6666666666666666,
              "#35b779"
             ],
             [
              0.7777777777777778,
              "#6ece58"
             ],
             [
              0.8888888888888888,
              "#b5de2b"
             ],
             [
              1,
              "#fde725"
             ]
            ],
            "type": "histogram2d"
           }
          ],
          "histogram2dcontour": [
           {
            "colorbar": {
             "outlinewidth": 1,
             "tickcolor": "rgb(36,36,36)",
             "ticks": "outside"
            },
            "colorscale": [
             [
              0,
              "#440154"
             ],
             [
              0.1111111111111111,
              "#482878"
             ],
             [
              0.2222222222222222,
              "#3e4989"
             ],
             [
              0.3333333333333333,
              "#31688e"
             ],
             [
              0.4444444444444444,
              "#26828e"
             ],
             [
              0.5555555555555556,
              "#1f9e89"
             ],
             [
              0.6666666666666666,
              "#35b779"
             ],
             [
              0.7777777777777778,
              "#6ece58"
             ],
             [
              0.8888888888888888,
              "#b5de2b"
             ],
             [
              1,
              "#fde725"
             ]
            ],
            "type": "histogram2dcontour"
           }
          ],
          "mesh3d": [
           {
            "colorbar": {
             "outlinewidth": 1,
             "tickcolor": "rgb(36,36,36)",
             "ticks": "outside"
            },
            "type": "mesh3d"
           }
          ],
          "parcoords": [
           {
            "line": {
             "colorbar": {
              "outlinewidth": 1,
              "tickcolor": "rgb(36,36,36)",
              "ticks": "outside"
             }
            },
            "type": "parcoords"
           }
          ],
          "pie": [
           {
            "automargin": true,
            "type": "pie"
           }
          ],
          "scatter": [
           {
            "fillpattern": {
             "fillmode": "overlay",
             "size": 10,
             "solidity": 0.2
            },
            "type": "scatter"
           }
          ],
          "scatter3d": [
           {
            "line": {
             "colorbar": {
              "outlinewidth": 1,
              "tickcolor": "rgb(36,36,36)",
              "ticks": "outside"
             }
            },
            "marker": {
             "colorbar": {
              "outlinewidth": 1,
              "tickcolor": "rgb(36,36,36)",
              "ticks": "outside"
             }
            },
            "type": "scatter3d"
           }
          ],
          "scattercarpet": [
           {
            "marker": {
             "colorbar": {
              "outlinewidth": 1,
              "tickcolor": "rgb(36,36,36)",
              "ticks": "outside"
             }
            },
            "type": "scattercarpet"
           }
          ],
          "scattergeo": [
           {
            "marker": {
             "colorbar": {
              "outlinewidth": 1,
              "tickcolor": "rgb(36,36,36)",
              "ticks": "outside"
             }
            },
            "type": "scattergeo"
           }
          ],
          "scattergl": [
           {
            "marker": {
             "colorbar": {
              "outlinewidth": 1,
              "tickcolor": "rgb(36,36,36)",
              "ticks": "outside"
             }
            },
            "type": "scattergl"
           }
          ],
          "scattermapbox": [
           {
            "marker": {
             "colorbar": {
              "outlinewidth": 1,
              "tickcolor": "rgb(36,36,36)",
              "ticks": "outside"
             }
            },
            "type": "scattermapbox"
           }
          ],
          "scatterpolar": [
           {
            "marker": {
             "colorbar": {
              "outlinewidth": 1,
              "tickcolor": "rgb(36,36,36)",
              "ticks": "outside"
             }
            },
            "type": "scatterpolar"
           }
          ],
          "scatterpolargl": [
           {
            "marker": {
             "colorbar": {
              "outlinewidth": 1,
              "tickcolor": "rgb(36,36,36)",
              "ticks": "outside"
             }
            },
            "type": "scatterpolargl"
           }
          ],
          "scatterternary": [
           {
            "marker": {
             "colorbar": {
              "outlinewidth": 1,
              "tickcolor": "rgb(36,36,36)",
              "ticks": "outside"
             }
            },
            "type": "scatterternary"
           }
          ],
          "surface": [
           {
            "colorbar": {
             "outlinewidth": 1,
             "tickcolor": "rgb(36,36,36)",
             "ticks": "outside"
            },
            "colorscale": [
             [
              0,
              "#440154"
             ],
             [
              0.1111111111111111,
              "#482878"
             ],
             [
              0.2222222222222222,
              "#3e4989"
             ],
             [
              0.3333333333333333,
              "#31688e"
             ],
             [
              0.4444444444444444,
              "#26828e"
             ],
             [
              0.5555555555555556,
              "#1f9e89"
             ],
             [
              0.6666666666666666,
              "#35b779"
             ],
             [
              0.7777777777777778,
              "#6ece58"
             ],
             [
              0.8888888888888888,
              "#b5de2b"
             ],
             [
              1,
              "#fde725"
             ]
            ],
            "type": "surface"
           }
          ],
          "table": [
           {
            "cells": {
             "fill": {
              "color": "rgb(237,237,237)"
             },
             "line": {
              "color": "white"
             }
            },
            "header": {
             "fill": {
              "color": "rgb(217,217,217)"
             },
             "line": {
              "color": "white"
             }
            },
            "type": "table"
           }
          ]
         },
         "layout": {
          "annotationdefaults": {
           "arrowhead": 0,
           "arrowwidth": 1
          },
          "autotypenumbers": "strict",
          "coloraxis": {
           "colorbar": {
            "outlinewidth": 1,
            "tickcolor": "rgb(36,36,36)",
            "ticks": "outside"
           }
          },
          "colorscale": {
           "diverging": [
            [
             0,
             "rgb(103,0,31)"
            ],
            [
             0.1,
             "rgb(178,24,43)"
            ],
            [
             0.2,
             "rgb(214,96,77)"
            ],
            [
             0.3,
             "rgb(244,165,130)"
            ],
            [
             0.4,
             "rgb(253,219,199)"
            ],
            [
             0.5,
             "rgb(247,247,247)"
            ],
            [
             0.6,
             "rgb(209,229,240)"
            ],
            [
             0.7,
             "rgb(146,197,222)"
            ],
            [
             0.8,
             "rgb(67,147,195)"
            ],
            [
             0.9,
             "rgb(33,102,172)"
            ],
            [
             1,
             "rgb(5,48,97)"
            ]
           ],
           "sequential": [
            [
             0,
             "#440154"
            ],
            [
             0.1111111111111111,
             "#482878"
            ],
            [
             0.2222222222222222,
             "#3e4989"
            ],
            [
             0.3333333333333333,
             "#31688e"
            ],
            [
             0.4444444444444444,
             "#26828e"
            ],
            [
             0.5555555555555556,
             "#1f9e89"
            ],
            [
             0.6666666666666666,
             "#35b779"
            ],
            [
             0.7777777777777778,
             "#6ece58"
            ],
            [
             0.8888888888888888,
             "#b5de2b"
            ],
            [
             1,
             "#fde725"
            ]
           ],
           "sequentialminus": [
            [
             0,
             "#440154"
            ],
            [
             0.1111111111111111,
             "#482878"
            ],
            [
             0.2222222222222222,
             "#3e4989"
            ],
            [
             0.3333333333333333,
             "#31688e"
            ],
            [
             0.4444444444444444,
             "#26828e"
            ],
            [
             0.5555555555555556,
             "#1f9e89"
            ],
            [
             0.6666666666666666,
             "#35b779"
            ],
            [
             0.7777777777777778,
             "#6ece58"
            ],
            [
             0.8888888888888888,
             "#b5de2b"
            ],
            [
             1,
             "#fde725"
            ]
           ]
          },
          "colorway": [
           "#1F77B4",
           "#FF7F0E",
           "#2CA02C",
           "#D62728",
           "#9467BD",
           "#8C564B",
           "#E377C2",
           "#7F7F7F",
           "#BCBD22",
           "#17BECF"
          ],
          "font": {
           "color": "rgb(36,36,36)"
          },
          "geo": {
           "bgcolor": "white",
           "lakecolor": "white",
           "landcolor": "white",
           "showlakes": true,
           "showland": true,
           "subunitcolor": "white"
          },
          "hoverlabel": {
           "align": "left"
          },
          "hovermode": "closest",
          "mapbox": {
           "style": "light"
          },
          "paper_bgcolor": "white",
          "plot_bgcolor": "white",
          "polar": {
           "angularaxis": {
            "gridcolor": "rgb(232,232,232)",
            "linecolor": "rgb(36,36,36)",
            "showgrid": false,
            "showline": true,
            "ticks": "outside"
           },
           "bgcolor": "white",
           "radialaxis": {
            "gridcolor": "rgb(232,232,232)",
            "linecolor": "rgb(36,36,36)",
            "showgrid": false,
            "showline": true,
            "ticks": "outside"
           }
          },
          "scene": {
           "xaxis": {
            "backgroundcolor": "white",
            "gridcolor": "rgb(232,232,232)",
            "gridwidth": 2,
            "linecolor": "rgb(36,36,36)",
            "showbackground": true,
            "showgrid": false,
            "showline": true,
            "ticks": "outside",
            "zeroline": false,
            "zerolinecolor": "rgb(36,36,36)"
           },
           "yaxis": {
            "backgroundcolor": "white",
            "gridcolor": "rgb(232,232,232)",
            "gridwidth": 2,
            "linecolor": "rgb(36,36,36)",
            "showbackground": true,
            "showgrid": false,
            "showline": true,
            "ticks": "outside",
            "zeroline": false,
            "zerolinecolor": "rgb(36,36,36)"
           },
           "zaxis": {
            "backgroundcolor": "white",
            "gridcolor": "rgb(232,232,232)",
            "gridwidth": 2,
            "linecolor": "rgb(36,36,36)",
            "showbackground": true,
            "showgrid": false,
            "showline": true,
            "ticks": "outside",
            "zeroline": false,
            "zerolinecolor": "rgb(36,36,36)"
           }
          },
          "shapedefaults": {
           "fillcolor": "black",
           "line": {
            "width": 0
           },
           "opacity": 0.3
          },
          "ternary": {
           "aaxis": {
            "gridcolor": "rgb(232,232,232)",
            "linecolor": "rgb(36,36,36)",
            "showgrid": false,
            "showline": true,
            "ticks": "outside"
           },
           "baxis": {
            "gridcolor": "rgb(232,232,232)",
            "linecolor": "rgb(36,36,36)",
            "showgrid": false,
            "showline": true,
            "ticks": "outside"
           },
           "bgcolor": "white",
           "caxis": {
            "gridcolor": "rgb(232,232,232)",
            "linecolor": "rgb(36,36,36)",
            "showgrid": false,
            "showline": true,
            "ticks": "outside"
           }
          },
          "title": {
           "x": 0.05
          },
          "xaxis": {
           "automargin": true,
           "gridcolor": "rgb(232,232,232)",
           "linecolor": "rgb(36,36,36)",
           "showgrid": false,
           "showline": true,
           "ticks": "outside",
           "title": {
            "standoff": 15
           },
           "zeroline": false,
           "zerolinecolor": "rgb(36,36,36)"
          },
          "yaxis": {
           "automargin": true,
           "gridcolor": "rgb(232,232,232)",
           "linecolor": "rgb(36,36,36)",
           "showgrid": false,
           "showline": true,
           "ticks": "outside",
           "title": {
            "standoff": 15
           },
           "zeroline": false,
           "zerolinecolor": "rgb(36,36,36)"
          }
         }
        },
        "title": {
         "text": "Something of the Summer Data"
        },
        "xaxis": {
         "anchor": "y",
         "domain": [
          0,
          1
         ],
         "title": {
          "text": "Year"
         }
        },
        "yaxis": {
         "anchor": "x",
         "domain": [
          0,
          1
         ],
         "title": {
          "text": "Values"
         }
        }
       }
      }
     },
     "metadata": {},
     "output_type": "display_data"
    }
   ],
   "source": [
    "# plot a line graph of drysoildays_summer_whole, evap_summer, nondryswa_summer_whole, ppt_summer, and tmax_summer\n",
    "fig = px.line(summer_indicators, x='year', y=['drysoildays_summer_whole', 'evap_summer', 'ppt_summer'], \n",
    "              hover_name='year', template='simple_white', color_discrete_sequence=[\"#EED21B\", \"#CA68C8\", \"#A7C6DA\"])\n",
    "\n",
    "fig.for_each_trace(lambda trace: trace.update(name = trace.name.replace('drysoildays_summer_whole', 'Days of Dry Soil (< -3.9 MPa)')\n",
    "                                                      .replace('evap_summer', 'Evaporation')\n",
    "                                                      .replace('ppt_summer', 'Precipitation')))\n",
    "\n",
    "fig.update_traces(mode = 'markers+lines', hovertemplate=None)\n",
    "fig.update_layout(title='Something of the Summer Data', xaxis_title='Year', yaxis_title='Values', hovermode = 'x', legend_title='Summer Indicators')\n",
    "\n",
    "fig.show()"
   ]
  },
  {
   "cell_type": "code",
   "execution_count": 111,
   "metadata": {},
   "outputs": [
    {
     "data": {
      "application/vnd.plotly.v1+json": {
       "config": {
        "plotlyServerURL": "https://plot.ly"
       },
       "data": [
        {
         "hovertext": [
          "1980",
          "1981",
          "1982",
          "1983",
          "1984",
          "1985",
          "1986",
          "1987",
          "1988",
          "1989",
          "1990",
          "1991",
          "1992",
          "1993",
          "1994",
          "1995",
          "1996",
          "1997",
          "1998",
          "1999",
          "2000",
          "2001",
          "2002",
          "2003",
          "2004",
          "2005",
          "2006",
          "2007",
          "2008",
          "2009",
          "2010",
          "2011",
          "2012",
          "2013",
          "2014",
          "2015",
          "2016",
          "2017",
          "2018",
          "2021",
          "2022",
          "2023",
          "2024"
         ],
         "legendgroup": "drysoildays_summer_whole",
         "line": {
          "color": "#EED21B",
          "dash": "solid"
         },
         "marker": {
          "symbol": "circle"
         },
         "mode": "markers+lines",
         "name": "Days of Dry Soil (< -3.9 MPa)",
         "orientation": "v",
         "showlegend": true,
         "type": "scatter",
         "x": [
          "1980",
          "1981",
          "1982",
          "1983",
          "1984",
          "1985",
          "1986",
          "1987",
          "1988",
          "1989",
          "1990",
          "1991",
          "1992",
          "1993",
          "1994",
          "1995",
          "1996",
          "1997",
          "1998",
          "1999",
          "2000",
          "2001",
          "2002",
          "2003",
          "2004",
          "2005",
          "2006",
          "2007",
          "2008",
          "2009",
          "2010",
          "2011",
          "2012",
          "2013",
          "2014",
          "2015",
          "2016",
          "2017",
          "2018",
          "2021",
          "2022",
          "2023",
          "2024"
         ],
         "xaxis": "x",
         "y": [
          7.856,
          6.881,
          7.139,
          6.44,
          6.792,
          7.147,
          7.016,
          6.688,
          7.156,
          7.207,
          9.056,
          7.429,
          7.146,
          7.466,
          8.152,
          7.144,
          9.688,
          6.51,
          7.269,
          6.3,
          8.289,
          6.645,
          9.407,
          7.487,
          8.287,
          6.622,
          7.426,
          7.296,
          6.973,
          7.811,
          6.57,
          7.531,
          7.607,
          7.828,
          7.047,
          5.915,
          7.012,
          7.067,
          9.188,
          7.325,
          7.423,
          7.213,
          7.487
         ],
         "yaxis": "y"
        },
        {
         "hovertext": [
          "1980",
          "1981",
          "1982",
          "1983",
          "1984",
          "1985",
          "1986",
          "1987",
          "1988",
          "1989",
          "1990",
          "1991",
          "1992",
          "1993",
          "1994",
          "1995",
          "1996",
          "1997",
          "1998",
          "1999",
          "2000",
          "2001",
          "2002",
          "2003",
          "2004",
          "2005",
          "2006",
          "2007",
          "2008",
          "2009",
          "2010",
          "2011",
          "2012",
          "2013",
          "2014",
          "2015",
          "2016",
          "2017",
          "2018",
          "2021",
          "2022",
          "2023",
          "2024"
         ],
         "legendgroup": "evap_summer",
         "line": {
          "color": "#CA68C8",
          "dash": "solid"
         },
         "marker": {
          "symbol": "circle"
         },
         "mode": "markers+lines",
         "name": "Evaporation",
         "orientation": "v",
         "showlegend": true,
         "type": "scatter",
         "x": [
          "1980",
          "1981",
          "1982",
          "1983",
          "1984",
          "1985",
          "1986",
          "1987",
          "1988",
          "1989",
          "1990",
          "1991",
          "1992",
          "1993",
          "1994",
          "1995",
          "1996",
          "1997",
          "1998",
          "1999",
          "2000",
          "2001",
          "2002",
          "2003",
          "2004",
          "2005",
          "2006",
          "2007",
          "2008",
          "2009",
          "2010",
          "2011",
          "2012",
          "2013",
          "2014",
          "2015",
          "2016",
          "2017",
          "2018",
          "2021",
          "2022",
          "2023",
          "2024"
         ],
         "xaxis": "x",
         "y": [
          2.877,
          4.098,
          3.79,
          4.05,
          4.044,
          3.006,
          3.852,
          3.763,
          3.832,
          3.401,
          3.35,
          3.661,
          3.598,
          3.164,
          3.039,
          3.756,
          3.432,
          3.577,
          3.411,
          4.344,
          3.363,
          3.703,
          3.114,
          3.396,
          3.002,
          3.627,
          3.701,
          3.574,
          3.451,
          2.978,
          3.75,
          3.615,
          3.294,
          3.33,
          3.465,
          4.148,
          3.527,
          3.364,
          3.013,
          3.467,
          3.392,
          3.535,
          3.31
         ],
         "yaxis": "y"
        },
        {
         "hovertext": [
          "1980",
          "1981",
          "1982",
          "1983",
          "1984",
          "1985",
          "1986",
          "1987",
          "1988",
          "1989",
          "1990",
          "1991",
          "1992",
          "1993",
          "1994",
          "1995",
          "1996",
          "1997",
          "1998",
          "1999",
          "2000",
          "2001",
          "2002",
          "2003",
          "2004",
          "2005",
          "2006",
          "2007",
          "2008",
          "2009",
          "2010",
          "2011",
          "2012",
          "2013",
          "2014",
          "2015",
          "2016",
          "2017",
          "2018",
          "2021",
          "2022",
          "2023",
          "2024"
         ],
         "legendgroup": "ppt_summer",
         "line": {
          "color": "#A7C6DA",
          "dash": "solid"
         },
         "marker": {
          "symbol": "circle"
         },
         "mode": "markers+lines",
         "name": "Precipitation",
         "orientation": "v",
         "showlegend": true,
         "type": "scatter",
         "x": [
          "1980",
          "1981",
          "1982",
          "1983",
          "1984",
          "1985",
          "1986",
          "1987",
          "1988",
          "1989",
          "1990",
          "1991",
          "1992",
          "1993",
          "1994",
          "1995",
          "1996",
          "1997",
          "1998",
          "1999",
          "2000",
          "2001",
          "2002",
          "2003",
          "2004",
          "2005",
          "2006",
          "2007",
          "2008",
          "2009",
          "2010",
          "2011",
          "2012",
          "2013",
          "2014",
          "2015",
          "2016",
          "2017",
          "2018",
          "2021",
          "2022",
          "2023",
          "2024"
         ],
         "xaxis": "x",
         "y": [
          3.993,
          9.247,
          9.448,
          10.045,
          9.134,
          5.723,
          9.585,
          10.672,
          8.564,
          7.221,
          6.21,
          7.097,
          6.621,
          6.607,
          4.194,
          7.396,
          5.956,
          8.723,
          6.644,
          13.096,
          5.916,
          8.295,
          4.497,
          6.551,
          4.28,
          8.206,
          7.717,
          7.818,
          7.233,
          4.256,
          9.824,
          6.448,
          7.166,
          8.211,
          7.403,
          11.49,
          7.564,
          6.995,
          5.608,
          7.452,
          7.103,
          8.171,
          6.994
         ],
         "yaxis": "y"
        }
       ],
       "layout": {
        "hovermode": "x",
        "legend": {
         "title": {
          "text": "Summer Indicators"
         },
         "tracegroupgap": 0
        },
        "margin": {
         "t": 60
        },
        "template": {
         "data": {
          "bar": [
           {
            "error_x": {
             "color": "rgb(36,36,36)"
            },
            "error_y": {
             "color": "rgb(36,36,36)"
            },
            "marker": {
             "line": {
              "color": "white",
              "width": 0.5
             },
             "pattern": {
              "fillmode": "overlay",
              "size": 10,
              "solidity": 0.2
             }
            },
            "type": "bar"
           }
          ],
          "barpolar": [
           {
            "marker": {
             "line": {
              "color": "white",
              "width": 0.5
             },
             "pattern": {
              "fillmode": "overlay",
              "size": 10,
              "solidity": 0.2
             }
            },
            "type": "barpolar"
           }
          ],
          "carpet": [
           {
            "aaxis": {
             "endlinecolor": "rgb(36,36,36)",
             "gridcolor": "white",
             "linecolor": "white",
             "minorgridcolor": "white",
             "startlinecolor": "rgb(36,36,36)"
            },
            "baxis": {
             "endlinecolor": "rgb(36,36,36)",
             "gridcolor": "white",
             "linecolor": "white",
             "minorgridcolor": "white",
             "startlinecolor": "rgb(36,36,36)"
            },
            "type": "carpet"
           }
          ],
          "choropleth": [
           {
            "colorbar": {
             "outlinewidth": 1,
             "tickcolor": "rgb(36,36,36)",
             "ticks": "outside"
            },
            "type": "choropleth"
           }
          ],
          "contour": [
           {
            "colorbar": {
             "outlinewidth": 1,
             "tickcolor": "rgb(36,36,36)",
             "ticks": "outside"
            },
            "colorscale": [
             [
              0,
              "#440154"
             ],
             [
              0.1111111111111111,
              "#482878"
             ],
             [
              0.2222222222222222,
              "#3e4989"
             ],
             [
              0.3333333333333333,
              "#31688e"
             ],
             [
              0.4444444444444444,
              "#26828e"
             ],
             [
              0.5555555555555556,
              "#1f9e89"
             ],
             [
              0.6666666666666666,
              "#35b779"
             ],
             [
              0.7777777777777778,
              "#6ece58"
             ],
             [
              0.8888888888888888,
              "#b5de2b"
             ],
             [
              1,
              "#fde725"
             ]
            ],
            "type": "contour"
           }
          ],
          "contourcarpet": [
           {
            "colorbar": {
             "outlinewidth": 1,
             "tickcolor": "rgb(36,36,36)",
             "ticks": "outside"
            },
            "type": "contourcarpet"
           }
          ],
          "heatmap": [
           {
            "colorbar": {
             "outlinewidth": 1,
             "tickcolor": "rgb(36,36,36)",
             "ticks": "outside"
            },
            "colorscale": [
             [
              0,
              "#440154"
             ],
             [
              0.1111111111111111,
              "#482878"
             ],
             [
              0.2222222222222222,
              "#3e4989"
             ],
             [
              0.3333333333333333,
              "#31688e"
             ],
             [
              0.4444444444444444,
              "#26828e"
             ],
             [
              0.5555555555555556,
              "#1f9e89"
             ],
             [
              0.6666666666666666,
              "#35b779"
             ],
             [
              0.7777777777777778,
              "#6ece58"
             ],
             [
              0.8888888888888888,
              "#b5de2b"
             ],
             [
              1,
              "#fde725"
             ]
            ],
            "type": "heatmap"
           }
          ],
          "heatmapgl": [
           {
            "colorbar": {
             "outlinewidth": 1,
             "tickcolor": "rgb(36,36,36)",
             "ticks": "outside"
            },
            "colorscale": [
             [
              0,
              "#440154"
             ],
             [
              0.1111111111111111,
              "#482878"
             ],
             [
              0.2222222222222222,
              "#3e4989"
             ],
             [
              0.3333333333333333,
              "#31688e"
             ],
             [
              0.4444444444444444,
              "#26828e"
             ],
             [
              0.5555555555555556,
              "#1f9e89"
             ],
             [
              0.6666666666666666,
              "#35b779"
             ],
             [
              0.7777777777777778,
              "#6ece58"
             ],
             [
              0.8888888888888888,
              "#b5de2b"
             ],
             [
              1,
              "#fde725"
             ]
            ],
            "type": "heatmapgl"
           }
          ],
          "histogram": [
           {
            "marker": {
             "line": {
              "color": "white",
              "width": 0.6
             }
            },
            "type": "histogram"
           }
          ],
          "histogram2d": [
           {
            "colorbar": {
             "outlinewidth": 1,
             "tickcolor": "rgb(36,36,36)",
             "ticks": "outside"
            },
            "colorscale": [
             [
              0,
              "#440154"
             ],
             [
              0.1111111111111111,
              "#482878"
             ],
             [
              0.2222222222222222,
              "#3e4989"
             ],
             [
              0.3333333333333333,
              "#31688e"
             ],
             [
              0.4444444444444444,
              "#26828e"
             ],
             [
              0.5555555555555556,
              "#1f9e89"
             ],
             [
              0.6666666666666666,
              "#35b779"
             ],
             [
              0.7777777777777778,
              "#6ece58"
             ],
             [
              0.8888888888888888,
              "#b5de2b"
             ],
             [
              1,
              "#fde725"
             ]
            ],
            "type": "histogram2d"
           }
          ],
          "histogram2dcontour": [
           {
            "colorbar": {
             "outlinewidth": 1,
             "tickcolor": "rgb(36,36,36)",
             "ticks": "outside"
            },
            "colorscale": [
             [
              0,
              "#440154"
             ],
             [
              0.1111111111111111,
              "#482878"
             ],
             [
              0.2222222222222222,
              "#3e4989"
             ],
             [
              0.3333333333333333,
              "#31688e"
             ],
             [
              0.4444444444444444,
              "#26828e"
             ],
             [
              0.5555555555555556,
              "#1f9e89"
             ],
             [
              0.6666666666666666,
              "#35b779"
             ],
             [
              0.7777777777777778,
              "#6ece58"
             ],
             [
              0.8888888888888888,
              "#b5de2b"
             ],
             [
              1,
              "#fde725"
             ]
            ],
            "type": "histogram2dcontour"
           }
          ],
          "mesh3d": [
           {
            "colorbar": {
             "outlinewidth": 1,
             "tickcolor": "rgb(36,36,36)",
             "ticks": "outside"
            },
            "type": "mesh3d"
           }
          ],
          "parcoords": [
           {
            "line": {
             "colorbar": {
              "outlinewidth": 1,
              "tickcolor": "rgb(36,36,36)",
              "ticks": "outside"
             }
            },
            "type": "parcoords"
           }
          ],
          "pie": [
           {
            "automargin": true,
            "type": "pie"
           }
          ],
          "scatter": [
           {
            "fillpattern": {
             "fillmode": "overlay",
             "size": 10,
             "solidity": 0.2
            },
            "type": "scatter"
           }
          ],
          "scatter3d": [
           {
            "line": {
             "colorbar": {
              "outlinewidth": 1,
              "tickcolor": "rgb(36,36,36)",
              "ticks": "outside"
             }
            },
            "marker": {
             "colorbar": {
              "outlinewidth": 1,
              "tickcolor": "rgb(36,36,36)",
              "ticks": "outside"
             }
            },
            "type": "scatter3d"
           }
          ],
          "scattercarpet": [
           {
            "marker": {
             "colorbar": {
              "outlinewidth": 1,
              "tickcolor": "rgb(36,36,36)",
              "ticks": "outside"
             }
            },
            "type": "scattercarpet"
           }
          ],
          "scattergeo": [
           {
            "marker": {
             "colorbar": {
              "outlinewidth": 1,
              "tickcolor": "rgb(36,36,36)",
              "ticks": "outside"
             }
            },
            "type": "scattergeo"
           }
          ],
          "scattergl": [
           {
            "marker": {
             "colorbar": {
              "outlinewidth": 1,
              "tickcolor": "rgb(36,36,36)",
              "ticks": "outside"
             }
            },
            "type": "scattergl"
           }
          ],
          "scattermapbox": [
           {
            "marker": {
             "colorbar": {
              "outlinewidth": 1,
              "tickcolor": "rgb(36,36,36)",
              "ticks": "outside"
             }
            },
            "type": "scattermapbox"
           }
          ],
          "scatterpolar": [
           {
            "marker": {
             "colorbar": {
              "outlinewidth": 1,
              "tickcolor": "rgb(36,36,36)",
              "ticks": "outside"
             }
            },
            "type": "scatterpolar"
           }
          ],
          "scatterpolargl": [
           {
            "marker": {
             "colorbar": {
              "outlinewidth": 1,
              "tickcolor": "rgb(36,36,36)",
              "ticks": "outside"
             }
            },
            "type": "scatterpolargl"
           }
          ],
          "scatterternary": [
           {
            "marker": {
             "colorbar": {
              "outlinewidth": 1,
              "tickcolor": "rgb(36,36,36)",
              "ticks": "outside"
             }
            },
            "type": "scatterternary"
           }
          ],
          "surface": [
           {
            "colorbar": {
             "outlinewidth": 1,
             "tickcolor": "rgb(36,36,36)",
             "ticks": "outside"
            },
            "colorscale": [
             [
              0,
              "#440154"
             ],
             [
              0.1111111111111111,
              "#482878"
             ],
             [
              0.2222222222222222,
              "#3e4989"
             ],
             [
              0.3333333333333333,
              "#31688e"
             ],
             [
              0.4444444444444444,
              "#26828e"
             ],
             [
              0.5555555555555556,
              "#1f9e89"
             ],
             [
              0.6666666666666666,
              "#35b779"
             ],
             [
              0.7777777777777778,
              "#6ece58"
             ],
             [
              0.8888888888888888,
              "#b5de2b"
             ],
             [
              1,
              "#fde725"
             ]
            ],
            "type": "surface"
           }
          ],
          "table": [
           {
            "cells": {
             "fill": {
              "color": "rgb(237,237,237)"
             },
             "line": {
              "color": "white"
             }
            },
            "header": {
             "fill": {
              "color": "rgb(217,217,217)"
             },
             "line": {
              "color": "white"
             }
            },
            "type": "table"
           }
          ]
         },
         "layout": {
          "annotationdefaults": {
           "arrowhead": 0,
           "arrowwidth": 1
          },
          "autotypenumbers": "strict",
          "coloraxis": {
           "colorbar": {
            "outlinewidth": 1,
            "tickcolor": "rgb(36,36,36)",
            "ticks": "outside"
           }
          },
          "colorscale": {
           "diverging": [
            [
             0,
             "rgb(103,0,31)"
            ],
            [
             0.1,
             "rgb(178,24,43)"
            ],
            [
             0.2,
             "rgb(214,96,77)"
            ],
            [
             0.3,
             "rgb(244,165,130)"
            ],
            [
             0.4,
             "rgb(253,219,199)"
            ],
            [
             0.5,
             "rgb(247,247,247)"
            ],
            [
             0.6,
             "rgb(209,229,240)"
            ],
            [
             0.7,
             "rgb(146,197,222)"
            ],
            [
             0.8,
             "rgb(67,147,195)"
            ],
            [
             0.9,
             "rgb(33,102,172)"
            ],
            [
             1,
             "rgb(5,48,97)"
            ]
           ],
           "sequential": [
            [
             0,
             "#440154"
            ],
            [
             0.1111111111111111,
             "#482878"
            ],
            [
             0.2222222222222222,
             "#3e4989"
            ],
            [
             0.3333333333333333,
             "#31688e"
            ],
            [
             0.4444444444444444,
             "#26828e"
            ],
            [
             0.5555555555555556,
             "#1f9e89"
            ],
            [
             0.6666666666666666,
             "#35b779"
            ],
            [
             0.7777777777777778,
             "#6ece58"
            ],
            [
             0.8888888888888888,
             "#b5de2b"
            ],
            [
             1,
             "#fde725"
            ]
           ],
           "sequentialminus": [
            [
             0,
             "#440154"
            ],
            [
             0.1111111111111111,
             "#482878"
            ],
            [
             0.2222222222222222,
             "#3e4989"
            ],
            [
             0.3333333333333333,
             "#31688e"
            ],
            [
             0.4444444444444444,
             "#26828e"
            ],
            [
             0.5555555555555556,
             "#1f9e89"
            ],
            [
             0.6666666666666666,
             "#35b779"
            ],
            [
             0.7777777777777778,
             "#6ece58"
            ],
            [
             0.8888888888888888,
             "#b5de2b"
            ],
            [
             1,
             "#fde725"
            ]
           ]
          },
          "colorway": [
           "#1F77B4",
           "#FF7F0E",
           "#2CA02C",
           "#D62728",
           "#9467BD",
           "#8C564B",
           "#E377C2",
           "#7F7F7F",
           "#BCBD22",
           "#17BECF"
          ],
          "font": {
           "color": "rgb(36,36,36)"
          },
          "geo": {
           "bgcolor": "white",
           "lakecolor": "white",
           "landcolor": "white",
           "showlakes": true,
           "showland": true,
           "subunitcolor": "white"
          },
          "hoverlabel": {
           "align": "left"
          },
          "hovermode": "closest",
          "mapbox": {
           "style": "light"
          },
          "paper_bgcolor": "white",
          "plot_bgcolor": "white",
          "polar": {
           "angularaxis": {
            "gridcolor": "rgb(232,232,232)",
            "linecolor": "rgb(36,36,36)",
            "showgrid": false,
            "showline": true,
            "ticks": "outside"
           },
           "bgcolor": "white",
           "radialaxis": {
            "gridcolor": "rgb(232,232,232)",
            "linecolor": "rgb(36,36,36)",
            "showgrid": false,
            "showline": true,
            "ticks": "outside"
           }
          },
          "scene": {
           "xaxis": {
            "backgroundcolor": "white",
            "gridcolor": "rgb(232,232,232)",
            "gridwidth": 2,
            "linecolor": "rgb(36,36,36)",
            "showbackground": true,
            "showgrid": false,
            "showline": true,
            "ticks": "outside",
            "zeroline": false,
            "zerolinecolor": "rgb(36,36,36)"
           },
           "yaxis": {
            "backgroundcolor": "white",
            "gridcolor": "rgb(232,232,232)",
            "gridwidth": 2,
            "linecolor": "rgb(36,36,36)",
            "showbackground": true,
            "showgrid": false,
            "showline": true,
            "ticks": "outside",
            "zeroline": false,
            "zerolinecolor": "rgb(36,36,36)"
           },
           "zaxis": {
            "backgroundcolor": "white",
            "gridcolor": "rgb(232,232,232)",
            "gridwidth": 2,
            "linecolor": "rgb(36,36,36)",
            "showbackground": true,
            "showgrid": false,
            "showline": true,
            "ticks": "outside",
            "zeroline": false,
            "zerolinecolor": "rgb(36,36,36)"
           }
          },
          "shapedefaults": {
           "fillcolor": "black",
           "line": {
            "width": 0
           },
           "opacity": 0.3
          },
          "ternary": {
           "aaxis": {
            "gridcolor": "rgb(232,232,232)",
            "linecolor": "rgb(36,36,36)",
            "showgrid": false,
            "showline": true,
            "ticks": "outside"
           },
           "baxis": {
            "gridcolor": "rgb(232,232,232)",
            "linecolor": "rgb(36,36,36)",
            "showgrid": false,
            "showline": true,
            "ticks": "outside"
           },
           "bgcolor": "white",
           "caxis": {
            "gridcolor": "rgb(232,232,232)",
            "linecolor": "rgb(36,36,36)",
            "showgrid": false,
            "showline": true,
            "ticks": "outside"
           }
          },
          "title": {
           "x": 0.05
          },
          "xaxis": {
           "automargin": true,
           "gridcolor": "rgb(232,232,232)",
           "linecolor": "rgb(36,36,36)",
           "showgrid": false,
           "showline": true,
           "ticks": "outside",
           "title": {
            "standoff": 15
           },
           "zeroline": false,
           "zerolinecolor": "rgb(36,36,36)"
          },
          "yaxis": {
           "automargin": true,
           "gridcolor": "rgb(232,232,232)",
           "linecolor": "rgb(36,36,36)",
           "showgrid": false,
           "showline": true,
           "ticks": "outside",
           "title": {
            "standoff": 15
           },
           "zeroline": false,
           "zerolinecolor": "rgb(36,36,36)"
          }
         }
        },
        "title": {
         "text": "Something of the Summer Data"
        },
        "xaxis": {
         "anchor": "y",
         "domain": [
          0,
          1
         ],
         "title": {
          "text": "Year"
         }
        },
        "yaxis": {
         "anchor": "x",
         "domain": [
          0,
          1
         ],
         "title": {
          "text": "Values"
         }
        }
       }
      }
     },
     "metadata": {},
     "output_type": "display_data"
    }
   ],
   "source": [
    "# plot a line graph of drysoildays_summer_whole, evap_summer, nondryswa_summer_whole, ppt_summer, and tmax_summer\n",
    "fig = px.line(summer_copy, x='year', y=['drysoildays_summer_whole', 'evap_summer', 'ppt_summer'], \n",
    "              hover_name='year', template='simple_white', color_discrete_sequence=[\"#EED21B\", \"#CA68C8\", \"#A7C6DA\"])\n",
    "\n",
    "fig.for_each_trace(lambda trace: trace.update(name = trace.name.replace('drysoildays_summer_whole', 'Days of Dry Soil (< -3.9 MPa)')\n",
    "                                                      .replace('evap_summer', 'Evaporation')\n",
    "                                                      .replace('ppt_summer', 'Precipitation')))\n",
    "\n",
    "fig.update_traces(mode = 'markers+lines', hovertemplate=None)\n",
    "fig.update_layout(title='Something of the Summer Data', xaxis_title='Year', yaxis_title='Values', hovermode = 'x', legend_title='Summer Indicators')\n",
    "\n",
    "fig.show()"
   ]
  },
  {
   "cell_type": "code",
   "execution_count": 112,
   "metadata": {},
   "outputs": [
    {
     "data": {
      "text/html": [
       "<div>\n",
       "<style scoped>\n",
       "    .dataframe tbody tr th:only-of-type {\n",
       "        vertical-align: middle;\n",
       "    }\n",
       "\n",
       "    .dataframe tbody tr th {\n",
       "        vertical-align: top;\n",
       "    }\n",
       "\n",
       "    .dataframe thead th {\n",
       "        text-align: right;\n",
       "    }\n",
       "</style>\n",
       "<table border=\"1\" class=\"dataframe\">\n",
       "  <thead>\n",
       "    <tr style=\"text-align: right;\">\n",
       "      <th></th>\n",
       "      <th>long</th>\n",
       "      <th>lat</th>\n",
       "      <th>year</th>\n",
       "      <th>rcp</th>\n",
       "      <th>drysoildays_summer_whole</th>\n",
       "      <th>evap_summer</th>\n",
       "      <th>nondryswa_summer_whole</th>\n",
       "      <th>ppt_summer</th>\n",
       "      <th>tmax_summer</th>\n",
       "      <th>vwc_summer_whole</th>\n",
       "    </tr>\n",
       "  </thead>\n",
       "  <tbody>\n",
       "    <tr>\n",
       "      <th>0</th>\n",
       "      <td>-110.0472</td>\n",
       "      <td>37.60413</td>\n",
       "      <td>1980</td>\n",
       "      <td>historical</td>\n",
       "      <td>0.0</td>\n",
       "      <td>1.560</td>\n",
       "      <td>0.032</td>\n",
       "      <td>7.44</td>\n",
       "      <td>37.104</td>\n",
       "      <td>0.042</td>\n",
       "    </tr>\n",
       "    <tr>\n",
       "      <th>1</th>\n",
       "      <td>-110.0472</td>\n",
       "      <td>37.60413</td>\n",
       "      <td>1981</td>\n",
       "      <td>historical</td>\n",
       "      <td>0.0</td>\n",
       "      <td>5.043</td>\n",
       "      <td>0.034</td>\n",
       "      <td>7.44</td>\n",
       "      <td>37.104</td>\n",
       "      <td>0.043</td>\n",
       "    </tr>\n",
       "    <tr>\n",
       "      <th>2</th>\n",
       "      <td>-110.0472</td>\n",
       "      <td>37.60413</td>\n",
       "      <td>1982</td>\n",
       "      <td>historical</td>\n",
       "      <td>0.0</td>\n",
       "      <td>4.528</td>\n",
       "      <td>0.199</td>\n",
       "      <td>7.44</td>\n",
       "      <td>37.104</td>\n",
       "      <td>0.046</td>\n",
       "    </tr>\n",
       "    <tr>\n",
       "      <th>3</th>\n",
       "      <td>-110.0472</td>\n",
       "      <td>37.60413</td>\n",
       "      <td>1983</td>\n",
       "      <td>historical</td>\n",
       "      <td>0.0</td>\n",
       "      <td>5.170</td>\n",
       "      <td>0.096</td>\n",
       "      <td>7.44</td>\n",
       "      <td>37.104</td>\n",
       "      <td>0.044</td>\n",
       "    </tr>\n",
       "    <tr>\n",
       "      <th>4</th>\n",
       "      <td>-110.0472</td>\n",
       "      <td>37.60413</td>\n",
       "      <td>1984</td>\n",
       "      <td>historical</td>\n",
       "      <td>0.0</td>\n",
       "      <td>5.230</td>\n",
       "      <td>0.045</td>\n",
       "      <td>7.44</td>\n",
       "      <td>37.104</td>\n",
       "      <td>0.043</td>\n",
       "    </tr>\n",
       "    <tr>\n",
       "      <th>...</th>\n",
       "      <td>...</td>\n",
       "      <td>...</td>\n",
       "      <td>...</td>\n",
       "      <td>...</td>\n",
       "      <td>...</td>\n",
       "      <td>...</td>\n",
       "      <td>...</td>\n",
       "      <td>...</td>\n",
       "      <td>...</td>\n",
       "      <td>...</td>\n",
       "    </tr>\n",
       "    <tr>\n",
       "      <th>22744</th>\n",
       "      <td>-109.9659</td>\n",
       "      <td>37.62525</td>\n",
       "      <td>2024</td>\n",
       "      <td>8.5</td>\n",
       "      <td>0.0</td>\n",
       "      <td>3.557</td>\n",
       "      <td>0.552</td>\n",
       "      <td>7.44</td>\n",
       "      <td>37.104</td>\n",
       "      <td>0.091</td>\n",
       "    </tr>\n",
       "    <tr>\n",
       "      <th>22745</th>\n",
       "      <td>-109.9659</td>\n",
       "      <td>37.62525</td>\n",
       "      <td>2024</td>\n",
       "      <td>8.5</td>\n",
       "      <td>0.0</td>\n",
       "      <td>2.398</td>\n",
       "      <td>0.107</td>\n",
       "      <td>7.44</td>\n",
       "      <td>37.104</td>\n",
       "      <td>0.086</td>\n",
       "    </tr>\n",
       "    <tr>\n",
       "      <th>22746</th>\n",
       "      <td>-109.9659</td>\n",
       "      <td>37.62525</td>\n",
       "      <td>2024</td>\n",
       "      <td>8.5</td>\n",
       "      <td>0.0</td>\n",
       "      <td>3.000</td>\n",
       "      <td>0.595</td>\n",
       "      <td>7.44</td>\n",
       "      <td>37.104</td>\n",
       "      <td>0.092</td>\n",
       "    </tr>\n",
       "    <tr>\n",
       "      <th>22747</th>\n",
       "      <td>-109.9659</td>\n",
       "      <td>37.62525</td>\n",
       "      <td>2024</td>\n",
       "      <td>8.5</td>\n",
       "      <td>0.0</td>\n",
       "      <td>3.702</td>\n",
       "      <td>0.121</td>\n",
       "      <td>7.44</td>\n",
       "      <td>37.104</td>\n",
       "      <td>0.087</td>\n",
       "    </tr>\n",
       "    <tr>\n",
       "      <th>22748</th>\n",
       "      <td>-109.9659</td>\n",
       "      <td>37.62525</td>\n",
       "      <td>2024</td>\n",
       "      <td>8.5</td>\n",
       "      <td>0.0</td>\n",
       "      <td>2.450</td>\n",
       "      <td>0.075</td>\n",
       "      <td>7.44</td>\n",
       "      <td>37.104</td>\n",
       "      <td>0.085</td>\n",
       "    </tr>\n",
       "  </tbody>\n",
       "</table>\n",
       "<p>22749 rows × 10 columns</p>\n",
       "</div>"
      ],
      "text/plain": [
       "           long       lat  year         rcp  drysoildays_summer_whole  \\\n",
       "0     -110.0472  37.60413  1980  historical                       0.0   \n",
       "1     -110.0472  37.60413  1981  historical                       0.0   \n",
       "2     -110.0472  37.60413  1982  historical                       0.0   \n",
       "3     -110.0472  37.60413  1983  historical                       0.0   \n",
       "4     -110.0472  37.60413  1984  historical                       0.0   \n",
       "...         ...       ...   ...         ...                       ...   \n",
       "22744 -109.9659  37.62525  2024         8.5                       0.0   \n",
       "22745 -109.9659  37.62525  2024         8.5                       0.0   \n",
       "22746 -109.9659  37.62525  2024         8.5                       0.0   \n",
       "22747 -109.9659  37.62525  2024         8.5                       0.0   \n",
       "22748 -109.9659  37.62525  2024         8.5                       0.0   \n",
       "\n",
       "       evap_summer  nondryswa_summer_whole  ppt_summer  tmax_summer  \\\n",
       "0            1.560                   0.032        7.44       37.104   \n",
       "1            5.043                   0.034        7.44       37.104   \n",
       "2            4.528                   0.199        7.44       37.104   \n",
       "3            5.170                   0.096        7.44       37.104   \n",
       "4            5.230                   0.045        7.44       37.104   \n",
       "...            ...                     ...         ...          ...   \n",
       "22744        3.557                   0.552        7.44       37.104   \n",
       "22745        2.398                   0.107        7.44       37.104   \n",
       "22746        3.000                   0.595        7.44       37.104   \n",
       "22747        3.702                   0.121        7.44       37.104   \n",
       "22748        2.450                   0.075        7.44       37.104   \n",
       "\n",
       "       vwc_summer_whole  \n",
       "0                 0.042  \n",
       "1                 0.043  \n",
       "2                 0.046  \n",
       "3                 0.044  \n",
       "4                 0.043  \n",
       "...                 ...  \n",
       "22744             0.091  \n",
       "22745             0.086  \n",
       "22746             0.092  \n",
       "22747             0.087  \n",
       "22748             0.085  \n",
       "\n",
       "[22749 rows x 10 columns]"
      ]
     },
     "execution_count": 112,
     "metadata": {},
     "output_type": "execute_result"
    }
   ],
   "source": [
    "# plot out relatiionship between VWC and evaporation and precipitation\n",
    "# copy the data\n",
    "summer_copy_2 = summer.copy()\n",
    "# drop the null values\n",
    "summer_copy_2 = summer_copy_2.dropna().reset_index(drop=True)\n",
    "# round the columns\n",
    "summer_copy_2 = summer_copy_2.round({'evap_summer': 3, 'ppt_summer': 3, 'vwc_summer_whole': 3})\n",
    "summer_copy_2"
   ]
  },
  {
   "cell_type": "code",
   "execution_count": 113,
   "metadata": {},
   "outputs": [],
   "source": [
    "# save the data to csv file\n",
    "summer_copy_2.to_csv('./data/cleaned_data/relationship_evap_ppt_vwc.csv')"
   ]
  },
  {
   "cell_type": "markdown",
   "metadata": {},
   "source": [
    "#### Second Visualization"
   ]
  },
  {
   "cell_type": "code",
   "execution_count": 114,
   "metadata": {},
   "outputs": [
    {
     "data": {
      "text/html": [
       "<div>\n",
       "<style scoped>\n",
       "    .dataframe tbody tr th:only-of-type {\n",
       "        vertical-align: middle;\n",
       "    }\n",
       "\n",
       "    .dataframe tbody tr th {\n",
       "        vertical-align: top;\n",
       "    }\n",
       "\n",
       "    .dataframe thead th {\n",
       "        text-align: right;\n",
       "    }\n",
       "</style>\n",
       "<table border=\"1\" class=\"dataframe\">\n",
       "  <thead>\n",
       "    <tr style=\"text-align: right;\">\n",
       "      <th></th>\n",
       "      <th>long</th>\n",
       "      <th>lat</th>\n",
       "      <th>year</th>\n",
       "      <th>rcp</th>\n",
       "      <th>drysoildays_summer_whole</th>\n",
       "      <th>evap_summer</th>\n",
       "      <th>nondryswa_summer_whole</th>\n",
       "      <th>ppt_summer</th>\n",
       "      <th>tmax_summer</th>\n",
       "      <th>vwc_summer_whole</th>\n",
       "    </tr>\n",
       "  </thead>\n",
       "  <tbody>\n",
       "    <tr>\n",
       "      <th>0</th>\n",
       "      <td>-110.0472</td>\n",
       "      <td>37.60413</td>\n",
       "      <td>1980</td>\n",
       "      <td>historical</td>\n",
       "      <td>7.368</td>\n",
       "      <td>3.446</td>\n",
       "      <td>0.285</td>\n",
       "      <td>2.69</td>\n",
       "      <td>37.050</td>\n",
       "      <td>NaN</td>\n",
       "    </tr>\n",
       "    <tr>\n",
       "      <th>1</th>\n",
       "      <td>-110.0472</td>\n",
       "      <td>37.60413</td>\n",
       "      <td>1980</td>\n",
       "      <td>historical</td>\n",
       "      <td>7.368</td>\n",
       "      <td>3.446</td>\n",
       "      <td>0.285</td>\n",
       "      <td>2.69</td>\n",
       "      <td>37.050</td>\n",
       "      <td>NaN</td>\n",
       "    </tr>\n",
       "    <tr>\n",
       "      <th>2</th>\n",
       "      <td>-110.0472</td>\n",
       "      <td>37.60413</td>\n",
       "      <td>1980</td>\n",
       "      <td>historical</td>\n",
       "      <td>7.368</td>\n",
       "      <td>3.446</td>\n",
       "      <td>0.285</td>\n",
       "      <td>2.69</td>\n",
       "      <td>37.050</td>\n",
       "      <td>NaN</td>\n",
       "    </tr>\n",
       "    <tr>\n",
       "      <th>3</th>\n",
       "      <td>-110.0472</td>\n",
       "      <td>37.60413</td>\n",
       "      <td>1980</td>\n",
       "      <td>historical</td>\n",
       "      <td>7.368</td>\n",
       "      <td>3.446</td>\n",
       "      <td>0.285</td>\n",
       "      <td>2.69</td>\n",
       "      <td>37.050</td>\n",
       "      <td>NaN</td>\n",
       "    </tr>\n",
       "    <tr>\n",
       "      <th>4</th>\n",
       "      <td>-110.0472</td>\n",
       "      <td>37.60413</td>\n",
       "      <td>1980</td>\n",
       "      <td>historical</td>\n",
       "      <td>0.000</td>\n",
       "      <td>1.560</td>\n",
       "      <td>0.032</td>\n",
       "      <td>7.44</td>\n",
       "      <td>37.104</td>\n",
       "      <td>0.041876</td>\n",
       "    </tr>\n",
       "    <tr>\n",
       "      <th>...</th>\n",
       "      <td>...</td>\n",
       "      <td>...</td>\n",
       "      <td>...</td>\n",
       "      <td>...</td>\n",
       "      <td>...</td>\n",
       "      <td>...</td>\n",
       "      <td>...</td>\n",
       "      <td>...</td>\n",
       "      <td>...</td>\n",
       "      <td>...</td>\n",
       "    </tr>\n",
       "    <tr>\n",
       "      <th>69618</th>\n",
       "      <td>-109.9659</td>\n",
       "      <td>37.62525</td>\n",
       "      <td>2024</td>\n",
       "      <td>8.5</td>\n",
       "      <td>0.000</td>\n",
       "      <td>3.557</td>\n",
       "      <td>0.552</td>\n",
       "      <td>7.44</td>\n",
       "      <td>37.104</td>\n",
       "      <td>0.091433</td>\n",
       "    </tr>\n",
       "    <tr>\n",
       "      <th>69619</th>\n",
       "      <td>-109.9659</td>\n",
       "      <td>37.62525</td>\n",
       "      <td>2024</td>\n",
       "      <td>8.5</td>\n",
       "      <td>0.000</td>\n",
       "      <td>2.398</td>\n",
       "      <td>0.107</td>\n",
       "      <td>7.44</td>\n",
       "      <td>37.104</td>\n",
       "      <td>0.086355</td>\n",
       "    </tr>\n",
       "    <tr>\n",
       "      <th>69620</th>\n",
       "      <td>-109.9659</td>\n",
       "      <td>37.62525</td>\n",
       "      <td>2024</td>\n",
       "      <td>8.5</td>\n",
       "      <td>0.000</td>\n",
       "      <td>3.000</td>\n",
       "      <td>0.595</td>\n",
       "      <td>7.44</td>\n",
       "      <td>37.104</td>\n",
       "      <td>0.091992</td>\n",
       "    </tr>\n",
       "    <tr>\n",
       "      <th>69621</th>\n",
       "      <td>-109.9659</td>\n",
       "      <td>37.62525</td>\n",
       "      <td>2024</td>\n",
       "      <td>8.5</td>\n",
       "      <td>0.000</td>\n",
       "      <td>3.702</td>\n",
       "      <td>0.121</td>\n",
       "      <td>7.44</td>\n",
       "      <td>37.104</td>\n",
       "      <td>0.087115</td>\n",
       "    </tr>\n",
       "    <tr>\n",
       "      <th>69622</th>\n",
       "      <td>-109.9659</td>\n",
       "      <td>37.62525</td>\n",
       "      <td>2024</td>\n",
       "      <td>8.5</td>\n",
       "      <td>0.000</td>\n",
       "      <td>2.450</td>\n",
       "      <td>0.075</td>\n",
       "      <td>7.44</td>\n",
       "      <td>37.104</td>\n",
       "      <td>0.084664</td>\n",
       "    </tr>\n",
       "  </tbody>\n",
       "</table>\n",
       "<p>69623 rows × 10 columns</p>\n",
       "</div>"
      ],
      "text/plain": [
       "           long       lat  year         rcp  drysoildays_summer_whole  \\\n",
       "0     -110.0472  37.60413  1980  historical                     7.368   \n",
       "1     -110.0472  37.60413  1980  historical                     7.368   \n",
       "2     -110.0472  37.60413  1980  historical                     7.368   \n",
       "3     -110.0472  37.60413  1980  historical                     7.368   \n",
       "4     -110.0472  37.60413  1980  historical                     0.000   \n",
       "...         ...       ...   ...         ...                       ...   \n",
       "69618 -109.9659  37.62525  2024         8.5                     0.000   \n",
       "69619 -109.9659  37.62525  2024         8.5                     0.000   \n",
       "69620 -109.9659  37.62525  2024         8.5                     0.000   \n",
       "69621 -109.9659  37.62525  2024         8.5                     0.000   \n",
       "69622 -109.9659  37.62525  2024         8.5                     0.000   \n",
       "\n",
       "       evap_summer  nondryswa_summer_whole  ppt_summer  tmax_summer  \\\n",
       "0            3.446                   0.285        2.69       37.050   \n",
       "1            3.446                   0.285        2.69       37.050   \n",
       "2            3.446                   0.285        2.69       37.050   \n",
       "3            3.446                   0.285        2.69       37.050   \n",
       "4            1.560                   0.032        7.44       37.104   \n",
       "...            ...                     ...         ...          ...   \n",
       "69618        3.557                   0.552        7.44       37.104   \n",
       "69619        2.398                   0.107        7.44       37.104   \n",
       "69620        3.000                   0.595        7.44       37.104   \n",
       "69621        3.702                   0.121        7.44       37.104   \n",
       "69622        2.450                   0.075        7.44       37.104   \n",
       "\n",
       "       vwc_summer_whole  \n",
       "0                   NaN  \n",
       "1                   NaN  \n",
       "2                   NaN  \n",
       "3                   NaN  \n",
       "4              0.041876  \n",
       "...                 ...  \n",
       "69618          0.091433  \n",
       "69619          0.086355  \n",
       "69620          0.091992  \n",
       "69621          0.087115  \n",
       "69622          0.084664  \n",
       "\n",
       "[69623 rows x 10 columns]"
      ]
     },
     "execution_count": 114,
     "metadata": {},
     "output_type": "execute_result"
    }
   ],
   "source": [
    "# spider chart of summer data\n",
    "summer_copy_2 = summer.copy()\n",
    "summer_copy_2"
   ]
  },
  {
   "cell_type": "code",
   "execution_count": 115,
   "metadata": {},
   "outputs": [],
   "source": [
    "# drop unnecessary columns\n",
    "summer_copy_2 = summer_copy_2.drop(['long', 'lat', 'rcp'], axis=1)"
   ]
  },
  {
   "cell_type": "code",
   "execution_count": 127,
   "metadata": {},
   "outputs": [
    {
     "data": {
      "text/html": [
       "<div>\n",
       "<style scoped>\n",
       "    .dataframe tbody tr th:only-of-type {\n",
       "        vertical-align: middle;\n",
       "    }\n",
       "\n",
       "    .dataframe tbody tr th {\n",
       "        vertical-align: top;\n",
       "    }\n",
       "\n",
       "    .dataframe thead th {\n",
       "        text-align: right;\n",
       "    }\n",
       "</style>\n",
       "<table border=\"1\" class=\"dataframe\">\n",
       "  <thead>\n",
       "    <tr style=\"text-align: right;\">\n",
       "      <th></th>\n",
       "      <th>year</th>\n",
       "      <th>drysoildays_summer_whole</th>\n",
       "      <th>evap_summer</th>\n",
       "      <th>nondryswa_summer_whole</th>\n",
       "      <th>ppt_summer</th>\n",
       "      <th>tmax_summer</th>\n",
       "      <th>vwc_summer_whole</th>\n",
       "    </tr>\n",
       "  </thead>\n",
       "  <tbody>\n",
       "    <tr>\n",
       "      <th>1</th>\n",
       "      <td>1981</td>\n",
       "      <td>0.255970</td>\n",
       "      <td>0.832378</td>\n",
       "      <td>0.101002</td>\n",
       "      <td>0.577175</td>\n",
       "      <td>0.792399</td>\n",
       "      <td>0.066236</td>\n",
       "    </tr>\n",
       "    <tr>\n",
       "      <th>2</th>\n",
       "      <td>1982</td>\n",
       "      <td>0.324536</td>\n",
       "      <td>0.622308</td>\n",
       "      <td>0.559199</td>\n",
       "      <td>0.599269</td>\n",
       "      <td>0.593962</td>\n",
       "      <td>0.070423</td>\n",
       "    </tr>\n",
       "    <tr>\n",
       "      <th>3</th>\n",
       "      <td>1983</td>\n",
       "      <td>0.139149</td>\n",
       "      <td>0.799324</td>\n",
       "      <td>0.629162</td>\n",
       "      <td>0.664877</td>\n",
       "      <td>0.073535</td>\n",
       "      <td>0.070878</td>\n",
       "    </tr>\n",
       "    <tr>\n",
       "      <th>4</th>\n",
       "      <td>1984</td>\n",
       "      <td>0.232453</td>\n",
       "      <td>0.795393</td>\n",
       "      <td>0.278620</td>\n",
       "      <td>0.564805</td>\n",
       "      <td>0.250122</td>\n",
       "      <td>0.068098</td>\n",
       "    </tr>\n",
       "    <tr>\n",
       "      <th>5</th>\n",
       "      <td>1985</td>\n",
       "      <td>0.326470</td>\n",
       "      <td>0.088161</td>\n",
       "      <td>0.436613</td>\n",
       "      <td>0.190075</td>\n",
       "      <td>0.779893</td>\n",
       "      <td>0.068432</td>\n",
       "    </tr>\n",
       "    <tr>\n",
       "      <th>6</th>\n",
       "      <td>1986</td>\n",
       "      <td>0.291818</td>\n",
       "      <td>0.664557</td>\n",
       "      <td>0.376677</td>\n",
       "      <td>0.614292</td>\n",
       "      <td>0.222361</td>\n",
       "      <td>0.069044</td>\n",
       "    </tr>\n",
       "    <tr>\n",
       "      <th>7</th>\n",
       "      <td>1987</td>\n",
       "      <td>0.204933</td>\n",
       "      <td>0.604053</td>\n",
       "      <td>0.833924</td>\n",
       "      <td>0.733650</td>\n",
       "      <td>0.000000</td>\n",
       "      <td>0.073397</td>\n",
       "    </tr>\n",
       "    <tr>\n",
       "      <th>8</th>\n",
       "      <td>1988</td>\n",
       "      <td>0.329069</td>\n",
       "      <td>0.650974</td>\n",
       "      <td>0.265041</td>\n",
       "      <td>0.502173</td>\n",
       "      <td>0.336115</td>\n",
       "      <td>0.067566</td>\n",
       "    </tr>\n",
       "    <tr>\n",
       "      <th>9</th>\n",
       "      <td>1989</td>\n",
       "      <td>0.342523</td>\n",
       "      <td>0.357455</td>\n",
       "      <td>0.222188</td>\n",
       "      <td>0.354591</td>\n",
       "      <td>0.926105</td>\n",
       "      <td>0.067286</td>\n",
       "    </tr>\n",
       "    <tr>\n",
       "      <th>10</th>\n",
       "      <td>1990</td>\n",
       "      <td>0.832580</td>\n",
       "      <td>0.322382</td>\n",
       "      <td>0.025741</td>\n",
       "      <td>0.243596</td>\n",
       "      <td>0.700367</td>\n",
       "      <td>0.065655</td>\n",
       "    </tr>\n",
       "    <tr>\n",
       "      <th>11</th>\n",
       "      <td>1991</td>\n",
       "      <td>0.401208</td>\n",
       "      <td>0.534754</td>\n",
       "      <td>0.188000</td>\n",
       "      <td>0.340979</td>\n",
       "      <td>0.086735</td>\n",
       "      <td>0.066854</td>\n",
       "    </tr>\n",
       "    <tr>\n",
       "      <th>12</th>\n",
       "      <td>1992</td>\n",
       "      <td>0.326372</td>\n",
       "      <td>0.491797</td>\n",
       "      <td>0.388490</td>\n",
       "      <td>0.288700</td>\n",
       "      <td>0.053028</td>\n",
       "      <td>0.068325</td>\n",
       "    </tr>\n",
       "    <tr>\n",
       "      <th>13</th>\n",
       "      <td>1993</td>\n",
       "      <td>0.411210</td>\n",
       "      <td>0.195792</td>\n",
       "      <td>0.505235</td>\n",
       "      <td>0.287138</td>\n",
       "      <td>0.182061</td>\n",
       "      <td>0.068032</td>\n",
       "    </tr>\n",
       "    <tr>\n",
       "      <th>14</th>\n",
       "      <td>1994</td>\n",
       "      <td>0.592861</td>\n",
       "      <td>0.110479</td>\n",
       "      <td>0.072140</td>\n",
       "      <td>0.022122</td>\n",
       "      <td>0.706431</td>\n",
       "      <td>0.065005</td>\n",
       "    </tr>\n",
       "    <tr>\n",
       "      <th>15</th>\n",
       "      <td>1995</td>\n",
       "      <td>0.325735</td>\n",
       "      <td>0.599439</td>\n",
       "      <td>0.402182</td>\n",
       "      <td>0.373839</td>\n",
       "      <td>0.707837</td>\n",
       "      <td>0.068506</td>\n",
       "    </tr>\n",
       "    <tr>\n",
       "      <th>16</th>\n",
       "      <td>1996</td>\n",
       "      <td>1.000000</td>\n",
       "      <td>0.378491</td>\n",
       "      <td>0.007566</td>\n",
       "      <td>0.215613</td>\n",
       "      <td>0.455155</td>\n",
       "      <td>0.065235</td>\n",
       "    </tr>\n",
       "    <tr>\n",
       "      <th>17</th>\n",
       "      <td>1997</td>\n",
       "      <td>0.157649</td>\n",
       "      <td>0.476947</td>\n",
       "      <td>0.854368</td>\n",
       "      <td>0.519582</td>\n",
       "      <td>0.314864</td>\n",
       "      <td>0.072833</td>\n",
       "    </tr>\n",
       "    <tr>\n",
       "      <th>18</th>\n",
       "      <td>1998</td>\n",
       "      <td>0.358906</td>\n",
       "      <td>0.364233</td>\n",
       "      <td>0.289358</td>\n",
       "      <td>0.291193</td>\n",
       "      <td>0.681136</td>\n",
       "      <td>0.067762</td>\n",
       "    </tr>\n",
       "    <tr>\n",
       "      <th>19</th>\n",
       "      <td>1999</td>\n",
       "      <td>0.102077</td>\n",
       "      <td>1.000000</td>\n",
       "      <td>0.989318</td>\n",
       "      <td>1.000000</td>\n",
       "      <td>0.020302</td>\n",
       "      <td>0.075292</td>\n",
       "    </tr>\n",
       "    <tr>\n",
       "      <th>20</th>\n",
       "      <td>2000</td>\n",
       "      <td>0.629187</td>\n",
       "      <td>0.331719</td>\n",
       "      <td>0.000000</td>\n",
       "      <td>0.211229</td>\n",
       "      <td>0.621852</td>\n",
       "      <td>0.065305</td>\n",
       "    </tr>\n",
       "    <tr>\n",
       "      <th>21</th>\n",
       "      <td>2001</td>\n",
       "      <td>0.193425</td>\n",
       "      <td>0.563343</td>\n",
       "      <td>0.357521</td>\n",
       "      <td>0.472579</td>\n",
       "      <td>0.452666</td>\n",
       "      <td>0.068167</td>\n",
       "    </tr>\n",
       "    <tr>\n",
       "      <th>22</th>\n",
       "      <td>2002</td>\n",
       "      <td>0.925616</td>\n",
       "      <td>0.162072</td>\n",
       "      <td>0.067557</td>\n",
       "      <td>0.055366</td>\n",
       "      <td>0.680658</td>\n",
       "      <td>0.064531</td>\n",
       "    </tr>\n",
       "    <tr>\n",
       "      <th>23</th>\n",
       "      <td>2003</td>\n",
       "      <td>0.416787</td>\n",
       "      <td>0.354054</td>\n",
       "      <td>0.141522</td>\n",
       "      <td>0.281033</td>\n",
       "      <td>0.869549</td>\n",
       "      <td>0.066489</td>\n",
       "    </tr>\n",
       "    <tr>\n",
       "      <th>24</th>\n",
       "      <td>2004</td>\n",
       "      <td>0.628803</td>\n",
       "      <td>0.085185</td>\n",
       "      <td>0.097432</td>\n",
       "      <td>0.031600</td>\n",
       "      <td>0.256525</td>\n",
       "      <td>0.065543</td>\n",
       "    </tr>\n",
       "    <tr>\n",
       "      <th>25</th>\n",
       "      <td>2005</td>\n",
       "      <td>0.187448</td>\n",
       "      <td>0.511368</td>\n",
       "      <td>0.600632</td>\n",
       "      <td>0.462813</td>\n",
       "      <td>0.939569</td>\n",
       "      <td>0.069579</td>\n",
       "    </tr>\n",
       "    <tr>\n",
       "      <th>26</th>\n",
       "      <td>2006</td>\n",
       "      <td>0.400429</td>\n",
       "      <td>0.561612</td>\n",
       "      <td>0.159993</td>\n",
       "      <td>0.409084</td>\n",
       "      <td>0.633954</td>\n",
       "      <td>0.066577</td>\n",
       "    </tr>\n",
       "    <tr>\n",
       "      <th>27</th>\n",
       "      <td>2007</td>\n",
       "      <td>0.366045</td>\n",
       "      <td>0.475055</td>\n",
       "      <td>0.219222</td>\n",
       "      <td>0.420195</td>\n",
       "      <td>0.483594</td>\n",
       "      <td>0.067254</td>\n",
       "    </tr>\n",
       "    <tr>\n",
       "      <th>28</th>\n",
       "      <td>2008</td>\n",
       "      <td>0.280460</td>\n",
       "      <td>0.391333</td>\n",
       "      <td>0.340532</td>\n",
       "      <td>0.355953</td>\n",
       "      <td>0.248358</td>\n",
       "      <td>0.068493</td>\n",
       "    </tr>\n",
       "    <tr>\n",
       "      <th>29</th>\n",
       "      <td>2009</td>\n",
       "      <td>0.502573</td>\n",
       "      <td>0.069051</td>\n",
       "      <td>0.067321</td>\n",
       "      <td>0.028907</td>\n",
       "      <td>0.490793</td>\n",
       "      <td>0.065291</td>\n",
       "    </tr>\n",
       "    <tr>\n",
       "      <th>30</th>\n",
       "      <td>2010</td>\n",
       "      <td>0.173548</td>\n",
       "      <td>0.595272</td>\n",
       "      <td>1.000000</td>\n",
       "      <td>0.640504</td>\n",
       "      <td>0.816138</td>\n",
       "      <td>0.074979</td>\n",
       "    </tr>\n",
       "    <tr>\n",
       "      <th>31</th>\n",
       "      <td>2011</td>\n",
       "      <td>0.428323</td>\n",
       "      <td>0.503414</td>\n",
       "      <td>0.065421</td>\n",
       "      <td>0.269703</td>\n",
       "      <td>0.396243</td>\n",
       "      <td>0.065888</td>\n",
       "    </tr>\n",
       "    <tr>\n",
       "      <th>32</th>\n",
       "      <td>2012</td>\n",
       "      <td>0.448498</td>\n",
       "      <td>0.284454</td>\n",
       "      <td>0.291205</td>\n",
       "      <td>0.348593</td>\n",
       "      <td>0.359680</td>\n",
       "      <td>0.068027</td>\n",
       "    </tr>\n",
       "    <tr>\n",
       "      <th>33</th>\n",
       "      <td>2013</td>\n",
       "      <td>0.507180</td>\n",
       "      <td>0.308917</td>\n",
       "      <td>0.379229</td>\n",
       "      <td>0.463412</td>\n",
       "      <td>1.000000</td>\n",
       "      <td>0.068731</td>\n",
       "    </tr>\n",
       "    <tr>\n",
       "      <th>34</th>\n",
       "      <td>2014</td>\n",
       "      <td>0.300057</td>\n",
       "      <td>0.401213</td>\n",
       "      <td>0.353896</td>\n",
       "      <td>0.374638</td>\n",
       "      <td>0.400486</td>\n",
       "      <td>0.068344</td>\n",
       "    </tr>\n",
       "    <tr>\n",
       "      <th>35</th>\n",
       "      <td>2015</td>\n",
       "      <td>0.000000</td>\n",
       "      <td>0.865975</td>\n",
       "      <td>0.723682</td>\n",
       "      <td>0.823589</td>\n",
       "      <td>0.498817</td>\n",
       "      <td>0.072531</td>\n",
       "    </tr>\n",
       "    <tr>\n",
       "      <th>36</th>\n",
       "      <td>2016</td>\n",
       "      <td>0.290868</td>\n",
       "      <td>0.443416</td>\n",
       "      <td>0.360286</td>\n",
       "      <td>0.392252</td>\n",
       "      <td>0.853709</td>\n",
       "      <td>0.068516</td>\n",
       "    </tr>\n",
       "    <tr>\n",
       "      <th>37</th>\n",
       "      <td>2017</td>\n",
       "      <td>0.305248</td>\n",
       "      <td>0.332105</td>\n",
       "      <td>0.163788</td>\n",
       "      <td>0.329793</td>\n",
       "      <td>0.762924</td>\n",
       "      <td>0.066612</td>\n",
       "    </tr>\n",
       "    <tr>\n",
       "      <th>38</th>\n",
       "      <td>2018</td>\n",
       "      <td>0.867626</td>\n",
       "      <td>0.093284</td>\n",
       "      <td>0.053515</td>\n",
       "      <td>0.177406</td>\n",
       "      <td>0.365574</td>\n",
       "      <td>0.065397</td>\n",
       "    </tr>\n",
       "    <tr>\n",
       "      <th>39</th>\n",
       "      <td>2021</td>\n",
       "      <td>0.373643</td>\n",
       "      <td>0.402562</td>\n",
       "      <td>0.463269</td>\n",
       "      <td>0.379992</td>\n",
       "      <td>0.721086</td>\n",
       "      <td>0.068904</td>\n",
       "    </tr>\n",
       "    <tr>\n",
       "      <th>40</th>\n",
       "      <td>2022</td>\n",
       "      <td>0.399668</td>\n",
       "      <td>0.350936</td>\n",
       "      <td>0.404685</td>\n",
       "      <td>0.341678</td>\n",
       "      <td>0.916108</td>\n",
       "      <td>0.068425</td>\n",
       "    </tr>\n",
       "    <tr>\n",
       "      <th>41</th>\n",
       "      <td>2023</td>\n",
       "      <td>0.344075</td>\n",
       "      <td>0.448684</td>\n",
       "      <td>0.662350</td>\n",
       "      <td>0.458952</td>\n",
       "      <td>0.806748</td>\n",
       "      <td>0.070790</td>\n",
       "    </tr>\n",
       "    <tr>\n",
       "      <th>42</th>\n",
       "      <td>2024</td>\n",
       "      <td>0.416539</td>\n",
       "      <td>0.295430</td>\n",
       "      <td>0.562352</td>\n",
       "      <td>0.329676</td>\n",
       "      <td>0.933750</td>\n",
       "      <td>0.069604</td>\n",
       "    </tr>\n",
       "  </tbody>\n",
       "</table>\n",
       "</div>"
      ],
      "text/plain": [
       "    year  drysoildays_summer_whole  evap_summer  nondryswa_summer_whole  \\\n",
       "1   1981                  0.255970     0.832378                0.101002   \n",
       "2   1982                  0.324536     0.622308                0.559199   \n",
       "3   1983                  0.139149     0.799324                0.629162   \n",
       "4   1984                  0.232453     0.795393                0.278620   \n",
       "5   1985                  0.326470     0.088161                0.436613   \n",
       "6   1986                  0.291818     0.664557                0.376677   \n",
       "7   1987                  0.204933     0.604053                0.833924   \n",
       "8   1988                  0.329069     0.650974                0.265041   \n",
       "9   1989                  0.342523     0.357455                0.222188   \n",
       "10  1990                  0.832580     0.322382                0.025741   \n",
       "11  1991                  0.401208     0.534754                0.188000   \n",
       "12  1992                  0.326372     0.491797                0.388490   \n",
       "13  1993                  0.411210     0.195792                0.505235   \n",
       "14  1994                  0.592861     0.110479                0.072140   \n",
       "15  1995                  0.325735     0.599439                0.402182   \n",
       "16  1996                  1.000000     0.378491                0.007566   \n",
       "17  1997                  0.157649     0.476947                0.854368   \n",
       "18  1998                  0.358906     0.364233                0.289358   \n",
       "19  1999                  0.102077     1.000000                0.989318   \n",
       "20  2000                  0.629187     0.331719                0.000000   \n",
       "21  2001                  0.193425     0.563343                0.357521   \n",
       "22  2002                  0.925616     0.162072                0.067557   \n",
       "23  2003                  0.416787     0.354054                0.141522   \n",
       "24  2004                  0.628803     0.085185                0.097432   \n",
       "25  2005                  0.187448     0.511368                0.600632   \n",
       "26  2006                  0.400429     0.561612                0.159993   \n",
       "27  2007                  0.366045     0.475055                0.219222   \n",
       "28  2008                  0.280460     0.391333                0.340532   \n",
       "29  2009                  0.502573     0.069051                0.067321   \n",
       "30  2010                  0.173548     0.595272                1.000000   \n",
       "31  2011                  0.428323     0.503414                0.065421   \n",
       "32  2012                  0.448498     0.284454                0.291205   \n",
       "33  2013                  0.507180     0.308917                0.379229   \n",
       "34  2014                  0.300057     0.401213                0.353896   \n",
       "35  2015                  0.000000     0.865975                0.723682   \n",
       "36  2016                  0.290868     0.443416                0.360286   \n",
       "37  2017                  0.305248     0.332105                0.163788   \n",
       "38  2018                  0.867626     0.093284                0.053515   \n",
       "39  2021                  0.373643     0.402562                0.463269   \n",
       "40  2022                  0.399668     0.350936                0.404685   \n",
       "41  2023                  0.344075     0.448684                0.662350   \n",
       "42  2024                  0.416539     0.295430                0.562352   \n",
       "\n",
       "    ppt_summer  tmax_summer  vwc_summer_whole  \n",
       "1     0.577175     0.792399          0.066236  \n",
       "2     0.599269     0.593962          0.070423  \n",
       "3     0.664877     0.073535          0.070878  \n",
       "4     0.564805     0.250122          0.068098  \n",
       "5     0.190075     0.779893          0.068432  \n",
       "6     0.614292     0.222361          0.069044  \n",
       "7     0.733650     0.000000          0.073397  \n",
       "8     0.502173     0.336115          0.067566  \n",
       "9     0.354591     0.926105          0.067286  \n",
       "10    0.243596     0.700367          0.065655  \n",
       "11    0.340979     0.086735          0.066854  \n",
       "12    0.288700     0.053028          0.068325  \n",
       "13    0.287138     0.182061          0.068032  \n",
       "14    0.022122     0.706431          0.065005  \n",
       "15    0.373839     0.707837          0.068506  \n",
       "16    0.215613     0.455155          0.065235  \n",
       "17    0.519582     0.314864          0.072833  \n",
       "18    0.291193     0.681136          0.067762  \n",
       "19    1.000000     0.020302          0.075292  \n",
       "20    0.211229     0.621852          0.065305  \n",
       "21    0.472579     0.452666          0.068167  \n",
       "22    0.055366     0.680658          0.064531  \n",
       "23    0.281033     0.869549          0.066489  \n",
       "24    0.031600     0.256525          0.065543  \n",
       "25    0.462813     0.939569          0.069579  \n",
       "26    0.409084     0.633954          0.066577  \n",
       "27    0.420195     0.483594          0.067254  \n",
       "28    0.355953     0.248358          0.068493  \n",
       "29    0.028907     0.490793          0.065291  \n",
       "30    0.640504     0.816138          0.074979  \n",
       "31    0.269703     0.396243          0.065888  \n",
       "32    0.348593     0.359680          0.068027  \n",
       "33    0.463412     1.000000          0.068731  \n",
       "34    0.374638     0.400486          0.068344  \n",
       "35    0.823589     0.498817          0.072531  \n",
       "36    0.392252     0.853709          0.068516  \n",
       "37    0.329793     0.762924          0.066612  \n",
       "38    0.177406     0.365574          0.065397  \n",
       "39    0.379992     0.721086          0.068904  \n",
       "40    0.341678     0.916108          0.068425  \n",
       "41    0.458952     0.806748          0.070790  \n",
       "42    0.329676     0.933750          0.069604  "
      ]
     },
     "execution_count": 127,
     "metadata": {},
     "output_type": "execute_result"
    }
   ],
   "source": [
    "summer_mean = summer_copy_2.groupby(['year']).mean().reset_index()\n",
    "# normalize each column\n",
    "scaler = MinMaxScaler()\n",
    "normalization = ['drysoildays_summer_whole', 'evap_summer', 'nondryswa_summer_whole', 'ppt_summer', 'tmax_summer']\n",
    "summer_norm = summer_mean.copy()\n",
    "summer_norm[normalization] = scaler.fit_transform(summer_norm[normalization])\n",
    "\n",
    "# get rid of the first row\n",
    "summer_norm = summer_norm.iloc[1:, :]\n",
    "\n",
    "# save the normalized data to a csv file\n",
    "summer_norm.to_csv('./data/cleaned_data/summer_data_normalized.csv', index=False)\n",
    "\n",
    "summer_norm"
   ]
  },
  {
   "cell_type": "code",
   "execution_count": 117,
   "metadata": {},
   "outputs": [
    {
     "data": {
      "application/javascript": "\n    <div class=\"flourish-embed flourish-radar\" data-src=\"visualisation/17966848\"><script src=\"https://public.flourish.studio/resources/embed.js\"></script></div>\n",
      "text/plain": [
       "<IPython.core.display.Javascript object>"
      ]
     },
     "metadata": {},
     "output_type": "display_data"
    }
   ],
   "source": [
    "display(Javascript(\"\"\"\n",
    "    <div class=\"flourish-embed flourish-radar\" data-src=\"visualisation/17966848\"><script src=\"https://public.flourish.studio/resources/embed.js\"></script></div>\n",
    "\"\"\"))"
   ]
  },
  {
   "cell_type": "markdown",
   "metadata": {},
   "source": [
    "### Summer vs. Winter Dataset"
   ]
  },
  {
   "cell_type": "code",
   "execution_count": 118,
   "metadata": {},
   "outputs": [
    {
     "data": {
      "text/html": [
       "<div>\n",
       "<style scoped>\n",
       "    .dataframe tbody tr th:only-of-type {\n",
       "        vertical-align: middle;\n",
       "    }\n",
       "\n",
       "    .dataframe tbody tr th {\n",
       "        vertical-align: top;\n",
       "    }\n",
       "\n",
       "    .dataframe thead th {\n",
       "        text-align: right;\n",
       "    }\n",
       "</style>\n",
       "<table border=\"1\" class=\"dataframe\">\n",
       "  <thead>\n",
       "    <tr style=\"text-align: right;\">\n",
       "      <th></th>\n",
       "      <th>long</th>\n",
       "      <th>lat</th>\n",
       "      <th>year</th>\n",
       "      <th>rcp</th>\n",
       "      <th>ppt_annual</th>\n",
       "      <th>ppt_summer</th>\n",
       "      <th>ppt_winter</th>\n",
       "      <th>t_summer</th>\n",
       "      <th>t_winter</th>\n",
       "      <th>tmax_summer</th>\n",
       "      <th>tmin_winter</th>\n",
       "    </tr>\n",
       "  </thead>\n",
       "  <tbody>\n",
       "    <tr>\n",
       "      <th>0</th>\n",
       "      <td>-110.0472</td>\n",
       "      <td>37.60413</td>\n",
       "      <td>1980</td>\n",
       "      <td>historical</td>\n",
       "      <td>13.79</td>\n",
       "      <td>2.69</td>\n",
       "      <td>13.79</td>\n",
       "      <td>23.15924</td>\n",
       "      <td>0.964835</td>\n",
       "      <td>37.05</td>\n",
       "      <td>NaN</td>\n",
       "    </tr>\n",
       "    <tr>\n",
       "      <th>1</th>\n",
       "      <td>-110.0472</td>\n",
       "      <td>37.60413</td>\n",
       "      <td>1980</td>\n",
       "      <td>historical</td>\n",
       "      <td>2.69</td>\n",
       "      <td>2.69</td>\n",
       "      <td>13.79</td>\n",
       "      <td>23.15924</td>\n",
       "      <td>0.964835</td>\n",
       "      <td>37.05</td>\n",
       "      <td>NaN</td>\n",
       "    </tr>\n",
       "    <tr>\n",
       "      <th>2</th>\n",
       "      <td>-110.0472</td>\n",
       "      <td>37.60413</td>\n",
       "      <td>1980</td>\n",
       "      <td>historical</td>\n",
       "      <td>13.79</td>\n",
       "      <td>2.69</td>\n",
       "      <td>13.79</td>\n",
       "      <td>23.15924</td>\n",
       "      <td>0.964835</td>\n",
       "      <td>37.05</td>\n",
       "      <td>NaN</td>\n",
       "    </tr>\n",
       "    <tr>\n",
       "      <th>3</th>\n",
       "      <td>-110.0472</td>\n",
       "      <td>37.60413</td>\n",
       "      <td>1980</td>\n",
       "      <td>historical</td>\n",
       "      <td>2.69</td>\n",
       "      <td>2.69</td>\n",
       "      <td>13.79</td>\n",
       "      <td>23.15924</td>\n",
       "      <td>0.964835</td>\n",
       "      <td>37.05</td>\n",
       "      <td>NaN</td>\n",
       "    </tr>\n",
       "    <tr>\n",
       "      <th>4</th>\n",
       "      <td>-110.0472</td>\n",
       "      <td>37.60413</td>\n",
       "      <td>1980</td>\n",
       "      <td>historical</td>\n",
       "      <td>NaN</td>\n",
       "      <td>NaN</td>\n",
       "      <td>NaN</td>\n",
       "      <td>NaN</td>\n",
       "      <td>NaN</td>\n",
       "      <td>NaN</td>\n",
       "      <td>-12.45</td>\n",
       "    </tr>\n",
       "  </tbody>\n",
       "</table>\n",
       "</div>"
      ],
      "text/plain": [
       "       long       lat  year         rcp  ppt_annual  ppt_summer  ppt_winter  \\\n",
       "0 -110.0472  37.60413  1980  historical       13.79        2.69       13.79   \n",
       "1 -110.0472  37.60413  1980  historical        2.69        2.69       13.79   \n",
       "2 -110.0472  37.60413  1980  historical       13.79        2.69       13.79   \n",
       "3 -110.0472  37.60413  1980  historical        2.69        2.69       13.79   \n",
       "4 -110.0472  37.60413  1980  historical         NaN         NaN         NaN   \n",
       "\n",
       "   t_summer  t_winter  tmax_summer  tmin_winter  \n",
       "0  23.15924  0.964835        37.05          NaN  \n",
       "1  23.15924  0.964835        37.05          NaN  \n",
       "2  23.15924  0.964835        37.05          NaN  \n",
       "3  23.15924  0.964835        37.05          NaN  \n",
       "4       NaN       NaN          NaN       -12.45  "
      ]
     },
     "execution_count": 118,
     "metadata": {},
     "output_type": "execute_result"
    }
   ],
   "source": [
    "# load the data\n",
    "summer_winter = pd.read_csv('./data/cleaned_data/summer_winter_data.csv')\n",
    "summer_winter.head()"
   ]
  },
  {
   "cell_type": "code",
   "execution_count": 119,
   "metadata": {},
   "outputs": [
    {
     "data": {
      "text/plain": [
       "Index(['long', 'lat', 'year', 'timeperiod', 'rcp', 'scenario', 'treecanopy',\n",
       "       'ann_herb', 'bare', 'herb', 'litter', 'shrub',\n",
       "       'drysoildays_summer_whole', 'evap_summer',\n",
       "       'extremeshorttermdrystress_summer_whole', 'frostdays_winter',\n",
       "       'nondryswa_summer_whole', 'ppt_winter', 'ppt_summer', 'ppt_annual',\n",
       "       't_winter', 't_summer', 't_annual', 'tmax_summer', 'tmin_winter',\n",
       "       'vwc_winter_whole', 'vwc_spring_whole', 'vwc_summer_whole',\n",
       "       'vwc_fall_whole'],\n",
       "      dtype='object')"
      ]
     },
     "execution_count": 119,
     "metadata": {},
     "output_type": "execute_result"
    }
   ],
   "source": [
    "df.columns"
   ]
  }
 ],
 "metadata": {
  "kernelspec": {
   "display_name": "Python 3",
   "language": "python",
   "name": "python3"
  },
  "language_info": {
   "codemirror_mode": {
    "name": "ipython",
    "version": 3
   },
   "file_extension": ".py",
   "mimetype": "text/x-python",
   "name": "python",
   "nbconvert_exporter": "python",
   "pygments_lexer": "ipython3",
   "version": "3.11.8"
  }
 },
 "nbformat": 4,
 "nbformat_minor": 2
}
