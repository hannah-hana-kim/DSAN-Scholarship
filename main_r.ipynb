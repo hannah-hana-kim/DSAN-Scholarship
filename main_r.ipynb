{
 "cells": [
  {
   "cell_type": "code",
   "execution_count": 1,
   "metadata": {
    "vscode": {
     "languageId": "r"
    }
   },
   "outputs": [
    {
     "name": "stderr",
     "output_type": "stream",
     "text": [
      "\n",
      "Attaching package: 'dplyr'\n",
      "\n",
      "\n",
      "The following objects are masked from 'package:stats':\n",
      "\n",
      "    filter, lag\n",
      "\n",
      "\n",
      "The following objects are masked from 'package:base':\n",
      "\n",
      "    intersect, setdiff, setequal, union\n",
      "\n",
      "\n"
     ]
    }
   ],
   "source": [
    "library(ggplot2)\n",
    "library(dplyr)\n",
    "library(tidyr)"
   ]
  },
  {
   "cell_type": "code",
   "execution_count": 2,
   "metadata": {
    "vscode": {
     "languageId": "r"
    }
   },
   "outputs": [],
   "source": [
    "nabr <- read.csv('./data/NABR_historic.csv')\n",
    "nearterm <- read.csv('./data/nearterm_data_2020-2024.csv')"
   ]
  },
  {
   "cell_type": "code",
   "execution_count": 3,
   "metadata": {
    "vscode": {
     "languageId": "r"
    }
   },
   "outputs": [
    {
     "data": {
      "text/html": [
       "<table class=\"dataframe\">\n",
       "<caption>A data.frame: 6 x 29</caption>\n",
       "<thead>\n",
       "\t<tr><th></th><th scope=col>long</th><th scope=col>lat</th><th scope=col>year</th><th scope=col>TimePeriod</th><th scope=col>RCP</th><th scope=col>scenario</th><th scope=col>treecanopy</th><th scope=col>Ann_Herb</th><th scope=col>Bare</th><th scope=col>Herb</th><th scope=col>...</th><th scope=col>PPT_Annual</th><th scope=col>T_Winter</th><th scope=col>T_Summer</th><th scope=col>T_Annual</th><th scope=col>Tmax_Summer</th><th scope=col>Tmin_Winter</th><th scope=col>VWC_Winter_whole</th><th scope=col>VWC_Spring_whole</th><th scope=col>VWC_Summer_whole</th><th scope=col>VWC_Fall_whole</th></tr>\n",
       "\t<tr><th></th><th scope=col>&lt;dbl&gt;</th><th scope=col>&lt;dbl&gt;</th><th scope=col>&lt;int&gt;</th><th scope=col>&lt;chr&gt;</th><th scope=col>&lt;chr&gt;</th><th scope=col>&lt;chr&gt;</th><th scope=col>&lt;int&gt;</th><th scope=col>&lt;int&gt;</th><th scope=col>&lt;int&gt;</th><th scope=col>&lt;int&gt;</th><th scope=col>...</th><th scope=col>&lt;dbl&gt;</th><th scope=col>&lt;dbl&gt;</th><th scope=col>&lt;dbl&gt;</th><th scope=col>&lt;dbl&gt;</th><th scope=col>&lt;dbl&gt;</th><th scope=col>&lt;dbl&gt;</th><th scope=col>&lt;dbl&gt;</th><th scope=col>&lt;dbl&gt;</th><th scope=col>&lt;dbl&gt;</th><th scope=col>&lt;dbl&gt;</th></tr>\n",
       "</thead>\n",
       "<tbody>\n",
       "\t<tr><th scope=row>1</th><td>-110.0472</td><td>37.60413</td><td>1980</td><td>Hist</td><td>historical</td><td>sc1</td><td>0</td><td>0</td><td>84</td><td>5</td><td>...</td><td>13.79</td><td>0.9648352</td><td>23.15924</td><td>23.1592400</td><td>37.05</td><td>    NA</td><td>       NA</td><td>       NA</td><td>       NA</td><td>        NA</td></tr>\n",
       "\t<tr><th scope=row>2</th><td>-110.0472</td><td>37.60413</td><td>1980</td><td>Hist</td><td>historical</td><td>sc1</td><td>0</td><td>0</td><td>84</td><td>5</td><td>...</td><td> 2.69</td><td>0.9648352</td><td>23.15924</td><td> 0.9648352</td><td>37.05</td><td>    NA</td><td>       NA</td><td>       NA</td><td>       NA</td><td>        NA</td></tr>\n",
       "\t<tr><th scope=row>3</th><td>-110.0472</td><td>37.60413</td><td>1980</td><td>Hist</td><td>historical</td><td>sc1</td><td>0</td><td>0</td><td>84</td><td>5</td><td>...</td><td>13.79</td><td>0.9648352</td><td>23.15924</td><td> 0.9648352</td><td>37.05</td><td>    NA</td><td>       NA</td><td>       NA</td><td>       NA</td><td>        NA</td></tr>\n",
       "\t<tr><th scope=row>4</th><td>-110.0472</td><td>37.60413</td><td>1980</td><td>Hist</td><td>historical</td><td>sc1</td><td>0</td><td>0</td><td>84</td><td>5</td><td>...</td><td> 2.69</td><td>0.9648352</td><td>23.15924</td><td>23.1592400</td><td>37.05</td><td>    NA</td><td>       NA</td><td>       NA</td><td>       NA</td><td>        NA</td></tr>\n",
       "\t<tr><th scope=row>5</th><td>-110.0472</td><td>37.60413</td><td>1980</td><td>Hist</td><td>historical</td><td>sc1</td><td>0</td><td>0</td><td>84</td><td>5</td><td>...</td><td>   NA</td><td>       NA</td><td>      NA</td><td>        NA</td><td>   NA</td><td>-12.45</td><td>0.1134469</td><td>0.0968307</td><td>0.0418759</td><td>0.05229755</td></tr>\n",
       "\t<tr><th scope=row>6</th><td>-110.0472</td><td>37.60413</td><td>1981</td><td>Hist</td><td>historical</td><td>sc1</td><td>0</td><td>0</td><td>84</td><td>5</td><td>...</td><td>11.75</td><td>3.3344440</td><td>23.27065</td><td>11.5813200</td><td>37.55</td><td>    NA</td><td>       NA</td><td>       NA</td><td>       NA</td><td>        NA</td></tr>\n",
       "</tbody>\n",
       "</table>\n"
      ],
      "text/latex": [
       "A data.frame: 6 x 29\n",
       "\\begin{tabular}{r|lllllllllllllllllllll}\n",
       "  & long & lat & year & TimePeriod & RCP & scenario & treecanopy & Ann\\_Herb & Bare & Herb & ... & PPT\\_Annual & T\\_Winter & T\\_Summer & T\\_Annual & Tmax\\_Summer & Tmin\\_Winter & VWC\\_Winter\\_whole & VWC\\_Spring\\_whole & VWC\\_Summer\\_whole & VWC\\_Fall\\_whole\\\\\n",
       "  & <dbl> & <dbl> & <int> & <chr> & <chr> & <chr> & <int> & <int> & <int> & <int> & ... & <dbl> & <dbl> & <dbl> & <dbl> & <dbl> & <dbl> & <dbl> & <dbl> & <dbl> & <dbl>\\\\\n",
       "\\hline\n",
       "\t1 & -110.0472 & 37.60413 & 1980 & Hist & historical & sc1 & 0 & 0 & 84 & 5 & ... & 13.79 & 0.9648352 & 23.15924 & 23.1592400 & 37.05 &     NA &        NA &        NA &        NA &         NA\\\\\n",
       "\t2 & -110.0472 & 37.60413 & 1980 & Hist & historical & sc1 & 0 & 0 & 84 & 5 & ... &  2.69 & 0.9648352 & 23.15924 &  0.9648352 & 37.05 &     NA &        NA &        NA &        NA &         NA\\\\\n",
       "\t3 & -110.0472 & 37.60413 & 1980 & Hist & historical & sc1 & 0 & 0 & 84 & 5 & ... & 13.79 & 0.9648352 & 23.15924 &  0.9648352 & 37.05 &     NA &        NA &        NA &        NA &         NA\\\\\n",
       "\t4 & -110.0472 & 37.60413 & 1980 & Hist & historical & sc1 & 0 & 0 & 84 & 5 & ... &  2.69 & 0.9648352 & 23.15924 & 23.1592400 & 37.05 &     NA &        NA &        NA &        NA &         NA\\\\\n",
       "\t5 & -110.0472 & 37.60413 & 1980 & Hist & historical & sc1 & 0 & 0 & 84 & 5 & ... &    NA &        NA &       NA &         NA &    NA & -12.45 & 0.1134469 & 0.0968307 & 0.0418759 & 0.05229755\\\\\n",
       "\t6 & -110.0472 & 37.60413 & 1981 & Hist & historical & sc1 & 0 & 0 & 84 & 5 & ... & 11.75 & 3.3344440 & 23.27065 & 11.5813200 & 37.55 &     NA &        NA &        NA &        NA &         NA\\\\\n",
       "\\end{tabular}\n"
      ],
      "text/markdown": [
       "\n",
       "A data.frame: 6 x 29\n",
       "\n",
       "| <!--/--> | long &lt;dbl&gt; | lat &lt;dbl&gt; | year &lt;int&gt; | TimePeriod &lt;chr&gt; | RCP &lt;chr&gt; | scenario &lt;chr&gt; | treecanopy &lt;int&gt; | Ann_Herb &lt;int&gt; | Bare &lt;int&gt; | Herb &lt;int&gt; | ... ... | PPT_Annual &lt;dbl&gt; | T_Winter &lt;dbl&gt; | T_Summer &lt;dbl&gt; | T_Annual &lt;dbl&gt; | Tmax_Summer &lt;dbl&gt; | Tmin_Winter &lt;dbl&gt; | VWC_Winter_whole &lt;dbl&gt; | VWC_Spring_whole &lt;dbl&gt; | VWC_Summer_whole &lt;dbl&gt; | VWC_Fall_whole &lt;dbl&gt; |\n",
       "|---|---|---|---|---|---|---|---|---|---|---|---|---|---|---|---|---|---|---|---|---|---|\n",
       "| 1 | -110.0472 | 37.60413 | 1980 | Hist | historical | sc1 | 0 | 0 | 84 | 5 | ... | 13.79 | 0.9648352 | 23.15924 | 23.1592400 | 37.05 |     NA |        NA |        NA |        NA |         NA |\n",
       "| 2 | -110.0472 | 37.60413 | 1980 | Hist | historical | sc1 | 0 | 0 | 84 | 5 | ... |  2.69 | 0.9648352 | 23.15924 |  0.9648352 | 37.05 |     NA |        NA |        NA |        NA |         NA |\n",
       "| 3 | -110.0472 | 37.60413 | 1980 | Hist | historical | sc1 | 0 | 0 | 84 | 5 | ... | 13.79 | 0.9648352 | 23.15924 |  0.9648352 | 37.05 |     NA |        NA |        NA |        NA |         NA |\n",
       "| 4 | -110.0472 | 37.60413 | 1980 | Hist | historical | sc1 | 0 | 0 | 84 | 5 | ... |  2.69 | 0.9648352 | 23.15924 | 23.1592400 | 37.05 |     NA |        NA |        NA |        NA |         NA |\n",
       "| 5 | -110.0472 | 37.60413 | 1980 | Hist | historical | sc1 | 0 | 0 | 84 | 5 | ... |    NA |        NA |       NA |         NA |    NA | -12.45 | 0.1134469 | 0.0968307 | 0.0418759 | 0.05229755 |\n",
       "| 6 | -110.0472 | 37.60413 | 1981 | Hist | historical | sc1 | 0 | 0 | 84 | 5 | ... | 11.75 | 3.3344440 | 23.27065 | 11.5813200 | 37.55 |     NA |        NA |        NA |        NA |         NA |\n",
       "\n"
      ],
      "text/plain": [
       "  long      lat      year TimePeriod RCP        scenario treecanopy Ann_Herb\n",
       "1 -110.0472 37.60413 1980 Hist       historical sc1      0          0       \n",
       "2 -110.0472 37.60413 1980 Hist       historical sc1      0          0       \n",
       "3 -110.0472 37.60413 1980 Hist       historical sc1      0          0       \n",
       "4 -110.0472 37.60413 1980 Hist       historical sc1      0          0       \n",
       "5 -110.0472 37.60413 1980 Hist       historical sc1      0          0       \n",
       "6 -110.0472 37.60413 1981 Hist       historical sc1      0          0       \n",
       "  Bare Herb ... PPT_Annual T_Winter  T_Summer T_Annual   Tmax_Summer\n",
       "1 84   5    ... 13.79      0.9648352 23.15924 23.1592400 37.05      \n",
       "2 84   5    ...  2.69      0.9648352 23.15924  0.9648352 37.05      \n",
       "3 84   5    ... 13.79      0.9648352 23.15924  0.9648352 37.05      \n",
       "4 84   5    ...  2.69      0.9648352 23.15924 23.1592400 37.05      \n",
       "5 84   5    ...    NA             NA       NA         NA    NA      \n",
       "6 84   5    ... 11.75      3.3344440 23.27065 11.5813200 37.55      \n",
       "  Tmin_Winter VWC_Winter_whole VWC_Spring_whole VWC_Summer_whole VWC_Fall_whole\n",
       "1     NA             NA               NA               NA                NA    \n",
       "2     NA             NA               NA               NA                NA    \n",
       "3     NA             NA               NA               NA                NA    \n",
       "4     NA             NA               NA               NA                NA    \n",
       "5 -12.45      0.1134469        0.0968307        0.0418759        0.05229755    \n",
       "6     NA             NA               NA               NA                NA    "
      ]
     },
     "metadata": {},
     "output_type": "display_data"
    },
    {
     "data": {
      "text/html": [
       "<table class=\"dataframe\">\n",
       "<caption>A data.frame: 6 x 29</caption>\n",
       "<thead>\n",
       "\t<tr><th></th><th scope=col>long</th><th scope=col>lat</th><th scope=col>year</th><th scope=col>TimePeriod</th><th scope=col>RCP</th><th scope=col>scenario</th><th scope=col>treecanopy</th><th scope=col>Ann_Herb</th><th scope=col>Bare</th><th scope=col>Herb</th><th scope=col>...</th><th scope=col>PPT_Annual</th><th scope=col>T_Winter</th><th scope=col>T_Summer</th><th scope=col>T_Annual</th><th scope=col>Tmax_Summer</th><th scope=col>Tmin_Winter</th><th scope=col>VWC_Winter_whole</th><th scope=col>VWC_Spring_whole</th><th scope=col>VWC_Summer_whole</th><th scope=col>VWC_Fall_whole</th></tr>\n",
       "\t<tr><th></th><th scope=col>&lt;dbl&gt;</th><th scope=col>&lt;dbl&gt;</th><th scope=col>&lt;int&gt;</th><th scope=col>&lt;chr&gt;</th><th scope=col>&lt;dbl&gt;</th><th scope=col>&lt;chr&gt;</th><th scope=col>&lt;int&gt;</th><th scope=col>&lt;int&gt;</th><th scope=col>&lt;int&gt;</th><th scope=col>&lt;int&gt;</th><th scope=col>...</th><th scope=col>&lt;dbl&gt;</th><th scope=col>&lt;dbl&gt;</th><th scope=col>&lt;dbl&gt;</th><th scope=col>&lt;dbl&gt;</th><th scope=col>&lt;dbl&gt;</th><th scope=col>&lt;dbl&gt;</th><th scope=col>&lt;dbl&gt;</th><th scope=col>&lt;dbl&gt;</th><th scope=col>&lt;dbl&gt;</th><th scope=col>&lt;dbl&gt;</th></tr>\n",
       "</thead>\n",
       "<tbody>\n",
       "\t<tr><th scope=row>1</th><td>-110.0472</td><td>37.60413</td><td>2021</td><td>NT</td><td>4.5</td><td>sc22</td><td>0</td><td>0</td><td>84</td><td>5</td><td>...</td><td>6.37</td><td> 1.6303330</td><td>24.50402</td><td>24.50402</td><td>36.89</td><td>    NA</td><td>        NA</td><td>        NA</td><td>        NA</td><td>        NA</td></tr>\n",
       "\t<tr><th scope=row>2</th><td>-110.0472</td><td>37.60413</td><td>2021</td><td>NT</td><td>4.5</td><td>sc22</td><td>0</td><td>0</td><td>84</td><td>5</td><td>...</td><td>  NA</td><td>        NA</td><td>      NA</td><td>      NA</td><td>   NA</td><td>-12.77</td><td>0.11465181</td><td>0.07876399</td><td>0.04351426</td><td>0.05128101</td></tr>\n",
       "\t<tr><th scope=row>3</th><td>-110.0472</td><td>37.60413</td><td>2021</td><td>NT</td><td>4.5</td><td>sc23</td><td>0</td><td>0</td><td>84</td><td>5</td><td>...</td><td>3.09</td><td> 1.3890560</td><td>24.11043</td><td>24.11043</td><td>37.95</td><td>    NA</td><td>        NA</td><td>        NA</td><td>        NA</td><td>        NA</td></tr>\n",
       "\t<tr><th scope=row>4</th><td>-110.0472</td><td>37.60413</td><td>2021</td><td>NT</td><td>4.5</td><td>sc23</td><td>0</td><td>0</td><td>84</td><td>5</td><td>...</td><td>  NA</td><td>        NA</td><td>      NA</td><td>      NA</td><td>   NA</td><td>-18.96</td><td>0.13022107</td><td>0.09641216</td><td>0.04123221</td><td>0.09224133</td></tr>\n",
       "\t<tr><th scope=row>5</th><td>-110.0472</td><td>37.60413</td><td>2021</td><td>NT</td><td>4.5</td><td>sc24</td><td>0</td><td>0</td><td>84</td><td>5</td><td>...</td><td>6.87</td><td>-0.3343889</td><td>25.54266</td><td>10.31321</td><td>37.74</td><td>    NA</td><td>        NA</td><td>        NA</td><td>        NA</td><td>        NA</td></tr>\n",
       "\t<tr><th scope=row>6</th><td>-110.0472</td><td>37.60413</td><td>2021</td><td>NT</td><td>4.5</td><td>sc24</td><td>0</td><td>0</td><td>84</td><td>5</td><td>...</td><td>  NA</td><td>        NA</td><td>      NA</td><td>      NA</td><td>   NA</td><td>-16.23</td><td>0.07788562</td><td>0.08624593</td><td>0.04210388</td><td>0.07432109</td></tr>\n",
       "</tbody>\n",
       "</table>\n"
      ],
      "text/latex": [
       "A data.frame: 6 x 29\n",
       "\\begin{tabular}{r|lllllllllllllllllllll}\n",
       "  & long & lat & year & TimePeriod & RCP & scenario & treecanopy & Ann\\_Herb & Bare & Herb & ... & PPT\\_Annual & T\\_Winter & T\\_Summer & T\\_Annual & Tmax\\_Summer & Tmin\\_Winter & VWC\\_Winter\\_whole & VWC\\_Spring\\_whole & VWC\\_Summer\\_whole & VWC\\_Fall\\_whole\\\\\n",
       "  & <dbl> & <dbl> & <int> & <chr> & <dbl> & <chr> & <int> & <int> & <int> & <int> & ... & <dbl> & <dbl> & <dbl> & <dbl> & <dbl> & <dbl> & <dbl> & <dbl> & <dbl> & <dbl>\\\\\n",
       "\\hline\n",
       "\t1 & -110.0472 & 37.60413 & 2021 & NT & 4.5 & sc22 & 0 & 0 & 84 & 5 & ... & 6.37 &  1.6303330 & 24.50402 & 24.50402 & 36.89 &     NA &         NA &         NA &         NA &         NA\\\\\n",
       "\t2 & -110.0472 & 37.60413 & 2021 & NT & 4.5 & sc22 & 0 & 0 & 84 & 5 & ... &   NA &         NA &       NA &       NA &    NA & -12.77 & 0.11465181 & 0.07876399 & 0.04351426 & 0.05128101\\\\\n",
       "\t3 & -110.0472 & 37.60413 & 2021 & NT & 4.5 & sc23 & 0 & 0 & 84 & 5 & ... & 3.09 &  1.3890560 & 24.11043 & 24.11043 & 37.95 &     NA &         NA &         NA &         NA &         NA\\\\\n",
       "\t4 & -110.0472 & 37.60413 & 2021 & NT & 4.5 & sc23 & 0 & 0 & 84 & 5 & ... &   NA &         NA &       NA &       NA &    NA & -18.96 & 0.13022107 & 0.09641216 & 0.04123221 & 0.09224133\\\\\n",
       "\t5 & -110.0472 & 37.60413 & 2021 & NT & 4.5 & sc24 & 0 & 0 & 84 & 5 & ... & 6.87 & -0.3343889 & 25.54266 & 10.31321 & 37.74 &     NA &         NA &         NA &         NA &         NA\\\\\n",
       "\t6 & -110.0472 & 37.60413 & 2021 & NT & 4.5 & sc24 & 0 & 0 & 84 & 5 & ... &   NA &         NA &       NA &       NA &    NA & -16.23 & 0.07788562 & 0.08624593 & 0.04210388 & 0.07432109\\\\\n",
       "\\end{tabular}\n"
      ],
      "text/markdown": [
       "\n",
       "A data.frame: 6 x 29\n",
       "\n",
       "| <!--/--> | long &lt;dbl&gt; | lat &lt;dbl&gt; | year &lt;int&gt; | TimePeriod &lt;chr&gt; | RCP &lt;dbl&gt; | scenario &lt;chr&gt; | treecanopy &lt;int&gt; | Ann_Herb &lt;int&gt; | Bare &lt;int&gt; | Herb &lt;int&gt; | ... ... | PPT_Annual &lt;dbl&gt; | T_Winter &lt;dbl&gt; | T_Summer &lt;dbl&gt; | T_Annual &lt;dbl&gt; | Tmax_Summer &lt;dbl&gt; | Tmin_Winter &lt;dbl&gt; | VWC_Winter_whole &lt;dbl&gt; | VWC_Spring_whole &lt;dbl&gt; | VWC_Summer_whole &lt;dbl&gt; | VWC_Fall_whole &lt;dbl&gt; |\n",
       "|---|---|---|---|---|---|---|---|---|---|---|---|---|---|---|---|---|---|---|---|---|---|\n",
       "| 1 | -110.0472 | 37.60413 | 2021 | NT | 4.5 | sc22 | 0 | 0 | 84 | 5 | ... | 6.37 |  1.6303330 | 24.50402 | 24.50402 | 36.89 |     NA |         NA |         NA |         NA |         NA |\n",
       "| 2 | -110.0472 | 37.60413 | 2021 | NT | 4.5 | sc22 | 0 | 0 | 84 | 5 | ... |   NA |         NA |       NA |       NA |    NA | -12.77 | 0.11465181 | 0.07876399 | 0.04351426 | 0.05128101 |\n",
       "| 3 | -110.0472 | 37.60413 | 2021 | NT | 4.5 | sc23 | 0 | 0 | 84 | 5 | ... | 3.09 |  1.3890560 | 24.11043 | 24.11043 | 37.95 |     NA |         NA |         NA |         NA |         NA |\n",
       "| 4 | -110.0472 | 37.60413 | 2021 | NT | 4.5 | sc23 | 0 | 0 | 84 | 5 | ... |   NA |         NA |       NA |       NA |    NA | -18.96 | 0.13022107 | 0.09641216 | 0.04123221 | 0.09224133 |\n",
       "| 5 | -110.0472 | 37.60413 | 2021 | NT | 4.5 | sc24 | 0 | 0 | 84 | 5 | ... | 6.87 | -0.3343889 | 25.54266 | 10.31321 | 37.74 |     NA |         NA |         NA |         NA |         NA |\n",
       "| 6 | -110.0472 | 37.60413 | 2021 | NT | 4.5 | sc24 | 0 | 0 | 84 | 5 | ... |   NA |         NA |       NA |       NA |    NA | -16.23 | 0.07788562 | 0.08624593 | 0.04210388 | 0.07432109 |\n",
       "\n"
      ],
      "text/plain": [
       "  long      lat      year TimePeriod RCP scenario treecanopy Ann_Herb Bare Herb\n",
       "1 -110.0472 37.60413 2021 NT         4.5 sc22     0          0        84   5   \n",
       "2 -110.0472 37.60413 2021 NT         4.5 sc22     0          0        84   5   \n",
       "3 -110.0472 37.60413 2021 NT         4.5 sc23     0          0        84   5   \n",
       "4 -110.0472 37.60413 2021 NT         4.5 sc23     0          0        84   5   \n",
       "5 -110.0472 37.60413 2021 NT         4.5 sc24     0          0        84   5   \n",
       "6 -110.0472 37.60413 2021 NT         4.5 sc24     0          0        84   5   \n",
       "  ... PPT_Annual T_Winter   T_Summer T_Annual Tmax_Summer Tmin_Winter\n",
       "1 ... 6.37        1.6303330 24.50402 24.50402 36.89           NA     \n",
       "2 ...   NA               NA       NA       NA    NA       -12.77     \n",
       "3 ... 3.09        1.3890560 24.11043 24.11043 37.95           NA     \n",
       "4 ...   NA               NA       NA       NA    NA       -18.96     \n",
       "5 ... 6.87       -0.3343889 25.54266 10.31321 37.74           NA     \n",
       "6 ...   NA               NA       NA       NA    NA       -16.23     \n",
       "  VWC_Winter_whole VWC_Spring_whole VWC_Summer_whole VWC_Fall_whole\n",
       "1         NA               NA               NA               NA    \n",
       "2 0.11465181       0.07876399       0.04351426       0.05128101    \n",
       "3         NA               NA               NA               NA    \n",
       "4 0.13022107       0.09641216       0.04123221       0.09224133    \n",
       "5         NA               NA               NA               NA    \n",
       "6 0.07788562       0.08624593       0.04210388       0.07432109    "
      ]
     },
     "metadata": {},
     "output_type": "display_data"
    }
   ],
   "source": [
    "head(nabr)\n",
    "head(nearterm)"
   ]
  }
 ],
 "metadata": {
  "kernelspec": {
   "display_name": "R",
   "language": "R",
   "name": "ir"
  },
  "language_info": {
   "codemirror_mode": "r",
   "file_extension": ".r",
   "mimetype": "text/x-r-source",
   "name": "R",
   "pygments_lexer": "r",
   "version": "4.3.3"
  }
 },
 "nbformat": 4,
 "nbformat_minor": 2
}
